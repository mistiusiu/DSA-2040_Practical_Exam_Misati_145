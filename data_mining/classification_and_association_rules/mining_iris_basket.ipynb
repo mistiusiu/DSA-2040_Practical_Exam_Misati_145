{
 "cells": [
  {
   "cell_type": "markdown",
   "id": "0ff4f0b3",
   "metadata": {},
   "source": [
    "# Classification and Association Rule Mining Iris Data"
   ]
  }
 ],
 "metadata": {
  "language_info": {
   "name": "python"
  }
 },
 "nbformat": 4,
 "nbformat_minor": 5
}
