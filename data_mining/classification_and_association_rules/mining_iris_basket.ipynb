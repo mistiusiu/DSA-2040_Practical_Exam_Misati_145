{
 "cells": [
  {
   "cell_type": "markdown",
   "id": "0ff4f0b3",
   "metadata": {},
   "source": [
    "# Classification and Association Rule Mining Iris Data"
   ]
  },
  {
   "cell_type": "markdown",
   "id": "3156e314-7043-4c46-8345-b663253ec330",
   "metadata": {},
   "source": [
    "## Modules"
   ]
  },
  {
   "cell_type": "code",
   "execution_count": 1,
   "id": "81a48b18-1ca6-4edb-9c10-86bac5a94852",
   "metadata": {},
   "outputs": [],
   "source": [
    "from sklearn.datasets import load_iris\n",
    "from sklearn.preprocessing import MinMaxScaler, LabelEncoder\n",
    "from sklearn.model_selection import train_test_split\n",
    "from sklearn.tree import DecisionTreeClassifier, plot_tree\n",
    "from sklearn.neighbors import KNeighborsClassifier\n",
    "from sklearn.metrics import accuracy_score, precision_score, recall_score, f1_score, classification_report\n",
    "from mlxtend.frequent_patterns import apriori, association_rules\n",
    "from mlxtend.preprocessing import TransactionEncoder\n",
    "\n",
    "import seaborn as sns\n",
    "import matplotlib.pyplot as plt\n",
    "import pandas as pd\n",
    "import random"
   ]
  },
  {
   "cell_type": "markdown",
   "id": "75b0fd5a-c864-402c-a602-4c86abe4e3f2",
   "metadata": {},
   "source": [
    "## Utility Functions"
   ]
  },
  {
   "cell_type": "code",
   "execution_count": 2,
   "id": "efb36ba7-e381-4dfc-a4b7-0852d6e988f8",
   "metadata": {},
   "outputs": [],
   "source": [
    "def split_data(X, y, test_size=0.2, random_state=42):\n",
    "    \"\"\"\n",
    "    Splits the data into training and test sets (default 80/20 split).\n",
    "\n",
    "    Parameters:\n",
    "    - X: Features (independent variables)\n",
    "    - y: Target (dependent variable)\n",
    "    - test_size: Proportion of the dataset to include in the test split (default is 0.2)\n",
    "    - random_state: Seed for random number generator (default is 42 for reproducibility)\n",
    "\n",
    "    Returns:\n",
    "    - X_train, X_test, y_train, y_test: Split datasets\n",
    "    \"\"\"\n",
    "    X_train, X_test, y_train, y_test = train_test_split(X, y, test_size=test_size, random_state=random_state)\n",
    "    return X_train, X_test, y_train, y_test"
   ]
  },
  {
   "cell_type": "code",
   "execution_count": 3,
   "id": "53ada237-f1b3-48c4-aec5-e5bfec07e5da",
   "metadata": {},
   "outputs": [],
   "source": [
    "def generate_transactions():\n",
    "    random.seed(123)\n",
    "    items_pool = ['milk', 'bread', 'beer', 'diapers', 'eggs', 'butter', 'cheese', 'yogurt', 'juice', 'cereal',\n",
    "              'chocolate', 'coffee', 'tea', 'apples', 'bananas', 'grapes', 'oranges', 'chips', 'soda', 'cookies']\n",
    "\n",
    "    transactions = []\n",
    "    for _ in range(20):  # 20–50 transactions\n",
    "        basket = random.choices(items_pool, k=random.randint(3, 8))\n",
    "        transactions.append(list(set(basket)))  # remove duplicates\n",
    "\n",
    "    return transactions"
   ]
  },
  {
   "cell_type": "markdown",
   "id": "c8eb4f2a-343a-4ffd-a39d-c175065ac00b",
   "metadata": {},
   "source": [
    "## Classification"
   ]
  },
  {
   "cell_type": "markdown",
   "id": "77d1c63e-03aa-4cbc-9633-82b59e4777a3",
   "metadata": {},
   "source": [
    "### Data Loading"
   ]
  },
  {
   "cell_type": "code",
   "execution_count": 4,
   "id": "3c4ff703-3f4f-4bae-ad6f-c80ece71fa10",
   "metadata": {},
   "outputs": [],
   "source": [
    "iris = load_iris()\n",
    "iris_df = pd.DataFrame(data=iris.data, columns=iris.feature_names)"
   ]
  },
  {
   "cell_type": "code",
   "execution_count": 5,
   "id": "3cacf0b0-a5bb-4f8a-b515-f855a5bdca09",
   "metadata": {},
   "outputs": [],
   "source": [
    "iris_df['species'] = iris.target\n",
    "\n",
    "species_mapping = {0: 'setosa', 1: 'versicolor', 2: 'virginica'}\n",
    "iris_df['species'] = iris_df['species'].map(species_mapping)\n",
    "\n",
    "label_encoder = LabelEncoder()\n",
    "iris_df['species_encoded'] = label_encoder.fit_transform(iris_df['species'])"
   ]
  },
  {
   "cell_type": "code",
   "execution_count": 6,
   "id": "780a8eca-3884-48e5-a1ee-a4df26eb8faa",
   "metadata": {},
   "outputs": [
    {
     "data": {
      "text/html": [
       "<div>\n",
       "<style scoped>\n",
       "    .dataframe tbody tr th:only-of-type {\n",
       "        vertical-align: middle;\n",
       "    }\n",
       "\n",
       "    .dataframe tbody tr th {\n",
       "        vertical-align: top;\n",
       "    }\n",
       "\n",
       "    .dataframe thead th {\n",
       "        text-align: right;\n",
       "    }\n",
       "</style>\n",
       "<table border=\"1\" class=\"dataframe\">\n",
       "  <thead>\n",
       "    <tr style=\"text-align: right;\">\n",
       "      <th></th>\n",
       "      <th>sepal length (cm)</th>\n",
       "      <th>sepal width (cm)</th>\n",
       "      <th>petal length (cm)</th>\n",
       "      <th>petal width (cm)</th>\n",
       "      <th>species</th>\n",
       "      <th>species_encoded</th>\n",
       "    </tr>\n",
       "  </thead>\n",
       "  <tbody>\n",
       "    <tr>\n",
       "      <th>0</th>\n",
       "      <td>5.1</td>\n",
       "      <td>3.5</td>\n",
       "      <td>1.4</td>\n",
       "      <td>0.2</td>\n",
       "      <td>setosa</td>\n",
       "      <td>0</td>\n",
       "    </tr>\n",
       "    <tr>\n",
       "      <th>1</th>\n",
       "      <td>4.9</td>\n",
       "      <td>3.0</td>\n",
       "      <td>1.4</td>\n",
       "      <td>0.2</td>\n",
       "      <td>setosa</td>\n",
       "      <td>0</td>\n",
       "    </tr>\n",
       "    <tr>\n",
       "      <th>2</th>\n",
       "      <td>4.7</td>\n",
       "      <td>3.2</td>\n",
       "      <td>1.3</td>\n",
       "      <td>0.2</td>\n",
       "      <td>setosa</td>\n",
       "      <td>0</td>\n",
       "    </tr>\n",
       "    <tr>\n",
       "      <th>3</th>\n",
       "      <td>4.6</td>\n",
       "      <td>3.1</td>\n",
       "      <td>1.5</td>\n",
       "      <td>0.2</td>\n",
       "      <td>setosa</td>\n",
       "      <td>0</td>\n",
       "    </tr>\n",
       "    <tr>\n",
       "      <th>4</th>\n",
       "      <td>5.0</td>\n",
       "      <td>3.6</td>\n",
       "      <td>1.4</td>\n",
       "      <td>0.2</td>\n",
       "      <td>setosa</td>\n",
       "      <td>0</td>\n",
       "    </tr>\n",
       "  </tbody>\n",
       "</table>\n",
       "</div>"
      ],
      "text/plain": [
       "   sepal length (cm)  sepal width (cm)  petal length (cm)  petal width (cm)  \\\n",
       "0                5.1               3.5                1.4               0.2   \n",
       "1                4.9               3.0                1.4               0.2   \n",
       "2                4.7               3.2                1.3               0.2   \n",
       "3                4.6               3.1                1.5               0.2   \n",
       "4                5.0               3.6                1.4               0.2   \n",
       "\n",
       "  species  species_encoded  \n",
       "0  setosa                0  \n",
       "1  setosa                0  \n",
       "2  setosa                0  \n",
       "3  setosa                0  \n",
       "4  setosa                0  "
      ]
     },
     "execution_count": 6,
     "metadata": {},
     "output_type": "execute_result"
    }
   ],
   "source": [
    "iris_df.head(5)"
   ]
  },
  {
   "cell_type": "markdown",
   "id": "e63b38d2-df6d-44ca-9d90-a9df6bb840a0",
   "metadata": {},
   "source": [
    "### Data Preprocessing"
   ]
  },
  {
   "cell_type": "code",
   "execution_count": 7,
   "id": "2e2d71bd-5230-4dce-82b4-af991b32e8ee",
   "metadata": {},
   "outputs": [],
   "source": [
    "scaler = MinMaxScaler()\n",
    "\n",
    "iris_scaled = iris_df.copy()\n",
    "iris_scaled[iris.feature_names] = scaler.fit_transform(iris_scaled[iris.feature_names])"
   ]
  },
  {
   "cell_type": "code",
   "execution_count": 8,
   "id": "1c848cd1-520c-4e16-be1b-85632b283717",
   "metadata": {},
   "outputs": [
    {
     "data": {
      "text/html": [
       "<div>\n",
       "<style scoped>\n",
       "    .dataframe tbody tr th:only-of-type {\n",
       "        vertical-align: middle;\n",
       "    }\n",
       "\n",
       "    .dataframe tbody tr th {\n",
       "        vertical-align: top;\n",
       "    }\n",
       "\n",
       "    .dataframe thead th {\n",
       "        text-align: right;\n",
       "    }\n",
       "</style>\n",
       "<table border=\"1\" class=\"dataframe\">\n",
       "  <thead>\n",
       "    <tr style=\"text-align: right;\">\n",
       "      <th></th>\n",
       "      <th>sepal length (cm)</th>\n",
       "      <th>sepal width (cm)</th>\n",
       "      <th>petal length (cm)</th>\n",
       "      <th>petal width (cm)</th>\n",
       "      <th>species</th>\n",
       "      <th>species_encoded</th>\n",
       "    </tr>\n",
       "  </thead>\n",
       "  <tbody>\n",
       "    <tr>\n",
       "      <th>0</th>\n",
       "      <td>0.222222</td>\n",
       "      <td>0.625000</td>\n",
       "      <td>0.067797</td>\n",
       "      <td>0.041667</td>\n",
       "      <td>setosa</td>\n",
       "      <td>0</td>\n",
       "    </tr>\n",
       "    <tr>\n",
       "      <th>1</th>\n",
       "      <td>0.166667</td>\n",
       "      <td>0.416667</td>\n",
       "      <td>0.067797</td>\n",
       "      <td>0.041667</td>\n",
       "      <td>setosa</td>\n",
       "      <td>0</td>\n",
       "    </tr>\n",
       "    <tr>\n",
       "      <th>2</th>\n",
       "      <td>0.111111</td>\n",
       "      <td>0.500000</td>\n",
       "      <td>0.050847</td>\n",
       "      <td>0.041667</td>\n",
       "      <td>setosa</td>\n",
       "      <td>0</td>\n",
       "    </tr>\n",
       "    <tr>\n",
       "      <th>3</th>\n",
       "      <td>0.083333</td>\n",
       "      <td>0.458333</td>\n",
       "      <td>0.084746</td>\n",
       "      <td>0.041667</td>\n",
       "      <td>setosa</td>\n",
       "      <td>0</td>\n",
       "    </tr>\n",
       "    <tr>\n",
       "      <th>4</th>\n",
       "      <td>0.194444</td>\n",
       "      <td>0.666667</td>\n",
       "      <td>0.067797</td>\n",
       "      <td>0.041667</td>\n",
       "      <td>setosa</td>\n",
       "      <td>0</td>\n",
       "    </tr>\n",
       "  </tbody>\n",
       "</table>\n",
       "</div>"
      ],
      "text/plain": [
       "   sepal length (cm)  sepal width (cm)  petal length (cm)  petal width (cm)  \\\n",
       "0           0.222222          0.625000           0.067797          0.041667   \n",
       "1           0.166667          0.416667           0.067797          0.041667   \n",
       "2           0.111111          0.500000           0.050847          0.041667   \n",
       "3           0.083333          0.458333           0.084746          0.041667   \n",
       "4           0.194444          0.666667           0.067797          0.041667   \n",
       "\n",
       "  species  species_encoded  \n",
       "0  setosa                0  \n",
       "1  setosa                0  \n",
       "2  setosa                0  \n",
       "3  setosa                0  \n",
       "4  setosa                0  "
      ]
     },
     "execution_count": 8,
     "metadata": {},
     "output_type": "execute_result"
    }
   ],
   "source": [
    "iris_scaled.head()"
   ]
  },
  {
   "cell_type": "markdown",
   "id": "588b2403-547b-4130-a156-295e9d70ec7a",
   "metadata": {},
   "source": [
    "### Data Encoding and Splitting"
   ]
  },
  {
   "cell_type": "code",
   "execution_count": 9,
   "id": "172ab0ac-2f77-4ea7-9a19-d31fdbf2729a",
   "metadata": {},
   "outputs": [],
   "source": [
    "X = iris_scaled[iris.feature_names]\n",
    "y = iris_scaled['species_encoded']"
   ]
  },
  {
   "cell_type": "code",
   "execution_count": 10,
   "id": "74669251-2157-4d06-a055-7654a4de2e04",
   "metadata": {},
   "outputs": [],
   "source": [
    "X_train, X_test, y_train, y_test = split_data(X, y)"
   ]
  },
  {
   "cell_type": "markdown",
   "id": "d785b9ab-9cf1-4f83-a8b2-6a136bd6fa5b",
   "metadata": {},
   "source": [
    "### Data Classification"
   ]
  },
  {
   "cell_type": "markdown",
   "id": "6f5879a5-0bde-43a5-b226-3bfdc65a981d",
   "metadata": {},
   "source": [
    "#### Decision Tree Classifier"
   ]
  },
  {
   "cell_type": "markdown",
   "id": "518c14f3-3ea4-4a3c-90db-2f2316e4af00",
   "metadata": {},
   "source": [
    "##### Model Training"
   ]
  },
  {
   "cell_type": "code",
   "execution_count": 11,
   "id": "be14a6e2-df9b-4217-8e9e-4cd81f6e772a",
   "metadata": {},
   "outputs": [],
   "source": [
    "dt_model = DecisionTreeClassifier(random_state=42)\n",
    "dt_model.fit(X_train, y_train)\n",
    "y_pred_dt = dt_model.predict(X_test)"
   ]
  },
  {
   "cell_type": "markdown",
   "id": "a5b25514-e31e-4093-bebe-6f0e466995ec",
   "metadata": {},
   "source": [
    "##### Metrics Computation"
   ]
  },
  {
   "cell_type": "code",
   "execution_count": 12,
   "id": "899c7594-ff51-4d04-8a68-6ba9e3317170",
   "metadata": {},
   "outputs": [],
   "source": [
    "acc_dt = accuracy_score(y_test, y_pred_dt)\n",
    "prec_dt = precision_score(y_test, y_pred_dt, average='weighted')\n",
    "rec_dt = recall_score(y_test, y_pred_dt, average='weighted')\n",
    "f1_dt = f1_score(y_test, y_pred_dt, average='weighted')"
   ]
  },
  {
   "cell_type": "markdown",
   "id": "a75cfad9-bbe9-4897-84ad-189b3530ee6f",
   "metadata": {},
   "source": [
    "##### Display Model Metrics"
   ]
  },
  {
   "cell_type": "code",
   "execution_count": 13,
   "id": "234f1b08-9652-4680-8780-42c85a18f757",
   "metadata": {},
   "outputs": [
    {
     "name": "stdout",
     "output_type": "stream",
     "text": [
      "Decision Tree Classifier\n",
      "Accuracy:  1.0000\n",
      "Precision: 1.0000\n",
      "Recall:    1.0000\n",
      "F1-score:  1.0000\n"
     ]
    }
   ],
   "source": [
    "print(\"Decision Tree Classifier\")\n",
    "print(f\"Accuracy:  {acc_dt:.4f}\")\n",
    "print(f\"Precision: {prec_dt:.4f}\")\n",
    "print(f\"Recall:    {rec_dt:.4f}\")\n",
    "print(f\"F1-score:  {f1_dt:.4f}\")"
   ]
  },
  {
   "cell_type": "code",
   "execution_count": 14,
   "id": "c8dcfd4e-136d-4c4f-b90a-b53b58b0c326",
   "metadata": {},
   "outputs": [
    {
     "name": "stdout",
     "output_type": "stream",
     "text": [
      "              precision    recall  f1-score   support\n",
      "\n",
      "      setosa       1.00      1.00      1.00        10\n",
      "  versicolor       1.00      1.00      1.00         9\n",
      "   virginica       1.00      1.00      1.00        11\n",
      "\n",
      "    accuracy                           1.00        30\n",
      "   macro avg       1.00      1.00      1.00        30\n",
      "weighted avg       1.00      1.00      1.00        30\n",
      "\n"
     ]
    }
   ],
   "source": [
    "print(classification_report(y_test, y_pred_dt, target_names=label_encoder.classes_))"
   ]
  },
  {
   "cell_type": "markdown",
   "id": "fa440fa1-94ce-4a5b-9ae3-68f60421899d",
   "metadata": {},
   "source": [
    "##### Visualisation"
   ]
  },
  {
   "cell_type": "code",
   "execution_count": 15,
   "id": "9ae27b40-7d3a-4ac2-986d-0db39723745b",
   "metadata": {},
   "outputs": [
    {
     "data": {
      "image/png": "[encoded data removed]",
      "text/plain": [
       "<Figure size 1200x800 with 1 Axes>"
      ]
     },
     "metadata": {},
     "output_type": "display_data"
    }
   ],
   "source": [
    "plt.figure(figsize=(12, 8))\n",
    "plot_tree(dt_model, feature_names=iris.feature_names, class_names=label_encoder.classes_, filled=True)\n",
    "plt.savefig(\"decision_tree_iris.png\", dpi=300)\n",
    "plt.show()"
   ]
  },
  {
   "cell_type": "markdown",
   "id": "05bf6ed3-5af8-439d-9268-7236f9ba7e75",
   "metadata": {},
   "source": [
    "#### KNN with k=5"
   ]
  },
  {
   "cell_type": "markdown",
   "id": "3a120b75-d64c-49b5-9dd1-51da122488f1",
   "metadata": {},
   "source": [
    "##### Model Training"
   ]
  },
  {
   "cell_type": "code",
   "execution_count": 16,
   "id": "430fcd35-d1dd-4fc8-a04f-329e0a541d6e",
   "metadata": {},
   "outputs": [],
   "source": [
    "knn_model = KNeighborsClassifier(n_neighbors=5)\n",
    "knn_model.fit(X_train, y_train)\n",
    "y_pred_knn = knn_model.predict(X_test)"
   ]
  },
  {
   "cell_type": "markdown",
   "id": "38767208-7774-4010-9695-2a6bdb126f2e",
   "metadata": {},
   "source": [
    "##### Metrics Computation"
   ]
  },
  {
   "cell_type": "code",
   "execution_count": 17,
   "id": "6abb7ee4-d993-45dd-9775-e2c6eaf2c3f0",
   "metadata": {},
   "outputs": [],
   "source": [
    "acc_knn = accuracy_score(y_test, y_pred_knn)\n",
    "prec_knn = precision_score(y_test, y_pred_knn, average='weighted')\n",
    "rec_knn = recall_score(y_test, y_pred_knn, average='weighted')\n",
    "f1_knn = f1_score(y_test, y_pred_knn, average='weighted')"
   ]
  },
  {
   "cell_type": "markdown",
   "id": "09128304-68ad-40e7-9ab7-e85e8c1e45f0",
   "metadata": {},
   "source": [
    "##### Display Model Metrics"
   ]
  },
  {
   "cell_type": "code",
   "execution_count": 18,
   "id": "54eea148-face-4958-aedb-acfd552b4144",
   "metadata": {},
   "outputs": [
    {
     "name": "stdout",
     "output_type": "stream",
     "text": [
      "KNN Classifier (k=5)\n",
      "Accuracy:  1.0000\n",
      "Precision: 1.0000\n",
      "Recall:    1.0000\n",
      "F1-score:  1.0000\n",
      "\n",
      "Classification Report:\n"
     ]
    }
   ],
   "source": [
    "print(\"KNN Classifier (k=5)\")\n",
    "print(f\"Accuracy:  {acc_knn:.4f}\")\n",
    "print(f\"Precision: {prec_knn:.4f}\")\n",
    "print(f\"Recall:    {rec_knn:.4f}\")\n",
    "print(f\"F1-score:  {f1_knn:.4f}\")\n",
    "print(\"\\nClassification Report:\")"
   ]
  },
  {
   "cell_type": "code",
   "execution_count": 19,
   "id": "d57991d1-9826-4bce-be1a-3f1c81c76847",
   "metadata": {},
   "outputs": [
    {
     "name": "stdout",
     "output_type": "stream",
     "text": [
      "              precision    recall  f1-score   support\n",
      "\n",
      "      setosa       1.00      1.00      1.00        10\n",
      "  versicolor       1.00      1.00      1.00         9\n",
      "   virginica       1.00      1.00      1.00        11\n",
      "\n",
      "    accuracy                           1.00        30\n",
      "   macro avg       1.00      1.00      1.00        30\n",
      "weighted avg       1.00      1.00      1.00        30\n",
      "\n"
     ]
    }
   ],
   "source": [
    "print(classification_report(y_test, y_pred_knn, target_names=label_encoder.classes_))"
   ]
  },
  {
   "cell_type": "markdown",
   "id": "ae0807dc-f93e-4ba6-8a52-8ecbaa6891de",
   "metadata": {},
   "source": [
    "#### Decision Tree vs KNN with k=5"
   ]
  },
  {
   "cell_type": "code",
   "execution_count": 20,
   "id": "ef4bb2b1-6425-4065-99b9-7c7fb822f40c",
   "metadata": {},
   "outputs": [
    {
     "name": "stdout",
     "output_type": "stream",
     "text": [
      "Both models performed equally well.\n"
     ]
    }
   ],
   "source": [
    "if acc_dt > acc_knn:\n",
    "    print(\"Decision Tree performed better — it can model exact class boundaries in the Iris dataset.\")\n",
    "elif acc_knn > acc_dt:\n",
    "    print(\"KNN performed better — the scaled features improved distance-based classification.\")\n",
    "else:\n",
    "    print(\"Both models performed equally well.\")"
   ]
  },
  {
   "cell_type": "markdown",
   "id": "5cc2f3e8-d4b1-477d-a25c-ceb38be71337",
   "metadata": {},
   "source": [
    "Both the Decision Tree Classifier and the K-Nearest Neighbours (KNN, $k=5$) models achieved perfect accuracy on the Iris dataset. This outcome reflects the dataset’s high degree of feature separability, particularly in petal measurements, which serve as strong predictors of species. The relatively small size and balanced nature of the dataset, combined with its lack of noise, create ideal conditions for these algorithms to perform optimally. Decision Trees excel at learning clear, rule-based splits from well-structured data, while KNN benefits from the tight clustering of samples within species. While perfect scores demonstrate the models’ ability to capture the dataset’s underlying structure, they also highlight a limitation: performance on real-world, noisier datasets may not be as high. Therefore, such results should be interpreted as a benchmark of algorithm capability under ideal conditions rather than an expectation for more complex applications."
   ]
  },
  {
   "cell_type": "markdown",
   "id": "28d0d4e3-9ce8-414b-9e73-2f827c0041d6",
   "metadata": {},
   "source": [
    "## Association Rule Mining"
   ]
  },
  {
   "cell_type": "markdown",
   "id": "b1b7e7f7-1cdc-47d0-9a16-1fdf9fbfd3dd",
   "metadata": {},
   "source": [
    "### Configuration"
   ]
  },
  {
   "cell_type": "code",
   "execution_count": 21,
   "id": "4cf177d9-35fc-4cf4-a6a2-a55f2ca34e48",
   "metadata": {},
   "outputs": [],
   "source": [
    "random.seed(123)"
   ]
  },
  {
   "cell_type": "markdown",
   "id": "01588786-1e8d-4471-b9a5-8090f971f442",
   "metadata": {},
   "source": [
    "### Synthetic Data Generation"
   ]
  },
  {
   "cell_type": "code",
   "execution_count": 22,
   "id": "e88ff951-63b1-4436-8b17-238f79afd6b9",
   "metadata": {},
   "outputs": [],
   "source": [
    "transactions = generate_transactions()"
   ]
  },
  {
   "cell_type": "markdown",
   "id": "a8ef0fa7-674a-4601-99e4-e9422433ab2e",
   "metadata": {},
   "source": [
    "### One-Hot Encoding"
   ]
  },
  {
   "cell_type": "code",
   "execution_count": 23,
   "id": "5ee9a919-2771-4805-ac8f-869af9426d13",
   "metadata": {},
   "outputs": [],
   "source": [
    "te = TransactionEncoder()\n",
    "te_array = te.fit(transactions).transform(transactions)\n",
    "df_transactions = pd.DataFrame(te_array, columns=te.columns_)"
   ]
  },
  {
   "cell_type": "markdown",
   "id": "1b58fdd2-bec4-4925-bb22-9de8cda7be76",
   "metadata": {},
   "source": [
    "### Apriori Algorithm"
   ]
  },
  {
   "cell_type": "markdown",
   "id": "8876892d-e2cf-4134-9cd9-8c4ad976ecaa",
   "metadata": {},
   "source": [
    "#### Compute Rules"
   ]
  },
  {
   "cell_type": "code",
   "execution_count": 24,
   "id": "5cd8a212-9f49-4851-af6a-7baec54e23b7",
   "metadata": {},
   "outputs": [],
   "source": [
    "frequent_itemsets = apriori(df_transactions, min_support=0.2, use_colnames=True)\n",
    "rules = association_rules(frequent_itemsets, metric=\"confidence\", min_threshold=0.5)"
   ]
  },
  {
   "cell_type": "markdown",
   "id": "8a4d1efd-0d4b-4561-86ea-171551ce38c6",
   "metadata": {},
   "source": [
    "#### Display Top 5 Rules"
   ]
  },
  {
   "cell_type": "code",
   "execution_count": 25,
   "id": "1df0aa97-9415-4ab4-bb6d-1869f70c57ef",
   "metadata": {},
   "outputs": [
    {
     "name": "stdout",
     "output_type": "stream",
     "text": [
      "Top 5 Association Rules by Lift:\n",
      "   antecedents  consequents  support  confidence      lift\n",
      "0  (chocolate)       (milk)      0.2    0.666667  3.333333\n",
      "1       (milk)  (chocolate)      0.2    1.000000  3.333333\n",
      "2  (chocolate)        (tea)      0.2    0.666667  1.904762\n",
      "3        (tea)  (chocolate)      0.2    0.571429  1.904762\n"
     ]
    }
   ],
   "source": [
    "rules_sorted = rules.sort_values(by='lift', ascending=False).head(5)\n",
    "print(\"Top 5 Association Rules by Lift:\")\n",
    "print(rules_sorted[['antecedents', 'consequents', 'support', 'confidence', 'lift']])"
   ]
  },
  {
   "cell_type": "markdown",
   "id": "e08dfefe-961b-4b0a-a730-d2660131b68b",
   "metadata": {},
   "source": [
    "The association rules derived from the synthetic dataset (`seed = 123`) show a strong relationship between the purchase of *chocolate* and *milk*. The first rule — “chocolate → milk” — has a **support** of 0.2, meaning that 20% of all transactions contain both chocolate and milk. Its **confidence** is approximately 0.67, indicating that when chocolate is purchased, milk is also purchased about two-thirds of the time. The **lift** of 3.33 means that the likelihood of buying milk increases by more than three times when chocolate is purchased, compared to milk’s baseline purchase rate.\n",
    "\n",
    "The second rule — “milk → chocolate” — also has 20% **support** but with 100% **confidence**, meaning that in this dataset, every transaction containing milk also contains chocolate. The **lift** remains 3.33, reinforcing the strong positive association.\n",
    "\n",
    "While these patterns suggest a close link between the two products, it’s important to note that the data here is *synthetic*, so the relationships may not reflect real-world consumer behaviour. In practice, such rules could be used for **cross-promotions** (e.g., bundling chocolate and milk), targeted marketing, or store layout optimisation to increase sales of related items."
   ]
  }
 ],
 "metadata": {
  "kernelspec": {
   "display_name": "Python 3 (ipykernel)",
   "language": "python",
   "name": "python3"
  },
  "language_info": {
   "codemirror_mode": {
    "name": "ipython",
    "version": 3
   },
   "file_extension": ".py",
   "mimetype": "text/x-python",
   "name": "python",
   "nbconvert_exporter": "python",
   "pygments_lexer": "ipython3",
   "version": "3.12.3"
  }
 },
 "nbformat": 4,
 "nbformat_minor": 5
}
