{
 "cells": [
  {
   "cell_type": "markdown",
   "id": "26c36749",
   "metadata": {},
   "source": [
    "# Clustering Iris Data"
   ]
  }
 ],
 "metadata": {
  "language_info": {
   "name": "python"
  }
 },
 "nbformat": 4,
 "nbformat_minor": 5
}
