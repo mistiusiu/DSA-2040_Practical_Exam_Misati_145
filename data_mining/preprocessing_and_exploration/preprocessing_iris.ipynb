{
 "cells": [
  {
   "cell_type": "markdown",
   "id": "ce839341",
   "metadata": {},
   "source": [
    "# Iris Data Preprocessing and Exploration"
   ]
  }
 ],
 "metadata": {
  "language_info": {
   "name": "python"
  }
 },
 "nbformat": 4,
 "nbformat_minor": 5
}
