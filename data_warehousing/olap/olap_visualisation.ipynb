{
 "cells": [
  {
   "cell_type": "markdown",
   "id": "dc82c446-ebd2-40f7-b535-fc1b6d237716",
   "metadata": {},
   "source": [
    "# OLAP Visualisations"
   ]
  },
  {
   "cell_type": "markdown",
   "id": "0135efd0-8eb1-44ef-aa35-c79e63706e11",
   "metadata": {},
   "source": [
    "## Modules"
   ]
  },
  {
   "cell_type": "code",
   "execution_count": 1,
   "id": "a0f08b9e-27e7-42ee-84c3-22c648db7fda",
   "metadata": {},
   "outputs": [],
   "source": [
    "import pandas as pd\n",
    "import plotly.express as px\n",
    "import os"
   ]
  },
  {
   "cell_type": "markdown",
   "id": "f8e1962d-5fc5-462e-a92e-a1031d67b551",
   "metadata": {},
   "source": [
    "## Roll-up on TotalSales by Country and Quarter"
   ]
  },
  {
   "cell_type": "code",
   "execution_count": 2,
   "id": "81520fc6-4052-4cc4-8ba1-09969ad728b3",
   "metadata": {},
   "outputs": [],
   "source": [
    "def visualize_rollup_sales_by_country_and_quarter(rollup_file):\n",
    "    # Load the data from CSV file\n",
    "    rollup_data = pd.read_csv(rollup_file)\n",
    "\n",
    "    # Create a line plot showing sales by country and quarter\n",
    "    fig = px.line(rollup_data, x='Quarter', y='TotalSales', color='Country',\n",
    "                  title='Total Sales by Country and Quarter',\n",
    "                  labels={'TotalSales': 'Total Sales', 'Quarter': 'Quarter', 'Country': 'Country'},\n",
    "                  markers=True)\n",
    "\n",
    "    # Save the figure as a PNG file with the same name as the CSV file\n",
    "    fig.write_image(f\"{rollup_file.split('.')[0]}.png\")\n",
    "    fig.show()"
   ]
  },
  {
   "cell_type": "code",
   "execution_count": 3,
   "id": "a9d41996-4373-4003-94c5-05abf613878d",
   "metadata": {},
   "outputs": [
    {
     "data": {
      "application/vnd.plotly.v1+json": {
       "config": {
        "plotlyServerURL": "https://plot.ly"
       },
       "data": [
        {
         "hovertemplate": "Country=Australia<br>Quarter=%{x}<br>Total Sales=%{y}<extra></extra>",
         "legendgroup": "Australia",
         "line": {
          "color": "#636efa",
          "dash": "solid"
         },
         "marker": {
          "symbol": "circle"
         },
         "mode": "lines+markers",
         "name": "Australia",
         "orientation": "v",
         "showlegend": true,
         "type": "scatter",
         "x": {
          "bdata": "AQIDBA==",
          "dtype": "i1"
         },
         "xaxis": "x",
         "y": {
          "bdata": "9ihcj8K9h0DD9Shcj/KUQB+F61G4YoxACtejcD1ooEA=",
          "dtype": "f8"
         },
         "yaxis": "y"
        },
        {
         "hovertemplate": "Country=Austria<br>Quarter=%{x}<br>Total Sales=%{y}<extra></extra>",
         "legendgroup": "Austria",
         "line": {
          "color": "#EF553B",
          "dash": "solid"
         },
         "marker": {
          "symbol": "circle"
         },
         "mode": "lines+markers",
         "name": "Austria",
         "orientation": "v",
         "showlegend": true,
         "type": "scatter",
         "x": {
          "bdata": "AQIDBA==",
          "dtype": "i1"
         },
         "xaxis": "x",
         "y": {
          "bdata": "ZmZmZmZ2f0AzMzMzM7NVQHsUrkfhGmdAAAAAAABYgkA=",
          "dtype": "f8"
         },
         "yaxis": "y"
        },
        {
         "hovertemplate": "Country=Bahrain<br>Quarter=%{x}<br>Total Sales=%{y}<extra></extra>",
         "legendgroup": "Bahrain",
         "line": {
          "color": "#00cc96",
          "dash": "solid"
         },
         "marker": {
          "symbol": "circle"
         },
         "mode": "lines+markers",
         "name": "Bahrain",
         "orientation": "v",
         "showlegend": true,
         "type": "scatter",
         "x": {
          "bdata": "Ag==",
          "dtype": "i1"
         },
         "xaxis": "x",
         "y": {
          "bdata": "mpmZmZmZRUA=",
          "dtype": "f8"
         },
         "yaxis": "y"
        },
        {
         "hovertemplate": "Country=Belgium<br>Quarter=%{x}<br>Total Sales=%{y}<extra></extra>",
         "legendgroup": "Belgium",
         "line": {
          "color": "#ab63fa",
          "dash": "solid"
         },
         "marker": {
          "symbol": "circle"
         },
         "mode": "lines+markers",
         "name": "Belgium",
         "orientation": "v",
         "showlegend": true,
         "type": "scatter",
         "x": {
          "bdata": "AQIDBA==",
          "dtype": "i1"
         },
         "xaxis": "x",
         "y": {
          "bdata": "ZmZmZmbchkB7FK5H4TiLQD0K16Nwf5NACtejcD0WnUA=",
          "dtype": "f8"
         },
         "yaxis": "y"
        },
        {
         "hovertemplate": "Country=Brazil<br>Quarter=%{x}<br>Total Sales=%{y}<extra></extra>",
         "legendgroup": "Brazil",
         "line": {
          "color": "#FFA15A",
          "dash": "solid"
         },
         "marker": {
          "symbol": "circle"
         },
         "mode": "lines+markers",
         "name": "Brazil",
         "orientation": "v",
         "showlegend": true,
         "type": "scatter",
         "x": {
          "bdata": "Ag==",
          "dtype": "i1"
         },
         "xaxis": "x",
         "y": {
          "bdata": "zczMzMzMM0A=",
          "dtype": "f8"
         },
         "yaxis": "y"
        },
        {
         "hovertemplate": "Country=Canada<br>Quarter=%{x}<br>Total Sales=%{y}<extra></extra>",
         "legendgroup": "Canada",
         "line": {
          "color": "#19d3f3",
          "dash": "solid"
         },
         "marker": {
          "symbol": "circle"
         },
         "mode": "lines+markers",
         "name": "Canada",
         "orientation": "v",
         "showlegend": true,
         "type": "scatter",
         "x": {
          "bdata": "AQID",
          "dtype": "i1"
         },
         "xaxis": "x",
         "y": {
          "bdata": "ZmZmZmZmJEDsUbgehRuBQClcj8L1lIFA",
          "dtype": "f8"
         },
         "yaxis": "y"
        },
        {
         "hovertemplate": "Country=Channel Islands<br>Quarter=%{x}<br>Total Sales=%{y}<extra></extra>",
         "legendgroup": "Channel Islands",
         "line": {
          "color": "#FF6692",
          "dash": "solid"
         },
         "marker": {
          "symbol": "circle"
         },
         "mode": "lines+markers",
         "name": "Channel Islands",
         "orientation": "v",
         "showlegend": true,
         "type": "scatter",
         "x": {
          "bdata": "AQIDBA==",
          "dtype": "i1"
         },
         "xaxis": "x",
         "y": {
          "bdata": "7FG4HoUTd0BmZmZmZnZ2QAAAAAAACH1AMzMzMzN7f0A=",
          "dtype": "f8"
         },
         "yaxis": "y"
        },
        {
         "hovertemplate": "Country=Cyprus<br>Quarter=%{x}<br>Total Sales=%{y}<extra></extra>",
         "legendgroup": "Cyprus",
         "line": {
          "color": "#B6E880",
          "dash": "solid"
         },
         "marker": {
          "symbol": "circle"
         },
         "mode": "lines+markers",
         "name": "Cyprus",
         "orientation": "v",
         "showlegend": true,
         "type": "scatter",
         "x": {
          "bdata": "AQIDBA==",
          "dtype": "i1"
         },
         "xaxis": "x",
         "y": {
          "bdata": "UrgehetTgkAAAAAAAJh+QDMzMzMzv3hAmpmZmZlJbkA=",
          "dtype": "f8"
         },
         "yaxis": "y"
        },
        {
         "hovertemplate": "Country=Czech Republic<br>Quarter=%{x}<br>Total Sales=%{y}<extra></extra>",
         "legendgroup": "Czech Republic",
         "line": {
          "color": "#FF97FF",
          "dash": "solid"
         },
         "marker": {
          "symbol": "circle"
         },
         "mode": "lines+markers",
         "name": "Czech Republic",
         "orientation": "v",
         "showlegend": true,
         "type": "scatter",
         "x": {
          "bdata": "AQQ=",
          "dtype": "i1"
         },
         "xaxis": "x",
         "y": {
          "bdata": "zczMzMzMQ0AAAAAAAABEQA==",
          "dtype": "f8"
         },
         "yaxis": "y"
        },
        {
         "hovertemplate": "Country=Denmark<br>Quarter=%{x}<br>Total Sales=%{y}<extra></extra>",
         "legendgroup": "Denmark",
         "line": {
          "color": "#FECB52",
          "dash": "solid"
         },
         "marker": {
          "symbol": "circle"
         },
         "mode": "lines+markers",
         "name": "Denmark",
         "orientation": "v",
         "showlegend": true,
         "type": "scatter",
         "x": {
          "bdata": "AQIDBA==",
          "dtype": "i1"
         },
         "xaxis": "x",
         "y": {
          "bdata": "FK5H4XqUZ0AAAAAAADhtQAAAAAAAmHBAAAAAAAAgdkA=",
          "dtype": "f8"
         },
         "yaxis": "y"
        },
        {
         "hovertemplate": "Country=EIRE<br>Quarter=%{x}<br>Total Sales=%{y}<extra></extra>",
         "legendgroup": "EIRE",
         "line": {
          "color": "#636efa",
          "dash": "solid"
         },
         "marker": {
          "symbol": "circle"
         },
         "mode": "lines+markers",
         "name": "EIRE",
         "orientation": "v",
         "showlegend": true,
         "type": "scatter",
         "x": {
          "bdata": "AQIDBA==",
          "dtype": "i1"
         },
         "xaxis": "x",
         "y": {
          "bdata": "hetRuN5At0DNzMzMTPyhQFyPwvVoJ7pA9ihcj8LqskA=",
          "dtype": "f8"
         },
         "yaxis": "y"
        },
        {
         "hovertemplate": "Country=European Community<br>Quarter=%{x}<br>Total Sales=%{y}<extra></extra>",
         "legendgroup": "European Community",
         "line": {
          "color": "#EF553B",
          "dash": "solid"
         },
         "marker": {
          "symbol": "circle"
         },
         "mode": "lines+markers",
         "name": "European Community",
         "orientation": "v",
         "showlegend": true,
         "type": "scatter",
         "x": {
          "bdata": "AgM=",
          "dtype": "i1"
         },
         "xaxis": "x",
         "y": {
          "bdata": "AAAAAACgWkAAAAAAAABOQA==",
          "dtype": "f8"
         },
         "yaxis": "y"
        },
        {
         "hovertemplate": "Country=Finland<br>Quarter=%{x}<br>Total Sales=%{y}<extra></extra>",
         "legendgroup": "Finland",
         "line": {
          "color": "#00cc96",
          "dash": "solid"
         },
         "marker": {
          "symbol": "circle"
         },
         "mode": "lines+markers",
         "name": "Finland",
         "orientation": "v",
         "showlegend": true,
         "type": "scatter",
         "x": {
          "bdata": "AQIDBA==",
          "dtype": "i1"
         },
         "xaxis": "x",
         "y": {
          "bdata": "rkfhehR7lEA9CtejcBVwQJqZmZmZZYVAzczMzMwVlEA=",
          "dtype": "f8"
         },
         "yaxis": "y"
        },
        {
         "hovertemplate": "Country=France<br>Quarter=%{x}<br>Total Sales=%{y}<extra></extra>",
         "legendgroup": "France",
         "line": {
          "color": "#ab63fa",
          "dash": "solid"
         },
         "marker": {
          "symbol": "circle"
         },
         "mode": "lines+markers",
         "name": "France",
         "orientation": "v",
         "showlegend": true,
         "type": "scatter",
         "x": {
          "bdata": "AQIDBA==",
          "dtype": "i1"
         },
         "xaxis": "x",
         "y": {
          "bdata": "PQrXozDasEB7FK5HIZyyQFK4HoXrBrBAMzMzMxM1y0A=",
          "dtype": "f8"
         },
         "yaxis": "y"
        },
        {
         "hovertemplate": "Country=Germany<br>Quarter=%{x}<br>Total Sales=%{y}<extra></extra>",
         "legendgroup": "Germany",
         "line": {
          "color": "#FFA15A",
          "dash": "solid"
         },
         "marker": {
          "symbol": "circle"
         },
         "mode": "lines+markers",
         "name": "Germany",
         "orientation": "v",
         "showlegend": true,
         "type": "scatter",
         "x": {
          "bdata": "AQIDBA==",
          "dtype": "i1"
         },
         "xaxis": "x",
         "y": {
          "bdata": "mpmZmVmusUDXo3A9StayQNejcD3KbrRAMzMzMxNAwUA=",
          "dtype": "f8"
         },
         "yaxis": "y"
        },
        {
         "hovertemplate": "Country=Greece<br>Quarter=%{x}<br>Total Sales=%{y}<extra></extra>",
         "legendgroup": "Greece",
         "line": {
          "color": "#19d3f3",
          "dash": "solid"
         },
         "marker": {
          "symbol": "circle"
         },
         "mode": "lines+markers",
         "name": "Greece",
         "orientation": "v",
         "showlegend": true,
         "type": "scatter",
         "x": {
          "bdata": "AQIDBA==",
          "dtype": "i1"
         },
         "xaxis": "x",
         "y": {
          "bdata": "UrgehetRZkAAAAAAAABZQAAAAAAAAFlAMzMzMzMzKUA=",
          "dtype": "f8"
         },
         "yaxis": "y"
        },
        {
         "hovertemplate": "Country=Iceland<br>Quarter=%{x}<br>Total Sales=%{y}<extra></extra>",
         "legendgroup": "Iceland",
         "line": {
          "color": "#FF6692",
          "dash": "solid"
         },
         "marker": {
          "symbol": "circle"
         },
         "mode": "lines+markers",
         "name": "Iceland",
         "orientation": "v",
         "showlegend": true,
         "type": "scatter",
         "x": {
          "bdata": "AQIDBA==",
          "dtype": "i1"
         },
         "xaxis": "x",
         "y": {
          "bdata": "NDMzMzOzQUAAAAAAAABAQDMzMzMzc1hAmpmZmZkZNEA=",
          "dtype": "f8"
         },
         "yaxis": "y"
        },
        {
         "hovertemplate": "Country=Israel<br>Quarter=%{x}<br>Total Sales=%{y}<extra></extra>",
         "legendgroup": "Israel",
         "line": {
          "color": "#B6E880",
          "dash": "solid"
         },
         "marker": {
          "symbol": "circle"
         },
         "mode": "lines+markers",
         "name": "Israel",
         "orientation": "v",
         "showlegend": true,
         "type": "scatter",
         "x": {
          "bdata": "AQME",
          "dtype": "i1"
         },
         "xaxis": "x",
         "y": {
          "bdata": "AAAAAAAAIUAAAAAAAKBkQAAAAAAAQDRA",
          "dtype": "f8"
         },
         "yaxis": "y"
        },
        {
         "hovertemplate": "Country=Italy<br>Quarter=%{x}<br>Total Sales=%{y}<extra></extra>",
         "legendgroup": "Italy",
         "line": {
          "color": "#FF97FF",
          "dash": "solid"
         },
         "marker": {
          "symbol": "circle"
         },
         "mode": "lines+markers",
         "name": "Italy",
         "orientation": "v",
         "showlegend": true,
         "type": "scatter",
         "x": {
          "bdata": "AQIDBA==",
          "dtype": "i1"
         },
         "xaxis": "x",
         "y": {
          "bdata": "mpmZmZl5ckCF61G4HsVmQAAAAAAAgHJAzczMzMyclEA=",
          "dtype": "f8"
         },
         "yaxis": "y"
        },
        {
         "hovertemplate": "Country=Japan<br>Quarter=%{x}<br>Total Sales=%{y}<extra></extra>",
         "legendgroup": "Japan",
         "line": {
          "color": "#FECB52",
          "dash": "solid"
         },
         "marker": {
          "symbol": "circle"
         },
         "mode": "lines+markers",
         "name": "Japan",
         "orientation": "v",
         "showlegend": true,
         "type": "scatter",
         "x": {
          "bdata": "AQIDBA==",
          "dtype": "i1"
         },
         "xaxis": "x",
         "y": {
          "bdata": "CtejcD26Y0AzMzMzMzeIQI/C9Shc72BAj8L1KFyEtUA=",
          "dtype": "f8"
         },
         "yaxis": "y"
        },
        {
         "hovertemplate": "Country=Lebanon<br>Quarter=%{x}<br>Total Sales=%{y}<extra></extra>",
         "legendgroup": "Lebanon",
         "line": {
          "color": "#636efa",
          "dash": "solid"
         },
         "marker": {
          "symbol": "circle"
         },
         "mode": "lines+markers",
         "name": "Lebanon",
         "orientation": "v",
         "showlegend": true,
         "type": "scatter",
         "x": {
          "bdata": "AQ==",
          "dtype": "i1"
         },
         "xaxis": "x",
         "y": {
          "bdata": "NDMzMzOzQUA=",
          "dtype": "f8"
         },
         "yaxis": "y"
        },
        {
         "hovertemplate": "Country=Malta<br>Quarter=%{x}<br>Total Sales=%{y}<extra></extra>",
         "legendgroup": "Malta",
         "line": {
          "color": "#EF553B",
          "dash": "solid"
         },
         "marker": {
          "symbol": "circle"
         },
         "mode": "lines+markers",
         "name": "Malta",
         "orientation": "v",
         "showlegend": true,
         "type": "scatter",
         "x": {
          "bdata": "AgME",
          "dtype": "i1"
         },
         "xaxis": "x",
         "y": {
          "bdata": "AAAAAADAZ0CamZmZmZlMQHE9CtejcDlA",
          "dtype": "f8"
         },
         "yaxis": "y"
        },
        {
         "hovertemplate": "Country=Netherlands<br>Quarter=%{x}<br>Total Sales=%{y}<extra></extra>",
         "legendgroup": "Netherlands",
         "line": {
          "color": "#00cc96",
          "dash": "solid"
         },
         "marker": {
          "symbol": "circle"
         },
         "mode": "lines+markers",
         "name": "Netherlands",
         "orientation": "v",
         "showlegend": true,
         "type": "scatter",
         "x": {
          "bdata": "AQIDBA==",
          "dtype": "i1"
         },
         "xaxis": "x",
         "y": {
          "bdata": "H4XrUbi+m0AAAAAAAOyuQPYoXI/CXJ1AzczMzKzBwkA=",
          "dtype": "f8"
         },
         "yaxis": "y"
        },
        {
         "hovertemplate": "Country=Norway<br>Quarter=%{x}<br>Total Sales=%{y}<extra></extra>",
         "legendgroup": "Norway",
         "line": {
          "color": "#ab63fa",
          "dash": "solid"
         },
         "marker": {
          "symbol": "circle"
         },
         "mode": "lines+markers",
         "name": "Norway",
         "orientation": "v",
         "showlegend": true,
         "type": "scatter",
         "x": {
          "bdata": "AQIDBA==",
          "dtype": "i1"
         },
         "xaxis": "x",
         "y": {
          "bdata": "ZmZmZmZKckDNzMzMzPCLQAAAAAAARI9AzczMzMy3lUA=",
          "dtype": "f8"
         },
         "yaxis": "y"
        },
        {
         "hovertemplate": "Country=Poland<br>Quarter=%{x}<br>Total Sales=%{y}<extra></extra>",
         "legendgroup": "Poland",
         "line": {
          "color": "#FFA15A",
          "dash": "solid"
         },
         "marker": {
          "symbol": "circle"
         },
         "mode": "lines+markers",
         "name": "Poland",
         "orientation": "v",
         "showlegend": true,
         "type": "scatter",
         "x": {
          "bdata": "AQIDBA==",
          "dtype": "i1"
         },
         "xaxis": "x",
         "y": {
          "bdata": "AAAAAAAgWUAAAAAAAIBtQM3MzMzM1GdAmpmZmZkZNEA=",
          "dtype": "f8"
         },
         "yaxis": "y"
        },
        {
         "hovertemplate": "Country=Portugal<br>Quarter=%{x}<br>Total Sales=%{y}<extra></extra>",
         "legendgroup": "Portugal",
         "line": {
          "color": "#19d3f3",
          "dash": "solid"
         },
         "marker": {
          "symbol": "circle"
         },
         "mode": "lines+markers",
         "name": "Portugal",
         "orientation": "v",
         "showlegend": true,
         "type": "scatter",
         "x": {
          "bdata": "AQIDBA==",
          "dtype": "i1"
         },
         "xaxis": "x",
         "y": {
          "bdata": "j8L1KPwT00BSuB6Fa8zVQI/C9SjsO+FASOF6FAbD4EA=",
          "dtype": "f8"
         },
         "yaxis": "y"
        },
        {
         "hovertemplate": "Country=RSA<br>Quarter=%{x}<br>Total Sales=%{y}<extra></extra>",
         "legendgroup": "RSA",
         "line": {
          "color": "#FF6692",
          "dash": "solid"
         },
         "marker": {
          "symbol": "circle"
         },
         "mode": "lines+markers",
         "name": "RSA",
         "orientation": "v",
         "showlegend": true,
         "type": "scatter",
         "x": {
          "bdata": "BA==",
          "dtype": "i1"
         },
         "xaxis": "x",
         "y": {
          "bdata": "MzMzMzMzL0A=",
          "dtype": "f8"
         },
         "yaxis": "y"
        },
        {
         "hovertemplate": "Country=Saudi Arabia<br>Quarter=%{x}<br>Total Sales=%{y}<extra></extra>",
         "legendgroup": "Saudi Arabia",
         "line": {
          "color": "#B6E880",
          "dash": "solid"
         },
         "marker": {
          "symbol": "circle"
         },
         "mode": "lines+markers",
         "name": "Saudi Arabia",
         "orientation": "v",
         "showlegend": true,
         "type": "scatter",
         "x": {
          "bdata": "AQ==",
          "dtype": "i1"
         },
         "xaxis": "x",
         "y": {
          "bdata": "ZmZmZmZmMUA=",
          "dtype": "f8"
         },
         "yaxis": "y"
        },
        {
         "hovertemplate": "Country=Singapore<br>Quarter=%{x}<br>Total Sales=%{y}<extra></extra>",
         "legendgroup": "Singapore",
         "line": {
          "color": "#FF97FF",
          "dash": "solid"
         },
         "marker": {
          "symbol": "circle"
         },
         "mode": "lines+markers",
         "name": "Singapore",
         "orientation": "v",
         "showlegend": true,
         "type": "scatter",
         "x": {
          "bdata": "AQIDBA==",
          "dtype": "i1"
         },
         "xaxis": "x",
         "y": {
          "bdata": "zczMzMyMSkDYo3A9Ci6qQM3MzMzMrGJAFK5H4XrnoEA=",
          "dtype": "f8"
         },
         "yaxis": "y"
        },
        {
         "hovertemplate": "Country=Spain<br>Quarter=%{x}<br>Total Sales=%{y}<extra></extra>",
         "legendgroup": "Spain",
         "line": {
          "color": "#FECB52",
          "dash": "solid"
         },
         "marker": {
          "symbol": "circle"
         },
         "mode": "lines+markers",
         "name": "Spain",
         "orientation": "v",
         "showlegend": true,
         "type": "scatter",
         "x": {
          "bdata": "AQIDBA==",
          "dtype": "i1"
         },
         "xaxis": "x",
         "y": {
          "bdata": "UrgehWuooUDhehSuR0mVQFK4HoXr7J9A9ihcj0Ltp0A=",
          "dtype": "f8"
         },
         "yaxis": "y"
        },
        {
         "hovertemplate": "Country=Sweden<br>Quarter=%{x}<br>Total Sales=%{y}<extra></extra>",
         "legendgroup": "Sweden",
         "line": {
          "color": "#636efa",
          "dash": "solid"
         },
         "marker": {
          "symbol": "circle"
         },
         "mode": "lines+markers",
         "name": "Sweden",
         "orientation": "v",
         "showlegend": true,
         "type": "scatter",
         "x": {
          "bdata": "AQIDBA==",
          "dtype": "i1"
         },
         "xaxis": "x",
         "y": {
          "bdata": "AAAAAACQgEAAAAAAAMh0QAAAAAAAzpRApHA9Ctd5n0A=",
          "dtype": "f8"
         },
         "yaxis": "y"
        },
        {
         "hovertemplate": "Country=Switzerland<br>Quarter=%{x}<br>Total Sales=%{y}<extra></extra>",
         "legendgroup": "Switzerland",
         "line": {
          "color": "#EF553B",
          "dash": "solid"
         },
         "marker": {
          "symbol": "circle"
         },
         "mode": "lines+markers",
         "name": "Switzerland",
         "orientation": "v",
         "showlegend": true,
         "type": "scatter",
         "x": {
          "bdata": "AQIDBA==",
          "dtype": "i1"
         },
         "xaxis": "x",
         "y": {
          "bdata": "mpmZmZnpikCamZmZmX2KQPYoXI/CYZRAzczMzMwMkEA=",
          "dtype": "f8"
         },
         "yaxis": "y"
        },
        {
         "hovertemplate": "Country=USA<br>Quarter=%{x}<br>Total Sales=%{y}<extra></extra>",
         "legendgroup": "USA",
         "line": {
          "color": "#00cc96",
          "dash": "solid"
         },
         "marker": {
          "symbol": "circle"
         },
         "mode": "lines+markers",
         "name": "USA",
         "orientation": "v",
         "showlegend": true,
         "type": "scatter",
         "x": {
          "bdata": "AgQ=",
          "dtype": "i1"
         },
         "xaxis": "x",
         "y": {
          "bdata": "zczMzMzMM0BSuB6F69FOQA==",
          "dtype": "f8"
         },
         "yaxis": "y"
        },
        {
         "hovertemplate": "Country=United Arab Emirates<br>Quarter=%{x}<br>Total Sales=%{y}<extra></extra>",
         "legendgroup": "United Arab Emirates",
         "line": {
          "color": "#ab63fa",
          "dash": "solid"
         },
         "marker": {
          "symbol": "circle"
         },
         "mode": "lines+markers",
         "name": "United Arab Emirates",
         "orientation": "v",
         "showlegend": true,
         "type": "scatter",
         "x": {
          "bdata": "AQM=",
          "dtype": "i1"
         },
         "xaxis": "x",
         "y": {
          "bdata": "zczMzMzMM0AAAAAAANBnQA==",
          "dtype": "f8"
         },
         "yaxis": "y"
        },
        {
         "hovertemplate": "Country=United Kingdom<br>Quarter=%{x}<br>Total Sales=%{y}<extra></extra>",
         "legendgroup": "United Kingdom",
         "line": {
          "color": "#FFA15A",
          "dash": "solid"
         },
         "marker": {
          "symbol": "circle"
         },
         "mode": "lines+markers",
         "name": "United Kingdom",
         "orientation": "v",
         "showlegend": true,
         "type": "scatter",
         "x": {
          "bdata": "AQIDBA==",
          "dtype": "i1"
         },
         "xaxis": "x",
         "y": {
          "bdata": "mpmZmZXFDEE9CtejILsNQdv5fmpU0wpBzczMzAyfGkE=",
          "dtype": "f8"
         },
         "yaxis": "y"
        },
        {
         "hovertemplate": "Country=Unspecified<br>Quarter=%{x}<br>Total Sales=%{y}<extra></extra>",
         "legendgroup": "Unspecified",
         "line": {
          "color": "#19d3f3",
          "dash": "solid"
         },
         "marker": {
          "symbol": "circle"
         },
         "mode": "lines+markers",
         "name": "Unspecified",
         "orientation": "v",
         "showlegend": true,
         "type": "scatter",
         "x": {
          "bdata": "AgM=",
          "dtype": "i1"
         },
         "xaxis": "x",
         "y": {
          "bdata": "AAAAAADATEAK16NwPVpaQA==",
          "dtype": "f8"
         },
         "yaxis": "y"
        }
       ],
       "layout": {
        "legend": {
         "title": {
          "text": "Country"
         },
         "tracegroupgap": 0
        },
        "template": {
         "data": {
          "bar": [
           {
            "error_x": {
             "color": "#2a3f5f"
            },
            "error_y": {
             "color": "#2a3f5f"
            },
            "marker": {
             "line": {
              "color": "#E5ECF6",
              "width": 0.5
             },
             "pattern": {
              "fillmode": "overlay",
              "size": 10,
              "solidity": 0.2
             }
            },
            "type": "bar"
           }
          ],
          "barpolar": [
           {
            "marker": {
             "line": {
              "color": "#E5ECF6",
              "width": 0.5
             },
             "pattern": {
              "fillmode": "overlay",
              "size": 10,
              "solidity": 0.2
             }
            },
            "type": "barpolar"
           }
          ],
          "carpet": [
           {
            "aaxis": {
             "endlinecolor": "#2a3f5f",
             "gridcolor": "white",
             "linecolor": "white",
             "minorgridcolor": "white",
             "startlinecolor": "#2a3f5f"
            },
            "baxis": {
             "endlinecolor": "#2a3f5f",
             "gridcolor": "white",
             "linecolor": "white",
             "minorgridcolor": "white",
             "startlinecolor": "#2a3f5f"
            },
            "type": "carpet"
           }
          ],
          "choropleth": [
           {
            "colorbar": {
             "outlinewidth": 0,
             "ticks": ""
            },
            "type": "choropleth"
           }
          ],
          "contour": [
           {
            "colorbar": {
             "outlinewidth": 0,
             "ticks": ""
            },
            "colorscale": [
             [
              0,
              "#0d0887"
             ],
             [
              0.1111111111111111,
              "#46039f"
             ],
             [
              0.2222222222222222,
              "#7201a8"
             ],
             [
              0.3333333333333333,
              "#9c179e"
             ],
             [
              0.4444444444444444,
              "#bd3786"
             ],
             [
              0.5555555555555556,
              "#d8576b"
             ],
             [
              0.6666666666666666,
              "#ed7953"
             ],
             [
              0.7777777777777778,
              "#fb9f3a"
             ],
             [
              0.8888888888888888,
              "#fdca26"
             ],
             [
              1,
              "#f0f921"
             ]
            ],
            "type": "contour"
           }
          ],
          "contourcarpet": [
           {
            "colorbar": {
             "outlinewidth": 0,
             "ticks": ""
            },
            "type": "contourcarpet"
           }
          ],
          "heatmap": [
           {
            "colorbar": {
             "outlinewidth": 0,
             "ticks": ""
            },
            "colorscale": [
             [
              0,
              "#0d0887"
             ],
             [
              0.1111111111111111,
              "#46039f"
             ],
             [
              0.2222222222222222,
              "#7201a8"
             ],
             [
              0.3333333333333333,
              "#9c179e"
             ],
             [
              0.4444444444444444,
              "#bd3786"
             ],
             [
              0.5555555555555556,
              "#d8576b"
             ],
             [
              0.6666666666666666,
              "#ed7953"
             ],
             [
              0.7777777777777778,
              "#fb9f3a"
             ],
             [
              0.8888888888888888,
              "#fdca26"
             ],
             [
              1,
              "#f0f921"
             ]
            ],
            "type": "heatmap"
           }
          ],
          "histogram": [
           {
            "marker": {
             "pattern": {
              "fillmode": "overlay",
              "size": 10,
              "solidity": 0.2
             }
            },
            "type": "histogram"
           }
          ],
          "histogram2d": [
           {
            "colorbar": {
             "outlinewidth": 0,
             "ticks": ""
            },
            "colorscale": [
             [
              0,
              "#0d0887"
             ],
             [
              0.1111111111111111,
              "#46039f"
             ],
             [
              0.2222222222222222,
              "#7201a8"
             ],
             [
              0.3333333333333333,
              "#9c179e"
             ],
             [
              0.4444444444444444,
              "#bd3786"
             ],
             [
              0.5555555555555556,
              "#d8576b"
             ],
             [
              0.6666666666666666,
              "#ed7953"
             ],
             [
              0.7777777777777778,
              "#fb9f3a"
             ],
             [
              0.8888888888888888,
              "#fdca26"
             ],
             [
              1,
              "#f0f921"
             ]
            ],
            "type": "histogram2d"
           }
          ],
          "histogram2dcontour": [
           {
            "colorbar": {
             "outlinewidth": 0,
             "ticks": ""
            },
            "colorscale": [
             [
              0,
              "#0d0887"
             ],
             [
              0.1111111111111111,
              "#46039f"
             ],
             [
              0.2222222222222222,
              "#7201a8"
             ],
             [
              0.3333333333333333,
              "#9c179e"
             ],
             [
              0.4444444444444444,
              "#bd3786"
             ],
             [
              0.5555555555555556,
              "#d8576b"
             ],
             [
              0.6666666666666666,
              "#ed7953"
             ],
             [
              0.7777777777777778,
              "#fb9f3a"
             ],
             [
              0.8888888888888888,
              "#fdca26"
             ],
             [
              1,
              "#f0f921"
             ]
            ],
            "type": "histogram2dcontour"
           }
          ],
          "mesh3d": [
           {
            "colorbar": {
             "outlinewidth": 0,
             "ticks": ""
            },
            "type": "mesh3d"
           }
          ],
          "parcoords": [
           {
            "line": {
             "colorbar": {
              "outlinewidth": 0,
              "ticks": ""
             }
            },
            "type": "parcoords"
           }
          ],
          "pie": [
           {
            "automargin": true,
            "type": "pie"
           }
          ],
          "scatter": [
           {
            "fillpattern": {
             "fillmode": "overlay",
             "size": 10,
             "solidity": 0.2
            },
            "type": "scatter"
           }
          ],
          "scatter3d": [
           {
            "line": {
             "colorbar": {
              "outlinewidth": 0,
              "ticks": ""
             }
            },
            "marker": {
             "colorbar": {
              "outlinewidth": 0,
              "ticks": ""
             }
            },
            "type": "scatter3d"
           }
          ],
          "scattercarpet": [
           {
            "marker": {
             "colorbar": {
              "outlinewidth": 0,
              "ticks": ""
             }
            },
            "type": "scattercarpet"
           }
          ],
          "scattergeo": [
           {
            "marker": {
             "colorbar": {
              "outlinewidth": 0,
              "ticks": ""
             }
            },
            "type": "scattergeo"
           }
          ],
          "scattergl": [
           {
            "marker": {
             "colorbar": {
              "outlinewidth": 0,
              "ticks": ""
             }
            },
            "type": "scattergl"
           }
          ],
          "scattermap": [
           {
            "marker": {
             "colorbar": {
              "outlinewidth": 0,
              "ticks": ""
             }
            },
            "type": "scattermap"
           }
          ],
          "scattermapbox": [
           {
            "marker": {
             "colorbar": {
              "outlinewidth": 0,
              "ticks": ""
             }
            },
            "type": "scattermapbox"
           }
          ],
          "scatterpolar": [
           {
            "marker": {
             "colorbar": {
              "outlinewidth": 0,
              "ticks": ""
             }
            },
            "type": "scatterpolar"
           }
          ],
          "scatterpolargl": [
           {
            "marker": {
             "colorbar": {
              "outlinewidth": 0,
              "ticks": ""
             }
            },
            "type": "scatterpolargl"
           }
          ],
          "scatterternary": [
           {
            "marker": {
             "colorbar": {
              "outlinewidth": 0,
              "ticks": ""
             }
            },
            "type": "scatterternary"
           }
          ],
          "surface": [
           {
            "colorbar": {
             "outlinewidth": 0,
             "ticks": ""
            },
            "colorscale": [
             [
              0,
              "#0d0887"
             ],
             [
              0.1111111111111111,
              "#46039f"
             ],
             [
              0.2222222222222222,
              "#7201a8"
             ],
             [
              0.3333333333333333,
              "#9c179e"
             ],
             [
              0.4444444444444444,
              "#bd3786"
             ],
             [
              0.5555555555555556,
              "#d8576b"
             ],
             [
              0.6666666666666666,
              "#ed7953"
             ],
             [
              0.7777777777777778,
              "#fb9f3a"
             ],
             [
              0.8888888888888888,
              "#fdca26"
             ],
             [
              1,
              "#f0f921"
             ]
            ],
            "type": "surface"
           }
          ],
          "table": [
           {
            "cells": {
             "fill": {
              "color": "#EBF0F8"
             },
             "line": {
              "color": "white"
             }
            },
            "header": {
             "fill": {
              "color": "#C8D4E3"
             },
             "line": {
              "color": "white"
             }
            },
            "type": "table"
           }
          ]
         },
         "layout": {
          "annotationdefaults": {
           "arrowcolor": "#2a3f5f",
           "arrowhead": 0,
           "arrowwidth": 1
          },
          "autotypenumbers": "strict",
          "coloraxis": {
           "colorbar": {
            "outlinewidth": 0,
            "ticks": ""
           }
          },
          "colorscale": {
           "diverging": [
            [
             0,
             "#8e0152"
            ],
            [
             0.1,
             "#c51b7d"
            ],
            [
             0.2,
             "#de77ae"
            ],
            [
             0.3,
             "#f1b6da"
            ],
            [
             0.4,
             "#fde0ef"
            ],
            [
             0.5,
             "#f7f7f7"
            ],
            [
             0.6,
             "#e6f5d0"
            ],
            [
             0.7,
             "#b8e186"
            ],
            [
             0.8,
             "#7fbc41"
            ],
            [
             0.9,
             "#4d9221"
            ],
            [
             1,
             "#276419"
            ]
           ],
           "sequential": [
            [
             0,
             "#0d0887"
            ],
            [
             0.1111111111111111,
             "#46039f"
            ],
            [
             0.2222222222222222,
             "#7201a8"
            ],
            [
             0.3333333333333333,
             "#9c179e"
            ],
            [
             0.4444444444444444,
             "#bd3786"
            ],
            [
             0.5555555555555556,
             "#d8576b"
            ],
            [
             0.6666666666666666,
             "#ed7953"
            ],
            [
             0.7777777777777778,
             "#fb9f3a"
            ],
            [
             0.8888888888888888,
             "#fdca26"
            ],
            [
             1,
             "#f0f921"
            ]
           ],
           "sequentialminus": [
            [
             0,
             "#0d0887"
            ],
            [
             0.1111111111111111,
             "#46039f"
            ],
            [
             0.2222222222222222,
             "#7201a8"
            ],
            [
             0.3333333333333333,
             "#9c179e"
            ],
            [
             0.4444444444444444,
             "#bd3786"
            ],
            [
             0.5555555555555556,
             "#d8576b"
            ],
            [
             0.6666666666666666,
             "#ed7953"
            ],
            [
             0.7777777777777778,
             "#fb9f3a"
            ],
            [
             0.8888888888888888,
             "#fdca26"
            ],
            [
             1,
             "#f0f921"
            ]
           ]
          },
          "colorway": [
           "#636efa",
           "#EF553B",
           "#00cc96",
           "#ab63fa",
           "#FFA15A",
           "#19d3f3",
           "#FF6692",
           "#B6E880",
           "#FF97FF",
           "#FECB52"
          ],
          "font": {
           "color": "#2a3f5f"
          },
          "geo": {
           "bgcolor": "white",
           "lakecolor": "white",
           "landcolor": "#E5ECF6",
           "showlakes": true,
           "showland": true,
           "subunitcolor": "white"
          },
          "hoverlabel": {
           "align": "left"
          },
          "hovermode": "closest",
          "mapbox": {
           "style": "light"
          },
          "paper_bgcolor": "white",
          "plot_bgcolor": "#E5ECF6",
          "polar": {
           "angularaxis": {
            "gridcolor": "white",
            "linecolor": "white",
            "ticks": ""
           },
           "bgcolor": "#E5ECF6",
           "radialaxis": {
            "gridcolor": "white",
            "linecolor": "white",
            "ticks": ""
           }
          },
          "scene": {
           "xaxis": {
            "backgroundcolor": "#E5ECF6",
            "gridcolor": "white",
            "gridwidth": 2,
            "linecolor": "white",
            "showbackground": true,
            "ticks": "",
            "zerolinecolor": "white"
           },
           "yaxis": {
            "backgroundcolor": "#E5ECF6",
            "gridcolor": "white",
            "gridwidth": 2,
            "linecolor": "white",
            "showbackground": true,
            "ticks": "",
            "zerolinecolor": "white"
           },
           "zaxis": {
            "backgroundcolor": "#E5ECF6",
            "gridcolor": "white",
            "gridwidth": 2,
            "linecolor": "white",
            "showbackground": true,
            "ticks": "",
            "zerolinecolor": "white"
           }
          },
          "shapedefaults": {
           "line": {
            "color": "#2a3f5f"
           }
          },
          "ternary": {
           "aaxis": {
            "gridcolor": "white",
            "linecolor": "white",
            "ticks": ""
           },
           "baxis": {
            "gridcolor": "white",
            "linecolor": "white",
            "ticks": ""
           },
           "bgcolor": "#E5ECF6",
           "caxis": {
            "gridcolor": "white",
            "linecolor": "white",
            "ticks": ""
           }
          },
          "title": {
           "x": 0.05
          },
          "xaxis": {
           "automargin": true,
           "gridcolor": "white",
           "linecolor": "white",
           "ticks": "",
           "title": {
            "standoff": 15
           },
           "zerolinecolor": "white",
           "zerolinewidth": 2
          },
          "yaxis": {
           "automargin": true,
           "gridcolor": "white",
           "linecolor": "white",
           "ticks": "",
           "title": {
            "standoff": 15
           },
           "zerolinecolor": "white",
           "zerolinewidth": 2
          }
         }
        },
        "title": {
         "text": "Total Sales by Country and Quarter"
        },
        "xaxis": {
         "anchor": "y",
         "domain": [
          0,
          1
         ],
         "title": {
          "text": "Quarter"
         }
        },
        "yaxis": {
         "anchor": "x",
         "domain": [
          0,
          1
         ],
         "title": {
          "text": "Total Sales"
         }
        }
       }
      }
     },
     "metadata": {},
     "output_type": "display_data"
    }
   ],
   "source": [
    "visualize_rollup_sales_by_country_and_quarter('roll_up_on_total_sales_by_country_and_quarter.csv')"
   ]
  },
  {
   "cell_type": "markdown",
   "id": "d52391a8-6cec-4c23-ae98-6c030fd6f519",
   "metadata": {},
   "source": [
    "## Drill-down on a Particular Country"
   ]
  },
  {
   "cell_type": "code",
   "execution_count": 4,
   "id": "c5294df7-1bf7-4a77-b525-a7153eaed69e",
   "metadata": {},
   "outputs": [],
   "source": [
    "def visualize_drilldown_sales_for_country(drilldown_file):\n",
    "    # Load the data from CSV file\n",
    "    drilldown_data = pd.read_csv(drilldown_file)\n",
    "\n",
    "    # Create a scatter plot for sales details by invoice number\n",
    "    fig = px.scatter(drilldown_data, x='InvoiceNo', y='TotalSales', color='InvoiceDate',\n",
    "                     title='Sales Details by Invoice',\n",
    "                     labels={'TotalSales': 'Total Sales', 'InvoiceNo': 'Invoice Number', 'InvoiceDate': 'Invoice Date'})\n",
    "\n",
    "    # Save the figure as a PNG file with the same name as the CSV file\n",
    "    fig.write_image(f\"{drilldown_file.split('.')[0]}.png\")\n",
    "    fig.show()"
   ]
  },
  {
   "cell_type": "code",
   "execution_count": 5,
   "id": "585aaa52-c880-4b1f-ab48-628df07b603c",
   "metadata": {},
   "outputs": [
    {
     "data": {
      "application/vnd.plotly.v1+json": {
       "config": {
        "plotlyServerURL": "https://plot.ly"
       },
       "data": [
        {
         "hovertemplate": "Invoice Date=2010-12-09<br>Invoice Number=%{x}<br>Total Sales=%{y}<extra></extra>",
         "legendgroup": "2010-12-09",
         "marker": {
          "color": "#636efa",
          "symbol": "circle"
         },
         "mode": "markers",
         "name": "2010-12-09",
         "showlegend": true,
         "type": "scattergl",
         "x": {
          "bdata": "sDUIALM1CAC1NQgAuDUIAMA1CADBNQgAwjUIAMM1CADFNQgAyDUIAMk1CADPNQgA0DUIANE1CADTNQgA1DUIANU1CADWNQgA2TUIANw1CADdNQgA3jUIAN81CADgNQgA5jUIAOc1CADuNQgA8TUIAPU1CAD4NQgA+jUIAPs1CAD8NQgAATYIAAQ2CAAFNggACDYIAA02CAAONggAITYIACI2CAAjNggAJzYIACs2CAAsNggALTYIADM2CAA1NggANjYIADc2CAA4NggAOTYIADo2CAA7NggA",
          "dtype": "i4"
         },
         "xaxis": "x",
         "y": {
          "bdata": "ZmZmZmZmJ0AAAAAAAIAtQAAAAAAAgENAzczMzMzMH0AzMzMzMzMrQAAAAAAAAA5AzczMzMzML0AzMzMzMzP/P2ZmZmZm5kVAZmZmZmZm7j8AAAAAAAAuQClcj8L16J1AMzMzMzMzD0CamZmZmZk3QM3MzMzMzCBAAAAAAAAAEUAzMzMzMzMLQM3MzMzMzCdAZmZmZmZmCkBmZmZmZuZVQM3MzMzMzC9ANDMzMzOzIUAAAAAAAAA+QJqZmZmZmS5AZmZmZmZm/j8AAAAAAAAuQAAAAAAAAC5AmpmZmZlZQEAzMzMzM8NsQClcj8L1KBRAAAAAAAAAIUA0MzMzM7MxQAAAAAAAACRAAAAAAAAALkCamZmZmZk+QDQzMzMzMzlAAAAAAAAgUkAAAAAAAAAuQAAAAAAAADFACtejcD0KK0A0MzMzM7MxQAAAAAAAAC5AAAAAAABwZ0AAAAAAAIBQQAAAAAAAgDlAzczMzMzML0DNzMzMzMxHQBWuR+F6FFNANDMzMzOzIUAAAAAAAAAuQAAAAAAAAB5AZmZmZmZm/j8K16NwPQo7QDMzMzMzMw9A",
          "dtype": "f8"
         },
         "yaxis": "y"
        },
        {
         "hovertemplate": "Invoice Date=2010-12-10<br>Invoice Number=%{x}<br>Total Sales=%{y}<extra></extra>",
         "legendgroup": "2010-12-10",
         "marker": {
          "color": "#EF553B",
          "symbol": "circle"
         },
         "mode": "markers",
         "name": "2010-12-10",
         "showlegend": true,
         "type": "scattergl",
         "x": {
          "bdata": "PDYIAEA2CABCNggAQzYIAEQ2CABFNggARjYIAEc2CABINggASTYIAEo2CABLNggATjYIAE82CABQNggAUTYIAFI2CABTNggAVTYIAFY2CABXNggAWDYIAFk2CABaNggAWzYIAFw2CABdNggAXjYIAF82CABgNggAYTYIAGI2CABjNggAaDYIAIA2CACINggAijYIAIw2CACUNggAlzYIAJw2CACnNggAqDYIAKs2CACwNggAuDYIAMI2CADDNggAxDYIAMU2CADGNggAyDYIAMk2CADXNggA5jYIAOc2CADpNggA6jYIAOs2CADwNggA8TYIAPI2CADzNggA9DYIAPk2CAD7NggA/DYIAA==",
          "dtype": "i4"
         },
         "xaxis": "x",
         "y": {
          "bdata": "AAAAAAAAPkAAAAAAAABOQM3MzMzMzCtANDMzMzOzMUAAAAAAAAA+QAAAAAAAgDlAAAAAAACAOUAAAAAAAAAhQDQzMzMzszFAAAAAAAAAQUBmZmZmZmY3QGZmZmZmZiRAAAAAAACALUAAAAAAAFBpQAAAAAAA4GBAAAAAAADgUEBmZmZmZmbuPwAAAAAA4GBANDMzMzMzGUBmZmZmZmYUQGZmZmZmZgpAzczMzMzMJ0DNzMzMzMwjQM3MzMzMzCVAAAAAAADAQkAzMzMzMzNpQAAAAAAAABNAMzMzMzMzD0AAAAAAAIA/QJqZmZmZmRdAZmZmZmZm7j8zMzMzMzMbQDQzMzMzMzlAAAAAAADgUEDhehSuR+ExQDMzMzMzMw9AmpmZmZmZB0DNzMzMzMw3QM3MzMzMzDNAAAAAAACAMEDNzMzMzMwnQAAAAAAA4FBAAAAAAAAALkAAAAAAAAARQGZmZmZmZv4/MzMzMzMzK0AAAAAAAFBpQNajcD0K1xtAAAAAAACAMEAzMzMzMzNZQGZmZmZmZiRAMzMzMzMzC0AAAAAAAABOQOF6FK5H4do/mpmZmZn5Q0A0MzMzM7MxQAAAAAAAAC5AMzMzMzOzLUAzMzMzM7MtQAAAAAAAQGFAAAAAAAAATkAAAAAAAABOQM3MzMzMzCNAAAAAAACANkDNzMzMzMwnQM3MzMzMzAZAMzMzMzMz+z8=",
          "dtype": "f8"
         },
         "yaxis": "y"
        },
        {
         "hovertemplate": "Invoice Date=2010-12-12<br>Invoice Number=%{x}<br>Total Sales=%{y}<extra></extra>",
         "legendgroup": "2010-12-12",
         "marker": {
          "color": "#00cc96",
          "symbol": "circle"
         },
         "mode": "markers",
         "name": "2010-12-12",
         "showlegend": true,
         "type": "scattergl",
         "x": {
          "bdata": "/TYIAP42CAD/NggAADcIAAE3CAACNwgAAzcIAAY3CAAKNwgACzcIAA43CAAjNwgAKTcIADE3CAAyNwgAMzcIADQ3CAA1NwgARTcIAFE3CABVNwgAZjcIAGk3CAB4NwgAgTcIAIM3CACFNwgAhzcIAIg3CACLNwgAjDcIAI03CACONwgAjzcIAJA3CACRNwgAkjcIAJM3CACUNwgAlTcIAJY3CACXNwgA",
          "dtype": "i4"
         },
         "xaxis": "x",
         "y": {
          "bdata": "ZmZmZmZm7j/NzMzMzIw6QAAAAAAAADVAAAAAAAAAIUAAAAAAAAAZQAAAAAAAgDlAAAAAAAAADkAzMzMzMzP3P2ZmZmZmZv4/ZmZmZmZm7j8AAAAAAAAeQAAAAAAAAC5ACtejcD0KO0AAAAAAAAApQM3MzMzMzBBAZmZmZmZm7j9dj8L1KFxyQGZmZmZmZvo/AAAAAAAAHkBmZmZmZmYEQM3MzMzMzCNAZmZmZmbmI0DNzMzMzMw3QDMzMzMzMw9AMzMzMzMz/z9mZmZmZuZ1QM3MzMzMzCdAw/UoXI+CXkDNzMzMzMwgQOF6FK5H4SpAmpmZmZmZF0BmZmZmZmYUQArXo3A9Cvs/AAAAAAAADkCamZmZmRlKQGZmZmZm5jVAAAAAAAAAJUAAAAAAAIBpQAAAAAAAgGlAMzMzMzMzJ0AAAAAAAIA5QDMzMzMzM/8/",
          "dtype": "f8"
         },
         "yaxis": "y"
        },
        {
         "hovertemplate": "Invoice Date=2010-12-13<br>Invoice Number=%{x}<br>Total Sales=%{y}<extra></extra>",
         "legendgroup": "2010-12-13",
         "marker": {
          "color": "#ab63fa",
          "symbol": "circle"
         },
         "mode": "markers",
         "name": "2010-12-13",
         "showlegend": true,
         "type": "scattergl",
         "x": {
          "bdata": "mTcIAJo3CACbNwgAnjcIAJ83CACgNwgAoTcIAKQ3CAClNwgApjcIAKc3CACpNwgArTcIAL03CAC+NwgAxTcIAMc3CADQNwgA3zcIAOA3CADhNwgA4jcIAOQ3CADlNwgAATgIAAI4CAAFOAgABjgIAAc4CAAJOAgACjgIAAs4CAAMOAgADTgIAA44CAAPOAgAEDgIABE4CAAVOAgAFjgIABg4CAAbOAgAHDgIAB04CAAeOAgAHzgIACA4CAAhOAgAIjgIACM4CAAkOAgAJTgIACY4CAAnOAgAKDgIACk4CAArOAgALDgIAC04CAAvOAgANzgIADs4CAA=",
          "dtype": "i4"
         },
         "xaxis": "x",
         "y": {
          "bdata": "mpmZmZnZMUDXo3A9CldkQDQzMzMzs0FA7FG4HoVrbkAAAAAAAAA+QDMzMzMzMylAMzMzMzMzKUAAAAAAAIA5QGZmZmZmZlRAZmZmZmZmRECamZmZmZkuQJqZmZmZmT5AmpmZmZnZMUDNzMzMzMwnQGZmZmZmZgRAZmZmZmZm/j8AAAAAAIAzQJqZmZmZmSdAZmZmZmZmNEAzMzMzM7MtQAAAAAAAAE5AMzMzMzMzaUA0MzMzM7MxQDMzMzMzM+s/ZmZmZmZmJEAAAAAAAEA1QDQzMzMzMxlAzczMzMzMM0A0MzMzMzNJQM3MzMzMzCNAAAAAAACAKUAAAAAAAAAhQDQzMzMzMzlAAAAAAAAABEBmZmZmZmYKQDMzMzMzMw9AZmZmZmbmQkAzMzMzM7NNQDMzMzMzMy9AAAAAAADgT0CamZmZmZleQGZmZmZm5ktAzczMzMzMBkBmZmZmZmY0QJqZmZmZmS5AAAAAAAAAIUAAAAAAAIApQDMzMzMz8zNAMzMzMzMzOUA0MzMzM7NBQDQzMzMzszFAAAAAAAAALkAAAAAAAEBvQAAAAAAAgDlAAAAAAACAWUDNzMzMzMwvQGZmZmZmZv4/AAAAAACAWUBmZmZmZmbuPwAAAAAAAC5AZmZmZmZm/j8AAAAAAAAeQA==",
          "dtype": "f8"
         },
         "yaxis": "y"
        },
        {
         "hovertemplate": "Invoice Date=2010-12-14<br>Invoice Number=%{x}<br>Total Sales=%{y}<extra></extra>",
         "legendgroup": "2010-12-14",
         "marker": {
          "color": "#FFA15A",
          "symbol": "circle"
         },
         "mode": "markers",
         "name": "2010-12-14",
         "showlegend": true,
         "type": "scattergl",
         "x": {
          "bdata": "PTgIAD84CABAOAgAQTgIAEk4CABSOAgAUzgIAFQ4CABVOAgAVjgIAFo4CABbOAgAXDgIAF84CABhOAgAYjgIAHg4CACBOAgAnzgIAKE4CACrOAgArDgIAK04CACvOAgAsDgIALE4CAC3OAgAuDgIALk4CAC6OAgAuzgIALw4CAC+OAgAvzgIAMA4CADBOAgAyzgIAMw4CADNOAgAzjgIAM84CADQOAgA1DgIANc4CADZOAgA2zgIANw4CADdOAgA3jgIAOE4CADiOAgA4zgIAOQ4CADlOAgA5jgIAOc4CADoOAgA6TgIAOo4CADrOAgA7DgIAO44CADvOAgA8DgIAPE4CADyOAgA9DgIAPU4CAD2OAgA9zgIAPg4CAD7OAgA/jgIAP84CAAGOQgACDkIAAo5CAAMOQgADjkIAA==",
          "dtype": "i4"
         },
         "xaxis": "x",
         "y": {
          "bdata": "AAAAAAAALkBmZmZmZuZlQDQzMzMzszFAMzMzMzOzLUDNzMzMzMw/QAAAAAAAgC1AMzMzMzMz/z8AAAAAAAAuQJqZmZmZmQdAmpmZmZnZMUBmZmZmZmb+P5qZmZmZmStAZmZmZmZmMUAAAAAAAABOQJqZmZmZmSdAZmZmZmZm+j8AAAAAAAAeQGZmZmZm5k1AAAAAAAAAPkA0MzMzM7M9QJqZmZmZ2UdAMzMzMzOzLUAAAAAAAAAlQAAAAAAAABpAzczMzMzMM0A0MzMzMzM2QAAAAAAAABRAMzMzMzMz/z/NzMzMzMwGQM3MzMzMzBNAmpmZmZmZLkCamZmZmRkqQJqZmZmZmUdAzczMzMzML0AAAAAAAAAuQJqZmZmZmW5AAAAAAAAASUCamZmZmZlFQGZmZmZmZnRAAAAAAACAOUDNzMzMzMxAQAAAAAAAAC5AzczMzMzMEEDNzMzMzMwgQAAAAAAAABFAmpmZmZmZF0DMzMzMzMxTQAAAAAAAAC5AZmZmZmZmFEBmZmZmZmYnQAAAAAAAgDlAAAAAAAAALkAAAAAAAIApQGZmZmZmZu4/AAAAAAAAMUAAAAAAAAAkQGZmZmZmZipAAAAAAAAAPkCamZmZmZlOQAAAAAAAgFlAZmZmZmYmMkDNzMzMzMwjQGZmZmZmZkdANDMzMzOzTUAAAAAAAIAzQGZmZmZmZvo/AAAAAACARkCamZmZmZk+QM3MzMzMzCZAmpmZmZmZTkA0MzMzM7M3QJqZmZmZmUJAAAAAAAAAPkDNzMzMzMxDQDQzMzMzMx9AAAAAAAAAJUCamZmZmZkuQGZmZmZmZjFAAAAAAACAKUA=",
          "dtype": "f8"
         },
         "yaxis": "y"
        },
        {
         "hovertemplate": "Invoice Date=2010-12-15<br>Invoice Number=%{x}<br>Total Sales=%{y}<extra></extra>",
         "legendgroup": "2010-12-15",
         "marker": {
          "color": "#19d3f3",
          "symbol": "circle"
         },
         "mode": "markers",
         "name": "2010-12-15",
         "showlegend": true,
         "type": "scattergl",
         "x": {
          "bdata": "DzkIABA5CAATOQgAFDkIABU5CAAWOQgAFzkIABk5CAAbOQgAHDkIAB05CAAeOQgAJTkIADc5CAA+OQgAPzkIAEA5CABBOQgARzkIAFc5CABYOQgAbzkIAHA5CABxOQgAcjkIAHM5CAB0OQgAdjkIAHc5CAB4OQgAeTkIAHo5CAB8OQgAfTkIAH45CAB/OQgAgDkIAIE5CACCOQgAgzkIAIQ5CACGOQgAhzkIAIg5CACJOQgAijkIAIs5CACWOQgAmDkIAJk5CACaOQgAnDkIAJ45CACfOQgAoDkIAKE5CACiOQgAozkIAKQ5CACmOQgApzkIAKg5CACpOQgAqzkIAKw5CACtOQgAsDkIALg5CADDOQgA",
          "dtype": "i4"
         },
         "xaxis": "x",
         "y": {
          "bdata": "AAAAAAAALkA+CtejcD0SQAAAAAAAADFAAAAAAABAREAAAAAAAAA+QAAAAAAAADFAZmZmZmbmIUCamZmZmZkuQAAAAAAAADtAZmZmZmZmKkDNzMzMzMwvQAAAAAAAgDNAZmZmZmZmFEAzMzMzM7MtQClcj8L1KCRAAAAAAAAAPkA0MzMzMzM5QGZmZmZm5j9AAAAAAAAADkAAAAAAAAA+QAAAAAAAACVAAAAAAACAWUAAAAAAAEBBQAAAAAAAAC5AzczMzMzMP0A0MzMzM7NBQJqZmZmZ2TdAzczMzMzMLEBmZmZmZmYhQDQzMzMzszFAAAAAAACAWUCamZmZmdk3QDQzMzMzszFAZmZmZmZmNEDNzMzMzMw3QAAAAAAAAARAZmZmZmZmRECamZmZmdk9QM3MzMzMzBhAAAAAAAAAOUBmZmZmZmZkQOpRuB6F6x9AAAAAAADgQ0AAAAAAAEBvQJqZmZmZmS9AmpmZmZkZKkAAAAAAAAAOQAAAAAAAgFZAZmZmZmZmN0AzMzMzM5NsQDMzMzMzsyRAAAAAAACAOUBmZmZmZmY3QGZmZmZmZkFAAAAAAACAIEAAAAAAAAAoQDMzMzMzMy9AKVyPwvUoJEAAAAAAAEBvQGZmZmZmZv4/mpmZmZmZPkApXI/C9ShUQGZmZmZm5kNAMzMzMzOzLUA0MzMzM7MxQM3MzMzMzBdAMzMzMzMz9z9mZmZmZuYjQDMzMzMzM/c/",
          "dtype": "f8"
         },
         "yaxis": "y"
        },
        {
         "hovertemplate": "Invoice Date=2010-12-16<br>Invoice Number=%{x}<br>Total Sales=%{y}<extra></extra>",
         "legendgroup": "2010-12-16",
         "marker": {
          "color": "#FF6692",
          "symbol": "circle"
         },
         "mode": "markers",
         "name": "2010-12-16",
         "showlegend": true,
         "type": "scattergl",
         "x": {
          "bdata": "xDkIAMU5CADGOQgAxzkIAMg5CADKOQgAyzkIAMw5CADNOQgAzjkIAM85CADQOQgA0TkIANM5CADUOQgA1TkIANY5CADXOQgA2DkIANo5CADbOQgA3TkIAN45CADfOQgA4TkIAOI5CADjOQgA5DkIAOU5CADnOQgA6DkIAO45CAAGOggABzoIAAg6CAAYOggALToIADE6CAA8OggAQToIAEs6CABMOggATToIAE46CABPOggAUDoIAFE6CABSOggAUzoIAFY6CABZOggAWjoIAGg6CABrOggAbjoIAG86CABwOggAcToIAHI6CAB0OggAdjoIAHc6CAB4OggAeToIAHs6CAB9OggAfjoIAH86CACAOggAgjoIAIM6CACEOggAhToIAIg6CACLOggAkDoIAJE6CACSOggAkzoIAJU6CACWOggAmDoIAJo6CACcOggAnToIAJ46CACfOggAoDoIAKE6CACiOggAozoIAKc6CACoOggAqToIAKo6CACrOggArDoIAK06CACuOggArzoIALA6CACxOggAsjoIALM6CAC0OggAtToIALc6CAC5OggAujoIALw6CAA=",
          "dtype": "i4"
         },
         "xaxis": "x",
         "y": {
          "bdata": "AAAAAADgUECamZmZmRlqQAAAAAAAAElAmpmZmZmZQkAAAAAAAHByQM3MzMzMzC9AMzMzMzOzLUAAAAAAAAAuQHE9CtejcDlAzczMzMyMSkAAAAAAAKBkQJqZmZmZ2TFAAAAAAAAALkCamZmZmZlCQAAAAAAAAChANDMzMzOzZEAAAAAAAIAzQNajcD0K1xtAMzMzMzOTc0A0MzMzMzM5QAAAAAAAAC5AAAAAAACgoUAzMzMzM7NtQJqZmZmZ2TFAKVyPwvUoJEBmZmZmZmZUQAAAAAAAAE5AAAAAAACAaUAAAAAAAABrQAAAAAAAAD5AZmZmZmZmN0A0MzMzMzMZQAAAAAAAACVAmpmZmZmZL0DNzMzMzOxkQAAAAAAAACFAzczMzMzMH0BmZmZmZmb+P7gehetReEBANDMzMzOzQUApXI/C9Sg0QGZmZmZm5jNAZmZmZmZmJECamZmZmZkHQM3MzMzMzB9AAAAAAAAAEUAAAAAAAAAuQAAAAAAAAA5ANDMzMzMzOUAAAAAAAAAuQJqZmZmZGUpAAAAAAAAAPkAAAAAAAAA5QDQzMzMzsyFAAAAAAAAAHkA9CtejcD0uQAAAAAAAAD5AzczMzMzMP0A9CtejcD0uQDQzMzMzs0dAAAAAAAAAPkDNzMzMzMwzQDQzMzMzszFAzczMzMxsmUBmZmZmZmYkQDMzMzMzsy1AAAAAAAAAMUAAAAAAAAArQGZmZmZmZjFAAAAAAAAAJUAAAAAAAIAzQDMzMzMzsy1AAAAAAAAAMUBmZmZmZuZDQAAAAAAAAC5AZmZmZmZmJEAzMzMzMzMpQAAAAAAAAC5AmpmZmZmZLkApXI/C9SgUQAAAAAAAAE5AAAAAAAAAFkBmZmZmZmb+PzMzMzMzsy1AzczMzMzML0DNzMzMzMwXQGZmZmZmZlRAMzMzMzMzKUA0MzMzM7MxQAAAAAAAADFAAAAAAAAAMUCamZmZmdlRQGdmZmZm5nJAAAAAAAAALkCamZmZmflDQAAAAAAAwFJANDMzMzOzMUAAAAAAAAAhQAAAAAAAAC5AAAAAAAAAJEAAAAAAAAA+QAAAAAAAAC5ANDMzMzOzMUBmZmZmZmYkQAAAAAAAIENAZmZmZmbmLUAAAAAAAOBQQAAAAAAAgClAZmZmZmZmBEAAAAAAAAD0Pw==",
          "dtype": "f8"
         },
         "yaxis": "y"
        },
        {
         "hovertemplate": "Invoice Date=2010-12-17<br>Invoice Number=%{x}<br>Total Sales=%{y}<extra></extra>",
         "legendgroup": "2010-12-17",
         "marker": {
          "color": "#B6E880",
          "symbol": "circle"
         },
         "mode": "markers",
         "name": "2010-12-17",
         "showlegend": true,
         "type": "scattergl",
         "x": {
          "bdata": "vToIAL46CADAOggAwzoIAMQ6CADFOggAxjoIAMc6CADIOggA7joIAPM6CAAIOwgADDsIAA47CAASOwgAEzsIABY7CAAXOwgAGDsIABk7CAAaOwgAHDsIAB47CAAfOwgALzsIADA7CAAyOwgAMzsIADQ7CAA1OwgAOjsIADw7CAA+OwgAPzsIAEA7CABDOwgARDsIAA==",
          "dtype": "i4"
         },
         "xaxis": "x",
         "y": {
          "bdata": "AAAAAAAALkAAAAAAAIBZQClcj8L1KCRAAAAAAAAAa0AAAAAAAABiQClcj8L1KCRAAAAAAAAA9D8AAAAAAIBJQGZmZmZmZjRAzczMzMzMN0BnZmZmZmYaQDQzMzMzszFAZmZmZmZmBEBmZmZmZsZqQAAAAAAAgFlAMzMzMzOzLUBmZmZmZmbuPwAAAAAAAC5AKVyPwvUoJEA0MzMzM7MxQAAAAAAAACRAzczMzMzMM0CamZmZmdkxQAAAAAAAAC5AAAAAAAAALkAAAAAAAEBvQAAAAAAAADFA16NwPQpXVEBmZmZmZmZEQOF6FK5H4TFAAAAAAAAAEUAAAAAAAABJQAAAAAAAwDhAZmZmZmZmGUCamZmZmZkXQAAAAAAAACVAAAAAAACAQEA=",
          "dtype": "f8"
         },
         "yaxis": "y"
        },
        {
         "hovertemplate": "Invoice Date=2010-12-19<br>Invoice Number=%{x}<br>Total Sales=%{y}<extra></extra>",
         "legendgroup": "2010-12-19",
         "marker": {
          "color": "#FF97FF",
          "symbol": "circle"
         },
         "mode": "markers",
         "name": "2010-12-19",
         "showlegend": true,
         "type": "scattergl",
         "x": {
          "bdata": "RTsIAEY7CABHOwgASDsIAEk7CABMOwgATTsIAE47CABPOwgAUDsIAFI7CABTOwgAVTsIAFY7CABbOwgAXDsIAA==",
          "dtype": "i4"
         },
         "xaxis": "x",
         "y": {
          "bdata": "zczMzMzMM0AAAAAAAAAlQGZmZmZmZu4/AAAAAAAAJUDsUbgehWtuQJqZmZmZWUNAzczMzMzMKUAAAAAAAAAuQAAAAAAAACFAzczMzMzME0CamZmZmZkHQGZmZmZmZvo/KVyPwvUoFEAzMzMzM/MwQAAAAAAAADFAzczMzMzMM0A=",
          "dtype": "f8"
         },
         "yaxis": "y"
        },
        {
         "hovertemplate": "Invoice Date=2010-12-20<br>Invoice Number=%{x}<br>Total Sales=%{y}<extra></extra>",
         "legendgroup": "2010-12-20",
         "marker": {
          "color": "#FECB52",
          "symbol": "circle"
         },
         "mode": "markers",
         "name": "2010-12-20",
         "showlegend": true,
         "type": "scattergl",
         "x": {
          "bdata": "XzsIAGE7CABiOwgAaDsIAGk7CABqOwgAbTsIAG47CACpOwgArDsIAK87CACyOwgAszsIALQ7CAC6OwgAuzsIALw7CAC9OwgAwjsIAMM7CADEOwgAxjsIAMc7CADIOwgAyTsIAMo7CADNOwgA1DsIANk7CADaOwgA7DsIAO07CADuOwgA8TsIAPI7CADzOwgA9TsIAPc7CAD5OwgA+jsIAP07CAD+OwgA/zsIAAU8CAAGPAgA",
          "dtype": "i4"
         },
         "xaxis": "x",
         "y": {
          "bdata": "NDMzMzOzMUAAAAAAAIBvQGZmZmZmZiRAKVyPwvUoJEAAAAAAAAAuQAAAAAAAgDlAAAAAAAAAEUDWo3A9CtcbQClcj8L1KDRA16NwPQpXZEBxPQrXo3BZQM3MzMzMzC9AzczMzMzML0AAAAAAAIB5QAAAAAAAAHhAzczMzMzMIEAAAAAAAAA+QDMzMzMzsy1AKVyPwvUoNEDNzMzMzMw8QM3MzMzMzCdAAAAAAAAgU0AzMzMzM7NtQDMzMzMzsy1AZmZmZmZmQUA0MzMzM7MxQJqZmZmZmT5AAAAAAACAWUA0MzMzM7M0QAAAAAAAAPQ/AAAAAAAAPkAAAAAAAIBGQAAAAAAAAE1AZmZmZmZmN0AAAAAAAABSQDQzMzMzszFAZmZmZmZm7j8AAAAAAAAOQGZmZmZmZilAAAAAAAAAJUBmZmZmZmbuPwAAAAAAgDxAzczMzMzME0DNzMzMzMwvQM3MzMzMzEBA",
          "dtype": "f8"
         },
         "yaxis": "y"
        },
        {
         "hovertemplate": "Invoice Date=2010-12-21<br>Invoice Number=%{x}<br>Total Sales=%{y}<extra></extra>",
         "legendgroup": "2010-12-21",
         "marker": {
          "color": "#636efa",
          "symbol": "circle"
         },
         "mode": "markers",
         "name": "2010-12-21",
         "showlegend": true,
         "type": "scattergl",
         "x": {
          "bdata": "CjwIAAs8CAAMPAgADjwIAA88CAAQPAgAEjwIABs8CABEPAgARTwIAEg8CABJPAgASzwIAEw8CABNPAgAUDwIAFI8CABUPAgAajwIAGs8CABwPAgA",
          "dtype": "i4"
         },
         "xaxis": "x",
         "y": {
          "bdata": "zczMzMzML0CamZmZmVk/QDMzMzMzM/s/AAAAAAAAK0BmZmZmZmYEQDQzMzMzMzlAAAAAAACgZEDNzMzMzMxTQJqZmZmZmT9ANDMzMzOzMUA0MzMzM7NBQAAAAAAAQHRAAAAAAABAQEAAAAAAAOh3QM3MzMzMzB9AMzMzMzMzKUDNzMzMzMwvQDQzMzMzsz1AzczMzMzME0AzMzMzMzPrPzMzMzMzMxdA",
          "dtype": "f8"
         },
         "yaxis": "y"
        },
        {
         "hovertemplate": "Invoice Date=2010-12-22<br>Invoice Number=%{x}<br>Total Sales=%{y}<extra></extra>",
         "legendgroup": "2010-12-22",
         "marker": {
          "color": "#EF553B",
          "symbol": "circle"
         },
         "mode": "markers",
         "name": "2010-12-22",
         "showlegend": true,
         "type": "scattergl",
         "x": {
          "bdata": "cTwIAHI8CAB0PAgAdjwIALI8CAC0PAgAtzwIALs8CAC8PAgAvTwIANI8CADTPAgA",
          "dtype": "i4"
         },
         "xaxis": "x",
         "y": {
          "bdata": "AAAAAAAATkAAAAAAAEB/QM3MzMzMzF9AAAAAAAAALkDNzMzMzCxDQM3MzMzMzDdAzczMzMzMAEAAAAAAAIAwQGZmZmZm5itAzczMzMzML0DD9Shcj4JuQAAAAAAAQEpA",
          "dtype": "f8"
         },
         "yaxis": "y"
        },
        {
         "hovertemplate": "Invoice Date=2010-12-23<br>Invoice Number=%{x}<br>Total Sales=%{y}<extra></extra>",
         "legendgroup": "2010-12-23",
         "marker": {
          "color": "#00cc96",
          "symbol": "circle"
         },
         "mode": "markers",
         "name": "2010-12-23",
         "showlegend": true,
         "type": "scattergl",
         "x": {
          "bdata": "2DwIANk8CADbPAgAED0IABE9CAAdPQgAMT0IADI9CABKPQgATT0IAE49CABRPQgAUz0IAFQ9CAA=",
          "dtype": "i4"
         },
         "xaxis": "x",
         "y": {
          "bdata": "mpmZmZnRYEDXo3A9CldkQAAAAAAAACtAmpmZmZmZF0AAAAAAAAAOQDMzMzMzsy1AMzMzMzMz/z80MzMzMzM5QHE9CtejcElA1qNwPQrXG0AAAAAAAOBQQGZmZmZmZgRAzczMzMzMG0AAAAAAAAAEQA==",
          "dtype": "f8"
         },
         "yaxis": "y"
        },
        {
         "hovertemplate": "Invoice Date=2011-01-04<br>Invoice Number=%{x}<br>Total Sales=%{y}<extra></extra>",
         "legendgroup": "2011-01-04",
         "marker": {
          "color": "#ab63fa",
          "symbol": "circle"
         },
         "mode": "markers",
         "name": "2011-01-04",
         "showlegend": true,
         "type": "scattergl",
         "x": {
          "bdata": "WT0IAGE9CABiPQgAYz0IAGQ9CABlPQgAbT0IAG49CABvPQgAcD0IAHE9CABzPQgAdD0IAHU9CAB2PQgAdz0IAHg9CAB5PQgAez0IAHw9CAB9PQgAfz0IAIA9CACBPQgAiz0IAJs9CACcPQgAqT0IAL09CAC+PQgAvz0IAMA9CADCPQgAwz0IAA==",
          "dtype": "i4"
         },
         "xaxis": "x",
         "y": {
          "bdata": "AAAAAAAAMUAAAAAAAAA+QOxRuB6F61lAZmZmZmZmMUAVrkfhehRTQAAAAAAAAC5AAAAAAAAAG0A0MzMzM7M9QDQzMzMzszFAZmZmZmZmJEAAAAAAAIApQDMzMzMzMy9AmpmZmZnZQUDNzMzMzMwfQAAAAAAAADVAAAAAAACAQ0DNzMzMzMw3QD0K16NwPUJAZmZmZmbmNUAAAAAAAAAtQAAAAAAAgFZAAAAAAAAAGUAAAAAAAAAuQAAAAAAAACVAMzMzMzMz/z8AAAAAAAAuQDQzMzMzszFAZmZmZmaGWEDNzMzMzMwlQAAAAAAAgDlAmpmZmZmZB0AAAAAAAIBZQGZmZmZmZvo/mpmZmZlZOUA=",
          "dtype": "f8"
         },
         "yaxis": "y"
        },
        {
         "hovertemplate": "Invoice Date=2011-01-05<br>Invoice Number=%{x}<br>Total Sales=%{y}<extra></extra>",
         "legendgroup": "2011-01-05",
         "marker": {
          "color": "#FFA15A",
          "symbol": "circle"
         },
         "mode": "markers",
         "name": "2011-01-05",
         "showlegend": true,
         "type": "scattergl",
         "x": {
          "bdata": "0T0IANI9CADTPQgA2D0IANk9CADaPQgA3j0IAOI9CADyPQgA9D0IAPU9CAD5PQgA/T0IAP89CAAAPggAAT4IAAI+CAADPggABj4IAAc+CAAIPggACT4IAAo+CAAMPggADT4IAA4+CAAPPggAED4IABM+CAAUPggAFT4IABY+CAAXPggAGD4IABk+CAAbPggAHD4IAFA+CABSPggAVT4IAFc+CABYPggAWT4IAFs+CABdPggAYT4IAA==",
          "dtype": "i4"
         },
         "xaxis": "x",
         "y": {
          "bdata": "MzMzMzMzL0AAAAAAAABBQDQzMzMzszFAZmZmZmZmRECamZmZmZkuQAAAAAAAAE5AZmZmZmZmZ0AAAAAAAOBQQGZmZmZmZipAAAAAAACAMEBmZmZmZmYqQAAAAAAAAClAZmZmZmZmPUDsUbgehetJQAAAAAAAWJFA4XoUrkfh2j+amZmZmdkxQM3MzMzMzDNAAAAAAACgZEApXI/C9SgUQM3MzMzMzCNAzczMzMzMH0AAAAAAAAA+QDMzMzMzM/s/AAAAAAAAXUAAAAAAAIBZQJqZmZmZ2Z1AAAAAAAAgVUDNzMzMzMwfQAAAAAAAAD5AmpmZmZmZTkAAAAAAAAA+QAAAAAAA4FBAzczMzMzML0DNzMzMzMwbQAAAAAAAAD5ANDMzMzOzIUAAAAAAAAAuQGZmZmZmZkFAZmZmZmZmJEAzMzMzMzMPQM3MzMzMzB9A4XoUrkfhMUAAAAAAAIApQAAAAAAAoGRAZmZmZmbmM0A=",
          "dtype": "f8"
         },
         "yaxis": "y"
        },
        {
         "hovertemplate": "Invoice Date=2011-01-06<br>Invoice Number=%{x}<br>Total Sales=%{y}<extra></extra>",
         "legendgroup": "2011-01-06",
         "marker": {
          "color": "#19d3f3",
          "symbol": "circle"
         },
         "mode": "markers",
         "name": "2011-01-06",
         "showlegend": true,
         "type": "scattergl",
         "x": {
          "bdata": "Yj4IAGM+CABkPggAZT4IAGY+CABnPggAaD4IAGk+CABsPggAbT4IAHE+CAByPggAcz4IAHQ+CAB1PggAdj4IAHc+CACAPggAnD4IALk+CAC8PggAvT4IAL4+CADBPggAwj4IAMU+CADGPggAxz4IAMk+CADKPggAyz4IAMw+CADSPggA0z4IANQ+CADVPggA1j4IAN8+CADjPggA6z4IAOw+CADtPggA",
          "dtype": "i4"
         },
         "xaxis": "x",
         "y": {
          "bdata": "AAAAAACAYEBmZmZmZuZDQAAAAAAAAC5AmpmZmZmZN0CamZmZmVFuQAAAAAAAAC5AAAAAAAAAe0AAAAAAAAAuQAAAAAAAAC5AAAAAAABAREDhehSuR+EqQAAAAAAAgEZAAAAAAACgZEAAAAAAAEBNQGdmZmZm5mJAAAAAAAAAEUA0MzMzM7NBQM3MzMzMzBdAMzMzMzMzKUCamZmZmZkuQAAAAAAAACJAmpmZmZnZMUBmZmZmZmb6PzMzMzMzMw9AAAAAAAAALkAAAAAAAIBAQM3MzMzMzDNAAAAAAACAQEAAAAAAAAAlQGZmZmZmZgpANDMzMzOzMUDNzMzMzMwvQBWuR+F6FFNAZmZmZmZmJ0DNzMzMzIxBQGZmZmZmZg5AzczMzMzMQ0ApXI/C9Sg0QAAAAAAAAClAZmZmZmZmFEBmZmZmZmY6QAAAAAAAAC5A",
          "dtype": "f8"
         },
         "yaxis": "y"
        },
        {
         "hovertemplate": "Invoice Date=2011-01-07<br>Invoice Number=%{x}<br>Total Sales=%{y}<extra></extra>",
         "legendgroup": "2011-01-07",
         "marker": {
          "color": "#FF6692",
          "symbol": "circle"
         },
         "mode": "markers",
         "name": "2011-01-07",
         "showlegend": true,
         "type": "scattergl",
         "x": {
          "bdata": "7z4IAPE+CADyPggA9D4IAPU+CAD2PggA9z4IAPg+CAD5PggA+z4IAPw+CAD9PggA/z4IAAA/CAAEPwgAJD8IACU/CAAmPwgAKD8IACk/CAArPwgALD8IAC0/CAAuPwgAMD8IADE/CAAyPwgAMz8IADc/CAA4PwgAOT8IADs/CAA9PwgAPj8IAD8/CABBPwgAQj8IAEk/CABNPwgAUD8IAA==",
          "dtype": "i4"
         },
         "xaxis": "x",
         "y": {
          "bdata": "mpmZmZmZIkAAAAAAAABxQM3MzMzMzD9AAAAAAAAAJUAAAAAAAMBiQAAAAAAAoGRAPQrXo3A9LkAAAAAAAOyDQGZmZmZmZu4/NDMzMzMzSUDNzMzMzMwzQGZmZmZmZjRAzczMzMzMBkBI4XoUrkdEQAAAAAAAACtA16NwPQpXdEAzMzMzM7MtQAAAAAAAgEZAzczMzMzML0DNzMzMzMw/QAAAAAAAgEZAPQrXo3A9AkA0MzMzM7MxQAAAAAAAgDNANDMzMzOzQUAAAAAAAIBJQAAAAAAAIHNAAAAAAAAAPkApXI/C9SgUQAAAAAAAgElAAAAAAAAAHkAAAAAAAABRQClcj8L1KBRAAAAAAACghEAzMzMzM7MtQJqZmZmZWTBAzczMzMzMBkCamZmZmZkyQGZmZmZm5jNAAAAAAACASUA=",
          "dtype": "f8"
         },
         "yaxis": "y"
        },
        {
         "hovertemplate": "Invoice Date=2011-01-09<br>Invoice Number=%{x}<br>Total Sales=%{y}<extra></extra>",
         "legendgroup": "2011-01-09",
         "marker": {
          "color": "#B6E880",
          "symbol": "circle"
         },
         "mode": "markers",
         "name": "2011-01-09",
         "showlegend": true,
         "type": "scattergl",
         "x": {
          "bdata": "Uj8IAFM/CABUPwgAVT8IAFY/CABYPwgAWT8IAFo/CABbPwgAXD8IAF0/CABePwgAXz8IAGA/CABhPwgAYj8IAGM/CABkPwgAZT8IAGY/CABoPwgAaj8IAGs/CABsPwgAbT8IAG4/CABwPwgAcT8IAHI/CABzPwgAdD8IAHU/CAB2PwgAeD8IAHk/CAB6PwgAez8IAHw/CAB9PwgAfj8IAH8/CACAPwgAgT8IAIQ/CAA=",
          "dtype": "i4"
         },
         "xaxis": "x",
         "y": {
          "bdata": "ZmZmZmZm/j8zMzMzMzMvQAAAAAAAgClAZmZmZmZmNEAAAAAAAAApQDQzMzMzMxlANDMzMzOzR0AAAAAAAAAhQMP1KFyPgn5AAAAAAACAJkAAAAAAAAAlQAAAAAAAgDlAMzMzMzPzSEDNzMzMzMwXQGZmZmZmZlRAzczMzMzMJ0DNzMzMzMwXQDMzMzMzMwdAZmZmZmZmJEDNzMzMzMwjQAAAAAAAABFAAAAAAAAALkCamZmZmVlQQAAAAAAAgElANDMzMzMzOUDNzMzMzMwXQJqZmZmZmRdAAAAAAACAQEAAAAAAAIAzQGZmZmZmZv4/AAAAAAAAIUBmZmZmZmYXQAAAAAAAAC5AzczMzMzME0AAAAAAAAAuQGZmZmZm5iNANDMzMzOzMUAAAAAAAAAhQM3MzMzMzB9AAAAAAAAAMUCamZmZmZknQM3MzMzMzDNA1qNwPQrXG0DNzMzMzMwvQA==",
          "dtype": "f8"
         },
         "yaxis": "y"
        },
        {
         "hovertemplate": "Invoice Date=2011-01-10<br>Invoice Number=%{x}<br>Total Sales=%{y}<extra></extra>",
         "legendgroup": "2011-01-10",
         "marker": {
          "color": "#FF97FF",
          "symbol": "circle"
         },
         "mode": "markers",
         "name": "2011-01-10",
         "showlegend": true,
         "type": "scattergl",
         "x": {
          "bdata": "iD8IAIo/CACRPwgAkz8IAJU/CACWPwgAlz8IAJg/CACzPwgAvD8IANY/CADbPwgA3D8IAN8/CADgPwgA4T8IAOQ/CADlPwgA5z8IAOg/CADpPwgA7T8IAPY/CAD4PwgA/z8IAABACAAIQAgACkAIAA9ACAA=",
          "dtype": "i4"
         },
         "xaxis": "x",
         "y": {
          "bdata": "NDMzMzOzMUAAAAAAAAAuQDQzMzMzszFAZmZmZmbmZUAAAAAAAIBZQMzMzMzMzBNAmpmZmZmZP0DNzMzMzMwgQAAAAAAAACVAZmZmZmZmKkCamZmZmflTQArXo3A9CitAAAAAAACAakAAAAAAAOBQQM3MzMzMzBdAmpmZmZmZLkDNzMzMzMwzQClcj8L1KCRAAAAAAAAAPkDNzMzMzMwsQM3MzMzMzDNAAAAAAABAb0A0MzMzM7NBQAAAAAAAACVANDMzMzMzOUA0MzMzM7MxQAAAAAAAAFJAAAAAAAAAIUAK16NwPQo7QA==",
          "dtype": "f8"
         },
         "yaxis": "y"
        },
        {
         "hovertemplate": "Invoice Date=2011-01-11<br>Invoice Number=%{x}<br>Total Sales=%{y}<extra></extra>",
         "legendgroup": "2011-01-11",
         "marker": {
          "color": "#FECB52",
          "symbol": "circle"
         },
         "mode": "markers",
         "name": "2011-01-11",
         "showlegend": true,
         "type": "scattergl",
         "x": {
          "bdata": "EUAIABJACAATQAgAFEAIABlACAAaQAgAHUAIAB5ACAAfQAgAIEAIADxACABOQAgAUUAIAGBACABiQAgAaUAIAGtACABuQAgAekAIAHtACAB9QAgAfkAIAH9ACACAQAgAgkAIAINACACJQAgAjUAIAI9ACACQQAgAkUAIAJJACACTQAgAlkAIAJdACACZQAgAmkAIAJtACACdQAgAokAIAKZACACnQAgAqEAIAKpACACsQAgA",
          "dtype": "i4"
         },
         "xaxis": "x",
         "y": {
          "bdata": "cT0K16MZsECamZmZmdkxQKRwPQrXozpAzczMzMzMIEBmZmZmZmY0QML1KFyPZolAZmZmZmZmNEApXI/C9SgUQClcj8L1KDRAzczMzMzMN0A9CtejcD0iQGZmZmZmZjRAAAAAAAAAMUA0MzMzMzNWQM3MzMzMzC9AmpmZmZmZN0AAAAAAAAAuQGZmZmZmZiRAAAAAAAAALkAAAAAAAIBZQAAAAAAAACFAzczMzMzMEECYmZmZmZkeQGZmZmZmZlRAzczMzMzMQEBmZmZmZuYzQGZmZmZm5iNAzczMzMzMJ0BnZmZmZou5QDQzMzMzszFAmpmZmZnZMUAAAAAAgKqxQJqZmZmZ2TdAzczMzMzMH0AAAAAAAAAOQDMzMzMzsy1AAAAAAAAAJUDNzMzMzMw7QAAAAAAAAD5AAAAAAACAOUAAAAAAAAAhQAAAAAAAABFAMzMzMzOzLUAAAAAAAABOQAAAAAAAACFA",
          "dtype": "f8"
         },
         "yaxis": "y"
        },
        {
         "hovertemplate": "Invoice Date=2011-01-12<br>Invoice Number=%{x}<br>Total Sales=%{y}<extra></extra>",
         "legendgroup": "2011-01-12",
         "marker": {
          "color": "#636efa",
          "symbol": "circle"
         },
         "mode": "markers",
         "name": "2011-01-12",
         "showlegend": true,
         "type": "scattergl",
         "x": {
          "bdata": "sUAIALdACAC4QAgAuUAIALpACAC7QAgAvkAIAMJACADqQAgA60AIAOxACADzQAgAC0EIAAxBCAAPQQgAEUEIABNBCAAXQQgAGUEIABpBCAAbQQgAHUEIAChBCAAqQQgALkEIAC9BCAAzQQgANEEIADVBCAA3QQgAOEEIADlBCAA6QQgAPkEIAD9BCABAQQgA",
          "dtype": "i4"
         },
         "xaxis": "x",
         "y": {
          "bdata": "AAAAAACAKUAAAAAAACBzQAAAAAAAAC5AZmZmZmZmMUA0MzMzM7MxQAAAAAAAgDlAZmZmZmZmVEAAAAAAAAAlQAAAAAAAAC5AmpmZmZnZMUCamZmZmXmBQArXo3A9CjtACtejcD0K1z8AAAAAAIA5QDMzMzMzsy1AMzMzMzMz6z/sUbgehWteQAAAAAAAAGFAAAAAAAAAGkBmZmZmZmYEQAAAAAAAYEFA16NwPQpXVEDNzMzMzEwrQGZmZmZm5jNAAAAAAACAWUCamZmZmZkXQAAAAAAAABFAzczMzMzMH0A0MzMzM7MxQAAAAAAASIdAAAAAAAAAMUA0MzMzMzM5QGZmZmZm5i1ANDMzMzMzOUCamZmZmZlOQClcj8L1KBRA",
          "dtype": "f8"
         },
         "yaxis": "y"
        },
        {
         "hovertemplate": "Invoice Date=2011-01-13<br>Invoice Number=%{x}<br>Total Sales=%{y}<extra></extra>",
         "legendgroup": "2011-01-13",
         "marker": {
          "color": "#EF553B",
          "symbol": "circle"
         },
         "mode": "markers",
         "name": "2011-01-13",
         "showlegend": true,
         "type": "scattergl",
         "x": {
          "bdata": "QUEIAEJBCABEQQgARUEIAEZBCABHQQgASUEIAEpBCABLQQgATEEIAE1BCABOQQgAUEEIAFJBCABTQQgAVEEIAFVBCABWQQgAV0EIAFpBCABdQQgAbkEIAHNBCACeQQgAn0EIAKBBCACjQQgApkEIAK9BCACxQQgAskEIALNBCAC0QQgAtUEIALZBCAC3QQgAuEEIALlBCAC6QQgA",
          "dtype": "i4"
         },
         "xaxis": "x",
         "y": {
          "bdata": "KVyPwvUoFEAzMzMzM7MtQJqZmZmZmS5APQrXo3A9LkAzMzMzM/NGQD0K16NwPU5AAAAAAACgZEAzMzMzMzMHQAAAAAAAAC5ANDMzMzOzMUAAAAAAAIAwQAAAAAAAAC5AKVyPwvUoNEDhehSuR+ExQAAAAAAAQDdAUrgehetRE0DNzMzMzMwzQGZmZmZmZhpAAAAAAAAAK0AAAAAAAAAeQAAAAAAAgDBAZmZmZmZmEUAAAAAAAEBvQAAAAAAAAC5AMzMzMzPzQEBxPQrXo3BZQAAAAAAAgElAAAAAAAAABEAAAAAAAAAxQAAAAAAAoHRAAAAAAAAAUkAzMzMzMzMpQBWuR+F6FFNAZmZmZmbmLUCamZmZmZkXQGZmZmZmZjFAAAAAAACARkAAAAAAAAAeQGZmZmZm5mVA",
          "dtype": "f8"
         },
         "yaxis": "y"
        },
        {
         "hovertemplate": "Invoice Date=2011-01-14<br>Invoice Number=%{x}<br>Total Sales=%{y}<extra></extra>",
         "legendgroup": "2011-01-14",
         "marker": {
          "color": "#00cc96",
          "symbol": "circle"
         },
         "mode": "markers",
         "name": "2011-01-14",
         "showlegend": true,
         "type": "scattergl",
         "x": {
          "bdata": "v0EIAMNBCADEQQgAxkEIAM5BCADPQQgA0EEIANFBCADTQQgA9EEIAP1BCAASQggAE0IIABRCCAAVQggAF0IIABhCCAAdQggAHkIIAB9CCAAgQggAIUIIACJCCAAnQggAKUIIACpCCAArQggALEIIADRCCAA=",
          "dtype": "i4"
         },
         "xaxis": "x",
         "y": {
          "bdata": "ZmZmZmZmMUAAAAAAAAAuQMzMzMzMbGBAzczMzMzMJ0BmZmZmZmZUQGZmZmZmZjdAAAAAAACANkBxPQrXo3A5QAAAAAAAACVAKVyPwvUoJEAAAAAAAAApQAAAAAAAADFAAAAAAADASEBnZmZmZmYaQM3MzMzMzCdAAAAAAAAAPkBmZmZmZmY0QDMzMzMzsy1AZmZmZmbmI0A0MzMzM7MxQGZmZmZmZgRAZmZmZmbmM0BmZmZmZmYkQM3MzMzMzCNAMzMzMzMzKUCamZmZmdlBQAAAAAAAgElAAAAAAAAAPkDNzMzMzMwKQA==",
          "dtype": "f8"
         },
         "yaxis": "y"
        },
        {
         "hovertemplate": "Invoice Date=2011-01-16<br>Invoice Number=%{x}<br>Total Sales=%{y}<extra></extra>",
         "legendgroup": "2011-01-16",
         "marker": {
          "color": "#ab63fa",
          "symbol": "circle"
         },
         "mode": "markers",
         "name": "2011-01-16",
         "showlegend": true,
         "type": "scattergl",
         "x": {
          "bdata": "NkIIADdCCAA4QggAOUIIADpCCAA7QggAPEIIAD5CCAA/QggAQEIIAEFCCABCQggAQ0IIAERCCABFQggAR0IIAEhCCABKQggAS0IIAExCCABOQggAT0IIAFBCCABRQggAUkIIAA==",
          "dtype": "i4"
         },
         "xaxis": "x",
         "y": {
          "bdata": "AAAAAAAgQ0AAAAAAAABiQJqZmZmZmRdAmpmZmZmZF0AfhetRuB5LQGZmZmZmZlFAAAAAAAAAPkA0MzMzMzM2QAAAAAAAUIlAzczMzMzM5D8AAAAAAAAhQClcj8L1KBRAAAAAAAAANEAzMzMzM/M2QAAAAAAAABFAAAAAAAAAEUAAAAAAAIAzQAAAAAAAAC5AzczMzMzMQ0BmZmZmZuYjQAAAAAAAADFAAAAAAADAVUDNzMzMzMwfQM3MzMzMzBNAMzMzMzMzD0A=",
          "dtype": "f8"
         },
         "yaxis": "y"
        },
        {
         "hovertemplate": "Invoice Date=2011-01-17<br>Invoice Number=%{x}<br>Total Sales=%{y}<extra></extra>",
         "legendgroup": "2011-01-17",
         "marker": {
          "color": "#FFA15A",
          "symbol": "circle"
         },
         "mode": "markers",
         "name": "2011-01-17",
         "showlegend": true,
         "type": "scattergl",
         "x": {
          "bdata": "VEIIAFZCCABYQggAWUIIAFpCCABbQggAXEIIAF5CCABfQggAYEIIAGFCCABiQggAY0IIAGVCCABmQggAZ0IIAGhCCABpQggAakIIAGtCCABsQggAbUIIAG5CCAB2QggAhEIIAK1CCACyQggAukIIALtCCADPQggA2EIIAN5CCADfQggA4EIIAOFCCADiQggA40IIAOVCCADmQggA6UIIAOxCCAA=",
          "dtype": "i4"
         },
         "xaxis": "x",
         "y": {
          "bdata": "ZmZmZmZm7j9mZmZmZuYtQAAAAAAAADFAZmZmZmZmJEAAAAAAAIAtQAAAAAAAAC5AAAAAAACgZEA0MzMzM7NNQM3MzMzMzC9AzczMzMzMM0CamZmZmZkHQAAAAAAAABtAAAAAAACAM0A0MzMzM7MxQJqZmZmZmRdAZmZmZmZmWkAzMzMzM8NjQDMzMzMzMwtAAAAAAAAAPkAAAAAAAAAOQGZmZmZmZipAAAAAAACAMEAAAAAAAAA7QAAAAAAAACRAZmZmZmZmNECamZmZmdk9QGZmZmZmZkRAMzMzMzMzKUAzMzMzM7MtQDQzMzMzMx9AMzMzMzOzLUDhehSuR+ERQBSuR+F6FGNAZmZmZmZmOkDNzMzMzMxDQAAAAAAAAC5AAAAAAACAI0DNzMzMzMwZQAAAAAAAAA5AAAAAAACAKUCamZmZmZkXQA==",
          "dtype": "f8"
         },
         "yaxis": "y"
        },
        {
         "hovertemplate": "Invoice Date=2011-01-18<br>Invoice Number=%{x}<br>Total Sales=%{y}<extra></extra>",
         "legendgroup": "2011-01-18",
         "marker": {
          "color": "#19d3f3",
          "symbol": "circle"
         },
         "mode": "markers",
         "name": "2011-01-18",
         "showlegend": true,
         "type": "scattergl",
         "x": {
          "bdata": "8UIIAPJCCADzQggA9EIIAPVCCAD3QggA+EIIAPtCCAD8QggA/0IIACFDCAAiQwgAJ0MIAClDCAArQwgALEMIAC1DCAAuQwgAMEMIADFDCAAyQwgAPEMIAEBDCABBQwgARUMIAEZDCABHQwgASUMIAA==",
          "dtype": "i4"
         },
         "xaxis": "x",
         "y": {
          "bdata": "zczMzMzMU0AAAAAAAIB7QAAAAAAA4FBAzczMzMzML0AAAAAAAIAwQJqZmZn51/JAAAAAAAAgXEAAAAAAAAAxQAAAAAAAAD5AMzMzMzMzL0BmZmZmZmZEQAAAAAAAYFhAKVyPwvUoJEAAAAAAAAAuQM3MzMzMzC9AmpmZmZmZLkAAAAAAAAAOQMzMzMzMzBNAzczMzMzMLEDNzMzMzMwjQAAAAAAAgClAAAAAAADAMkAAAAAAAIAgQAAAAAAAAC5A4XoUrkfh2j9mZmZmZuYtQGZmZmZmZu4/AAAAAAAALkA=",
          "dtype": "f8"
         },
         "yaxis": "y"
        },
        {
         "hovertemplate": "Invoice Date=2011-01-19<br>Invoice Number=%{x}<br>Total Sales=%{y}<extra></extra>",
         "legendgroup": "2011-01-19",
         "marker": {
          "color": "#FF6692",
          "symbol": "circle"
         },
         "mode": "markers",
         "name": "2011-01-19",
         "showlegend": true,
         "type": "scattergl",
         "x": {
          "bdata": "UUMIAFJDCABTQwgAVEMIAFVDCABaQwgAcEMIAHxDCAB9QwgAfkMIAIBDCACDQwgAhkMIAIdDCACRQwgAk0MIAJRDCACWQwgAl0MIAJlDCACaQwgAm0MIAJxDCACdQwgAokMIAKRDCAA=",
          "dtype": "i4"
         },
         "xaxis": "x",
         "y": {
          "bdata": "AAAAAAAAJUAzMzMzM7MtQAAAAAAAAARAAAAAAABAN0AVrkfhehRTQJqZmZmZmS5AMzMzMzPTREAAAAAAAAAOQAAAAAAAACFAFK5H4XoUQ0AAAAAAAABRQAAAAAAAgDBAAAAAAAAAJUBmZmZmZmYqQGZmZmZmZilAAAAAAACAKUBmZmZmZmYqQAAAAAAAAC5AZmZmZmZmFEBmZmZmZmYkQAAAAAAAgDNAAAAAAAAA9D/NzMzMzMwnQJqZmZmZmTdAAAAAAAAALUDNzMzMzMwjQA==",
          "dtype": "f8"
         },
         "yaxis": "y"
        },
        {
         "hovertemplate": "Invoice Date=2011-01-20<br>Invoice Number=%{x}<br>Total Sales=%{y}<extra></extra>",
         "legendgroup": "2011-01-20",
         "marker": {
          "color": "#B6E880",
          "symbol": "circle"
         },
         "mode": "markers",
         "name": "2011-01-20",
         "showlegend": true,
         "type": "scattergl",
         "x": {
          "bdata": "pUMIAKZDCACpQwgAqkMIAKtDCACvQwgA0EMIANFDCADXQwgA2kMIANtDCADcQwgA4EMIAOVDCADnQwgA6EMIAOlDCADsQwgA7UMIAO5DCADvQwgA8EMIAPFDCADyQwgA80MIAPRDCAD2QwgA+kMIAAJECAA=",
          "dtype": "i4"
         },
         "xaxis": "x",
         "y": {
          "bdata": "NDMzMzOzTUAK16NwPQorQM3MzMzMzCNAAAAAAACgZEC4HoXrUThkQAAAAAAAACVAAAAAAACAXUAAAAAAAIApQM3MzMzMzB9AMzMzMzMzC0CamZmZmZk3QGZmZmZmZiRAAAAAAAAAPkAzMzMzM/MwQAAAAAAAAEFAAAAAAAAAPkAAAAAAAIBGQM3MzMzMzDNAZmZmZmZmJECamZmZmZkHQJqZmZmZmS5AAAAAAAAAEUAAAAAAAIAwQDQzMzMzszFAAAAAAACANkAAAAAAAAA7QJqZmZmZ2UdAZmZmZmZmJEAAAAAAAIBBQA==",
          "dtype": "f8"
         },
         "yaxis": "y"
        },
        {
         "hovertemplate": "Invoice Date=2011-01-21<br>Invoice Number=%{x}<br>Total Sales=%{y}<extra></extra>",
         "legendgroup": "2011-01-21",
         "marker": {
          "color": "#FF97FF",
          "symbol": "circle"
         },
         "mode": "markers",
         "name": "2011-01-21",
         "showlegend": true,
         "type": "scattergl",
         "x": {
          "bdata": "A0QIAARECAAKRAgADEQIAA1ECAAQRAgAJEQIAFZECABXRAgAWEQIAFlECABcRAgAXUQIAF9ECABgRAgAYUQIAGJECABjRAgAZEQIAGVECABmRAgAZ0QIAGhECABpRAgAcEQIAHRECAB1RAgAdkQIAHdECAB4RAgAiEQIAA==",
          "dtype": "i4"
         },
         "xaxis": "x",
         "y": {
          "bdata": "KVyPwvUoJEAAAAAAAAAkQM3MzMzMzD9AAAAAAACAM0BmZmZmZuZDQAAAAAAAAB5AzczMzMzMN0AAAAAAAAAhQDQzMzMzszFAmpmZmZmZF0AAAAAAAOBAQGZmZmZmZiRAAAAAAADASEAAAAAAAMBMQGZmZmZmZiRAZmZmZmZmNEAAAAAAAAAuQGZmZmZm5iRAAAAAAACAOUDNzMzMzMwXQJqZmZmZmRdAzczMzMzME0BmZmZmZmYkQDMzMzMzMylAAAAAAAAAJEBmZmZmZuZlQM3MzMzMzDBAZ2ZmZmbmUkBmZmZmZmYKQDMzMzMzsy1AzczMzMzMR0A=",
          "dtype": "f8"
         },
         "yaxis": "y"
        },
        {
         "hovertemplate": "Invoice Date=2011-01-23<br>Invoice Number=%{x}<br>Total Sales=%{y}<extra></extra>",
         "legendgroup": "2011-01-23",
         "marker": {
          "color": "#FECB52",
          "symbol": "circle"
         },
         "mode": "markers",
         "name": "2011-01-23",
         "showlegend": true,
         "type": "scattergl",
         "x": {
          "bdata": "i0QIAIxECACNRAgAjkQIAI9ECACQRAgAkUQIAJJECACTRAgAlEQIAJVECACWRAgAl0QIAJhECACZRAgAmkQIAJtECACdRAgAnkQIAJ9ECACgRAgAokQIAKNECACkRAgApkQIAKhECAA=",
          "dtype": "i4"
         },
         "xaxis": "x",
         "y": {
          "bdata": "mpmZmZmZJ0AAAAAAAIArQAAAAAAAAC5ANDMzMzOzMUCamZmZmdlBQJqZmZmZmQdAzczMzMzMM0AAAAAAAAAhQGZmZmZmZg5AmpmZmZmZJ0AzMzMzMzMPQM3MzMzMzDNAZmZmZmZmJEApXI/C9SgEQDMzMzMzM/s/ZmZmZmZmBEDNzMzMzMwTQGZmZmZm5jtAAAAAAAAAFECamZmZmZk+QAAAAAAAACJAAAAAAACARkAUrkfhehRDQGZmZmZm5kNAAAAAAAAAMUBmZmZmZmb6Pw==",
          "dtype": "f8"
         },
         "yaxis": "y"
        },
        {
         "hovertemplate": "Invoice Date=2011-01-24<br>Invoice Number=%{x}<br>Total Sales=%{y}<extra></extra>",
         "legendgroup": "2011-01-24",
         "marker": {
          "color": "#636efa",
          "symbol": "circle"
         },
         "mode": "markers",
         "name": "2011-01-24",
         "showlegend": true,
         "type": "scattergl",
         "x": {
          "bdata": "qUQIAKpECACrRAgAsEQIALFECACyRAgAs0QIALRECAC4RAgAuUQIALtECAC8RAgAvkQIAM9ECADcRAgA30QIAPpECAD7RAgA/EQIAP1ECAD+RAgACEUIAAtFCAAORQgAEEUIABJFCAAURQgAFUUIABZFCAAYRQgAGUUIABpFCAAfRQgAIEUIACFFCAAiRQgAI0UIAA==",
          "dtype": "i4"
         },
         "xaxis": "x",
         "y": {
          "bdata": "AAAAAACgZEAAAAAAAAAuQAAAAAAAAB5AAAAAAAAAJUDNzMzMzMwnQGZmZmZmZldAAAAAAAAALkAAAAAAAEA3QAAAAAAAADFAKVyPwvUoJEAAAAAAACBcQAAAAAAAAC5AzczMzMzML0AzMzMzM/NWQDQzMzMzsz1AAAAAAAAALkCamZmZmdlBQArXo3A9CktAZmZmZmZm/j8AAAAAAAAxQAAAAAAA4FBAmpmZmZmZXkCamZmZmRkqQJqZmZmZmS9AAAAAAAAAIUA0MzMzM7NBQGZmZmZmZipAzczMzMzMM0BmZmZmZuY1QDQzMzMzs0FANDMzMzMzOUAAAAAAACBDQAAAAAAAAC5AZmZmZmZmJECamZmZmflTQClcj8L1KCRAZmZmZmZmF0A=",
          "dtype": "f8"
         },
         "yaxis": "y"
        },
        {
         "hovertemplate": "Invoice Date=2011-01-25<br>Invoice Number=%{x}<br>Total Sales=%{y}<extra></extra>",
         "legendgroup": "2011-01-25",
         "marker": {
          "color": "#EF553B",
          "symbol": "circle"
         },
         "mode": "markers",
         "name": "2011-01-25",
         "showlegend": true,
         "type": "scattergl",
         "x": {
          "bdata": "JEUIACVFCAAmRQgAKEUIACtFCAAsRQgALUUIADBFCAAxRQgAMkUIADNFCAA0RQgANUUIADZFCABJRQgASkUIAGlFCABqRQgAa0UIAHFFCAB/RQgAgUUIAINFCACERQgAhUUIAIdFCACKRQgAjUUIAJBFCACSRQgAk0UIAJRFCACXRQgAmUUIAJtFCACcRQgAnkUIAJ9FCACgRQgAoUUIAKJFCACpRQgAqkUIAKtFCACsRQgArUUIAK5FCACxRQgAskUIALNFCAC1RQgAtkUIAA==",
          "dtype": "i4"
         },
         "xaxis": "x",
         "y": {
          "bdata": "AAAAAAAATUAAAAAAAIAzQDQzMzMzszFAAAAAAACgZEBmZmZmZmYxQDQzMzMzszFAMzMzMzPTVEAzMzMzMzMpQAAAAAAAAE5AAAAAAACAQECamZmZmdkxQAAAAAAAAEJAmpmZmZmZXkDNzMzMzMwGQAAAAAAAADFANDMzMzOzQUBmZmZmZmb+P2ZmZmZmZjRAZ2ZmZmZmGkBmZmZmZuYvQJqZmZmZmS9AzczMzMzMAEA9CtejcD0+QAAAAAAAgFZAAAAAAACAM0CamZmZmZkvQDMzMzMzsyJAAAAAAAAAMUAAAAAAAAAeQGZmZmZmZiRAAAAAAADgWEDNzMzMzMwTQGZmZmZmZiRAZmZmZmZmFECamZmZmZk3QJqZmZmZmTdAzczMzMzMM0BmZmZmZmYqQM3MzMzMzB9AmpmZmZnZMUA0MzMzM7NBQGZmZmZm5jNAAAAAAAAAOkCamZmZmZkuQAAAAAAAACtANDMzMzMzOUBxPQrXo3BpQGZmZmZm5iNAZmZmZmbmM0AAAAAAAOBAQAAAAAAAAC5ANDMzMzOzMUA=",
          "dtype": "f8"
         },
         "yaxis": "y"
        },
        {
         "hovertemplate": "Invoice Date=2011-01-26<br>Invoice Number=%{x}<br>Total Sales=%{y}<extra></extra>",
         "legendgroup": "2011-01-26",
         "marker": {
          "color": "#00cc96",
          "symbol": "circle"
         },
         "mode": "markers",
         "name": "2011-01-26",
         "showlegend": true,
         "type": "scattergl",
         "x": {
          "bdata": "vUUIAL5FCAC/RQgAwUUIAMJFCADERQgAxUUIAMdFCADIRQgAyUUIAMpFCADLRQgA3kUIAPBFCAD/RQgAAEYIAARGCAAFRggABkYIAAlGCAALRggADEYIAA1GCAAORggAD0YIABBGCAASRggAE0YIABRGCAAWRggAF0YIABlGCAAaRggAG0YIABxGCAAfRggAIEYIACFGCAAiRggAI0YIACZGCAAnRggALkYIADJGCAA5RggAOkYIADtGCAA=",
          "dtype": "i4"
         },
         "xaxis": "x",
         "y": {
          "bdata": "ZmZmZmZmVECamZmZmZkuQAAAAAAA4GBAZmZmZmY2ekAAAAAAAAA+QGdmZmZm5lJAZmZmZmZm+j8AAAAAAAAuQAAAAAAAACFAzczMzMzML0AAAAAAAIBZQJqZmZmZ2XFAMzMzMzPzMEAzMzMzMzMnQHE9Ctej8GdAAAAAAACAWUCamZmZmdlhQAAAAAAAgEZAmpmZmZmZLkDNzMzMzMwTQAAAAAAAAC5AzMzMzMxsQEDNzMzMzMwQQDMzMzMzs21AAAAAAAAAOUBmZmZmZmbuP5iZmZmZmR5AZmZmZmZmKkDNzMzMzMwjQDQzMzMzMzlAMzMzMzMz+z8AAAAAAIBAQGZmZmZm5iNAZ2ZmZmZmGkAAAAAAAAD0P2ZmZmZmZu4/mpmZmZmZL0AK16NwPQorQGZmZmZmZjFAZmZmZmZmJEAAAAAAAAA+QAAAAAAAAB5AmpmZmZnZQUDNzMzMzMwGQDMzMzMzsy1AmpmZmZmZH0DNzMzMzMwjQA==",
          "dtype": "f8"
         },
         "yaxis": "y"
        },
        {
         "hovertemplate": "Invoice Date=2011-01-27<br>Invoice Number=%{x}<br>Total Sales=%{y}<extra></extra>",
         "legendgroup": "2011-01-27",
         "marker": {
          "color": "#ab63fa",
          "symbol": "circle"
         },
         "mode": "markers",
         "name": "2011-01-27",
         "showlegend": true,
         "type": "scattergl",
         "x": {
          "bdata": "PEYIAEBGCABCRggAQ0YIAEVGCABMRggAcEYIAIlGCACLRggAjUYIAI5GCACPRggAkUYIAJJGCACTRggAmEYIAKJGCACkRggApUYIAKZGCACpRggArUYIAK5GCACwRggAskYIALRGCAC1RggAtkYIALlGCAC9RggAvkYIAL9GCADBRggAxUYIAMZGCADHRggAyEYIAMlGCADLRggAzEYIANNGCADURggA1kYIAA==",
          "dtype": "i4"
         },
         "xaxis": "x",
         "y": {
          "bdata": "zczMzMzMJEA0MzMzM7MxQAAAAAAAgClAAAAAAAAAJUA0MzMzM7NBQNajcD0K1ytAAAAAAACAI0AzMzMzMzMPQAAAAAAAgDBANDMzMzOzMUAK16NwPQorQJqZmZmZ2T1AZmZmZmZmMUDNzMzMzMwvQAAAAAAA4FBANDMzMzOzIUApXI/C9SgUQClcj8L1KBRAFa5H4XoUU0BmZmZmZuYzQM3MzMzMzC9AAAAAAAAAMUDhehSuR+EaQM3MzMzMzC9ANDMzMzOzTUAAAAAAAIAzQJqZmZmZmS5AAAAAAAAAHkBmZmZmZmYOQClcj8L1KCRANDMzMzMzGUAAAAAAAAAlQDQzMzMzsyFAMzMzMzMz/z/NzMzMzMwnQAAAAAAAAC5AZmZmZmZm7j8AAAAAAOBQQJqZmZmZmS5AAAAAAAAAIUBmZmZmZmb6PwAAAAAAAA5AAAAAAAAAEUA=",
          "dtype": "f8"
         },
         "yaxis": "y"
        },
        {
         "hovertemplate": "Invoice Date=2011-01-28<br>Invoice Number=%{x}<br>Total Sales=%{y}<extra></extra>",
         "legendgroup": "2011-01-28",
         "marker": {
          "color": "#FFA15A",
          "symbol": "circle"
         },
         "mode": "markers",
         "name": "2011-01-28",
         "showlegend": true,
         "type": "scattergl",
         "x": {
          "bdata": "10YIAN1GCADeRggA30YIAOBGCADiRggABkcIACdHCAAqRwgAL0cIADVHCAA3RwgAOEcIADlHCAA+RwgAP0cIAEBHCABCRwgARUcIAEZHCABKRwgAT0cIAFVHCABoRwgAckcIAHdHCAB4RwgAeUcIAHtHCAB+RwgAf0cIAA==",
          "dtype": "i4"
         },
         "xaxis": "x",
         "y": {
          "bdata": "AAAAAACAP0DNzMzMzMxTQM3MzMzMzFNAzczMzMzMP0AAAAAAAOBQQJqZmZmZmT9AZmZmZmZmN0DNzMzMzMwzQAAAAAAAgDBAAAAAAAAALkCamZmZmZluQAAAAAAAAC5AZmZmZmbmI0A0MzMzM7MxQMzMzMzMzBNAAAAAAAAALkBmZmZmZmYkQArXo3A9CjtAzczMzMzMM0CamZmZmZkyQDMzMzMzsy1AmpmZmZmZLkDNzMzMzMwzQAAAAAAAACtAAAAAAACAMEAAAAAAAAA+QGZmZmZmZg5AhetRuB4lUUAAAAAAAOBQQGZmZmZmZv4/ZmZmZmb2XUA=",
          "dtype": "f8"
         },
         "yaxis": "y"
        },
        {
         "hovertemplate": "Invoice Date=2011-01-30<br>Invoice Number=%{x}<br>Total Sales=%{y}<extra></extra>",
         "legendgroup": "2011-01-30",
         "marker": {
          "color": "#19d3f3",
          "symbol": "circle"
         },
         "mode": "markers",
         "name": "2011-01-30",
         "showlegend": true,
         "type": "scattergl",
         "x": {
          "bdata": "g0cIAIRHCACFRwgAhkcIAIdHCACIRwgAiUcIAIpHCACLRwgAjUcIAI5HCACPRwgAkEcIAJFHCACSRwgAk0cIAJRHCACVRwgAlkcIAJdHCACYRwgAmUcIAJpHCACbRwgA",
          "dtype": "i4"
         },
         "xaxis": "x",
         "y": {
          "bdata": "ZmZmZmZmVECamZmZmZkfQArXo3A9CgtAzczMzMzMH0DNzMzMzMwQQM3MzMzMzC9AAAAAAAAAIUDNzMzMzMwvQAAAAAAAACVAAAAAAAAAI0AAAAAAAAAzQJqZmZmZ2TFAZmZmZmZmFEAAAAAAAAD0P83MzMzMzCdAZmZmZmZm/j8zMzMzMzPrPzQzMzMzsyFANDMzMzOzQUBmZmZmZuYtQM3MzMzMzDNAAAAAAAAAJUBmZmZmZmbuPwAAAAAAgDVA",
          "dtype": "f8"
         },
         "yaxis": "y"
        },
        {
         "hovertemplate": "Invoice Date=2011-01-31<br>Invoice Number=%{x}<br>Total Sales=%{y}<extra></extra>",
         "legendgroup": "2011-01-31",
         "marker": {
          "color": "#FF6692",
          "symbol": "circle"
         },
         "mode": "markers",
         "name": "2011-01-31",
         "showlegend": true,
         "type": "scattergl",
         "x": {
          "bdata": "nEcIAJ9HCACjRwgApEcIAKZHCACnRwgAqEcIAKpHCACsRwgAsUcIALZHCAC3RwgAuUcIAMNHCADGRwgAy0cIANFHCADWRwgA4kcIAONHCADkRwgA5kcIAPNHCAD0RwgA9UcIAPZHCAD3RwgA+EcIAPtHCAD8RwgA/UcIAP5HCAD/RwgAAkgIAANICAAESAgABUgIAAdICAAISAgACUgIAAtICAANSAgAEEgIABFICAATSAgAFUgIABdICAAZSAgAGkgIACdICAA=",
          "dtype": "i4"
         },
         "xaxis": "x",
         "y": {
          "bdata": "AAAAAAAAMUCamZmZmdlHQJqZmZmZmS5AZmZmZmbmTUA9CtejcD1OQAAAAAAAQDtAMzMzMzMzSUAAAAAAAAAuQJqZmZmZGTpAzMzMzMwMU0BmZmZmZmbuPwAAAAAAACVAZmZmZmZm7j80MzMzMzM/QNajcD0K1xtAzczMzMzMBkDNzMzMzMwfQAAAAAAAAEVAAAAAAACgd0AVrkfhehRTQAAAAAAAAA5AAAAAAADgc0AAAAAAAIBGQM3MzMzMzD9AzczMzMzMP0BmZmZmZmZEQGZmZmZmZhRAAAAAAAAgYkDNzMzMzMwkQM3MzMzMzDdAzczMzMzMH0AzMzMzMzMHQGZmZmZmZv4/mpmZmZmZTkBmZmZmZqY0QDMzMzMzsy1ANDMzMzOzIUAAAAAAAAAbQM3MzMzMzDNAmpmZmZn5Q0BmZmZmZmb+PzMzMzMzM/8/mpmZmZmZ4T8zMzMzMzP/P8zMzMzMbGBAAAAAAACAIEA0MzMzM7MhQGdmZmZmFlBAZmZmZmZm/j/NzMzMzMwTQA==",
          "dtype": "f8"
         },
         "yaxis": "y"
        },
        {
         "hovertemplate": "Invoice Date=2011-02-01<br>Invoice Number=%{x}<br>Total Sales=%{y}<extra></extra>",
         "legendgroup": "2011-02-01",
         "marker": {
          "color": "#B6E880",
          "symbol": "circle"
         },
         "mode": "markers",
         "name": "2011-02-01",
         "showlegend": true,
         "type": "scattergl",
         "x": {
          "bdata": "OEgIADpICAA7SAgAPEgIAEFICABCSAgAREgIAEVICABGSAgAR0gIAEtICABMSAgATUgIAFBICABWSAgAXEgIAHNICAB0SAgAikgIAItICACOSAgAj0gIAJBICACRSAgAlEgIAJVICACWSAgAmEgIAKFICACmSAgAqEgIAKlICACqSAgAq0gIAKxICACtSAgAr0gIALBICACxSAgAskgIALNICAC0SAgAtUgIALZICAC3SAgAu0gIALxICAC9SAgAwkgIAMNICADHSAgA",
          "dtype": "i4"
         },
         "xaxis": "x",
         "y": {
          "bdata": "MzMzMzOzLUBmZmZmZuYtQDMzMzMzMy9AAAAAAAAAKUAzMzMzMzNJQDQzMzMzszFAzczMzMzMP0AAAAAAAAA+QM3MzMzMzC9AAAAAAADAMkAAAAAAAAA7QAAAAAAAAClAZmZmZmZm7j+amZmZmZkHQAAAAAAAwE1AmZmZmZnZMUAAAAAAAAA+QGZmZmZmZhRAMzMzMzMzKUAAAAAAAIA5QAAAAAAAABFANDMzMzOzMUAAAAAAAAAkQGZmZmZm5i1AZmZmZmZm/j8zMzMzMzMbQClcj8L1KBRAZmZmZmZmJECamZmZmZkXQGZmZmZmZv4/MzMzMzOzLUAAAAAAAIBZQDMzMzMzMwtAAAAAAAAALkBwPQrXo3BjQJqZmZmZmT9AZmZmZmZmFEAAAAAAAOBQQDMzMzMzi2hAzczMzMzMH0DNzMzMzMwjQDMzMzMz8zBAmpmZmZnZMUAAAAAAAAAuQGZmZmZmZkRAZmZmZmbmU0DNzMzMzMwAQDQzMzMz84ZAZmZmZmZmJ0BmZmZmZuZBQAAAAAAAYGhA",
          "dtype": "f8"
         },
         "yaxis": "y"
        },
        {
         "hovertemplate": "Invoice Date=2011-02-02<br>Invoice Number=%{x}<br>Total Sales=%{y}<extra></extra>",
         "legendgroup": "2011-02-02",
         "marker": {
          "color": "#FF97FF",
          "symbol": "circle"
         },
         "mode": "markers",
         "name": "2011-02-02",
         "showlegend": true,
         "type": "scattergl",
         "x": {
          "bdata": "yEgIAMlICADLSAgAzUgIAM9ICADQSAgA0UgIANJICADTSAgA1EgIANVICADWSAgA4EgIAA1JCAAOSQgAEEkIABFJCAASSQgAE0kIABRJCAAZSQgAGkkIABtJCAAdSQgAHkkIAB9JCAAgSQgAIUkIACJJCAAjSQgAJEkIACdJCAAoSQgAKUkIACtJCAAsSQgALUkIAC5JCAAvSQgAMEkIADFJCAA0SQgANUkIADdJCAA4SQgAOUkIADxJCAA+SQgAQEkIAEFJCABDSQgA",
          "dtype": "i4"
         },
         "xaxis": "x",
         "y": {
          "bdata": "AAAAAABAWkAAAAAAACBXQGZmZmZmZiRAKVyPwvUoFEBxPQrXo3BZQDQzMzMzszFAAAAAAACAQ0DNzMzMzMxXQDMzMzMzsy1ACtejcD0KS0AAAAAAAIBZQAAAAAAA4FBAMzMzMzMzS0DWo3A9CtcbQM3MzMzMzC9AAAAAAAAAPkAAAAAAAAAuQM3MzMzMzD9A4XoUrkfhMUAAAAAAAAAxQM3MzMzMzDNAAAAAAAAALkAAAAAAAAAuQGZmZmZmZiRAZmZmZmaGWEAAAAAAAEA3QDQzMzMzMzlAZmZmZmbmLEAAAAAAAIApQM3MzMzMzDNAmpmZmZmZB0AAAAAAAAA5QAAAAAAAoGRAAAAAAAAALkA0MzMzM7MhQJqZmZmZmRdANDMzMzMzOUAAAAAAAAAuQDQzMzMzs0FANDMzMzMzOUBmZmZmZmYqQDQzMzMzszFAmpmZmZnZMUAAAAAAAAAuQAAAAAAAgDNAAAAAAACAWUDNzMzMzMwIQDMzMzMzMylAmpmZmZmZB0DNzMzMzMwTQM3MzMzMzCdA",
          "dtype": "f8"
         },
         "yaxis": "y"
        },
        {
         "hovertemplate": "Invoice Date=2011-02-03<br>Invoice Number=%{x}<br>Total Sales=%{y}<extra></extra>",
         "legendgroup": "2011-02-03",
         "marker": {
          "color": "#FECB52",
          "symbol": "circle"
         },
         "mode": "markers",
         "name": "2011-02-03",
         "showlegend": true,
         "type": "scattergl",
         "x": {
          "bdata": "REkIAEVJCABGSQgAR0kIAE1JCABOSQgAUUkIAHZJCAB3SQgAeEkIAHpJCAB7SQgAgkkIAINJCACESQgAh0kIAIlJCACLSQgAjEkIAI5JCACQSQgAkkkIAJNJCACUSQgAlUkIAJZJCACXSQgAmEkIAJlJCACaSQgAm0kIAJxJCACdSQgAnkkIALlJCAC6SQgAu0kIALxJCAC9SQgA",
          "dtype": "i4"
         },
         "xaxis": "x",
         "y": {
          "bdata": "mpmZmZmZLkAAAAAAAAAuQJqZmZmZmS9AzczMzMxsmUAAAAAAAAApQDQzMzMzszFANTMzMzPTe0DNzMzMzMwfQM3MzMzMzCNAmpmZmZn5SECamZmZmZk+QAAAAAAAAFtAAAAAAAAAIUAAAAAAAAAlQM3MzMzMzC9AZmZmZmbmMUAAAAAAAAAuQM3MzMzMzB9AAAAAAACAWUAzMzMzM7MtQM3MzMzMzB9AAAAAAACASUAAAAAAAIAzQAAAAAAAACtAZmZmZmZmCkDNzMzMzMw/QM3MzMzMzDNAzczMzMzMM0AAAAAAAAAuQAAAAAAAgDNAAAAAAACANkAAAAAAAAAxQAAAAAAAADFAAAAAAAAALkA0MzMzMzM5QJqZmZmZmR9AMzMzMzOzXUAAAAAAAAAeQGZmZmZmZu4/",
          "dtype": "f8"
         },
         "yaxis": "y"
        },
        {
         "hovertemplate": "Invoice Date=2011-02-04<br>Invoice Number=%{x}<br>Total Sales=%{y}<extra></extra>",
         "legendgroup": "2011-02-04",
         "marker": {
          "color": "#636efa",
          "symbol": "circle"
         },
         "mode": "markers",
         "name": "2011-02-04",
         "showlegend": true,
         "type": "scattergl",
         "x": {
          "bdata": "vkkIAL9JCADASQgAwUkIAMJJCADFSQgAxkkIAMlJCADPSQgA0EkIANJJCADTSQgA1UkIANZJCADXSQgA2EkIANlJCADcSQgA3UkIAN5JCADfSQgA4kkIAABKCAADSggACEoIAApKCAALSggADUoIAA5KCAAPSggAEEoIABFKCAASSggAE0oIABRKCAAVSggAF0oIABhKCAAgSggA",
          "dtype": "i4"
         },
         "xaxis": "x",
         "y": {
          "bdata": "ZmZmZmbmQ0AzMzMzM5NTQHA9CtejcFNA16NwPQpXZEDNzMzMzIxRQAAAAAAAACVANDMzMzOzMUAAAAAAAGBIQDMzMzMzsy1AZ2ZmZmbmUkBmZmZmZoZYQM3MzMzMzDNAAAAAAAAALkAAAAAAAAAuQDMzMzMzM/8/zMzMzMzMc0DNzMzMzMwzQAAAAAAAgDBANDMzMzOzQUCamZmZmZlOQDQzMzMzszFAZ2ZmZmY2gUAAAAAAAIA2QM3MzMzMzCNAzczMzMzMI0A0MzMzM7MxQAAAAAAA4G9AAAAAAAAAIUBmZmZmZmYkQAAAAAAAoGRAzMzMzMzMY0A0MzMzM7MxQDQzMzMzMx9AAAAAAAAALkAAAAAAAMBIQAAAAAAAcHJAZmZmZmbmU0BmZmZmZmbuPwAAAAAAABFA",
          "dtype": "f8"
         },
         "yaxis": "y"
        },
        {
         "hovertemplate": "Invoice Date=2011-02-06<br>Invoice Number=%{x}<br>Total Sales=%{y}<extra></extra>",
         "legendgroup": "2011-02-06",
         "marker": {
          "color": "#EF553B",
          "symbol": "circle"
         },
         "mode": "markers",
         "name": "2011-02-06",
         "showlegend": true,
         "type": "scattergl",
         "x": {
          "bdata": "KEoIAClKCAAqSggAK0oIACxKCAAtSggALkoIAC9KCAAwSggAMUoIADJKCAA=",
          "dtype": "i4"
         },
         "xaxis": "x",
         "y": {
          "bdata": "mpmZmZmZJ0AzMzMzMzPrPzQzMzMzsz1AZmZmZmbmMUAAAAAAAAAuQJqZmZmZ2TdAKVyPwvUoNEAzMzMzMzMHQAAAAAAAACFAMzMzMzMz6z8AAAAAAAAhQA==",
          "dtype": "f8"
         },
         "yaxis": "y"
        },
        {
         "hovertemplate": "Invoice Date=2011-02-07<br>Invoice Number=%{x}<br>Total Sales=%{y}<extra></extra>",
         "legendgroup": "2011-02-07",
         "marker": {
          "color": "#00cc96",
          "symbol": "circle"
         },
         "mode": "markers",
         "name": "2011-02-07",
         "showlegend": true,
         "type": "scattergl",
         "x": {
          "bdata": "M0oIADRKCAA1SggANkoIADdKCAA4SggAO0oIADxKCAA9SggAPkoIAERKCABKSggATUoIAF1KCABkSggAbkoIAHRKCAB1SggAd0oIAHhKCAB6SggAe0oIAH9KCACHSggAiUoIAItKCACNSggAjkoIAJFKCACSSggAk0oIAJRKCACWSggA",
          "dtype": "i4"
         },
         "xaxis": "x",
         "y": {
          "bdata": "zczMzMzMM0AAAAAAAAAuQGZmZmZm5iNAmpmZmZmZTkAzMzMzMzNJQM3MzMzMzDNAmpmZmZn5Q0BmZmZmZmYUQGZmZmZmZiRAZmZmZmZm7j8AAAAAAAA+QGZmZmZmZv4/AAAAAAAAG0A0MzMzM7MxQDQzMzMzszFAmpmZmZnZPUAAAAAAACByQGZmZmZmZgRAAAAAAAAAKUCamZmZmZkXQGZmZmZmZidAzczMzMzMJ0CamZmZmZkeQClcj8L1KBRAAAAAAAAAK0AAAAAAAAAEQGZmZmZmZjdAAAAAAACAM0AAAAAAAAAuQNejcD0KH6lA16NwPQofqUBmZmZmZmYxQGZmZmZmZgpA",
          "dtype": "f8"
         },
         "yaxis": "y"
        },
        {
         "hovertemplate": "Invoice Date=2011-02-08<br>Invoice Number=%{x}<br>Total Sales=%{y}<extra></extra>",
         "legendgroup": "2011-02-08",
         "marker": {
          "color": "#ab63fa",
          "symbol": "circle"
         },
         "mode": "markers",
         "name": "2011-02-08",
         "showlegend": true,
         "type": "scattergl",
         "x": {
          "bdata": "nUoIAJ9KCACgSggAoUoIAKJKCACjSggApEoIAKVKCACmSggAqEoIALVKCADESggA1koIANdKCADZSggA3EoIAN5KCADfSggA4EoIAOFKCADiSggA5koIAOdKCADoSggA6koIAOxKCADuSggA8koIAPRKCAD1SggA9koIAPdKCAD4SggA+UoIAPpKCAA=",
          "dtype": "i4"
         },
         "xaxis": "x",
         "y": {
          "bdata": "AAAAAAAAEUAAAAAAAIAwQGZmZmZmZjdAAAAAAACAM0BnZmZmZqZwQM3MzMzMzC9AmpmZmZmZP0BmZmZmZmb6P5qZmZmZmTBAAAAAAAAAIUBmZmZmZmZUQJqZmZmZmS9AZmZmZmbmLUBmZmZmZmY0QAAAAAAAAE5ANDMzMzOzMUDNzMzMzMwnQGZmZmZmZmRAzczMzMzMU0DsUbgehWteQDMzMzMzM+s/AAAAAAAALkBxPQrXo3BZQGZmZmZmZiRAAAAAAACARkAzMzMzM7MtQGZmZmZmZjFAzczMzMzMH0AAAAAAAAAuQAAAAAAAAC5AAAAAAAAAYUAAAAAAAIBWQM3MzMzMzDNAzczMzMzMJ0DNzMzMzMwXQA==",
          "dtype": "f8"
         },
         "yaxis": "y"
        },
        {
         "hovertemplate": "Invoice Date=2011-02-09<br>Invoice Number=%{x}<br>Total Sales=%{y}<extra></extra>",
         "legendgroup": "2011-02-09",
         "marker": {
          "color": "#FFA15A",
          "symbol": "circle"
         },
         "mode": "markers",
         "name": "2011-02-09",
         "showlegend": true,
         "type": "scattergl",
         "x": {
          "bdata": "+0oIAP1KCAD+SggA/0oIABNLCAAfSwgAIEsIACNLCAAnSwgAKUsIAC5LCAAvSwgAMksIADNLCAA0SwgANksIADdLCAA7SwgA",
          "dtype": "i4"
         },
         "xaxis": "x",
         "y": {
          "bdata": "AAAAAAAAO0AAAAAAAIApQGZmZmZmZiRAAAAAAAAAIUCamZmZmZkHQEjhehSuRzRANDMzMzOzPUA0MzMzM7MxQAAAAAAAgDBAmpmZmZmZD0AAAAAAAAAuQAAAAAAAACFAAAAAAACAM0AAAAAAAAAhQDQzMzMzMzlAZmZmZmZmNEA0MzMzMzMTQDMzMzMzM/8/",
          "dtype": "f8"
         },
         "yaxis": "y"
        },
        {
         "hovertemplate": "Invoice Date=2011-02-10<br>Invoice Number=%{x}<br>Total Sales=%{y}<extra></extra>",
         "legendgroup": "2011-02-10",
         "marker": {
          "color": "#19d3f3",
          "symbol": "circle"
         },
         "mode": "markers",
         "name": "2011-02-10",
         "showlegend": true,
         "type": "scattergl",
         "x": {
          "bdata": "PEsIAD1LCABBSwgAQksIAENLCABNSwgAYksIAGRLCABlSwgAZksIAGdLCABoSwgAaUsIAGpLCABrSwgAbEsIAG1LCABuSwgAcEsIAHFLCABySwgAdEsIAHpLCAB8SwgAgksIAINLCACGSwgAh0sIAIpLCACOSwgAj0sIAJdLCACZSwgAmksIAJ1LCACeSwgAn0sIAA==",
          "dtype": "i4"
         },
         "xaxis": "x",
         "y": {
          "bdata": "MzMzMzPzQ0BSuB6F69FxQDMzMzMz8zBAAAAAAAAAMUDNzMzMzMw/QJqZmZmZ2UFAAAAAAAAALkAUrkfhehRDQAAAAAAAgFpAKVyPwvUoFEDNzMzMzMwjQJqZmZmZGSdAAAAAAABwZEAAAAAAAAAuQAAAAAAAoGRAAAAAAAAAMUBmZmZmZkZGQAAAAAAAgDlAmpmZmZmZH0AAAAAAAAAxQAAAAAAAgClAZmZmZmZmNEAAAAAAAAAlQGZmZmZm5lVAmpmZmZmZLkAAAAAAAAAuQAAAAAAAACVAmpmZmZkZV0A0MzMzM7NBQAAAAAAAAB5AAAAAAAAAJUDNzMzMzMwjQAAAAAAAAB5AzMzMzMzME0CamZmZmZkXQM3MzMzMzCBAAAAAAAAADkA=",
          "dtype": "f8"
         },
         "yaxis": "y"
        },
        {
         "hovertemplate": "Invoice Date=2011-02-11<br>Invoice Number=%{x}<br>Total Sales=%{y}<extra></extra>",
         "legendgroup": "2011-02-11",
         "marker": {
          "color": "#FF6692",
          "symbol": "circle"
         },
         "mode": "markers",
         "name": "2011-02-11",
         "showlegend": true,
         "type": "scattergl",
         "x": {
          "bdata": "oEsIAKFLCACiSwgAo0sIAKRLCAClSwgAqUsIAKpLCACwSwgAtEsIALVLCAC2SwgAuEsIALlLCAC6SwgAu0sIAMhLCADLSwgAzUsIAPJLCADzSwgA9ksIAPdLCAD4SwgA+ksIAPtLCAD8SwgAAkwIAANMCAAETAgACkwIAA9MCAAaTAgAHkwIACFMCAAsTAgA",
          "dtype": "i4"
         },
         "xaxis": "x",
         "y": {
          "bdata": "zczMzMzMI0A1MzMzM/N2QAAAAAAA2IVAMzMzMzMzKUBmZmZmZmYqQM3MzMzMzCdAAAAAAAAALkAAAAAAAEBPQAAAAAAAADFAmpmZmZmZB0AAAAAAAKChQAAAAAAAgHBAAAAAAAAgc0AAAAAAAIBpQAAAAAAAkIJAAAAAAADod0AAAAAAACByQGZmZmZm5mtANDMzMzOzUUAAAAAAAAApQGZmZmZmZiRAZmZmZmZmJEAAAAAAAIBGQOF6FK5H4QpAFa5H4XoUU0AAAAAAAAAuQJqZmZmZmRdAAAAAAAAAPkBI4XoUrkdEQAAAAAAAAC5AmpmZmZnZMUDNzMzMzMwzQAAAAAAAACVAAAAAAAAAJUAK16NwPQobQHsUrkfhetQ/",
          "dtype": "f8"
         },
         "yaxis": "y"
        },
        {
         "hovertemplate": "Invoice Date=2011-02-13<br>Invoice Number=%{x}<br>Total Sales=%{y}<extra></extra>",
         "legendgroup": "2011-02-13",
         "marker": {
          "color": "#B6E880",
          "symbol": "circle"
         },
         "mode": "markers",
         "name": "2011-02-13",
         "showlegend": true,
         "type": "scattergl",
         "x": {
          "bdata": "NUwIADZMCAA3TAgAOEwIADlMCAA6TAgAO0wIADxMCAA9TAgAPkwIAD9MCABATAgAQUwIAEJMCABETAgARUwIAEZMCABHTAgASEwIAExMCAA=",
          "dtype": "i4"
         },
         "xaxis": "x",
         "y": {
          "bdata": "AAAAAACAWUAAAAAAAAAOQDMzMzMzMx9AAAAAAABATUCamZmZmVlQQM3MzMzMzCNAzczMzMzMJUAAAAAAAAAuQM3MzMzMzCNAMzMzMzMzKUAAAAAAAIAmQGZmZmZmZu4/ZmZmZmZmGkBmZmZmZmb+P5qZmZmZmR9AAAAAAACAOUA0MzMzM7NBQGZmZmZmZgpAAAAAAADAOECZmZmZmdkxQA==",
          "dtype": "f8"
         },
         "yaxis": "y"
        },
        {
         "hovertemplate": "Invoice Date=2011-02-14<br>Invoice Number=%{x}<br>Total Sales=%{y}<extra></extra>",
         "legendgroup": "2011-02-14",
         "marker": {
          "color": "#FF97FF",
          "symbol": "circle"
         },
         "mode": "markers",
         "name": "2011-02-14",
         "showlegend": true,
         "type": "scattergl",
         "x": {
          "bdata": "TUwIAE9MCABQTAgAUUwIAFVMCABXTAgAWEwIAFxMCABfTAgAYkwIAGxMCACdTAgAo0wIAKRMCACmTAgAqEwIAKlMCACqTAgAq0wIAK9MCACxTAgAs0wIALRMCAC+TAgAv0wIAOVMCADnTAgA6EwIAOlMCADqTAgA60wIAA==",
          "dtype": "i4"
         },
         "xaxis": "x",
         "y": {
          "bdata": "zczMzMzML0CamZmZmZleQAAAAAAAADFAzczMzMzML0AVrkfhehRTQAAAAAAAoHRANDMzMzOzMUAAAAAAAAAlQM3MzMzMzBVAPQrXo3B9kUAzMzMzM/N2QGZmZmZmZiRAAAAAAACAKUAAAAAAAIBZQAAAAAAAAC5AFa5H4XoUU0AAAAAAAIAmQGZmZmZmZhRAzczMzMzMIEAAAAAAAIAwQDQzMzMzszFANDMzMzOzQUAAAAAAAAD0PwAAAAAAgDNAmpmZmZmZLkBmZmZmZmYhQGZmZmZmZilAFK5H4XoUY0DXo3A9CldUQGZmZmZmZiFAzczMzMzMG0A=",
          "dtype": "f8"
         },
         "yaxis": "y"
        },
        {
         "hovertemplate": "Invoice Date=2011-02-15<br>Invoice Number=%{x}<br>Total Sales=%{y}<extra></extra>",
         "legendgroup": "2011-02-15",
         "marker": {
          "color": "#FECB52",
          "symbol": "circle"
         },
         "mode": "markers",
         "name": "2011-02-15",
         "showlegend": true,
         "type": "scattergl",
         "x": {
          "bdata": "7UwIAO5MCADvTAgA8EwIAPJMCADzTAgA9EwIAPZMCAD3TAgA+UwIAPpMCAD7TAgA/EwIAP1MCAD+TAgAI00IACRNCAAlTQgAJ00IAChNCAApTQgAKk0IACtNCAAsTQgALU0IADNNCAA3TQgAOE0IADpNCAA7TQgAPE0IAD1NCAA+TQgAQE0IAEFNCABCTQgAQ00IAERNCABGTQgAR00IAExNCABNTQgATk0IAE9NCABRTQgAU00IAFRNCABXTQgA",
          "dtype": "i4"
         },
         "xaxis": "x",
         "y": {
          "bdata": "mpmZmZmZLkBmZmZmZmYkQGZmZmZmZjFAZmZmZmbmM0AAAAAAAAAOQAAAAAAAAD5ANDMzMzOzMUBmZmZmZmYxQAAAAAAAQFVAAAAAAAAALkCamZmZmRlqQGdmZmZm5lJAMzMzMzOzLUDNzMzMzMwzQDQzMzMzM09AAAAAAAAAO0AAAAAAAAArQM3MzMzMzC9AAAAAAADgUECamZmZmZkXQClcj8L1KBRAMzMzMzMzB0AAAAAAAIApQM3MzMzMzB9AmpmZmZkZakDNzMzMzMwzQDQzMzMzszFAAAAAAACAM0AAAAAAAAAuQAAAAAAAAARAAAAAAACAKUCamZmZmZk+QHE9CtejcFlAzczMzMzMH0AAAAAAAIApQAAAAAAAAEFAMzMzMzMzH0BmZmZmZmYEQDQzMzMzszFAZmZmZmZmMUAAAAAAAIBGQM3MzMzMzB9AmpmZmZmZXkAAAAAAAKBkQJqZmZmZmV5ASOF6FK5HVEDNzMzMzMw3QGZmZmZmZv4/",
          "dtype": "f8"
         },
         "yaxis": "y"
        },
        {
         "hovertemplate": "Invoice Date=2011-02-16<br>Invoice Number=%{x}<br>Total Sales=%{y}<extra></extra>",
         "legendgroup": "2011-02-16",
         "marker": {
          "color": "#636efa",
          "symbol": "circle"
         },
         "mode": "markers",
         "name": "2011-02-16",
         "showlegend": true,
         "type": "scattergl",
         "x": {
          "bdata": "Wk0IAFtNCABcTQgAXU0IAF5NCABfTQgAYE0IAGJNCABkTQgAZU0IAGZNCABnTQgAaE0IAGlNCABqTQgAa00IAG1NCABuTQgAb00IAHBNCAB9TQgAgU0IAI9NCACTTQgAlk0IAJdNCACYTQgAmU0IAJpNCACbTQgAnk0IAJ9NCACgTQgAoU0IAKJNCACjTQgApE0IAKVNCACmTQgAp00IAKhNCACpTQgAqk0IALBNCACxTQgAsk0IALNNCAC0TQgAtU0IALZNCAC3TQgAuU0IALtNCAC9TQgAvk0IAL9NCADATQgA",
          "dtype": "i4"
         },
         "xaxis": "x",
         "y": {
          "bdata": "MzMzMzOzLUAAAAAAAAA+QAAAAAAAAC5A16NwPQpXVEA0MzMzMzMfQAAAAAAAgDlAZmZmZmZmJEAAAAAAAAAxQDMzMzMzMxdAMzMzMzMzL0DNzMzMzMwTQGZmZmZmZgpAZmZmZmZmVEAAAAAAAAA+QM3MzMzMzCtANDMzMzOzMUBmZmZmZmbuPwAAAAAAACFANDMzMzMzOUAzMzMzMzP3PwAAAAAAgFlAAAAAAAAAUUAAAAAAAABRQGZmZmZmZhpAZmZmZmbmLUDNzMzMzMxFQAAAAAAAAGJAAAAAAAAAIUAAAAAAAGB4QAAAAAAAIHNANDMzMzMzOUDNzMzMzMwvQGZmZmZmZkRAAAAAAACAMEAAAAAAAIAgQM3MzMzMzDNAAAAAAAAAW0CamZmZmZk+QAAAAAAA4FBAAAAAAAAALkCamZmZmZluQAAAAAAAAC5AFa5H4XoUU0AK16NwPQorQJqZmZmZmSdAAAAAAADgUEDNzMzMzMwzQAAAAAAAAC5AZmZmZmZmN0A0MzMzM7MxQAAAAAAAoHRAH4XrUbiuYkBmZmZmZmYqQAAAAAAAAD9AAAAAAAAAMUAAAAAAAAAlQDQzMzMzszFA",
          "dtype": "f8"
         },
         "yaxis": "y"
        },
        {
         "hovertemplate": "Invoice Date=2011-02-17<br>Invoice Number=%{x}<br>Total Sales=%{y}<extra></extra>",
         "legendgroup": "2011-02-17",
         "marker": {
          "color": "#EF553B",
          "symbol": "circle"
         },
         "mode": "markers",
         "name": "2011-02-17",
         "showlegend": true,
         "type": "scattergl",
         "x": {
          "bdata": "wk0IAMNNCADETQgAxU0IAMZNCADHTQgA0U0IANNNCAAPTggAFU4IABZOCAAYTggAGk4IABtOCAAeTggAJE4IACVOCAAmTggAJ04IAChOCAApTggAKk4IACtOCAAtTggAL04IADBOCAAxTggAMk4IADNOCAA0TggANU4IADdOCAA4TggAOU4IADpOCAA7TggAPE4IAD1OCAA/TggAQE4IAEJOCABITggASU4IAEpOCABMTggATk4IAE9OCABQTggA",
          "dtype": "i4"
         },
         "xaxis": "x",
         "y": {
          "bdata": "AAAAAACAWUDNzMzMzMwvQAAAAAAAAEdANDMzMzOzMUA0MzMzMzM5QEjhehSuRzRAzczMzMzML0AAAAAAAAA+QArXo3A9CitAAAAAAAAALkApXI/C9SgUQM3MzMzMzDNAZmZmZmbmZUBmZmZmZmYaQGZmZmZm5j1AAAAAAACAOUBmZmZmZmYKQJqZmZmZmTdAZmZmZmZmMUAAAAAAAAAyQDMzMzMzMy9ANDMzMzOzTUDNzMzMzMwzQDMzMzMzMwdAZmZmZmZm+j8AAAAAAIApQM3MzMzMzC9AMzMzMzMzKUApXI/C9SgkQAAAAAAAgFlAAAAAAACALUAzMzMzMzP7P2ZmZmZmZgpAzczMzMzMMECamZmZmdkxQGZmZmZmZvo/zczMzMzMI0DNzMzMzMwvQGZmZmZmZidAzczMzMzMTEA0MzMzMzNPQJqZmZmZGTpAZmZmZmZmN0ApXI/C9SgEQGZmZmZmZiRAMzMzMzOzXUAAAAAAAIAjQGZmZmZmZgpA",
          "dtype": "f8"
         },
         "yaxis": "y"
        },
        {
         "hovertemplate": "Invoice Date=2011-02-18<br>Invoice Number=%{x}<br>Total Sales=%{y}<extra></extra>",
         "legendgroup": "2011-02-18",
         "marker": {
          "color": "#00cc96",
          "symbol": "circle"
         },
         "mode": "markers",
         "name": "2011-02-18",
         "showlegend": true,
         "type": "scattergl",
         "x": {
          "bdata": "UU4IAFJOCABTTggAVU4IAF1OCABeTggAX04IAGBOCABhTggAYk4IAGROCABwTggAh04IAIhOCACJTggAik4IAItOCACOTggAkE4IAJROCACVTggAlk4IAJdOCACYTggAmU4IAJtOCACcTggApU4IAKpOCACuTggA",
          "dtype": "i4"
         },
         "xaxis": "x",
         "y": {
          "bdata": "ZmZmZmZmKkAAAAAAAIA5QDMzMzMzM0lAzczMzMzML0CamZmZmdlBQAAAAAAAgElAAAAAAACgZEBmZmZmZuYtQGZmZmZm5k1A4XoUrkfhMUApXI/C9SgUQDMzMzMzMw9AZmZmZmZmQUAAAAAAAKBkQGZmZmZmZv4/NDMzMzOzMUAAAAAAAIA2QDMzMzMzMwtAMzMzMzMz6z8AAAAAAIBAQAAAAAAA4FBANDMzMzMzGUAAAAAAAAAuQM3MzMzMzB9AAAAAAAAALkBmZmZmZmYkQClcj8L1KCRANDMzMzOzMUAAAAAAAABBQGZmZmZmZhRA",
          "dtype": "f8"
         },
         "yaxis": "y"
        },
        {
         "hovertemplate": "Invoice Date=2011-02-20<br>Invoice Number=%{x}<br>Total Sales=%{y}<extra></extra>",
         "legendgroup": "2011-02-20",
         "marker": {
          "color": "#ab63fa",
          "symbol": "circle"
         },
         "mode": "markers",
         "name": "2011-02-20",
         "showlegend": true,
         "type": "scattergl",
         "x": {
          "bdata": "t04IALhOCAC5TggAu04IALxOCAC9TggAvk4IAL9OCADATggAwU4IAMJOCADETggAxU4IAMZOCADHTggAyE4IAMlOCADLTggAzE4IAM1OCADOTggAz04IANBOCADRTggA0k4IANNOCAA=",
          "dtype": "i4"
         },
         "xaxis": "x",
         "y": {
          "bdata": "AAAAAABAWkA0MzMzM7MhQJqZmZmZmS5AAAAAAAAAYUAAAAAAAABSQM3MzMzMzBdAAAAAAAAARUA0MzMzM7NBQAAAAAAAAA5AMzMzMzMzC0DNzMzMzMw/QGZmZmZmZg5AZmZmZmbmI0CamZmZmZknQAAAAAAAACFAmpmZmZmZXkAAAAAAAIA5QM3MzMzMzD9AMzMzMzMz/z8AAAAAAAA5QJqZmZmZmRdANDMzMzOzMUAAAAAAAIAmQAAAAAAAACFANDMzMzMzP0AzMzMzMzMPQA==",
          "dtype": "f8"
         },
         "yaxis": "y"
        },
        {
         "hovertemplate": "Invoice Date=2011-02-21<br>Invoice Number=%{x}<br>Total Sales=%{y}<extra></extra>",
         "legendgroup": "2011-02-21",
         "marker": {
          "color": "#FFA15A",
          "symbol": "circle"
         },
         "mode": "markers",
         "name": "2011-02-21",
         "showlegend": true,
         "type": "scattergl",
         "x": {
          "bdata": "104IANhOCADZTggA204IANxOCADdTggA3k4IAOFOCADiTggA5E4IAOVOCAAsTwgANU8IADhPCAA5TwgAO08IADxPCABGTwgASk8IAE9PCABQTwgAVE8IAFVPCAA=",
          "dtype": "i4"
         },
         "xaxis": "x",
         "y": {
          "bdata": "AAAAAACARkAAAAAAAIBJQJqZmZmZWVBAAAAAAACARkAAAAAAAAD0P8zMzMzMzFNAmpmZmZn5eECamZmZmdkxQGdmZmZm5nJAmpmZmZnZQUDNzMzMzMwjQM3MzMzMzCNAmpmZmZnZMUBmZmZmZmYkQJqZmZmZmQdAZmZmZmZmMUA0MzMzMzM5QAAAAAAAAC5AzczMzMzMI0AzMzMzMzMvQAAAAAAAABtAmpmZmZmZLkDNzMzMzMwnQA==",
          "dtype": "f8"
         },
         "yaxis": "y"
        },
        {
         "hovertemplate": "Invoice Date=2011-02-22<br>Invoice Number=%{x}<br>Total Sales=%{y}<extra></extra>",
         "legendgroup": "2011-02-22",
         "marker": {
          "color": "#19d3f3",
          "symbol": "circle"
         },
         "mode": "markers",
         "name": "2011-02-22",
         "showlegend": true,
         "type": "scattergl",
         "x": {
          "bdata": "WE8IAFlPCABaTwgAW08IAFxPCABdTwgAXk8IAF9PCABiTwgAY08IAGRPCAB5TwgAek8IAHxPCAB9TwgAfk8IAIJPCACDTwgAhE8IAIVPCACGTwgAh08IAIhPCACKTwgAi08IAIxPCACOTwgAkE8IAJFPCACSTwgAk08IAJRPCACVTwgAlk8IAJdPCACYTwgAmk8IAJtPCACcTwgAnk8IAKFPCACjTwgApE8IAKVPCACmTwgAqE8IAK1PCACuTwgAr08IAA==",
          "dtype": "i4"
         },
         "xaxis": "x",
         "y": {
          "bdata": "zczMzMzMT0AAAAAAAAAuQDQzMzMzs0FAMzMzMzPzVkAzMzMzMzNpQM3MzMzMzFNAAAAAAACgZEBmZmZmZmYxQM3MzMzMzC9AKVyPwvUoJECkcD0K1wWpQBWuR+F6FFNAmpmZmZmZIEA0MzMzM7NBQDQzMzMzs0FAZmZmZmZmKkBmZmZmZuZNQGZmZmZmZiRAZmZmZmZmQUBmZmZmZmZBQDMzMzMz8zNAAAAAAAAAKkA0MzMzM7MxQGZmZmZm5iNAAAAAAABAWkAzMzMzMzNZQAAAAAAAAPQ/ZmZmZmbmQ0DNzMzMzMxDQAAAAAAA4FBAAAAAAAAAIUA0MzMzM7MxQJqZmZmZ2T1AAAAAAAAAIUCamZmZmZkuQDQzMzMzszFAAAAAAACAJUAAAAAAAABSQGZmZmZmZiRAZmZmZmZmF0AAAAAAAGBBQM3MzMzMzDNAMzMzMzMzD0BmZmZmZmb+PwAAAAAAACVAMzMzMzMz+z8AAAAAAAAuQDMzMzMzM/8/ZmZmZmZmNEA=",
          "dtype": "f8"
         },
         "yaxis": "y"
        },
        {
         "hovertemplate": "Invoice Date=2011-02-23<br>Invoice Number=%{x}<br>Total Sales=%{y}<extra></extra>",
         "legendgroup": "2011-02-23",
         "marker": {
          "color": "#FF6692",
          "symbol": "circle"
         },
         "mode": "markers",
         "name": "2011-02-23",
         "showlegend": true,
         "type": "scattergl",
         "x": {
          "bdata": "sE8IALFPCACzTwgAtE8IALVPCAC2TwgAt08IALlPCAC6TwgAu08IALxPCAC9TwgAvk8IAM1PCADUTwgA7U8IAPJPCAABUAgABlAIAAlQCAAKUAgAC1AIABRQCAAVUAgAFlAIABdQCAAYUAgAGVAIABpQCAAbUAgAHFAIAB1QCAAeUAgAH1AIACBQCAAhUAgAIlAIACNQCAAkUAgAJVAIACZQCAAnUAgAKFAIAClQCAAqUAgALVAIAC9QCAAwUAgAM1AIAA==",
          "dtype": "i4"
         },
         "xaxis": "x",
         "y": {
          "bdata": "zczMzMzMN0BmZmZmZuZrQDMzMzMzsy1AZmZmZmbmQ0CamZmZmZkvQArXo3A9CitANDMzMzOzMUCamZmZmZkuQDMzMzMzM3BAmZmZmZmZZUAzMzMzMzP/PzMzMzMz8zBAMzMzMzMzL0BmZmZmZmYxQM3MzMzMzC9AzczMzMzML0DWo3A9CtcbQDQzMzMzszFAmpmZmZmZLkBmZmZmZmYEQJqZmZmZmRdAzczMzMzMM0ApXI/C9SgUQGZmZmZmZjFAzczMzMzMM0A0MzMzM7MxQDMzMzMzc1hAXI/C9Shca0AAAAAAAAAxQClcj8L1KBRAZmZmZmZmKkDNzMzMzMxjQAAAAAAAgDNAZmZmZmbmM0AAAAAAAIA2QM3MzMzMzDBAAAAAAAAALkAAAAAAAAD0PwAAAAAAAE1AzczMzMxsWUBmZmZmZmYkQAAAAAAAsGxAAAAAAAAAGUAAAAAAAAAhQJqZmZmZmT9AmpmZmZmZJ0DNzMzMzMwkQAAAAAAAgHlAZmZmZmZmFEA=",
          "dtype": "f8"
         },
         "yaxis": "y"
        },
        {
         "hovertemplate": "Invoice Date=2011-02-24<br>Invoice Number=%{x}<br>Total Sales=%{y}<extra></extra>",
         "legendgroup": "2011-02-24",
         "marker": {
          "color": "#B6E880",
          "symbol": "circle"
         },
         "mode": "markers",
         "name": "2011-02-24",
         "showlegend": true,
         "type": "scattergl",
         "x": {
          "bdata": "NVAIADZQCAA3UAgAOFAIADlQCAA6UAgAQVAIAENQCABEUAgARVAIAEdQCABOUAgAT1AIAHVQCAB3UAgAeFAIAHxQCAB9UAgAflAIAH9QCACAUAgAglAIAINQCACEUAgAh1AIAIhQCACJUAgAilAIAItQCACMUAgAjVAIAI5QCACPUAgAkFAIAJFQCACSUAgAk1AIAJRQCACVUAgAllAIAJdQCACYUAgAmVAIAJpQCACbUAgAnFAIAJ1QCACeUAgAoVAIAKJQCAA=",
          "dtype": "i4"
         },
         "xaxis": "x",
         "y": {
          "bdata": "AAAAAAAAQUAAAAAAAAA+QAAAAAAAADFAAAAAAAAAKUAAAAAAAIBGQGZmZmZmZvo/AAAAAAAAPkDNzMzMzMwzQAAAAAAAwDNANDMzMzOzIUDNzMzMzMw0QAAAAAAAAB5AAAAAAAAALkCamZmZmZk3QGZmZmZm5jNANDMzMzOzMUDNzMzMzMwTQAAAAAAAAC5AzczMzMzMI0DNzMzMzMwjQAAAAAAAgDlAzczMzMzML0DNzMzMzMwnQDQzMzMzszFAMzMzMzMzL0DNzMzMzMwvQGdmZmZmZhpAmpmZmZmZPkAAAAAAAAAuQGZmZmZmZjdAAAAAAAAAXkAAAAAAAAAuQM3MzMzMzDNANDMzMzOzMUCamZmZmZknQNejcD0KV1RAmpmZmZmZS0AAAAAAAIAtQAAAAAAAACVAAAAAAAAAUUAAAAAAAIAwQM3MzMzMzDNAmpmZmZmZPkAzMzMzM/M2QM3MzMzMzFNAzczMzMzMM0AAAAAAAEBNQM3MzMzMzC9AFa5H4XoUU0BmZmZmZmbuPw==",
          "dtype": "f8"
         },
         "yaxis": "y"
        },
        {
         "hovertemplate": "Invoice Date=2011-02-25<br>Invoice Number=%{x}<br>Total Sales=%{y}<extra></extra>",
         "legendgroup": "2011-02-25",
         "marker": {
          "color": "#FF97FF",
          "symbol": "circle"
         },
         "mode": "markers",
         "name": "2011-02-25",
         "showlegend": true,
         "type": "scattergl",
         "x": {
          "bdata": "pFAIAKZQCACnUAgAqFAIAKlQCACrUAgArFAIAK1QCACuUAgAr1AIALBQCACxUAgAyFAIAMlQCADKUAgA5lAIAOdQCADoUAgA6VAIAOpQCADsUAgA81AIAPRQCAD1UAgA9lAIAPdQCAD4UAgA+lAIAPtQCAD8UAgA/VAIAP5QCAD/UAgAAlEIAARRCAAFUQgABlEIAAdRCAAIUQgAC1EIAAxRCAA=",
          "dtype": "i4"
         },
         "xaxis": "x",
         "y": {
          "bdata": "ZmZmZmZmJEBmZmZmZmY3QAAAAAAAADFAmpmZmZk9lEDNzMzMzMwzQGZmZmZmZiRAKVyPwvUoJEAAAAAAAIBNQDMzMzMzMy9AAAAAAAAALkA0MzMzM7M9QGZmZmZmZilASOF6FK5HVEAAAAAAAAAuQDQzMzMzszFAzczMzMzMBkCamZmZmdl3QAAAAAAAAC5AAAAAAAAAK0Bcj8L1KDxqQAAAAAAAgD1AmpmZmZmZF0BmZmZmZmY0QAAAAAAAgEBAAAAAAAAALkBmZmZmZmYxQAAAAAAAACVAMzMzMzMzL0A0MzMzMzM5QGZmZmZmZjdAmpmZmZmZPkA0MzMzM7MxQAAAAAAAgENAZmZmZmZmNECamZmZmZkuQAAAAAAAIEZASOF6FK5HVEBmZmZmZmYkQAAAAAAAIGNAAAAAAACAQ0AAAAAAAAAhQA==",
          "dtype": "f8"
         },
         "yaxis": "y"
        },
        {
         "hovertemplate": "Invoice Date=2011-02-27<br>Invoice Number=%{x}<br>Total Sales=%{y}<extra></extra>",
         "legendgroup": "2011-02-27",
         "marker": {
          "color": "#FECB52",
          "symbol": "circle"
         },
         "mode": "markers",
         "name": "2011-02-27",
         "showlegend": true,
         "type": "scattergl",
         "x": {
          "bdata": "DVEIAA5RCAAPUQgAEVEIABJRCAATUQgAFFEIABVRCAAWUQgAF1EIABhRCAAZUQgAGlEIABxRCAAdUQgAHlEIAB9RCAAgUQgAIVEIACJRCAAjUQgAJFEIACVRCAAmUQgAJ1EIAChRCAAqUQgAK1EIAC1RCAAuUQgAL1EIAA==",
          "dtype": "i4"
         },
         "xaxis": "x",
         "y": {
          "bdata": "mpmZmZnZN0AzMzMzMzMHQGZmZmZm5iNAAAAAAAAALkBmZmZmZmZRQAAAAAAAACFAZmZmZmaGSEAAAAAAAAARQJqZmZmZGSpAZmZmZmZmR0CamZmZmRknQGZmZmZm5lBAAAAAAACAM0BmZmZmZmZEQDMzMzMz8zNAAAAAAAAAJUBmZmZmZmYaQDQzMzMzs01ACtejcD0KO0AK16NwPQpLQDQzMzMzMxlAZmZmZmbmM0BmZmZmZuYtQJqZmZmZmRdAAAAAAACAIUAAAAAAAAAhQAAAAAAAAC5AzczMzMzMEEAAAAAAAAA+QGZmZmZmZkFAmpmZmZmZLkA=",
          "dtype": "f8"
         },
         "yaxis": "y"
        },
        {
         "hovertemplate": "Invoice Date=2011-02-28<br>Invoice Number=%{x}<br>Total Sales=%{y}<extra></extra>",
         "legendgroup": "2011-02-28",
         "marker": {
          "color": "#636efa",
          "symbol": "circle"
         },
         "mode": "markers",
         "name": "2011-02-28",
         "showlegend": true,
         "type": "scattergl",
         "x": {
          "bdata": "MVEIADJRCAAzUQgANFEIADVRCAA3UQgAOFEIADlRCAA6UQgAO1EIAD1RCAA/UQgAT1EIAHxRCAB9UQgAflEIAH9RCACAUQgAgVEIAIJRCACDUQgAhFEIAIVRCACGUQgAh1EIAIlRCACKUQgAi1EIAIxRCACNUQgAjlEIAJJRCACeUQgAn1EIAKBRCAChUQgAolEIAKNRCACkUQgAplEIAL1RCAC+UQgAwlEIAA==",
          "dtype": "i4"
         },
         "xaxis": "x",
         "y": {
          "bdata": "AAAAAACAKUAAAAAAAABNQAAAAAAAgDlAAAAAAAAAJUApXI/C9SgkQAAAAAAAACFAKVyPwvUoJEAAAAAAAAAuQDQzMzMzszFAZmZmZmZmN0CamZmZmdkxQAAAAAAAgGlAzczMzMzMJ0BmZmZmZmZBQAAAAAAAAD5AZmZmZmbmLUApXI/C9Sg0QAAAAAAAgDNAzczMzMzMM0AAAAAAAIApQGZmZmZm5iNAAAAAAAAAJEAAAAAAAIA5QAAAAAAAIHNAAAAAAAAAGkCamZmZmZkiQM3MzMzMzD9AZmZmZmZmJEAAAAAAAIAzQM3MzMzMzB9AzczMzMzMNUCamZmZmZkXQClcj8L1KERAAAAAAAAALkAAAAAAAAAuQM3MzMzMzFNAZmZmZmZmFEAAAAAAAMBCQAAAAAAAgClAAAAAAACAKUA0MzMzMzMfQAAAAAAAAC5AAAAAAACALUA=",
          "dtype": "f8"
         },
         "yaxis": "y"
        },
        {
         "hovertemplate": "Invoice Date=2011-03-01<br>Invoice Number=%{x}<br>Total Sales=%{y}<extra></extra>",
         "legendgroup": "2011-03-01",
         "marker": {
          "color": "#EF553B",
          "symbol": "circle"
         },
         "mode": "markers",
         "name": "2011-03-01",
         "showlegend": true,
         "type": "scattergl",
         "x": {
          "bdata": "xFEIAMVRCADGUQgAx1EIAMhRCADJUQgAzFEIAM1RCADPUQgA0FEIANFRCADSUQgA1VEIANZRCAD8UQgA/1EIAAdSCAAIUggACVIIAApSCAAOUggAFFIIABZSCAAXUggAGFIIABlSCAAaUggAHFIIAB1SCAAeUggAH1IIACBSCAAhUggAJlIIACdSCAApUggAKlIIACxSCAAtUggALlIIAC9SCAAwUggAM1IIADZSCAA5UggAOlIIAA==",
          "dtype": "i4"
         },
         "xaxis": "x",
         "y": {
          "bdata": "zczMzMzMJ0A0MzMzM7MxQDQzMzMzs01AAAAAAAAAQUAAAAAAAIAzQAAAAAAAgFpAzczMzMzMU0A0MzMzM7MxQGZmZmZmZjFAZmZmZmZmNEApXI/C9SgUQAAAAAAAAC5AAAAAAACAMEAAAAAAAAAlQM3MzMzMzBNAAAAAAAAAIUAAAAAAAEBdQAAAAAAAIGJAAAAAAAAALkAAAAAAAAAeQAAAAAAAACFAAAAAAACAKUBmZmZmZmbuPwAAAAAAgDlAAAAAAACAMEAAAAAAAKBkQAAAAAAAgCBA16NwPQrXB0A0MzMzM7NBQGZmZmZmZhRAAAAAAACAMEDNzMzMzMwGQAAAAAAAADFA16NwPQpXVEAAAAAAAIAzQAAAAAAAgDNAZmZmZmbmLUDNzMzMzMwfQM3MzMzMzFNAZmZmZmbmM0AzMzMzM7MtQDQzMzMzs0FAAAAAAAAABEDNzMzMzMwIQM3MzMzMzCNAMzMzMzOzLUA=",
          "dtype": "f8"
         },
         "yaxis": "y"
        },
        {
         "hovertemplate": "Invoice Date=2011-03-02<br>Invoice Number=%{x}<br>Total Sales=%{y}<extra></extra>",
         "legendgroup": "2011-03-02",
         "marker": {
          "color": "#00cc96",
          "symbol": "circle"
         },
         "mode": "markers",
         "name": "2011-03-02",
         "showlegend": true,
         "type": "scattergl",
         "x": {
          "bdata": "O1IIADxSCAA9UggAPlIIAD9SCABAUggAQVIIAEJSCABDUggARFIIAEVSCABhUggAdlIIAHhSCACAUggAglIIAINSCACEUggAhVIIAIZSCACHUggAiFIIAIlSCACKUggAi1IIAI9SCACRUggAklIIAJNSCACUUggAlVIIAJZSCACXUggAmVIIAJtSCAChUggApVIIAKdSCACzUggAtFIIAA==",
          "dtype": "i4"
         },
         "xaxis": "x",
         "y": {
          "bdata": "MzMzMzMzL0AAAAAAAIBZQAAAAAAAqplAZmZmZmZmNECamZmZmZkuQAAAAAAAAEFAzczMzMzML0DNzMzMzMwzQBWuR+F6FFNAmpmZmZnZMUAzMzMzMzP/P5qZmZmZmQdAmpmZmZnZUUBmZmZmZmZBQM3MzMzMzDBAAAAAAAAALkCamZmZmZknQM3MzMzMzCxAAAAAAACAWUBnZmZmZjaKQAAAAAAAgDBAAAAAAAAAPkAAAAAAAAAuQAAAAAAAQFVANDMzMzOzMUAAAAAAAAAlQDQzMzMzsyFANDMzMzOzMUBmZmZmZuYjQDMzMzMzMylAzczMzMzMH0AAAAAAAAAuQAAAAAAAgFlAAQAAAADwaUCamZmZmZkvQDMzMzMzM+s/ZmZmZmbmLUAzMzMzMzMpQAAAAAAAgClAZmZmZmZmBEA=",
          "dtype": "f8"
         },
         "yaxis": "y"
        },
        {
         "hovertemplate": "Invoice Date=2011-03-03<br>Invoice Number=%{x}<br>Total Sales=%{y}<extra></extra>",
         "legendgroup": "2011-03-03",
         "marker": {
          "color": "#ab63fa",
          "symbol": "circle"
         },
         "mode": "markers",
         "name": "2011-03-03",
         "showlegend": true,
         "type": "scattergl",
         "x": {
          "bdata": "tVIIALZSCAC3UggAuVIIALpSCAC7UggAvFIIAL1SCAC+UggAv1IIAMJSCADFUggA31IIAOFSCADoUggA6lIIAO5SCADvUggA8VIIAPJSCADzUggA9FIIAPZSCAD6UggA/lIIAP9SCAAHUwgACFMIAAlTCAAOUwgAE1MIABZTCAAXUwgAI1MIACVTCAAmUwgAJ1MIAChTCAApUwgAKlMIAA==",
          "dtype": "i4"
         },
         "xaxis": "x",
         "y": {
          "bdata": "AAAAAACAM0DNzMzMzMwzQDQzMzMzszFAAAAAAAAALkAAAAAAANCVQGZmZmZm5jVAAAAAAACAOUDNzMzMzMwvQAAAAAAAAD5APQrXo3A9TkCamZmZmZkuQAAAAAAAgDlAzczMzMzMK0AAAAAAAIApQAAAAAAAgDlAZmZmZmZm/j9mZmZmZmYkQM3MzMzMzDNAAAAAAABASkBmZmZmZmYqQAAAAAAAAB5AzczMzMzML0DNzMzMzMwjQAAAAAAAAC5AAAAAAACALUDWo3A9CtcrQAAAAAAAAC5AZmZmZmZmKkAzMzMzMzP3P0jhehSuR1FAAAAAAAAA9D9mZmZmZmZBQOF6FK5H4eo/KVyPwvUoFEA0MzMzMzM5QGZmZmZm5iFA4XoUrkfhMUAAAAAAACBDQAAAAAAAAC5AZmZmZmZmMUA=",
          "dtype": "f8"
         },
         "yaxis": "y"
        },
        {
         "hovertemplate": "Invoice Date=2011-03-04<br>Invoice Number=%{x}<br>Total Sales=%{y}<extra></extra>",
         "legendgroup": "2011-03-04",
         "marker": {
          "color": "#FFA15A",
          "symbol": "circle"
         },
         "mode": "markers",
         "name": "2011-03-04",
         "showlegend": true,
         "type": "scattergl",
         "x": {
          "bdata": "LFMIAC5TCAAzUwgANFMIADVTCAA2UwgAN1MIADhTCAA5UwgAO1MIADxTCAA9UwgAQVMIAEJTCABDUwgAXlMIAGNTCABkUwgAZVMIAGZTCABsUwgAblMIAHBTCABxUwgAdFMIAHVTCAB2UwgAd1MIAHhTCAB6UwgAe1MIAHxTCAB9UwgAflMIAH9TCACBUwgAhFMIAA==",
          "dtype": "i4"
         },
         "xaxis": "x",
         "y": {
          "bdata": "AAAAAACAMEA0MzMzMzNWQGZmZmZmZhpANDMzMzOzMUAAAAAAAAA+QAAAAAAAADJAAAAAAAAAIUA0MzMzM7MxQAAAAAAA4FBAzczMzMzMEEAAAAAAAIAwQGZmZmZm5iNANDMzMzOzMUA0MzMzM7MxQAAAAAAAgDZAZmZmZmZmMUAAAAAAAAAuQDQzMzMzszFAAAAAAACARkAAAAAAAIA9QDQzMzMzM3VAmpmZmZmZF0AAAAAAAIAwQDMzMzMzM/8/ZmZmZmbmM0AAAAAAAAAeQAAAAAAAAD5AAAAAAAAAHkAAAAAAAIAwQGZmZmZmZgRAAAAAAAAALkBmZmZmZmYOQJqZmZmZmS5AAAAAAAAALkDhehSuR+ExQGZmZmZmZiRAFK5H4XoUY0A=",
          "dtype": "f8"
         },
         "yaxis": "y"
        },
        {
         "hovertemplate": "Invoice Date=2011-03-06<br>Invoice Number=%{x}<br>Total Sales=%{y}<extra></extra>",
         "legendgroup": "2011-03-06",
         "marker": {
          "color": "#19d3f3",
          "symbol": "circle"
         },
         "mode": "markers",
         "name": "2011-03-06",
         "showlegend": true,
         "type": "scattergl",
         "x": {
          "bdata": "hVMIAIZTCACLUwgAjFMIAJBTCACRUwgAklMIAJNTCACUUwgAlVMIAJZTCACXUwgAmFMIAJpTCACbUwgAnFMIAJ1TCACeUwgAn1MIAKBTCAChUwgAolMIAKNTCACkUwgApVMIAKZTCAA=",
          "dtype": "i4"
         },
         "xaxis": "x",
         "y": {
          "bdata": "mpmZmZnZMUAAAAAAAABBQAAAAAAAAC5AAAAAAAAALkAAAAAAAGBYQM3MzMzMzCdAzczMzMzMJ0DNzMzMzMwTQAAAAAAAAD5ANDMzMzOzIUAAAAAAAIA1QJqZmZmZmSdAAAAAAAAA9D/NzMzMzMwjQGZmZmZm5jNAZmZmZmbmM0A0MzMzMzMfQAAAAAAAAF5AZmZmZmbmM0AzMzMzMzPrPwAAAAAAACFAAAAAAABgaEDNzMzMzMwTQAAAAAAAQEVAmpmZmZmZJ0BmZmZmZuYjQA==",
          "dtype": "f8"
         },
         "yaxis": "y"
        },
        {
         "hovertemplate": "Invoice Date=2011-03-07<br>Invoice Number=%{x}<br>Total Sales=%{y}<extra></extra>",
         "legendgroup": "2011-03-07",
         "marker": {
          "color": "#FF6692",
          "symbol": "circle"
         },
         "mode": "markers",
         "name": "2011-03-07",
         "showlegend": true,
         "type": "scattergl",
         "x": {
          "bdata": "qFMIAKlTCACrUwgArFMIAK5TCACvUwgAsFMIALdTCAC5UwgAulMIAL1TCADKUwgA1FMIANhTCADfUwgA5FMIAP5TCAAFVAgAFFQIABdUCAAbVAgAHFQIAB1UCAAeVAgAIlQIACZUCAArVAgALlQIADJUCAA7VAgAPVQIAD5UCAA/VAgAQFQIAENUCABJVAgATFQIAE1UCABOVAgAT1QIAFBUCABRVAgAUlQIAFtUCABgVAgAYVQIAGJUCABmVAgAaFQIAGpUCABrVAgAbFQIAG1UCABuVAgA",
          "dtype": "i4"
         },
         "xaxis": "x",
         "y": {
          "bdata": "AAAAAACAKUBmZmZmZmYkQAAAAAAAAG1AAAAAAACAOUAAAAAAAAAuQGZmZmZm5jNAmpmZmZmZN0A0MzMzMzM5QAAAAAAAgD1ANTMzMzOzfUAAAAAAAOBIQJqZmZmZmT5AZmZmZmZmUUAAAAAAAOBwQDQzMzMzszFAmpmZmZmZN0AAAAAAAAAxQM3MzMzMzAZAZmZmZmZmJEDNzMzMzMxDQM3MzMzMzBBAAAAAAAAALkAAAAAAAIAzQGZmZmZm5jFAMzMzMzNzWEAAAAAAAIA2QAAAAAAAACFAMzMzMzMz6z80MzMzM7MxQAAAAAAAAEFAMzMzMzMzH0AAAAAAAABJQJqZmZmZmS5ANDMzMzOzPUApXI/C9SgkQAAAAAAAoHRANDMzMzOzIUAAAAAAAAArQJqZmZmZmS5AAAAAAACAM0DNzMzMzMwnQJqZmZmZ2TFAmpmZmZmZHEDNzMzMzMwzQAAAAAAA4FBAAAAAAACARkCamZmZmdkxQJqZmZmZ2TdAMzMzMzMzF0A0MzMzM7MhQGZmZmZmZgRAAAAAAABgaEAAAAAAAMA4QAAAAAAAQF9A",
          "dtype": "f8"
         },
         "yaxis": "y"
        },
        {
         "hovertemplate": "Invoice Date=2011-03-08<br>Invoice Number=%{x}<br>Total Sales=%{y}<extra></extra>",
         "legendgroup": "2011-03-08",
         "marker": {
          "color": "#B6E880",
          "symbol": "circle"
         },
         "mode": "markers",
         "name": "2011-03-08",
         "showlegend": true,
         "type": "scattergl",
         "x": {
          "bdata": "cFQIAHFUCAByVAgAc1QIAHRUCAB1VAgAdlQIAHdUCAB4VAgAeVQIAHpUCAB7VAgAflQIAIhUCACNVAgAmVQIALpUCAC7VAgAvFQIAMNUCADFVAgAx1QIAMhUCADJVAgAy1QIAMxUCADOVAgAz1QIANBUCADRVAgA01QIANVUCADWVAgA2VQIANtUCADdVAgA3lQIAN9UCADhVAgA41QIAA==",
          "dtype": "i4"
         },
         "xaxis": "x",
         "y": {
          "bdata": "NDMzMzMzOUAAAAAAAAAxQAAAAAAAWGZAAAAAAAAAPkDNzMzMzMwvQJqZmZmZmT5APQrXo3A9HkCuR+F6FK5WQJqZmZmZmS9AKVyPwvUoJEBmZmZmZmZEQDQzMzMzszFAMzMzMzMzL0AAAAAAAIAwQAAAAAAAAElAZmZmZmZmFEDNzMzMzMwjQAAAAAAAACVAzczMzMzMH0AAAAAAAIAzQAAAAAAAAEFAZmZmZmbmI0AAAAAAAEAwQJqZmZmZ0WlAzczMzMzMI0DNzMzMzMwvQM3MzMzMzC9AZmZmZmZmJEBmZmZmZmYxQEjhehSuR0RAMzMzMzMz9z/NzMzMzMwzQGZmZmZmZu4/AAAAAACASUAAAAAAAABrQAAAAAAAADFAAAAAAAAAIUD2KFyPwvU4QAAAAAAAwDBAZmZmZmZm+j8=",
          "dtype": "f8"
         },
         "yaxis": "y"
        },
        {
         "hovertemplate": "Invoice Date=2011-03-09<br>Invoice Number=%{x}<br>Total Sales=%{y}<extra></extra>",
         "legendgroup": "2011-03-09",
         "marker": {
          "color": "#FF97FF",
          "symbol": "circle"
         },
         "mode": "markers",
         "name": "2011-03-09",
         "showlegend": true,
         "type": "scattergl",
         "x": {
          "bdata": "7FQIAO1UCADuVAgA71QIAPBUCADxVAgA8lQIAPNUCAD0VAgA9VQIAPZUCAAOVQgAE1UIAB9VCAAiVQgAI1UIACRVCAAnVQgAKFUIAClVCAAqVQgALFUIADBVCAA0VQgANVUIADZVCAA3VQgAOFUIADlVCAA7VQgAPFUIAD5VCAA/VQgAQFUIAEFVCABDVQgARFUIAEVVCABGVQgAR1UIAEhVCABJVQgASlUIAEtVCABPVQgAVFUIAFVVCAA=",
          "dtype": "i4"
         },
         "xaxis": "x",
         "y": {
          "bdata": "AAAAAAAALkA0MzMzM7MxQAAAAAAAgDNAzczMzMzMNECamZmZmdkxQM3MzMzMzC9AAAAAAAAAJUDXo3A9CldUQAAAAAAAgFlAmpmZmZmZL0BmZmZmZuYhQAAAAAAAAB5AmpmZmZk5eEAAAAAAAAAhQJqZmZmZ2VFAKVyPwvUoJECamZmZmZkwQAAAAAAAADJAzczMzMzMM0CamZmZmZkuQGdmZmZmpmBAzczMzMzMK0AzMzMzM/M4QGZmZmZmZiRA4XoUrkfhCkA0MzMzM7MxQAAAAAAAACVAAAAAAACAJkBmZmZmZuYjQDMzMzMzMw9AZmZmZmZmF0DNzMzMzMw/QM3MzMzMzBdAAAAAAACgdEAAAAAAAIApQGZmZmZmZjdAzczMzMzMM0AAAAAAAAAlQAAAAAAAAE5AAAAAAACAM0ApXI/C9SgkQPYoXI/C9SJACtejcD0KK0DNzMzMzMwzQJqZmZmZ2VRAAAAAAAAAPkA0MzMzM7MxQA==",
          "dtype": "f8"
         },
         "yaxis": "y"
        },
        {
         "hovertemplate": "Invoice Date=2011-03-10<br>Invoice Number=%{x}<br>Total Sales=%{y}<extra></extra>",
         "legendgroup": "2011-03-10",
         "marker": {
          "color": "#FECB52",
          "symbol": "circle"
         },
         "mode": "markers",
         "name": "2011-03-10",
         "showlegend": true,
         "type": "scattergl",
         "x": {
          "bdata": "aVUIAGpVCABrVQgAbFUIAG1VCABuVQgAb1UIAHBVCABzVQgAdFUIAHVVCAB2VQgAeVUIAHtVCACGVQgAjVUIAI5VCACnVQgAqFUIAKpVCACsVQgAr1UIALZVCAC7VQgAvVUIAL9VCADCVQgAw1UIAMZVCADHVQgAyFUIAMlVCADKVQgAy1UIAM1VCADOVQgAz1UIANVVCADjVQgA51UIAP1VCAAAVggAAVYIAAZWCAAKVggA",
          "dtype": "i4"
         },
         "xaxis": "x",
         "y": {
          "bdata": "AAAAAADgUEAAAAAAAEB/QAAAAAAAADFAZmZmZmZmN0A0MzMzM7MxQGZmZmZmZiRAAAAAAAAALkAAAAAAAABOQJqZmZmZGSRAZmZmZmZmMUA0MzMzMzM5QGZmZmZm5lBAAAAAAADgf0BmZmZmZmYxQDMzMzMzMy9A1qNwPQrXG0BmZmZmZmYxQGZmZmZm5iFAcT0K16NwWUDNzMzMzMw/QDMzMzMzMx9AZmZmZmZmMUA0MzMzM7MxQM3MzMzMzCRAAAAAAACAMEDhehSuR+ERQDQzMzMzMzlAAAAAAACAM0A0MzMzMzM5QAAAAAAAgDBAAAAAAACAMEDNzMzMzMwnQAAAAAAAgDZAAAAAAAAAPkBI4XoUrkdEQOF6FK5H4TFAZmZmZmZmJEDsUbgehesDQM3MzMzMzDNAAAAAAAAAEUD2KFyPwvU4QDMzMzMzMx9AZmZmZmZmJ0BmZmZmZmYkQAAAAAAAIENA",
          "dtype": "f8"
         },
         "yaxis": "y"
        },
        {
         "hovertemplate": "Invoice Date=2011-03-11<br>Invoice Number=%{x}<br>Total Sales=%{y}<extra></extra>",
         "legendgroup": "2011-03-11",
         "marker": {
          "color": "#636efa",
          "symbol": "circle"
         },
         "mode": "markers",
         "name": "2011-03-11",
         "showlegend": true,
         "type": "scattergl",
         "x": {
          "bdata": "C1YIAAxWCAANVggADlYIAA9WCAARVggAElYIABRWCAAWVggAGlYIABtWCAA+VggAP1YIAEFWCABEVggARlYIAEhWCABJVggASlYIAExWCABNVggATlYIAE9WCABQVggAUVYIAFJWCABTVggAVVYIAFZWCABXVggAWFYIAFpWCABcVggAXVYIAF5WCABfVggAYVYIAGJWCABjVggAZFYIAGVWCABrVggAbFYIAG1WCAA=",
          "dtype": "i4"
         },
         "xaxis": "x",
         "y": {
          "bdata": "zczMzMzMM0DNzMzMzMwjQAAAAAAAACVAAAAAAADgb0CamZmZmZl1QGZmZmZmZjFAMzMzMzPzQEAAAAAAAAA+QAAAAAAAoGRAAAAAAAAALkAAAAAAAAAuQM3MzMzMzDtAAAAAAAAALkAAAAAAAOBQQM3MzMzMzENAAAAAAAAAJEAK16NwPQorQEjhehSuR1RAzczMzMzML0AzMzMzMzMPQDMzMzMzM/8/zczMzMzMM0AAAAAAAAAuQAAAAAAAAB5AAAAAAACAWUDNzMzMzMwzQGZmZmZmZkFAzczMzMzMM0DNzMzMzMwsQM3MzMzMzCNAZmZmZmZm+j8AAAAAAABBQAAAAAAAAPg/AAAAAAAALkCamZmZmZk+QM3MzMzMzC9AMzMzMzMzH0BmZmZmZmY0QGZmZmZmZkFAzczMzMzMX0AAAAAAAOBgQMP1KFyPgn5AAAAAAADAPUAzMzMzMzP3Pw==",
          "dtype": "f8"
         },
         "yaxis": "y"
        },
        {
         "hovertemplate": "Invoice Date=2011-03-13<br>Invoice Number=%{x}<br>Total Sales=%{y}<extra></extra>",
         "legendgroup": "2011-03-13",
         "marker": {
          "color": "#EF553B",
          "symbol": "circle"
         },
         "mode": "markers",
         "name": "2011-03-13",
         "showlegend": true,
         "type": "scattergl",
         "x": {
          "bdata": "blYIAG9WCABxVggAclYIAHNWCAB0VggAdVYIAHZWCAB3VggAeFYIAHlWCAB6VggAe1YIAH1WCAB+VggA",
          "dtype": "i4"
         },
         "xaxis": "x",
         "y": {
          "bdata": "zczMzMzMJ0ApXI/C9SgkQDMzMzMzsy1AMzMzMzOzLUDXo3A9CtcHQPYoXI/C9fg/4XoUrkfhGkDNzMzMzMwfQAAAAAAAACFAmpmZmZmZB0A0MzMzM7MxQGZmZmZmZvo/ZmZmZmZm+j+amZmZmZknQJqZmZmZmQdA",
          "dtype": "f8"
         },
         "yaxis": "y"
        },
        {
         "hovertemplate": "Invoice Date=2011-03-14<br>Invoice Number=%{x}<br>Total Sales=%{y}<extra></extra>",
         "legendgroup": "2011-03-14",
         "marker": {
          "color": "#00cc96",
          "symbol": "circle"
         },
         "mode": "markers",
         "name": "2011-03-14",
         "showlegend": true,
         "type": "scattergl",
         "x": {
          "bdata": "f1YIAIBWCACDVggAhFYIAIVWCACGVggAiFYIAIlWCACKVggAi1YIAJ5WCACgVggAoVYIAKJWCACwVggAtlYIAMJWCADGVggAzFYIAM5WCADZVggA2lYIANtWCADcVggA3VYIAN5WCADfVggA4FYIAONWCADkVggA5lYIAOlWCADqVggA7FYIAO5WCADvVggA8FYIAPFWCAD1VggA9lYIAA==",
          "dtype": "i4"
         },
         "xaxis": "x",
         "y": {
          "bdata": "zczMzMzMM0DNzMzMzMw3QJqZmZmZmS5AzczMzMzML0AAAAAAAIBAQDMzMzMz81ZAKVyPwvUoFEA0MzMzM7NHQDQzMzMzszFAMzMzMzMzOUCamZmZmRlqQPYoXI/C9VhAMzMzMzMzIkAAAAAAAAAeQAAAAAAAcHJAAAAAAACAM0AAAAAAAAAeQGZmZmZm5iNAAAAAAABATUDXo3A9ClcxQAAAAAAAcGdAzczMzMzMM0AAAAAAAAAuQM3MzMzMTCVAFK5H4XoUM0AAAAAAAOBgQM3MzMzMzCxAAAAAAACAIEBmZmZmZoZYQAAAAAAAgFBAAAAAAAAAPkBmZmZmZmYUQJqZmZmZmS5AAAAAAAAAQUApXI/C9Sj0P2ZmZmZmZvo/ZmZmZmZmN0CamZmZmZkXQAAAAAAAACNAZmZmZmZmGUA=",
          "dtype": "f8"
         },
         "yaxis": "y"
        },
        {
         "hovertemplate": "Invoice Date=2011-03-15<br>Invoice Number=%{x}<br>Total Sales=%{y}<extra></extra>",
         "legendgroup": "2011-03-15",
         "marker": {
          "color": "#ab63fa",
          "symbol": "circle"
         },
         "mode": "markers",
         "name": "2011-03-15",
         "showlegend": true,
         "type": "scattergl",
         "x": {
          "bdata": "+FYIAPlWCAD6VggA+1YIAPxWCAAAVwgAAVcIAAJXCAADVwgAPlcIAEBXCABBVwgAR1cIAEhXCABJVwgASlcIAEtXCABMVwgATVcIAE5XCABPVwgAUFcIAFNXCABUVwgAVlcIAGFXCABiVwgAY1cIAGZXCABpVwgAa1cIAGxXCABtVwgAblcIAHVXCAB3VwgA",
          "dtype": "i4"
         },
         "xaxis": "x",
         "y": {
          "bdata": "AAAAAAAALkAAAAAAAAAuQDQzMzMzs0FAAAAAAABAVECamZmZmZk/QAAAAAAAQE9AmpmZmZnZNEAAAAAAAAAxQDQzMzMzszFAAAAAAAAAJUAAAAAAAAAuQAAAAAAAACFAmpmZmZnZbUAVrkfhehRTQGZmZmZmZlRAmpmZmZmZL0BmZmZmZmYEQGZmZmZmZgRAzczMzMzMN0A9CtejcD0eQDMzMzMzMytANDMzMzOzMUCamZmZmZkuQJqZmZmZmT9AAAAAAAAABEBmZmZmZmYUQGZmZmZm5iNANDMzMzOzQUCamZmZmdkxQJqZmZmZGUpAAAAAAACANkDNzMzMzMxDQDQzMzMzMx9AZmZmZmbmNUAzMzMzM/NWQDMzMzMzM/s/",
          "dtype": "f8"
         },
         "yaxis": "y"
        },
        {
         "hovertemplate": "Invoice Date=2011-03-16<br>Invoice Number=%{x}<br>Total Sales=%{y}<extra></extra>",
         "legendgroup": "2011-03-16",
         "marker": {
          "color": "#FFA15A",
          "symbol": "circle"
         },
         "mode": "markers",
         "name": "2011-03-16",
         "showlegend": true,
         "type": "scattergl",
         "x": {
          "bdata": "eVcIAHpXCAB7VwgAfFcIAH1XCAB+VwgAf1cIAIBXCACBVwgAglcIAINXCACkVwgAqFcIAKlXCACrVwgArFcIAK1XCACuVwgAsFcIALFXCACyVwgAs1cIALVXCAC2VwgAvFcIAL1XCAC+VwgAv1cIAMBXCADBVwgAwlcIAMVXCADJVwgAylcIAMxXCADOVwgAz1cIANBXCADRVwgA01cIANRXCADWVwgA11cIANhXCADaVwgA",
          "dtype": "i4"
         },
         "xaxis": "x",
         "y": {
          "bdata": "KVyPwvUoFEA0MzMzMzM5QM3MzMzMzDBAAAAAAACAU0DNzMzMzMwzQAAAAAAAgDNAMzMzMzMzL0BmZmZmZuYzQAAAAAAAgElAAAAAAADASEDXo3A9CpdiQM3MzMzMzABAAAAAAAAgckDNzMzMzMwzQGZmZmZmZjFAmpmZmZn5Q0AzMzMzMzNpQDMzMzMzM2lA7FG4HoXreUCamZmZmdkxQAAAAAAAgFlA7FG4HoXrWUAAAAAAAMBYQJqZmZmZmT5AzczMzMzMM0AAAAAAAAAxQAAAAAAAAC5AzczMzMzMI0A0MzMzM7MxQAAAAAAAAC5AAAAAAAAAWEA0MzMzM7MxQDMzMzMzc1hAAAAAAAAAI0CamZmZmZkuQGZmZmZmZjdAzczMzMzMM0BmZmZmZuZlQAAAAAAAACtAzczMzMzMH0BxPQrXo3BZQM3MzMzMzB9AFK5H4XoUY0BmZmZmZmYkQDQzMzMzMzlA",
          "dtype": "f8"
         },
         "yaxis": "y"
        },
        {
         "hovertemplate": "Invoice Date=2011-03-17<br>Invoice Number=%{x}<br>Total Sales=%{y}<extra></extra>",
         "legendgroup": "2011-03-17",
         "marker": {
          "color": "#19d3f3",
          "symbol": "circle"
         },
         "mode": "markers",
         "name": "2011-03-17",
         "showlegend": true,
         "type": "scattergl",
         "x": {
          "bdata": "3VcIAN5XCADgVwgA4VcIAOJXCADjVwgA5FcIAOVXCADmVwgA51cIAAtYCAAMWAgADVgIAA5YCAAPWAgAEFgIABVYCAAeWAgAH1gIACBYCAAhWAgAIlgIACRYCAAlWAgAJ1gIAChYCAApWAgALFgIAC5YCAAvWAgAMlgIADdYCAA4WAgAOVgIADpYCAA9WAgAPlgIAEJYCABDWAgASlgIAFJYCABTWAgAVFgIAFZYCABcWAgAXVgIAF5YCABfWAgAYFgIAGFYCAA=",
          "dtype": "i4"
         },
         "xaxis": "x",
         "y": {
          "bdata": "ZmZmZmbmM0AAAAAAAAAuQGZmZmZmZjFAAAAAAAAAMkBmZmZmZmY0QClcj8L1KCRAAAAAAADgX0AAAAAAAMiJQDQzMzMzs0dAmpmZmZmZMEAAAAAAAHSDQJqZmZmZ2VFAmpmZmZnZMUAzMzMzMzMbQJqZmZmZ2VFAAAAAAAAgV0A0MzMzM7MxQM3MzMzMzB9AAAAAAADgYECamZmZmRkqQGZmZmZmZu4/hetRuB6FF0DXo3A9CldUQAAAAAAAYFJAZmZmZmbmM0DWo3A9CtcbQGZmZmZmZlRAAAAAAAAALkDNzMzMzMwzQDMzMzMzMzlANDMzMzOzPUAAAAAAAAAhQAAAAAAAAARAZ2ZmZmbmUkBmZmZmZuZlQAAAAAAAAC5AAAAAAAAAVEA0MzMzMzM5QGZmZmZmZiRAAAAAAACANUAzMzMzMzPrPwAAAAAAAEJANDMzMzMzOUCamZmZmZlAQJqZmZmZWTBAZmZmZmZmJ0CamZmZmZkXQIXrUbgeJVFAAAAAAAAAHkAzMzMzM7MnQA==",
          "dtype": "f8"
         },
         "yaxis": "y"
        },
        {
         "hovertemplate": "Invoice Date=2011-03-18<br>Invoice Number=%{x}<br>Total Sales=%{y}<extra></extra>",
         "legendgroup": "2011-03-18",
         "marker": {
          "color": "#FF6692",
          "symbol": "circle"
         },
         "mode": "markers",
         "name": "2011-03-18",
         "showlegend": true,
         "type": "scattergl",
         "x": {
          "bdata": "YlgIAGNYCABkWAgAZlgIAGpYCABrWAgAbFgIAG5YCABvWAgAcFgIAHFYCACAWAgAhlgIAIdYCACTWAgAo1gIAKRYCAClWAgAplgIAKdYCACoWAgAqVgIAKpYCACsWAgArlgIAK9YCACwWAgAsVgIALJYCACzWAgAtFgIALZYCAC3WAgAuFgIALlYCAC6WAgAu1gIALxYCADJWAgAylgIAMtYCADMWAgAzVgIAM5YCADPWAgA0lgIAA==",
          "dtype": "i4"
         },
         "xaxis": "x",
         "y": {
          "bdata": "NDMzMzOzMUDNzMzMzMwzQDMzMzMzsy1AzczMzMzMR0AAAAAAAIAzQJqZmZmZ2WRAZmZmZmZmJEAAAAAAAABCQAAAAAAAgEZAZmZmZmZmJEAAAAAAAIBZQM3MzMzMOHRAMzMzMzOzLUAAAAAAAAAeQDMzMzMzMylAMzMzMzOzLUBmZmZmZuYzQJqZmZmZmS5A4XoUrkfh6j/NzMzMzMwzQDMzMzMzMw9AmpmZmZmZLkAzMzMzMzMvQAAAAAAAgDBAzczMzMzML0BmZmZmZmYnQGdmZmZmRoZAAAAAAAAAFEAUrkfhehRjQOF6FK5H4RpAAAAAAAAALkBmZmZmZuYzQGdmZmZmpmBAMzMzMzMzKUAzMzMzMzNpQOF6FK5H4TFAAAAAAACAPUA0MzMzM7NHQAAAAAAAACVASOF6FK5HCUDNzMzMzMwrQAAAAAAAADRAMzMzMzOzLUAAAAAAAIAgQM3MzMzMjEpAMzMzMzOzLUA=",
          "dtype": "f8"
         },
         "yaxis": "y"
        },
        {
         "hovertemplate": "Invoice Date=2011-03-20<br>Invoice Number=%{x}<br>Total Sales=%{y}<extra></extra>",
         "legendgroup": "2011-03-20",
         "marker": {
          "color": "#B6E880",
          "symbol": "circle"
         },
         "mode": "markers",
         "name": "2011-03-20",
         "showlegend": true,
         "type": "scattergl",
         "x": {
          "bdata": "1FgIANVYCADWWAgA2FgIANlYCADaWAgA21gIANxYCADdWAgA3lgIAN9YCADgWAgA4VgIAORYCADlWAgA5lgIAOdYCADpWAgA6lgIAOtYCADsWAgA7VgIAO9YCADwWAgA8VgIAPJYCADzWAgA9FgIAPZYCAD3WAgA+FgIAPlYCAD6WAgA+1gIAPxYCAD9WAgA/lgIAABZCAABWQgAAlkIAANZCAAEWQgABVkIAAZZCAAHWQgACFkIAAlZCAALWQgADFkIABBZCAASWQgA",
          "dtype": "i4"
         },
         "xaxis": "x",
         "y": {
          "bdata": "ZmZmZmZmR0AAAAAAAIAgQGZmZmZmZiRAAAAAAAAgZUAAAAAAAIBNQAAAAAAA4FBAKVyPwvUoFEDNzMzMzMxDQAAAAAAA4IBAZmZmZmbGWkAAAAAAAAAxQDQzMzMzszFAAAAAAACAT0AK16NwPQoHQB+F61G4HntAAAAAAACAMECamZmZmZleQM3MzMzMzC9AZmZmZmZm/j8zMzMzM/MwQAAAAAAAgC1AAAAAAAAALkDXo3A9CtcHQM3MzMzMzDNAmpmZmZnZMUAAAAAAAAAuQAAAAAAA4F9AMzMzMzMzKUAzMzMzMzP7P83MzMzMzCNAAAAAAABAX0AzMzMzM7MtQDMzMzMzMxtASOF6FK5HUUCamZmZmZkwQAAAAAAAAApAzczMzMzMF0AAAAAAAAAuQGZmZmZmZgpANDMzMzOzMUAAAAAAAAApQDMzMzMzM0lAAAAAAAAAMUBnZmZmZuZSQGZmZmZmZiRAZmZmZmbmM0AAAAAAAAAuQM3MzMzMzCNAmpmZmZmZLkBmZmZmZmYqQAAAAAAAADVA",
          "dtype": "f8"
         },
         "yaxis": "y"
        },
        {
         "hovertemplate": "Invoice Date=2011-03-21<br>Invoice Number=%{x}<br>Total Sales=%{y}<extra></extra>",
         "legendgroup": "2011-03-21",
         "marker": {
          "color": "#FF97FF",
          "symbol": "circle"
         },
         "mode": "markers",
         "name": "2011-03-21",
         "showlegend": true,
         "type": "scattergl",
         "x": {
          "bdata": "FFkIABVZCAAWWQgAF1kIABhZCAAZWQgAGlkIABtZCAAcWQgAHVkIAB5ZCAAfWQgAIVkIACJZCAAjWQgAJFkIACpZCAAyWQgAPlkIAFJZCABdWQgAY1kIAHhZCAB7WQgAfVkIAH9ZCACAWQgAgVkIAIJZCACDWQgAhFkIAIVZCACGWQgAh1kIAIlZCACUWQgAlVkIAJZZCACXWQgAmlkIAJtZCAChWQgAqFkIAKtZCACsWQgA",
          "dtype": "i4"
         },
         "xaxis": "x",
         "y": {
          "bdata": "zczMzMzMN0ApXI/C9SgkQAAAAAAAADJAMzMzMzMzKUAAAAAAAIA5QGZmZmZmZiRAAAAAAACAM0AAAAAAAAAuQAAAAAAAAC5AAAAAAACgZEBmZmZmZmYxQGZmZmZmZu4/AAAAAAAAQUDNzMzMzMwfQHE9CtejcFlAZ2ZmZmZmCkBmZmZmZmbuPwAAAAAAAC5AmpmZmZn5QUAAAAAAAMCCQDMzMzMzMy9AzczMzMzML0BmZmZmZmYxQM3MzMzMzENAmpmZmZlZUEAAAAAAAAAeQDMzMzMzM/8/16NwPQpXVEDhehSuR+HaPzMzMzMzMylAzczMzMzML0AzMzMzM/MwQM3MzMzMzB9AAAAAAAAALkDWo3A9CtcbQDMzMzMzs01ACtejcD0KK0BmZmZmZuYzQAAAAAAAACFAAAAAAAAAGkAAAAAAAIBJQGZmZmZmZjdA9ihcj8L16D8pXI/C9SgUQAAAAAAAAD5A",
          "dtype": "f8"
         },
         "yaxis": "y"
        },
        {
         "hovertemplate": "Invoice Date=2011-03-22<br>Invoice Number=%{x}<br>Total Sales=%{y}<extra></extra>",
         "legendgroup": "2011-03-22",
         "marker": {
          "color": "#FECB52",
          "symbol": "circle"
         },
         "mode": "markers",
         "name": "2011-03-22",
         "showlegend": true,
         "type": "scattergl",
         "x": {
          "bdata": "rVkIAK5ZCACvWQgAs1kIALRZCAC1WQgAyVkIAPxZCAAGWggADFoIABVaCAAWWggAHVoIAB5aCAAfWggAIFoIACFaCAAiWggAJloIACdaCAAqWggAK1oIACxaCAAtWggALloIAC9aCAAxWggAMloIADRaCAA1WggANloIAD1aCAA/WggASVoIAA==",
          "dtype": "i4"
         },
         "xaxis": "x",
         "y": {
          "bdata": "MzMzMzMzG0AAAAAAAAAuQAAAAAAAAC5ANDMzMzOzMUAAAAAAAIBZQM3MzMzMzC9ANDMzMzMzGUDNzMzMzMxDQM3MzMzMzEdAMzMzMzOzbUAzMzMzM7MtQAAAAAAAAD5AZmZmZmZmJEA0MzMzMzMZQAAAAAAAAB5AzczMzMzMI0BmZmZmZmY3QOxRuB6Fa25AAAAAAACAMEAzMzMzMzMHQGZmZmZmZhdANDMzMzOzQUBmZmZmZmb+PwAAAAAAgFpAZmZmZmZm/j80MzMzM7MxQAAAAAAAgEZAAAAAAADgUEBnZmZmZmYKQAAAAAAAAPQ/ZmZmZmbmM0AAAAAAAAArQDQzMzMzs1FAmpmZmZmZD0A=",
          "dtype": "f8"
         },
         "yaxis": "y"
        },
        {
         "hovertemplate": "Invoice Date=2011-03-23<br>Invoice Number=%{x}<br>Total Sales=%{y}<extra></extra>",
         "legendgroup": "2011-03-23",
         "marker": {
          "color": "#636efa",
          "symbol": "circle"
         },
         "mode": "markers",
         "name": "2011-03-23",
         "showlegend": true,
         "type": "scattergl",
         "x": {
          "bdata": "TVoIAE5aCABPWggAVVoIAFZaCABXWggAWFoIAFlaCABaWggAW1oIAFxaCABkWggAnVoIAJ5aCACgWggAoVoIAKJaCACjWggAploIAKhaCACpWggAqloIAKxaCACtWggAr1oIALNaCAC1WggAtloIALdaCAC4WggAuVoIALpaCAC7WggAvFoIAL5aCAC/WggAwVoIAM9aCADRWggA0loIANNaCADVWggA2loIANxaCADdWggA3loIAOFaCADiWggA41oIAORaCADmWggA",
          "dtype": "i4"
         },
         "xaxis": "x",
         "y": {
          "bdata": "AAAAAACAMEBmZmZmZoZIQAAAAAAAgClAZmZmZmZmJEA0MzMzM7MxQAAAAAAAgDlANDMzMzMzOUBmZmZmZmYxQDMzMzMz8zBAAAAAAAAAMUAAAAAAAAAuQDQzMzMzszFAmpmZmZmZB0DNzMzMzMwzQGZmZmZmZhRANDMzMzOzMUAAAAAAAAAUQM3MzMzMzCdAAAAAAAAAMUBmZmZmZuYzQOF6FK5H4do/ZmZmZmZm+j8zMzMzMzMXQDQzMzMzs01AAAAAAAAAMUAAAAAAAAAlQAAAAAAAAD5AAAAAAACAM0AAAAAAAAAuQAAAAAAAMGVAZmZmZmZmJECamZmZmZkuQClcj8L1KCRAZmZmZmbmdUAAAAAAAKBkQAAAAAAAAHRAZmZmZmbmIUAAAAAAAIA2QAAAAAAAgDBAzczMzMzML0BmZmZmZuZDQAAAAAAAoGRAZmZmZmZmYUBmZmZmZmYEQGZmZmZmZiRAzczMzMzMM0BmZmZmZmYaQGZmZmZm5lNAAAAAAAAAJUAAAAAAAAAeQAAAAAAAADVA",
          "dtype": "f8"
         },
         "yaxis": "y"
        },
        {
         "hovertemplate": "Invoice Date=2011-03-24<br>Invoice Number=%{x}<br>Total Sales=%{y}<extra></extra>",
         "legendgroup": "2011-03-24",
         "marker": {
          "color": "#EF553B",
          "symbol": "circle"
         },
         "mode": "markers",
         "name": "2011-03-24",
         "showlegend": true,
         "type": "scattergl",
         "x": {
          "bdata": "6VoIAOpaCADrWggA7FoIAO1aCADvWggA8FoIAPFaCADyWggA81oIAPRaCAD1WggA+FoIAPlaCAD6WggA+1oIAPxaCAD/WggAJ1sIADdbCAA8WwgAP1sIAEBbCABBWwgAQlsIAENbCABEWwgARVsIAEZbCABHWwgASFsIAElbCABKWwgATlsIAE9bCABQWwgAUVsIAFJbCABTWwgAVFsIAFVbCABWWwgAV1sIAFhbCABaWwgAZlsIAGdbCABoWwgAaVsIAGpbCABrWwgAblsIAG9bCABxWwgAclsIAHlbCAB6WwgAe1sIAHxbCAB9WwgAgFsIAA==",
          "dtype": "i4"
         },
         "xaxis": "x",
         "y": {
          "bdata": "MzMzMzMzKUAAAAAAAKBkQAAAAAAAADFAAAAAAAAAKUDNzMzMzMwzQAAAAAAAACVAAAAAAAAALkBmZmZmZmY0QDMzMzMzMy9AAAAAAAAASUAzMzMzMzMvQDQzMzMzszFAAAAAAACAM0A0MzMzMzNWQJqZmZmZ2TFAAAAAAAAATkDNzMzMzMwvQGZmZmZmZkdAzczMzMzMM0BmZmZmZmY3QDQzMzMzszFAzczMzMzML0AAAAAAAAAuQDMzMzMzMw9AmpmZmZmZB0AAAAAAAABOQM3MzMzMzDZAMzMzMzMzSUAAAAAAAAAOQDQzMzMzszFAAAAAAAAA9D+amZmZmZk+QMzMzMzMzBNAzczMzMzMI0AAAAAAAAAhQLgehetRuBJAAAAAAACARkAAAAAAAAA+QAAAAAAAgENAmpmZmZmZLkApXI/C9SgkQJqZmZmZ2TFAAAAAAAAAJUAAAAAAAAAeQAAAAAAAAC5AZmZmZmZmKkAAAAAAAIBDQDQzMzMzs0FAZmZmZmZmBEAAAAAAAAAuQDQzMzMzMzlAAAAAAAAAKUBmZmZmZmYkQM3MzMzMzDNAAAAAAACASUBmZmZmZmYkQJqZmZmZWWxAAAAAAABIgkDXo3A9Ci+FQJqZmZmZmU5AZmZmZmbmMUA=",
          "dtype": "f8"
         },
         "yaxis": "y"
        },
        {
         "hovertemplate": "Invoice Date=2011-03-25<br>Invoice Number=%{x}<br>Total Sales=%{y}<extra></extra>",
         "legendgroup": "2011-03-25",
         "marker": {
          "color": "#00cc96",
          "symbol": "circle"
         },
         "mode": "markers",
         "name": "2011-03-25",
         "showlegend": true,
         "type": "scattergl",
         "x": {
          "bdata": "gVsIAIJbCACEWwgAhVsIAIZbCACHWwgAiFsIAIlbCACMWwgAjlsIAI9bCACQWwgAkVsIAJJbCACyWwgAvFsIAMlbCADKWwgAy1sIANBbCADRWwgA0lsIANNbCADXWwgA2FsIANlbCADbWwgA3FsIAN1bCADhWwgA41sIAORbCADmWwgA6FsIAOlbCADqWwgA61sIAOxbCADyWwgA9FsIAPVbCAD4WwgA+VsIAA==",
          "dtype": "i4"
         },
         "xaxis": "x",
         "y": {
          "bdata": "AAAAAACAM0AAAAAAAABEQGZmZmZmZjRAZmZmZmZmMUDNzMzMzMxMQAAAAAAAgDBAmpmZmZmZP0AAAAAAAAApQGZmZmZm5jNAAAAAAACgZEDMzMzMzMxzQFyPwvUoXFJAzczMzMzMM0AzMzMzM7MtQDQzMzMzszFAAAAAAAAAHkAzMzMzM/NAQAAAAAAAgCBAAAAAAABAXUDNzMzMzMwjQDMzMzMz80hAZmZmZmZm/j8AAAAAAAAxQAAAAAAAgDNAAAAAAAAAIUAzMzMzM7MtQGZmZmZmZjdAMzMzMzMzG0CamZmZmZkuQLgehetRuDJANDMzMzMzP0AAAAAAAOidQAAAAAAAcHJAAAAAAAAA9D9mZmZmZmYXQDMzMzMzM/8/AAAAAAAA9D/Wo3A9CtcrQM3MzMzMzOQ/AAAAAAAATkAK16NwPQo7QAAAAAAAAC5AzczMzMzMJ0A=",
          "dtype": "f8"
         },
         "yaxis": "y"
        },
        {
         "hovertemplate": "Invoice Date=2011-03-27<br>Invoice Number=%{x}<br>Total Sales=%{y}<extra></extra>",
         "legendgroup": "2011-03-27",
         "marker": {
          "color": "#ab63fa",
          "symbol": "circle"
         },
         "mode": "markers",
         "name": "2011-03-27",
         "showlegend": true,
         "type": "scattergl",
         "x": {
          "bdata": "+lsIAPtbCAD9WwgA/1sIAABcCAABXAgAAlwIAANcCAAEXAgABVwIAAZcCAAKXAgAFFwIABVcCAAWXAgAGFwIABpcCAAbXAgAHlwIAB9cCAAgXAgAIVwIACJcCAAjXAgAJFwIACVcCAAmXAgAJ1wIAChcCAApXAgA",
          "dtype": "i4"
         },
         "xaxis": "x",
         "y": {
          "bdata": "AAAAAACAWUCamZmZmdk3QGZmZmZmZhdAZmZmZmZmVEAAAAAAAAApQJqZmZmZmTdAAAAAAAAAKUAAAAAAAIBJQGZmZmZm5mVANDMzMzOzN0AAAAAAAAAuQM3MzMzMzCRAZmZmZmZmFECamZmZmZlOQAAAAAAAAA5ANDMzMzOzMUAAAAAAAABOQGZmZmZm5iNA4XoUrkfhEUBmZmZmZmYXQKRwPQrXoxBAAAAAAACAKUBmZmZmZmY0QDMzMzMz81ZAAAAAAAAAMUDNzMzMzGxGQM3MzMzMzDBA4noUrkfhCkAAAAAAAAAeQDMzMzMzMwtA",
          "dtype": "f8"
         },
         "yaxis": "y"
        },
        {
         "hovertemplate": "Invoice Date=2011-03-28<br>Invoice Number=%{x}<br>Total Sales=%{y}<extra></extra>",
         "legendgroup": "2011-03-28",
         "marker": {
          "color": "#FFA15A",
          "symbol": "circle"
         },
         "mode": "markers",
         "name": "2011-03-28",
         "showlegend": true,
         "type": "scattergl",
         "x": {
          "bdata": "K1wIACxcCAAtXAgALlwIAC9cCAAwXAgAMlwIADNcCAA1XAgANlwIADdcCAA4XAgAOlwIADxcCAA+XAgAP1wIAEJcCABDXAgARVwIAEZcCABHXAgASFwIAE5cCABPXAgAUFwIAFFcCABSXAgAU1wIAFRcCABfXAgAYFwIAGFcCABiXAgAY1wIAGRcCABlXAgAZlwIAGhcCABpXAgAalwIAGtcCABtXAgAeFwIAHpcCAB7XAgAfVwIAIFcCACCXAgAg1wIAA==",
          "dtype": "i4"
         },
         "xaxis": "x",
         "y": {
          "bdata": "AAAAAAAAPkAAAAAAAIAzQAAAAAAAgEZAmpmZmZmZLkDNzMzMzMwzQAAAAAAAAElAAAAAAAAA9D80MzMzM7MxQAAAAAAAgFlAAAAAAACAMEDNzMzMzMwTQJqZmZmZmeE/AAAAAACAQEAAAAAAAAAuQM3MzMzMzC9AZmZmZmZmJ0BmZmZmZuYjQDMzMzMzsy1AZmZmZmZmCkCamZmZmZkPQAAAAAAAgDNAZmZmZmZm/j8zMzMzMzMpQDMzMzMzMwtAZmZmZmZm7j9mZmZmZmY0QGZmZmZm5jNAmpmZmZn5Q0AAAAAAAAAuQM3MzMzMTCtAAAAAAAAA9D9mZmZmZuYxQGZmZmZmZiRAAAAAAADgX0CamZmZmZlOQAAAAAAAdpFANDMzMzOzMUDNzMzMzMwzQJqZmZmZ2TFAmpmZmZnZUUAAAAAAAKBkQJqZmZmZmU5AAAAAAACAIEBmZmZmZmYqQM3MzMzMzC9AmpmZmZmZLkA0MzMzMzMZQM3MzMzMzBNAMzMzMzMz/z8=",
          "dtype": "f8"
         },
         "yaxis": "y"
        },
        {
         "hovertemplate": "Invoice Date=2011-03-29<br>Invoice Number=%{x}<br>Total Sales=%{y}<extra></extra>",
         "legendgroup": "2011-03-29",
         "marker": {
          "color": "#19d3f3",
          "symbol": "circle"
         },
         "mode": "markers",
         "name": "2011-03-29",
         "showlegend": true,
         "type": "scattergl",
         "x": {
          "bdata": "kVwIAJJcCACTXAgAllwIAJdcCACjXAgApVwIAKZcCACnXAgArFwIAK1cCACuXAgAsFwIALFcCADBXAgAxlwIADBdCAA0XQgANl0IADddCAA4XQgAOV0IADpdCAA8XQgAPV0IAD5dCAA/XQgAQF0IAEldCABKXQgAS10IAExdCABQXQgAUV0IAFJdCABZXQgAWl0IAFxdCABdXQgAXl0IAGBdCABkXQgAZV0IAGZdCABnXQgAal0IAHBdCAByXQgA",
          "dtype": "i4"
         },
         "xaxis": "x",
         "y": {
          "bdata": "AAAAAAAALkAAAAAAAIAtQLgehetRuAJAMzMzMzPzNUAAAAAAAAA+QM3MzMzMzD9AZmZmZmZmMUA0MzMzM7MxQM3MzMzMzDNANDMzMzOzQUCamZmZmZkuQAAAAAAAACtAKVyPwvUoFEAAAAAAAAAxQJqZmZmZmT5AAAAAAACAOUBmZmZmZmZkQAAAAAAAgClAFK5H4XoUQ0CamZmZmZkyQArXo3A9CitASOF6FK5HQUAAAAAAAAAlQDMzMzMzsydAAAAAAACAQEDNzMzMzMwAQAAAAAAAAEFAzczMzMzMQ0AAAAAAAKBkQGZmZmZmZkdAAAAAAAAAKUBmZmZmZmZEQOF6FK5H4eo/mpmZmZnZTUA0MzMzM7MxQDMzMzMzsy1AmpmZmZmZTkCkcD0K16MQQAAAAAAAACtAj8L1KFynbECamZmZmZkXQGZmZmZm5i1AAAAAAAAAMUAAAAAAAIA5QAAAAAAAADFAZmZmZmZmKkBmZmZmZsZKQM3MzMzMzCNA",
          "dtype": "f8"
         },
         "yaxis": "y"
        },
        {
         "hovertemplate": "Invoice Date=2011-03-30<br>Invoice Number=%{x}<br>Total Sales=%{y}<extra></extra>",
         "legendgroup": "2011-03-30",
         "marker": {
          "color": "#FF6692",
          "symbol": "circle"
         },
         "mode": "markers",
         "name": "2011-03-30",
         "showlegend": true,
         "type": "scattergl",
         "x": {
          "bdata": "dV0IAHZdCAB3XQgAeF0IAHldCAB6XQgAfl0IAH9dCACKXQgAkl0IAJVdCACfXQgAoF0IAKFdCACiXQgAo10IAKRdCACrXQgAtF0IAMFdCADFXQgA1F0IANVdCADXXQgA2F0IANldCADaXQgA210IANxdCADdXQgA3l0IAN9dCADjXQgA5F0IAOVdCADmXQgA510IAOldCADqXQgA610IAOxdCADtXQgA7l0IAO9dCADwXQgA8V0IAPJdCAD0XQgA/V0IAP9dCAABXggAAl4IAAZeCAAHXggACV4IAA9eCAAQXggAEl4IABNeCAAUXggAJF4IADBeCAA=",
          "dtype": "i4"
         },
         "xaxis": "x",
         "y": {
          "bdata": "KVyPwvUoFEBmZmZmZmYkQDMzMzMzsy1AMzMzMzPzVkBmZmZmZmZUQDMzMzMzMxtAAAAAAAAAQkAUrkfhehRjQAAAAAAAACFANDMzMzOzQUAAAAAAALB8QAAAAAAAgDZAZmZmZmZmNEAAAAAAAAAuQGZmZmZm5jNAzczMzMzMH0AzMzMzMzP/Pylcj8L1KCRAZmZmZmZmN0BmZmZmZmYxQOxRuB6Fa15AMzMzMzMzD0CamZmZmZkgQM3MzMzMzC9AzczMzMzMH0AAAAAAAAAEQGZmZmZmZiRANDMzMzOzMUCamZmZmdltQDMzMzMzMy9AzMzMzMzME0BmZmZmZuYtQAAAAAAAAC5AmpmZmZmZbkAAAAAAAAAkQAAAAAAAgEZApHA9CtejEEBmZmZmZmZRQM3MzMzMzBdANDMzMzOzQUAzMzMzM7NtQDQzMzMzs0FAZmZmZmZmKUApXI/C9SgkQAAAAAAAYHhAmpmZmZmZD0C4HoXrUbgCQClcj8L1KBRAPQrXo3A9XkCamZmZmZkuQNejcD0K1ztAzMzMzMzMU0CamZmZmZk/QAAAAAAAAHtAAAAAAACANkAAAAAAAIBZQAAAAAAAADJAzczMzMzMH0AzMzMzMzMLQGZmZmZm5iNAAAAAAACAIEDNzMzMzMwvQA==",
          "dtype": "f8"
         },
         "yaxis": "y"
        },
        {
         "hovertemplate": "Invoice Date=2011-03-31<br>Invoice Number=%{x}<br>Total Sales=%{y}<extra></extra>",
         "legendgroup": "2011-03-31",
         "marker": {
          "color": "#B6E880",
          "symbol": "circle"
         },
         "mode": "markers",
         "name": "2011-03-31",
         "showlegend": true,
         "type": "scattergl",
         "x": {
          "bdata": "MV4IADNeCAA0XggANV4IADZeCAA3XggAOF4IAF9eCABgXggAYl4IAGNeCABkXggAZ14IAGleCABqXggAa14IAG1eCAByXggAdF4IAIReCACGXggAil4IAIteCACMXggAjV4IAI5eCACRXggAkl4IAJNeCACUXggAlV4IAJpeCACbXggAnV4IAJ5eCACfXggAoF4IAKheCACpXggAsV4IALJeCACzXggAtV4IALZeCAC9XggAvl4IAMBeCADBXggAwl4IAMNeCADEXggAxV4IAA==",
          "dtype": "i4"
         },
         "xaxis": "x",
         "y": {
          "bdata": "ZmZmZmZmJEAzMzMzM/MwQDMzMzMzMxdAmpmZmZnZMUBnZmZmZuZSQGZmZmZmZjRANDMzMzOzQUAAAAAAAIBKQGZmZmZmZiRAAQAAAACAK0AAAAAAAAAxQJqZmZmZ2TFAAAAAAAAAIUAAAAAAAIAwQAAAAAAAAC5AAAAAAACAOUCkcD0K16MQQDQzMzMzszFAAAAAAACAKUAzMzMzM/MzQGZmZmZmZipAMzMzMzMzKUA0MzMzMzMZQAAAAAAAAARAAAAAAAAAUUAAAAAAAIBwQJqZmZmZmS9AAAAAAAAANUBmZmZmZuYoQM3MzMzMzC9AAAAAAACQUkAzMzMzMzP/PwAAAAAAgDZAAAAAAACASUC4HoXrUbgCQAAAAAAAwDhAmpmZmZmZF0C4HoXrUbgyQClcj8L1KCRAZmZmZmZmN0CamZmZmZkXQJqZmZmZ2W1AAAAAAACARkA0MzMzM7MxQAAAAAAAACpANDMzMzOzQUAAAAAAAAAhQGZmZmZm5iNANDMzMzOzMUDNzMzMzMxGQAAAAAAAUFZAZmZmZmbmI0A=",
          "dtype": "f8"
         },
         "yaxis": "y"
        },
        {
         "hovertemplate": "Invoice Date=2011-04-01<br>Invoice Number=%{x}<br>Total Sales=%{y}<extra></extra>",
         "legendgroup": "2011-04-01",
         "marker": {
          "color": "#FF97FF",
          "symbol": "circle"
         },
         "mode": "markers",
         "name": "2011-04-01",
         "showlegend": true,
         "type": "scattergl",
         "x": {
          "bdata": "xl4IAMdeCADIXggAyl4IAMteCADMXggAzV4IAM5eCADPXggA0F4IANFeCADTXggA1V4IANZeCADXXggA2F4IAABfCAACXwgAA18IAARfCAAFXwgABl8IAAhfCAAJXwgACl8IAAtfCAANXwgADl8IAA9fCAATXwgAFV8IABZfCAAXXwgAGF8IABlfCAAaXwgAG18IABxfCAAgXwgAIV8IACJfCAAjXwgAJF8IACVfCAAoXwgAKV8IACpfCAArXwgALF8IAC9fCAAwXwgAMV8IADJfCAAzXwgANF8IADlfCAA6XwgAPF8IAD1fCAA+XwgAQV8IAE5fCABPXwgA",
          "dtype": "i4"
         },
         "xaxis": "x",
         "y": {
          "bdata": "AAAAAACAMEDNzMzMzMwnQAAAAAAAADFAmpmZmZmZL0A0MzMzM7M9QGZmZmZmZmdAmpmZmZn5Q0AzMzMzM7MtQAAAAAAAgFlAmpmZmZmZLkDNzMzMzMwzQJqZmZmZ2TFAAAAAAACAM0BmZmZmZmY3QAAAAAAAgCBAAAAAAACASUAAAAAAAIAwQGZmZmZmZu4/9ihcj8L1OECkcD0K16MQQKRwPQrXo0FAZmZmZmZm/j/sUbgeheszQM3MzMzMzDNAAAAAAACAOUDsUbgehesjQGZmZmZmZv4/MzMzMzOzLUAAAAAAAEBVQD0K16NwPW5ANDMzMzMzdkA0MzMzMzN2QAAAAAAAAPA/AAAAAAAAMUAfhetRuJ6MQGZmZmZmZiRAzczMzMyMckDNzMzMzMw7QJqZmZmZ2UdAmpmZmZkJgkBmZmZmZuYjQAAAAAAAAFJAFK5H4XoUY0CF61G4HiVRQGZmZmZmZiRAAAAAAABAakAAAAAAAAAuQAAAAAAA4FBAAAAAAACARkAAAAAAAAAxQM3MzMzMzOQ/MzMzMzMz6z8AAAAAAIBZQAAAAAAAACVAAAAAAAAgY0A0MzMzM7MxQDQzMzMzM0lAzczMzMzMJ0AzMzMzM/NWQAAAAAAAAB5ACtejcD0KS0CamZmZmZlOQAAAAAAAgElA",
          "dtype": "f8"
         },
         "yaxis": "y"
        },
        {
         "hovertemplate": "Invoice Date=2011-04-03<br>Invoice Number=%{x}<br>Total Sales=%{y}<extra></extra>",
         "legendgroup": "2011-04-03",
         "marker": {
          "color": "#FECB52",
          "symbol": "circle"
         },
         "mode": "markers",
         "name": "2011-04-03",
         "showlegend": true,
         "type": "scattergl",
         "x": {
          "bdata": "WF8IAFlfCABaXwgAXF8IAF1fCABeXwgAX18IAGBfCABhXwgAYl8IAGNfCABkXwgAZV8IAGZfCABnXwgAaF8IAGpfCABrXwgAbF8IAA==",
          "dtype": "i4"
         },
         "xaxis": "x",
         "y": {
          "bdata": "ZmZmZmZm7j8AAAAAAAA/QJqZmZmZmU5AAAAAAABgW0BmZmZmZmYXQGZmZmZm5iNAAAAAAAAAHkAzMzMzM7NtQHA9CtejcFNAAAAAAACAMEAAAAAAAIA5QGZmZmZm5jNAAAAAAACAMEAK16NwPQorQGZmZmZmZhdAmpmZmZmZB0AAAAAAAAAhQKRwPQrXoyBAZmZmZmbmM0A=",
          "dtype": "f8"
         },
         "yaxis": "y"
        },
        {
         "hovertemplate": "Invoice Date=2011-04-04<br>Invoice Number=%{x}<br>Total Sales=%{y}<extra></extra>",
         "legendgroup": "2011-04-04",
         "marker": {
          "color": "#636efa",
          "symbol": "circle"
         },
         "mode": "markers",
         "name": "2011-04-04",
         "showlegend": true,
         "type": "scattergl",
         "x": {
          "bdata": "dl8IAHhfCAB6XwgAfF8IAH1fCAB+XwgAf18IAIBfCACDXwgAhF8IAIVfCACGXwgAh18IAIhfCACLXwgAjV8IAJVfCACgXwgArF8IALhfCAC8XwgAwV8IAMZfCADHXwgAyF8IAPhfCAD7XwgA/F8IAP1fCAD+XwgA/18IAABgCAABYAgAA2AIAARgCAAFYAgABmAIAAdgCAAIYAgACWAIAApgCAAcYAgAIGAIACJgCAAjYAgAJGAIAA==",
          "dtype": "i4"
         },
         "xaxis": "x",
         "y": {
          "bdata": "CtejcD0KS0AAAAAAAAAuQAAAAAAAgC1AzczMzMzML0AAAAAAAAAuQJqZmZmZmRdAzczMzMzMH0BI4XoUrgd7QGZmZmZm5kNAAAAAAAAAK0DNzMzMzMwvQAAAAAAAADlAmpmZmZmZPkCamZmZmZkuQDMzMzMzMylAZmZmZmZmJEDNzMzMzMwvQJqZmZmZWUlAZmZmZmbmM0C4HoXrUbgCQEjhehSuRyRA4XoUrkfhMUAAAAAAAAAlQAAAAAAAgGlAmJmZmZmZHkB7FK5H4XrkP83MzMzMzBdAAAAAAAAAAEBmZmZmZuY1QAAAAAAAgClAmpmZmZmZF0AAAAAAAAAOQGZmZmZm5jNAmpmZmZmZ8T8K16NwPQorQM3MzMzMzB9AAAAAAAAA9D+amZmZmZknQAAAAAAAAC5AAAAAAACAWUDNzMzMzMwnQJqZmZmZ2TFANDMzMzOzMUBmZmZmZmbuPwAAAAAAAF5AcT0K16PQRkA=",
          "dtype": "f8"
         },
         "yaxis": "y"
        },
        {
         "hovertemplate": "Invoice Date=2011-04-05<br>Invoice Number=%{x}<br>Total Sales=%{y}<extra></extra>",
         "legendgroup": "2011-04-05",
         "marker": {
          "color": "#EF553B",
          "symbol": "circle"
         },
         "mode": "markers",
         "name": "2011-04-05",
         "showlegend": true,
         "type": "scattergl",
         "x": {
          "bdata": "K2AIAC5gCAAvYAgAMGAIADRgCAA1YAgANmAIADdgCAA4YAgATGAIAE5gCABYYAgAa2AIAG1gCABuYAgAb2AIAHJgCABzYAgAdWAIAHdgCAB4YAgAeWAIAHtgCAB8YAgAfmAIAH9gCACAYAgAj2AIAJRgCACWYAgAl2AIAJhgCACZYAgAmmAIAJxgCACdYAgAnmAIAKJgCACjYAgA",
          "dtype": "i4"
         },
         "xaxis": "x",
         "y": {
          "bdata": "AAAAAABAb0CamZmZmZlVQGZmZmZmZiRAzczMzMzMU0AAAAAAAAA+QGZmZmZmZiRAZmZmZmZmNEAAAAAAAAAxQAAAAAAAAC5AZmZmZmZmVEAAAAAAAAA+QGZmZmZmZv4/4XoUrkfhGkAAAAAAAIAzQM3MzMzMzDNAUrgehetRP0DNzMzMzMwvQAAAAAAA4F9AAAAAAACQckCamZmZmZkwQAAAAAAAACVAAAAAAABAWkAAAAAAAAAlQJqZmZmZ+UNA9ihcj8L1OEBmZmZmZmbuPwAAAAAAADFAZmZmZmZmKkCamZmZmZkyQOF6FK5H4eo/CtejcD0KO0A0MzMzM7MxQAAAAAAAAC5AmpmZmZnZR0BxPQrXo3BJQAAAAAAAAC5AmpmZmZnZVEAAAAAAAIBZQAAAAAAAyI9A",
          "dtype": "f8"
         },
         "yaxis": "y"
        },
        {
         "hovertemplate": "Invoice Date=2011-04-06<br>Invoice Number=%{x}<br>Total Sales=%{y}<extra></extra>",
         "legendgroup": "2011-04-06",
         "marker": {
          "color": "#00cc96",
          "symbol": "circle"
         },
         "mode": "markers",
         "name": "2011-04-06",
         "showlegend": true,
         "type": "scattergl",
         "x": {
          "bdata": "tGAIALZgCAC3YAgAuGAIALxgCAC9YAgAvmAIAL9gCADAYAgAw2AIAOtgCADtYAgA7mAIAPBgCADxYAgA8mAIAPNgCAD7YAgA/GAIAP1gCAD/YAgAAGEIAAFhCAADYQgABGEIAAVhCAAGYQgAB2EIAAhhCAAJYQgACmEIAAthCAAcYQgAIWEIACJhCAAxYQgA",
          "dtype": "i4"
         },
         "xaxis": "x",
         "y": {
          "bdata": "ZmZmZmZmNEBmZmZmZmY0QDMzMzMzM/s/AAAAAAAAOkBmZmZmZuYzQClcj8L1KCRAAAAAAAAAQUAAAAAAAAAuQJqZmZmZmRdAAAAAAACASUDNzMzMzMwnQAAAAAAAAPQ/AAAAAAAAPkBnZmZmZuZSQDMzMzMzMy9AmpmZmZn5Q0AVrkfhehQcQM3MzMzMzENANDMzMzOzMUBmZmZmZmYkQOxRuB6F6zNAmpmZmZmZF0AAAAAAAIBmQGdmZmZmZhpAAAAAAABAVEBxPQrXo3BZQJqZmZmZ+UNAAAAAAACAWUBmZmZmZuYjQNajcD0K1ytAzczMzMzMBEDNzMzMzIxKQAAAAAAAAB5AAAAAAAAALkA0MzMzM7MxQAAAAAAAABFA",
          "dtype": "f8"
         },
         "yaxis": "y"
        },
        {
         "hovertemplate": "Invoice Date=2011-04-07<br>Invoice Number=%{x}<br>Total Sales=%{y}<extra></extra>",
         "legendgroup": "2011-04-07",
         "marker": {
          "color": "#ab63fa",
          "symbol": "circle"
         },
         "mode": "markers",
         "name": "2011-04-07",
         "showlegend": true,
         "type": "scattergl",
         "x": {
          "bdata": "PmEIAD9hCABBYQgAQmEIAENhCABEYQgARWEIAEZhCABIYQgAVmEIAGlhCAByYQgAc2EIAHVhCAB2YQgAd2EIAHhhCAB5YQgAe2EIAH1hCAB+YQgAf2EIAIBhCACCYQgAg2EIAIdhCACIYQgAiWEIAIphCACLYQgAjGEIAI1hCACOYQgAj2EIAJhhCACZYQgAm2EIAJxhCACdYQgAnmEIAJ9hCACgYQgAoWEIAKJhCACjYQgApGEIAKVhCACmYQgAp2EIAKlhCACrYQgArGEIAK1hCACuYQgA",
          "dtype": "i4"
         },
         "xaxis": "x",
         "y": {
          "bdata": "AAAAAAAAJUAAAAAAAAAuQClcj8L1KCRAAAAAAADgcEBmZmZmZuZlQGZmZmZmZjdAAAAAAACAMEAAAAAAAIBZQAAAAAAAAFJAzczMzMzML0AAAAAAAIBZQM3MzMzMzBNA1qNwPQrXK0ApXI/C9SgkQM3MzMzMzDNAzczMzMzMM0BmZmZmZmYKQGZmZmZmZidAAAAAAAAAQUBmZmZmZmYUQAAAAAAAIGVAZmZmZmZmNEBSuB6F61EIQAAAAAAAABNAMzMzMzMzB0A0MzMzM7MxQAAAAAAAAC5AZmZmZmZmBEAAAAAAAAAuQGZmZmZmZiRAzczMzMzML0AAAAAAAIA5QDMzMzMzM/s/ZmZmZmZmJEDNzMzMzIwxQGZmZmZmZmFAzczMzMzMN0DNzMzMzMwkQDMzMzMzMw9AKVyPwvUoREBI4XoUrkfpPwEAAAAA8GlAzczMzMzMNEAAAAAAAAAuQGZmZmZm5jNAZmZmZmbmdUDWo3A9CtcbQAAAAAAAAPQ/AAAAAAAADkDNzMzMzMwzQM3MzMzMzARAMzMzMzPzMEAAAAAAAAAKQDMzMzMzMwdA",
          "dtype": "f8"
         },
         "yaxis": "y"
        },
        {
         "hovertemplate": "Invoice Date=2011-04-08<br>Invoice Number=%{x}<br>Total Sales=%{y}<extra></extra>",
         "legendgroup": "2011-04-08",
         "marker": {
          "color": "#FFA15A",
          "symbol": "circle"
         },
         "mode": "markers",
         "name": "2011-04-08",
         "showlegend": true,
         "type": "scattergl",
         "x": {
          "bdata": "sGEIALFhCACyYQgAs2EIALRhCAC1YQgAtmEIALdhCAC4YQgAuWEIALphCAC7YQgAvGEIAL1hCAC+YQgAv2EIAMBhCADFYQgAxmEIAMdhCADIYQgAyWEIAMphCADLYQgAzGEIAOlhCADwYQgA+GEIAPxhCAALYggAJGIIACliCAAwYggAMWIIADRiCAA1YggAN2IIADhiCAA5YggAPGIIAD9iCABAYggAQWIIAEJiCABDYggARGIIAEViCABGYggAR2IIAEhiCABJYggAS2IIAFtiCABcYggAX2IIAJBiCACSYggAk2IIAJZiCACiYggA",
          "dtype": "i4"
         },
         "xaxis": "x",
         "y": {
          "bdata": "zczMzMzML0AAAAAAAAAxQM3MzMzMzDNAAAAAAAAALkDhehSuR+EaQM3MzMzMzDdANDMzMzOzMUDNzMzMzMw0QAAAAAAAAC5ANDMzMzOzMUC4HoXrUbgyQAAAAAAAgClANDMzMzOzMUDNzMzMzMwzQArXo3A9CitANDMzMzOzMUCamZmZmdlBQAAAAAAAgDlAmpmZmZmZLkA0MzMzM7MxQAAAAAAAAEFAmpmZmZnZMUC4HoXrUbgCQAAAAAAAACVAAAAAAACAOUAzMzMzMzMpQM3MzMzMzDNApHA9CtejAEAAAAAAAAAZQJqZmZmZmTBAmpmZmZmZTkA0MzMzM/NTQAAAAAAAgDBAAAAAAACAI0AAAAAAACBcQAAAAAAAAC5AAAAAAAAAS0DNzMzMzMxHQGZmZmZm5kNAmpmZmZmZB0CamZmZmdkxQJqZmZmZ2TFAzczMzMzMI0AAAAAAAIAwQDQzMzMzszFAAAAAAABwd0AAAAAAAOBwQM3MzMzMzC9ASOF6FK5HYUApXI/C9SgUQDQzMzMzs1FAzczMzMzMU0BmZmZmZmY0QD0K16NwL51AmpmZmZmZPkA0MzMzMzMfQClcj8L1KCRAAAAAAADAOEDNzMzMzMwmQGZmZmZmZgpA",
          "dtype": "f8"
         },
         "yaxis": "y"
        },
        {
         "hovertemplate": "Invoice Date=2011-04-10<br>Invoice Number=%{x}<br>Total Sales=%{y}<extra></extra>",
         "legendgroup": "2011-04-10",
         "marker": {
          "color": "#19d3f3",
          "symbol": "circle"
         },
         "mode": "markers",
         "name": "2011-04-10",
         "showlegend": true,
         "type": "scattergl",
         "x": {
          "bdata": "o2IIAKViCACmYggAp2IIAKpiCACrYggArGIIAK5iCACvYggAsGIIALFiCACyYggAs2IIALRiCAC1YggAtmIIALhiCAC5YggAumIIALtiCAC8YggAvmIIAL9iCADAYggAwWIIAMJiCADDYggAxGIIAMViCADGYggAx2IIAA==",
          "dtype": "i4"
         },
         "xaxis": "x",
         "y": {
          "bdata": "AAAAAAAAPkBI4XoUrkdhQAAAAAAAAARAmpmZmZmZB0AAAAAAAAATQGZmZmZm5jNAMzMzMzMz/z9mZmZmZuYhQOJ6FK5HYVFAmpmZmZnZMUD2KFyPwvUYQAAAAAAAACVAmpmZmZmZH0BmZmZmZmYEQM3MzMzMzDNAZmZmZmZmGUCamZmZmZkHQPYoXI/C9RJACtejcD0K+z8zMzMzMzMfQDQzMzMzszFAzczMzMzMIEC4HoXrUbgCQJqZmZmZ2UFAAAAAAAAAG0AAAAAAAAAOQDQzMzMzszFA9ihcj8L1OEAAAAAAAAAeQGZmZmZmZiRAzczMzMzMJUA=",
          "dtype": "f8"
         },
         "yaxis": "y"
        },
        {
         "hovertemplate": "Invoice Date=2011-04-11<br>Invoice Number=%{x}<br>Total Sales=%{y}<extra></extra>",
         "legendgroup": "2011-04-11",
         "marker": {
          "color": "#FF6692",
          "symbol": "circle"
         },
         "mode": "markers",
         "name": "2011-04-11",
         "showlegend": true,
         "type": "scattergl",
         "x": {
          "bdata": "yGIIAMliCADKYggAy2IIAM1iCADPYggA0GIIANFiCADTYggA1WIIANZiCADXYggA2GIIANliCADaYggA22IIANxiCADdYggA82IIAPxiCAABYwgADmMIACBjCAAhYwgAJWMIACZjCAAuYwgAL2MIADFjCAAzYwgAOWMIADpjCAA7YwgAPWMIAD5jCABAYwgASWMIAE9jCABRYwgAU2MIAFRjCABVYwgAVmMIAFdjCABYYwgAWmMIAGBjCABhYwgAYmMIAGRjCABlYwgAZmMIAA==",
          "dtype": "i4"
         },
         "xaxis": "x",
         "y": {
          "bdata": "ZmZmZmZmN0AAAAAAAAAuQDQzMzMzs01AzczMzMzMJ0BmZmZmZmYkQAAAAAAAACVAzczMzMzMNEDNzMzMzMxjQBSuR+F6FCxAMzMzMzPzVkAzMzMzMzNJQP//////S4pAAAAAAACAKUAAAAAAAFBkQFyPwvUoXFJAZmZmZmbGSkCamZmZmZkuQJqZmZmZmV5AMzMzMzMzWUA9CtejcD1OQJqZmZmZ2VFAFK5H4XoULEAAAAAAAABhQAAAAAAAwEVAZmZmZmZmBEDNzMzMzMwkQGdmZmZm5lJAAAAAAAAALkC4HoXrUbgyQM3MzMzMzDNANDMzMzOzMUBmZmZmZmb6P83MzMzMzENASOF6FK5HNEDNzMzMzMwQQAAAAAAAIGNAcT0K16NwWUAAAAAAAIAwQAAAAAAAgDBAAAAAAAAALkApXI/C9SgkQAAAAAAAAC5AmpmZmZmZPkDNzMzMzMwwQM3MzMzMzB9AZmZmZmZmGUBmZmZmZuYzQM3MzMzMzB9AMzMzMzMz+z8AAAAAAAAuQJqZmZmZmQdAAAAAAAAADkA=",
          "dtype": "f8"
         },
         "yaxis": "y"
        },
        {
         "hovertemplate": "Invoice Date=2011-04-12<br>Invoice Number=%{x}<br>Total Sales=%{y}<extra></extra>",
         "legendgroup": "2011-04-12",
         "marker": {
          "color": "#B6E880",
          "symbol": "circle"
         },
         "mode": "markers",
         "name": "2011-04-12",
         "showlegend": true,
         "type": "scattergl",
         "x": {
          "bdata": "Z2MIAGhjCABpYwgAa2MIAGxjCABtYwgAbmMIAG9jCABwYwgAcWMIAHJjCABzYwgAdGMIAHVjCAB2YwgAd2MIAHhjCAB6YwgAe2MIAHxjCACLYwgAm2MIAJ1jCACeYwgAtWMIAMJjCADEYwgAxWMIAMZjCADHYwgAyGMIAMljCADKYwgAy2MIAMxjCADNYwgAzmMIAM9jCADRYwgA0mMIANNjCADUYwgA1WMIANdjCADaYwgA22MIANxjCADyYwgA+GMIAPljCAD9YwgADWQIAA5kCAAPZAgAEGQIABJkCAATZAgAFWQIABZkCAA=",
          "dtype": "i4"
         },
         "xaxis": "x",
         "y": {
          "bdata": "AAAAAACAQECamZmZmflDQM3MzMzMzERAhetRuB5Nc0DNzMzMzMxEQGZmZmZm5kNAzczMzMzMQ0AAAAAAAAA+QAAAAAAAgEZANDMzMzOzQUAzMzMzM/NWQAAAAAAAYGZAmpmZmZnZYUDNzMzMzMwkQM3MzMzMzBdAMzMzMzMzL0AAAAAAAIAwQAAAAAAAACVAzczMzMzMQ0DNzMzMzMxTQJqZmZmZmQ9AAAAAAAAAPkAAAAAAAIAwQM3MzMzMzDNAuB6F61G4AkAAAAAAAAAxQDMzMzMzMylAAAAAAAAAPkBmZmZmZuZNQGZmZmZmZilANDMzMzOzMUBmZmZmZmYkQJqZmZmZmV5AZ2ZmZmamUEAAAAAAAAAKQGZmZmZm5jFAAAAAAACAQECamZmZmZkuQGZmZmZmZgpAmpmZmZnZMUBmZmZmZmYqQDQzMzMzsyFA1qNwPQrXC0AAAAAAAAAuQGZmZmZmRkZAAAAAAAAAJUDNzMzMzMwvQM3MzMzMzCNAw/UoXI+CXkAAAAAAAAA+QM3MzMzMjFpAAAAAAACAIEAAAAAAAIAwQDMzMzMz8zBAMzMzMzMz9z8AAAAAAAAhQM3MzMzMzC9AZmZmZmbmI0AAAAAAAAAhQA==",
          "dtype": "f8"
         },
         "yaxis": "y"
        },
        {
         "hovertemplate": "Invoice Date=2011-04-13<br>Invoice Number=%{x}<br>Total Sales=%{y}<extra></extra>",
         "legendgroup": "2011-04-13",
         "marker": {
          "color": "#FF97FF",
          "symbol": "circle"
         },
         "mode": "markers",
         "name": "2011-04-13",
         "showlegend": true,
         "type": "scattergl",
         "x": {
          "bdata": "F2QIABtkCAAcZAgAHWQIAB5kCAAgZAgAI2QIACRkCAAlZAgAJmQIACdkCAAoZAgAKWQIACxkCAAtZAgALmQIADBkCAAxZAgAMmQIADNkCAA0ZAgANWQIADZkCAA3ZAgAOGQIADpkCAA7ZAgAPWQIAD9kCABCZAgARGQIAEVkCABGZAgAR2QIAElkCABMZAgATWQIAE5kCABPZAgAUWQIAFJkCABTZAgAVGQIAFZkCABXZAgAWGQIAFlkCABaZAgAW2QIAFxkCABdZAgAXmQIAF9kCABgZAgAYWQIAGRkCABlZAgAZmQIAA==",
          "dtype": "i4"
         },
         "xaxis": "x",
         "y": {
          "bdata": "AAAAAAAAKkAAAAAAAAAuQD0K16NwPT5AMzMzMzMzKUDWo3A9CtcbQM3MzMzMzDBAzczMzMzMN0AAAAAAACBTQD0K16NwfZFArkfhehSudkBwPQrXo3BTQAAAAAAAIGJAzczMzMzMP0AAAAAAAIAtQDQzMzMzszFAmpmZmZnZMUAAAAAAAIBZQJqZmZmZ2UFAAAAAAACAeUAAAAAAAAAuQHE9CtejcElAZmZmZmZmVEA0MzMzM7NRQJqZmZmZmQdAzczMzMzMM0BmZmZmZuZlQAAAAAAAAD5AMzMzMzMz+z8AAAAAAIAtQM3MzMzMzCNAzczMzMzMM0AAAAAAAIA5QAAAAAAAAA5AZmZmZmbmM0AAAAAAAIA5QOF6FK5H4TFAcT0K16NwSUDNzMzMzMwwQAEAAAAAgCtAAAAAAACAOUAAAAAAACBTQAAAAAAAgEBANDMzMzOzMUBmZmZmZuYjQOxRuB6F6yNAAAAAAAAALkD2KFyPwvX4P5qZmZmZ2TFAAAAAAAAAP0CamZmZmZlOQDMzMzMz80BAzczMzMzMM0AAAAAAAAAEQM3MzMzMzDNAAAAAAADgUEBmZmZmZuYzQAAAAAAAACFAAAAAAAAAJEA=",
          "dtype": "f8"
         },
         "yaxis": "y"
        },
        {
         "hovertemplate": "Invoice Date=2011-04-14<br>Invoice Number=%{x}<br>Total Sales=%{y}<extra></extra>",
         "legendgroup": "2011-04-14",
         "marker": {
          "color": "#FECB52",
          "symbol": "circle"
         },
         "mode": "markers",
         "name": "2011-04-14",
         "showlegend": true,
         "type": "scattergl",
         "x": {
          "bdata": "Z2QIAGhkCABpZAgAamQIAGtkCABsZAgAbWQIAG5kCABvZAgAcGQIAHFkCABzZAgAdWQIAHZkCAB3ZAgAeGQIAH9kCACAZAgAgWQIAIlkCACOZAgAj2QIAJBkCACRZAgAkmQIAJNkCACkZAgApmQIAKlkCAC3ZAgA2mQIAOhkCADpZAgA6mQIAOxkCADtZAgA7mQIAPFkCADyZAgA82QIAPRkCAD2ZAgA92QIAPhkCAD6ZAgAAGUIAARlCAAFZQgABmUIAAdlCAAIZQgACmUIAAtlCAAMZQgADWUIAA5lCAAPZQgAEGUIABFlCAATZQgAFGUIABdlCAAZZQgAHWUIACNlCAAkZQgAJmUIACdlCAAoZQgAKWUIACplCAAtZQgALmUIAC9lCAA=",
          "dtype": "i4"
         },
         "xaxis": "x",
         "y": {
          "bdata": "AAAAAACARkAAAAAAAGBmQGZmZmZmZipAzczMzMzMNEBnZmZmZqZgQGZmZmZm5nVAmpmZmZmZTkAAAAAAAAAuQGZmZmZmZipAAAAAAAAAKUA0MzMzM7M9QGZmZmZmZiRAAAAAAAAgYkAAAAAAAIA5QAAAAAAAAFJAMzMzMzPzMEBmZmZmZmY0QDQzMzMzMx9ANDMzMzMzOUCamZmZmZknQM3MzMzMzENAAAAAAABAWkC4HoXrUbgCQAAAAAAAABRAmpmZmZn5Q0A0MzMzMzNPQAAAAAAAgDBAAAAAAACAMEAAAAAAAAAZQJqZmZmZ2TFAAAAAAAAAIUA0MzMzMzM5QM3MzMzMzC9AmpmZmZkZakDNzMzMzMw3QAAAAAAAADtAAAAAAAAALkAAAAAAAAA0QJqZmZmZ+UNAAAAAAAAALkAAAAAAAAA1QArXo3A9CktAw/UoXI+CbkDNzMzMzMwzQDMzMzMzMwtAZmZmZmbmI0AAAAAAAAAxQAAAAAAAgC1ANDMzMzOzTUAAAAAAAIhhQJqZmZmZ+UFAAAAAAACAPUAzMzMzM7MtQClcj8L1KERAZmZmZmZm/j8AAAAAAAAuQDQzMzMzM1ZA16NwPQpXZEA0MzMzM7MxQAAAAAAAAC5AAAAAAACALUAAAAAAAAA+QAAAAAAAACVAAAAAAACANkC4HoXrUbgCQM3MzMzMzCdAmpmZmZmZL0CamZmZmZkuQDMzMzMzMw9AZmZmZmZmN0A0MzMzM7NBQDMzMzMz80NAZmZmZmZmJ0AAAAAAAIA5QA==",
          "dtype": "f8"
         },
         "yaxis": "y"
        },
        {
         "hovertemplate": "Invoice Date=2011-04-15<br>Invoice Number=%{x}<br>Total Sales=%{y}<extra></extra>",
         "legendgroup": "2011-04-15",
         "marker": {
          "color": "#636efa",
          "symbol": "circle"
         },
         "mode": "markers",
         "name": "2011-04-15",
         "showlegend": true,
         "type": "scattergl",
         "x": {
          "bdata": "MWUIADJlCAA0ZQgANWUIADZlCAA3ZQgAOGUIADplCABIZQgASmUIAGJlCABqZQgAa2UIAG9lCAB4ZQgAeWUIAIBlCACCZQgAg2UIAIRlCACHZQgAiGUIAIplCACLZQgAjWUIAI5lCACPZQgAkGUIAJFlCACSZQgAk2UIAJRlCACYZQgAmWUIAJplCACbZQgA",
          "dtype": "i4"
         },
         "xaxis": "x",
         "y": {
          "bdata": "zczMzMzMKEA0MzMzM7NHQJqZmZmZ2TFAzczMzMzMJ0CamZmZmZk+QAAAAAAAgDBAmpmZmZnZR0AAAAAAAAAuQM3MzMzMzDNA7FG4HoXrI0ApXI/C9SgUQGZmZmZm5i9ANDMzMzOzMUDNzMzMzMwzQAAAAAAA4FBAZmZmZmbmM0AAAAAAAAAUQM3MzMzMzDNAzczMzMzMI0AAAAAAAOBgQAAAAAAAADFAAAAAAACAMEA0MzMzM7M9QDQzMzMzs01AmpmZmZnZMUAAAAAAAAA+QM3MzMzMzDNAMzMzMzMz6z9mZmZmZuYzQAAAAAAAgClANDMzMzOzMUCamZmZmZkHQJqZmZmZ2UFAzczMzMzMH0A0MzMzMzMfQAAAAAAA4GBA",
          "dtype": "f8"
         },
         "yaxis": "y"
        },
        {
         "hovertemplate": "Invoice Date=2011-04-17<br>Invoice Number=%{x}<br>Total Sales=%{y}<extra></extra>",
         "legendgroup": "2011-04-17",
         "marker": {
          "color": "#EF553B",
          "symbol": "circle"
         },
         "mode": "markers",
         "name": "2011-04-17",
         "showlegend": true,
         "type": "scattergl",
         "x": {
          "bdata": "nWUIAJ9lCACgZQgAoWUIAKNlCACkZQgApWUIAKZlCACnZQgAqGUIAKplCACrZQgArGUIAK1lCACuZQgAr2UIALBlCACxZQgAsmUIALNlCAC0ZQgAtWUIALZlCAC3ZQgAuGUIALllCAC6ZQgAu2UIALxlCAC9ZQgAvmUIAL9lCADAZQgAwWUIAMNlCADEZQgAxWUIAMZlCADHZQgA",
          "dtype": "i4"
         },
         "xaxis": "x",
         "y": {
          "bdata": "zczMzMzMF0DNzMzMzMwnQGZmZmZmZipAZmZmZmZmMUAK16NwPQo7QAAAAAAAYHZAmpmZmZnZVEDNzMzMzMxDQAAAAAAAABFAAAAAAAAAJUB7FK5H4fpAQGZmZmZmZiRA1qNwPQrXK0AAAAAAAAAuQDQzMzMzsyFApHA9CtejEEA0MzMzM7M3QM3MzMzMzBBAmpmZmZmZB0BI4XoUrkdUQGZmZmZmZiRAzczMzMzMM0BmZmZmZiYyQM3MzMzMzDNAzczMzMzMH0AAAAAAAAArQPYoXI/C9ThAZmZmZmZm+j+PwvUoXI8KQDQzMzMzszFAZmZmZmbmM0DNzMzMzMwfQAAAAAAAgDBAzczMzMzMAEAAAAAAAAAxQArXo3A9CitAAAAAAAAALkBmZmZmZmYkQJqZmZmZWTBA",
          "dtype": "f8"
         },
         "yaxis": "y"
        },
        {
         "hovertemplate": "Invoice Date=2011-04-18<br>Invoice Number=%{x}<br>Total Sales=%{y}<extra></extra>",
         "legendgroup": "2011-04-18",
         "marker": {
          "color": "#00cc96",
          "symbol": "circle"
         },
         "mode": "markers",
         "name": "2011-04-18",
         "showlegend": true,
         "type": "scattergl",
         "x": {
          "bdata": "yWUIAMplCADLZQgAzGUIAM5lCADPZQgA0GUIANVlCADXZQgA2GUIANllCADaZQgA3GUIAOllCAD1ZQgACGYIACVmCAAmZggAJ2YIAC5mCAAvZggAMGYIADFmCAAyZggANGYIADVmCAA5ZggAO2YIAD1mCAA+ZggAQGYIAEFmCABDZggARGYIAEVmCABJZggATGYIAE1mCABOZggAT2YIAFBmCABRZggAU2YIAFdmCABYZggAWmYIAFtmCABcZggAXWYIAF9mCABhZggAYmYIAGdmCABoZggAcGYIAHFmCAByZggAc2YIAHRmCAA=",
          "dtype": "i4"
         },
         "xaxis": "x",
         "y": {
          "bdata": "AAAAAACASUA0MzMzM7NRQAAAAAAAgDBAAAAAAAAAPkDNzMzMzMwjQAAAAAAAAC5AZmZmZmZm/j8AAAAAAIApQJqZmZmZmeE/ZmZmZmZmJEBxPQrXo3BZQAAAAAAAgFlAAAAAAAAAMkAAAAAAAABBQClcj8L1KARAAAAAAAAAK0AAAAAAAIA5QDQzMzMzszFAmpmZmZnZMUCamZmZmZkuQAAAAAAAwEJAMzMzMzMz/z+amZmZmVkwQAAAAAAAgFZAZmZmZmZmZEA0MzMzM7NRQAEAAAAA8GlAuB6F61G4EkBnZmZmZou5QAAAAAAAACFAMzMzMzPzPUCamZmZmZkvQM3MzMzMzDdAzczMzMzML0AAAAAAAAAOQM3MzMzMzCNA16NwPQpXVEBmZmZmZmYXQDQzMzMzszFAZmZmZmZmJEDNzMzMzMwAQJqZmZmZmQ9AmpmZmZnZQUA0MzMzMzM5QI/C9Shcj/o/zczMzMzML0DNzMzMzMwzQGZmZmZm5iNAcT0K16NwaUAAAAAAAMA9QAAAAAAAgGlAMzMzMzOzLUAAAAAAAIApQDQzMzMzszFAAAAAAAAAHkDNzMzMzMwjQDMzMzMzMylAAAAAAAAAHkAzMzMzM2NWQA==",
          "dtype": "f8"
         },
         "yaxis": "y"
        },
        {
         "hovertemplate": "Invoice Date=2011-04-19<br>Invoice Number=%{x}<br>Total Sales=%{y}<extra></extra>",
         "legendgroup": "2011-04-19",
         "marker": {
          "color": "#ab63fa",
          "symbol": "circle"
         },
         "mode": "markers",
         "name": "2011-04-19",
         "showlegend": true,
         "type": "scattergl",
         "x": {
          "bdata": "dWYIAHZmCAB3ZggAeGYIAHlmCAB6ZggAe2YIAHxmCAB9ZggAfmYIAIBmCACDZggAhGYIAIdmCACLZggAoGYIALNmCADPZggA0GYIANJmCADUZggA1WYIANdmCADYZggA2WYIANtmCADdZggA3mYIAN9mCADgZggA4mYIAONmCADkZggA5WYIAOZmCADnZggA6GYIAOlmCADqZggA62YIAO1mCADvZggA82YIAPVmCAD5ZggA+2YIAP9mCAA=",
          "dtype": "i4"
         },
         "xaxis": "x",
         "y": {
          "bdata": "zczMzMzML0AzMzMzMzMvQGZmZmZmZiRAZmZmZmZmN0BmZmZmZmYqQAAAAAAAgDBAzczMzMzMMEAAAAAAAIBZQM3MzMzMzAZAmpmZmZmZLkBmZmZmZuYzQDQzMzMzs0FAzczMzMzMF0A0MzMzMzM5QJqZmZmZmS9AAAAAAAAALkBmZmZmZmY0QM3MzMzMzCNAmpmZmZlRjkAzMzMzM2NWQAAAAAAAgEZAAAAAAACAOUDNzMzMzMwrQEjhehSuR1FAAAAAAAAASUDNzMzMzMwzQGZmZmZmZidAZmZmZmbmQ0CamZmZmdkxQAAAAAAAAClAMzMzMzMz/z8AAAAAAIA2QM3MzMzMzDBAzczMzMzMM0AAAAAAAAAoQDMzMzMzMy9AAAAAAAAA9D8AAAAAAIApQDMzMzMzMw9ANDMzMzMzVkCamZmZmZkgQAAAAAAAgDBAFa5H4XoUHEDNzMzMzMxHQAAAAAAAgDlAAAAAAAAA9D/NzMzMzMwAQA==",
          "dtype": "f8"
         },
         "yaxis": "y"
        },
        {
         "hovertemplate": "Invoice Date=2011-04-20<br>Invoice Number=%{x}<br>Total Sales=%{y}<extra></extra>",
         "legendgroup": "2011-04-20",
         "marker": {
          "color": "#FFA15A",
          "symbol": "circle"
         },
         "mode": "markers",
         "name": "2011-04-20",
         "showlegend": true,
         "type": "scattergl",
         "x": {
          "bdata": "AGcIAAFnCAACZwgAA2cIAARnCAAGZwgAB2cIAApnCAALZwgADWcIAA5nCAARZwgAEmcIABNnCAAtZwgANmcIADdnCAA4ZwgAOWcIADpnCABDZwgAXmcIAGJnCABjZwgAZGcIAGxnCABtZwgAbmcIAG9nCABwZwgAcWcIAHRnCAB1ZwgAdmcIAHdnCAB4ZwgAeWcIAHpnCAB7ZwgAfWcIAH5nCAB/ZwgAgGcIAIFnCACCZwgAjGcIAI1nCACOZwgAj2cIAJFnCACSZwgAk2cIAJRnCACVZwgAlmcIAJtnCAChZwgAomcIAKNnCAA=",
          "dtype": "i4"
         },
         "xaxis": "x",
         "y": {
          "bdata": "mpmZmZmZMEBmZmZmZuYzQDMzMzMzM1lAZmZmZmZmKkAAAAAAAOBQQAAAAAAAAC5AAAAAAACAMEDNzMzMzMwvQAAAAAAAAHhAAAAAAACAWUDNzMzMzMwzQAAAAAAAgFlAAAAAAACAWUBmZmZmZuYzQJqZmZmZmS5AZmZmZmamgECPwvUoXC9vQAAAAAAAAC5AAAAAAAAAKUCamZmZmZkyQPYoXI/C9RhAZmZmZmZmMUCamZmZmdlRQM3MzMzMzDdAMzMzMzOzLUCamZmZmZlAQAAAAAAAgDBAzczMzMzML0BmZmZmZmY0QAAAAAAAgClA9ihcj8L1WEAzMzMzM7M9QAAAAAAAgDZAMzMzMzOzLUA0MzMzM7MxQAAAAAAAAC5AzczMzMzMNEA0MzMzM7MxQJqZmZmZGWpAAAAAAAAALkAAAAAAAIA9QAAAAAAAAC5AZmZmZmZmN0A0MzMzM7MhQAAAAAAAAE5AzczMzMzMH0A0MzMzMzM/QDMzMzMz81ZAuB6F61G4MkBmZmZmZuZHQAAAAAAAgDBAAAAAAAAAGUA0MzMzMzM5QAAAAAAAACFAmpmZmZmZLkBmZmZmZmY0QGZmZmZm5jNAzczMzMyMOkDNzMzMzMwjQA==",
          "dtype": "f8"
         },
         "yaxis": "y"
        },
        {
         "hovertemplate": "Invoice Date=2011-04-21<br>Invoice Number=%{x}<br>Total Sales=%{y}<extra></extra>",
         "legendgroup": "2011-04-21",
         "marker": {
          "color": "#19d3f3",
          "symbol": "circle"
         },
         "mode": "markers",
         "name": "2011-04-21",
         "showlegend": true,
         "type": "scattergl",
         "x": {
          "bdata": "pGcIAKZnCACnZwgAqGcIAKpnCACsZwgArWcIAK5nCACvZwgAsGcIALFnCACyZwgAs2cIALRnCAC1ZwgAtmcIAOVnCADqZwgA9GcIAPVnCAD6ZwgA+2cIAABoCAABaAgAAmgIAANoCAAEaAgABWgIAAZoCAAHaAgACGgIAAloCAALaAgADWgIABZoCAAYaAgAGWgIABpoCAAbaAgAHGgIAB1oCAAeaAgAIGgIACVoCAAraAgALGgIAC1oCAAuaAgANGgIADVoCAA3aAgAOGgIADtoCAA8aAgAPWgIAD5oCABCaAgATGgIAE1oCABOaAgAT2gIAFBoCABRaAgAUmgIAA==",
          "dtype": "i4"
         },
         "xaxis": "x",
         "y": {
          "bdata": "7FG4HoXrI0BmZmZmZmYxQAAAAAAAoFRAAAAAAACAIECamZmZmdkxQM3MzMzMzCNAAAAAAACANkAAAAAAAIAwQM3MzMzMzDRAZmZmZmbmQUDNzMzMzMwjQM3MzMzMzB9AzczMzMzMH0AAAAAAAIApQGZmZmZmJjJAAAAAAAAABEAAAAAAAIAtQAAAAAAAYGhAAAAAAAAAQUDNzMzMzMwzQGZmZmZmZldAAAAAAABgZkAAAAAAAAAuQAAAAAAAAClAZmZmZmbmZUAAAAAAAAAeQJqZmZmZ2TRAcD0K16NwY0DNzMzMzMwvQAAAAAAAgDNAmpmZmZmZPkAAAAAAAIA5QAAAAAAAgFlAZmZmZmZmNEABAAAAAPB5QAAAAAAAAC5AMzMzMzMzWUDsUbgeheszQAAAAAAAAC5AAAAAAAA4g0BI4XoUrkdEQGZmZmZmZidAZmZmZmbmPUDXo3A9CtcFQM3MzMzMzCNAZmZmZmbmI0CkcD0K16MAQDQzMzMzszFAZmZmZmZmYUCamZmZmflDQM3MzMzMzDNAAAAAAAAAMUDNzMzMzMwzQDMzMzMzsyJAFK5H4XoUY0DNzMzMzMwkQAAAAAAAAD5AZmZmZmZmMUC4HoXrUbgCQAAAAAAAgFZAAAAAAACAQ0AzMzMzMzMXQArXo3A9CitAzMzMzMzME0A=",
          "dtype": "f8"
         },
         "yaxis": "y"
        },
        {
         "hovertemplate": "Invoice Date=2011-04-26<br>Invoice Number=%{x}<br>Total Sales=%{y}<extra></extra>",
         "legendgroup": "2011-04-26",
         "marker": {
          "color": "#FF6692",
          "symbol": "circle"
         },
         "mode": "markers",
         "name": "2011-04-26",
         "showlegend": true,
         "type": "scattergl",
         "x": {
          "bdata": "U2gIAFRoCABVaAgAV2gIAFhoCABZaAgAWmgIAFtoCABjaAgAZmgIAGhoCABtaAgAdGgIAHloCAB7aAgAj2gIAJBoCACRaAgAkmgIAJNoCACUaAgAlmgIAK1oCACwaAgA1GgIANVoCADdaAgA3mgIAN9oCADgaAgA4WgIAOJoCADlaAgA5mgIAOdoCADoaAgA6WgIAOpoCADraAgA7GgIAO1oCADuaAgA72gIAPBoCAD2aAgA92gIAPhoCAD5aAgA+mgIAPxoCAD9aAgA/mgIAAJpCAADaQgABGkIAA==",
          "dtype": "i4"
         },
         "xaxis": "x",
         "y": {
          "bdata": "AAAAAAAAIUAAAAAAAAA5QAAAAAAAACVAAAAAAAAAKUBmZmZmZmYxQDQzMzMzszFAAAAAAAAALkDhehSuR+EaQJqZmZmZmU5AAAAAAAAAMUBmZmZmZmYKQGZmZmZmZnRAAAAAAACAOUCamZmZmdk3QAAAAAAAAC5AMzMzMzOzbUCkcD0K16MQQKRwPQrXoxBAzczMzMzMAEDsUbgeheszQM3MzMzMzABAAAAAAAAAe0CamZmZmdlRQGZmZmZm5iNANDMzMzMzSUCamZmZmZknQDUzMzMzM3lAAAAAAACAPUAAAAAAAAAdQGZmZmZmZiRAmpmZmZmZF0AUrkfhehRDQAAAAAAAgDZAZmZmZmbmM0CamZmZmdkxQBWuR+F6FFNAZmZmZmbGSkAAAAAAAIBNQDMzMzMzsy1AzczMzMzMRkCamZmZmVlJQGZmZmZm5jNAzczMzMzMP0DNzMzMzMwfQGZmZmZm5kNAAAAAAAAALkA0MzMzM7MxQDQzMzMzMzlAAAAAAACAb0DNzMzMzMwfQGZmZmZmZlRAAAAAAACwjEAAAAAAAIA5QDMzMzMz8zBAAAAAAAAAGUA=",
          "dtype": "f8"
         },
         "yaxis": "y"
        },
        {
         "hovertemplate": "Invoice Date=2011-04-27<br>Invoice Number=%{x}<br>Total Sales=%{y}<extra></extra>",
         "legendgroup": "2011-04-27",
         "marker": {
          "color": "#B6E880",
          "symbol": "circle"
         },
         "mode": "markers",
         "name": "2011-04-27",
         "showlegend": true,
         "type": "scattergl",
         "x": {
          "bdata": "DWkIAA5pCAAPaQgAEGkIABFpCAASaQgAFGkIABVpCAAXaQgAGGkIABlpCAAaaQgAHWkIAB5pCAAfaQgAIGkIACJpCAAraQgAMmkIAEJpCABPaQgAUmkIAFtpCABeaQgAZGkIAGVpCABmaQgAZ2kIAGhpCABpaQgAamkIAGtpCABsaQgAbWkIAG9pCABwaQgAcWkIAHJpCABzaQgAdGkIAHZpCAB3aQgAeGkIAHlpCAB6aQgAe2kIAHxpCAB9aQgAfmkIAINpCACFaQgAiWkIAJJpCACTaQgApGkIAKZpCACpaQgAqmkIAA==",
          "dtype": "i4"
         },
         "xaxis": "x",
         "y": {
          "bdata": "ZmZmZmZmYUAAAAAAAAAhQDQzMzMzszFAFK5H4XoUY0AAAAAAAIBQQDMzMzMzMzlAzczMzMzMMEAAAAAAAMB1QAAAAAAAgIlA1qNwPQrXG0DNzMzMzMwXQGZmZmZmZjRAmpmZmZmZHkC4HoXrUbgyQM3MzMzMzDNANDMzMzOzIUCamZmZmZk+QAAAAAAAgFlAKVyPwvUoBEAAAAAAAKBnQJqZmZmZ2TFAAAAAAAAA9D8AAAAAAKqZQAAAAAAAAARAzczMzMzMG0AAAAAAAIAwQGZmZmZmZilAZmZmZmbmM0DiehSuR+E9QAAAAAAA4GBAAAAAAAAAPkBmZmZmZmYkQDQzMzMzszFAzczMzMzMIECZmZmZmZllQGZmZmZm5jFAAAAAAAAAIUDXo3A9CtcHQDMzMzMzMx9AAAAAAACAIEA0MzMzM7NNQDMzMzMzMxtAzczMzMzMP0AzMzMzMzMvQAEAAAAA8GlAcT0K16NwKUAAAAAAAEBEQJqZmZmZmTVAzczMzMzMN0AAAAAAAAAuQAAAAAAAAD5AAAAAAAAAJUA9CtejcD1uQAAAAAAAAC5AAAAAAACAMECamZmZmZkHQAAAAAAAACVAZmZmZmZm7j8=",
          "dtype": "f8"
         },
         "yaxis": "y"
        },
        {
         "hovertemplate": "Invoice Date=2011-04-28<br>Invoice Number=%{x}<br>Total Sales=%{y}<extra></extra>",
         "legendgroup": "2011-04-28",
         "marker": {
          "color": "#FF97FF",
          "symbol": "circle"
         },
         "mode": "markers",
         "name": "2011-04-28",
         "showlegend": true,
         "type": "scattergl",
         "x": {
          "bdata": "rWkIAK5pCACvaQgAsGkIALNpCAC1aQgAtmkIALdpCAC4aQgA12kIANhpCADZaQgA22kIAN5pCADfaQgA4GkIAOFpCADjaQgA5GkIAOVpCADnaQgA6GkIAOlpCAD0aQgA9WkIAPZpCAD3aQgA+GkIAPlpCAD6aQgA+2kIAPxpCAD9aQgAAGoIAAJqCAADaggABGoIAAxqCAANaggADmoIAA9qCAAQaggAFWoIACZqCAAtaggALmoIAC9qCABNaggAU2oIAFpqCAA=",
          "dtype": "i4"
         },
         "xaxis": "x",
         "y": {
          "bdata": "mpmZmZlZUEBmZmZmZmYkQAAAAAAAgElAAAAAAAAAPkBmZmZmZmYkQAAAAAAAAC5AAAAAAABAZEBcj8L1KNxGQDQzMzMzszFAmpmZmZmZLkCamZmZmdlUQAAAAAAAAB5AzczMzMzMP0DNzMzMzMwzQGZmZmZmZv4/MzMzMzOzLUAAAAAAACByQGZmZmZm5jNAZmZmZmbmLUA0MzMzM7MxQJqZmZmZ2TRAAAAAAACAMEDNzMzMzMwIQJqZmZmZmSdAmpmZmZnZZEAAAAAAAIA5QDMzMzMz80BAzczMzMzMN0DWo3A9CtcbQGZmZmZmZvo/AAAAAAAAeUAAAAAAAAA1QJqZmZmZ2TFAMzMzMzPzMEBmZmZmZmYkQOxRuB6F6zNANDMzMzMzOUBmZmZmZmYKQGZmZmZmZidAZmZmZmZmNEDNzMzMzMwzQJqZmZmZmRdAAAAAAACAOUDNzMzMzMwnQDMzMzMzM+s/AAAAAACAMEDNzMzMzMzkPwAAAAAAgFlAzczMzMzMM0DNzMzMzBxTQA==",
          "dtype": "f8"
         },
         "yaxis": "y"
        },
        {
         "hovertemplate": "Invoice Date=2011-05-01<br>Invoice Number=%{x}<br>Total Sales=%{y}<extra></extra>",
         "legendgroup": "2011-05-01",
         "marker": {
          "color": "#FECB52",
          "symbol": "circle"
         },
         "mode": "markers",
         "name": "2011-05-01",
         "showlegend": true,
         "type": "scattergl",
         "x": {
          "bdata": "W2oIAFxqCABdaggAXmoIAF9qCABgaggAY2oIAGRqCABlaggAZ2oIAGhqCABqaggAa2oIAGxqCABtaggAbmoIAG9qCAA=",
          "dtype": "i4"
         },
         "xaxis": "x",
         "y": {
          "bdata": "zMzMzMwMU0AAAAAAAAAlQDMzMzMzM/8/mpmZmZkZJ0AAAAAAAAAuQDQzMzMzsyFAzczMzMyMSkAAAAAAAIAwQJqZmZmZmS5AZmZmZmZmFEBmZmZmZuYjQM3MzMzMzABAMzMzMzMz/z/NzMzMzMwzQM3MzMzMzBdAAAAAAABAUEA0MzMzMzNWQA==",
          "dtype": "f8"
         },
         "yaxis": "y"
        },
        {
         "hovertemplate": "Invoice Date=2011-05-03<br>Invoice Number=%{x}<br>Total Sales=%{y}<extra></extra>",
         "legendgroup": "2011-05-03",
         "marker": {
          "color": "#636efa",
          "symbol": "circle"
         },
         "mode": "markers",
         "name": "2011-05-03",
         "showlegend": true,
         "type": "scattergl",
         "x": {
          "bdata": "dmoIAHdqCAB6aggAfGoIAH1qCAB+aggAg2oIAIRqCACGaggAh2oIAIhqCACJaggAimoIAItqCACMaggAjmoIAJhqCACgaggAq2oIAK9qCACzaggAwGoIAMFqCADCaggAx2oIAN9qCADiaggA42oIAOVqCADmaggA52oIAOpqCADsaggA7WoIAO5qCADxaggABmsIAAdrCAAIawgADWsIABBrCAARawgAEmsIABZrCAAhawgAImsIACNrCAAlawgAKGsIAClrCAAsawgA",
          "dtype": "i4"
         },
         "xaxis": "x",
         "y": {
          "bdata": "AAAAAAAAIUCamZmZmdkxQGZmZmZmZjdAmpmZmZlZMEAAAAAAAAAuQM3MzMzMzCNASOF6FK5HUUDNzMzMzMwvQAAAAAAAgClAFK5H4XoUQ0A+CtejcL1jQDQzMzMzszFA7FG4HoXrY0AzMzMzMzNpQDQzMzMzszFAAAAAAACIcUCamZmZmZk1QAAAAAAAgC1AAQAAAACAaUDhehSuR+EtQDQzMzMzs1RAzczMzMxMK0CamZmZmZl+QAAAAAAAkHJAZmZmZmZmJEBmZmZmZmYkQAAAAAAAAClAAAAAAAAAIUAAAAAAAOBQQGZmZmZm5jNAAAAAAAAAEUAzMzMzMzMPQAAAAAAAAC5AzczMzMzML0D2KFyPwvU4QClcj8L1KCRANDMzMzOzIUCamZmZmZkyQJqZmZmZ2UFAKVyPwvUoFEBmZmZmZmZUQAAAAADAzr9AAAAAAADAU0AAAAAAAIAwQAAAAAAAAC5AMzMzMzPzOUApXI/C9SgkQM3MzMzMzBNAZmZmZmZmN0AAAAAAAAAuQGZmZmZmZjdA",
          "dtype": "f8"
         },
         "yaxis": "y"
        },
        {
         "hovertemplate": "Invoice Date=2011-05-04<br>Invoice Number=%{x}<br>Total Sales=%{y}<extra></extra>",
         "legendgroup": "2011-05-04",
         "marker": {
          "color": "#EF553B",
          "symbol": "circle"
         },
         "mode": "markers",
         "name": "2011-05-04",
         "showlegend": true,
         "type": "scattergl",
         "x": {
          "bdata": "LWsIAC5rCAAvawgAMmsIADNrCAA1awgANmsIADtrCABDawgAXmsIAF9rCABgawgAb2sIAIFrCACCawgAg2sIAIRrCACFawgAhmsIAIdrCACIawgAiWsIAItrCACNawgAjmsIAI9rCACQawgAkWsIAJJrCACYawgAmWsIAJprCACbawgAnGsIAJ9rCACgawgAomsIAKNrCACkawgApWsIAKZrCACpawgAqmsIAKtrCACsawgArmsIAK9rCACwawgAsWsIALJrCACzawgAtGsIALZrCAC9awgAvmsIAMBrCAA=",
          "dtype": "i4"
         },
         "xaxis": "x",
         "y": {
          "bdata": "AAAAAAAgYkAzMzMzM/NGQOxRuB6F6zNA7FG4HoXrI0AK16NwPQorQGZmZmZmZiRAZmZmZmZmJECamZmZmZkHQGZmZmZmZkRAMzMzMzMz+z+amZmZmZk+QAAAAAAAAE5A9ihcj8L1GEAAAAAAAKBUQDQzMzMzMxlAAAAAAACASUA0MzMzM7MxQM3MzMzMzC9AMzMzMzMzL0CamZmZmZkuQAAAAAAAgDZAmpmZmZmZB0CamZmZmZk/QJqZmZmZ2T1AmpmZmZmZF0AAAAAAAKBEQAAAAAAAAC5AAAAAAAAAMUDNzMzMzMwQQLgehetRuCJAZmZmZmZmMUAAAAAAAAAuQGZmZmZmZjdAZmZmZmZmIUDNzMzMzMw0QDQzMzMzM0lAZmZmZmZmKkAAAAAAAAAuQGZmZmZm5iNAAAAAAAAA9D8AAAAAAABRQGZmZmZmZjRAZmZmZmZmN0AAAAAAAHSDQDQzMzMzszFAAAAAAAAAN0ApXI/C9SgUQGZmZmZmZjRAzczMzMzML0AAAAAAAIAgQDMzMzMzMylAzczMzMzMF0BmZmZmZsZqQM3MzMzMzAZAmpmZmZlZUEAAAAAAAAAuQA==",
          "dtype": "f8"
         },
         "yaxis": "y"
        },
        {
         "hovertemplate": "Invoice Date=2011-05-05<br>Invoice Number=%{x}<br>Total Sales=%{y}<extra></extra>",
         "legendgroup": "2011-05-05",
         "marker": {
          "color": "#00cc96",
          "symbol": "circle"
         },
         "mode": "markers",
         "name": "2011-05-05",
         "showlegend": true,
         "type": "scattergl",
         "x": {
          "bdata": "wmsIAMNrCADEawgAxWsIAMZrCADHawgAyGsIAMlrCADKawgAy2sIAMxrCADNawgA0GsIANFrCADSawgA02sIANVrCADWawgA12sIANhrCADZawgA3msIAONrCAAIbAgACWwIAApsCAAPbAgAEGwIABFsCAASbAgAE2wIABRsCAAVbAgAFmwIABdsCAAYbAgAGWwIABpsCAAbbAgAHmwIAB9sCAAobAgAKWwIACpsCAArbAgALGwIAC1sCAAubAgAL2wIADBsCAAybAgAM2wIADVsCAA2bAgAN2wIADhsCAA5bAgAOmwIADxsCAA+bAgARGwIAEVsCABHbAgASmwIAEtsCABSbAgAV2wIAFlsCABabAgAXGwIAGBsCABhbAgAYmwIAGRsCABlbAgA",
          "dtype": "i4"
         },
         "xaxis": "x",
         "y": {
          "bdata": "AAAAAACAaUABAAAAAPB5QDQzMzMzMzlAAAAAAABgZkA0MzMzM7MxQGZmZmZmZmRAzczMzMzML0A0MzMzM7NBQM3MzMzMzC9AAAAAAAAAPkD2KFyPwvUyQAAAAAAAgEBAAAAAAACASUA0MzMzMzMfQDQzMzMzs0FAKVyPwvUoJEAzMzMzMzMvQJqZmZmZWTBAZmZmZmZmJED2KFyPwvUyQM3MzMzMzCdAZmZmZmZmNECamZmZmdkxQAAAAAAAAD5AAAAAAAAALkDNzMzMzMxTQAAAAAAAAHtAAAAAAADgX0DNzMzMzMwvQAAAAAAA4ENAAAAAAACARkAAAAAAAAAbQJqZmZmZmS9AAAAAAAAALkAAAAAAAAAxQM3MzMzMzDNAAAAAAACAMEAAAAAAAMA4QGZmZmZmZiRACtejcD0KG0AK16NwPQo7QAAAAAAAAFJAAAAAAAAANUA0MzMzM7MxQGZmZmZmZiRAAAAAAADAQkCamZmZmZluQAAAAAAAAB5AzczMzMzMM0DNzMzMzMwjQGZmZmZmpjRAZmZmZmbmI0BmZmZmZmY0QAAAAAAAAFFAzczMzMzMH0AK16NwPQo7QM3MzMzMzBNANDMzMzOzMUBmZmZmZmYkQAAAAAAAACVAZmZmZmZmJECamZmZmZlOQM3MzMzMzDRAzczMzMzMI0BmZmZmZuYzQAAAAAAAgDlAAAAAAAAAKUDNzMzMzMwQQAAAAAAAAFtAAAAAAACAMECamZmZmZkwQDQzMzMzMz9AZmZmZmZmR0AAAAAAAAA+QAAAAAAAgEZA",
          "dtype": "f8"
         },
         "yaxis": "y"
        },
        {
         "hovertemplate": "Invoice Date=2011-05-06<br>Invoice Number=%{x}<br>Total Sales=%{y}<extra></extra>",
         "legendgroup": "2011-05-06",
         "marker": {
          "color": "#ab63fa",
          "symbol": "circle"
         },
         "mode": "markers",
         "name": "2011-05-06",
         "showlegend": true,
         "type": "scattergl",
         "x": {
          "bdata": "Z2wIAGlsCABqbAgAbGwIAG1sCABubAgAcGwIAHNsCAB1bAgAdmwIAHdsCAB4bAgAeWwIAHpsCAB7bAgAfGwIAH1sCAB+bAgAgGwIAIFsCACObAgAkGwIAKxsCAC5bAgAv2wIAMZsCADHbAgAy2wIANVsCADmbAgA52wIAOhsCADpbAgA6mwIAOtsCADsbAgA7mwIAPBsCADzbAgA9GwIAPVsCAD2bAgA92wIAPhsCAD5bAgA+mwIAP1sCAD/bAgAAG0IAAFtCAADbQgABG0IAAVtCAAGbQgAGW0IACdtCAApbQgAK20IACxtCAAubQgAL20IADBtCAAybQgAM20IADRtCAA1bQgANm0IADdtCAA4bQgAOW0IADptCAA7bQgA",
          "dtype": "i4"
         },
         "xaxis": "x",
         "y": {
          "bdata": "AAAAAAAALUAAAAAAAIAwQAAAAAAAgElASOF6FK5HUUCamZmZmdkxQAAAAAAAgDNAAQAAAAAgb0CamZmZmZnxPzQzMzMzszFAzczMzMzMNEAAAAAAAIBGQGdmZmZmRnZAzczMzMzML0DNzMzMzMwGQArXo3A9CgdAFa5H4XoUU0AzMzMzMzMpQAAAAAAAAC5AZmZmZmZmBEAAAAAAAAAOQAAAAAAAACFAMzMzMzOzXUBmZmZmZmYUQAAAAAAAAC5AzczMzMzMJEBmZmZmZmY6QOxRuB6F6zNAmpmZmZmZJ0BmZmZmZmY3QGZmZmZmZiRAAAAAAACAKUAAAAAAAAA+QAAAAAAAAD5ANDMzMzOzMUAzMzMzM7NtQAAAAAAAAIRAMzMzMzMzL0BmZmZmZqY0QM3MzMzMzC1AKVyPwvUoFEAAAAAAAICAQM3MzMzMzEdAAAAAAAAAKUAAAAAAAAAuQDMzMzMzMytANDMzMzOzMUApXI/C9SgkQDQzMzMzMx9AAAAAAAAAKUBmZmZmZmYqQAAAAAAAgDlAAAAAAAAA9D/Xo3A9Ctc7QGZmZmZmZu4/zczMzMzML0CamZmZmdk9QAAAAAAAgDBAAAAAAACAOUAAAAAAAOBQQGZmZmZmRl9AAAAAAADAOEAAAAAAAMA9QGZmZmZmZhRAMzMzMzPzMEBmZmZmZmb6P83MzMzMzBNA4XoUrkfh2j8zMzMzMzP7P5qZmZmZmQdAAAAAAAAA9D9mZmZmZmb6PwAAAAAAABFA",
          "dtype": "f8"
         },
         "yaxis": "y"
        },
        {
         "hovertemplate": "Invoice Date=2011-05-08<br>Invoice Number=%{x}<br>Total Sales=%{y}<extra></extra>",
         "legendgroup": "2011-05-08",
         "marker": {
          "color": "#FFA15A",
          "symbol": "circle"
         },
         "mode": "markers",
         "name": "2011-05-08",
         "showlegend": true,
         "type": "scattergl",
         "x": {
          "bdata": "PG0IAD1tCAA+bQgAP20IAEBtCABBbQgAQ20IAERtCABFbQgAR20IAEhtCABJbQgASm0IAEttCABMbQgATW0IAE5tCABPbQgAUG0IAFFtCABSbQgAU20IAFRtCABVbQgAVm0IAFdtCABYbQgAWW0IAFptCABbbQgAXG0IAF1tCABebQgAX20IAGBtCABhbQgAYm0IAGNtCABkbQgAZW0IAGZtCABnbQgAaG0IAGltCABqbQgAa20IAG5tCABvbQgAcG0IAHFtCABybQgAc20IAHRtCAB1bQgAdm0IAHdtCAB4bQgAeW0IAHptCAB8bQgAfm0IAA==",
          "dtype": "i4"
         },
         "xaxis": "x",
         "y": {
          "bdata": "ZmZmZmZmJEA0MzMzM7M9QAAAAAAAAD5A7FG4HoXrI0AAAAAAAAAuQAAAAAAAgD1AzczMzMxsRkCamZmZmdlHQGZmZmZmZjRAAAAAAAAAJEDNzMzMzMwwQAAAAAAAgDlAmpmZmZmZL0DNzMzMzMwfQM3MzMzMzC9AmpmZmZmZF0CamZmZmZkfQOxRuB6F6yNAFK5H4XoUY0AAAAAAAAAuQM3MzMzMzERAZmZmZmbmTUA0MzMzMzM5QAAAAAAAAPQ/ZmZmZmbmMUAAAAAAAABoQLgehetRuBJANDMzMzOzMUCamZmZmZkXQAAAAAAAAC5AAAAAAAAAM0AAAAAAAAAhQM3MzMzMzCRAAAAAAAAAJUAAAAAAAAAuQJqZmZmZmeE/AAAAAACAKUDNzMzMzMwvQGZmZmZmZjFAZmZmZmZmJ0AAAAAAAAAuQJqZmZmZmQdAAAAAAACAPUDNzMzMzMwjQAAAAAAAgDlAZmZmZmbmLUAAAAAAAAAjQM3MzMzMzDRAZmZmZmZmBEBmZmZmZmYxQAAAAAAAAC5AzczMzMzMK0AAAAAAAIAzQDMzMzMzMy9ASOF6FK5HNEA0MzMzM7MxQEjhehSuRzRAAAAAAACAMEDNzMzMzMwzQDMzMzMzsy1AzczMzMzMI0A=",
          "dtype": "f8"
         },
         "yaxis": "y"
        },
        {
         "hovertemplate": "Invoice Date=2011-05-09<br>Invoice Number=%{x}<br>Total Sales=%{y}<extra></extra>",
         "legendgroup": "2011-05-09",
         "marker": {
          "color": "#19d3f3",
          "symbol": "circle"
         },
         "mode": "markers",
         "name": "2011-05-09",
         "showlegend": true,
         "type": "scattergl",
         "x": {
          "bdata": "f20IAIBtCACBbQgAgm0IAINtCACEbQgAhm0IAIdtCACIbQgAim0IAIxtCACNbQgAkG0IAJRtCACVbQgAlm0IAKFtCAClbQgApm0IAKxtCACtbQgAs20IALRtCAC4bQgA1G0IANptCADibQgA+W0IAPptCAD8bQgA/W0IAP5tCAD/bQgAAG4IAAJuCAADbggABG4IAAVuCAAGbggACG4IAAluCAAMbggADW4IAA9uCAARbggAEm4IABNuCAAUbggAFW4IABhuCAAfbggAK24IACxuCABJbggAS24IAE5uCABQbggAUW4IAA==",
          "dtype": "i4"
         },
         "xaxis": "x",
         "y": {
          "bdata": "AAAAAAAALkBmZmZmZmYkQAAAAAAAAD5AAAAAAAAAMUAzMzMzM7MtQM3MzMzMzF9AAAAAAACAMECamZmZmZkwQAAAAAAAADVAAAAAAACAQECamZmZmZkuQM3MzMzMzERANDMzMzOzMUAAAAAAABB6QAAAAAAAgIlAzMzMzMxscECamZmZmZkuQAAAAAAAgDlAMzMzMzPzQEApXI/C9SgkQDQzMzMzsyFAZmZmZmZmFEAzMzMzMzMvQM3MzMzMzBNAuB6F61G4IkDNzMzMzMwjQIXrUbgehRdAAAAAAACAKUAAAAAAAIA5QAAAAAAAADFAAAAAAAAALkAAAAAAAIAgQAAAAAAAwEJAAAAAAAAADkAAAAAAAPBuQLgehetReElAAAAAAACAKUAAAAAAAIBNQGZmZmZmZnRAZmZmZmZmNEAAAAAAAIAwQAAAAAAAgDBAAAAAAACAPUDNzMzMzMwzQAAAAAAAACFAzczMzMzMM0AAAAAAAIA2QAAAAAAAACVAAAAAAAAAE0AAAAAAAIAwQAAAAAAAADFAmpmZmZmZLkDXo3A9CldUQDMzMzMzMylAAAAAAACgdEAAAAAAAAA+QAAAAAAAgCBAmpmZmZmZIkA=",
          "dtype": "f8"
         },
         "yaxis": "y"
        },
        {
         "hovertemplate": "Invoice Date=2011-05-10<br>Invoice Number=%{x}<br>Total Sales=%{y}<extra></extra>",
         "legendgroup": "2011-05-10",
         "marker": {
          "color": "#FF6692",
          "symbol": "circle"
         },
         "mode": "markers",
         "name": "2011-05-10",
         "showlegend": true,
         "type": "scattergl",
         "x": {
          "bdata": "Um4IAFNuCABUbggAVW4IAFhuCABZbggAWm4IAF5uCABgbggAYW4IAGNuCABkbggAZW4IAGZuCABnbggAam4IAGtuCABtbggAbm4IAG9uCABwbggAcW4IAHJuCABzbggAdW4IAHZuCAB3bggAe24IAHxuCAB9bggAfm4IAH9uCACAbggAgW4IAKZuCACwbggAvm4IAL9uCADAbggAwW4IAMJuCADDbggAxG4IAMVuCADGbggAx24IAMhuCADLbggAzG4IAM5uCADPbggA0W4IANJuCADVbggA2G4IAN1uCADybggA9G4IAPVuCAD2bggA+G4IAPluCAD7bggA/24IAARvCAA=",
          "dtype": "i4"
         },
         "xaxis": "x",
         "y": {
          "bdata": "AAAAAACAMEAAAAAAAIBJQAAAAAAAgC1AAAAAAAAgU0DNzMzMzMwvQJqZmZmZmQ9AZmZmZmbmLUBmZmZmZmY3QGZmZmZmZjRAzczMzMzMM0DsUbgehesjQM3MzMzMzC9Aj8L1KFzrdEAAAAAAAIBWQAAAAAAAAC5AZmZmZmZmJEAAAAAAAAAuQDQzMzMzszFAzczMzMzMNEApXI/C9SgUQAAAAAAAYGhAZmZmZmZGRkAAAAAAAOBQQM3MzMzMzDNAzczMzMyoc0AAAAAAAGB2QAAAAAAAAEFAAAAAAAAAIUAAAAAAAMBIQDMzMzMzMylAmpmZmZmZP0DNzMzMzMwnQM3MzMzMzDRAzczMzMzMNEBI4XoUrkdEQAAAAAAAACpAAAAAAAAALkAzMzMzMzMvQAAAAAAAAPQ/ZmZmZmZmMUA0MzMzM7MxQM3MzMzMzB9AZmZmZmbmb0AK16NwPQorQJqZmZmZmQdAAAAAAACAMEAAAAAAAGBoQJqZmZmZmT5AZmZmZmZm+j+kcD0K16MAQGZmZmZm5iNAAAAAAABATUAAAAAAAABBQAAAAAAA4GBAZmZmZmZmMUAAAAAAAAAEQM3MzMzMzC9AKVyPwvUoJEDsUbgeheszQAAAAAAAgDlAMzMzMzPzMEAAAAAAAAAuQNejcD0KV1RAZmZmZmZmFEAAAAAAAAAlQA==",
          "dtype": "f8"
         },
         "yaxis": "y"
        },
        {
         "hovertemplate": "Invoice Date=2011-05-11<br>Invoice Number=%{x}<br>Total Sales=%{y}<extra></extra>",
         "legendgroup": "2011-05-11",
         "marker": {
          "color": "#B6E880",
          "symbol": "circle"
         },
         "mode": "markers",
         "name": "2011-05-11",
         "showlegend": true,
         "type": "scattergl",
         "x": {
          "bdata": "Bm8IAAdvCAAIbwgACm8IAAtvCAAMbwgAEW8IABNvCAAUbwgAFW8IABZvCAAXbwgAGG8IABlvCAAabwgAHG8IAB5vCAAfbwgAPG8IAEFvCABCbwgAS28IAFJvCABVbwgAYm8IAGNvCABkbwgAZm8IAGtvCABtbwgAbm8IAG9vCABwbwgAcW8IAHJvCABzbwgAdG8IAHVvCAB2bwgAd28IAHhvCAB5bwgAe28IAHxvCAB9bwgAfm8IAH9vCACBbwgAg28IAIVvCACGbwgAh28IAIhvCACKbwgAi28IAI9vCACQbwgAkm8IAJRvCACVbwgAlm8IAJdvCACbbwgAnG8IAJ1vCACgbwgA",
          "dtype": "i4"
         },
         "xaxis": "x",
         "y": {
          "bdata": "4XoUrkfhPUAAAAAAAAApQGZmZmZmZipAmpmZmZmZPkAAAAAAAAA7QGZmZmZm5jhAAAAAAACAM0DNzMzMzMwzQM3MzMzMzCdAAAAAAACAM0AAAAAAAAAuQDMzMzMz8zBAAAAAAAAAbUDNzMzMzMwzQDQzMzMzszFAMzMzMzPzMEBmZmZmZmZaQAAAAAAAAFJAAAAAAAAALkCamZmZmZkXQAAAAAAAAC5ASOF6FK5HNEA0MzMzMzNWQDMzMzMzs21AAAAAAAAAHkAAAAAAAIA5QGZmZmZmZjFAAAAAAAAALkAAAAAAAAArQNejcD0KVzFAmpmZmZn5UUAzMzMzM/MwQMzMzMzMzBNAAAAAAAAALkAAAAAAAKBEQDQzMzMzM1ZAZmZmZmbmM0DNzMzMzMwfQGZmZmZmZjdAZmZmZmZmJ0CamZmZmZk3QM3MzMzMzDRANDMzMzOzMUDNzMzMzMwzQAAAAAAAABhAAAAAAACAQ0AzMzMzM7MtQAAAAAAAHI1ANDMzMzOzMUBmZmZmZmY3QDQzMzMzszFAzczMzMzML0DNzMzMzMwgQAAAAAAAgCBAzczMzMzME0AAAAAAAAAeQDQzMzMzsyFANDMzMzOzIUAAAAAAAIApQDMzMzMzMwtAzczMzMzMNEDsUbgehetZQM3MzMzMzDBAAAAAAACAIEAAAAAAAIApQDMzMzMzMylA",
          "dtype": "f8"
         },
         "yaxis": "y"
        },
        {
         "hovertemplate": "Invoice Date=2011-05-12<br>Invoice Number=%{x}<br>Total Sales=%{y}<extra></extra>",
         "legendgroup": "2011-05-12",
         "marker": {
          "color": "#FF97FF",
          "symbol": "circle"
         },
         "mode": "markers",
         "name": "2011-05-12",
         "showlegend": true,
         "type": "scattergl",
         "x": {
          "bdata": "o28IAKRvCAClbwgApm8IAKhvCACpbwgArW8IAK9vCACwbwgAsW8IALZvCAC3bwgAuG8IALpvCAC7bwgAvW8IAL5vCADIbwgAyW8IAPFvCADzbwgA9G8IAPVvCAD2bwgA928IAPhvCAD5bwgA+m8IAPtvCAD+bwgA/28IAABwCAABcAgAAnAIAANwCAAEcAgABXAIAAZwCAAHcAgACHAIAAlwCAAKcAgAC3AIAAxwCAANcAgADnAIAA9wCAARcAgAHHAIAB5wCAAocAgAKXAIACpwCAArcAgALHAIAC1wCAAucAgAL3AIADBwCAAxcAgAM3AIADRwCAA2cAgAN3AIADhwCAA9cAgAPnAIAEpwCABLcAgA",
          "dtype": "i4"
         },
         "xaxis": "x",
         "y": {
          "bdata": "AAAAAAAAYUApXI/C9SgUQAAAAAAAAC5AAAAAAAAALkA0MzMzMzM5QAAAAAAAgDNAzczMzMzMNEAzMzMzMzMvQDQzMzMzszFAzczMzMzMM0CamZmZmZkvQGZmZmZmZjRAAAAAAAAAUUAAAAAAAIAwQAAAAAAAQHVAAAAAAAAAUUBmZmZmZmYaQAAAAAAAZJJAzczMzMzML0BmZmZmZmZUQM3MzMzMzCdAzczMzMzMM0AAAAAAAAAEQGZmZmZmZiRAZmZmZmZmCkD2KFyPwvUoQDMzMzMzsy1AZmZmZmZmVEAAAAAAAOBQQGZmZmZm5j1AAAAAAACgZEAzMzMzM7MtQJqZmZmZmS9AzczMzMzML0AAAAAAAIAwQPYoXI/C9ThAzczMzMzMM0AAAAAAAIAzQGZmZmZmZiRAAAAAAACAMEAAAAAAAIAwQJqZmZmZ2XdA9ihcj8L1OEAzMzMzMzMvQOxRuB6F6yNAAAAAAACAMEA0MzMzMzMfQAAAAAAAAC5AZmZmZmbmZUAAAAAAAAA+QAAAAAAAgDNAzczMzMzMM0AAAAAAAAAOQM3MzMzMzPQ/mpmZmZmZD0DNzMzMzMw3QM3MzMzMzDNAMzMzMzMzL0BmZmZmZuYzQJqZmZmZmRdAzczMzMzMP0BmZmZmZmY0QJqZmZmZmRBAZmZmZmZm+j8AAAAAAAAeQAEAAAAAIG9AZmZmZmbmTUAAAAAAAMA9QAAAAAAAACFA",
          "dtype": "f8"
         },
         "yaxis": "y"
        },
        {
         "hovertemplate": "Invoice Date=2011-05-13<br>Invoice Number=%{x}<br>Total Sales=%{y}<extra></extra>",
         "legendgroup": "2011-05-13",
         "marker": {
          "color": "#FECB52",
          "symbol": "circle"
         },
         "mode": "markers",
         "name": "2011-05-13",
         "showlegend": true,
         "type": "scattergl",
         "x": {
          "bdata": "THAIAE9wCABQcAgAUnAIAFNwCABWcAgAV3AIAFhwCABZcAgAWnAIAFtwCABccAgAXXAIAF5wCABfcAgAYHAIAGFwCABicAgAY3AIAGRwCABlcAgAZnAIAGdwCABocAgAa3AIAHJwCACAcAgAhXAIAIdwCACLcAgAjnAIAKBwCAClcAgAqXAIAKpwCACrcAgArnAIALRwCAC1cAgAtnAIALhwCAC5cAgAunAIAL1wCAC/cAgAwHAIAMFwCADCcAgAw3AIAMRwCADGcAgAx3AIAMhwCADMcAgAzXAIAM5wCADQcAgA0XAIANJwCADUcAgA1XAIAA==",
          "dtype": "i4"
         },
         "xaxis": "x",
         "y": {
          "bdata": "AAAAAACARkAAAAAAAIBZQAAAAAAA4FBAZmZmZmZmNEAAAAAAAHCHQM3MzMzMzC9AzczMzMzMM0AAAAAAAAAuQAAAAAAAgDBAAAAAAACAMEAAAAAAAIAzQGZmZmZm5k1AmpmZmZnZQUDNzMzMzMwTQDQzMzMzszFAMzMzMzPzMEDNzMzMzMwvQGZmZmZmZgRAcT0K16NwWUCamZmZmdlBQM3MzMzMzBpAAAAAAABAWkCamZmZmZkyQAAAAAAAgDNAZmZmZmbmQ0CamZmZmZkHQAAAAAAAgCZAAAAAAADgUEDNzMzMzMwzQAAAAAAA4F9AzczMzMyog0AAAAAAAOBQQAAAAAAAgDBAzczMzMzMM0DNzMzMzMwvQAAAAAAAAFJANDMzMzOzQUBmZmZmZmYOQDMzMzMzMw9AzczMzMzMEEDNzMzMzMwzQDQzMzMz81NAAAAAAACAMEAzMzMzM3NYQM3MzMzMzENA7FG4HoXrI0BmZmZmZmYxQGZmZmZm5mVAAAAAAAAAQUAzMzMzMzPrPwAAAAAAAC5AZmZmZmZmMUDNzMzMzMwzQAAAAAAAAPQ/AAAAAAAAHkA0MzMzM7MxQGZmZmZmZidAAAAAAACAM0A0MzMzMzNJQAAAAAAAgEBAZmZmZmbmI0A=",
          "dtype": "f8"
         },
         "yaxis": "y"
        },
        {
         "hovertemplate": "Invoice Date=2011-05-15<br>Invoice Number=%{x}<br>Total Sales=%{y}<extra></extra>",
         "legendgroup": "2011-05-15",
         "marker": {
          "color": "#636efa",
          "symbol": "circle"
         },
         "mode": "markers",
         "name": "2011-05-15",
         "showlegend": true,
         "type": "scattergl",
         "x": {
          "bdata": "1nAIANhwCADZcAgA2nAIANtwCADccAgA3XAIAN5wCADfcAgA4HAIAOFwCADicAgA43AIAORwCADlcAgA5nAIAOdwCADocAgA6XAIAOpwCADscAgA7XAIAO5wCADvcAgA8HAIAPFwCADycAgA9HAIAA==",
          "dtype": "i4"
         },
         "xaxis": "x",
         "y": {
          "bdata": "mpmZmZmZF0AAAAAAAAA+QM3MzMzMjEpAZmZmZmZmJEAAAAAAAAA0QAAAAAAAAC5AZmZmZmZmYUAAAAAAAAD0PzQzMzMzszFAMzMzMzPzMEAAAAAAAIAzQAAAAAAAAC5AAAAAAAAABEAAAAAAAAAlQGZmZmZmZvo/ZmZmZmZmCkDrUbgehStQQJqZmZmZmV5AAAAAAAAALkAAAAAAAIAwQM3MzMzMzBdAzczMzMzMAEAAAAAAAAAOQM3MzMzMzCBAAAAAAABANEBmZmZmZmYaQAAAAAAAACVAzczMzMzM5D8=",
          "dtype": "f8"
         },
         "yaxis": "y"
        },
        {
         "hovertemplate": "Invoice Date=2011-05-16<br>Invoice Number=%{x}<br>Total Sales=%{y}<extra></extra>",
         "legendgroup": "2011-05-16",
         "marker": {
          "color": "#EF553B",
          "symbol": "circle"
         },
         "mode": "markers",
         "name": "2011-05-16",
         "showlegend": true,
         "type": "scattergl",
         "x": {
          "bdata": "9XAIAPdwCAD5cAgA+3AIAPxwCAD9cAgA/nAIAP9wCAAAcQgAAXEIAAJxCAADcQgABHEIAAVxCAAHcQgACHEIAAlxCAAKcQgAC3EIAAxxCAANcQgAE3EIABdxCABjcQgAZXEIAGdxCAB7cQgAfHEIAH1xCAB+cQgAf3EIAIBxCACBcQgAgnEIAINxCACGcQgAh3EIAIhxCACMcQgAk3EIAJhxCACZcQgAm3EIAJ5xCAChcQgAo3EIAKRxCAClcQgApnEIAKdxCACocQgAqXEIAKpxCACscQgArnEIALBxCAC6cQgA",
          "dtype": "i4"
         },
         "xaxis": "x",
         "y": {
          "bdata": "ZmZmZmZmUUDNzMzMzMwkQEjhehSuR0RAAAAAAAAAPkDsUbgehesjQOxRuB6F6zNAzczMzMzMU0A0MzMzMzNPQJqZmZmZmWBAAAAAAAAgc0A0MzMzM7NNQAAAAAAAgDZANDMzMzOzQUDNzMzMzMwmQM3MzMzMzDNAZmZmZmZmGkCamZmZmRlKQJqZmZmZ2UdAAAAAAACANkAAAAAAAIAwQM3MzMzMzDRA4XoUrkfhGkDWo3A9CtcrQAAAAAAA4FBAuB6F61G4QkAAAAAAAIBAQGZmZmZmZmFAAAAAAADgUEBmZmZmZuYzQGZmZmZmZiRASOF6FK5HNEDNzMzMzKxSQAAAAAAAgDlAmpmZmZmZP0AzMzMzM7MtQGZmZmZmZlRAzczMzMzMIEAAAAAAAAA0QM3MzMzMzDRAzczMzMzMNEAAAAAAAKCMQAAAAAAAAD5AAAAAAAAATkAAAAAAAIAwQAAAAAAAgDBANDMzMzMzVkAAAAAAAGBoQClcj8L1KBRAmpmZmZmZQEA0MzMzMzM5QM3MzMzMzBVAzczMzMzMAEDNzMzMzMwzQAAAAAAAAARAAAAAAAAABEDhehSuR+EkQGZmZmZmZgpA",
          "dtype": "f8"
         },
         "yaxis": "y"
        },
        {
         "hovertemplate": "Invoice Date=2011-05-17<br>Invoice Number=%{x}<br>Total Sales=%{y}<extra></extra>",
         "legendgroup": "2011-05-17",
         "marker": {
          "color": "#00cc96",
          "symbol": "circle"
         },
         "mode": "markers",
         "name": "2011-05-17",
         "showlegend": true,
         "type": "scattergl",
         "x": {
          "bdata": "u3EIALxxCAC9cQgAvnEIAMBxCADCcQgAxHEIAMhxCADJcQgAynEIAMtxCADMcQgAzXEIAM5xCADPcQgA03EIAPVxCAD2cQgA93EIAPhxCAD5cQgA+nEIAPtxCAD8cQgA/XEIAP5xCAD/cQgAAHIIAAFyCAACcggAA3IIAARyCAAFcggADHIIAA1yCAAPcggAEHIIABFyCAAScggAE3IIABhyCAAZcggAGnIIABtyCAAccggAHXIIAB9yCAAgcggAIXIIACJyCAAjcggAJXIIACtyCAAwcggAMnIIADRyCAA1cggANnIIADdyCABBcggAQnIIAERyCABOcggAT3IIAFByCABRcggAVHIIAA==",
          "dtype": "i4"
         },
         "xaxis": "x",
         "y": {
          "bdata": "mpmZmZnZR0BmZmZmZuYxQDQzMzMzszFAAAAAAABgU0AAAAAAAAAuQGZmZmZmZjFAZmZmZmZmJEAAAAAAAIBZQJqZmZmZmT5AAAAAAAAALkDNzMzMzMwnQJqZmZmZWTBAzczMzMzMM0AAAAAAAEBgQAAAAAAAgElAFK5H4XoULEAAAAAAAAAqQOxRuB6F6zNAmpmZmZnZQUBmZmZmZmYxQAAAAAAAAF1AMzMzMzMzcEAAAAAAAOBjQMzMzMzMzHNAAAAAAADAZUBSuB6F61F/QMP1KFyPQndAZmZmZmbmU0A9CtejcD1VQEjhehSuR3FA4XoUrkfhXUCamZmZmdlUQM3MzMzMzDRAAAAAAADwXkAAAAAAAIA9QM3MzMzMzBdApHA9CtejAEA0MzMzM7MxQAAAAAAAgDBANDMzMzOzMUDNzMzMzMwvQAAAAAAAABRAAAAAAAAAJ0DNzMzMzMwwQAAAAAAAgENAzczMzMzMI0AzMzMzMzPrP2ZmZmZm5jNAZmZmZmbmMUCamZmZmZk3QM3MzMzMzCdAAAAAAACAIEDNzMzMzMw0QDMzMzMzM/8/AAAAAACAI0CamZmZmZkfQDMzMzMzsydAZmZmZmZmCkCamZmZmdk9QClcj8L1KBRA9ihcj8L1KEDsUbgehes5QAAAAAAAkIpAAAAAAAAAWUDNzMzMzMwYQPYoXI/C9ThAZmZmZmZm7j8=",
          "dtype": "f8"
         },
         "yaxis": "y"
        },
        {
         "hovertemplate": "Invoice Date=2011-05-18<br>Invoice Number=%{x}<br>Total Sales=%{y}<extra></extra>",
         "legendgroup": "2011-05-18",
         "marker": {
          "color": "#ab63fa",
          "symbol": "circle"
         },
         "mode": "markers",
         "name": "2011-05-18",
         "showlegend": true,
         "type": "scattergl",
         "x": {
          "bdata": "XXIIAF9yCABicggAY3IIAGRyCABlcggAZnIIAGdyCABocggAanIIAGtyCABxcggAh3IIAIxyCACOcggAmXIIAKZyCACycggAtXIIALZyCAC3cggAuXIIALpyCAC8cggAvXIIAL5yCAC/cggAwHIIAMRyCADGcggAx3IIAMhyCADJcggAy3IIAMxyCADNcggAznIIAM9yCADQcggA0XIIANNyCADUcggA1XIIANlyCADacggA23IIAOVyCADmcggA53IIAOpyCADrcggA7HIIAO1yCADucggA73IIAPByCADxcggA8nIIAPhyCAD5cggA+nIIAPxyCAD9cggA/nIIAP9yCAA=",
          "dtype": "i4"
         },
         "xaxis": "x",
         "y": {
          "bdata": "AAAAAAAALkDMzMzMzGxAQM3MzMzMzEBAAAAAAACAMEDNzMzMzMw0QAAAAAAAAPQ/KVyPwvUoJEAAAAAAAAAuQJqZmZmZmS5AzczMzMzMM0DNzMzMzMwzQAAAAAAAACVAAAAAAAAgYkAAAAAAAMBSQAAAAAAAwGVAAAAAAABQeUBmZmZmZuYtQOF6FK5H4SpAAAAAAACAKUAVrkfhehRTQM3MzMzMzDNAZmZmZmZmBEA0MzMzM7MxQAAAAAAAAC5AMzMzMzNzWEAAAAAAAIA2QEjhehSuRzlAzczMzMzMF0DNzMzMzMwzQAEAAAAA8GlAZmZmZmZm7j9mZmZmZuYzQAAAAAAAAC5AzczMzMzMGEAAAAAAAABhQAAAAAAAAE5AAAAAAACAM0CamZmZmZk+QM3MzMzMzBtA7FG4HoXrM0BnZmZmZuZSQBWuR+F6FFNAAAAAAACAOUCamZmZmdldQAAAAAAAAFtAFK5H4XoUQ0AVrkfhehRTQGZmZmZmZgpAmpmZmZnZMUDXo3A9CldUQGZmZmZmZlFAAAAAAACAQEA0MzMzM7MxQGZmZmZmZiRANDMzMzOzR0AAAAAAAABJQAAAAAAAMHFAMzMzMzPzM0DNzMzMzMwvQAAAAAAAAC5AZmZmZmZmJEA0MzMzM7MxQM3MzMzMzC9AKVyPwvUoJEBmZmZmZuY1QA==",
          "dtype": "f8"
         },
         "yaxis": "y"
        },
        {
         "hovertemplate": "Invoice Date=2011-05-19<br>Invoice Number=%{x}<br>Total Sales=%{y}<extra></extra>",
         "legendgroup": "2011-05-19",
         "marker": {
          "color": "#FFA15A",
          "symbol": "circle"
         },
         "mode": "markers",
         "name": "2011-05-19",
         "showlegend": true,
         "type": "scattergl",
         "x": {
          "bdata": "AnMIAAVzCAAGcwgAB3MIAAhzCAAJcwgACnMIAAtzCAAMcwgADnMIABNzCAAVcwgAFnMIABdzCAAYcwgAGXMIABpzCAAbcwgAInMIACVzCAA1cwgAZHMIAGVzCABmcwgAaHMIAGlzCABqcwgAa3MIAGxzCABtcwgAb3MIAHRzCAB1cwgAdnMIAHdzCAB4cwgAenMIAHxzCAB9cwgAf3MIAIBzCACDcwgAhHMIAIVzCACHcwgAiHMIAItzCACMcwgAjXMIAI5zCACPcwgAkHMIAJFzCACScwgAlHMIAJZzCACXcwgAmXMIAJpzCACbcwgAnnMIAJ9zCACgcwgAoXMIAKNzCACkcwgApXMIAKZzCACncwgAqHMIAKpzCACrcwgArnMIALNzCAC0cwgAtXMIALdzCAC4cwgAuXMIALtzCAA=",
          "dtype": "i4"
         },
         "xaxis": "x",
         "y": {
          "bdata": "mpmZmZmZTkA0MzMzM7MxQAAAAAAAAC5AAAAAAACAM0AAAAAAAABOQAAAAAAAYEtAmpmZmZmZLkDhehSuR+EtQM3MzMzMzC9AmpmZmZkZNEBmZmZmZuY4QJqZmZmZmS5AZmZmZmZmNEDNzMzMzMwzQI/C9Shcj/o/mpmZmZlZUEAAAAAAAAApQDMzMzMz83ZAZmZmZmbmM0CamZmZmZkuQM3MzMzMzD9AAAAAAAAALkDNzMzMzMwzQEjhehSuRylANDMzMzOzMUAzMzMzMzP3P2ZmZmZm5jhAzczMzMxsSUCamZmZmZk+QPYoXI/C9ThANDMzMzOzPUBmZmZmZmYxQAAAAAAAAClAAAAAAABwVECamZmZmZkwQGZmZmZmZidA16NwPQpXMUCamZmZmZkuQJqZmZmZ2TFAAAAAAACAYEAAAAAAAAD0Px+F61G4HhdASOF6FK5HJECamZmZmVkwQAAAAAAAgCBAAAAAAACANkAAAAAAAABrQDMzMzMzs2dAAAAAAAAAOUBmZmZmZmb+PwAAAAAAAB5AMzMzMzOzLUBmZmZmZmYkQAAAAAAAgDBAMzMzMzOzLUAAAAAAAAA7QAAAAAAAAC5AcT0K16NwSUAAAAAAACBcQDMzMzMzM1lAmpmZmZmZQEA0MzMzM7MxQGZmZmZmZipAzczMzMzMM0A0MzMzM7MxQM3MzMzMzENAzczMzMzMM0BmZmZmZmYnQAAAAAAAAC5A7FG4HoXrI0A0MzMzM7NhQGZmZmZm5mVANDMzMzOzMUAAAAAAAAA+QAAAAAAAgEBANDMzMzOzMUDNzMzMzMwGQAAAAAAAAC5AMzMzMzPzMEDNzMzMzMw0QA==",
          "dtype": "f8"
         },
         "yaxis": "y"
        },
        {
         "hovertemplate": "Invoice Date=2011-05-20<br>Invoice Number=%{x}<br>Total Sales=%{y}<extra></extra>",
         "legendgroup": "2011-05-20",
         "marker": {
          "color": "#19d3f3",
          "symbol": "circle"
         },
         "mode": "markers",
         "name": "2011-05-20",
         "showlegend": true,
         "type": "scattergl",
         "x": {
          "bdata": "vHMIAL1zCAC+cwgAv3MIAMBzCADBcwgAwnMIAMNzCADFcwgAxnMIAMdzCADIcwgAyXMIAMpzCADMcwgAzXMIAM5zCADPcwgA0HMIANFzCADScwgA1HMIANVzCADWcwgA2nMIAOBzCAD6cwgA+3MIAAx0CAAQdAgAE3QIABd0CAAYdAgAGXQIAB10CAAedAgAH3QIACB0CAAidAgAI3QIACp0CAArdAgALHQIAC50CAAvdAgAMHQIADF0CAAydAgAM3QIADR0CAA3dAgAOHQIADl0CAA6dAgAO3QIAEJ0CABDdAgARHQIAEV0CABHdAgASXQIAEp0CABLdAgATHQIAE10CAA=",
          "dtype": "i4"
         },
         "xaxis": "x",
         "y": {
          "bdata": "CtejcD0KK0AAAAAAAIBJQArXo3A9CjtAZmZmZmZmMUCamZmZmdlRQAAAAAAAAElAAAAAAAAAJUA0MzMzM7MxQOF6FK5H4TFAAAAAAAAAMUDsUbgehet5QJqZmZmZGVpAmpmZmZkZWkAAAAAAAIAwQJqZmZmZmS5AMzMzMzMzKUDNzMzMzMw0QGZmZmZmZlRAzczMzMzML0AAAAAAAAAxQAAAAAAAAC5AzczMzMzMNEDNzMzMzMwzQGZmZmZmZiRAAAAAAAAAO0BmZmZmZuZNQAAAAAAAYGZAzczMzMzsZEDNzMzMzMwzQClcj8L1KBRAZmZmZmbmZUAAAAAAAIAgQGZmZmZm5jNAZmZmZmZmJEAAAAAAAAAuQAAAAAAAACFAMzMzMzOzLUA0MzMzM7MhQAAAAAAAACFANDMzMzMzH0BmZmZmZuZlQDQzMzMzszFANDMzMzOzTUBmZmZmZuYzQAAAAAAAAC5AmpmZmZlZYEA0MzMzMzM5QGZmZmZmZlFAAAAAAAAAJECamZmZmdlBQArXo3A9CitAzczMzMzMM0AAAAAAAAAuQGZmZmZm5jNAAAAAAAAAKUAVrkfhehRTQDMzMzMzs11AZmZmZmZmDkDNzMzMzMxEQAAAAAAAgDBAzczMzMzMAEAAAAAAAIA5QM3MzMzMzDRAAAAAAADAd0AAAAAAAAAxQA==",
          "dtype": "f8"
         },
         "yaxis": "y"
        },
        {
         "hovertemplate": "Invoice Date=2011-05-22<br>Invoice Number=%{x}<br>Total Sales=%{y}<extra></extra>",
         "legendgroup": "2011-05-22",
         "marker": {
          "color": "#FF6692",
          "symbol": "circle"
         },
         "mode": "markers",
         "name": "2011-05-22",
         "showlegend": true,
         "type": "scattergl",
         "x": {
          "bdata": "TnQIAE90CABQdAgAUXQIAFJ0CABTdAgAVHQIAFV0CABWdAgAV3QIAFh0CABZdAgAWnQIAFt0CABcdAgAXXQIAF50CABfdAgAYHQIAGF0CABidAgAY3QIAGR0CABldAgAZnQIAGd0CABodAgAaXQIAGp0CABrdAgAbHQIAG10CABudAgAb3QIAHB0CABydAgAc3QIAHV0CAB2dAgAd3QIAHl0CAB7dAgAfHQIAH50CAB/dAgAgHQIAIF0CACCdAgAg3QIAIR0CACFdAgAhnQIAId0CACIdAgAiXQIAIp0CACLdAgA",
          "dtype": "i4"
         },
         "xaxis": "x",
         "y": {
          "bdata": "ZmZmZmbmPUAAAAAAAMByQDMzMzMz81ZANDMzMzMzOUDNzMzMzMwzQAAAAAAAgDNAAAAAAAAALkAAAAAAAAAuQM3MzMzMzDdAAQAAAADwaUDMzMzMzOxRQDMzMzMz8zBAAAAAAAAAJ0BmZmZmZmYxQAAAAAAAAC5AmpmZmZmZLkBI4XoUrkdEQAAAAAAAACFA9ihcj8L1GECamZmZmZlOQNejcD0K1xdAAAAAAAAAHkAzMzMzM7MtQM3MzMzMzDRAAAAAAACAMEDiehSuR+EaQAAAAAAAAERAAAAAAACAMECkcD0K16MQQDMzMzMzMylAAAAAAACAMEAAAAAAAAAuQDMzMzMzM/s/zczMzMzMNEA9CtejcD0uQAAAAAAAACFAmpmZmZmZL0DNzMzMzMwzQAAAAAAAgCNAzMzMzMzME0DNzMzMzMwTQAAAAAAAwFhANDMzMzOzQUBmZmZmZuYzQDQzMzMzsz1AmpmZmZmZF0ApXI/C9SgUQGZmZmZm5i1ANDMzMzOzMUDNzMzMzMwlQGZmZmZmZlRAmpmZmZmZLkAAAAAAAABBQAAAAAAAgDZAmpmZmZnZMUAAAAAAAIAzQAAAAAAAAC5A",
          "dtype": "f8"
         },
         "yaxis": "y"
        },
        {
         "hovertemplate": "Invoice Date=2011-05-23<br>Invoice Number=%{x}<br>Total Sales=%{y}<extra></extra>",
         "legendgroup": "2011-05-23",
         "marker": {
          "color": "#B6E880",
          "symbol": "circle"
         },
         "mode": "markers",
         "name": "2011-05-23",
         "showlegend": true,
         "type": "scattergl",
         "x": {
          "bdata": "jHQIAI10CACRdAgAknQIAJN0CACXdAgAmnQIAJ10CACedAgAonQIAKd0CACsdAgArXQIAK50CACwdAgAsnQIALN0CAC0dAgAxXQIANp0CADfdAgAFXUIABZ1CAAYdQgAHHUIAB11CAAedQgAH3UIACB1CAAidQgAI3UIACV1CAAmdQgAJ3UIACh1CAApdQgAKnUIACt1CAAsdQgALnUIADF1CABCdQgAQ3UIAEV1CABLdQgAUnUIAFN1CABWdQgAWXUIAGF1CAA=",
          "dtype": "i4"
         },
         "xaxis": "x",
         "y": {
          "bdata": "zczMzMzMM0AAAAAAAAAuQDQzMzMzs0FAAAAAAACAaUA0MzMzM7MxQGZmZmZm5jNANDMzMzOzQUAzMzMzMzMvQAAAAAAA4FBAZmZmZmbmM0AAAAAAAAAuQGZmZmZmZlFAzMzMzMzME0ApXI/C9SgEQDMzMzMzMxdAAAAAAADASEBmZmZmZuYtQAAAAAAAgDZAAAAAAAAALkBmZmZmZmYEQDMzMzMzM/8/AAAAAADAOEBmZmZmZmZ0QAAAAAAAAC5AZmZmZmZmBEAAAAAAAAAuQAAAAAAAABNAKVyPwvUoJEDNzMzMzCSAQM3MzMzMzCNAzczMzMzMH0DNzMzMzMxfQAAAAAAAAPQ/AQAAAADweUAAAAAAAABJQAAAAAAAQDFAAAAAAABgZkDNzMzMzMwzQEjhehSuRylAzczMzMzMP0AAAAAAAABOQAAAAAAAgDBAAAAAAACAM0AAAAAAAIBWQEjhehSuR0RAZmZmZmZmJEAAAAAAAAAuQDMzMzMzsydANDMzMzOzMUCamZmZmZkgQA==",
          "dtype": "f8"
         },
         "yaxis": "y"
        },
        {
         "hovertemplate": "Invoice Date=2011-05-24<br>Invoice Number=%{x}<br>Total Sales=%{y}<extra></extra>",
         "legendgroup": "2011-05-24",
         "marker": {
          "color": "#FF97FF",
          "symbol": "circle"
         },
         "mode": "markers",
         "name": "2011-05-24",
         "showlegend": true,
         "type": "scattergl",
         "x": {
          "bdata": "a3UIAGx1CABtdQgAbnUIAG91CABxdQgAcnUIAHN1CAB1dQgAdnUIAHd1CAB6dQgAfHUIAH11CAB+dQgAf3UIAIB1CACBdQgAgnUIAIN1CACEdQgAh3UIAIh1CACLdQgAjHUIAI11CACOdQgAmHUIAK91CAC1dQgAuHUIAMl1CADhdQgA83UIAPR1CAD1dQgA93UIAPl1CAD6dQgA+3UIAPx1CAD+dQgA/3UIAAB2CAABdggAAnYIAAZ2CAAHdggACHYIAAl2CAAKdggAC3YIAAx2CAANdggADnYIABF2CAATdggAGHYIABx2CAAmdggA",
          "dtype": "i4"
         },
         "xaxis": "x",
         "y": {
          "bdata": "AAAAAACAQEAAAAAAAKBkQM3MzMzMzDNAMzMzMzOzLUAAAAAAAIBZQGdmZmZm5mJAAAAAAACAMEAAAAAAAAAxQD4K16NwFXZAAAAAAADkm0BmZmZmZmYqQJqZmZmZmeE/AAAAAADAZUA0MzMzMzM5QFK4HoXr8ZtAAAAAAAAALkBmZmZmZmY3QOxRuB6F6yNAzczMzMzMM0A0MzMzM7MxQGZmZmZmZjFAAAAAAAAALkAzMzMzMzP/PwAAAAAAQFRAZmZmZmbmM0AzMzMzM/NAQGZmZmZm5ihAZmZmZmZmJEAAAAAAAAAxQGZmZmZmZiRAAAAAAAAAIUAzMzMzMzMvQAAAAAAAACFANDMzMzOzQUAK16NwPQorQAAAAAAAAB5A4XoUrkfh2j/NzMzMzMwvQAAAAAAAAClAAAAAAAAAEUCamZmZmZkXQJqZmZmZmRdAAAAAAAAADkABAAAAAPBpQClcj8L1KBRAKVyPwvUoFEDNzMzMzMwwQJqZmZmZ2WFAzczMzMzML0BI4XoUrkc0QClcj8L1KCRAKVyPwvUoJEA0MzMzM7NNQKRwPQrXowBAAAAAAAAgY0BmZmZmZmZHQM3MzMzMzDBAzczMzMzM+D9mZmZmZmYxQAAAAAAAAElA",
          "dtype": "f8"
         },
         "yaxis": "y"
        },
        {
         "hovertemplate": "Invoice Date=2011-05-25<br>Invoice Number=%{x}<br>Total Sales=%{y}<extra></extra>",
         "legendgroup": "2011-05-25",
         "marker": {
          "color": "#FECB52",
          "symbol": "circle"
         },
         "mode": "markers",
         "name": "2011-05-25",
         "showlegend": true,
         "type": "scattergl",
         "x": {
          "bdata": "LnYIAC92CAAxdggAM3YIADV2CAA4dggAOnYIADx2CAA9dggAQHYIAEF2CABKdggAU3YIAGV2CABmdggAa3YIAHl2CACEdggAhXYIAIZ2CACHdggAiHYIAIl2CACLdggAjHYIAI12CACOdggAj3YIAJB2CACRdggAk3YIAJR2CACVdggAlnYIAJd2CACZdggAn3YIAKB2CACidggAp3YIAKh2CACpdggAqnYIAKt2CACsdggArXYIAK52CACvdggAsHYIALJ2CAC6dggAvHYIAMd2CADJdggA",
          "dtype": "i4"
         },
         "xaxis": "x",
         "y": {
          "bdata": "zczMzMzMNEAAAAAAAAA0QAAAAAAAACVAAAAAAAAALkBmZmZmZuYzQAAAAAAAYHZAZmZmZmZmUUAAAAAAAAAuQAAAAAAAAC5ANDMzMzOzMUAAAAAAAAAqQAAAAAAAwDJAZmZmZmbmTUDsUbgeheszQAAAAAAAAB5AAAAAAAAAIUAAAAAAAAApQM3MzMzMzDRAMzMzMzMzKUDNzMzMzMz0P83MzMzMzCNAZmZmZmZmNEBI4XoUrkcxQM3MzMzMzDNAZmZmZmZmJ0A0MzMzM7MhQM3MzMzMzCNAZmZmZmZmZEAAAAAAACBiQAAAAAAAoFRAmpmZmZmZTkA0MzMzMzMZQGZmZmZmZiRANDMzMzMzGUAAAAAAAGBmQMzMzMzMzFNAH4XrUbgeS0BmZmZmZmYqQAAAAAAAACFAuB6F61G4MkAAAAAAAAA+QNejcD0KVzFAzczMzMzMREAAAAAAAIAwQAAAAAAAAC5AAAAAAAAAIUAAAAAAAAAxQDQzMzMzMx9AzczMzMzMM0ApXI/C9Sj0P7gehetRuBJAAAAAAACAOUAAAAAAAAAuQAAAAAAAABFA",
          "dtype": "f8"
         },
         "yaxis": "y"
        },
        {
         "hovertemplate": "Invoice Date=2011-05-26<br>Invoice Number=%{x}<br>Total Sales=%{y}<extra></extra>",
         "legendgroup": "2011-05-26",
         "marker": {
          "color": "#636efa",
          "symbol": "circle"
         },
         "mode": "markers",
         "name": "2011-05-26",
         "showlegend": true,
         "type": "scattergl",
         "x": {
          "bdata": "ynYIAM12CADOdggAz3YIANB2CADRdggA0nYIANN2CADUdggA1XYIANZ2CADYdggA3nYIAAR3CAAKdwgADXcIACN3CAAkdwgAJXcIACt3CAAudwgAOHcIADl3CAA6dwgAPHcIAD13CAA+dwgAP3cIAEB3CABBdwgAQncIAEN3CABEdwgARXcIAEZ3CABHdwgASHcIAEl3CABQdwgAUncIAFN3CABUdwgAVXcIAFZ3CABXdwgAWncIAFt3CABcdwgAXXcIAA==",
          "dtype": "i4"
         },
         "xaxis": "x",
         "y": {
          "bdata": "AAAAAACAKUCamZmZmdlBQM3MzMzMzC9AAAAAAAAAIUBmZmZmZuZDQNejcD0KV1RAZmZmZmbmOEAK16NwPQpbQAAAAAAAAD5AAAAAAABgdkAAAAAAAMiAQClcj8L1KCRAZmZmZmZmMUA0MzMzMzM5QM3MzMzMzDNAMzMzMzMzL0BmZmZmZmYRQM3MzMzMzDNAcT0K16NwSUDNzMzMzMwvQM3MzMzMzENAAAAAAACAOUCamZmZmflBQAAAAAAAQF9AZmZmZmZmDkAAAAAAAIA5QGZmZmZmZjdA7FG4HoVrXkA0MzMzM7MhQGZmZmZm5jNAAAAAAAAAREDNzMzMzMwAQAAAAAAAgDNAUrgehetRKkAAAAAAAIAwQM3MzMzMzB9AmpmZmZlZUEAAAAAAAAAuQGZmZmZmZiRAmZmZmZl5ZEAAAAAAAAAuQDMzMzMzMylAZmZmZmbmT0AAAAAAAAAuQAAAAAAAAA5AZmZmZmZmJEApXI/C9SgkQAAAAAAAAD5AZmZmZmZmZEA=",
          "dtype": "f8"
         },
         "yaxis": "y"
        },
        {
         "hovertemplate": "Invoice Date=2011-05-27<br>Invoice Number=%{x}<br>Total Sales=%{y}<extra></extra>",
         "legendgroup": "2011-05-27",
         "marker": {
          "color": "#EF553B",
          "symbol": "circle"
         },
         "mode": "markers",
         "name": "2011-05-27",
         "showlegend": true,
         "type": "scattergl",
         "x": {
          "bdata": "YncIAGV3CABmdwgAZ3cIAGp3CABrdwgAbHcIAHF3CABydwgAdHcIAHV3CACadwgAo3cIAKR3CACldwgApncIAKd3CACodwgAqXcIAKp3CACrdwgArHcIAK93CACxdwgAsncIALR3CAC1dwgAtncIALd3CAC4dwgAuXcIALt3CAC9dwgAvncIAL93CADAdwgAwncIAMN3CADEdwgAxXcIAMZ3CADHdwgAyHcIAMl3CADKdwgAy3cIANN3CADUdwgA1XcIANZ3CADYdwgA2XcIAN53CAA=",
          "dtype": "i4"
         },
         "xaxis": "x",
         "y": {
          "bdata": "AAAAAAAAR0AAAAAAAIAwQAAAAAAAgDBAZmZmZmZmREAAAAAAAIAwQDMzMzMz81ZAzczMzMzMJ0DNzMzMzMwzQArXo3A9CitAAAAAAAAwqEBnZmZmZuZSQAAAAAAAADFAAQAAAADwaUAAAAAAAAAaQAAAAAAAADFAAAAAAAAAHkAAAAAAAGBmQDQzMzMzszFAmpmZmZmZTkDNzMzMzMw0QGZmZmZmZiRANDMzMzOzIUAAAAAAAAAuQAAAAAAAAC5AAAAAAACAb0AAAAAAACBTQNajcD0K1wtAAAAAAAAAIUAzMzMzM7MtQGZmZmZmZjFAAAAAAAAAJUAAAAAAACBiQM3MzMzMzDNAAAAAAACAJkAAAAAAAOBQQHE9CtejcFlAZmZmZmbmL0AAAAAAAMBSQJqZmZmZmTBAAAAAAACANkDNzMzMzMw0QAEAAAAA8GlAAAAAAACASUBmZmZmZmYxQAAAAAAAgDBAAAAAAACAMEDNzMzMzMwrQDMzMzMzM/s/ZmZmZmZmMUA0MzMzM7NBQDQzMzMzsyFAAAAAAACAOUAAAAAAAOBQQA==",
          "dtype": "f8"
         },
         "yaxis": "y"
        },
        {
         "hovertemplate": "Invoice Date=2011-05-29<br>Invoice Number=%{x}<br>Total Sales=%{y}<extra></extra>",
         "legendgroup": "2011-05-29",
         "marker": {
          "color": "#00cc96",
          "symbol": "circle"
         },
         "mode": "markers",
         "name": "2011-05-29",
         "showlegend": true,
         "type": "scattergl",
         "x": {
          "bdata": "33cIAOB3CADhdwgA4ncIAON3CADkdwgA5XcIAOZ3CADodwgA6ncIAOt3CADsdwgA7XcIAO53CADvdwgA8HcIAPF3CADydwgA83cIAPR3CAD1dwgA9ncIAPd3CAA=",
          "dtype": "i4"
         },
         "xaxis": "x",
         "y": {
          "bdata": "ZmZmZmbmI0AAAAAAAAA+QAAAAAAAgDlAAAAAAACAIECkcD0K16MQQJqZmZmZmRdAAAAAAACAMEAAAAAAAHCBQAAAAAAAQFtAMzMzMzMzD0CamZmZmZkfQAAAAAAAoFtA4XoUrkfhCkC4HoXrUThaQJqZmZmZmQdAAAAAAAAABEAAAAAAAAAhQGZmZmZmZvo/AAAAAAAAQUDNzMzMzMwXQAAAAAAAAC5AmpmZmZmZN0BmZmZmZuYjQA==",
          "dtype": "f8"
         },
         "yaxis": "y"
        },
        {
         "hovertemplate": "Invoice Date=2011-05-31<br>Invoice Number=%{x}<br>Total Sales=%{y}<extra></extra>",
         "legendgroup": "2011-05-31",
         "marker": {
          "color": "#ab63fa",
          "symbol": "circle"
         },
         "mode": "markers",
         "name": "2011-05-31",
         "showlegend": true,
         "type": "scattergl",
         "x": {
          "bdata": "+HcIAPl3CAD6dwgA/HcIAP13CAD/dwgAAHgIAAF4CAACeAgAA3gIAAR4CAAHeAgACHgIAAl4CAAReAgAFHgIAD54CABBeAgAQ3gIAER4CABFeAgAU3gIAFR4CABWeAgAWXgIAFp4CABbeAgAXXgIAF54CABfeAgAYHgIAGR4CABleAgAZngIAGd4CABoeAgAaXgIAGp4CABseAgAb3gIAHR4CAB1eAgAd3gIAH14CAA=",
          "dtype": "i4"
         },
         "xaxis": "x",
         "y": {
          "bdata": "MzMzMzOzLUA0MzMzMzMfQM3MzMzMzDNAzczMzMzMM0BnZmZmZuZyQGZmZmZmZmFAZmZmZmbmZUAAAAAAAAAuQKRwPQrXo2pAzczMzMzMJ0AAAAAAAMA4QAAAAAAAACVAAAAAAAAAIUAAAAAAAIBJQAAAAAAAwDJAAAAAAACAMEDNzMzMzMwfQAAAAAAAgCBAAAAAAADod0DNzMzMzMwzQJqZmZmZmT5AzczMzMzML0AAAAAAAIApQDMzMzMzsy1ANDMzMzMzZkDNzMzMzGxzQM3MzMzMjHJAzczMzMzMNEDNzMzMzMwzQM3MzMzMzDRAAAAAAACAiUAAAAAAAIBAQAAAAAAAABFAAAAAAAAAHkAAAAAAAAAxQAAAAAAAAC5AAAAAAAAAOkAAAAAAAIApQAAAAAAA4FBAzczMzMzMIEDNzMzMzMwvQM3MzMzMzCRANDMzMzMzOUDNzMzMzMw0QA==",
          "dtype": "f8"
         },
         "yaxis": "y"
        },
        {
         "hovertemplate": "Invoice Date=2011-06-01<br>Invoice Number=%{x}<br>Total Sales=%{y}<extra></extra>",
         "legendgroup": "2011-06-01",
         "marker": {
          "color": "#FFA15A",
          "symbol": "circle"
         },
         "mode": "markers",
         "name": "2011-06-01",
         "showlegend": true,
         "type": "scattergl",
         "x": {
          "bdata": "lHgIAJV4CACWeAgAl3gIALp4CAC7eAgAvngIAL94CADAeAgAwXgIAMJ4CADDeAgAx3gIAM14CADgeAgA4XgIAOJ4CADoeAgA6XgIAOp4CADreAgA7XgIAO94CADxeAgA83gIAPl4CAD7eAgA/HgIAP94CAAAeQgAAnkIAAZ5CAAPeQgA",
          "dtype": "i4"
         },
         "xaxis": "x",
         "y": {
          "bdata": "MzMzMzPzMEAAAAAAAMBEQGZmZmZm5jNAZmZmZmbmI0DNzMzMzMxTQAAAAAAAAClAzczMzMzMJ0BmZmZmZmb6P83MzMzMzDNAzczMzMzMJEDXo3A9Ctf3PwAAAAAAABNAmpmZmZmZLkAVrkfhehRTQGZmZmZmBlVAZmZmZmZmJEDNzMzMzMw0QM3MzMzMzB9AzczMzMzMP0CamZmZmZk+QAAAAAAAAC5AAAAAAACAJkDNzMzMzMxEQJqZmZmZmSdAAAAAAAAALkAAAAAAAEBaQAAAAAAAAFVAZmZmZmZmCkDhehSuR+EaQAAAAAAAADFANDMzMzOzPUABAAAAAPB5QAAAAAAAAB5A",
          "dtype": "f8"
         },
         "yaxis": "y"
        },
        {
         "hovertemplate": "Invoice Date=2011-06-02<br>Invoice Number=%{x}<br>Total Sales=%{y}<extra></extra>",
         "legendgroup": "2011-06-02",
         "marker": {
          "color": "#19d3f3",
          "symbol": "circle"
         },
         "mode": "markers",
         "name": "2011-06-02",
         "showlegend": true,
         "type": "scattergl",
         "x": {
          "bdata": "EHkIABF5CAATeQgAFHkIABV5CAAWeQgAF3kIABl5CAAweQgATHkIAE95CABQeQgAU3kIAFR5CABVeQgAVnkIAFd5CABYeQgAWXkIAFx5CABfeQgAY3kIAGd5CABoeQgAdXkIAHZ5CAB5eQgAfHkIAH15CACAeQgAgXkIAIJ5CACDeQgAhHkIAId5CACIeQgAiXkIAI15CACOeQgA",
          "dtype": "i4"
         },
         "xaxis": "x",
         "y": {
          "bdata": "zczMzMzML0AAAAAAAAApQM3MzMzMzDNA9ihcj8L1MkAzMzMzM6t2QGZmZmZmZjRAAAAAAADASEDNzMzMzMw0QAAAAAAAAC5AmpmZmZmZB0BmZmZmZmYZQAAAAAAAAPQ/AAAAAACAMEAAAAAAAAAeQDMzMzMzM/8/zczMzMzMNEAAAAAAAIBAQAAAAAAAIFdAAAAAAAAAHkAAAAAAAEBkQBWuR+F6FFNA4XoUrkfh2j9mZmZmZmZBQM3MzMzMzDNAAAAAAAAALkAAAAAAAICJQAAAAAAAAB5AAAAAAAAALkAAAAAAAAAuQAAAAAAAAD5ACtejcD0KK0DsUbgehesjQGZmZmZmZjdAAAAAAADAMkBmZmZmZmbuP5qZmZmZuWBAAAAAAAAgU0BmZmZmZmY3QAAAAAAAAB5A",
          "dtype": "f8"
         },
         "yaxis": "y"
        },
        {
         "hovertemplate": "Invoice Date=2011-06-03<br>Invoice Number=%{x}<br>Total Sales=%{y}<extra></extra>",
         "legendgroup": "2011-06-03",
         "marker": {
          "color": "#FF6692",
          "symbol": "circle"
         },
         "mode": "markers",
         "name": "2011-06-03",
         "showlegend": true,
         "type": "scattergl",
         "x": {
          "bdata": "kHkIAJJ5CACUeQgAlXkIAJZ5CACXeQgAmHkIAJp5CACbeQgAnHkIAM95CADQeQgA0XkIANR5CADWeQgA13kIAN15CADeeQgA4HkIAOF5CADieQgA43kIAOR5CADleQgA5nkIAOd5CADoeQgA6XkIAOp5CADreQgA7HkIAO15CADweQgA83kIAPR5CAD1eQgA",
          "dtype": "i4"
         },
         "xaxis": "x",
         "y": {
          "bdata": "AAAAAAAAMUBmZmZmZmYnQAAAAAAAAE1AMzMzMzMz/z8AAAAAAIAwQAAAAAAAgFlAKVyPwvUoFECamZmZmdkxQAAAAAAAADFAAAAAAACAMEA0MzMzMzMZQGZmZmZmZjRAAAAAAAAAIUAAAAAAAAD0P1yPwvUozJFANDMzMzOzPUA0MzMzM7MxQDMzMzMzsy1AmpmZmZnZMUAzMzMzMzNwQAAAAAAAiJRAZ2ZmZmbmUkBmZmZmZmYkQArXo3A9CjtAAAAAAACAMEDNzMzMzMw0QAAAAAAAgDBAuB6F61G4MkCamZmZmZk+QGZmZmZm5i9AmpmZmZmZIEDiehSuR+E9QAAAAAAAAC5AKVyPwvUoFEAAAAAAAOBDQLgehetRuAJA",
          "dtype": "f8"
         },
         "yaxis": "y"
        },
        {
         "hovertemplate": "Invoice Date=2011-06-05<br>Invoice Number=%{x}<br>Total Sales=%{y}<extra></extra>",
         "legendgroup": "2011-06-05",
         "marker": {
          "color": "#B6E880",
          "symbol": "circle"
         },
         "mode": "markers",
         "name": "2011-06-05",
         "showlegend": true,
         "type": "scattergl",
         "x": {
          "bdata": "93kIAPh5CAD5eQgA+nkIAPt5CAD8eQgA/XkIAP55CAD/eQgAAHoIAAF6CAACeggABHoIAAV6CAAGeggAB3oIAAh6CAAKeggADXoIAA56CAAPeggAEHoIABF6CAASeggAE3oIABR6CAAVeggAF3oIABh6CAAZeggAGnoIABx6CAAdeggAHnoIAB96CAAgeggAInoIACN6CAAkeggAJXoIACZ6CAAneggAKHoIACl6CAAqeggALHoIAC16CAAueggAL3oIADB6CAAyeggAM3oIADV6CAA3eggAOHoIADl6CAA6eggAO3oIADx6CAA=",
          "dtype": "i4"
         },
         "xaxis": "x",
         "y": {
          "bdata": "9ihcj8L1IkBmZmZmZmY0QM3MzMzMqINAZmZmZmZm/j8AAAAAAEBfQDMzMzMz8zBAAAAAAACAMEBmZmZmZmYnQNajcD0K1xtAmpmZmZmZD0BnZmZmZmYaQAAAAAAAADtAzczMzMzMR0DNzMzMzMw/QAAAAAAAAC5AAQAAAADwaUCamZmZmZlOQJqZmZmZmU5AAAAAAACAT0A0MzMzMzM/QAAAAAAAACFAAAAAAACAMEAzMzMzMzP3P2ZmZmZm5jBAAAAAAACAIUAAAAAAAAAhQM3MzMzMzBdAAAAAAAAATUBmZmZmZmYxQGZmZmZmZjFAzczMzMzMNEAAAAAAAIBJQJqZmZmZmS5ANDMzMzOzQUAAAAAAAIAmQI/C9ShcjwpANDMzMzOzN0AAAAAAAAAuQKRwPQrXoyBAAAAAAAAAMUAAAAAAAIBJQGZmZmZmZiRANDMzMzMzH0A0MzMzM7NBQAAAAAAAAPQ/ZmZmZmZm/j/NzMzMzMwzQGZmZmZm5jNAAAAAAACAMEBmZmZmZmYaQJqZmZmZ2TFAAAAAAAAALkAAAAAAAAA5QAAAAAAAAC5AzczMzMyMUUAAAAAAAAAuQHE9CtejcCxAZmZmZmZmREAAAAAAAAAlQA==",
          "dtype": "f8"
         },
         "yaxis": "y"
        },
        {
         "hovertemplate": "Invoice Date=2011-06-06<br>Invoice Number=%{x}<br>Total Sales=%{y}<extra></extra>",
         "legendgroup": "2011-06-06",
         "marker": {
          "color": "#FF97FF",
          "symbol": "circle"
         },
         "mode": "markers",
         "name": "2011-06-06",
         "showlegend": true,
         "type": "scattergl",
         "x": {
          "bdata": "PXoIAD56CAA/eggAQHoIAEF6CABCeggAQ3oIAER6CABGeggAR3oIAEh6CABJeggASnoIAFF6CABSeggAU3oIAFR6CABkeggAanoIAGt6CABseggAbnoIAG96CABweggAcXoIAHJ6CABzeggAdnoIAHh6CAB6eggAfHoIAH16CAB+eggAf3oIAIB6CACBeggAg3oIAIV6CACGeggAq3oIAK96CAC1eggAtnoIALd6CAC4eggAuXoIAMh6CADMeggAzXoIANB6CAA=",
          "dtype": "i4"
         },
         "xaxis": "x",
         "y": {
          "bdata": "AAAAAACAOUCamZmZmdkxQAAAAAAAACFAAAAAAACAOUAAAAAAAMBlQGZmZmZmZiRAAAAAAACAOUCamZmZmZkuQAAAAAAAAD5AAAAAAAAALkA0MzMzM7MxQAAAAAAAAC5AzczMzMzMM0AAAAAAAMBMQArXo3A9CitAAAAAAAAALkAAAAAAAAAuQAAAAAAAACpAAAAAAAAAKUC4HoXrUbgyQJqZmZmZ2UFANDMzMzOzMUDNzMzMzMwjQAAAAAAAYGZAmpmZmZnZPUAAAAAAAAAuQAAAAAAAwEJAmpmZmZmZMEAAAAAAAAA7QAAAAAAAAClAZmZmZmZm+j/NzMzMzMwGQAAAAAAAAD5ANDMzMzOzMUAAAAAAAAD0P2ZmZmZmZiRANDMzMzOzPUAAAAAAAIAmQAAAAAAAgDBAAAAAAACAMEAAAAAAAIA5QAAAAAAAAA5ACtejcD0KK0AAAAAAAAAkQM3MzMzMzDNAMzMzMzMzD0AAAAAAAAApQAAAAAAAAC5AAAAAAAAAMUAzMzMzMzP3Pw==",
          "dtype": "f8"
         },
         "yaxis": "y"
        },
        {
         "hovertemplate": "Invoice Date=2011-06-07<br>Invoice Number=%{x}<br>Total Sales=%{y}<extra></extra>",
         "legendgroup": "2011-06-07",
         "marker": {
          "color": "#FECB52",
          "symbol": "circle"
         },
         "mode": "markers",
         "name": "2011-06-07",
         "showlegend": true,
         "type": "scattergl",
         "x": {
          "bdata": "03oIANR6CADVeggA1noIANd6CADYeggA2XoIANp6CADceggA3XoIAN56CADfeggA4HoIAOF6CADieggA53oIAO96CAAWewgAIHsIACJ7CAAlewgAJ3sIACh7CAApewgAKnsIACt7CAAsewgANXsIADh7CAA6ewgAO3sIADx7CAA/ewgAQHsIAEF7CABCewgARHsIAEV7CABGewgAR3sIAEh7CABJewgASnsIAEt7CABMewgATXsIAE57CABPewgAUHsIAFF7CABTewgAVXsIAFd7CABZewgAWnsIAF57CABfewgAYHsIAGN7CABkewgAbHsIAHh7CACMewgAjXsIAI57CACQewgAkXsIAA==",
          "dtype": "i4"
         },
         "xaxis": "x",
         "y": {
          "bdata": "zczMzMzMM0DNzMzMzMwnQHE9CtejcFlAZmZmZmbmI0AAAAAAAAAlQDQzMzMzszFAAAAAAAAAPkCamZmZmZk3QAAAAAAAgDBAZmZmZmZmJ0AAAAAAAAAlQAAAAAAAADlACtejcD0KB0D2KFyPwvUYQDQzMzMzsyFAAAAAAAAAQUCamZmZmdlkQDQzMzMzMzlAAAAAAAAAPkDNzMzMzMw0QM3MzMzMzDRAAAAAAACANkCamZmZmZlHQDMzMzMzsy1AZmZmZmaGaEAAAAAAAAA3QAAAAAAAAC5AZmZmZmZmN0A0MzMzM7MxQAAAAAAAQFVAAAAAAACALUDsUbgeheszQAAAAAAAADFAzczMzMyMUUAAAAAAAIAgQKRwPQrXowBAzMzMzMzME0A0MzMzM7MhQGZmZmZm5jNAAAAAAAAALkDNzMzMzMwzQArXo3A9CitACtejcD0KJ0DMzMzMzMwTQDQzMzMzszFAMzMzMzMzH0CamZmZmZkHQAAAAAAAgDBAAAAAAAAA9D9mZmZmZmbuP2ZmZmZmZkRAzczMzMzMREDsUbgehWteQM3MzMzMzCZAKVyPwvUoJEA0MzMzM7MxQDQzMzMzszFAzczMzMzMM0AzMzMzMzP3P83MzMzMzENAuB6F61G4PkCamZmZmZkuQGZmZmZm5iNAAAAAAABQVkBmZmZmZmYnQAAAAAAAoIxAmpmZmZmZLkA=",
          "dtype": "f8"
         },
         "yaxis": "y"
        },
        {
         "hovertemplate": "Invoice Date=2011-06-08<br>Invoice Number=%{x}<br>Total Sales=%{y}<extra></extra>",
         "legendgroup": "2011-06-08",
         "marker": {
          "color": "#636efa",
          "symbol": "circle"
         },
         "mode": "markers",
         "name": "2011-06-08",
         "showlegend": true,
         "type": "scattergl",
         "x": {
          "bdata": "mXsIAJp7CACcewgAnnsIAKJ7CACjewgApHsIAKZ7CACoewgAqXsIAKp7CACsewgArXsIAK57CADLewgA6XsIAOp7CADwewgA8XsIAPJ7CADzewgA9HsIAPV7CAD2ewgA93sIAAB8CAACfAgAA3wIAAR8CAAGfAgAB3wIAAh8CAAJfAgACnwIAAt8CAAMfAgADXwIAA98CAAQfAgAEXwIABJ8CAATfAgAFHwIABV8CAAWfAgAF3wIABh8CAAafAgAG3wIAB58CAAffAgAIHwIACF8CAAifAgAI3wIACR8CAAmfAgAJ3wIACh8CAApfAgAL3wIADR8CABBfAgAQnwIAEN8CABEfAgARnwIAEd8CABIfAgASXwIAEp8CABLfAgA",
          "dtype": "i4"
         },
         "xaxis": "x",
         "y": {
          "bdata": "zczMzMzMV0DNzMzMzMw0QJqZmZmZmTBAzczMzMzMLECamZmZmflBQDQzMzMzszFAzczMzMzMQ0CamZmZmdkxQM3MzMzMzDNAMzMzMzPzVkCkcD0K16MQQAAAAAAAAD5AzMzMzMxsYEAAAAAAAAA1QJqZmZmZmRdAzczMzMzMM0AAAAAAAGB4QJqZmZmZmU5ANDMzMzOzMUBmZmZmZmYqQDMzMzMzc1hAAAAAAAAAJUBI4XoUrkdEQM3MzMzMzDNAzczMzMzMJ0AAAAAAAIApQAAAAAAAQGRAZmZmZmZmN0AAAAAAAIAwQAAAAAAAgDNANDMzMzOzMUDNzMzMzMwkQDQzMzMzsyFAZmZmZmbmM0AzMzMzMzP/Pylcj8L1KBRAzczMzMzMNEAAAAAAACBjQDMzMzMzsy1AAQAAAADwaUAAAAAAAAApQJqZmZmZmS5AAAAAAAAALUCamZmZmZlPQAAAAAAAAC5AAAAAAABgZkAAAAAAAAAlQDQzMzMzsz1AzczMzMzMQ0A0MzMzM7NNQGZmZmZmZhFAcT0K16NwOUBmZmZmZmYxQOF6FK5H4U1AAAAAAACAKUAK16NwPQoXQDQzMzMzM0lAAAAAAAAALkDNzMzMzMwzQAAAAAAAAC5AAAAAAAAAKUBmZmZmZuY4QM3MzMzMzC9AAAAAAABAT0AAAAAAAAAOQAAAAAAAAClAuB6F61G4EkDNzMzMzMwbQGZmZmZmZiRAmpmZmZmZLkCamZmZmZkQQM3MzMzMzABA",
          "dtype": "f8"
         },
         "yaxis": "y"
        },
        {
         "hovertemplate": "Invoice Date=2011-06-09<br>Invoice Number=%{x}<br>Total Sales=%{y}<extra></extra>",
         "legendgroup": "2011-06-09",
         "marker": {
          "color": "#EF553B",
          "symbol": "circle"
         },
         "mode": "markers",
         "name": "2011-06-09",
         "showlegend": true,
         "type": "scattergl",
         "x": {
          "bdata": "TXwIAE58CABPfAgAUHwIAFF8CABTfAgAVHwIAFh8CABZfAgAXXwIAGB8CABhfAgAYnwIAGt8CACTfAgAlXwIAJZ8CACXfAgAmHwIAJl8CACafAgAm3wIAJ18CACefAgAn3wIAKB8CAChfAgAo3wIAKR8CAClfAgApnwIAKd8CACqfAgArHwIAK18CACvfAgAsHwIALZ8CAC4fAgAunwIALt8CAC+fAgAxHwIAMV8CADGfAgAynwIAMx8CADOfAgAz3wIANB8CADUfAgA1XwIANZ8CADXfAgA2HwIANl8CADcfAgA3XwIAN58CADffAgA4HwIAOF8CADnfAgA6HwIAOp8CADrfAgA73wIAPd8CAD4fAgA",
          "dtype": "i4"
         },
         "xaxis": "x",
         "y": {
          "bdata": "cT0K16NwLEAAAAAAAAAhQClcj8L1KBRA9ihcj8L1KEBmZmZmZmZEQGZmZmZmZiRAmpmZmZmZL0AAAAAAAIAwQGZmZmZmZu4/MzMzMzOzLUBmZmZmZmYqQGZmZmZm5khAZmZmZmaGWEAAAAAAAAAuQM3MzMzMzDRAAAAAAABgaEAzMzMzM7MyQAAAAAAAACtAzczMzMzMM0BmZmZmZmYqQM3MzMzMzDNAmpmZmZmZLkDNzMzMzMxEQM3MzMzMzCdAAAAAAAAAPkBmZmZmZmYqQGZmZmZmZipAzczMzMzMU0DNzMzMzMwzQGdmZmZmZhpAzMzMzMzME0AAAAAAAAAuQAAAAAAAAPQ/AAAAAAAAMUA0MzMzM7MxQAAAAAAAAPQ/AAAAAACAMEBmZmZmZmYqQDMzMzMzsy1AZmZmZmZmKkCamZmZmZkuQM3MzMzMzDNAAAAAAADgUEAAAAAAAIA5QGZmZmZm5jdAZmZmZmZm+j80MzMzM7MxQDQzMzMzs01AzczMzMzML0BmZmZmZmYkQM3MzMzMzCNAmpmZmZlZbEDNzMzMzMwTQGZmZmZmZu4/9ihcj8L1OEBmZmZmZuY4QDQzMzMzMzlAzczMzMzMJ0BmZmZmZmYkQAAAAAAAeJVAAAAAAAAALkDNzMzMzMwrQDMzMzMzMw9ANDMzMzOzMUAAAAAAAAAhQAEAAAAAAFVAmpmZmZnZQUAAAAAAAIA5QGZmZmZm5j1A",
          "dtype": "f8"
         },
         "yaxis": "y"
        },
        {
         "hovertemplate": "Invoice Date=2011-06-10<br>Invoice Number=%{x}<br>Total Sales=%{y}<extra></extra>",
         "legendgroup": "2011-06-10",
         "marker": {
          "color": "#00cc96",
          "symbol": "circle"
         },
         "mode": "markers",
         "name": "2011-06-10",
         "showlegend": true,
         "type": "scattergl",
         "x": {
          "bdata": "+nwIAPt8CAD8fAgA/XwIAAB9CAACfQgACH0IAAp9CAAOfQgAD30IABB9CAAefQgAI30IACV9CAApfQgAKn0IADV9CABNfQgAYn0IAG19CAB4fQgAfX0IAIB9CACBfQgAg30IAIl9CACKfQgAkH0IAJJ9CACTfQgAlX0IAJd9CACYfQgAmX0IAJp9CACcfQgAnn0IAJ99CACmfQgAp30IAKh9CAA=",
          "dtype": "i4"
         },
         "xaxis": "x",
         "y": {
          "bdata": "PQrXo3A9IkAAAAAAAAAuQM3MzMzMzDNAAAAAAAAAIUAAAAAAAAAlQM3MzMzMzDNANDMzMzOzMUA+CtejcD0SQGZmZmZmZmdAzczMzMzMM0AAAAAAAIBAQAAAAAAAAC5AAAAAAADASEApXI/C9SgUQGZmZmZm5j1AKVyPwvUoFEAzMzMzMzMvQAAAAAAAgDBANDMzMzMzOUAAAAAAAGBmQAAAAAAAABFAAAAAAAAAGkCkcD0K16MAQM3MzMzMzDNAAAAAAACALUBmZmZmZmYUQAAAAAAAgC1AAAAAAAAAPkA0MzMzM7NBQAAAAAAAADFAAAAAAACAQ0BmZmZmZuY3QFK4HoXrURxAH4XrUbgeJ0AAAAAAAJByQAAAAABAB+NAAAAAAABMhEBmZmZmZmYxQGZmZmZmZkRA9ihcj8L1OEAAAAAAAAAOQA==",
          "dtype": "f8"
         },
         "yaxis": "y"
        },
        {
         "hovertemplate": "Invoice Date=2011-06-12<br>Invoice Number=%{x}<br>Total Sales=%{y}<extra></extra>",
         "legendgroup": "2011-06-12",
         "marker": {
          "color": "#ab63fa",
          "symbol": "circle"
         },
         "mode": "markers",
         "name": "2011-06-12",
         "showlegend": true,
         "type": "scattergl",
         "x": {
          "bdata": "rH0IAK19CACufQgAsH0IALF9CACyfQgAs30IALR9CAC2fQgAt30IALh9CAC5fQgAun0IALt9CAC8fQgAvX0IAL59CAC/fQgAwH0IAMF9CADCfQgAw30IAMR9CADFfQgAxn0IAMd9CADIfQgAyX0IAMp9CADLfQgAzH0IAM59CADPfQgA0H0IANF9CADSfQgA",
          "dtype": "i4"
         },
         "xaxis": "x",
         "y": {
          "bdata": "ZmZmZmZmJEAzMzMzM/NGQGZmZmZm5jhAmpmZmZmZLkDNzMzMzMwfQAAAAAAA4E9AzczMzMzMI0BmZmZmZmYaQM3MzMzMzC9AAAAAAAAAJEBmZmZmZuYzQJqZmZmZmQdAAAAAAAAAHkBwPQrXo3BjQDQzMzMzszFAAAAAAADAOEBmZmZmZmYkQAAAAAAAAClAAAAAAAAAPkBmZmZmZmYKQAAAAAAAADRAzczMzMzMH0CPwvUoXI8aQM3MzMzMzC9AAAAAAAAAIkAAAAAAAAAeQGZmZmZmZv4/AAAAAAAAI0AAAAAAAAApQAAAAAAAgDBAZmZmZmZmNECkcD0K16MgQDMzMzMzM+s/AAAAAACARkDNzMzMzMwzQGZmZmZm5jNA",
          "dtype": "f8"
         },
         "yaxis": "y"
        },
        {
         "hovertemplate": "Invoice Date=2011-06-13<br>Invoice Number=%{x}<br>Total Sales=%{y}<extra></extra>",
         "legendgroup": "2011-06-13",
         "marker": {
          "color": "#FFA15A",
          "symbol": "circle"
         },
         "mode": "markers",
         "name": "2011-06-13",
         "showlegend": true,
         "type": "scattergl",
         "x": {
          "bdata": "1H0IANV9CADWfQgA130IANh9CADZfQgA2n0IANx9CADgfQgA530IAOh9CADpfQgA630IAO99CADwfQgA830IAPV9CAD2fQgA+H0IAPl9CAD6fQgA+30IAPx9CAD9fQgA/n0IABt+CAAcfggAHX4IAB5+CAAffggAIH4IACF+CAAjfggAJH4IADR+CABVfggAVn4IAFd+CABYfggAYX4IAGJ+CAB7fggAfn4IAH9+CACAfggA",
          "dtype": "i4"
         },
         "xaxis": "x",
         "y": {
          "bdata": "AAAAAAAAK0DsUbgehesjQGZmZmZmZiRAMzMzMzMzKUBmZmZmZmYxQMzMzMzMzHNAcT0K16NwSUDNzMzMzMwzQAAAAAAAADFAKVyPwvUoAEDNzMzMzMwTQGZmZmZm5iNAAAAAAACAI0DMzMzMzMwTQGZmZmZmZjFAAAAAAAAAPkAAAAAAAAA+QAAAAAAAADFAZmZmZmZm/j/NzMzMzMwzQDMzMzMzMylAAAAAAACAKUDNzMzMzMxUQJqZmZmZmT5AZmZmZmbmI0DNzMzMzMwkQAAAAAAAAFJAAAAAAACAOUAAAAAAAAAuQM3MzMzMzBNAAAAAAACANkAAAAAAAAA+QM3MzMzMzDNAzczMzMzMM0DNzMzMzMwQQM3MzMzMzDRAAAAAAACAMEC4HoXrUbgiQDMzMzMz80NAAAAAAACAMEAAAAAAAAAKQEjhehSuR0FAzMzMzMzMU0AAAAAAAAAEQAAAAAAAAClA",
          "dtype": "f8"
         },
         "yaxis": "y"
        },
        {
         "hovertemplate": "Invoice Date=2011-06-14<br>Invoice Number=%{x}<br>Total Sales=%{y}<extra></extra>",
         "legendgroup": "2011-06-14",
         "marker": {
          "color": "#19d3f3",
          "symbol": "circle"
         },
         "mode": "markers",
         "name": "2011-06-14",
         "showlegend": true,
         "type": "scattergl",
         "x": {
          "bdata": "iH4IAIl+CACKfggAi34IAIx+CACNfggAqn4IAK5+CACvfggAsH4IALF+CACyfggAs34IALR+CAC1fggAtn4IALd+CAC4fggAu34IALx+CAC9fggAvn4IAMR+CADKfggAz34IAN9+CADgfggA6H4IAOl+CADqfggA634IAOx+CADtfggA7n4IAO9+CADwfggA8X4IAPJ+CAD0fggA9X4IAPZ+CAD3fggA+H4IAPp+CAD7fggA/X4IAAR/CAAFfwgABn8IAAh/CAAJfwgAC38IAA==",
          "dtype": "i4"
         },
         "xaxis": "x",
         "y": {
          "bdata": "NDMzMzOzMUDWo3A9CtcrQM3MzMzMzENAZmZmZmZmKkCamZmZmdlUQDQzMzMzszFAAAAAAAAgYkAAAAAAAKB0QAAAAAAAAC5AMzMzMzOzXUAAAAAAAOBQQJqZmZmZmS9AuB6F61HYg0AAAAAAAMBUQAAAAAAAgKNAAAAAAABQhkBmZmZmZmZUQM3MzMzMzCNApHA9CtejEEAAAAAAAAAhQLgehetRuBJAAAAAAAAALkAAAAAAAAD0P5qZmZmZmS5AMzMzMzPzVkAAAAAAAAAuQAAAAAAAAD5ApHA9CtejAEAAAAAAAAAuQKRwPQrXowBAZmZmZmZmREBmZmZmZmYUQAAAAAAAgDBAmpmZmZmZD0AUrkfhehRDQArXo3A9CjtAAAAAAACAWUA0MzMzM7NEQAAAAAAAAClAMzMzMzOzLUBmZmZmZuYjQAAAAAAAAD5AZmZmZmZmKkAAAAAAAAAuQMP1KFyPIkFAAAAAAACAMEAAAAAAAAA5QAAAAAAAYGZAw/UoXI+CXkCamZmZmdkxQMzMzMzMzBNAXI/C9ShcG0A=",
          "dtype": "f8"
         },
         "yaxis": "y"
        },
        {
         "hovertemplate": "Invoice Date=2011-06-15<br>Invoice Number=%{x}<br>Total Sales=%{y}<extra></extra>",
         "legendgroup": "2011-06-15",
         "marker": {
          "color": "#FF6692",
          "symbol": "circle"
         },
         "mode": "markers",
         "name": "2011-06-15",
         "showlegend": true,
         "type": "scattergl",
         "x": {
          "bdata": "Dn8IAA9/CAARfwgAFn8IABt/CAAcfwgAHn8IAB9/CAAqfwgALX8IAEx/CABOfwgAT38IAFF/CABSfwgAU38IAFV/CABXfwgAWX8IAFp/CABbfwgAXH8IAGd/CABpfwgAan8IAGx/CABtfwgAbn8IAHB/CABxfwgAcn8IAHN/CAB0fwgAeX8IAHp/CAB+fwgAgX8IAIN/CACHfwgAiX8IAI5/CAA=",
          "dtype": "i4"
         },
         "xaxis": "x",
         "y": {
          "bdata": "AAAAAAAAMUCamZmZmdlBQGZmZmZm5mJAAAAAAACAIEBSuB6F61EcQNajcD0K1wtAMzMzMzOTQEAAAAAAAABkQAAAAAAAAERAAAAAAABgZkDNzMzMzMwfQAAAAAAAgDlAZmZmZmbmI0D2KFyPwvUyQJqZmZmZmSJAAAAAAAAASUA0MzMzM7MxQGZmZmZmZhRAzczMzMzMM0A0MzMzMzNPQGZmZmZmZjFAAAAAAADAQkDNzMzMzMwAQGZmZmZm5jNAzczMzMzMN0ApXI/C9SgUQAAAAAAAgDlAuB6F61G4IkDNzMzMzMwjQM3MzMzMzD9AZmZmZmZmCkAAAAAAAAAIQM3MzMzMzABAAAAAAAAAIkBmZmZmZmb6PzMzMzMzM+s/ZmZmZmbmJUB7FK5H4XplQOF6FK5H4RpAAAAAAAAAPkAAAAAAAAAlQA==",
          "dtype": "f8"
         },
         "yaxis": "y"
        },
        {
         "hovertemplate": "Invoice Date=2011-06-16<br>Invoice Number=%{x}<br>Total Sales=%{y}<extra></extra>",
         "legendgroup": "2011-06-16",
         "marker": {
          "color": "#B6E880",
          "symbol": "circle"
         },
         "mode": "markers",
         "name": "2011-06-16",
         "showlegend": true,
         "type": "scattergl",
         "x": {
          "bdata": "mn8IAJx/CACefwgAn38IAKB/CAChfwgApH8IAKV/CACnfwgAqH8IAKl/CACqfwgAq38IAKx/CACxfwgAxn8IAMp/CADNfwgAzn8IANB/CADRfwgA0n8IANN/CADUfwgA1X8IANZ/CADXfwgA2H8IANl/CADafwgA238IANx/CADdfwgA338IAOJ/CADofwgA6X8IAOp/CADufwgA738IAPB/CADxfwgA8n8IAAGACAACgAgAB4AIAAiACAAJgAgACoAIAAuACAAMgAgADoAIACGACAAkgAgALIAIAC+ACAA1gAgANoAIADmACAA6gAgAO4AIADyACAA9gAgAPoAIAD+ACABAgAgAQYAIAEKACABDgAgARIAIAEWACABGgAgAR4AIAEiACABJgAgA",
          "dtype": "i4"
         },
         "xaxis": "x",
         "y": {
          "bdata": "zczMzMzMQ0AAAAAAAOBlQM3MzMzMzDNAzczMzMzMM0DNzMzMzMwzQAAAAAAAAC5AzczMzMzMM0AAAAAAAMBSQGZmZmZm5lhAw/UoXI+CfkAAAAAAAAA5QAAAAAAAgDNAzczMzMzMM0BmZmZmZuZIQGZmZmZmZipAZmZmZmZmR0AAAAAAAIBmQDQzMzMzszFAzczMzMzMREAzMzMzMzP/PzQzMzMzszFAAAAAAAAAPkBmZmZmZuY7QAAAAAAAgDZApHA9CtejMEBmZmZmZmYxQDQzMzMzs0FAzczMzMzMH0AAAAAAAAAuQJqZmZmZmRdAZmZmZmZm/j8AAAAAAABSQAAAAAAAAD5AZmZmZmZmMUAAAAAAAAAuQAAAAAAAAC5AZmZmZmbmM0AAAAAAAIApQDQzMzMzszFAZ2ZmZmbmUkDXo3A9ClcxQDMzMzMzsy1AmpmZmZmZL0DsUbgehesjQDQzMzMzsz1AAAAAAAAAGUAAAAAAAAD0P9ajcD0K1xtAMzMzMzMzL0DsUbgeheszQOJ6FK5H4QpAzczMzMzMQ0DXo3A9CldUQAAAAAAAAHtAAAAAAACALUCamZmZmflDQAAAAAAAAE5AAAAAAACAWUAAAAAAAABJQM3MzMzMzDNAuB6F61G4IkAAAAAAAIApQClcj8L1KCRAzczMzMzMM0AAAAAAAIBGQDMzMzMzMy9AZmZmZmZmUUDWo3A9CtcrQGZmZmZmZu4/AAAAAADAYkBSuB6F6+GGQGZmZmZmZv4/AAAAAACgVEBmZmZmZmYaQAAAAAAAACFA",
          "dtype": "f8"
         },
         "yaxis": "y"
        },
        {
         "hovertemplate": "Invoice Date=2011-06-17<br>Invoice Number=%{x}<br>Total Sales=%{y}<extra></extra>",
         "legendgroup": "2011-06-17",
         "marker": {
          "color": "#FF97FF",
          "symbol": "circle"
         },
         "mode": "markers",
         "name": "2011-06-17",
         "showlegend": true,
         "type": "scattergl",
         "x": {
          "bdata": "SoAIAEuACABMgAgATYAIAE6ACABPgAgAVYAIAFeACABYgAgAWYAIAFqACABdgAgAXoAIAGCACABhgAgAmIAIAJqACACbgAgAnIAIAJ2ACACegAgAn4AIAKCACAChgAgAooAIAKOACACkgAgApYAIAKeACACpgAgAqoAIAKuACACsgAgAroAIALGACACzgAgAtYAIAMCACADCgAgAw4AIAMSACAA=",
          "dtype": "i4"
         },
         "xaxis": "x",
         "y": {
          "bdata": "AAAAAAAAJUAzMzMzMzMvQAAAAAAAgEBAFa5H4XoUc0BmZmZmZmZaQAAAAAAAAGtAAAAAAADgUEAAAAAAAAAuQAEAAAAA8GlAzczMzMzML0DXo3A9ClcxQClcj8L1KPQ/pHA9CtejAEBmZmZmZuYhQGZmZmZmZgpACtejcD0KK0AAAAAAAAAOQDQzMzMzs0FAFa5H4XoUg0CamZmZmVkwQJqZmZmZ2TFAZmZmZmZmKkAAAAAAAIA2QAAAAAAAACVAAAAAAACAM0BmZmZmZmYqQPYoXI/C9ThAAAAAAACAKUBmZmZmZmYxQAAAAAAAIGJAMzMzMzOzLUAAAAAAAAA3QDQzMzMzszFAzczMzMzMQ0DhehSuR+H6P5qZmZmZWTBAAAAAAAAALkApXI/C9SgkQAAAAAAAADlAAAAAAAAANUDNzMzMzMwnQA==",
          "dtype": "f8"
         },
         "yaxis": "y"
        },
        {
         "hovertemplate": "Invoice Date=2011-06-19<br>Invoice Number=%{x}<br>Total Sales=%{y}<extra></extra>",
         "legendgroup": "2011-06-19",
         "marker": {
          "color": "#FECB52",
          "symbol": "circle"
         },
         "mode": "markers",
         "name": "2011-06-19",
         "showlegend": true,
         "type": "scattergl",
         "x": {
          "bdata": "x4AIAMiACADJgAgAyoAIAMuACADMgAgAzYAIAM6ACADQgAgA0YAIANKACADTgAgA1IAIANaACADXgAgA2IAIANmACADagAgA24AIANyACADdgAgA3oAIAN+ACADggAgA4YAIAOOACADkgAgA5YAIAOaACADngAgA6YAIAOqACADrgAgA7IAIAO2ACADugAgA8IAIAPKACADzgAgA9YAIAPaACAD4gAgA+YAIAPqACAD7gAgA/IAIAP2ACAD+gAgA/4AIAACBCAABgQgAA4EIAASBCAAFgQgA",
          "dtype": "i4"
         },
         "xaxis": "x",
         "y": {
          "bdata": "ZmZmZmZmZEBmZmZmZmYqQAAAAAAA4FBAZmZmZmZmMUCamZmZmZlOQM3MzMzMzDNAZmZmZmbmM0AAAAAAAAARQAAAAAAAAD5AAAAAAAAALkA0MzMzM7M9QJqZmZmZmQdAAAAAAAAALkAAAAAAAAAxQAAAAAAAACFAAAAAAACQckAAAAAAAAApQGZmZmZm5k1AAAAAAAAAJUA0MzMzMzMZQDMzMzMzsy1AzczMzMzMM0AAAAAAAAAuQAAAAAAA4FBANDMzMzOzMUDWo3A9CtcLQAAAAAAAAB5AmpmZmZmZN0DsUbgehStgQHA9CtejcGNAAAAAAAAAMUDNzMzMzMzkPzQzMzMzs0FAzczMzMzMNEBmZmZmZmYXQAAAAAAAQFpAZmZmZmZm+j9mZmZmZmZEQOxRuB6F6zNAAAAAAAAALkAAAAAAAAAhQAAAAAAAwEJAAAAAAAAABECamZmZmZk+QJqZmZmZ2TFAzczMzMzME0AAAAAAAAA+QM3MzMzMzDdAmpmZmZmZIEA0MzMzM7M9QDQzMzMzszFAzczMzMzMEEA0MzMzM7MxQMzMzMzMzBNA",
          "dtype": "f8"
         },
         "yaxis": "y"
        },
        {
         "hovertemplate": "Invoice Date=2011-06-20<br>Invoice Number=%{x}<br>Total Sales=%{y}<extra></extra>",
         "legendgroup": "2011-06-20",
         "marker": {
          "color": "#636efa",
          "symbol": "circle"
         },
         "mode": "markers",
         "name": "2011-06-20",
         "showlegend": true,
         "type": "scattergl",
         "x": {
          "bdata": "B4EIAAiBCAAJgQgADYEIAA6BCAAPgQgAEYEIABKBCAATgQgAFIEIABWBCAAlgQgAJoEIACeBCABNgQgAVYEIAF6BCABfgQgAYYEIAGKBCABmgQgAaIEIAHKBCAB0gQgAdYEIAHaBCAB3gQgAgoEIAJiBCACcgQgAnYEIAJ6BCACfgQgAoYEIAKSBCAClgQgArIEIAK2BCACwgQgAsoEIALSBCAC6gQgAv4EIAMCBCADFgQgAxoEIAMmBCADKgQgAzYEIAM6BCAA=",
          "dtype": "i4"
         },
         "xaxis": "x",
         "y": {
          "bdata": "AAAAAAAAKUCamZmZmdlRQAAAAAAAgGBAAAAAAAAAPkDNzMzMzMxDQGZmZmZm5jhAZmZmZmZmKkCamZmZmZkuQM3MzMzMzDNAAAAAAACANkDNzMzMzMxDQClcj8L1KBRAAAAAAAAALkAAAAAAAAAqQDMzMzMz8zBAMzMzMzMzD0AAAAAAAAApQGZmZmZmZhRAMzMzMzOzXUAAAAAAAAAuQM3MzMzMzDNAAAAAAACAVkAAAAAAAAAhQAAAAAAAcIdArkfhehSuZkAAAAAAAHB3QDMzMzMzMylAZmZmZmbmM0CamZmZmZlCQM3MzMzMzCNAAAAAAAAAIUABAAAAAPBpQAAAAAAAQG9AAAAAAACAPUAAAAAAAAA5QAAAAAAA4EBAAAAAAAAAPkAAAAAAAMiAQGZmZmZmZgRAPgrXo3C9Y0DWo3A9CtcbQClcj8L1KBRAZmZmZmZmN0BmZmZmZuZTQAAAAAAAQH9AhetRuB6FREAzMzMzMzMPQGZmZmZmZu4/AAAAAABgZkBmZmZmZmb+Pw==",
          "dtype": "f8"
         },
         "yaxis": "y"
        },
        {
         "hovertemplate": "Invoice Date=2011-06-21<br>Invoice Number=%{x}<br>Total Sales=%{y}<extra></extra>",
         "legendgroup": "2011-06-21",
         "marker": {
          "color": "#EF553B",
          "symbol": "circle"
         },
         "mode": "markers",
         "name": "2011-06-21",
         "showlegend": true,
         "type": "scattergl",
         "x": {
          "bdata": "04EIANSBCADWgQgA14EIANiBCADZgQgA+IEIAACCCAACgggAA4IIAASCCAAFgggACYIIAA+CCAAbgggAHoIIACGCCAAigggAI4IIACSCCAArgggALIIIAC6CCAAvgggAMIIIADGCCAAygggAM4IIADSCCAA2gggAN4IIADmCCAA6gggAPIIIAD6CCAA/gggAQIIIAEGCCABCgggAQ4IIAESCCABHgggAXoIIAA==",
          "dtype": "i4"
         },
         "xaxis": "x",
         "y": {
          "bdata": "KVyPwvUoNECamZmZmZkPQM3MzMzMzD9AzczMzMzMM0BmZmZmZmYqQHsUrkfhekVAAAAAAACAOUC4HoXrUbgyQOxRuB6F6xNA4XoUrkfhZECamZmZmZlOQEjhehSuR1FAAAAAAAAA9D9mZmZmZmYqQAAAAAAAADFApHA9CtejIEBmZmZmZmYkQM3MzMzMzDRANDMzMzOzMUAAAAAAAIApQPYoXI/C9TJAFK5H4XqUNEAAAAAAAKBEQM3MzMzMzDNANDMzMzOzMUAAAAAAALBSQM3MzMzMzDRAAAAAAACAOUAzMzMzMzMLQGZmZmZmZgpAMzMzMzMzG0AAAAAAAIAwQM3MzMzMzDdAmpmZmZmZF0DNzMzMzMw0QOxRuB6Fa15A9ihcj8L1KEAAAAAAAAAuQGZmZmZmZhpAZmZmZmZm/j9mZmZmZmYKQJqZmZmZmQdAAAAAAAAABEA=",
          "dtype": "f8"
         },
         "yaxis": "y"
        },
        {
         "hovertemplate": "Invoice Date=2011-06-22<br>Invoice Number=%{x}<br>Total Sales=%{y}<extra></extra>",
         "legendgroup": "2011-06-22",
         "marker": {
          "color": "#00cc96",
          "symbol": "circle"
         },
         "mode": "markers",
         "name": "2011-06-22",
         "showlegend": true,
         "type": "scattergl",
         "x": {
          "bdata": "Y4IIAGeCCABogggAaYIIAGqCCABsgggAcYIIAKeCCACogggAq4IIAK+CCACwgggAsYIIALKCCACzgggAtIIIALWCCAC2gggAt4IIALiCCAC5gggAu4IIAL2CCAC+gggAwIIIAMGCCADCgggAw4IIAMSCCADFgggAxoIIAMeCCADJgggAyoIIAMuCCADMgggAzoIIAM+CCADQgggA1YIIANaCCADXgggA2YIIANqCCADbgggA3IIIAN6CCADggggA4YIIAA==",
          "dtype": "i4"
         },
         "xaxis": "x",
         "y": {
          "bdata": "AAAAAAAAO0AAAAAAAAAuQDMzMzMzMylAAAAAAACAQEAVrkfhehRzQAAAAAAAACVAAAAAAABQZkDNzMzMzMwzQAAAAAAAACVANDMzMzNzVUCamZmZmZkwQAAAAAAAAC5AzczMzMzMI0CamZmZmZkeQGZmZmZmZkRAAAAAAAAA9D9cj8L1KFwbQAAAAAAAAClAzczMzMzML0A0MzMzM7M9QGZmZmZmZjRANDMzMzOzMUDhehSuR+HaP3E9CtejcCxAAAAAAADAUkBmZmZmZmYkQM3MzMzMzDRAMzMzMzMzG0BmZmZmZmY0QGZmZmZm5jNAmpmZmZlZUEBmZmZmZmYxQAAAAAAAgElAPgrXo3A9EkBmZmZmZuY4QGdmZmZmZhpANDMzMzOzMUAAAAAAAIBzQM3MzMzMzCNAAAAAAABASkAAAAAAAAAuQPYoXI/C9eg/AAAAAACAWUAAAAAAAIAgQGZmZmZmZvo/ZmZmZmZmBEDsUbgehWteQAAAAAAAYGdAzczMzMzME0A=",
          "dtype": "f8"
         },
         "yaxis": "y"
        },
        {
         "hovertemplate": "Invoice Date=2011-06-23<br>Invoice Number=%{x}<br>Total Sales=%{y}<extra></extra>",
         "legendgroup": "2011-06-23",
         "marker": {
          "color": "#ab63fa",
          "symbol": "circle"
         },
         "mode": "markers",
         "name": "2011-06-23",
         "showlegend": true,
         "type": "scattergl",
         "x": {
          "bdata": "4oIIAOOCCADkgggA5YIIAOaCCADngggA6IIIAOmCCADqgggA7IIIAO2CCAAWgwgAGIMIABmDCAAcgwgAHYMIAB6DCAAfgwgAIIMIACGDCAAigwgAI4MIACSDCAAlgwgAKIMIAC2DCAAugwgAL4MIADGDCAAzgwgANYMIADaDCAA5gwgAPIMIAD6DCAA/gwgAQIMIAEODCABEgwgARYMIAEaDCABIgwgASYMIAEqDCABMgwgAbYMIAG+DCAB0gwgAdoMIAHyDCAB9gwgAfoMIAH+DCACAgwgAgYMIAIKDCACDgwgAhIMIAIWDCACGgwgAh4MIAIiDCAA=",
          "dtype": "i4"
         },
         "xaxis": "x",
         "y": {
          "bdata": "4XoUrkfhGkDNzMzMzMxvQAAAAAAAAGFAzczMzMzMN0A0MzMzMzM5QNejcD0KVzFAzczMzMzMH0BmZmZmZmYxQJqZmZmZ2TFAZmZmZmZmNEAAAAAAAIAwQAAAAAAAACRANDMzMzOzPUCamZmZmdkxQGZmZmZmZjdANDMzMzMzVkAAAAAAAIAwQGZmZmZmZv4/7FG4HoXrQ0BmZmZmZmYhQM3MzMzMzB9AAAAAAACAMEDNzMzMzMw/QDQzMzMzszFAZmZmZmZmKkAzMzMzMzP/PwAAAAAAgDlAAAAAAAAAJ0AzMzMzM7MtQM3MzMzMzDRAAAAAAACAMEAAAAAAAAAlQAAAAAAAAD5AAAAAAAAAMUCamZmZmZknQM3MzMzMzBtAzczMzMzMI0AAAAAAAAAuQM3MzMzMzB9AzczMzMzMQ0BmZmZmZmYkQAAAAAAAAARAZmZmZmZmKkDNzMzMzMwzQAAAAAAAACVAZmZmZmZmN0A0MzMzM7NBQAAAAAAAYGZAzczMzMzML0AAAAAAAAAuQM3MzMzMzDNAAAAAAACASUDNzMzMzMw0QM3MzMzMzCNA7FG4HoXrI0DNzMzMzMwjQAAAAAAAAD5ApHA9CtejEEDMzMzMzMwTQAAAAAAAACRAMzMzMzMz9z8AAAAAAAARQA==",
          "dtype": "f8"
         },
         "yaxis": "y"
        },
        {
         "hovertemplate": "Invoice Date=2011-06-24<br>Invoice Number=%{x}<br>Total Sales=%{y}<extra></extra>",
         "legendgroup": "2011-06-24",
         "marker": {
          "color": "#FFA15A",
          "symbol": "circle"
         },
         "mode": "markers",
         "name": "2011-06-24",
         "showlegend": true,
         "type": "scattergl",
         "x": {
          "bdata": "iYMIAIqDCACLgwgAjIMIAI6DCACPgwgAkIMIAJGDCACSgwgAlYMIAJaDCACXgwgAmIMIAKuDCAC2gwgAy4MIAMyDCADOgwgAz4MIANODCADWgwgA14MIANiDCADagwgA24MIANyDCADhgwgA5YMIAOaDCADogwgA6YMIAOqDCADugwgA74MIAPGDCAD2gwgA+YMIAPqDCAD7gwgA/IMIAA==",
          "dtype": "i4"
         },
         "xaxis": "x",
         "y": {
          "bdata": "AAAAAAAAOUAAAAAAAABeQAAAAAAAAC5AmpmZmZmZN0CamZmZmZlOQGZmZmZmZkRAAAAAAAAAMUAAAAAAAABSQAAAAAAAAClAZmZmZmZmJECamZmZmZlOQJqZmZmZmS9AMzMzMzMz+z9mZmZmZmYEQGZmZmZm9l1AzczMzMzMMEAAAAAAAAAuQArXo3A9CjtAMzMzMzPzMEAAAAAAAAAuQM3MzMzMzD9AzczMzMzMM0AK16NwPQoHQJqZmZmZmS5AzczMzMzMQ0AzMzMzM/NAQGZmZmZmZu4/zczMzMzML0DNzMzMzMwjQGZmZmZmZiRAZmZmZmbmM0AAAAAAAAAuQPYoXI/C9VhAZmZmZmZmN0AAAAAAACBDQGZmZmZmZjRAMzMzMzOzLUAAAAAAACBiQGZmZmZm5lNApHA9CtejAEA=",
          "dtype": "f8"
         },
         "yaxis": "y"
        },
        {
         "hovertemplate": "Invoice Date=2011-06-26<br>Invoice Number=%{x}<br>Total Sales=%{y}<extra></extra>",
         "legendgroup": "2011-06-26",
         "marker": {
          "color": "#19d3f3",
          "symbol": "circle"
         },
         "mode": "markers",
         "name": "2011-06-26",
         "showlegend": true,
         "type": "scattergl",
         "x": {
          "bdata": "/YMIAP6DCAD/gwgAA4QIAASECAAFhAgABoQIAAeECAAKhAgADIQIAA2ECAAOhAgAEIQIABKECAAThAgAFIQIABWECAAWhAgAF4QIABiECAAZhAgAG4QIAB+ECAA=",
          "dtype": "i4"
         },
         "xaxis": "x",
         "y": {
          "bdata": "1qNwPQrXK0A0MzMzM7NBQGZmZmZm5kNAAAAAAAAANUBmZmZmZmYkQAAAAAAAADFAMzMzMzMzD0AAAAAAAAAOQJqZmZmZ+VNAAAAAAABAX0AAAAAAAAAeQAAAAAAAABFAZmZmZmbmL0DNzMzMzMwvQAAAAAAAgEBAH4XrUbgeN0CamZmZmZknQAAAAAAAAARAzczMzMzMR0AzMzMzM/MwQDMzMzMzMw9A9ihcj8L1GEBmZmZmZmYUQA==",
          "dtype": "f8"
         },
         "yaxis": "y"
        },
        {
         "hovertemplate": "Invoice Date=2011-06-27<br>Invoice Number=%{x}<br>Total Sales=%{y}<extra></extra>",
         "legendgroup": "2011-06-27",
         "marker": {
          "color": "#FF6692",
          "symbol": "circle"
         },
         "mode": "markers",
         "name": "2011-06-27",
         "showlegend": true,
         "type": "scattergl",
         "x": {
          "bdata": "I4QIACmECAAqhAgAK4QIAC2ECAAuhAgAL4QIAE+ECABlhAgAZoQIAGeECABvhAgAcIQIAHGECAByhAgAc4QIAHSECAB1hAgAdoQIAHeECAB4hAgAeYQIAHuECAB8hAgAmIQIAJmECACahAgAm4QIAJ2ECAChhAgAp4QIAKiECAA=",
          "dtype": "i4"
         },
         "xaxis": "x",
         "y": {
          "bdata": "AAAAAACANkAAAAAAAAA+QOxRuB6Fa05AAAAAAACASUDNzMzMzMxTQGZmZmZmZlRAzczMzMxseUAAAAAAAAD0P83MzMzMzF9AzczMzMzMX0DNzMzMzMwnQAAAAAAAgCBAAAAAAADAZUAAAAAAAABOQDMzMzMzM+s/AAAAAACAMEAAAAAAAAAEQLgehetRuCJAKVyPwvUoFEBmZmZmZuYzQGZmZmZm5iNAZmZmZmZmYUAqXI/C9WhmQDQzMzMzszFAAAAAAAAAJUAAAAAAAAAuQM3MzMzMzEZAzczMzMzMREBmZmZmZmb+PwAAAAAAgElAzczMzMzMEEDhehSuR+EaQA==",
          "dtype": "f8"
         },
         "yaxis": "y"
        },
        {
         "hovertemplate": "Invoice Date=2011-06-28<br>Invoice Number=%{x}<br>Total Sales=%{y}<extra></extra>",
         "legendgroup": "2011-06-28",
         "marker": {
          "color": "#B6E880",
          "symbol": "circle"
         },
         "mode": "markers",
         "name": "2011-06-28",
         "showlegend": true,
         "type": "scattergl",
         "x": {
          "bdata": "s4QIALSECAC1hAgAuIQIALmECAC/hAgAxIQIANWECADWhAgA14QIAOaECADqhAgA64QIAO2ECAD1hAgA+IQIAPqECAD7hAgA/IQIAP2ECAD/hAgAAIUIAAKFCAADhQgABYUIAAyFCAAOhQgAD4UIABCFCAARhQgAE4UIABSFCAAWhQgAGoUIABuFCAAdhQgAHoUIAB+FCAAghQgAIoUIACSFCAAnhQgAKIUIAC2FCAAuhQgA",
          "dtype": "i4"
         },
         "xaxis": "x",
         "y": {
          "bdata": "AAAAAACAOUDNzMzMzMxEQClcj8L1KCRAAAAAAACANkAAAAAAAIApQM3MzMzMzFNANDMzMzMzT0DNzMzMzMwzQDMzMzMzs21AMzMzMzMzL0AVrkfhehRzQJqZmZmZWWxAmpmZmZmZLkDNzMzMzMwkQAAAAAAAgElAzczMzMzMJEAAAAAAAAAhQHE9CtejcGlAZmZmZmbmQ0AAAAAAAEB/QAAAAAAAAC5AmpmZmZmZP0AAAAAAAAA+QDMzMzMzMxdAMzMzMzMzKUDNzMzMzMwzQJqZmZmZmU5AmpmZmZnZQUAAAAAAAOBaQAAAAAAAAFtAzczMzMzML0AAAAAAAAAuQClcj8L1KBRAAAAAAADAdUCamZmZmZleQAAAAAAAQG9A7FG4HoXrf0ApXI/C9SgkQM3MzMzMzC9AZmZmZmZmFEDNzMzMzMwvQOxRuB6F6yNAZmZmZmZmKkAAAAAAAMCCQAAAAAAAgDlA",
          "dtype": "f8"
         },
         "yaxis": "y"
        },
        {
         "hovertemplate": "Invoice Date=2011-06-29<br>Invoice Number=%{x}<br>Total Sales=%{y}<extra></extra>",
         "legendgroup": "2011-06-29",
         "marker": {
          "color": "#FF97FF",
          "symbol": "circle"
         },
         "mode": "markers",
         "name": "2011-06-29",
         "showlegend": true,
         "type": "scattergl",
         "x": {
          "bdata": "L4UIADCFCAAxhQgAMoUIADOFCAA1hQgANoUIAFCFCABShQgAU4UIAFSFCABVhQgAXoUIAGCFCABjhQgAZYUIAGiFCABphQgAaoUIAGuFCABvhQgAdIUIAHaFCAB3hQgAeIUIAHqFCAB7hQgAfIUIAH2FCAB+hQgAg4UIAIaFCACIhQgAiYUIAIqFCACOhQgAj4UIAA==",
          "dtype": "i4"
         },
         "xaxis": "x",
         "y": {
          "bdata": "zczMzMzMQ0AAAAAAAABOQJqZmZmZmU5AAAAAAAAAIUBxPQrXo3BZQDMzMzMzMxtAzczMzMzMQ0DNzMzMzMwjQAAAAAAAAC5AAAAAAACALUDMzMzMzMwTQDQzMzMzszFAAAAAAACAOUDNzMzMzMxDQAAAAAAAAC5AZmZmZmbmI0BmZmZmZuYzQOF6FK5H4do/AAAAAAAADkDsUbgeheszQM3MzMzMzCNAMzMzMzMzG0AzMzMzMzMvQDQzMzMzszFAAAAAAACANkDNzMzMzMwTQGZmZmZmZgpAAAAAAAAAMUDMzMzMzMwTQGZmZmZmZlRAAAAAAADASEBmZmZmZrZSQAAAAAAAwGtAZmZmZmbmYEAAAAAAAIBpQAAAAAAAAB5AzczMzMzsR0A=",
          "dtype": "f8"
         },
         "yaxis": "y"
        },
        {
         "hovertemplate": "Invoice Date=2011-06-30<br>Invoice Number=%{x}<br>Total Sales=%{y}<extra></extra>",
         "legendgroup": "2011-06-30",
         "marker": {
          "color": "#FECB52",
          "symbol": "circle"
         },
         "mode": "markers",
         "name": "2011-06-30",
         "showlegend": true,
         "type": "scattergl",
         "x": {
          "bdata": "kIUIAJGFCACShQgAk4UIAJSFCAClhQgAu4UIALyFCAC+hQgAv4UIAMCFCADBhQgAxIUIAMWFCADGhQgAx4UIAMqFCADLhQgAzIUIAM6FCADYhQgA2oUIANuFCADchQgA3YUIAN6FCADghQgA4YUIAOKFCADjhQgA5IUIAOWFCADnhQgA6IUIAOqFCADrhQgA7IUIAO2FCADuhQgAE4YIABSGCAAYhggAG4YIAByGCAAdhggAHoYIACCGCAAhhggAI4YIACWGCAAmhggAJ4YIACiGCAAphggAKoYIACuGCAAshggALYYIAA==",
          "dtype": "i4"
         },
         "xaxis": "x",
         "y": {
          "bdata": "NDMzMzOzMUCamZmZmdlHQGZmZmZmZipACtejcD0KO0A0MzMzM7MxQJqZmZmZmTBAPgrXo3Bti0CamZmZmZknQAAAAAAA6J1AZmZmZmZm+j8AAAAAAGCJQDMzMzMzMzdANDMzMzOzIUA0MzMzM7MxQAAAAAAAAC5AzczMzMzMJ0BmZmZmZmYUQAAAAAAAAClAAAAAAACARkCamZmZmZknQAAAAAAA4GVAzczMzMysokAAAAAAAAAEQM3MzMzMzCNAMzMzMzPzVkBmZmZmZmYhQM3MzMzMzBdAAAAAAAAAQUAAAAAAAIAwQDQzMzMzs0FA9ihcj8L1KEDNzMzMzMwTQGZmZmZmZiFAzczMzMzMQ0BmZmZmZmYEQGZmZmZmZjdAAAAAAACAMEAAAAAAAAA+QGZmZmZm5khAZmZmZmZmNEAVrkfhehSDQAAAAAAAAClAmpmZmZmZLkDNzMzMzMwnQAAAAAAAACFAAAAAAAAALkAAAAAAAAAxQOxRuB6F6yNAAAAAAAAA9D8AAAAAAAAuQM3MzMzMzCRA7FG4HoXrI0DsUbgehesjQDQzMzMzs0FAAAAAAAAAMUBmZmZmZmbuPwAAAAAAwDhAKVyPwvUoFEA=",
          "dtype": "f8"
         },
         "yaxis": "y"
        },
        {
         "hovertemplate": "Invoice Date=2011-07-01<br>Invoice Number=%{x}<br>Total Sales=%{y}<extra></extra>",
         "legendgroup": "2011-07-01",
         "marker": {
          "color": "#636efa",
          "symbol": "circle"
         },
         "mode": "markers",
         "name": "2011-07-01",
         "showlegend": true,
         "type": "scattergl",
         "x": {
          "bdata": "LoYIADGGCAAyhggAM4YIADeGCAA9hggAT4YIAFeGCABdhggAXoYIAGiGCABshggAbYYIAG6GCABvhggAcIYIAHGGCAByhggAc4YIAHSGCAB1hggAdoYIAHeGCAB5hggAeoYIAH6GCAB/hggAgYYIAImGCACLhggAjoYIAJGGCACShggAlIYIAJqGCAA=",
          "dtype": "i4"
         },
         "xaxis": "x",
         "y": {
          "bdata": "ZmZmZmZmKkBmZmZmZmY3QAAAAAAAAClAAAAAAAAAKUAAAAAAAIAwQGZmZmZmZjFAZmZmZmZmVEA0MzMzMzMZQPYoXI/C9ThAzczMzMzMNEBmZmZmZuYhQGZmZmZmZvo/ZmZmZmZm7j8AAAAAAAACQGZmZmZmZiRAzczMzMzMM0CkcD0K16MAQAAAAAAAAF5ApHA9CtejAEBmZmZmZmb6P5qZmZmZmQdAmpmZmZmZEEBSuB6F61HIP+J6FK5H4QpASOF6FK5HIUA0MzMzM7MxQGdmZmZmZhpAAAAAAACAIEAAAAAAAIBGQAAAAAAAACFAAAAAAACAI0CamZmZmZkHQGZmZmZmZiRAZmZmZmZm7j/NzMzMzMwjQA==",
          "dtype": "f8"
         },
         "yaxis": "y"
        },
        {
         "hovertemplate": "Invoice Date=2011-07-03<br>Invoice Number=%{x}<br>Total Sales=%{y}<extra></extra>",
         "legendgroup": "2011-07-03",
         "marker": {
          "color": "#EF553B",
          "symbol": "circle"
         },
         "mode": "markers",
         "name": "2011-07-03",
         "showlegend": true,
         "type": "scattergl",
         "x": {
          "bdata": "m4YIAJyGCACdhggAnoYIAJ+GCACghggAooYIAKOGCACkhggApYYIAKaGCACnhggAqIYIAKmGCACqhggAq4YIAK2GCACuhggAr4YIALCGCACxhggAsoYIALOGCAC0hggAtYYIAA==",
          "dtype": "i4"
         },
         "xaxis": "x",
         "y": {
          "bdata": "ZmZmZmbmZUAAAAAAAAAtQPYoXI/C9QJAMzMzMzOzLUAAAAAAAIAtQPYoXI/C9RhANDMzMzOzMUAAAAAAAAApQM3MzMzMzERAKVyPwvUoFEAfhetRuB4nQAAAAAAAAD5AAAAAAAAAKUBmZmZmZmbuPwAAAAAAQG9AAAAAAACAKUBmZmZmZmbuP5qZmZmZ2TFAAAAAAACALUDNzMzMzMwTQFyPwvUoXCtAmpmZmZmZ8T+amZmZmZkXQDQzMzMzsz1AzczMzMzMH0A=",
          "dtype": "f8"
         },
         "yaxis": "y"
        },
        {
         "hovertemplate": "Invoice Date=2011-07-04<br>Invoice Number=%{x}<br>Total Sales=%{y}<extra></extra>",
         "legendgroup": "2011-07-04",
         "marker": {
          "color": "#00cc96",
          "symbol": "circle"
         },
         "mode": "markers",
         "name": "2011-07-04",
         "showlegend": true,
         "type": "scattergl",
         "x": {
          "bdata": "t4YIALiGCAC6hggAu4YIANyGCADehggADIcIAA2HCAAOhwgAD4cIABOHCAAUhwgAFocIABiHCAAZhwgAG4cIAByHCAAdhwgAHocIAB+HCAAghwgAJYcIACaHCAAnhwgAKIcIACuHCAAshwgALYcIAC6HCAA0hwgANocIADqHCAA=",
          "dtype": "i4"
         },
         "xaxis": "x",
         "y": {
          "bdata": "AAAAAACgjEAAAAAAAKCMQAAAAAAAgDBAAAAAAAAAPkBmZmZmZuZNQAAAAAAAAC5AZmZmZmZm7j9mZmZmZmYxQAAAAAAAgDBAZmZmZmZm7j/NzMzMzMwfQGZmZmZmZldAAAAAAACQgkAAAAAAACBDQDQzMzMzMzlAAAAAAAAADkAAAAAAAMA4QAAAAAAAwDJAZmZmZmbmKEAAAAAAAIA9QAAAAAAAgElAzczMzMzMP0DNzMzMzMwzQAAAAAAAAC5AKVyPwvUoFEA0MzMzM7NBQAAAAAAAACVAKVyPwvUoJECamZmZmVlQQAAAAAAAIENAAAAAAAAALkDMzMzMzMwTQA==",
          "dtype": "f8"
         },
         "yaxis": "y"
        },
        {
         "hovertemplate": "Invoice Date=2011-07-05<br>Invoice Number=%{x}<br>Total Sales=%{y}<extra></extra>",
         "legendgroup": "2011-07-05",
         "marker": {
          "color": "#ab63fa",
          "symbol": "circle"
         },
         "mode": "markers",
         "name": "2011-07-05",
         "showlegend": true,
         "type": "scattergl",
         "x": {
          "bdata": "PIcIAD2HCAA+hwgAP4cIAECHCABEhwgARYcIAEaHCABHhwgASIcIAEmHCABKhwgAS4cIAEyHCABNhwgATocIAE+HCABVhwgAb4cIAHOHCAB0hwgAeocIAI6HCACPhwgAkIcIAJGHCACShwgAk4cIAJSHCACXhwgAmIcIAJmHCACahwgAnYcIAJ6HCAChhwgAo4cIAKWHCACmhwgAp4cIAKiHCACphwgAqocIAKyHCACthwgAr4cIALCHCACxhwgAsocIALOHCAC0hwgAtYcIALiHCAC6hwgAu4cIAMSHCADFhwgAxocIAMeHCADIhwgAyocIAA==",
          "dtype": "i4"
         },
         "xaxis": "x",
         "y": {
          "bdata": "AAAAAAAALkBnZmZmZuZSQAAAAAAAUGlAAAAAAAAALkAAAAAAAEA/QDQzMzMzMzlAZ2ZmZmY2ikA0MzMzM7MxQM3MzMzMzC9AZmZmZmbmOEDNzMzMzMw0QM3MzMzMzC9AzczMzMzMQ0CamZmZmflDQGZmZmZmZjFAzczMzMzMI0AAAAAAAIAwQGZmZmZmZkdAAAAAAADASEBmZmZmZmZRQAAAAAAAAD5ANDMzMzOzPUAAAAAAAAAuQGZmZmZmZvo/AAAAAAAAMkAAAAAAAAAuQArXo3A9CjtAAAAAAAAAPkD2KFyPwvUoQGZmZmZmZjRAAAAAAADATUAAAAAAAIAwQAAAAAAAAEJASOF6FK5HNEBmZmZmZmYkQDMzMzMzM19AzczMzMzML0AAAAAAAAB7QGZmZmZmZjRAZmZmZmZmVEDNzMzMzMwzQDMzMzMz81VAAAAAAAAAS0AAAAAAAAApQGZmZmZmZlRAAAAAAAAATkCamZmZmZkuQM3MzMzMzDRAAAAAAADAUkDsUbgehWtOQAAAAAAAAC5A7FG4HoXrI0AAAAAAAGBmQJqZmZmZmTBAAAAAAAAALkAAAAAAADBxQDQzMzMzs0FAzczMzMzML0AAAAAAAACLQAAAAAAAAFhAAAAAAACAWUA=",
          "dtype": "f8"
         },
         "yaxis": "y"
        },
        {
         "hovertemplate": "Invoice Date=2011-07-06<br>Invoice Number=%{x}<br>Total Sales=%{y}<extra></extra>",
         "legendgroup": "2011-07-06",
         "marker": {
          "color": "#FFA15A",
          "symbol": "circle"
         },
         "mode": "markers",
         "name": "2011-07-06",
         "showlegend": true,
         "type": "scattergl",
         "x": {
          "bdata": "0IcIANGHCADUhwgA1YcIANaHCADXhwgA2IcIANyHCADehwgA84cIAPSHCAD3hwgA+IcIAPmHCAD6hwgAAogIAAOICAAEiAgABYgIAAaICAAHiAgACIgIAAmICAAQiAgAEYgIABKICAATiAgAFIgIABWICAAWiAgAF4gIABiICAAZiAgAGogIABuICAAciAgAHYgIACGICAAiiAgAI4gIACWICAAmiAgAJ4gIACiICAAqiAgALogIAC+ICAAwiAgAMYgIADKICAAziAgANIgIADWICAA2iAgAOIgIADyICAA9iAgAP4gIAECICABBiAgAQogIAA==",
          "dtype": "i4"
         },
         "xaxis": "x",
         "y": {
          "bdata": "AAAAAACAMEAAAAAAAAAlQDQzMzMzMz9AAAAAAAAADkC4HoXrUbgyQM3MzMzMzCNAAAAAAAAAUUDNzMzMzMwTQDQzMzMzszFAAAAAAABQZkAAAAAAAAAuQAAAAAAAgDBAKlyPwvUobUApXI/C9SgkQLgehetROGRAzczMzMzMH0AAAAAAAIAgQBWuR+F6FFNAzczMzMzMG0AAAAAAAJCCQJqZmZmZmT5AZmZmZmbmM0AAAAAAAEBVQM3MzMzMzDRAAAAAAAAALkCamZmZmZkuQDMzMzMzM/8/zczMzMzMJECamZmZmZkwQAAAAAAAAC1AMzMzMzMzYkDNzMzMzMwfQJqZmZmZmS9AZmZmZmbmZUAAAAAAAAAeQGZmZmZmZjdAZmZmZmbmI0DNzMzMzMwUQLgehetRuBJAAAAAAACAT0AAAAAAAGBmQAAAAAAAgEZAAAAAAACAKUAzMzMzMzMbQM3MzMzMzDNANDMzMzOzMUAAAAAAACBjQM3MzMzMzCNA7FG4HoXrM0AAAAAAAAAZQClcj8L1KBRAZmZmZmbmOEAzMzMzMzMbQAAAAAAAYGZAMzMzMzMzL0AAAAAAACBzQAAAAAAAADRApHA9CtejEEDNzMzMzMz0Pz4K16NwPRJAZmZmZmZmGkA=",
          "dtype": "f8"
         },
         "yaxis": "y"
        },
        {
         "hovertemplate": "Invoice Date=2011-07-07<br>Invoice Number=%{x}<br>Total Sales=%{y}<extra></extra>",
         "legendgroup": "2011-07-07",
         "marker": {
          "color": "#19d3f3",
          "symbol": "circle"
         },
         "mode": "markers",
         "name": "2011-07-07",
         "showlegend": true,
         "type": "scattergl",
         "x": {
          "bdata": "Q4gIAESICABGiAgAUYgIAF+ICABgiAgAYYgIAGKICABjiAgAZIgIAGWICABmiAgAhYgIAJaICACXiAgAmIgIALmICAC9iAgAwYgIAMOICADFiAgAxogIAMmICADKiAgAy4gIAMyICADOiAgAz4gIANCICADRiAgA04gIANWICADWiAgA14gIANiICADZiAgA2ogIANuICADciAgA3YgIAN6ICADfiAgA4IgIAOGICADiiAgA44gIAOSICADliAgA6IgIAOuICADsiAgA7YgIAO6ICADviAgA8ogIAPWICAD2iAgA+IgIAPmICAD6iAgA+4gIAPyICAD9iAgA/ogIAP+ICAAAiQgAAYkIAA==",
          "dtype": "i4"
         },
         "xaxis": "x",
         "y": {
          "bdata": "AAAAAAAAIUCamZmZmVlQQAAAAAAAAC5AzczMzMzMM0DXo3A9CldBQM3MzMzMzCNAAAAAAAAALkAAAAAAAAAhQAEAAAAA8IlAFK5H4XoUY0BxPQrXo3BMQAAAAAAAAC5AAAAAAAAAXkAK16NwPQpLQAAAAAAAAGhAMzMzMzMzL0AAAAAAAAAlQGZmZmZmZvo/AAAAAAAALkBmZmZmZmYqQM3MzMzMzC9AMzMzMzMz+z9mZmZmZmb+PwAAAAAAACtAZmZmZmZmF0BmZmZmZmYkQAAAAAAAAD5AAAAAAAAANUDNzMzMzMwvQAAAAAAAgDBAAAAAAAAALkAAAAAAAIAgQGZmZmZmZu4/KVyPwvUoJEA0MzMzM7MxQAAAAAAA4E9AAAAAAADIgEAAAAAAAIBZQAAAAAAAAEJAAAAAAACAMEBmZmZmZmYkQM3MzMzMzCNA4XoUrkfhREA+CtejcD0SQOF6FK5H4TFA7FG4HoXrM0AAAAAAAOBQQArXo3A9CidAZmZmZmZmBEAAAAAAAMBSQM3MzMzMzC9AzczMzMzMQ0DD9ShcjwJKQAAAAAAAABFAzczMzMzMMEDNzMzMzMwvQAAAAAAAgDBAZmZmZmbmM0AAAAAAAOBPQM3MzMzMzC9AZmZmZmbmLUCamZmZmdkxQHE9CtejcFlA1qNwPQrXK0AAAAAAAAA6QGZmZmZm5jNAZmZmZmZm7j8=",
          "dtype": "f8"
         },
         "yaxis": "y"
        },
        {
         "hovertemplate": "Invoice Date=2011-07-08<br>Invoice Number=%{x}<br>Total Sales=%{y}<extra></extra>",
         "legendgroup": "2011-07-08",
         "marker": {
          "color": "#FF6692",
          "symbol": "circle"
         },
         "mode": "markers",
         "name": "2011-07-08",
         "showlegend": true,
         "type": "scattergl",
         "x": {
          "bdata": "A4kIAASJCAAGiQgAB4kIAAiJCAAJiQgACokIAAuJCAApiQgAO4kIADyJCABAiQgATIkIAF+JCABgiQgAYYkIAGKJCABjiQgAZIkIAGaJCABniQgAaIkIAGmJCABqiQgAbYkIAG+JCABwiQgAdYkIAJCJCACRiQgAk4kIAJSJCACViQgAlokIAJeJCACYiQgAmYkIAJyJCACfiQgAo4kIAA==",
          "dtype": "i4"
         },
         "xaxis": "x",
         "y": {
          "bdata": "MzMzMzOzLUDNzMzMzMxEQJqZmZmZmS5AZmZmZmbmM0AAAAAAAIAwQDQzMzMzszFAKVyPwvUoFEAzMzMzM7MtQAAAAAAAgDlAAAAAAADAdUAAAAAAAIA2QJqZmZmZmTdApHA9CtejIUDWo3A9CtcbQGZmZmZmZjFAAAAAAADgUEAzMzMzM/MzQAAAAAAAYGZA1qNwPQrXG0AAAAAAAABBQAAAAAAAACFAFK5H4XoULECamZmZmZk3QGZmZmZmZv4/zczMzMzMNEDNzMzMzMxTQM3MzMzMzB9AzczMzMzMNEBmZmZmZmYeQDQzMzMzs0FAZmZmZmZmCkDNzMzMzMwXQAAAAAAAAOg/mpmZmZmZLkD2KFyPwvUCQNajcD0K1xtAzczMzMzMI0DXo3A9CldkQAAAAAAAMGtAmpmZmZmZJ0A=",
          "dtype": "f8"
         },
         "yaxis": "y"
        },
        {
         "hovertemplate": "Invoice Date=2011-07-10<br>Invoice Number=%{x}<br>Total Sales=%{y}<extra></extra>",
         "legendgroup": "2011-07-10",
         "marker": {
          "color": "#B6E880",
          "symbol": "circle"
         },
         "mode": "markers",
         "name": "2011-07-10",
         "showlegend": true,
         "type": "scattergl",
         "x": {
          "bdata": "pIkIAKWJCACmiQgAp4kIAKiJCACpiQgArIkIAK+JCACwiQgAsYkIALKJCACziQgAtYkIALaJCAC3iQgAuIkIALmJCAC6iQgAu4kIALyJCAC9iQgAvokIAL+JCADAiQgA",
          "dtype": "i4"
         },
         "xaxis": "x",
         "y": {
          "bdata": "AAAAAACARkA0MzMzM7MxQAAAAAAAgCBAmpmZmZmZIEBmZmZmZmY0QAAAAAAAgCZAZmZmZmZm7j+amZmZmZkHQClcj8L1KBRAZmZmZmbmKEAzMzMzMzMHQGZmZmZm5ixAmpmZmZkZSkDsUbgehesDQKRwPQrXowBA9ihcj8L12D8AAAAAAIAzQAAAAAAAAE5AzczMzMzMBkCkcD0K16MgQAAAAAAAAB5ANDMzMzOzMUAAAAAAAMAzQJqZmZmZmQdA",
          "dtype": "f8"
         },
         "yaxis": "y"
        },
        {
         "hovertemplate": "Invoice Date=2011-07-11<br>Invoice Number=%{x}<br>Total Sales=%{y}<extra></extra>",
         "legendgroup": "2011-07-11",
         "marker": {
          "color": "#FF97FF",
          "symbol": "circle"
         },
         "mode": "markers",
         "name": "2011-07-11",
         "showlegend": true,
         "type": "scattergl",
         "x": {
          "bdata": "wYkIAMKJCADDiQgAxIkIAPWJCAD2iQgA+YkIAA2KCAAUiggAFYoIABaKCAAXiggAGIoIABmKCAAkiggAJYoIACaKCAAoiggAKYoIACqKCAAsiggALYoIAC6KCAA0iggANYoIADeKCAA4iggAOYoIADqKCAA8iggAPYoIAD6KCAA/iggAQooIAESKCABGiggAR4oIAEiKCABKiggAS4oIAFCKCABRiggAUooIAA==",
          "dtype": "i4"
         },
         "xaxis": "x",
         "y": {
          "bdata": "AAAAAAAAMUAAAAAAAIBZQEjhehSuRzFA16NwPQpXQUAAAAAAAABRQOF6FK5H4do/mpmZmZkZSkAAAAAAAAD0PzMzMzMzsy1AAAAAAACAgEDsUbgehetZQJqZmZmZmTdAZmZmZmZmVEAzMzMzMzM/QM3MzMzMzCZAZmZmZmZm7j/sUbgeheszQDQzMzMzs0FA1qNwPQrXG0AAAAAAAAA+QAAAAAAAgD9ANDMzMzOzQUAAAAAAAAAuQDQzMzMzszFAzczMzMzML0AAAAAAAAApQAAAAAAAgClAAAAAAADgUEBI4XoUrkc0QDQzMzMzs01AAAAAAAAALkAAAAAAAAApQEjhehSuR0RAAAAAAAAAPkDNzMzMzMxDQJqZmZmZmQdAmpmZmZmZB0AzMzMzMzMXQGZmZmZmZlFANDMzMzMzOUDMzMzMzMwTQKRwPQrXowBAZmZmZmZmDkA=",
          "dtype": "f8"
         },
         "yaxis": "y"
        },
        {
         "hovertemplate": "Invoice Date=2011-07-12<br>Invoice Number=%{x}<br>Total Sales=%{y}<extra></extra>",
         "legendgroup": "2011-07-12",
         "marker": {
          "color": "#FECB52",
          "symbol": "circle"
         },
         "mode": "markers",
         "name": "2011-07-12",
         "showlegend": true,
         "type": "scattergl",
         "x": {
          "bdata": "VIoIAFWKCABWiggAV4oIAFqKCABciggAXYoIAF+KCABjiggAdYoIAIGKCACCiggAh4oIAJiKCACeiggAp4oIAKiKCACuiggAr4oIALGKCACyiggAs4oIALyKCAC+iggAv4oIAMGKCADCiggAw4oIAMSKCADFiggAxooIAMeKCADKiggAzYoIAM6KCADPiggA0IoIAA==",
          "dtype": "i4"
         },
         "xaxis": "x",
         "y": {
          "bdata": "ZmZmZmZmZEBmZmZmZmaUQGZmZmZm5nVAAAAAAABAYEAAAAAAAAAxQJqZmZmZ2TFAZ2ZmZmbmckAzMzMzMzMvQAAAAAAAAC5ANDMzMzOzMUDNzMzMzIw6QGZmZmZmZv4/AAAAAACAMECamZmZmdlRQAAAAAAAAB5AZmZmZmZmMUAzMzMzM3NYQJqZmZmZmW5AZmZmZmZmVEDiehSuR2E4QM3MzMzMzDRAAAAAAAAALkApXI/C9SgUQDQzMzMzs1FAMzMzMzMz6z/NzMzMzMwTQGZmZmZmZjFAzczMzMzMM0CamZmZmZkQQM3MzMzMzDNAAAAAAACAMEAAAAAAAMB1QAAAAAAAADFANDMzMzOzTUAAAAAAAIApQM3MzMzMzDNAZmZmZmZmFEA=",
          "dtype": "f8"
         },
         "yaxis": "y"
        },
        {
         "hovertemplate": "Invoice Date=2011-07-13<br>Invoice Number=%{x}<br>Total Sales=%{y}<extra></extra>",
         "legendgroup": "2011-07-13",
         "marker": {
          "color": "#636efa",
          "symbol": "circle"
         },
         "mode": "markers",
         "name": "2011-07-13",
         "showlegend": true,
         "type": "scattergl",
         "x": {
          "bdata": "0ooIANOKCADUiggA14oIANuKCADciggA9YoIAPeKCAD4iggA+YoIAPqKCAAAiwgABIsIAAWLCAAGiwgAB4sIAAmLCAALiwgADIsIAA2LCAAOiwgAD4sIABCLCAAViwgAFosIABeLCAAYiwgAGYsIABqLCAAciwgAHYsIAB6LCAAfiwgAIIsIACGLCAAiiwgAJYsIACaLCAAniwgAKIsIACmLCAAsiwgALosIADGLCAAyiwgANYsIADaLCAA3iwgA",
          "dtype": "i4"
         },
         "xaxis": "x",
         "y": {
          "bdata": "AAAAAAAgQ0D2KFyPwvU4QJqZmZmZmR9AzczMzMzMNEAAAAAAAAAuQJqZmZmZmTdAAAAAAAAAIUAAAAAAAIApQAAAAAAAACFAAAAAAAAAMUCamZmZmZkwQAAAAAAAAC5ApHA9CtejEEBmZmZmZuZDQM3MzMzMzB9AZmZmZmZmFEBmZmZmZuYjQAAAAAAAAC5AzczMzMzMREDNzMzMzMwzQDQzMzMzszFAzczMzMzMF0BI4XoUrkdEQAAAAAAAQGVA9ihcj8L16D8AAAAAAAAhQJqZmZmZ2T1AAAAAAAAALkDNzMzMzMwGQGZmZmZmZmFAAAAAAACAIEDsUbgehesTQGZmZmZmZiRAzczMzMzMM0DNzMzMzMwgQAAAAAAAAC5AAAAAAAAAMUDNzMzMzMwzQJqZmZmZmT5ACtejcD0KK0BmZmZmZmYhQDMzMzMzMylAZmZmZmZmJEAAAAAAAAAhQDMzMzMzMy9AzczMzMzML0DNzMzMzMwzQMzMzMzMDFNA",
          "dtype": "f8"
         },
         "yaxis": "y"
        },
        {
         "hovertemplate": "Invoice Date=2011-07-14<br>Invoice Number=%{x}<br>Total Sales=%{y}<extra></extra>",
         "legendgroup": "2011-07-14",
         "marker": {
          "color": "#EF553B",
          "symbol": "circle"
         },
         "mode": "markers",
         "name": "2011-07-14",
         "showlegend": true,
         "type": "scattergl",
         "x": {
          "bdata": "OosIADuLCAA8iwgAPYsIAD6LCAA/iwgAQIsIAEGLCABCiwgARIsIAEWLCABGiwgASIsIAEmLCABPiwgAa4sIAGyLCABtiwgAbosIAHCLCABxiwgAcosIAHSLCAB1iwgAdosIAHeLCAB5iwgAiosIAJKLCACYiwgAmYsIAJqLCACgiwgAoosIAKOLCACqiwgAr4sIALCLCACxiwgAs4sIALSLCAC1iwgAzosIAM+LCADQiwgA1osIANeLCADYiwgA2YsIAN2LCADeiwgA34sIAOCLCADhiwgA4osIAOWLCADmiwgA54sIAOiLCADpiwgA6osIAA==",
          "dtype": "i4"
         },
         "xaxis": "x",
         "y": {
          "bdata": "NDMzMzOzMUDNzMzMzMwvQAAAAAAAsGxAAAAAAACAKUA0MzMzM7MxQGZmZmZm5k1A9ihcj8L1SEAAAAAAAAAuQPYoXI/C9fg/mpmZmZkZSkCamZmZmSmTQDMzMzMz83ZAMzMzMzPzZkAAAAAAAAAyQM3MzMzMzDNAMzMzMzMzL0AAAAAAAAAxQDQzMzMzMx9AAAAAAACAM0AAAAAAAAApQArXo3A9CgdANDMzMzMzOUCuR+F6FK5GQDQzMzMzs0FAZmZmZmZmMUDNzMzMzMwfQDMzMzMzM0lAMzMzMzMzKUAAAAAAAIBJQGZmZmZmZgRApHA9CtejAEAAAAAAAAA+QAAAAAAAAARAAAAAAAAALkA0MzMzMzM/QM3MzMzMzDRAAAAAAACAJkAAAAAAAAAhQGZmZmZm5jNANDMzMzOzMUA0MzMzMzM5QM3MzMzMzDNAzczMzMzMM0BmZmZmZmYkQEjhehSuR1pAzczMzMzMJEBmZmZmZmZ0QDMzMzMzMy9AmpmZmZmZLkBmZmZmZuZQQHA9CtejcGNAmpmZmZmZF0DNzMzMzMw/QOxRuB6F6yNAAAAAAACAUEAAAAAAAIAwQDQzMzMzszFAAAAAAAAADkAzMzMzMzP3P6RwPQrXowBAAAAAAACAKUA=",
          "dtype": "f8"
         },
         "yaxis": "y"
        },
        {
         "hovertemplate": "Invoice Date=2011-07-15<br>Invoice Number=%{x}<br>Total Sales=%{y}<extra></extra>",
         "legendgroup": "2011-07-15",
         "marker": {
          "color": "#00cc96",
          "symbol": "circle"
         },
         "mode": "markers",
         "name": "2011-07-15",
         "showlegend": true,
         "type": "scattergl",
         "x": {
          "bdata": "64sIAOyLCADtiwgA84sIAPaLCAD4iwgA+osIAP2LCAARjAgANIwIADWMCAA2jAgAN4wIADiMCAA5jAgAOowIADyMCAA+jAgAP4wIAEeMCABIjAgASYwIAEuMCABMjAgATYwIAE+MCABRjAgAUowIAFSMCABejAgAX4wIAGCMCABkjAgA",
          "dtype": "i4"
         },
         "xaxis": "x",
         "y": {
          "bdata": "NDMzMzOzMUDNzMzMzMwvQGZmZmZm5iVAAAAAAAAAGUBmZmZmZmYxQJqZmZmZmT5AAAAAAAAALkDNzMzMzMwjQM3MzMzMzDNAAAAAAACARkBmZmZmZmYkQAAAAAAAgFlAAAAAAAAAQkBmZmZmZmYkQDQzMzMzs01AzczMzMzMI0AAAAAAAIAwQAAAAAAAAC5AAAAAAAAALkAqXI/C9Wh2QAAAAAAAAD5AMzMzMzPzVkAAAAAAAOBQQM3MzMzMzENAAAAAAACAMEDNzMzMzMwzQM3MzMzMzCdAmpmZmZmZJ0BmZmZmZmb+P83MzMzMzC9AAAAAAACAKUAzMzMzMzMLQLgehetRuCJA",
          "dtype": "f8"
         },
         "yaxis": "y"
        },
        {
         "hovertemplate": "Invoice Date=2011-07-17<br>Invoice Number=%{x}<br>Total Sales=%{y}<extra></extra>",
         "legendgroup": "2011-07-17",
         "marker": {
          "color": "#ab63fa",
          "symbol": "circle"
         },
         "mode": "markers",
         "name": "2011-07-17",
         "showlegend": true,
         "type": "scattergl",
         "x": {
          "bdata": "ZYwIAGeMCABojAgAaYwIAGqMCABrjAgAbIwIAG2MCABujAgAb4wIAHCMCABxjAgAdIwIAHaMCAB3jAgAeIwIAHmMCAB6jAgAe4wIAHyMCAB9jAgAfowIAH+MCACAjAgAgYwIAIKMCACDjAgAhIwIAIWMCACGjAgAh4wIAIiMCACJjAgAiowIAIuMCACMjAgAjYwIAI6MCACPjAgAkYwIAJKMCACTjAgAlIwIAJWMCACWjAgAl4wIAJiMCACZjAgA",
          "dtype": "i4"
         },
         "xaxis": "x",
         "y": {
          "bdata": "zczMzMzMNEBmZmZmZmZEQDQzMzMzs0FAPQrXo3A9TkA0MzMzMzMfQDQzMzMzszFANDMzMzOzMUA0MzMzM7MxQM3MzMzMzDNAzczMzMzML0AK16NwPQo7QAAAAAAAgEZA9ihcj8L1GEAAAAAAAJByQGZmZmZmZjFAmpmZmZmZJ0CamZmZmZkQQAAAAAAAABpAZmZmZmZm/j9I4XoUrkc0QArXo3A9CjtAzczMzMzMM0DNzMzMzMwjQM3MzMzMzCtAAAAAAAAAUUAAAAAAAABOQAAAAAAAAC5A4XoUrkfh6j8AAAAAAIA9QM3MzMzMzBdAzczMzMzMNECamZmZmZkuQAAAAAAAADFANDMzMzOzUUDNzMzMzMwzQGZmZmZm5kNAAAAAAAAAMUAAAAAAAAA+QPYoXI/C9eg/ZmZmZmbmM0DsUbgehesjQAAAAAAAAC5AAAAAAAAA9D8AAAAAAAA+QGZmZmZmZvo/AAAAAACANkABAAAAABBtQLgehetRuPI/",
          "dtype": "f8"
         },
         "yaxis": "y"
        },
        {
         "hovertemplate": "Invoice Date=2011-07-18<br>Invoice Number=%{x}<br>Total Sales=%{y}<extra></extra>",
         "legendgroup": "2011-07-18",
         "marker": {
          "color": "#FFA15A",
          "symbol": "circle"
         },
         "mode": "markers",
         "name": "2011-07-18",
         "showlegend": true,
         "type": "scattergl",
         "x": {
          "bdata": "mowIAJyMCACdjAgAnowIAJ+MCACgjAgAp4wIAKuMCACujAgAsYwIAOOMCADkjAgA5YwIAOeMCADpjAgA6owIAOyMCADujAgA8IwIAP2MCAD+jAgA/4wIAAGNCAADjQgACI0IAAmNCAAKjQgADY0IABqNCAAcjQgAHY0IAB+NCAAgjQgAIY0IACaNCAAqjQgAMI0IADWNCAA5jQgAOo0IADuNCAA8jQgA",
          "dtype": "i4"
         },
         "xaxis": "x",
         "y": {
          "bdata": "mpmZmZmZMkAAAAAAAAAuQGZmZmZmZiRAAAAAAACQckAAAAAAAAAhQAAAAAAAAC5AAAAAAAAAPkAAAAAAAAAlQJqZmZmZ2UdANDMzMzMzGUAAAAAAAAA5QGZmZmZm5kNAZmZmZmbmOEBmZmZmZmYaQM3MzMzMzDNAAAAAAAAAPkDD9Shcj4JeQAAAAAAAAC5A4XoUrkfh2j8zMzMzM7MtQJqZmZmZ2V1AMzMzMzOzLUAAAAAAAAAOQAAAAAAAgDlA4XoUrkfhXUAzMzMzMzMbQKRwPQrXozBAAAAAAACAPUDsUbgeheszQJqZmZmZ2TdAhetRuB41gUAzMzMzM7MtQOF6FK5H4RpAAAAAAAAALkDNzMzMzMw0QDQzMzMzMzlAZmZmZmZmJEAAAAAAAAAuQDQzMzMzszFANDMzMzOzPUAAAAAAAAA+QKRwPQrXoxBA",
          "dtype": "f8"
         },
         "yaxis": "y"
        },
        {
         "hovertemplate": "Invoice Date=2011-07-19<br>Invoice Number=%{x}<br>Total Sales=%{y}<extra></extra>",
         "legendgroup": "2011-07-19",
         "marker": {
          "color": "#19d3f3",
          "symbol": "circle"
         },
         "mode": "markers",
         "name": "2011-07-19",
         "showlegend": true,
         "type": "scattergl",
         "x": {
          "bdata": "P40IAECNCABBjQgAQo0IAEWNCABGjQgAVY0IAGONCABzjQgAdI0IAHWNCAB3jQgAeI0IAIuNCACPjQgAl40IAJiNCACZjQgAmo0IAJuNCACijQgAo40IAKSNCACnjQgAqI0IAKmNCACqjQgAq40IAK2NCACyjQgAuI0IALqNCAC7jQgAwI0IAMGNCADDjQgAxI0IAMWNCADGjQgAyI0IAMqNCADLjQgA0I0IANONCADUjQgA1Y0IANaNCADXjQgA2Y0IAA==",
          "dtype": "i4"
         },
         "xaxis": "x",
         "y": {
          "bdata": "CtejcD0KS0AAAAAAAIAwQJqZmZmZmS9AAAAAAAAAPkCamZmZmZk+QAAAAAAAgDBAzczMzMyEa0AK16NwPQpLQJqZmZmZ2TFAmpmZmZmZH0DNzMzMzMwzQDQzMzMzsz1AmpmZmZmZQEAAAAAAAIBGQGZmZmZmZjpA7FG4HoXrI0CamZmZmdkxQAAAAAAAAB5Aj8L1KFyPGkAAAAAAAIBZQM3MzMzMzCdAzczMzMzMU0C4HoXrUVheQKRwPQrXowBAAAAAAAAAXkAAAAAAAAA5QDQzMzMzszFACtejcD0KG0CamZmZmdk9QM3MzMzMjEpAzczMzMzMQ0CPwvUoXI8qQI/C9ShcjxpAzczMzMzMH0CamZmZmdlBQAAAAAAAAARAKVyPwvUIZkDNzMzMzMxvQF2PwvUovEhAmpmZmZmZB0CamZmZmdmEQAAAAAAAAE5A9ihcj8L1aEAAAAAAAIB/QClcj8L1KCRAZmZmZmZmVEA0MzMzM7MxQIXrUbge5WdAAAAAAAAADkA=",
          "dtype": "f8"
         },
         "yaxis": "y"
        },
        {
         "hovertemplate": "Invoice Date=2011-07-20<br>Invoice Number=%{x}<br>Total Sales=%{y}<extra></extra>",
         "legendgroup": "2011-07-20",
         "marker": {
          "color": "#FF6692",
          "symbol": "circle"
         },
         "mode": "markers",
         "name": "2011-07-20",
         "showlegend": true,
         "type": "scattergl",
         "x": {
          "bdata": "2o0IANuNCADcjQgA3Y0IAN6NCAD6jQgAAI4IAAGOCAACjggABI4IAAaOCAAIjggACo4IAAuOCAAujggAMI4IADGOCAAyjggAM44IADSOCAA1jggAN44IADiOCAA5jggAOo4IADyOCAA9jggAR44IAEiOCABJjggASo4IAEuOCABMjggATo4IAFCOCABRjggAU44IAFSOCABVjggAVo4IAFeOCABZjggAW44IAFyOCABejggAYI4IAGaOCAByjggA",
          "dtype": "i4"
         },
         "xaxis": "x",
         "y": {
          "bdata": "mpmZmZnZMUA0MzMzM7MxQGZmZmZm5k1AAAAAAAAAW0BmZmZmZmYxQGZmZmZmZlFAmpmZmZmZUECamZmZmZk+QM3MzMzMDEZAAAAAAAAAFEBxPQrXo4B+QAAAAAAAYGJAAAAAAAAAKUAfhetRuDZ8QM3MzMzMzDNAZmZmZmbmKEAAAAAAAIBJQAAAAAAAAC5AZmZmZmbmQUDNzMzMzMwXQGZmZmZmZjFAAAAAAADAYkDNzMzMzMwAQDMzMzMzc1hAZmZmZmZmMUDNzMzMzMw0QAAAAAAAgD1AAAAAAAAAJUBmZmZmZmb+PzQzMzMzsyFAZmZmZmZm7j+amZmZmZkuQDMzMzMz81ZAAAAAAADgUEAAAAAAAAAxQM3MzMzMzDNAzczMzMzMBkBmZmZmZuYwQGZmZmZmZjFAAAAAAAAAHkAAAAAAAIAgQArXo3A9CldAZmZmZmZmMUDNzMzMzIwxQAAAAAAA8I5AAAAAAAAAPkA0MzMzM7MxQAAAAAAAYGZA",
          "dtype": "f8"
         },
         "yaxis": "y"
        },
        {
         "hovertemplate": "Invoice Date=2011-07-21<br>Invoice Number=%{x}<br>Total Sales=%{y}<extra></extra>",
         "legendgroup": "2011-07-21",
         "marker": {
          "color": "#B6E880",
          "symbol": "circle"
         },
         "mode": "markers",
         "name": "2011-07-21",
         "showlegend": true,
         "type": "scattergl",
         "x": {
          "bdata": "iI4IAI2OCACOjggAlo4IAJeOCACYjggApY4IAKeOCAC0jggAtY4IALiOCAC6jggAu44IALyOCAC9jggAwY4IAMKOCADHjggAyY4IAMuOCADMjggAzY4IANWOCADWjggA2I4IANqOCADbjggA3Y4IAN6OCADfjggA4I4IAOSOCADmjggA544IAOiOCADpjggA644IAO6OCADvjggA8Y4IAPKOCADzjggA9I4IAPWOCAD2jggA944IAPiOCAD7jggA/I4IAP2OCAD/jggAAI8IAAGPCAAKjwgADI8IAA+PCAARjwgAEo8IABOPCAAVjwgAFo8IABePCAAYjwgAGY8IAA==",
          "dtype": "i4"
         },
         "xaxis": "x",
         "y": {
          "bdata": "AAAAAACALUApXI/C9SgUQGZmZmZmZiRAAAAAAACQckAAAAAAAIAwQAEAAAAA8GlAAAAAAAAALkDhehSuR+EtQAAAAAAAAFJAZmZmZmbmU0AAAAAAAAAhQAAAAAAAgDBAzczMzMzMM0D2KFyPwvVCQDQzMzMzMz9AMzMzMzOzLUBmZmZmZuZNQDMzMzMz8zBAzczMzMzMVEAAAAAAAMBYQOJ6FK5H4T1ASOF6FK5HEUAAAAAAAABeQAAAAAAA4FBAAAAAAAAALkCamZmZmZluQDQzMzMzszFAZmZmZmbmSEDNzMzMzMwnQLgehetRuPI/ZmZmZmbmTUDNzMzMzMwTQNajcD0K1ytAzczMzMzMNEAzMzMzM7MtQGZmZmZmZlFAzczMzMzML0DNzMzMzMwfQD4K16NwPRJAmpmZmZmZIEAAAAAAAAApQLgehetRuEJAAAAAAAAgYkAAAAAAAAAuQAAAAAAAGIVAAAAAAABQkEA0MzMzM7M3QDMzMzMzsy1AAAAAAAAALkCamZmZmZk+QGZmZmZmZjRAzczMzMzMM0AzMzMzM7NdQAAAAAAAgDBAZmZmZmZmOkAAAAAAAAAhQAAAAAAAABFAKVyPwvUoJEA0MzMzM7MxQM3MzMzMDopAZmZmZmZmNEAAAAAAAOB6QGZmZmZmZjRAzczMzMzMJEA=",
          "dtype": "f8"
         },
         "yaxis": "y"
        },
        {
         "hovertemplate": "Invoice Date=2011-07-22<br>Invoice Number=%{x}<br>Total Sales=%{y}<extra></extra>",
         "legendgroup": "2011-07-22",
         "marker": {
          "color": "#FF97FF",
          "symbol": "circle"
         },
         "mode": "markers",
         "name": "2011-07-22",
         "showlegend": true,
         "type": "scattergl",
         "x": {
          "bdata": "HI8IAB2PCAAfjwgAII8IACGPCAAijwgAI48IACaPCAApjwgALo8IAEyPCABOjwgAT48IAFCPCABRjwgAUo8IAFOPCABUjwgAXI8IAF2PCABgjwgAYo8IAGSPCABmjwgAaY8IAGqPCABrjwgAbI8IAG2PCABujwgAb48IAHCPCABxjwgAco8IAHyPCAA=",
          "dtype": "i4"
         },
         "xaxis": "x",
         "y": {
          "bdata": "CtejcD0KV0AAAAAAAOBgQAAAAAAAgDlAzczMzMzMNEAzMzMzMzPrPzQzMzMzszFAmpmZmZnZN0DXo3A9CldUQGZmZmZmZv4/ZmZmZmZmFECamZmZmZkqQM3MzMzMzC9AAAAAAAAALkBmZmZmZmYqQEjhehSuR0FAZmZmZmZmR0AAAAAAAAA+QAEAAAAA8GlANDMzMzOzMUBmZmZmZuY4QGZmZmZmZjRA9ihcj8L1OEBmZmZmZmb+P2ZmZmZm5iNAZmZmZmbmVUDXo3A9Cld0QM3MzMzMzDdAMzMzMzOzLUAAAAAAAIAgQAAAAAAAgDBAzczMzMzMNEAAAAAAAAAuQDQzMzMzM1ZAMzMzMzMzKUDNzMzMzMwfQA==",
          "dtype": "f8"
         },
         "yaxis": "y"
        },
        {
         "hovertemplate": "Invoice Date=2011-07-24<br>Invoice Number=%{x}<br>Total Sales=%{y}<extra></extra>",
         "legendgroup": "2011-07-24",
         "marker": {
          "color": "#FECB52",
          "symbol": "circle"
         },
         "mode": "markers",
         "name": "2011-07-24",
         "showlegend": true,
         "type": "scattergl",
         "x": {
          "bdata": "fY8IAH6PCAB/jwgAgI8IAIGPCACCjwgAg48IAISPCACGjwgAh48IAIiPCACJjwgAio8IAIuPCACMjwgAjo8IAI+PCACSjwgAk48IAJSPCACVjwgAlo8IAJePCACYjwgAmY8IAJqPCACbjwgAnI8IAJ2PCACejwgAn48IAKCPCAChjwgAoo8IAKSPCACmjwgAqI8IAKmPCACqjwgAq48IAKyPCACujwgAr48IALCPCACxjwgAso8IALOPCAC0jwgAtY8IALaPCAC3jwgAuY8IALqPCAA=",
          "dtype": "i4"
         },
         "xaxis": "x",
         "y": {
          "bdata": "SOF6FK5HREAAAAAAAIA2QLgehetRuCJANDMzMzOzPUD2KFyPwvXYPwAAAAAAgCNAAAAAAAAwcUDNzMzMzMwzQJqZmZmZmSdAzczMzMzMM0AAAAAAAIAwQNajcD0K1ytAuB6F61G4AkCamZmZmZluQM3MzMzMzB9AAAAAAAAAG0BwPQrXo3BjQM3MzMzMzCNAAAAAAACAIEBmZmZmZuZRQLgehetRuDJAAAAAAACAUEAzMzMzMzNJQAAAAAAA4HBA4XoUrkfhXUAzMzMzM7MtQDMzMzMzc1hAFa5H4XoUc0CZmZmZmZllQAAAAAAAQFRAMzMzMzMzaUBmZmZmZmYxQDMzMzMzMwdAZmZmZmbmQ0AAAAAAAAAuQAAAAAAAgDNAmpmZmZmZTkBmZmZmZuYjQOF6FK5H4fo/7FG4HoXrI0DNzMzMzMw/QAAAAAAAgC1AZmZmZmZmKkApXI/C9SgkQDQzMzMzs0FAzczMzMzMREDNzMzMzMw0QJqZmZmZ2U1AZmZmZmZmJEBmZmZmZuZHQGZmZmZm5jNAmpmZmZmZGkApXI/C9SgUQA==",
          "dtype": "f8"
         },
         "yaxis": "y"
        },
        {
         "hovertemplate": "Invoice Date=2011-07-25<br>Invoice Number=%{x}<br>Total Sales=%{y}<extra></extra>",
         "legendgroup": "2011-07-25",
         "marker": {
          "color": "#636efa",
          "symbol": "circle"
         },
         "mode": "markers",
         "name": "2011-07-25",
         "showlegend": true,
         "type": "scattergl",
         "x": {
          "bdata": "vI8IAL2PCAC/jwgAwI8IAMGPCADEjwgAx48IAMiPCADJjwgAyo8IAMuPCADMjwgAzY8IANGPCADSjwgA1Y8IANePCADYjwgA2Y8IANqPCADbjwgA3o8IAN+PCADgjwgA5Y8IAOiPCADsjwgA+48IABKQCAAlkAgAJpAIACeQCAAokAgAKZAIACuQCAAskAgALZAIAC+QCAAwkAgAMZAIADKQCAAzkAgANJAIADWQCAA2kAgAN5AIADiQCABAkAgA",
          "dtype": "i4"
         },
         "xaxis": "x",
         "y": {
          "bdata": "ZmZmZmZmKkDNzMzMzMwzQDMzMzMzMy9AzczMzMzMNEA0MzMzM7MxQGZmZmZm5jNA7FG4HoXrI0DNzMzMzMxEQM3MzMzMzERAzczMzMzMM0BmZmZmZmb+Pylcj8L1KBRAPQrXo3A9bkDNzMzMzMwGQDMzMzMzsy1AZmZmZmZmZEAAAAAAAIBpQDMzMzMzM+s/zczMzMzMIEAAAAAAAIAwQAAAAAAAADFAAAAAAACAMEAAAAAAAAAxQM3MzMzMzDRAZmZmZmbmQ0BmZmZmZmYkQJqZmZmZmU5AZmZmZmZmKkDNzMzMzMwvQAAAAAAAADlAZmZmZmZmKkAAAAAAAMBSQGZmZmZmZvo/AAAAAAAAQUAzMzMzMzP/Pylcj8L1KBRAZmZmZmbmPUAAAAAAAOBQQAAAAAAAAC5AAAAAAAAAHkAAAAAAAAAuQM3MzMzMzC9AZmZmZmbmM0AAAAAAAAAxQKRwPQrXoxBAmpmZmZmZEEA9CtejcD0+QAAAAAAAAF5A",
          "dtype": "f8"
         },
         "yaxis": "y"
        },
        {
         "hovertemplate": "Invoice Date=2011-07-26<br>Invoice Number=%{x}<br>Total Sales=%{y}<extra></extra>",
         "legendgroup": "2011-07-26",
         "marker": {
          "color": "#EF553B",
          "symbol": "circle"
         },
         "mode": "markers",
         "name": "2011-07-26",
         "showlegend": true,
         "type": "scattergl",
         "x": {
          "bdata": "Q5AIAESQCABFkAgARpAIAEeQCABIkAgASpAIAE+QCABUkAgAWZAIAFqQCABckAgAXpAIAF+QCABgkAgAapAIAICQCACEkAgAiJAIAI+QCACikAgAqJAIAKmQCACqkAgArJAIAK2QCACxkAgAspAIALOQCAC2kAgAyJAIAMmQCADLkAgAzJAIAM+QCADQkAgA05AIANaQCADYkAgA4pAIAOWQCADmkAgA",
          "dtype": "i4"
         },
         "xaxis": "x",
         "y": {
          "bdata": "KVyPwvUoFEBmZmZmZmY0QDMzMzMzMy9AKVyPwvUoJECamZmZmZkuQAAAAAAAYGZA/Knx0k1iUD9mZmZmZmb+PzQzMzMzszFAZmZmZmZmKkAAAAAAAAAxQGZmZmZmZjFANDMzMzOzMUD2KFyPwvUoQMP1KFyPwi1AAAAAAAAATkAAAAAAAAAuQAAAAAAAgDZAAAAAAAAAJUAAAAAAACBiQGZmZmZmZjRAZmZmZmZmCkDNzMzMzMwjQGZmZmZmZg5AuB6F61G4MkCamZmZmVkwQMzMzMzMzBNAAAAAAAAALkDNzMzMzMwfQAAAAAAAQEVAZ2ZmZmZmGkAAAAAAAAAuQMzMzMzMbFZAzczMzMzMM0AAAAAAAAAuQAAAAAAAgEZAAAAAAAAAHkApXI/C9SgUQAAAAAAAQEJAAAAAAAAALkAAAAAAAAAeQAAAAAAAAClA",
          "dtype": "f8"
         },
         "yaxis": "y"
        },
        {
         "hovertemplate": "Invoice Date=2011-07-27<br>Invoice Number=%{x}<br>Total Sales=%{y}<extra></extra>",
         "legendgroup": "2011-07-27",
         "marker": {
          "color": "#00cc96",
          "symbol": "circle"
         },
         "mode": "markers",
         "name": "2011-07-27",
         "showlegend": true,
         "type": "scattergl",
         "x": {
          "bdata": "55AIAOiQCADpkAgA6pAIAOuQCADtkAgA7pAIAO+QCADxkAgA8pAIAPOQCAD0kAgA9ZAIAPaQCAD3kAgAFpEIAC2RCAAvkQgANpEIADeRCAA5kQgAOpEIADuRCABBkQgAQpEIAE2RCABQkQgAXpEIAGSRCABnkQgAaJEIAGqRCABtkQgAbpEIAG+RCABwkQgAcZEIAHKRCAA=",
          "dtype": "i4"
         },
         "xaxis": "x",
         "y": {
          "bdata": "AAAAAAAAQUA0MzMzM7MxQGZmZmZmZipA7FG4HoXrI0AAAAAAAIAwQJqZmZmZWVBAzczMzMzMNEDNzMzMzMw0QAAAAAAAAC5AZmZmZmbmOEBmZmZmZmYxQAAAAAAAAD5AAAAAAABwoUDNzMzMzMxDQML1KFyPwlFAzczMzMzMM0BI4XoUrkc0QArXo3A9CitAAAAAAAAgU0CkcD0K16MQQAAAAAAAACVAAAAAAACAOUAAAAAAAIBAQM3MzMzMzERAzMzMzMzMU0DNzMzMzMwIQAAAAAAAgDBAzczMzMzMNEAAAAAAAMBYQDQzMzMzs0FAZmZmZmbmI0ApXI/C9SgkQAAAAAAAAD5AMzMzMzMzL0CamZmZmZkHQGZmZmZm5iNAMzMzMzNzNUDNzMzMzMwbQA==",
          "dtype": "f8"
         },
         "yaxis": "y"
        },
        {
         "hovertemplate": "Invoice Date=2011-07-28<br>Invoice Number=%{x}<br>Total Sales=%{y}<extra></extra>",
         "legendgroup": "2011-07-28",
         "marker": {
          "color": "#ab63fa",
          "symbol": "circle"
         },
         "mode": "markers",
         "name": "2011-07-28",
         "showlegend": true,
         "type": "scattergl",
         "x": {
          "bdata": "eJEIAHmRCAB6kQgAe5EIAHyRCAB9kQgAfpEIAH+RCACBkQgAhpEIAIiRCACikQgAsJEIALGRCAC4kQgAuZEIALuRCAC9kQgAv5EIAMCRCADBkQgAwpEIAMORCADFkQgAx5EIAMqRCADLkQgAzpEIAM+RCADQkQgA0ZEIANKRCADYkQgA2ZEIANqRCADdkQgA3pEIAOCRCADhkQgA4pEIAOORCADkkQgA5ZEIAOaRCADpkQgA6pEIAOuRCADskQgA7pEIAO+RCADwkQgA8pEIAPWRCAD2kQgA95EIAPiRCAD5kQgA+5EIAACSCAAGkggAB5IIAAiSCAALkggADJIIAA2SCAAOkggAD5IIABCSCAATkggAFZIIAA==",
          "dtype": "i4"
         },
         "xaxis": "x",
         "y": {
          "bdata": "ZmZmZmbmTUAAAAAAAAAnQAAAAAAAAGpAAAAAAABgZkDsUbgehetZQAAAAAAAQFRAAAAAAAAALkAAAAAAAIBJQAAAAAAAADFAzczMzMzMJECF61G4HoUXQM3MzMzMzC9AZmZmZmZmJ0AAAAAAAMAyQGZmZmZm5kNAzczMzMzMJUDNzMzMzMw/QAAAAAAAADtAmpmZmZnZR0BmZmZmZmb+P83MzMzMzDNAAAAAAAAALkBmZmZmZmYkQJqZmZmZmTBAAAAAAACAaUAAAAAAAAAuQM3MzMzMzFdAzczMzMzML0BmZmZmZmYqQPYoXI/C9RhAzczMzMzML0AAAAAAAAA+QGZmZmZmZjpAUrgehetRHEBmZmZmZmb+P+J6FK5H4fo/AAAAAAAALkAAAAAAAAAuQGZmZmZmzIRAAAAAAAAALkAfhetRuB43QAAAAAAAgEBAZmZmZmbGekCamZmZmZluQOxRuB6Fa15AAAAAAACANkCamZmZmZleQAAAAAAAgFZAzczMzMzMQ0BnZmZmZqZwQFyPwvUo3CRAAAAAAACAMEBmZmZmZmb+PzMzMzMzMy9AAAAAAAAgj0DNzMzMzMwvQM3MzMzMzDtAZmZmZmZmZEDNzMzMzMwzQGZmZmZmZidA7FG4HoXrSUBcj8L1KFyCQM3MzMzMzENAmpmZmZmZJUDXo3A9CldUQD4K16NwfVFAzczMzMzMM0AAAAAAAIA5QDMzMzMzM/8/mpmZmZmZPkA=",
          "dtype": "f8"
         },
         "yaxis": "y"
        },
        {
         "hovertemplate": "Invoice Date=2011-07-29<br>Invoice Number=%{x}<br>Total Sales=%{y}<extra></extra>",
         "legendgroup": "2011-07-29",
         "marker": {
          "color": "#FFA15A",
          "symbol": "circle"
         },
         "mode": "markers",
         "name": "2011-07-29",
         "showlegend": true,
         "type": "scattergl",
         "x": {
          "bdata": "FpIIABeSCAAYkggAGZIIABqSCAAckggAHZIIAB6SCAAfkggAIJIIACGSCAAikggAI5IIACSSCAAlkggAJpIIACiSCAApkggAKpIIACuSCAAskggALZIIAC6SCAAvkggAMJIIADGSCAAykggAM5IIADeSCABEkggAT5IIAFaSCABtkggAbpIIAHeSCACCkggAhJIIAIWSCACHkggAiJIIAImSCACKkggAi5IIAIySCACOkggAj5IIAJCSCACRkggAk5IIAJWSCACWkggAl5IIAJiSCACZkggAmpIIAJuSCADBkggAwpIIAMOSCADEkggA",
          "dtype": "i4"
         },
         "xaxis": "x",
         "y": {
          "bdata": "mpmZmZmZP0AzMzMzM7MtQGZmZmZm5k1AKVyPwvUoJEBmZmZmZmY6QAAAAAAAADFAZmZmZmZmMUAAAAAAAAAuQAAAAAAAIFNAZmZmZmZmOkAAAAAAAIApQJqZmZmZmU5AZmZmZmZmNEBI4XoUrkdEQClcj8L1KCRAAAAAAAAAMUAzMzMzM/MwQDQzMzMzs1FAzczMzMzMNEAAAAAAAAAuQAAAAAAAAC5AzczMzMzMI0BmZmZmZmbuPwAAAAAAAD5AZmZmZmZm+j9mZmZmZhZQQDQzMzMzszFAZmZmZmbmOECPwvUoXI8qQLgehetRuBJAH4XrUbgeS0AAAAAAAAAlQDMzMzMzMxdAZmZmZmZmCkApXI/C9SgUQDQzMzMzMx9AAAAAAAAALkDNzMzMzMw0QOxRuB6F6yNAzczMzMzMNEBmZmZmZmYxQI/C9ShcjxpAAAAAAAAAN0DNzMzMzMwzQDQzMzMzszFANDMzMzOzMUDNzMzMzMw0QAAAAAAAAHtAAAAAAAAgU0DXo3A9CldkQDMzMzMzMy9ANDMzMzOzPUAK16NwPQpLQDQzMzMzM09AmpmZmZmZB0AAAAAAAAAnQClcj8L1KBRAAAAAAAAALkBI4XoUrkcZQGZmZmZmZjRA",
          "dtype": "f8"
         },
         "yaxis": "y"
        },
        {
         "hovertemplate": "Invoice Date=2011-07-31<br>Invoice Number=%{x}<br>Total Sales=%{y}<extra></extra>",
         "legendgroup": "2011-07-31",
         "marker": {
          "color": "#19d3f3",
          "symbol": "circle"
         },
         "mode": "markers",
         "name": "2011-07-31",
         "showlegend": true,
         "type": "scattergl",
         "x": {
          "bdata": "xZIIAMaSCADHkggAyJIIAMmSCADKkggAy5IIAMySCADNkggAz5IIANCSCADRkggA0pIIANOSCADUkggA1ZIIANaSCADXkggA2JIIANmSCADakggA25IIANySCADdkggA35IIAOCSCADhkggA45IIAOWSCADmkggA55IIAOiSCADpkggA65IIAOySCADvkggA",
          "dtype": "i4"
         },
         "xaxis": "x",
         "y": {
          "bdata": "AAAAAACASUAAAAAAAIApQD0K16NwPTJA4XoUrkfhbUBmZmZmZmZUQKRwPQrXoxBAAAAAAAAA9D+amZmZmZkXQDMzMzMzM/s/zczMzMzMM0AAAAAAAAApQAAAAAAAAA5AAAAAAAAAPkA0MzMzMzNWQM3MzMzMzCNAAAAAAAAAYkDNzMzMzMwgQAAAAAAAgDZAAAAAAACAQ0AzMzMzMzMpQAAAAAAAADJA9ihcj8L1KEBmZmZmZmb6P83MzMzMzBNA7FG4HoXrI0CamZmZmZk3QGZmZmZmZiRAZmZmZmbmJUBmZmZmZmbuP83MzMzMzABAAAAAAAAA9D8AAAAAAIAwQAAAAAAAAPQ/ZmZmZmZmNEBmZmZmZmYRQJqZmZmZmT5A",
          "dtype": "f8"
         },
         "yaxis": "y"
        },
        {
         "hovertemplate": "Invoice Date=2011-08-01<br>Invoice Number=%{x}<br>Total Sales=%{y}<extra></extra>",
         "legendgroup": "2011-08-01",
         "marker": {
          "color": "#FF6692",
          "symbol": "circle"
         },
         "mode": "markers",
         "name": "2011-08-01",
         "showlegend": true,
         "type": "scattergl",
         "x": {
          "bdata": "8JIIAPGSCADykggA85IIAPSSCAD1kggA9pIIAPiSCAD5kggA+pIIAPuSCAD8kggA/ZIIAAKTCAADkwgABZMIAAaTCAAIkwgADZMIABCTCAAgkwgAI5MIAC+TCAAwkwgAMZMIAEuTCABSkwgAW5MIAF6TCABfkwgAYpMIAGOTCABlkwgAZ5MIAGmTCABtkwgAb5MIAA==",
          "dtype": "i4"
         },
         "xaxis": "x",
         "y": {
          "bdata": "7FG4HoWrZECamZmZmdkxQAAAAAAAAD5AKVyPwvUoFEDNzMzMzMw0QAAAAAAAAE5AmpmZmZnZQUBmZmZmZmY0QGZmZmZmZhpAAAAAAAAAIUBmZmZmZmb+PwAAAAAAQG9AMzMzMzMzB0C4HoXrUbgSQD0K16NwPS5AZmZmZmbmQkBmZmZmZmYxQDQzMzMzsz1ANDMzMzOzMUAAAAAAAIBpQM3MzMzMzDNANDMzMzOzMUBmZmZmZmb6P8zMzMzMzBNA4XoUrkfh6j8AAAAAAAAuQJqZmZmZmT5AmpmZmZmZTkAAAAAAAIAwQAAAAAAAgDZAAAAAAACAUEDNzMzMzMxEQGZmZmZmZjpAMzMzMzOzPUAAAAAAAAA+QAAAAAAAYHZAAAAAAAAAIUA=",
          "dtype": "f8"
         },
         "yaxis": "y"
        },
        {
         "hovertemplate": "Invoice Date=2011-08-02<br>Invoice Number=%{x}<br>Total Sales=%{y}<extra></extra>",
         "legendgroup": "2011-08-02",
         "marker": {
          "color": "#B6E880",
          "symbol": "circle"
         },
         "mode": "markers",
         "name": "2011-08-02",
         "showlegend": true,
         "type": "scattergl",
         "x": {
          "bdata": "cZMIAHSTCAB1kwgAeJMIAHqTCAB7kwgAfJMIAH+TCACBkwgAgpMIAIWTCAClkwgAp5MIAKiTCACskwgArZMIAK6TCACvkwgAsJMIALKTCACzkwgAtJMIALWTCAC2kwgAt5MIALmTCAC6kwgAu5MIALyTCAC9kwgAwJMIAMiTCADLkwgAzZMIAA==",
          "dtype": "i4"
         },
         "xaxis": "x",
         "y": {
          "bdata": "NDMzMzOzMUBmZmZmZuZYQAAAAAAAgEZAAAAAAACIk0DNzMzMzMxDQGZmZmZm5i1AFK5H4XoULEDNzMzMzMwTQOxRuB6F6zNA7FG4HoXrM0DXo3A9Ctc7QM3MzMzMzC9AZmZmZmbmI0AUrkfhehRjQAAAAAAAwHVANDMzMzOzTUAAAAAAAAA+QGZmZmZmZiRAAAAAAAAAUkDNzMzMzMw0QAAAAAAAgEBAZmZmZmZmOUA0MzMzM7MxQGZmZmZmZiRAmpmZmZmZOECamZmZmZkuQGZmZmZmZu4/16NwPQrXO0A9CtejcD0eQAEAAAAA8GlAzczMzMzMM0AK16NwPQorQAAAAAAAMGtAmpmZmZmZLkA=",
          "dtype": "f8"
         },
         "yaxis": "y"
        },
        {
         "hovertemplate": "Invoice Date=2011-08-03<br>Invoice Number=%{x}<br>Total Sales=%{y}<extra></extra>",
         "legendgroup": "2011-08-03",
         "marker": {
          "color": "#FF97FF",
          "symbol": "circle"
         },
         "mode": "markers",
         "name": "2011-08-03",
         "showlegend": true,
         "type": "scattergl",
         "x": {
          "bdata": "z5MIANCTCADRkwgA05MIANSTCADVkwgA2JMIANqTCADckwgA3ZMIAN+TCADhkwgA4pMIAOSTCADmkwgA6JMIAOmTCADrkwgA7JMIAO2TCADukwgA8ZMIAPKTCADzkwgA9pMIAP2TCAAXlAgAGJQIABmUCAAalAgAG5QIAByUCAAdlAgAIJQIACGUCAAilAgAI5QIACWUCAAmlAgAKJQIACmUCAAqlAgAK5QIACyUCAAulAgAMJQIADmUCABPlAgAUJQIAFGUCABSlAgAU5QIAFSUCABVlAgAVpQIAFeUCABdlAgAXpQIAF+UCAA=",
          "dtype": "i4"
         },
         "xaxis": "x",
         "y": {
          "bdata": "AAAAAAAALkAAAAAAAAAuQM3MzMzMzDRAMzMzMzMzKUAAAAAAAAA+QAAAAAAAgCBAAAAAAACASUAAAAAAACBMQGZmZmZmZjRA9ihcj8L1IkBSuB6F69FqQAAAAAAAADlAmpmZmZnZVEAAAAAAAAAuQDQzMzMzszFAzczMzMzMJ0BI4XoUrkdBQAAAAAAAAEtAzczMzMzMM0AAAAAAAAAeQM3MzMzMzBdAAAAAAAAAJUBmZmZmZmbuP83MzMzMzDNAAAAAAAAAMUAAAAAAAAAlQGZmZmZmZvo/MzMzMzOzLUDNzMzMzMwTQAAAAAAAAD5AzczMzMzMNECkcD0K16MAQArXo3A9CjtAmpmZmZmZD0AzMzMzMzMpQAAAAAAAAD5AzczMzMzMMEDNzMzMzMwTQNejcD0KVzFAzczMzMzMNEAAAAAAAIAwQAAAAAAAgEZAXI/C9ShcK0AAAAAAAAAuQAAAAAAAgDBAAAAAAAAAW0DNzMzMzMwTQBSuR+F6FCxAAAAAAAAALkDXo3A9CpdiQJiZmZmZmR5AZmZmZmZmJEAAAAAAAIA9QOF6FK5H4V1AAAAAAACAUEAAAAAAAAApQAAAAAAAAARAAAAAAACQckAAAAAAAIA2QA==",
          "dtype": "f8"
         },
         "yaxis": "y"
        },
        {
         "hovertemplate": "Invoice Date=2011-08-04<br>Invoice Number=%{x}<br>Total Sales=%{y}<extra></extra>",
         "legendgroup": "2011-08-04",
         "marker": {
          "color": "#FECB52",
          "symbol": "circle"
         },
         "mode": "markers",
         "name": "2011-08-04",
         "showlegend": true,
         "type": "scattergl",
         "x": {
          "bdata": "YJQIAGSUCABllAgAapQIAGuUCABslAgAbpQIAHKUCACJlAgAnJQIAKOUCACklAgApZQIAKaUCACnlAgAqJQIAKmUCACqlAgAq5QIAKyUCACtlAgAr5QIALGUCACylAgAs5QIAL2UCAC+lAgAwJQIAMGUCADDlAgAxJQIAMWUCADIlAgAyZQIAMqUCADLlAgAzJQIAM2UCADTlAgA1JQIANWUCADYlAgA2ZQIAPCUCADylAgA85QIAPWUCAD2lAgA+pQIAPuUCAD8lAgA/ZQIAP6UCAD/lAgAAJUIAAGVCAAClQgABJUIAAWVCAAHlQgACJUIAAmVCAAKlQgAC5UIAAyVCAAOlQgAD5UIABCVCAARlQgA",
          "dtype": "i4"
         },
         "xaxis": "x",
         "y": {
          "bdata": "NDMzMzMzOUAzMzMzMzMpQClcj8L1KCRAAAAAAADgUEApXI/C9SgkQAAAAAAAAC5AAQAAAACAOUDNzMzMzMw0QAAAAAAAAC5AAAAAAAAAUkD2KFyPwvX4PwAAAAAAgDBAAAAAAAAABEDNzMzMzMwzQIXrUbgeRXJAZmZmZmbmYkDhehSuR+E0QM3MzMzMzERA4XoUrkfh6j8AAAAAAEiHQDQzMzMzu2JAzczMzMzMNEAAAAAAAIA9QGdmZmZmZhpAzczMzMyMSkBmZmZmZuYjQGZmZmZmZjFAAAAAAACAMEBmZmZmZmZUQJqZmZmZ2TFAAQAAAADwaUAAAAAAAABRQDMzMzMzsy1AzczMzMzMI0AAAAAAAABtQGZmZmZmZiRANDMzMzOzTUA0MzMzM7NBQJqZmZmZ2TFAMzMzMzMzC0AAAAAAAAAuQDMzMzMz8zBA9ihcj8L1KECPwvUoXI8aQClcj8L1KCRAAAAAAAAAPkC4HoXrUbgyQIXrUbgehRdAMzMzMzOzLUAAAAAAAIAmQGZmZmZmZhpAmpmZmZnZQUBwPQrXo3BjQPYoXI/C9RhAAAAAAAAAPkCamZmZmZkuQAAAAAAAsGxAAAAAAAAAAkAAAAAAAAAlQAAAAAAAULBAAAAAAACAaUAAAAAAAIBJQOxRuB6F6yNAAAAAAAB0g0AAAAAAAAAlQDMzMzMzs11AmpmZmZnZVEBI4XoUrkdEQAAAAAAAgD1A",
          "dtype": "f8"
         },
         "yaxis": "y"
        },
        {
         "hovertemplate": "Invoice Date=2011-08-05<br>Invoice Number=%{x}<br>Total Sales=%{y}<extra></extra>",
         "legendgroup": "2011-08-05",
         "marker": {
          "color": "#636efa",
          "symbol": "circle"
         },
         "mode": "markers",
         "name": "2011-08-05",
         "showlegend": true,
         "type": "scattergl",
         "x": {
          "bdata": "E5UIABSVCAAVlQgAFpUIABeVCAAYlQgAGZUIABqVCAAblQgAHJUIAB2VCAAelQgAIZUIACKVCAAjlQgAJJUIADqVCABUlQgAVZUIAFaVCABXlQgAWZUIAFuVCABclQgAXZUIAF6VCABhlQgAY5UIAGSVCABllQgAZpUIAGeVCABqlQgAa5UIAGyVCABtlQgAbpUIAG+VCABxlQgAdZUIAHaVCAB3lQgAeJUIAHuVCAB+lQgAgpUIAA==",
          "dtype": "i4"
         },
         "xaxis": "x",
         "y": {
          "bdata": "mpmZmZnZMUAAAAAAAIBJQClcj8L1KBRAAAAAAACAMEA0MzMzMzM5QM3MzMzMzERAZmZmZmZmKkAAAAAAAAB+QAAAAAAAwGVAZmZmZmZmF0BSuB6F60lwQAAAAAAAwGVAzczMzMzMM0AAAAAAAAA+QAAAAAAAAClAAAAAAABANUCamZmZmdkxQAAAAAAAAC5AAAAAAAAABEAzMzMzMzMpQM3MzMzMzCNAMzMzMzMzK0DNzMzMzMxDQGdmZmZmZhpAAAAAAACAKUBmZmZmZuYzQClcj8L1KCRAAAAAAAAAIUCamZmZmdkxQAAAAAAAgDBANDMzMzOzREDNzMzMzMwzQEjhehSuR1RAzMzMzMzME0AAAAAAAAAeQM3MzMzMzGxAmpmZmZmZF0A0MzMzMzNPQHE9CtejcFlAAAAAAAAALkAAAAAAAIA2QM3MzMzMzBBAzczMzMzMI0AzMzMzM/NGQGZmZmZmZhpAZmZmZmZm/j8=",
          "dtype": "f8"
         },
         "yaxis": "y"
        },
        {
         "hovertemplate": "Invoice Date=2011-08-07<br>Invoice Number=%{x}<br>Total Sales=%{y}<extra></extra>",
         "legendgroup": "2011-08-07",
         "marker": {
          "color": "#EF553B",
          "symbol": "circle"
         },
         "mode": "markers",
         "name": "2011-08-07",
         "showlegend": true,
         "type": "scattergl",
         "x": {
          "bdata": "g5UIAISVCACFlQgAhpUIAIeVCACJlQgAipUIAIuVCACMlQgAjZUIAI6VCACPlQgAkJUIAJKVCACTlQgAlJUIAJWVCACXlQgAmJUIAJmVCACalQgAm5UIAJ2VCACelQgAn5UIAKCVCAChlQgAo5UIAA==",
          "dtype": "i4"
         },
         "xaxis": "x",
         "y": {
          "bdata": "ZmZmZmZmN0BmZmZmZmb6P2ZmZmZm5iNAZmZmZmZmKkA0MzMzM7MxQPYoXI/C9RhAZmZmZmbmP0DNzMzMzMwTQPYoXI/C9TJANDMzMzOzMUAAAAAAAAAeQD4K16NwPRJAAAAAAACAPUAAAAAAAABBQAAAAAAAAD5AzczMzMzMM0BmZmZmZmbuP65H4XoUrh5AAAAAAAAAGkAAAAAAAIBaQDQzMzMzszFAAAAAAAAAUUApXI/C9SgUQM3MzMzMzENAzczMzMzMQ0BmZmZmZuY4QAAAAAAAAARANDMzMzOzMUA=",
          "dtype": "f8"
         },
         "yaxis": "y"
        },
        {
         "hovertemplate": "Invoice Date=2011-08-08<br>Invoice Number=%{x}<br>Total Sales=%{y}<extra></extra>",
         "legendgroup": "2011-08-08",
         "marker": {
          "color": "#00cc96",
          "symbol": "circle"
         },
         "mode": "markers",
         "name": "2011-08-08",
         "showlegend": true,
         "type": "scattergl",
         "x": {
          "bdata": "pJUIAKaVCACnlQgAq5UIAKyVCACulQgAr5UIALCVCACxlQgAspUIALOVCAC0lQgAtpUIALeVCAC4lQgAu5UIAL2VCADZlQgA3JUIAPiVCAAAlggADZYIABSWCAAWlggAF5YIABiWCAAZlggAHJYIAB6WCAAflggAIJYIACGWCAAilggA",
          "dtype": "i4"
         },
         "xaxis": "x",
         "y": {
          "bdata": "XI/C9ShcG0AzMzMzMzMpQDQzMzMzszFAmpmZmZmZ4T8pXI/C9SgkQOxRuB6F6zNANDMzMzOzMUAAAAAAAAAlQGZmZmZm5mVAAAAAAAAwh0A0MzMzM7MxQClcj8L1KCRAmpmZmZkZJ0ApXI/C9SgkQGZmZmZmZiRApHA9CtejIEDNzMzMzMw0QJqZmZmZmSdAzczMzMzMNECamZmZmZkHQAAAAAAAAApASOF6FK5HVEAAAAAAAIAjQOxRuB6F6zlA9ihcj8L16D/Xo3A9ClcxQGZmZmZm5mVANDMzMzOzMUAAAAAAAAAuQAAAAAAAACFA9ihcj8L1GEBmZmZmZmY3QOxRuB6Fa15A",
          "dtype": "f8"
         },
         "yaxis": "y"
        },
        {
         "hovertemplate": "Invoice Date=2011-08-09<br>Invoice Number=%{x}<br>Total Sales=%{y}<extra></extra>",
         "legendgroup": "2011-08-09",
         "marker": {
          "color": "#ab63fa",
          "symbol": "circle"
         },
         "mode": "markers",
         "name": "2011-08-09",
         "showlegend": true,
         "type": "scattergl",
         "x": {
          "bdata": "JZYIACeWCAAqlggALJYIAC2WCABPlggAUJYIAFGWCABSlggAU5YIAFSWCABWlggAV5YIAFiWCABZlggAWpYIAFuWCABclggAXZYIAF6WCABflggAYJYIAGOWCABklggAZ5YIAGiWCAB0lggAdpYIAHeWCAB5lggAepYIAHyWCACWlggAl5YIAJiWCACZlggAmpYIAA==",
          "dtype": "i4"
         },
         "xaxis": "x",
         "y": {
          "bdata": "ZmZmZmZmMUAAAAAAAAA5QAAAAAAAAFFAMzMzMzOzLUAAAAAAAAAuQAAAAAAAgClAZmZmZmZmMUAAAAAAAIAwQDQzMzMzszFAAAAAAADgUEDNzMzMzMwnQM3MzMzMzDNAzczMzMzMNEBmZmZmZuYzQGZmZmZmZkFAAAAAAAAAQUDNzMzMzMwjQGZmZmZmZhpAzczMzMzML0AAAAAAAIAwQAAAAAAAAC5AZmZmZmZm+j97FK5H4QpqQJqZmZmZmS5AZmZmZmZmREDNzMzMzMwvQAAAAAAAgDlAAAAAAAAAJ0BmZmZmZuY4QDQzMzMzsyFAAAAAAAAATkDD9ShcjwJKQDMzMzMzsy1AmpmZmZmZIECkcD0K16MgQGZmZmZmZipAzczMzMzMU0A=",
          "dtype": "f8"
         },
         "yaxis": "y"
        },
        {
         "hovertemplate": "Invoice Date=2011-08-10<br>Invoice Number=%{x}<br>Total Sales=%{y}<extra></extra>",
         "legendgroup": "2011-08-10",
         "marker": {
          "color": "#FFA15A",
          "symbol": "circle"
         },
         "mode": "markers",
         "name": "2011-08-10",
         "showlegend": true,
         "type": "scattergl",
         "x": {
          "bdata": "n5YIAKGWCACilggAo5YIAKSWCACmlggAvpYIAL+WCADAlggAwZYIAMOWCADFlggAxpYIAMiWCADKlggAy5YIAMyWCADNlggA1pYIANuWCADclggA4JYIAOGWCADilggA5ZYIAOaWCADnlggA6JYIAOuWCADslggA7ZYIAO6WCADwlggA8ZYIAPKWCADzlggA9JYIAA==",
          "dtype": "i4"
         },
         "xaxis": "x",
         "y": {
          "bdata": "AAAAAAAALkA0MzMzM7MxQAAAAAAAyIBAAAAAAAAAFUBmZmZmZmYxQHsUrkfhej5AZmZmZmZm+j8AAAAAAIBGQAAAAAAAYHZAAAAAAAAALkA0MzMzMzMZQAAAAAAAAD5AAAAAAACAIECPwvUoXI8aQAAAAAAAACVAmpmZmZmZPkAAAAAAAAA+QGZmZmZm5jhAZmZmZmbmLUAK16NwPQo7QAAAAAAAAC5AuB6F61G4TkC4HoXrUbgiQClcj8L1KBRAAAAAAAAAe0AAAAAAAAA+QAAAAAAAAC5AzczMzMzMM0A0MzMzM7NBQAAAAAAAQE9AAAAAAAAgY0AAAAAAAAApQAAAAAAAAD5AAAAAAAAAJUBmZmZmZmZUQGZmZmZm5jhAmpmZmZmZHkA=",
          "dtype": "f8"
         },
         "yaxis": "y"
        },
        {
         "hovertemplate": "Invoice Date=2011-08-11<br>Invoice Number=%{x}<br>Total Sales=%{y}<extra></extra>",
         "legendgroup": "2011-08-11",
         "marker": {
          "color": "#19d3f3",
          "symbol": "circle"
         },
         "mode": "markers",
         "name": "2011-08-11",
         "showlegend": true,
         "type": "scattergl",
         "x": {
          "bdata": "+5YIAPyWCAD9lggA/pYIAACXCAAClwgAA5cIAASXCAAFlwgABpcIAAeXCAATlwgAFJcIABWXCAAWlwgAF5cIABiXCAAklwgAKJcIADeXCABDlwgARJcIAEWXCABGlwgASJcIAEmXCABKlwgAS5cIAE2XCABOlwgAT5cIAFCXCABSlwgAVJcIAFWXCABWlwgAV5cIAFiXCABZlwgAWpcIAFuXCABclwgAXpcIAHSXCAB1lwgAdpcIAH6XCAB/lwgAgZcIAIKXCACDlwgAhpcIAIeXCACIlwgAkZcIAJKXCACTlwgAlJcIAJaXCAA=",
          "dtype": "i4"
         },
         "xaxis": "x",
         "y": {
          "bdata": "zczMzMzMMEAAAAAAAOBgQGZmZmZmZjFAmpmZmZnZMUA0MzMzM7MxQAAAAAAAiKNAAAAAAAAALkBxPQrXo3BZQAAAAAAAAC5ANDMzMzOzMUAAAAAAAAAxQOxRuB6F6yNAAAAAAAAATkDNzMzMzMwzQBSuR+F6FGNAAAAAAACAWUAAAAAAAIApQJqZmZmZmTdAAAAAAACAMEDNzMzMzMwkQAAAAAAAgDBAmJmZmZmZHkBmZmZmZmYkQDQzMzMzMzlA1qNwPQrXS0C4HoXrUbgiQEjhehSuRzRAAAAAAABAREAAAAAAAAAUQGZmZmZmZkRAzczMzMzML0AAAAAAAIAwQGZmZmZm5jFAzczMzMzMM0BnZmZmZuZSQAAAAAAAAC5AAAAAAAAAHkAAAAAAAIApQAAAAAAAwEJAzczMzMzMM0CamZmZmZkXQAAAAAAAAD5AAAAAAACAf0AAAAAAAAAuQDMzMzMzMylAZmZmZmZmCkAzMzMzMzMbQAAAAAAAgDBAuB6F61G4MkBmZmZmZu6VQAAAAAAAgFZA7FG4HoXrM0A0MzMzM7MxQM3MzMzMzDNAZmZmZmbmM0AAAAAAAAA0QGZmZmZmZipAAAAAAAAALkDNzMzMzMwjQA==",
          "dtype": "f8"
         },
         "yaxis": "y"
        },
        {
         "hovertemplate": "Invoice Date=2011-08-12<br>Invoice Number=%{x}<br>Total Sales=%{y}<extra></extra>",
         "legendgroup": "2011-08-12",
         "marker": {
          "color": "#FF6692",
          "symbol": "circle"
         },
         "mode": "markers",
         "name": "2011-08-12",
         "showlegend": true,
         "type": "scattergl",
         "x": {
          "bdata": "l5cIAJiXCACZlwgAm5cIAJ+XCACglwgAppcIAKeXCAColwgAwZcIAMuXCADNlwgAzpcIANOXCADZlwgA2pcIANuXCADclwgA3pcIAN+XCADglwgA4pcIAOOXCADllwgA5pcIAOeXCADolwgA6ZcIAOqXCADslwgA7ZcIAO6XCADvlwgA8JcIAPSXCAD3lwgA+JcIAPqXCAD8lwgA",
          "dtype": "i4"
         },
         "xaxis": "x",
         "y": {
          "bdata": "NDMzMzOzMUA0MzMzMzMfQM3MzMzMzENAzczMzMzMQ0DWo3A9CtcbQDMzMzMzsy1AZmZmZmZmKkA0MzMzM7NBQGZmZmZm5jNAAAAAAACAKUDNzMzMzMwzQHE9CtejcFlA4XoUrkfhPUDNzMzMzMwkQAAAAAAAAC5AcT0K16NwWUBnZmZmZkZ2QAAAAAAAkHJAAAAAAABgeECamZmZmZkPQDQzMzMzszFAAAAAAAAALkAzMzMzM7MtQAAAAAAAgIBAAAAAAAAAIUAAAAAAAMBIQAAAAAAAAC5AAAAAAABAUEApXI/C9SgkQPYoXI/C9SJAzczMzMzMNEA0MzMzM7MxQGZmZmZmZjFAZmZmZmZmJEA0MzMzM7NHQAAAAAAAAC5AMzMzMzOzXUAAAAAAAAAxQJqZmZmZmS5A",
          "dtype": "f8"
         },
         "yaxis": "y"
        },
        {
         "hovertemplate": "Invoice Date=2011-08-14<br>Invoice Number=%{x}<br>Total Sales=%{y}<extra></extra>",
         "legendgroup": "2011-08-14",
         "marker": {
          "color": "#B6E880",
          "symbol": "circle"
         },
         "mode": "markers",
         "name": "2011-08-14",
         "showlegend": true,
         "type": "scattergl",
         "x": {
          "bdata": "/pcIAP+XCAAAmAgAAZgIAAOYCAAEmAgABZgIAAaYCAAImAgACZgIAAqYCAALmAgADJgIAA2YCAAOmAgAD5gIABCYCAARmAgAG5gIAByYCAAdmAgAHpgIAB+YCAAhmAgA",
          "dtype": "i4"
         },
         "xaxis": "x",
         "y": {
          "bdata": "AAAAAAAAMUDNzMzMzMwvQDMzMzMzM/8/MzMzMzMzD0AAAAAAAOBQQDQzMzMzM09AKVyPwvUoBEAzMzMzM7MnQAAAAAAAgDZANDMzMzOzMUAAAAAAAAAeQAAAAAAAgDBAMzMzMzMzC0AAAAAAAAAlQDMzMzMz8zBAZmZmZmZmREDNzMzMzMwjQM3MzMzMzDNAmpmZmZkZSkBmZmZmZuYjQArXo3A9Cvs/MzMzMzMzH0D2KFyPwvUYQJqZmZmZmQdA",
          "dtype": "f8"
         },
         "yaxis": "y"
        },
        {
         "hovertemplate": "Invoice Date=2011-08-15<br>Invoice Number=%{x}<br>Total Sales=%{y}<extra></extra>",
         "legendgroup": "2011-08-15",
         "marker": {
          "color": "#FF97FF",
          "symbol": "circle"
         },
         "mode": "markers",
         "name": "2011-08-15",
         "showlegend": true,
         "type": "scattergl",
         "x": {
          "bdata": "IpgIACOYCAAkmAgAJZgIACaYCAAnmAgAKpgIACuYCAAtmAgALpgIAC+YCAAwmAgAMpgIADOYCAA0mAgANZgIADaYCAA3mAgAOJgIADmYCAA7mAgAPJgIAD2YCAA+mAgAQJgIAESYCABkmAgAgJgIAIWYCACSmAgAk5gIAJSYCACVmAgAlpgIAJeYCACYmAgAmpgIAJyYCACdmAgAnpgIAKCYCAChmAgAopgIAA==",
          "dtype": "i4"
         },
         "xaxis": "x",
         "y": {
          "bdata": "AAAAAAAALkA0MzMzM7NHQM3MzMzMzCdAKVyPwvUoFECamZmZmZk+QJqZmZmZmRdAZmZmZmZmNEDNzMzMzMxDQAAAAAAAAPQ/NDMzMzOzQUA9CtejcD0+QMzMzMzMzBNANDMzMzOzQUAzMzMzM7MtQJqZmZmZ2TFAZmZmZmZm/j9mZmZmZmZUQI/C9ShcjxpANDMzMzOzQUAAAAAAAAAuQM3MzMzMRHdAKVyPwvUoJEAAAAAAAAAuQGZmZmZmZvo/AAAAAAAALkA9CtejcD0+QDMzMzMzU0FAAAAAAAAA9D/NzMzMzMwvQM3MzMzMzDRAAAAAAAAANEAAAAAAAAA+QAAAAAAAABFApHA9CtejEEDMzMzMzGxWQAAAAAAAAC5AAAAAAACAMEAzMzMzM7MtQAAAAAAAADlAMzMzMzOzJ0BmZmZmZuZlQGZmZmZmZjRAZmZmZmZmKkA=",
          "dtype": "f8"
         },
         "yaxis": "y"
        },
        {
         "hovertemplate": "Invoice Date=2011-08-16<br>Invoice Number=%{x}<br>Total Sales=%{y}<extra></extra>",
         "legendgroup": "2011-08-16",
         "marker": {
          "color": "#FECB52",
          "symbol": "circle"
         },
         "mode": "markers",
         "name": "2011-08-16",
         "showlegend": true,
         "type": "scattergl",
         "x": {
          "bdata": "pJgIAKWYCACmmAgAp5gIAKiYCACpmAgAqpgIAKuYCACsmAgArpgIALCYCACxmAgAtZgIALaYCAC3mAgAuJgIAMyYCADTmAgA4ZgIAOKYCADjmAgA5JgIAOWYCADmmAgA55gIAOiYCADqmAgA65gIAOyYCADtmAgA7pgIAPCYCADxmAgA8pgIAPSYCAD4mAgA+pgIAPuYCAD+mAgACZkIAAyZCAAUmQgAKpkIACuZCAAsmQgALZkIAA==",
          "dtype": "i4"
         },
         "xaxis": "x",
         "y": {
          "bdata": "NDMzMzOzMUAAAAAAAAAxQM3MzMzMzCNAAAAAAAAAMUBmZmZmZuYxQAAAAAAAAC5AMzMzMzOzLUAAAAAAAIAwQGZmZmZmZiRAAAAAAABAb0AAAAAAAAAuQDQzMzMzsyFAAAAAAAAAJUDNzMzMzMwzQAAAAAAAAC5ANDMzMzOzMUDNzMzMzMxEQDMzMzMzM2lAZmZmZmZmUUBmZmZmZmYxQM3MzMzMzC9AAAAAAAAAJUDNzMzMzMwkQAAAAAAA4FBAzczMzMzMJkAAAAAAAAAeQKRwPQrXowBAAAAAAAAAMUAAAAAAAAAxQNajcD0K1ytA1qNwPQrXK0DWo3A9CtcbQM3MzMzMzBBACtejcD0KK0D2KFyPwvXoPylcj8L1KBRAzczMzMzMREA0MzMzM7M9QM3MzMzMzC9ANDMzMzOzQUCamZmZmdlBQAAAAAAAAC5AMzMzMzMzG0AAAAAAAIAwQAAAAAAAADlAAAAAAAAAIUA=",
          "dtype": "f8"
         },
         "yaxis": "y"
        },
        {
         "hovertemplate": "Invoice Date=2011-08-17<br>Invoice Number=%{x}<br>Total Sales=%{y}<extra></extra>",
         "legendgroup": "2011-08-17",
         "marker": {
          "color": "#636efa",
          "symbol": "circle"
         },
         "mode": "markers",
         "name": "2011-08-17",
         "showlegend": true,
         "type": "scattergl",
         "x": {
          "bdata": "L5kIADCZCAAxmQgAMpkIADOZCAA0mQgANZkIADaZCABCmQgATJkIAE2ZCABOmQgAUpkIAFeZCABYmQgAWZkIAFqZCABemQgAX5kIAGCZCABjmQgAZJkIAGWZCABomQgAaZkIAGqZCABrmQgAbJkIAG2ZCABumQgAb5kIAHGZCABzmQgAdJkIAHWZCAB2mQgAd5kIAHiZCAB6mQgAfJkIAICZCACBmQgAhJkIAIWZCACGmQgA",
          "dtype": "i4"
         },
         "xaxis": "x",
         "y": {
          "bdata": "mpmZmZn5Q0AAAAAAAIBAQGZmZmZmZjFAj8L1KFyPGkD2KFyPwvUyQAAAAAAAAC5AMzMzMzMzKUAAAAAAAABBQAAAAAAAAD5ASOF6FK5HUUBmZmZmZmb+P+F6FK5H4RpAzMzMzMzME0DNzMzMzMw0QAAAAAAAwFJAAAAAAAAAIUAAAAAAAMA4QAAAAAAAAC5AZmZmZmZm+j+amZmZmZk3QGZmZmZmZgpAzczMzMzMNEAAAAAAAAArQGZmZmZmZlFAAAAAAAAALkAAAAAAAMBlQAAAAAAAIJNAAAAAAAAAKUDNzMzMzMwjQM3MzMzMzDNA1qNwPQrXG0AAAAAAAAAuQKRwPQrXowBAAAAAAAAASUCamZmZmZkHQPYoXI/C9ThA7FG4HoVLi0BmZmZmZmYUQAAAAAAAACtAZmZmZmbmI0DNzMzMzMwzQMzMzMzMzBNANDMzMzNriUAAAAAAAABkQDMzMzMzU5xA",
          "dtype": "f8"
         },
         "yaxis": "y"
        },
        {
         "hovertemplate": "Invoice Date=2011-08-18<br>Invoice Number=%{x}<br>Total Sales=%{y}<extra></extra>",
         "legendgroup": "2011-08-18",
         "marker": {
          "color": "#EF553B",
          "symbol": "circle"
         },
         "mode": "markers",
         "name": "2011-08-18",
         "showlegend": true,
         "type": "scattergl",
         "x": {
          "bdata": "jZkIAJ+ZCACgmQgAoZkIAKKZCACjmQgApJkIAKWZCACmmQgAp5kIAKqZCAC2mQgAyJkIAMmZCADKmQgAy5kIAMyZCADNmQgA2pkIAOCZCADkmQgA5pkIAOiZCADpmQgA6pkIAOuZCADsmQgA7pkIAO+ZCADwmQgA8ZkIAPKZCADzmQgA95kIAPmZCAD6mQgA+5kIAPyZCAD9mQgA/pkIAP+ZCAACmggABpoIAAeaCAAImggACZoIAAqaCAALmggADpoIAA+aCAAQmggAEZoIABKaCAATmggAFJoIABWaCAAWmggAF5oIABiaCAAZmggAGpoIABuaCAA=",
          "dtype": "i4"
         },
         "xaxis": "x",
         "y": {
          "bdata": "AAAAAAAAEUDNzMzMzMw0QAAAAAAAAH5AKVyPwvUoFEDNzMzMzMxQQM3MzMzMzDRAZmZmZmZmN0CamZmZmdlqQJqZmZmZ2TFAAQAAAAAQbUBmZmZmZmYkQGZmZmZmZhRAMzMzMzOzLUDNzMzMzMwzQMzMzMzMDFNAAAAAAADgZUAzMzMzM7NtQM3MzMzMzDRAAAAAAAAAJUA0MzMzMzM5QK5H4XoUnopAAAAAAADASEAAAAAAAIAwQAAAAAAAAB5AzczMzMzMM0DNzMzMzMwfQAAAAAAAgC1AzczMzMzMM0DNzMzMzMwrQDQzMzMzszFA4XoUrkfhCkDNzMzMzMwvQGZmZmZmZipAZmZmZmZmJEBmZmZmZuYzQClcj8L1KBRAzczMzMzMI0A0MzMzM7M9QArXo3A9CgtACtejcD0KO0AAAAAAAAAuQAAAAAAAAElAzczMzMzMNEBnZmZmZmYaQAAAAAAAACVAzczMzMzMNEDNzMzMzMwzQAAAAAAAgDBAZmZmZmZmJ0AzMzMzM/N2QDQzMzMzszFAmpmZmZnZcUBmZmZmZmYkQAAAAAAAACFAAAAAAAAAOUBmZmZmZmYkQAAAAAAAAA5AAAAAAAAALkBmZmZmZuZlQGZmZmZmZvo/zczMzMzME0DNzMzMzMwAQA==",
          "dtype": "f8"
         },
         "yaxis": "y"
        },
        {
         "hovertemplate": "Invoice Date=2011-08-19<br>Invoice Number=%{x}<br>Total Sales=%{y}<extra></extra>",
         "legendgroup": "2011-08-19",
         "marker": {
          "color": "#00cc96",
          "symbol": "circle"
         },
         "mode": "markers",
         "name": "2011-08-19",
         "showlegend": true,
         "type": "scattergl",
         "x": {
          "bdata": "HJoIAB2aCAAemggAH5oIACCaCAAhmggAIpoIACOaCAAkmggAJpoIACqaCAArmggANJoIADuaCABkmggAapoIAGuaCABtmggAbpoIAHaaCAB3mggAeJoIAHmaCAB6mggAe5oIAHyaCAB9mggAf5oIAICaCACBmggAgpoIAIOaCACEmggAhZoIAIaaCACHmggAiZoIAIqaCACLmggAj5oIAJGaCACSmggAspoIALOaCAC0mggAtZoIAA==",
          "dtype": "i4"
         },
         "xaxis": "x",
         "y": {
          "bdata": "mpmZmZnZUUBmZmZmZuYjQAAAAAAAAHFAMzMzMzMzB0AAAAAAAAAlQGZmZmZmZipAzczMzMzMJEAAAAAAAABtQArXo3A9CgdAAAAAAAAALkDNzMzMzMwvQJqZmZmZmS5AzczMzMzMI0AAAAAAAIAhQM3MzMzMzDNAAAAAAACAMEAAAAAAAJCCQAAAAAAAgDBAmpmZmZnZMUDsUbgehesjQJqZmZmZmT9AAAAAAAAATkAAAAAAAAAuQGZmZmZmZkFAzczMzMzMNEAK16NwPQorQM3MzMzMzERAAAAAAAAALkDsUbgehetDQMzMzMzMbFZAAAAAAAAAJ0DNzMzMzMxDQPYoXI/C9TJANDMzMzOzMUAAAAAAAOBQQDQzMzMzszFAAAAAAAAAJ0AAAAAAAOBQQAAAAAAAAC5AzczMzMzMNEAAAAAAAAAuQGZmZmZmZiRAZmZmZmZm7j8AAAAAAIBJQJqZmZmZmeE/MzMzMzMz+z8=",
          "dtype": "f8"
         },
         "yaxis": "y"
        },
        {
         "hovertemplate": "Invoice Date=2011-08-21<br>Invoice Number=%{x}<br>Total Sales=%{y}<extra></extra>",
         "legendgroup": "2011-08-21",
         "marker": {
          "color": "#ab63fa",
          "symbol": "circle"
         },
         "mode": "markers",
         "name": "2011-08-21",
         "showlegend": true,
         "type": "scattergl",
         "x": {
          "bdata": "t5oIALiaCAC6mggAvpoIAL+aCADAmggAwZoIAMKaCADDmggAxJoIAMWaCADGmggAx5oIAMiaCADLmggAzJoIAM2aCADPmggA0JoIANGaCADSmggA05oIANSaCADVmggA15oIANiaCADZmggA25oIANyaCADdmggA3poIAN+aCAA=",
          "dtype": "i4"
         },
         "xaxis": "x",
         "y": {
          "bdata": "AAAAAACAQECamZmZmZk+QAAAAAAAgFlAAAAAAABgdkCamZmZmZkBQNejcD0KV2RAZmZmZmZmN0AAAAAAAAA+QPYoXI/C9SJAcD0K16NwY0DsUbgehesTQJqZmZmZmU5AAAAAAAAASUBmZmZmZuYzQI/C9ShcjypAAAAAAACAZkAAAAAAAIA5QGZmZmZmZkRAzczMzMzMJ0DNzMzMzMwfQKRwPQrXoxBAzczMzMzMMEDhehSuR+HqPwAAAAAAACFAuB6F61G4MkDNzMzMzMwXQAAAAAAAADFAAAAAAAAALkDNzMzMzMxDQGZmZmZm5iNAAAAAAAAASkDNzMzMzMwUQA==",
          "dtype": "f8"
         },
         "yaxis": "y"
        },
        {
         "hovertemplate": "Invoice Date=2011-08-22<br>Invoice Number=%{x}<br>Total Sales=%{y}<extra></extra>",
         "legendgroup": "2011-08-22",
         "marker": {
          "color": "#FFA15A",
          "symbol": "circle"
         },
         "mode": "markers",
         "name": "2011-08-22",
         "showlegend": true,
         "type": "scattergl",
         "x": {
          "bdata": "4ZoIAOKaCADjmggA5JoIAOWaCADmmggA55oIAOiaCADpmggA6poIAO2aCADvmggA8JoIAPGaCADymggA85oIAPSaCAANmwgADpsIADCbCAAxmwgAM5sIADSbCAA2mwgAN5sIAEKbCABFmwgARpsIAEibCABJmwgASpsIAEubCABMmwgATZsIAE6bCABPmwgAUJsIAFGbCABSmwgAVJsIAFWbCABWmwgAV5sIAFibCABZmwgAWpsIAFubCABcmwgAXZsIAF6bCABhmwgAYpsIAGObCABrmwgAbJsIAG2bCABumwgA",
          "dtype": "i4"
         },
         "xaxis": "x",
         "y": {
          "bdata": "ZmZmZmZmKUAAAAAAAABtQArXo3A9CitAAAAAAAAAIUAAAAAAACBWQGZmZmZmZjFAuB6F61G4IkDNzMzMzMw0QGZmZmZmZjpAzczMzMzMM0A0MzMzM7NBQAAAAAAAAD5AZmZmZmZm/j8AAAAAAAApQGZmZmZmZiRAZmZmZmbmOEDNzMzMzMw0QGZmZmZmZipAAAAAAAAAPkAzMzMzMzMpQGZmZmZmZkdA7FG4HoXrM0AzMzMzMzMbQNejcD0K1ztAAAAAAACAMEBmZmZmZmZBQAAAAAAAACVAZmZmZmZmMUBmZmZmZmYxQAAAAAAAADFAMzMzMzMzJ0C4HoXrUbgiQAAAAAAAACVAZmZmZmbmhUAAAAAAAOCPQAAAAAAAACVAZmZmZmZmRECkcD0K16MAQAAAAAAAAC5AzczMzMzMF0DNzMzMzMxEQAAAAAAAMIVAZmZmZmZGRkDNzMzMzMwrQAAAAAAAgDBAAAAAAAAAIUBmZmZmZmYkQM3MzMzMzAZAzczMzMzMF0A0MzMzM7NBQAAAAAAAACVAZmZmZmZmJEBmZmZmZmYkQGZmZmZm5jNAAAAAAACAeUAAAAAAAEBVQJqZmZmZmTBA",
          "dtype": "f8"
         },
         "yaxis": "y"
        },
        {
         "hovertemplate": "Invoice Date=2011-08-23<br>Invoice Number=%{x}<br>Total Sales=%{y}<extra></extra>",
         "legendgroup": "2011-08-23",
         "marker": {
          "color": "#19d3f3",
          "symbol": "circle"
         },
         "mode": "markers",
         "name": "2011-08-23",
         "showlegend": true,
         "type": "scattergl",
         "x": {
          "bdata": "c5sIAHibCAB5mwgAepsIAHubCAB8mwgAgJsIAI2bCACkmwgApZsIAKebCAComwgAqZsIAKubCACtmwgAr5sIALCbCACxmwgAspsIALObCAC0mwgAtZsIAL6bCADAmwgAwZsIAMKbCADDmwgAxJsIAMWbCADGmwgAx5sIAMibCADKmwgAy5sIAMybCADOmwgA1ZsIANabCADamwgA25sIANybCADdmwgA3psIAN+bCADgmwgA45sIAOSbCADlmwgA5psIAOebCADomwgA",
          "dtype": "i4"
         },
         "xaxis": "x",
         "y": {
          "bdata": "zczMzMzMNEDNzMzMzMw0QDMzMzMzM2JANDMzMzOzMUCamZmZmdkxQDQzMzMzszFAAAAAAACAWUBI4XoUrkdBQAAAAAAAgG9AZmZmZmZmN0AK16NwPQonQGZmZmZm5jNAAAAAAADgbEDMzMzMzMwTQJqZmZmZ+UNAAAAAAADgUEA0MzMzM7MxQGZmZmZmZiRANDMzMzMzZkBmZmZmZmYhQOxRuB6F6zNAMzMzMzPzZkApXI/C9Sg0QJqZmZmZmW5A7FG4HoXrI0AAAAAAAIAtQAAAAAAAAC5AAAAAAADAUkA0MzMzM7M9QAAAAAAAADlAAAAAAACAQEDNzMzMzMwkQGZmZmZmZiRAAQAAAADwaUCamZmZmZkHQM3MzMzMzDRAZmZmZmZmJEA0MzMzMzNJQGZmZmZmZipAAAAAAAAAFEDNzMzMzMwXQClcj8L1KBRAAAAAAAAAJUCamZmZmZlOQAAAAAAAAC5ANDMzMzOzQUAAAAAAAAAuQAAAAAAAgDZAFK5H4XoUDEAAAAAAAAAeQJqZmZmZmQdA",
          "dtype": "f8"
         },
         "yaxis": "y"
        },
        {
         "hovertemplate": "Invoice Date=2011-08-24<br>Invoice Number=%{x}<br>Total Sales=%{y}<extra></extra>",
         "legendgroup": "2011-08-24",
         "marker": {
          "color": "#FF6692",
          "symbol": "circle"
         },
         "mode": "markers",
         "name": "2011-08-24",
         "showlegend": true,
         "type": "scattergl",
         "x": {
          "bdata": "6psIAOubCAD7mwgA/psIAP+bCAAAnAgAAZwIAAOcCAAEnAgAB5wIABacCAAYnAgAIJwIACycCAAwnAgATJwIAE2cCABOnAgAT5wIAFCcCABRnAgAUpwIAFOcCABUnAgAVpwIAFecCABYnAgAWZwIAFucCABcnAgAXZwIAF6cCABfnAgAYZwIAGKcCABjnAgAZJwIAGWcCABmnAgAZ5wIAGqcCABsnAgAbZwIAG6cCABvnAgAcJwIAHOcCAB2nAgAepwIAH6cCAB/nAgAgJwIAIGcCACCnAgAg5wIAIScCACFnAgAhpwIAIecCACJnAgAi5wIAIycCAA=",
          "dtype": "i4"
         },
         "xaxis": "x",
         "y": {
          "bdata": "zczMzMzML0DNzMzMzMw/QAAAAAAAAF5AAQAAAADwaUAzMzMzM7MtQOxRuB6F6yNAuB6F61G4ckAAAAAAAAAuQGZmZmZmZjRAAAAAAACAKUDNzMzMzMwvQDMzMzMz80ZAzczMzMzMJ0DNzMzMzMwvQAAAAAAAAIRAzczMzMzMJEAAAAAAAIA5QDMzMzMzMy9AZmZmZmZmMUCZmZmZmZkgQAAAAAAAgEZAKVyPwvUoJEBmZmZmZuYhQJqZmZmZ2TFAAAAAAABgdkAAAAAAAGB2QAAAAAAAyIBAAAAAAACAOUCkcD0K16MAQM3MzMzMzDNAAAAAAAAALkAAAAAAAAAuQDMzMzMzMwdAAAAAAAAAIUAAAAAAAABNQAAAAAAA4GVAcT0K16NwXEAzMzMzM7NXQAAAAAAAACVAAAAAAADAZUAAAAAAAIA2QAAAAAAAgFBA1qNwPQrXG0BmZmZmZmYkQAAAAAAAACFAKVyPwvUoJEAAAAAAACBlQAAAAAAAAARAZmZmZmZmJ0AAAAAAAAAuQGZmZmZmZlFAzczMzMzMM0DD9Shcj8ItQGZmZmZmZjFAAAAAAAAAQUAAAAAAAAAhQAAAAAAAoGRAzczMzMzMF0CkcD0K16MgQAAAAAAAgDZAAAAAAAAAJUA0MzMzM7MxQA==",
          "dtype": "f8"
         },
         "yaxis": "y"
        },
        {
         "hovertemplate": "Invoice Date=2011-08-25<br>Invoice Number=%{x}<br>Total Sales=%{y}<extra></extra>",
         "legendgroup": "2011-08-25",
         "marker": {
          "color": "#B6E880",
          "symbol": "circle"
         },
         "mode": "markers",
         "name": "2011-08-25",
         "showlegend": true,
         "type": "scattergl",
         "x": {
          "bdata": "jpwIAJGcCACSnAgAk5wIAJWcCACWnAgAl5wIAJicCACZnAgAm5wIAJycCACdnAgAnpwIAJ+cCACunAgAw5wIAM2cCADOnAgAz5wIANCcCADRnAgA0pwIANScCADVnAgA1pwIANecCADYnAgA+ZwIAPqcCAD9nAgAAJ0IAAKdCAADnQgABJ0IAAWdCAAJnQgAD50IABCdCAAXnQgAG50IAB6dCAAunQgAMZ0IADSdCAA2nQgAN50IADidCAA5nQgAOp0IADydCAA9nQgAPp0IAD+dCABAnQgAR50IAEidCABJnQgASp0IAEudCABMnQgATZ0IAA==",
          "dtype": "i4"
         },
         "xaxis": "x",
         "y": {
          "bdata": "SOF6FK5HREBmZmZmZmZUQGZmZmZm5jNAAAAAAACAMEAAAAAAAAA+QGZmZmZmZjFANDMzMzOzREBmZmZmZmZkQGZmZmZmZiRAKVyPwvUoFEBmZmZmZmY3QBWuR+F6FFNAAAAAAAAgc0BmZmZmZuZNQJqZmZmZ2UFAAAAAAAAAMUA+CtejcD0SQI/C9ShcjxpAmpmZmZmZL0DNzMzMzMwvQAAAAAAAgDBAcT0K16NwWUBmZmZmZjZqQAAAAAAAgDBANDMzMzMzOUCPwvUoXI/qP2ZmZmZmZiRAAAAAAAAAJUAAAAAAACBTQArXo3A9CitAzczMzMzMP0AzMzMzMzMvQGZmZmZmZipANDMzMzOzIUCamZmZmXlxQGZmZmZm5jhAAAAAAAAALkA0MzMzM7MxQNejcD0KVzFAZmZmZmZmNEBmZmZmZmYkQM3MzMzMzDRAAAAAAAAgY0ABAAAAAPB5QJqZmZmZmQdAAAAAAACAKUAAAAAAAAAhQAAAAAAAgDlAPgrXo3C9Y0C4HoXrUbjyPwAAAAAAgDBANDMzMzOzMUA9CtejcD0+QGZmZmZmZjdAAAAAAAAAPkAAAAAAAIAzQM3MzMzMzCNAzczMzMzMP0AzMzMzMzMLQGZmZmZmZv4/ZmZmZmZmLUA=",
          "dtype": "f8"
         },
         "yaxis": "y"
        },
        {
         "hovertemplate": "Invoice Date=2011-08-26<br>Invoice Number=%{x}<br>Total Sales=%{y}<extra></extra>",
         "legendgroup": "2011-08-26",
         "marker": {
          "color": "#FF97FF",
          "symbol": "circle"
         },
         "mode": "markers",
         "name": "2011-08-26",
         "showlegend": true,
         "type": "scattergl",
         "x": {
          "bdata": "T50IAFCdCABRnQgAUp0IAFOdCABUnQgAXJ0IAF2dCABenQgAZ50IAIadCACSnQgAk50IAJWdCACWnQgAl50IAJidCACanQgAm50IAJydCACdnQgAn50IAKCdCAChnQgAop0IAKOdCACnnQgAqJ0IAKmdCACtnQgAsJ0IALGdCAC0nQgAtZ0IALydCAC9nQgA",
          "dtype": "i4"
         },
         "xaxis": "x",
         "y": {
          "bdata": "AAAAAACAMEAAAAAAAAA+QDQzMzMzM1ZAzczMzMzMM0DsUbgehesjQAAAAAAAAE5AzczMzMzMREBmZmZmZmb6PwAAAAAAAC5AAAAAAAAAe0AK16NwPQo7QAAAAAAAgDNAZmZmZmZmJECamZmZmRl6QJqZmZmZ2TFAzczMzMzMM0DNzMzMzMwvQDQzMzMzsz1AAAAAAACAMEDNzMzMzMwvQDQzMzMzszFApHA9CtejEEBI4XoUrkc0QGZmZmZmZkdAMzMzMzMzL0DNzMzMzMwjQGZmZmZmZu4/NDMzMzOzMUAAAAAAAAAuQGZmZmZmZkRAAAAAAAAAKUDNzMzMzMxDQDMzMzMzsy1AAAAAAAAAPkAzMzMzM7MtQBWuR+F6FFNA",
          "dtype": "f8"
         },
         "yaxis": "y"
        },
        {
         "hovertemplate": "Invoice Date=2011-08-28<br>Invoice Number=%{x}<br>Total Sales=%{y}<extra></extra>",
         "legendgroup": "2011-08-28",
         "marker": {
          "color": "#FECB52",
          "symbol": "circle"
         },
         "mode": "markers",
         "name": "2011-08-28",
         "showlegend": true,
         "type": "scattergl",
         "x": {
          "bdata": "5Z0IAOadCADonQgA6Z0IAOqdCADrnQgA7J0IAO2dCADunQgA750IAPCdCADxnQgA8p0IAPOdCAD0nQgA9Z0IAPadCAD3nQgA+J0IAPmdCAD7nQgA/J0IAP2dCAD/nQgAAJ4IAAGeCAACnggAA54IAASeCAAFnggABp4IAAeeCAAInggACZ4IAAqeCAALnggA",
          "dtype": "i4"
         },
         "xaxis": "x",
         "y": {
          "bdata": "mpmZmZmZbkDNzMzMzMxDQDQzMzMzszFAzMzMzMzME0A0MzMzM7NBQM3MzMzMzCRA9ihcj8L1GEAAAAAAAAAuQDMzMzMzsy1A9ihcj8L1+D/NzMzMzMwzQAAAAAAAAE5ACtejcD0KC0BmZmZmZmZRQM3MzMzMzC9AZmZmZmZm+j9mZmZmZmb+P5qZmZmZ+UNAexSuR+F6VUAAAAAAAAARQGZmZmZmZidAmpmZmZkZJ0BmZmZmZmYEQGZmZmZmZgRAAAAAAAAAPkCamZmZmZk/QOF6FK5H4RpApHA9CtejEEBmZmZmZmYEQDMzMzMz82ZAZmZmZmZmCkCamZmZmZkHQAAAAAAAAD5AzczMzMzMH0DNzMzMzMwjQNajcD0K1wtA",
          "dtype": "f8"
         },
         "yaxis": "y"
        },
        {
         "hovertemplate": "Invoice Date=2011-08-30<br>Invoice Number=%{x}<br>Total Sales=%{y}<extra></extra>",
         "legendgroup": "2011-08-30",
         "marker": {
          "color": "#636efa",
          "symbol": "circle"
         },
         "mode": "markers",
         "name": "2011-08-30",
         "showlegend": true,
         "type": "scattergl",
         "x": {
          "bdata": "Dp4IABCeCAARnggAHJ4IAECeCABDnggAS54IAE6eCABPnggAUJ4IAFWeCABknggAZ54IAGqeCABrnggAbp4IAHCeCABxnggAcp4IAHOeCAB0nggA",
          "dtype": "i4"
         },
         "xaxis": "x",
         "y": {
          "bdata": "AAAAAAAALkAAAAAAAABOQDQzMzMzszFA16NwPQpXJkC4HoXrUbgSQAAAAAAAAD5AAAAAAADIgECamZmZmdlqQJqZmZmZmRBANDMzMzOzTUAzMzMzMzP7P5qZmZmZ2V1AAAAAAAAALkCPwvUoXI8aQAAAAAAAgCBAZmZmZmZm7j8AAAAAAAA+QAAAAAAAAEFAZmZmZmZm/j8AAAAAAAAUQAAAAAAAAClA",
          "dtype": "f8"
         },
         "yaxis": "y"
        },
        {
         "hovertemplate": "Invoice Date=2011-08-31<br>Invoice Number=%{x}<br>Total Sales=%{y}<extra></extra>",
         "legendgroup": "2011-08-31",
         "marker": {
          "color": "#EF553B",
          "symbol": "circle"
         },
         "mode": "markers",
         "name": "2011-08-31",
         "showlegend": true,
         "type": "scattergl",
         "x": {
          "bdata": "d54IAHueCAB8nggAfZ4IAH+eCACCnggAhJ4IAIeeCACInggAn54IAKCeCACinggApZ4IAKaeCAConggArp4IAM+eCADWnggA2Z4IAN2eCADenggA354IAOGeCADinggA454IAOWeCADmnggA554IAPCeCAADnwgAFp8IAECfCABLnwgA",
          "dtype": "i4"
         },
         "xaxis": "x",
         "y": {
          "bdata": "KVyPwvUoFEAK16NwPSp4QPYoXI/C9ShAAAAAAAAALkAAAAAAAAAuQAAAAAAAgEZAZmZmZmZmMUAAAAAAAEB1QMzMzMzMzGNAZmZmZmbmJUBmZmZmZmYkQEjhehSuR2FA9ihcj8L1MkDNzMzMzMw/QDQzMzMzM0lAAAAAAACAaUBmZmZmZmbuP2ZmZmZmZgpAAAAAAADAaEAAAAAAAAAuQGZmZmZmZiRAmpmZmZmZMEBmZmZmZmZUQAAAAAAAABlAZmZmZmZmJEAAAAAAAGBmQGZmZmZmZkFAAAAAAAAAPkCamZmZmZkXQJqZmZmZmQ9AAAAAAADASECPwvUoXI8aQGZmZmZmZkRA",
          "dtype": "f8"
         },
         "yaxis": "y"
        },
        {
         "hovertemplate": "Invoice Date=2011-09-01<br>Invoice Number=%{x}<br>Total Sales=%{y}<extra></extra>",
         "legendgroup": "2011-09-01",
         "marker": {
          "color": "#00cc96",
          "symbol": "circle"
         },
         "mode": "markers",
         "name": "2011-09-01",
         "showlegend": true,
         "type": "scattergl",
         "x": {
          "bdata": "WJ8IAFqfCABbnwgAXJ8IAF6fCABfnwgAYJ8IAGKfCABjnwgAZJ8IAGWfCAB6nwgAe58IAHyfCAB9nwgAfp8IAH+fCACAnwgAgZ8IAIKfCACDnwgAhZ8IAIafCACHnwgAiJ8IAImfCACNnwgAk58IAJWfCACWnwgAl58IAJifCACbnwgAnZ8IAJ6fCACfnwgAoJ8IAKGfCACinwgAo58IAKSfCAClnwgApp8IAL2fCADCnwgAyJ8IAM2fCADOnwgAz58IANCfCADRnwgA0p8IANSfCADVnwgA1p8IANefCADYnwgA2Z8IANqfCADbnwgA3J8IAOCfCADhnwgA458IAOSfCADlnwgA5p8IAOefCADonwgA6Z8IAA==",
          "dtype": "i4"
         },
         "xaxis": "x",
         "y": {
          "bdata": "AAAAAAAAPkDNzMzMzMwzQDMzMzMzMylAAAAAAAAAW0AAAAAAAEBKQPYoXI/C9ShAZmZmZmZmJEA0MzMzM7MxQAAAAAAAAC5AAAAAAAAAPkDNzMzMzMxTQAAAAAAAAC5AmpmZmZmZH0C4HoXrUbgyQEjhehSuRzRANDMzMzMzT0AAAAAAAIAzQJqZmZmZmU5ANDMzMzOzPUCPwvUoXI/qPwAAAAAAAH5AmpmZmZmZL0A0MzMzM7MxQDMzMzMzs11AZmZmZmZmJ0AAAAAAAAD0PwAAAAAAAD5AAQAAAAAQbUAAAAAAAAAfQBWuR+F6FFNAZmZmZmZmCkA0MzMzMzNPQDMzMzMzs01A7FG4HoXrI0BmZmZmZmZBQGZmZmZmZhpAzMzMzMzMFkAAAAAAAAA+QAAAAAAAgDBAAAAAAABATUDNzMzMzMwzQHsUrkfhelVAAAAAAAAAOUAzMzMzMzNpQAAAAAAAACVAmpmZmZkZJ0AAAAAAAABJQAAAAAAAAD5APQrXo3A9LkBmZmZmZmYaQDQzMzMzs0FAAAAAAABgZkC4HoXrUbgSQDQzMzMzs01AcT0K16NwWUA0MzMzM7MxQDQzMzMzs0FAuB6F61G4AkBSuB6F61EMQBSuR+F6FAxAmpmZmZnZMUA0MzMzM7NBQOxRuB6F62lAKVyPwvUoJEDNzMzMzMwvQM3MzMzMzFNAAAAAAABAWkAAAAAAAMAyQGZmZmZm5jFAMzMzMzMzK0A=",
          "dtype": "f8"
         },
         "yaxis": "y"
        },
        {
         "hovertemplate": "Invoice Date=2011-09-02<br>Invoice Number=%{x}<br>Total Sales=%{y}<extra></extra>",
         "legendgroup": "2011-09-02",
         "marker": {
          "color": "#ab63fa",
          "symbol": "circle"
         },
         "mode": "markers",
         "name": "2011-09-02",
         "showlegend": true,
         "type": "scattergl",
         "x": {
          "bdata": "6p8IAOyfCADunwgA858IAPSfCAD2nwgA+J8IAPmfCAD6nwgA+58IAPyfCAD9nwgA/58IAACgCAABoAgAAqAIAAOgCAAloAgAK6AIACygCAAtoAgAPaAIAD+gCABAoAgAQ6AIAESgCABFoAgARqAIAEigCABMoAgATaAIAE6gCABPoAgAUKAIAFGgCABSoAgAU6AIAFSgCABaoAgAZqAIAHagCAB3oAgAfKAIAIGgCACEoAgAhaAIAIegCACIoAgAiqAIAIugCACMoAgAlaAIAJagCACXoAgAmaAIAA==",
          "dtype": "i4"
         },
         "xaxis": "x",
         "y": {
          "bdata": "NDMzMzOzMUA0MzMzM9OLQGZmZmZm5jNAAAAAAAAAPkAAAAAAAIAwQM3MzMzMzDRAAAAAAABgiEBSuB6F67GAQAAAAAAAAC5AmpmZmZmZP0AAAAAAAAA0QGZmZmZmZjFAAAAAAAAALkBmZmZmZmb+P2ZmZmZmZgpAzczMzMzMNEBI4XoUrkfpP2dmZmZmRoZA7FG4HoVjh0ApXI/C9SgkQM3MzMzMjHFAAAAAAAAABEAzMzMzMzNZQM3MzMzMzBNAZmZmZmZmIUBmZmZmZmYxQD0K16NwPT5AzczMzMzMM0AAAAAAAIBTQM3MzMzMzBdACtejcD0KO0BmZmZmZuYjQDMzMzMzsy1AAAAAAAAALkAAAAAAAIAgQAAAAAAAgEBAZmZmZmZm+j/sUbgehesjQI/C9ShcjxpANDMzMzOzPUDNzMzMzMwzQMH1KFyPwh1A16NwPQpXZEBmZmZmZqaKQAAAAAAAgEZAAAAAAAAAOUD2KFyPwnUwQJqZmZmZWTBAzMzMzMxsUEAzMzMzMzNJQDQzMzMzsyFAAAAAAAAAHUApXI/C9SgkQPYoXI/C9eg/MzMzMzPzMkA=",
          "dtype": "f8"
         },
         "yaxis": "y"
        },
        {
         "hovertemplate": "Invoice Date=2011-09-04<br>Invoice Number=%{x}<br>Total Sales=%{y}<extra></extra>",
         "legendgroup": "2011-09-04",
         "marker": {
          "color": "#FFA15A",
          "symbol": "circle"
         },
         "mode": "markers",
         "name": "2011-09-04",
         "showlegend": true,
         "type": "scattergl",
         "x": {
          "bdata": "nKAIAJ2gCACeoAgAn6AIAKCgCAChoAgAoqAIAKOgCACloAgApqAIAKegCACpoAgAqqAIAKugCACsoAgAraAIALCgCACyoAgAs6AIALWgCAC3oAgAuKAIALmgCAC6oAgAu6AIALygCAC9oAgAvqAIAL+gCADBoAgAxKAIAMWgCADGoAgAx6AIAMigCADJoAgAyqAIAMugCADMoAgAzaAIAM6gCADQoAgA",
          "dtype": "i4"
         },
         "xaxis": "x",
         "y": {
          "bdata": "Z2ZmZmZmGkDNzMzMzMw0QGZmZmZmZjRAmpmZmZmZJ0AzMzMzMzP3PwAAAAAAAC5AmpmZmZnZMUDMzMzMzMwTQGZmZmZmZipAzczMzMzMM0AAAAAAAAAhQGZmZmZmhlhANDMzMzMzOUAzMzMzMzM3QAAAAAAAgDBAZmZmZmbmI0DNzMzMzMwzQNajcD0K1wtAmpmZmZmZLkDNzMzMzMwzQDMzMzMzMxdAZmZmZmZm/j8AAAAAAMBIQGZmZmZm5jhAAAAAAAAAQUBmZmZmZmYkQAAAAAAAgDBAzczMzMzMNEBmZmZmZmZEQAAAAAAAAA5AzczMzMzMEECkcD0K16MQQDMzMzMzMy9AZmZmZmZmMUAzMzMzM7MtQGZmZmZmZjFAMzMzMzOzLUAAAAAAAAAlQGZmZmZmZkdAZmZmZmZmKkAAAAAAAAAuQGZmZmZmZu4/",
          "dtype": "f8"
         },
         "yaxis": "y"
        },
        {
         "hovertemplate": "Invoice Date=2011-09-05<br>Invoice Number=%{x}<br>Total Sales=%{y}<extra></extra>",
         "legendgroup": "2011-09-05",
         "marker": {
          "color": "#19d3f3",
          "symbol": "circle"
         },
         "mode": "markers",
         "name": "2011-09-05",
         "showlegend": true,
         "type": "scattergl",
         "x": {
          "bdata": "0aAIANKgCADToAgA1KAIANWgCADWoAgA16AIANigCADZoAgA26AIANygCADdoAgA36AIAOCgCADhoAgA5qAIAOegCADooAgA6aAIAPCgCADzoAgA9KAIAAmhCAALoQgAJaEIACahCAA7oQgAPaEIAEGhCABJoQgAS6EIAEyhCABQoQgAUaEIAFKhCABUoQgAVaEIAFahCABXoQgAWKEIAFmhCABaoQgAW6EIAFyhCABeoQgAaqEIAGuhCABtoQgAbqEIAHChCAByoQgAf6EIAIuhCACMoQgAkKEIAJGhCACgoQgAoaEIAA==",
          "dtype": "i4"
         },
         "xaxis": "x",
         "y": {
          "bdata": "AAAAAAAASUDNzMzMzMw0QDUzMzMzM3lAAAAAAACASUBmZmZmZuYjQDMzMzMzsy1AZmZmZmZmKkCamZmZmZkvQClcj8L1KCRAzczMzMzMM0A0MzMzM7MxQGZmZmZmeoJA7FG4HoXrI0BmZmZmZmYxQM3MzMzMzDRAMzMzMzMzC0AAAAAAAAAxQAAAAAAAgFlAAAAAAAAAMUBmZmZmZuYzQAAAAAAAwGVANDMzMzMzZkBmZmZmZmZBQDQzMzMzszFAAAAAAAAAE0ApXI/C9SgUQAAAAAAAAPQ/AAAAAAAALkBmZmZmZmYkQAAAAAAAAB5AZmZmZmZmCkBmZmZmZmYkQAAAAAAAAC5AAAAAAAAAIUBmZmZmZmY6QClcj8L1KARAzczMzMzMbEDNzMzMzAxNQDQzMzMzM2ZANDMzMzMzZkAAAAAAAAAuQAAAAAAAgDBACtejcD0KK0AAAAAAAAApQAAAAAAAAC5AZmZmZmZmN0DNzMzMzMxDQPYoXI/C9SJAMzMzMzMzKUC4HoXrUbgiQNajcD0K1xtAAAAAAADASEAzMzMzM7MtQDQzMzMzM1ZAZmZmZmZmF0CkcD0K16MQQGZmZmZmZipAzczMzMzMI0A=",
          "dtype": "f8"
         },
         "yaxis": "y"
        },
        {
         "hovertemplate": "Invoice Date=2011-09-06<br>Invoice Number=%{x}<br>Total Sales=%{y}<extra></extra>",
         "legendgroup": "2011-09-06",
         "marker": {
          "color": "#FF6692",
          "symbol": "circle"
         },
         "mode": "markers",
         "name": "2011-09-06",
         "showlegend": true,
         "type": "scattergl",
         "x": {
          "bdata": "o6EIAKShCACloQgApqEIAKihCACpoQgAqqEIAKuhCACsoQgAraEIAK6hCACvoQgAsKEIALKhCAC0oQgAtaEIANuhCADcoQgA3aEIAN6hCADfoQgA4KEIAOGhCADioQgA46EIAOShCADloQgA5qEIAOehCADooQgA6aEIAOqhCADsoQgA7aEIAPOhCAD2oQgA96EIAPmhCAD6oQgA/KEIAP2hCAD+oQgAA6IIAAaiCAAIoggACaIIABCiCAASoggAE6IIABSiCAAVoggAFqIIABeiCAAYoggA",
          "dtype": "i4"
         },
         "xaxis": "x",
         "y": {
          "bdata": "AAAAAAAAMUAAAAAAAABeQClcj8L1KERANDMzMzOzQUBmZmZmZmY3QGZmZmZmRkZAAAAAAAAAMUDXo3A9CldBQDMzMzMzs11AmpmZmZmZMEBmZmZmZmYxQAAAAAAA4F9AMzMzMzMzWUDNzMzMzMw3QAAAAAAAAC5AZmZmZmZmNEBnZmZmZqZgQGZmZmZmZlRAKVyPwvUoJEAAAAAAAMBIQLgehetRuCJAAAAAAAAALkA0MzMzMzM5QAAAAAAAAB5AAAAAAAAALkAAAAAAAAApQAAAAAAAgDlAUrgehetRKkAAAAAAAAAuQHA9CtejcGNAMzMzMzOzLUAAAAAAAIA5QMzMzMzMzGNAmpmZmZlZUEDNzMzMzMw0QGZmZmZmZi9AMzMzMzMzH0AAAAAAAMBIQAAAAAAAAC5AZ2ZmZmZmGkDWo3A9CtcrQJqZmZmZGUpAAAAAAACAZkBmZmZmZmYKQM3MzMzMzCNAZmZmZmbmM0BmZmZmZmYaQAAAAAAAgClAuB6F61G4IkAAAAAAAAA5QGZmZmZmZjFA4noUrkfhGkC4HoXrUbgyQAAAAAAAgClA",
          "dtype": "f8"
         },
         "yaxis": "y"
        },
        {
         "hovertemplate": "Invoice Date=2011-09-07<br>Invoice Number=%{x}<br>Total Sales=%{y}<extra></extra>",
         "legendgroup": "2011-09-07",
         "marker": {
          "color": "#B6E880",
          "symbol": "circle"
         },
         "mode": "markers",
         "name": "2011-09-07",
         "showlegend": true,
         "type": "scattergl",
         "x": {
          "bdata": "HKIIAB6iCAAfoggAIKIIACGiCAAioggAI6IIACSiCAAqoggAK6IIAC2iCAAuoggAL6IIADCiCABLoggATKIIAE6iCABPoggAUqIIAFSiCABVoggAVqIIAFmiCABaoggAXaIIAF+iCABgoggAYqIIAGOiCABkoggAZaIIAGaiCABnoggAbqIIAHWiCACNoggAmqIIAJuiCACeoggA",
          "dtype": "i4"
         },
         "xaxis": "x",
         "y": {
          "bdata": "AAAAAAAAKUBmZmZmZuZIQDQzMzMzM1ZA7FG4HoXrM0A0MzMzMzNmQAAAAAAAYGZAAAAAAAAALkDNzMzMzMw0QD0K16NwPT5AzczMzMzMM0AAAAAAAABBQM3MzMzMzDNAAAAAAAAAJUAAAAAAAAA3QDMzMzMzMw9AMzMzMzOzXUDNzMzMzMwvQAAAAAAAAC5ANDMzMzOzPUDNzMzMzMwzQM3MzMzMzERAZmZmZmZmFEBmZmZmZmY0QGZmZmZmZv4/mpmZmZmZTkApXI/C9SgkQAAAAAAAgCBAUrgeheuxgEAUrkfhehQsQLgehetRuBJAzczMzMzME0AAAAAAAAA+QDMzMzMzsy1AAAAAAAAALkAAAAAAAIBZQGZmZmZmZlFA4XoUrkfhJEDNzMzMzMwkQAAAAAAAABtA",
          "dtype": "f8"
         },
         "yaxis": "y"
        },
        {
         "hovertemplate": "Invoice Date=2011-09-08<br>Invoice Number=%{x}<br>Total Sales=%{y}<extra></extra>",
         "legendgroup": "2011-09-08",
         "marker": {
          "color": "#FF97FF",
          "symbol": "circle"
         },
         "mode": "markers",
         "name": "2011-09-08",
         "showlegend": true,
         "type": "scattergl",
         "x": {
          "bdata": "oKIIAKGiCACioggAo6IIAKSiCACmoggAqaIIAKyiCACtoggArqIIALCiCACxoggA06IIAOaiCADpoggA6qIIAOuiCADxoggA9aIIAPaiCAD4oggA+aIIAPqiCAD9oggA/qIIAP+iCAAAowgAAaMIAAKjCAADowgABKMIAAWjCAAGowgAB6MIAAijCAAJowgACqMIAAujCAAMowgAEaMIABOjCAAVowgAFqMIABejCAAaowgAG6MIAByjCAAdowgAHqMIAB+jCAAgowgAIaMIACKjCAAjowgAJKMIACWjCAAnowgAKKMIACmjCAAqowgALaMIAC6jCAAvowgAOaMIAA==",
          "dtype": "i4"
         },
         "xaxis": "x",
         "y": {
          "bdata": "AAAAAAAALkA0MzMzMzNJQAAAAAAAAC5AZmZmZmZmYUAAAAAAAABOQGZmZmZmZjFAFa5H4XoUU0CkcD0K16MAQAAAAAAAAC5ASOF6FK5HREDsUbgehet5QGZmZmZm5jNAzczMzMzMJ0DNzMzMzMw0QM3MzMzMzENAmpmZmZmZEEA0MzMzM7NNQAAAAAAAAPQ/mpmZmZmZF0AAAAAAAAAuQAAAAAAAgCBA7FG4HoXrSUAAAAAAAIApQM3MzMzMzERAzczMzMzMJECamZmZmZknQAAAAAAAAC5AZmZmZmZmMUA0MzMzMzMZQAAAAAAAABRAAAAAAACAKUAAAAAAAMAyQM3MzMzMzDNAZmZmZmZmREDNzMzMzMw0QAAAAAAAABRAAAAAAAAALkAAAAAAAAAuQAAAAAAAAHRAzczMzMzME0AzMzMzMzMpQBSuR+F6FGNAmpmZmZmZQkDNzMzMzMwvQKRwPQrXowBAAAAAAACAMEA0MzMzMzM5QAAAAAAAQFpAmpmZmZlZQED2KFyPwvU4QDMzMzMz8zBAzczMzMzMM0AK16NwPQo7QPYoXI/C9SJAFa5H4XoUU0BmZmZmZuYjQM3MzMzMzCNA4XoUrkfh6j9xPQrXo3AcQM3MzMzMzENAAAAAAAAAJEAAAAAAAIBWQJqZmZmZmS5AzczMzMzMI0A=",
          "dtype": "f8"
         },
         "yaxis": "y"
        },
        {
         "hovertemplate": "Invoice Date=2011-09-09<br>Invoice Number=%{x}<br>Total Sales=%{y}<extra></extra>",
         "legendgroup": "2011-09-09",
         "marker": {
          "color": "#FECB52",
          "symbol": "circle"
         },
         "mode": "markers",
         "name": "2011-09-09",
         "showlegend": true,
         "type": "scattergl",
         "x": {
          "bdata": "O6MIAD2jCAA/owgAQKMIAEGjCABCowgAQ6MIAEWjCABGowgAR6MIAEmjCABLowgATKMIAE6jCABcowgAZaMIAGujCABsowgAkqMIAJmjCACaowgAm6MIAJyjCACfowgAoqMIAKijCACqowgArKMIAK2jCACuowgAr6MIALCjCACxowgAsqMIALSjCAC2owgAt6MIALijCAC5owgAuqMIALujCAC8owgAvqMIAL+jCADAowgAxaMIAMajCADHowgAyaMIAMqjCADLowgAzKMIAA==",
          "dtype": "i4"
         },
         "xaxis": "x",
         "y": {
          "bdata": "AAAAAAAALkDNzMzMzMwzQGZmZmZmZjRAAAAAAAAALkAAAAAAAMAyQAAAAAAAAClAAAAAAAAALkAAAAAAAIAtQAAAAAAAAC5AAAAAAACAMEA0MzMzMzNmQAAAAAAAgCBAAAAAAAAAJUCZmZmZmZkwQM3MzMzMzGNAAAAAAAAAL0AAAAAAAAAxQGZmZmZmZv4/zczMzMzMM0DWo3A9CtcbQAAAAAAAACFAzczMzMzMIEAAAAAAAAA+QOxRuB6F6yNAAAAAAAAAHkAAAAAAAKBkQDQzMzMzMzlAAAAAAAAAPkAAAAAAAAA+QM3MzMzMzBBAZmZmZmZmJ0AAAAAAAAApQDQzMzMzszFAzczMzMzMK0AAAAAAAAAuQJqZmZmZmU5AAAAAAADAUkCkcD0K16MAQGZmZmZmhlhAAAAAAACAIECkcD0K16MAQJqZmZmZ2TFAMzMzMzOzLUAUrkfhepRnQAAAAAAAABFAAAAAAACAOUAAAAAAAIBJQDQzMzMzs0FAUrgehetRCkCamZmZmdlBQPYoXI/C9ShAzMzMzMzsUUA=",
          "dtype": "f8"
         },
         "yaxis": "y"
        },
        {
         "hovertemplate": "Invoice Date=2011-09-11<br>Invoice Number=%{x}<br>Total Sales=%{y}<extra></extra>",
         "legendgroup": "2011-09-11",
         "marker": {
          "color": "#636efa",
          "symbol": "circle"
         },
         "mode": "markers",
         "name": "2011-09-11",
         "showlegend": true,
         "type": "scattergl",
         "x": {
          "bdata": "0aMIANKjCADTowgA1KMIANWjCADWowgA16MIANijCADaowgA26MIANyjCADdowgA3qMIAN+jCADgowgA4aMIAOKjCADjowgA5KMIAOWjCADmowgA56MIAOijCADpowgA6qMIAOujCADtowgA7qMIAO+jCADxowgA8qMIAPOjCAD0owgA9aMIAPajCAD4owgA+aMIAPqjCAD9owgA/qMIAP+jCAAApAgAAaQIAAKkCAADpAgABKQIAAWkCAAGpAgAB6QIAAmkCAAKpAgAC6QIAAykCAANpAgADqQIAA+kCAAQpAgAEaQIABKkCAATpAgAFKQIABWkCAAWpAgAF6QIABikCAAZpAgAGqQIABukCAAcpAgAHaQIAB6kCAA=",
          "dtype": "i4"
         },
         "xaxis": "x",
         "y": {
          "bdata": "AAAAAAAAAkAAAAAAAIAzQJqZmZmZmV5ANDMzMzMzZkAAAAAAAIBGQAAAAAAAAClANDMzMzOzMUCPwvUoXI8qQGZmZmZmZg5ANDMzMzOzQUBmZmZmZuYzQM3MzMzMzCNAMzMzMzMzD0AAAAAAAAAuQJiZmZmZmR5A7FG4HoVrbkAAAAAAAAAxQDMzMzMz80BANDMzMzMzOUBmZmZmZuZYQAAAAAAAgFZAAAAAAADAWEAAAAAAAAAuQDMzMzMzM/8/w/UoXI+CbkAAAAAAAAAUQHE9Ctej8CdAAAAAAACAOUAzMzMzMzNJQDMzMzMzM0lAAAAAAACAOUCamZmZmdl0QDMzMzMzM0lAAAAAAAAASUAAAAAAACBTQMzMzMzMzBNAAAAAAAAANEDWo3A9CtcbQGZmZmZmZu4/NDMzMzMzT0BmZmZmZmYqQGZmZmZmZu4/AAAAAAAATkCamZmZmZkXQGZmZmZmZg5A7FG4HoXrSUBmZmZmZmY3QGZmZmZmZiRAzczMzMzMK0DXo3A9ClcxQDQzMzMzs01AAAAAAAAALkA0MzMzM7NBQJqZmZmZ2TFAAAAAAAAAPkAzMzMzMzMPQGZmZmZmZiRAUrgehetROkAAAAAAAIAgQAAAAAAAACFAuB6F61G4IkAAAAAAAAAlQGZmZmZm5iNAMzMzMzMzaUCamZmZmZkiQKRwPQrXowBApHA9CtejAEAAAAAAAAA+QAAAAAAAgEBAzMzMzMzME0AAAAAAAIAgQA==",
          "dtype": "f8"
         },
         "yaxis": "y"
        },
        {
         "hovertemplate": "Invoice Date=2011-09-12<br>Invoice Number=%{x}<br>Total Sales=%{y}<extra></extra>",
         "legendgroup": "2011-09-12",
         "marker": {
          "color": "#EF553B",
          "symbol": "circle"
         },
         "mode": "markers",
         "name": "2011-09-12",
         "showlegend": true,
         "type": "scattergl",
         "x": {
          "bdata": "H6QIACCkCAAhpAgAIqQIACOkCAAkpAgAJaQIACakCAAnpAgAKKQIACqkCAArpAgALaQIAC6kCAAvpAgAMKQIADGkCAAypAgANqQIADikCAA5pAgAPqQIAEmkCABZpAgAXKQIAHmkCAB6pAgAe6QIAHykCAB9pAgAfqQIAH+kCACApAgAgqQIAIOkCACFpAgAiKQIAJSkCACVpAgAlqQIAJikCACZpAgAmqQIAJukCACcpAgAnaQIAJ6kCACfpAgAoKQIAKGkCACipAgAo6QIAKakCACnpAgAqKQIAKmkCACqpAgAq6QIAKykCACvpAgAsKQIALKkCACzpAgAtKQIALWkCAC3pAgAwaQIAA==",
          "dtype": "i4"
         },
         "xaxis": "x",
         "y": {
          "bdata": "AAAAAAAALkDNzMzMzMw0QAAAAAAAAD5AAAAAAAAAMUCamZmZmdkxQAAAAAAAAD5AmZmZmZmZMEBmZmZmZmZhQOxRuB6F6zNAMzMzMzOzLUAAAAAAAAAuQNejcD0KVzFAmpmZmZnZQUDNzMzMzMw0QAAAAAAAAC5AZmZmZmbmOEDNzMzMzMwXQM3MzMzMzDNAAAAAAACAMEDWo3A9CtcrQAAAAAAAAClAAAAAAAAAREAAAAAAAAAlQAAAAAAAgDBAZmZmZmZmMUD2KFyPwvU4QJqZmZmZmS9AAAAAAACAVkDNzMzMzMwzQJqZmZmZmfE/zczMzMzMP0A0MzMzM7MxQM3MzMzMzDNAAAAAAAAAPkDNzMzMzMwzQJqZmZmZ2W1AmpmZmZmZH0BmZmZmZmb+PxWuR+F6FFNAzczMzMzMMEAAAAAAAIAwQAAAAAAAgDBAmpmZmZkZOkBmZmZmZuYjQPYoXI/C9SJANDMzMzMzOUAAAAAAAEBVQAAAAAAAAC5AAAAAAAAAJUAAAAAAAIAwQDQzMzMzs01AMzMzMzMzL0A0MzMzM7MhQDQzMzMzszFAFK5H4XoULEAzMzMzMzMbQD4K16NwPRJAZmZmZmbmMUDNzMzMzMxDQD4K16NwPVVAAAAAAAAAMUBmZmZmZuYjQJqZmZmZmRdAMzMzMzMz6z8AAAAAAIAjQAAAAAAAADVAAAAAAAAA9D8=",
          "dtype": "f8"
         },
         "yaxis": "y"
        },
        {
         "hovertemplate": "Invoice Date=2011-09-13<br>Invoice Number=%{x}<br>Total Sales=%{y}<extra></extra>",
         "legendgroup": "2011-09-13",
         "marker": {
          "color": "#00cc96",
          "symbol": "circle"
         },
         "mode": "markers",
         "name": "2011-09-13",
         "showlegend": true,
         "type": "scattergl",
         "x": {
          "bdata": "zaQIAM+kCADQpAgA0aQIANKkCADTpAgA1KQIANWkCADWpAgA16QIANikCADZpAgA26QIAN+kCAD2pAgA+KQIAAmlCAALpQgAGqUIABulCAAcpQgAHqUIAB+lCAAgpQgAIaUIACKlCAAjpQgAJKUIACalCAAnpQgAK6UIACylCAAvpQgAMKUIADSlCAA1pQgANqUIADelCAA5pQgAO6UIADylCAA9pQgAPqUIAD+lCABApQgAQqUIAEOlCABEpQgARaUIAEelCABIpQgASaUIAEylCABNpQgATqUIAE+lCABSpQgAVKUIAA==",
          "dtype": "i4"
         },
         "xaxis": "x",
         "y": {
          "bdata": "zczMzMzMM0AAAAAAAABBQM3MzMzMzDNAAAAAAABgdkAAAAAAAIAwQDQzMzMzMzlAAAAAAAAANEAAAAAAAAAyQPYoXI/C9UhAMzMzMzMzSUCamZmZmdk3QArXo3A9CktAKVyPwvUoFEApXI/C9SgUQM3MzMzMzBNAZmZmZmbmI0BmZmZmZmYqQJqZmZmZmSBAAAAAAACAMEAAAAAAAIBAQDMzMzMzs21AAAAAAABgZkCamZmZmZkvQAAAAAAAgDNA16NwPQpXMUCamZmZmdlRQFyPwvUoXBtAMzMzMzMz/z8pXI/C9SgnQM3MzMzMzERAAAAAAACANkAzMzMzM7MtQGdmZmZmpmBAAAAAAACAMEDNzMzMzMw0QAAAAAAAAD5AAAAAAACANkAzMzMzMzMXQJqZmZmZmT5AzczMzMzMM0A0MzMzMzM5QM3MzMzMzDRAAAAAAAAALkDNzMzMzMw0QGZmZmZmZipAmpmZmZkZKkAAAAAAACBzQJqZmZmZeWBANDMzMzOzMUBmZmZmZmYKQDQzMzMzMzlAzczMzMzMF0BmZmZmZmbuP2ZmZmZmZu4/uB6F61G4IkCamZmZmZkuQGZmZmZmZvo/zczMzMzMNEA=",
          "dtype": "f8"
         },
         "yaxis": "y"
        },
        {
         "hovertemplate": "Invoice Date=2011-09-14<br>Invoice Number=%{x}<br>Total Sales=%{y}<extra></extra>",
         "legendgroup": "2011-09-14",
         "marker": {
          "color": "#ab63fa",
          "symbol": "circle"
         },
         "mode": "markers",
         "name": "2011-09-14",
         "showlegend": true,
         "type": "scattergl",
         "x": {
          "bdata": "WKUIAFmlCABapQgAW6UIAFylCABdpQgAXqUIAGClCABjpQgAZKUIAGWlCABmpQgAZ6UIAGilCABppQgAaqUIAHelCAB4pQgAeaUIAIulCACMpQgAjaUIAI6lCACRpQgAkqUIAJOlCACmpQgAsaUIALOlCAC0pQgAtaUIALmlCAC9pQgAvqUIAL+lCADApQgAwaUIAMKlCADDpQgAxKUIAMalCADHpQgAyKUIAMmlCADKpQgAy6UIAMylCADNpQgAzqUIAM+lCADRpQgA0qUIANSlCADYpQgA2qUIANulCADepQgA46UIAOelCADopQgA",
          "dtype": "i4"
         },
         "xaxis": "x",
         "y": {
          "bdata": "AAAAAAAALkBmZmZmZuZIQJqZmZmZmU5AAAAAAABgZkA0MzMzM7MxQAAAAAAAgEZA7FG4HoXrI0AzMzMzM7MtQAAAAAAAgEBAAAAAAAAAMUA0MzMzM7NBQGZmZmZmZjRAZmZmZmbmOED2KFyPwvUoQPYoXI/C9UhANDMzMzMzVkBmZmZmZmYEQDQzMzMzszFAUrgehevRWkDXo3A9CldUQJqZmZmZ2TFAAAAAAAAALkBmZmZmZmYxQGZmZmZmZjdAzczMzMzMP0DsUbgehesjQGZmZmZmZiRAAAAAAAAAQUAAAAAAAAA+QGZmZmZm5jNAMzMzMzMzSUBmZmZmZuYjQGZmZmZm5jNAmpmZmZnZUUAAAAAAAAApQGZmZmZm5kNAAAAAAAAAO0BmZmZmZmZRQDQzMzMzsz1AmpmZmZmZN0DNzMzMzMwrQB+F61G4nmxAcT0K16NwPECkcD0K16MQQJqZmZmZmQdAAAAAAAAAIUDNzMzMzMw0QAAAAAAAAD5AzczMzMzMF0AAAAAAAAAUQGZmZmZmZiRAzczMzMzMQ0BmZmZmZmYxQAAAAAAAwFhAmpmZmZnZVEBmZmZmZmYaQGZmZmZm5jNAZmZmZmZmMUD2KFyPwvU4QJqZmZmZ2UFA",
          "dtype": "f8"
         },
         "yaxis": "y"
        },
        {
         "hovertemplate": "Invoice Date=2011-09-15<br>Invoice Number=%{x}<br>Total Sales=%{y}<extra></extra>",
         "legendgroup": "2011-09-15",
         "marker": {
          "color": "#FFA15A",
          "symbol": "circle"
         },
         "mode": "markers",
         "name": "2011-09-15",
         "showlegend": true,
         "type": "scattergl",
         "x": {
          "bdata": "8aUIAPKlCADzpQgA9KUIAPalCAD6pQgA/aUIAP+lCAACpggABKYIAAWmCAAGpggAIaYIACKmCAAjpggAJaYIACamCAAnpggALaYIADGmCAA/pggAQKYIAEGmCABCpggAQ6YIAEymCABNpggATqYIAE+mCABQpggAUaYIAFKmCABTpggAVKYIAFWmCABWpggAV6YIAFimCABbpggAa6YIAHWmCAB4pggAgKYIAIGmCACCpggAg6YIAIWmCACJpggAiqYIAIumCACOpggAj6YIAJCmCACRpggAkqYIAJOmCACUpggAlaYIAJamCACXpggAmKYIAJmmCACapggApqYIAKemCACqpggAr6YIALKmCAC0pggAt6YIALimCAC5pggA",
          "dtype": "i4"
         },
         "xaxis": "x",
         "y": {
          "bdata": "ZmZmZmZmJEDNzMzMzMxDQAAAAAAAAC5AAAAAAAAAOUDNzMzMzMwzQJmZmZmZmSBAAAAAAAAALkAAAAAAAIAwQNejcD0KVzFAPgrXo3C9Y0AAAAAAAAAlQDMzMzMzs1FAPQrXo3A9TkBI4XoUrkc0QGZmZmZmZgpAzczMzMzMREA0MzMzM7MxQD0K16NwPS5AAAAAAACAWUAAAAAAAABBQJqZmZmZmRBAZmZmZmZmdEAAAAAAAAA+QAAAAAAAgDZAAAAAAAAADkDNzMzMzMwfQAAAAAAAgENAZmZmZmZmN0DNzMzMzMwzQGZmZmZmZvo/AAAAAAAALkCamZmZmZleQAAAAAAAAE1AzczMzMzMREBmZmZmZmYxQGZmZmZmZjFAuB6F61G4IkAAAAAAAAAxQJqZmZmZmTBA9ihcj8L1OEAAAAAAAAAxQM3MzMzMzDRAzczMzMzMMEA+CtejcL1TQMzMzMzMzBNAKVyPwvUoJEAAAAAAAAAuQJqZmZmZmS5AuB6F61G4IkCamZmZmZkXQGZmZmZmZiRAZmZmZmbEn0D2KFyPwvUoQAAAAAAAAC5AZmZmZmZmKkAAAAAAABqgQM3MzMzMzCNAZmZmZmbmVkAAAAAAAHiVQAAAAAAAoIxAAAAAAACgjEAAAAAAAOBgQMP1KFyPwi1A9ihcj8L1KEAAAAAAAAA1QM3MzMzMzDNApHA9CtejIEAAAAAAAAAxQAAAAAAAAB5AZmZmZmZmJEA0MzMzM7MxQM3MzMzMzDNA",
          "dtype": "f8"
         },
         "yaxis": "y"
        },
        {
         "hovertemplate": "Invoice Date=2011-09-16<br>Invoice Number=%{x}<br>Total Sales=%{y}<extra></extra>",
         "legendgroup": "2011-09-16",
         "marker": {
          "color": "#19d3f3",
          "symbol": "circle"
         },
         "mode": "markers",
         "name": "2011-09-16",
         "showlegend": true,
         "type": "scattergl",
         "x": {
          "bdata": "u6YIALymCAC9pggAvqYIAL+mCADApggAw6YIAMSmCADFpggAzKYIAAOnCAAWpwgAGqcIACKnCAAkpwgAJacIADSnCAA1pwgANqcIADenCAA4pwgAOacIADunCAA+pwgAQKcIAEenCABUpwgAVqcIAFinCABipwgAY6cIAGSnCABlpwgAZqcIAGinCABppwgAbKcIAHGnCABypwgAdKcIAHWnCAB2pwgA",
          "dtype": "i4"
         },
         "xaxis": "x",
         "y": {
          "bdata": "AAAAAAAALkAAAAAAAAArQGZmZmZmZjRAzczMzMzMREDNzMzMzMw0QGZmZmZmZjRAmpmZmZnZUUAAAAAAAIAwQAAAAAAAgDNAAAAAAAAAMUDNzMzMzMwjQAAAAAAAADFAAAAAAAAAKUAAAAAAAAAeQM3MzMzMzDNAMzMzMzMzB0A0MzMzM7MxQAAAAAAAgDBAAAAAAACAMEAAAAAAAIAwQM3MzMzMjDFAzczMzMzMQ0DNzMzMzMwQQLgehetR6GFAAAAAAAAAJEDXo3A9ClcxQDQzMzMzMzlAZmZmZmZmCkBmZmZmZmYvQJqZmZmZmS5AAAAAAABAVUAAAAAAAIA2QM3MzMzMzDNAmpmZmZmZMEApXI/C9SgUQAAAAAAAAC5A16NwPQpXYUAAAAAAAIAgQAAAAAAAACRAMzMzMzMz+z+amZmZmZlOQAAAAAAAAPQ/",
          "dtype": "f8"
         },
         "yaxis": "y"
        },
        {
         "hovertemplate": "Invoice Date=2011-09-18<br>Invoice Number=%{x}<br>Total Sales=%{y}<extra></extra>",
         "legendgroup": "2011-09-18",
         "marker": {
          "color": "#FF6692",
          "symbol": "circle"
         },
         "mode": "markers",
         "name": "2011-09-18",
         "showlegend": true,
         "type": "scattergl",
         "x": {
          "bdata": "d6cIAHinCAB5pwgAeqcIAHunCAB8pwgAfacIAH6nCAB/pwgAgKcIAIGnCACCpwgAg6cIAISnCACFpwgAhqcIAIenCACIpwgAiqcIAIunCACMpwgAjacIAI6nCACPpwgAkKcIAJGnCACSpwgA",
          "dtype": "i4"
         },
         "xaxis": "x",
         "y": {
          "bdata": "16NwPQpXVEBmZmZmZuZNQDQzMzMzs0FAmpmZmZmZTkDD9ShcjwJKQDMzMzMz8zVAMzMzMzMz/z8AAAAAAAAxQAAAAAAAAB5AKVyPwvUoFEC4HoXrUbgCQAAAAAAAAB1AAAAAAABgZkBmZmZmZmZkQM3MzMzMzCNAmJmZmZmZHkAAAAAAAAAeQAAAAAAAAB1AAAAAAAAAOUAAAAAAAIA5QAAAAAAAABRA9ihcj8L1IkA0MzMzM7M9QAAAAAAAAB5AMzMzMzMzB0AzMzMzM/MwQAAAAAAAgC1A",
          "dtype": "f8"
         },
         "yaxis": "y"
        },
        {
         "hovertemplate": "Invoice Date=2011-09-19<br>Invoice Number=%{x}<br>Total Sales=%{y}<extra></extra>",
         "legendgroup": "2011-09-19",
         "marker": {
          "color": "#B6E880",
          "symbol": "circle"
         },
         "mode": "markers",
         "name": "2011-09-19",
         "showlegend": true,
         "type": "scattergl",
         "x": {
          "bdata": "lacIAJanCACYpwgAmacIAJqnCACbpwgAn6cIAKCnCACipwgAo6cIAKSnCAClpwgApqcIAKunCACtpwgAxKcIAMenCADUpwgA96cIAPinCAD8pwgA/qcIAP+nCAABqAgAA6gIAAaoCAAHqAgACKgIAAuoCAAMqAgADagIAA6oCAAPqAgAEKgIABGoCAAbqAgAHKgIAB2oCAAeqAgAH6gIACCoCAAhqAgAJagIACqoCAArqAgALagIAC6oCAAvqAgAMKgIADKoCAA6qAgAPKgIAEKoCAA=",
          "dtype": "i4"
         },
         "xaxis": "x",
         "y": {
          "bdata": "16NwPQpXQUAzMzMzMzMvQArXo3A9Cvs/AAAAAACAVkAAAAAAAAAuQClcj8L1KCRAmpmZmZnZPUBmZmZmZmYkQAAAAAAAwFRAzczMzMzMM0AAAAAAAAAlQNejcD0KV0FAzczMzMzMNEAAAAAAAAARQDMzMzMzM+s/AAAAAACAQEAAAAAAAIBGQAAAAAAAAC5AAAAAAAAAKUAzMzMzMzP7PzMzMzMzM/8/ZmZmZmZmJEDNzMzMzMwzQM3MzMzMzDNAzczMzMzMQ0AAAAAAAAAhQEjhehSuRzRAzczMzMzMBkDNzMzMzMw0QDQzMzMzszFAMzMzMzO/l0C4HoXrUbjyP3E9CtejcDlA9ihcj8L1OEAAAAAAAIA2QM3MzMzMzDNAmpmZmZmZTkAAAAAAAGBmQArXo3A9CitAKVyPwvUoJEA0MzMzMzM5QAAAAAAAAEFACtejcD0KB0AAAAAAAAAlQAAAAAAAACVANDMzMzOzTUAAAAAAAAAkQGZmZmZmZipANDMzMzMzH0A0MzMzMzNmQAAAAAAAYGZAmpmZmZmZN0BmZmZmZuZTQA==",
          "dtype": "f8"
         },
         "yaxis": "y"
        },
        {
         "hovertemplate": "Invoice Date=2011-09-20<br>Invoice Number=%{x}<br>Total Sales=%{y}<extra></extra>",
         "legendgroup": "2011-09-20",
         "marker": {
          "color": "#FF97FF",
          "symbol": "circle"
         },
         "mode": "markers",
         "name": "2011-09-20",
         "showlegend": true,
         "type": "scattergl",
         "x": {
          "bdata": "SKgIAEmoCABKqAgATKgIAE2oCABOqAgAT6gIAFCoCABRqAgAU6gIAFWoCABWqAgAV6gIAFioCABZqAgAWqgIAFuoCABwqAgAf6gIAICoCACBqAgAgqgIAIWoCACdqAgAnqgIAJ+oCACgqAgAoagIAKKoCACjqAgApKgIAKaoCACuqAgAsKgIALGoCACyqAgAs6gIALSoCAC1qAgAuKgIALmoCAC6qAgAu6gIALyoCAC9qAgAvqgIAL+oCADAqAgAwagIANCoCADSqAgA1KgIANWoCADWqAgA16gIANmoCADaqAgA26gIANyoCADdqAgA4qgIAA==",
          "dtype": "i4"
         },
         "xaxis": "x",
         "y": {
          "bdata": "zczMzMzMM0AzMzMzMzMvQOF6FK5H4RpAAAAAAAAAIUDNzMzMzMw0QAAAAAAAgFZAAAAAAACAMEA0MzMzMzNmQDMzMzMz741AAAAAAACAWUAAAAAAABCdQGZmZmZm5iNAzczMzMzMM0BmZmZmZmZ0QBWuR+F6FFNAAAAAAAAALkBmZmZmZmZkQAAAAAAAgDBAHoXrUbjou0AAAAAAAAA5QDQzMzMzM2ZAmpmZmZnZQUAAAAAAAAAuQDMzMzMz85ZAAAAAAACAMEAAAAAAAMB1QAAAAAAAwGVAZmZmZmZmMUBmZmZmZuZlQGZmZmZmZiFACtejcD0KK0CkcD0K16MAQPYoXI/C9RhAAAAAAAAA9D8AAAAAAAAhQGZmZmZmZv4/zczMzMzMI0DNzMzMzMwzQM3MzMzMzCRAAAAAAAAAmUBmZmZmZmb6PzQzMzMzsyFAmpmZmZmZL0A0MzMzM7NBQAAAAAAAAC5ANDMzMzMzOUD2KFyPwvVIQGZmZmZm5iNAAAAAAAAATUDNzMzMzGxGQDQzMzMzs1RAAAAAAAAALkApXI/C9SgkQGZmZmZmZjFAFK5H4XoUY0A0MzMzM7MxQAAAAAAAAE5AmpmZmZmZTkBmZmZmZmYxQDQzMzMzszFANDMzMzMzOUA=",
          "dtype": "f8"
         },
         "yaxis": "y"
        },
        {
         "hovertemplate": "Invoice Date=2011-09-21<br>Invoice Number=%{x}<br>Total Sales=%{y}<extra></extra>",
         "legendgroup": "2011-09-21",
         "marker": {
          "color": "#FECB52",
          "symbol": "circle"
         },
         "mode": "markers",
         "name": "2011-09-21",
         "showlegend": true,
         "type": "scattergl",
         "x": {
          "bdata": "46gIAOSoCADlqAgA6KgIAOmoCADrqAgA7agIAPGoCAD2qAgA+agIAPqoCAAbqQgAHKkIADqpCAA7qQgAPKkIAD2pCAA+qQgAP6kIAEGpCABDqQgARakIAEapCABHqQgASakIAEqpCABMqQgATqkIAE+pCABQqQgAUakIAFKpCABTqQgAVKkIAFWpCABWqQgAV6kIAFypCABmqQgAaKkIAGqpCABrqQgAbKkIAG2pCABuqQgAb6kIAHCpCAB1qQgAeKkIAHupCAB8qQgAfqkIAH+pCACDqQgAh6kIAIypCAA=",
          "dtype": "i4"
         },
         "xaxis": "x",
         "y": {
          "bdata": "NDMzMzMzOUAAAAAAAAAuQDQzMzMzs01ANDMzMzOzMUCamZmZmdkxQOxRuB6F6zNASOF6FK5HNECamZmZmRlXQGZmZmZmZjFAZmZmZmbmM0AzMzMzMzMpQArXo3A9CjtA4XoUrkfhPUBI4XoUrkdRQAAAAAAAAC5AMzMzMzOzLUAAAAAAAIAzQAAAAAAAAD5AXI/C9ShcG0DNzMzMzMxDQAAAAAAAgDBAAAAAAAAAPkAAAAAAAIA2QGZmZmZmZjFAAAAAAAAALkAAAAAAAGBmQAAAAAAAACVAzczMzMzMGEAzMzMzMzMXQClcj8L1KCRAAAAAAADgcEDXo3A9CldkQFyPwvUoXCtAmpmZmZmZTkBmZmZmZmYqQAAAAAAAAEFANDMzMzOzPUCamZmZmflCQDMzMzMzMy9AFK5H4XoU+j8AAAAAAAAxQPYoXI/C9SJAmpmZmZnZMUAzMzMzMzMLQGZmZmZmZhpAzczMzMzMM0DNzMzMzMwnQAAAAAAAYHZAAAAAAAAAJUAAAAAAAAAtQAAAAAAAACVAAAAAAACAMEBmZmZmZuYtQAAAAAAAAC5AAAAAAACAKUCamZmZmZkPQA==",
          "dtype": "f8"
         },
         "yaxis": "y"
        },
        {
         "hovertemplate": "Invoice Date=2011-09-22<br>Invoice Number=%{x}<br>Total Sales=%{y}<extra></extra>",
         "legendgroup": "2011-09-22",
         "marker": {
          "color": "#636efa",
          "symbol": "circle"
         },
         "mode": "markers",
         "name": "2011-09-22",
         "showlegend": true,
         "type": "scattergl",
         "x": {
          "bdata": "kakIAJKpCACTqQgAlKkIAJWpCACWqQgAm6kIAJ2pCACeqQgAn6kIAKapCAC+qQgAw6kIANipCADpqQgA8KkIAPKpCAD0qQgA9akIAPapCAD3qQgA+KkIAPmpCAD6qQgA+6kIAPypCAD9qQgA/qkIAP+pCAAAqggAAaoIAAiqCAAJqggACqoIAAuqCAANqggADqoIAA+qCAASqggAJqoIACmqCAAqqggAK6oIACyqCAAtqggALqoIAC+qCAAwqggAMqoIADOqCAA0qggAOKoIADmqCAA6qggAPKoIAD2qCABBqggAQqoIAEOqCABGqggAR6oIAEiqCABJqggASqoIAEuqCABOqggAT6oIAFCqCABRqggAUqoIAFSqCABVqggAVqoIAFeqCABaqggAYaoIAGKqCABjqggAZKoIAGWqCABnqggAaKoIAGmqCABtqggAcqoIAH6qCAB/qggAgKoIAIGqCACDqggAhaoIAIaqCACHqggAiKoIAA==",
          "dtype": "i4"
         },
         "xaxis": "x",
         "y": {
          "bdata": "7FG4HoXrI0DsUbgehesjQM3MzMzMzDRAzczMzMzMM0A0MzMzM7NBQM3MzMzMzDtAAAAAAACARkBmZmZmZmYkQDQzMzMzszFA1qNwPQrXK0A0MzMzMzNJQM3MzMzMzBhAXI/C9ShceEDNzMzMzMxEQAAAAAAAYGZAAAAAAADAVECamZmZmdlKQAAAAAAAACVAmpmZmZmZLkBmZmZmZmYxQJqZmZmZmT5AAAAAAACASUC4HoXrUbgyQM3MzMzMzDNAPgrXo3ClhkBmZmZmZmbuPzMzMzMzU0FAPQrXo3A9OkA9CtejcL1DQAAAAAAAAARAKVyPwvUoJEAzMzMzMzMfQGZmZmZmZu4/mpmZmZmZJ0DNzMzMzMw0QJqZmZmZ2TFAAAAAAAAAPkApXI/C9SgkQKRwPQrXoxBAAAAAAAAAPkAAAAAAAIAgQGZmZmZmZiRAAAAAAACAM0DNzMzMzCx9QM3MzMzMzDNAmpmZmZmZMEDNzMzMzMw0QAAAAAAAgCBAAAAAAAAA6D/NzMzMzMwzQPYoXI/C9TVA9ihcj8L1OEApXI/C9SgUQM3MzMzMzAZAAAAAAAAALkCamZmZmZnZPwAAAAAAAC5AzczMzMzMM0BmZmZmZuYjQM3MzMzMzBdAzczMzMzMNEA0MzMzM7M9QGZmZmZmZiFAuB6F61G4IkAK16NwPQorQDQzMzMzszFAMzMzMzMzKUA0MzMzM7NNQDQzMzMzszFAKVyPwvUoFEA0MzMzMzM5QAAAAAAAAEFAFa5H4XoUU0DXo3A9CldEQGZmZmZmZiRANDMzMzMzOUApXI/C9SgkQEjhehSuR0RANDMzMzMzOUDsUbgeheszQD4K16NwPRJAzczMzMzMEEAAAAAAAAAeQOF6FK5H4SRANDMzMzOzMUDNzMzMzMxDQAAAAAAAgDBAAAAAAAAAMUAAAAAAAAAuQClcj8L1KCRAMzMzMzMzKUD2KFyPwvUoQAAAAAAAAClAZmZmZmbmM0A=",
          "dtype": "f8"
         },
         "yaxis": "y"
        },
        {
         "hovertemplate": "Invoice Date=2011-09-23<br>Invoice Number=%{x}<br>Total Sales=%{y}<extra></extra>",
         "legendgroup": "2011-09-23",
         "marker": {
          "color": "#EF553B",
          "symbol": "circle"
         },
         "mode": "markers",
         "name": "2011-09-23",
         "showlegend": true,
         "type": "scattergl",
         "x": {
          "bdata": "j6oIAJKqCACVqggAmKoIAJqqCACeqggAn6oIAKGqCACiqggAo6oIAKSqCAClqggAp6oIAKiqCACpqggAq6oIAKyqCACvqggAzaoIAOyqCADuqggA76oIAPGqCADyqggA86oIAPaqCAD6qggA+6oIAPyqCAD9qggA/qoIAP+qCAAAqwgAAasIAAKrCAAFqwgABqsIAAurCAASqwgAE6sIABarCAAeqwgAIqsIACOrCAAkqwgAJasIACirCABDqwgARKsIAA==",
          "dtype": "i4"
         },
         "xaxis": "x",
         "y": {
          "bdata": "16NwPQpXMUAAAAAAAIApQGZmZmZmZjRAmpmZmZmZPkAAAAAAAMBYQAAAAAAAACtAAAAAAAAA9D/Wo3A9CtcbQGZmZmZmZkRAAAAAAAAAJUDNzMzMzMw3QGZmZmZmZiRAmpmZmZmZMEAAAAAAAAAhQBWuR+F6FHNAZmZmZmZmMUAzMzMzM7MiQOJ6FK5H4T1AZmZmZmZmJEDhehSuR+EtQDMzMzMzMydAAAAAAACAMEAzMzMzM7NRQFyPwvUoXPs/AAAAAAAALkD2KFyPwvUYQAAAAAAAgG9AAAAAAACARkCamZmZmZkHQM3MzMzMzBtACtejcD0KB0AAAAAAAAAuQAAAAAAAAC5AAAAAAACAMEDNzMzMzMwXQPYoXI/C9ShANDMzMzMzOUD2KFyPwvXoP2ZmZmZmZkFAZmZmZmbmWEBmZmZmZsZaQAAAAAAAgDBAzczMzMzMI0DNzMzMzMwzQGZmZmZmZiRAAAAAAAAAQUAzMzMzM7MtQBSuR+F6FGNAMzMzMzMzH0A=",
          "dtype": "f8"
         },
         "yaxis": "y"
        },
        {
         "hovertemplate": "Invoice Date=2011-09-25<br>Invoice Number=%{x}<br>Total Sales=%{y}<extra></extra>",
         "legendgroup": "2011-09-25",
         "marker": {
          "color": "#00cc96",
          "symbol": "circle"
         },
         "mode": "markers",
         "name": "2011-09-25",
         "showlegend": true,
         "type": "scattergl",
         "x": {
          "bdata": "SKsIAEurCABMqwgATasIAE6rCABPqwgAUKsIAFKrCABTqwgAVKsIAFWrCABWqwgAV6sIAFirCABZqwgAWqsIAFurCABcqwgAXqsIAF+rCABgqwgAYasIAGKrCABjqwgAZKsIAGWrCABmqwgAZ6sIAGirCABpqwgAaqsIAGurCABtqwgAbqsIAG+rCABxqwgAcqsIAHSrCAB1qwgAdqsIAHerCAB5qwgAeqsIAHurCAB8qwgAfasIAH6rCAB/qwgAgKsIAIGrCACCqwgAg6sIAISrCACFqwgAhqsIAIerCACIqwgAiasIAIqrCACLqwgAjKsIAI2rCACOqwgAj6sIAJGrCACSqwgAk6sIAJSrCACVqwgA",
          "dtype": "i4"
         },
         "xaxis": "x",
         "y": {
          "bdata": "MzMzMzMzKUAzMzMzM/MwQJqZmZmZmTBAAAAAAACAIEAAAAAAAOBIQAAAAAAAACVAZmZmZmZmMUAAAAAAAAA0QM3MzMzMzBNAAAAAAAAALkAzMzMzM/MwQD0K16NwPTJANDMzMzOzPUDMzMzMzMxTQJqZmZmZmT5AZmZmZmamNECamZmZmZkwQM3MzMzMzDNAMzMzMzMzF0AAAAAAAAAxQArXo3A9CitAAAAAAAAADkDNzMzMzMwwQAAAAAAAAA5A7FG4HoXrI0BmZmZmZuYxQAAAAAAAABRAZmZmZmZmJECPwvUoXI8XQAAAAAAAACFAAAAAAAAAHkAAAAAAAAAuQGZmZmZmZipAZmZmZmZm/j8AAAAAAAA3QJqZmZmZ2TRAmpmZmZmZL0DWo3A9CtcrQPYoXI/C9TJANDMzMzOzMUDMzMzMzMwWQAAAAAAAgCBAMzMzMzPzMEDMzMzMzMxTQKRwPQrXoxBAAAAAAAAAMUBmZmZmZuYxQJqZmZmZmR9ANDMzMzOzVEAAAAAAAMA4QAAAAAAAgDBAAAAAAAAAREAzMzMzM7M1QM3MzMzMzDRAZmZmZmZmJEA0MzMzM7NBQM3MzMzMzDhAmpmZmZmZIkAAAAAAAAArQM3MzMzMzGNAKVyPwvUoFEAAAAAAAAA+QJqZmZmZmS5AAAAAAAAALkCamZmZmRlaQOxRuB6F6zNANDMzMzMzOUAAAAAAAAAeQDQzMzMzszFA",
          "dtype": "f8"
         },
         "yaxis": "y"
        },
        {
         "hovertemplate": "Invoice Date=2011-09-26<br>Invoice Number=%{x}<br>Total Sales=%{y}<extra></extra>",
         "legendgroup": "2011-09-26",
         "marker": {
          "color": "#ab63fa",
          "symbol": "circle"
         },
         "mode": "markers",
         "name": "2011-09-26",
         "showlegend": true,
         "type": "scattergl",
         "x": {
          "bdata": "lqsIAJerCACYqwgAmqsIAJurCACcqwgAnqsIAKCrCAChqwgAoqsIAKOrCACkqwgApasIAKarCACnqwgAqqsIAKurCACsqwgArqsIAK+rCACxqwgAs6sIALWrCADtqwgA96sIAPirCAD5qwgA+qsIAPurCAD8qwgA/asIAP6rCAD/qwgAAKwIAAGsCAACrAgAA6wIAASsCAAFrAgABqwIAAesCAAIrAgACawIAAqsCAALrAgADKwIAA2sCAAUrAgAFqwIABesCAAYrAgAGqwIACysCAAurAgAL6wIADCsCAAxrAgANqwIADesCAA4rAgA",
          "dtype": "i4"
         },
         "xaxis": "x",
         "y": {
          "bdata": "AAAAAAC8gEAAAAAAAAAuQAAAAAAAgD1A7FG4HoXrM0BmZmZmZmYkQOxRuB6F6yNAAAAAAAAALkBmZmZmZmbuPwAAAAAAAC5AZmZmZmbmM0AzMzMzMzMHQAAAAAAAADVA9ihcj8L1KEAAAAAAAAAuQMzMzMzMzFNAuB6F61G4IkAAAAAAAAAuQPYoXI/C9ShAzczMzMzMM0AAAAAAAAAkQPYoXI/C9SJAAAAAAAAALkBmZmZmZmY3QGZmZmZmZgpAAAAAAAAALkDNzMzMzMw0QM3MzMzMzENAuB6F61G4IkAAAAAAAIA2QAAAAAAAACVAAAAAAACARkBcj8L1KFwrQDQzMzMzszFAKVyPwvUoFEBmZmZmZmYxQJqZmZmZuUVAzczMzMzMREAAAAAAAAAxQAAAAAAAQGVAKVyPwvUoFEBmZmZmZuYzQAAAAAAAQDBAAAAAAAAALkAAAAAAAAApQGZmZmZm5jNANDMzMzMzSUAAAAAAAAAuQDMzMzMzsy1A4noUrkfhPUDsUbgehetZQM3MzMzMzCBAj8L1KFyP6j8AAAAAAIAtQDQzMzMzszFAzczMzMzMM0BmZmZmZmYhQAAAAAAAADVAmpmZmZmZL0D8qfHSTWJQP2ZmZmZmRkZA",
          "dtype": "f8"
         },
         "yaxis": "y"
        },
        {
         "hovertemplate": "Invoice Date=2011-09-27<br>Invoice Number=%{x}<br>Total Sales=%{y}<extra></extra>",
         "legendgroup": "2011-09-27",
         "marker": {
          "color": "#FFA15A",
          "symbol": "circle"
         },
         "mode": "markers",
         "name": "2011-09-27",
         "showlegend": true,
         "type": "scattergl",
         "x": {
          "bdata": "OqwIADusCAA8rAgAPawIAD6sCAA/rAgAQ6wIAEWsCABGrAgASKwIAEesCABJrAgASqwIAEysCABNrAgATqwIAE+sCABQrAgAUqwIAFmsCABdrAgAXqwIAF+sCABnrAgAbKwIAIqsCACMrAgAlawIAJesCACgrAgApawIAKusCACsrAgArawIAK6sCACvrAgAuawIAL2sCAC+rAgAv6wIAMCsCADBrAgAw6wIAMWsCADHrAgAzqwIAM+sCADQrAgA0awIANKsCADTrAgA1awIANesCADYrAgA2awIANqsCADbrAgA3KwIAN2sCADerAgA46wIAOWsCADmrAgA56wIAOisCADprAgA66wIAOysCADurAgA9KwIAPasCAA=",
          "dtype": "i4"
         },
         "xaxis": "x",
         "y": {
          "bdata": "AAAAAACARkAAAAAAAIAwQAAAAAAAQEVA9ihcj8L1MkA0MzMzM7MxQAAAAAAAwERAzczMzMzMM0DNzMzMzMxTQDMzMzMzsy1AzczMzMzML0CamZmZmdGJQAAAAAAAAC5AMzMzMzMzL0AAAAAAAABRQClcj8L1KCRAzczMzMzMM0AAAAAAAAAuQNajcD0K1xtAMzMzMzOzLUDhehSuR+EaQDQzMzMzsyFAAAAAAADAUkA0MzMzM7M9QGZmZmZm5jNAAAAAAAAAHkDNzMzMzMxDQAAAAAAAAD5AMzMzMzOzLUAAAAAAAOBQQMzMzMzMbGBAAAAAAADAY0AAAAAAAEA0QGZmZmZmZiRAMzMzMzMzKUCamZmZmZkfQAAAAAAAADFAzczMzMzMNEBmZmZmZmZRQDMzMzMzMxlAzczMzMxMW0AzMzMzM/NgQDMzMzMzM1lAZmZmZmZmKkDNzMzMzMwTQDQzMzMzszFAzczMzMzMM0AAAAAAAAAlQGZmZmZmZjFANDMzMzOzYUA0MzMzMzM5QDMzMzMzM/8/AAAAAAAANUAAAAAAAAAuQM3MzMzMzCxAAAAAAAAANUAAAAAAAIBGQPYoXI/C9ShA9ihcj8L1KEAzMzMzM/NmQGZmZmZm5iNAzczMzMzMJEBmZmZmZmYkQM3MzMzMzDRAZmZmZmZmJ0AAAAAAAAAuQM3MzMzMzDRAuB6F61G4IkCamZmZmZkwQAAAAAAAgClAAAAAAAAAKUAAAAAAAAAeQA==",
          "dtype": "f8"
         },
         "yaxis": "y"
        },
        {
         "hovertemplate": "Invoice Date=2011-09-28<br>Invoice Number=%{x}<br>Total Sales=%{y}<extra></extra>",
         "legendgroup": "2011-09-28",
         "marker": {
          "color": "#19d3f3",
          "symbol": "circle"
         },
         "mode": "markers",
         "name": "2011-09-28",
         "showlegend": true,
         "type": "scattergl",
         "x": {
          "bdata": "+KwIAPmsCAD+rAgAAK0IAAGtCAACrQgAB60IAAmtCAAKrQgADK0IAA2tCAAOrQgAD60IABCtCAARrQgAEq0IABOtCAAmrQgAR60IAEitCABMrQgATa0IAE+tCABRrQgAUq0IAFOtCABUrQgAVa0IAFatCABXrQgAWa0IAFqtCABbrQgAXK0IAF2tCABerQgAX60IAGCtCABhrQgAY60IAGStCABorQgAba0IAG6tCABwrQgAcq0IAHStCAB4rQgAea0IAHytCAB9rQgAfq0IAH+tCACArQgAga0IAIWtCACGrQgAh60IAIitCACJrQgAi60IAI2tCACOrQgAlq0IAJetCACYrQgAma0IAA==",
          "dtype": "i4"
         },
         "xaxis": "x",
         "y": {
          "bdata": "zczMzMzMM0AAAAAAAEhyQAAAAAAAAC5AzczMzMzMM0BmZmZmZmY3QClcj8L1KBRAAAAAAAAAMUAAAAAAAAAxQAAAAAAAAD5AAAAAAAAAIUA0MzMzM7MxQLgehetRuCJASOF6FK5HNEDNzMzMzMwzQGZmZmZm5i1AmpmZmZmZMEApXI/C9Sg0QGZmZmZmZiRAZmZmZmZmN0AAAAAAACBjQAAAAAAAAC5AZmZmZmZmZEDNzMzMzMwzQAAAAAAAAPQ/mpmZmZmZLkA0MzMzM7MxQGZmZmZmZiRAAAAAAACAWUCamZmZmZkgQDQzMzMzs0FAAAAAAAAALkDNzMzMzMxcQAAAAAAAgCBAAAAAAADAOEBmZmZmZmY3QDQzMzMzszFAAAAAAAAALkAzMzMzMzMpQAAAAAAAYHZAmpmZmZmZNUCPwvUoXI8aQGZmZmZm5iNAZ2ZmZmZmGkD2KFyPwvUCQM3MzMzMzDRAzczMzMzMS0CamZmZmVkwQGZmZmZm5jNAAAAAAACAMEAAAAAAAAAuQDQzMzMzMzlAmZmZmZnZMUCF61G4HoVEQBWuR+F6FFNAMzMzMzOzYUCamZmZmZkQQD0K16NwPT5AAAAAAAAALkAAAAAAAIApQGZmZmZmZjRAMzMzMzMz9z8AAAAAAKB8QGZmZmZm5lZAAAAAAAAAHkBI4XoUrkc0QAAAAAAAAD5AAAAAAACAMEA=",
          "dtype": "f8"
         },
         "yaxis": "y"
        },
        {
         "hovertemplate": "Invoice Date=2011-09-29<br>Invoice Number=%{x}<br>Total Sales=%{y}<extra></extra>",
         "legendgroup": "2011-09-29",
         "marker": {
          "color": "#FF6692",
          "symbol": "circle"
         },
         "mode": "markers",
         "name": "2011-09-29",
         "showlegend": true,
         "type": "scattergl",
         "x": {
          "bdata": "zK0IAM2tCADOrQgAz60IANCtCADRrQgA0q0IANOtCADUrQgA1a0IANatCADXrQgA2K0IANmtCADarQgA260IAN2tCADgrQgA4a0IAOKtCADjrQgA5K0IAOWtCADzrQgA/K0IAP2tCAD/rQgAAa4IACSuCAAlrggAJq4IACmuCAAqrggAK64IACyuCAAtrggALq4IADCuCAAxrggAMq4IADOuCAA9rggAPq4IAD+uCABArggAQa4IAEKuCABErggARa4IAEauCABIrggASa4IAEquCABLrggATK4IAE2uCABOrggAUK4IAFGuCABTrggAVK4IAFWuCABWrggAV64IAFmuCABqrggAb64IAHCuCABxrggAc64IAHeuCAB4rggAeq4IAHuuCACGrggAmK4IAJ2uCACerggAn64IAKCuCAChrggAo64IAKSuCAClrggApq4IAKeuCACorggAqq4IAKuuCACsrggAra4IAK6uCACvrggAsK4IALGuCAA=",
          "dtype": "i4"
         },
         "xaxis": "x",
         "y": {
          "bdata": "NDMzMzOzMUAfhetRuB5bQNajcD0K1xtAMzMzMzOzYUAzMzMzM7NRQDMzMzMzMy9AmpmZmZmZLkAAAAAAAAA5QJqZmZmZmRdAMzMzMzOzUUDNzMzMzIx6QAAAAAAAAC5AzczMzMzMM0BmZmZmZmYkQClcj8L1KCRAmpmZmZmZIEAAAAAAAOBlQDQzMzMzMzlAFK5H4XoULEA0MzMzM7NBQAAAAAAAwFhAmpmZmZmZTkAAAAAAAAAeQDMzMzMzs1FA1qNwPQrXG0DNzMzMzMwzQAAAAAAAAClAZmZmZmZmDkAAAAAAAAAuQM3MzMzMzDNAAAAAAAAAYkBmZmZmZuZIQAAAAAAAAPQ/zczMzMzMI0AzMzMzM7NRQAAAAAAAYGZAAAAAAAAAKUAAAAAAAAApQDMzMzMzs1FAAAAAAAAALkCamZmZmZlAQGZmZmZm5lhAMzMzMzOzJ0AAAAAAAIAgQJqZmZmZmSBAAAAAAAAAKUBmZmZmZmYkQDQzMzMzszFAAAAAAACARkAAAAAAAAAuQDMzMzMzs1FAMzMzMzOzUUAAAAAAAABOQDQzMzMzszFAZmZmZmZmMUDsUbgehesjQGZmZmZmZjRAAAAAAAAALkAAAAAAAAA+QAAAAAAAAC5AzczMzMzMM0AAAAAAAIAwQDQzMzMzMzlAZmZmZmZmVEBmZmZmZuY4QDMzMzMzM/s/SOF6FK5HYUA0MzMzM7MxQAAAAAAAgEBAMzMzMzMzKUAAAAAAAAAuQDQzMzMzszFAAAAAAADAMkAAAAAAAIAwQAAAAAAAgEZAMzMzMzMz6z8AAAAAAIAwQArXo3A9CitAzMzMzMzME0AUrkfhehQsQD0K16NwPSJAZmZmZmbmJUAAAAAAAIAwQM3MzMzMzC9AAAAAAACoZkCamZmZmZlAQDMzMzMzMy9AmpmZmZkZKkAAAAAAAAAeQAAAAAAAAC5AAAAAAAAAPkAAAAAAAABJQM3MzMzMzDdAPQrXo3A9IkAAAAAAAABOQA==",
          "dtype": "f8"
         },
         "yaxis": "y"
        },
        {
         "hovertemplate": "Invoice Date=2011-09-30<br>Invoice Number=%{x}<br>Total Sales=%{y}<extra></extra>",
         "legendgroup": "2011-09-30",
         "marker": {
          "color": "#B6E880",
          "symbol": "circle"
         },
         "mode": "markers",
         "name": "2011-09-30",
         "showlegend": true,
         "type": "scattergl",
         "x": {
          "bdata": "s64IALSuCAC1rggAtq4IALeuCAC4rggAu64IALyuCAC9rggAvq4IAMCuCADBrggAwq4IAMOuCADFrggAxq4IAMmuCADLrggAzK4IAM2uCADWrggA5K4IAPWuCAD2rggA964IAPiuCAD5rggA+q4IAPyuCAD9rggA/q4IAP+uCAABrwgAC68IAAyvCAANrwgAD68IABCvCAARrwgAEq8IABSvCAAWrwgAF68IACOvCAAkrwgAJa8IACavCAAnrwgAKa8IACyvCAAtrwgALq8IADCvCAAzrwgANK8IADWvCAA2rwgAN68IADivCAA5rwgAO68IADyvCAA=",
          "dtype": "i4"
         },
         "xaxis": "x",
         "y": {
          "bdata": "AAAAAAAAKkAzMzMzMzMvQGZmZmZmZjdAzczMzMzMM0BmZmZmZmYkQAAAAAAAAC5AAAAAAAAAJUDsUbgeheszQGZmZmZm5k1A9ihcj8L1KEDiehSuR+E9QAAAAAAAIFNAzczMzMzMNECamZmZmZkuQAAAAAAAAGRAAAAAAAAAdEAAAAAAAAAYQJqZmZmZmT5A16NwPQpXMUAAAAAAAAAuQJqZmZmZmUBAAAAAAACAMEC4HoXrUbgiQDMzMzMzsy1AAAAAAAAAMUCamZmZmdlRQAAAAAAAABNAAAAAAACARkAAAAAAAICjQAAAAAAA4JNAAAAAAACAhkAAAAAAAAAuQKRwPQrXoyBAAAAAAAAACkCamZmZmZkQQAAAAAAAYHZAMzMzMzMzF0CamZmZmdkxQAAAAAAAgEBAAAAAAAAAHkBnZmZmZkZ2QAAAAAAAAEFANDMzMzMzOUDNzMzMzMwkQAAAAAAAAC5AAAAAAACANkAAAAAAAABJQAAAAAAAgGZANDMzMzMzGUApXI/C9SgUQClcj8L1KCRAZmZmZmbmM0DNzMzMzMwjQAAAAAAAgDBAzczMzMzMM0DNzMzMzMw0QDQzMzMzMzlAZmZmZmZmEECamZmZmRlKQOF6FK5H4eo/NDMzMzOzUUBmZmZmZmYkQA==",
          "dtype": "f8"
         },
         "yaxis": "y"
        },
        {
         "hovertemplate": "Invoice Date=2011-10-02<br>Invoice Number=%{x}<br>Total Sales=%{y}<extra></extra>",
         "legendgroup": "2011-10-02",
         "marker": {
          "color": "#FF97FF",
          "symbol": "circle"
         },
         "mode": "markers",
         "name": "2011-10-02",
         "showlegend": true,
         "type": "scattergl",
         "x": {
          "bdata": "c68IAHSvCAB1rwgAdq8IAHevCAB4rwgAea8IAHqvCAB7rwgAfK8IAH2vCAB+rwgAf68IAICvCACBrwgAgq8IAIOvCACErwgAha8IAIavCACHrwgAiK8IAImvCACKrwgAi68IAIyvCACNrwgAjq8IAI+vCACQrwgAkq8IAJOvCACUrwgAlq8IAA==",
          "dtype": "i4"
         },
         "xaxis": "x",
         "y": {
          "bdata": "AAAAAAAAOUAAAAAAAAAOQDQzMzMzszFAAAAAAACAKUBxPQrXo3AZQDMzMzMz8zNAAAAAAACAMEAAAAAAAIAgQAAAAAAAAClAZmZmZmbmI0DNzMzMzMwrQAAAAAAAAE5AZmZmZmZmDkDNzMzMzMwEQJqZmZmZmTBAZmZmZmbmI0AAAAAAAAAuQM3MzMzMzAZAMzMzMzOzUUBmZmZmZmb+PwAAAAAAQDVAmpmZmZmZF0AzMzMzMzMPQJqZmZmZmRdAMzMzMzOzUUD2KFyPwvX4PzMzMzMzM/8/MzMzMzMzF0AK16NwPQoLQDMzMzMz80BAmpmZmZmZB0AK16NwPQoXQDMzMzMzM/c/zczMzMzMJUA=",
          "dtype": "f8"
         },
         "yaxis": "y"
        },
        {
         "hovertemplate": "Invoice Date=2011-10-03<br>Invoice Number=%{x}<br>Total Sales=%{y}<extra></extra>",
         "legendgroup": "2011-10-03",
         "marker": {
          "color": "#FECB52",
          "symbol": "circle"
         },
         "mode": "markers",
         "name": "2011-10-03",
         "showlegend": true,
         "type": "scattergl",
         "x": {
          "bdata": "l68IAJivCACZrwgAmq8IAJuvCACcrwgAnq8IAJ+vCACgrwgAoa8IAKKvCACkrwgApa8IAKavCACnrwgAqa8IAKqvCACtrwgArq8IAK+vCADWrwgA568IAOqvCADrrwgA7K8IAO2vCADurwgA768IAPCvCADxrwgA8q8IAPOvCAD1rwgA9q8IAPivCAD5rwgA+q8IAPuvCAD8rwgA/q8IAP+vCAANsAgADrAIAA+wCAAQsAgAEbAIABKwCAATsAgAFLAIABWwCAAWsAgAF7AIABiwCAAZsAgAG7AIAB2wCAAmsAgAJ7AIACiwCAApsAgAKrAIACywCAAtsAgANLAIAA==",
          "dtype": "i4"
         },
         "xaxis": "x",
         "y": {
          "bdata": "j8L1KFyPGkBmZmZmZmYqQAAAAAAAgDZAAAAAAACAUkDXo3A9ClcxQAAAAAAAgDNArkfhehSuE0BmZmZmZuZrQM3MzMzMzDNA9ihcj8L1KECamZmZmZkuQAAAAAAAwDJAAAAAAAAALkB7FK5H4TpGQHE9Ctej8HdANDMzMzMzQ0AAAAAAAIBGQAAAAAAAgCZAMzMzMzOzLUB6FK5H4QqJQGZmZmZmZv4/4XoUrkfhLUAAAAAAAAA+QJqZmZmZ2TFAmpmZmZmZQEAAAAAAAAAxQJqZmZmZmT5AAAAAAAAAJUDXo3A9CldBQAAAAAAAAC5AAAAAAAAA9D8AAAAAAAA+QDMzMzMz82ZAzczMzMzMU0BI4XoUrkc0QAAAAAAAMHVAcT0K16NwWUAAAAAAAPCJQAAAAAAAEIRAAAAAAAAAi0DNzMzMzKyIQNejcD0KV0FA16NwPQpXMUAzMzMzM7MtQAAAAAAAgCBAmpmZmZnZMUA0MzMzM/NzQAAAAAAAgDBAAAAAAAAAHkBxPQrXo/A3QFyPwvUoPIRAzczMzMzME0A0MzMzMzNPQDQzMzMzszFAPgrXo3A9EkAAAAAAAABCQGZmZmbmp6hAMzMzMzOzJ0Bcj8L1KFwrQAAAAAAAIJZAzczMzMzMN0AAAAAAACCWQAAAAAAAAF5AAAAAAACANkA=",
          "dtype": "f8"
         },
         "yaxis": "y"
        },
        {
         "hovertemplate": "Invoice Date=2011-10-04<br>Invoice Number=%{x}<br>Total Sales=%{y}<extra></extra>",
         "legendgroup": "2011-10-04",
         "marker": {
          "color": "#636efa",
          "symbol": "circle"
         },
         "mode": "markers",
         "name": "2011-10-04",
         "showlegend": true,
         "type": "scattergl",
         "x": {
          "bdata": "NbAIADawCAA3sAgAOLAIADmwCAA7sAgAPLAIAD2wCAA+sAgAP7AIAECwCABBsAgAQ7AIAESwCABFsAgASLAIAEmwCABKsAgAS7AIAEywCABPsAgAULAIAHGwCABzsAgAdLAIAHWwCAB2sAgAe7AIAHywCAB9sAgAfrAIAH+wCACAsAgAgrAIAIewCACIsAgAibAIAIqwCACLsAgAjLAIAI6wCACPsAgAkLAIAJOwCACUsAgAlbAIAJawCACpsAgAqrAIAKuwCACusAgAr7AIALCwCACxsAgAs7AIALSwCAC4sAgAurAIALywCAC9sAgAv7AIAMCwCADBsAgAwrAIAMOwCADKsAgAzrAIAA==",
          "dtype": "i4"
         },
         "xaxis": "x",
         "y": {
          "bdata": "CtejcD0KO0BwPQrXo3BjQM3MzMzMzHNAAAAAAACAT0AAAAAAAAAuQAAAAAAAAC5AZmZmZmbmOEAAAAAAAIAwQBSuR+F6FCxAmpmZmZmZTkBnZmZmZqZgQDQzMzMzMzlAMzMzMzOzgUAAAAAAAAAuQJqZmZmZmTBAMzMzMzMzK0AAAAAAAAAkQGZmZmZmZiRAAAAAAAAgbEAAAAAAAAB7QM3MzMzMzDNANDMzMzOzIUAAAAAAAAAEQOxRuB6F60NAZmZmZmZmN0DNzMzMzMwgQAAAAAAAgElAZmZmZmZmNEA0MzMzM7NRQAAAAAAAACFAAAAAAAAAHkBmZmZmZuZTQDMzMzMzMx9AKVyPwvUo9D8AAAAAAOBQQM3MzMzMzDdAzczMzMzMM0BmZmZmZuZDQAAAAAAAADtAAAAAAACANkCamZmZmZkXQGZmZmZmZjFAAAAAAACAMEAAAAAAAIBAQJqZmZmZgZlAAAAAAAAAKUAAAAAAAAA+QJqZmZmZmSdAAAAAAAAALkAAAAAAAABaQDQzMzMzs0FAZmZmZmZmJEAAAAAAAAArQDQzMzMzM0lAmpmZmZmZD0CkcD0K16MQQJqZmZmZmRdAAAAAAAAAJUAAAAAAAEBPQM3MzMzMzB9AZmZmZmZm7j8AAAAAAABSQAAAAAAAgDBAAAAAAAAALkCuR+F6FG6BQAAAAAAAAPQ/AAAAAAAAIUA=",
          "dtype": "f8"
         },
         "yaxis": "y"
        },
        {
         "hovertemplate": "Invoice Date=2011-10-05<br>Invoice Number=%{x}<br>Total Sales=%{y}<extra></extra>",
         "legendgroup": "2011-10-05",
         "marker": {
          "color": "#EF553B",
          "symbol": "circle"
         },
         "mode": "markers",
         "name": "2011-10-05",
         "showlegend": true,
         "type": "scattergl",
         "x": {
          "bdata": "07AIANewCADYsAgA2bAIANywCADdsAgA3rAIAN+wCADhsAgA4rAIAOOwCADksAgA5bAIAOawCADnsAgA6LAIAOmwCADrsAgA7LAIAO2wCADvsAgA9rAIAB2xCAAesQgAH7EIACCxCAAhsQgAIrEIACOxCAAlsQgAJrEIACmxCAArsQgAMLEIADGxCAAzsQgANLEIADaxCAA4sQgAOrEIADuxCAA8sQgAPbEIAD6xCABAsQgAQrEIAEOxCABEsQgARbEIAEaxCABHsQgASLEIAEmxCABKsQgAS7EIAE2xCABOsQgAT7EIAFCxCABTsQgAVLEIAFWxCABXsQgAWLEIAFmxCABasQgAW7EIAFyxCABdsQgAXrEIAF+xCABgsQgAYbEIAGKxCABmsQgAabEIAGqxCABysQgAc7EIAA==",
          "dtype": "i4"
         },
         "xaxis": "x",
         "y": {
          "bdata": "ZmZmZmZmJEBmZmZmZmYqQJqZmZmZmS9AZmZmZmbmLUDNzMzMzMwzQAAAAAAAACVANDMzMzOzPUA0MzMzM7MxQGZmZmZm5jdANTMzMzMzeUAAAAAAAABiQJmZmZmZmWVAAAAAAACANkAAAAAAAIAwQGZmZmZmZjFANDMzMzOzTUA0MzMzMzM5QAAAAAAAgDlAMzMzMzPTREAzMzMzMzMpQJqZmZmZmQdANDMzMzOzMUAAAAAAAAAuQAAAAAAAgC1AAAAAAACAM0CamZmZmZkyQD0K16NwPS5AZmZmZmbmI0AAAAAAAIAgQAAAAAAAAC5AAAAAAAAALkAzMzMzM/MwQM3MzMzMzC9AAAAAAACAMEAAAAAAAMBlQGZmZmZm5iNAAAAAAAAAKUBmZmZmZuZjQGZmZmZm5lhAH4XrUbiebEAAAAAAAAAxQAAAAAAAAC5AAAAAAAAAJUAAAAAAAMA4QAAAAAAAgClAAAAAAADAMkAK16NwPQorQJqZmZmZmUdAMzMzMzMzF0DNzMzMzMz0P83MzMzMzDNAMzMzMzOzLUAfhetRuB43QJqZmZmZmT5AZmZmZmZmMUDWo3A9CtcbQJqZmZmZmQdAMzMzMzMzOUAAAAAAAAAuQM3MzMzMzCNAzczMzMzMM0DNzMzMzMxDQM3MzMzMzDNAZmZmZmZmCkA0MzMzM7NUQMzMzMzMzBNAAAAAAAAALkAAAAAAAABSQJqZmZmZmSBAZmZmZmbmM0AAAAAAAAAuQJqZmZmZmS9AAAAAAAAAMUDsUbgehesjQKRwPQrXoxBAAAAAAAAALkBmZmZmZmZUQHE9CtejcAlANDMzMzOzPUA=",
          "dtype": "f8"
         },
         "yaxis": "y"
        },
        {
         "hovertemplate": "Invoice Date=2011-10-06<br>Invoice Number=%{x}<br>Total Sales=%{y}<extra></extra>",
         "legendgroup": "2011-10-06",
         "marker": {
          "color": "#00cc96",
          "symbol": "circle"
         },
         "mode": "markers",
         "name": "2011-10-06",
         "showlegend": true,
         "type": "scattergl",
         "x": {
          "bdata": "dLEIAHWxCAB2sQgAfLEIAH2xCAB+sQgAgLEIAIGxCACCsQgAg7EIAISxCACGsQgAiLEIAImxCACKsQgAjLEIAI2xCACOsQgAprEIAKexCACosQgAqbEIALSxCAC1sQgAvbEIAL6xCADHsQgAy7EIANexCADesQgA37EIAOCxCADhsQgA4rEIAOOxCADksQgA6LEIAOmxCADqsQgA67EIAOyxCADtsQgA7rEIAO+xCADwsQgA8bEIAPKxCADzsQgA9bEIAPaxCAD3sQgA+LEIAPmxCAD6sQgA/LEIAP2xCAAAsggAAbIIAAKyCAADsggABrIIAAiyCAAJsggADLIIAA+yCAAQsggAEbIIAB+yCAAgsggAIbIIACKyCAAksggAJrIIACmyCAArsggALLIIAC2yCAAvsggAMLIIADGyCAAysggANrIIADiyCAA6sggAO7IIAD2yCAA+sggAP7IIAECyCABDsggATLIIAFCyCABXsggAXLIIAGqyCABtsggAcLIIAHmyCAB/sggA",
          "dtype": "i4"
         },
         "xaxis": "x",
         "y": {
          "bdata": "AAAAAACAMEAAAAAAAIBZQGZmZmZmZjFAAAAAAAAANUAzMzMzM7NhQDQzMzMzs0FANDMzMzOzMUDNzMzMzMw0QGZmZmZmZjdANDMzMzOzPUBmZmZmZmYxQNejcD0KVzFA16NwPQpXQUBmZmZmZmYkQAAAAAAAgDZAzczMzMyceEC4HoXrUbgiQAAAAAAAgEBAZmZmZmZmKkAzMzMzMzMvQAAAAAAAAFJAAAAAAAAALkBmZmZmZmZHQAAAAAAAADVAAAAAAACgRECamZmZmZkwQPYoXI/C9ThAmpmZmZnZPUAAAAAAAMiQQDMzMzMzM0xA7FG4HoXrA0CkcD0K16MAQGZmZmZmZiBANDMzMzOzMUDNzMzMzMw0QKRwPQrXoxBAAAAAAAAALkCamZmZmdk9QM3MzMzMzDNAMzMzMzMzF0DXo3A9CldUQGZmZmZmZhRAAAAAAAAALkAAAAAAAGBmQGZmZmZm5mVAzczMzMzMM0AAAAAAAAA+QAAAAAAAAPQ/AAAAAAAALkDNzMzMzMwzQAAAAAAAADFAKVyPwvUoFEA0MzMzM7MxQAAAAAAAgDBAuB6F61G4UkAAAAAAAIAwQAAAAAAAADVA16NwPQpXZEAAAAAAAOBwQEjhehSuR0RAAAAAAADAPUA0MzMzM7M9QDMzMzMzM/c/NDMzMzOzMUAAAAAAACBTQAAAAAAAgEBAAAAAAACAQEAzMzMzM7MtQJqZmZmZmU5AKVyPwvUoJEDWo3A9CtcbQM3MzMzMzDNAAAAAAADAMkAAAAAAAAAZQDQzMzMzszFAAAAAAADASECamZmZmZkPQGZmZmZmZjdAAAAAAACARkBmZmZmZuYzQGZmZmZmZv4/MzMzMzOzUUAfhetRuB43QPYoXI/C9ThAmpmZmZmZF0DNzMzMzMwzQGZmZmZmZjdAzczMzMzMI0AAAAAAAAAuQGZmZmZmZkdAuB6F61G4IkBI4XoUrkc0QJqZmZmZmR9AAAAAAAAAPkAAAAAAAAAuQGZmZmZm5jFAAAAAAAAAG0AAAAAAAMA4QJqZmZmZmTJA",
          "dtype": "f8"
         },
         "yaxis": "y"
        },
        {
         "hovertemplate": "Invoice Date=2011-10-07<br>Invoice Number=%{x}<br>Total Sales=%{y}<extra></extra>",
         "legendgroup": "2011-10-07",
         "marker": {
          "color": "#ab63fa",
          "symbol": "circle"
         },
         "mode": "markers",
         "name": "2011-10-07",
         "showlegend": true,
         "type": "scattergl",
         "x": {
          "bdata": "j7IIAJGyCACTsggAmLIIAJmyCACasggAm7IIAJ6yCAChsggAorIIAKOyCAClsggAprIIAKeyCACosggAq7IIAKyyCAC0sggAwbIIANyyCADmsggA6LIIAOmyCADqsggA67IIAOyyCADtsggA7rIIAPCyCADxsggA8rIIAPSyCAD1sggA9rIIAPeyCAD8sggA/7IIAAGzCAACswgAA7MIAASzCAAFswgABrMIAAezCAAJswgAC7MIAAyzCAANswgADrMIAA+zCAAQswgAEbMIABKzCAAgswgAN7MIADizCABBswgAQrMIAEOzCABEswgARbMIAEezCABIswgASrMIAEyzCABOswgAULMIAFOzCABUswgAVbMIAFizCABZswgA",
          "dtype": "i4"
         },
         "xaxis": "x",
         "y": {
          "bdata": "MzMzMzMzG0AAAAAAAAAuQAAAAAAAABFAZmZmZmZmJEA0MzMzMzM5QPYoXI/C9ShAzczMzMzMM0AAAAAAAAAuQAAAAAAAgFlAAAAAAABgZkAAAAAAAAD0P83MzMzMzAhANDMzMzOzMUBmZmZmZuY3QAAAAAAAAA5AZmZmZmZmIUDNzMzMzGx5QAAAAAAAAC5AmpmZmZmZH0DNzMzMzMwzQJqZmZmZmT5AZmZmZmbmM0AAAAAAAABWQAAAAAAAADdAAAAAAAAALkAAAAAAAFCAQKRwPQrXowBAAAAAAACwnEBnZmZmZuZSQP//////35lAZmZmZmZmR0A0MzMzM7MxQI/C9ShcjypAAAAAAACAMEAfhetRuB4HQM3MzMzMzDNAMzMzMzMzG0AAAAAAAABOQAAAAAAAgEBAFK5H4XoUY0DsUbgehesDQD0K16NwPS5AAAAAAAAAKUCamZmZmZkXQDQzMzMzMzlAzczMzMzMI0AAAAAAAMBYQAAAAAAAAC5AMzMzMzMz9z/2KFyPwvUoQAAAAAAAAC5AmpmZmZmZPkDNzMzMzMwkQAAAAAAAgDBAAAAAAAAANEBmZmZmZmb+PwAAAAAAgDBAAAAAAACAMEAAAAAAAIAwQAAAAAAAgDBANDMzMzOzPUAAAAAAAIAwQAAAAAAAADlAAAAAAACAMEAzMzMzM7NdQDMzMzMzMy9AAAAAAACAMEAAAAAAAAAlQAAAAAAAAC5AAAAAAAAAGUCkcD0K16MQQKRwPQrXowBA",
          "dtype": "f8"
         },
         "yaxis": "y"
        },
        {
         "hovertemplate": "Invoice Date=2011-10-09<br>Invoice Number=%{x}<br>Total Sales=%{y}<extra></extra>",
         "legendgroup": "2011-10-09",
         "marker": {
          "color": "#FFA15A",
          "symbol": "circle"
         },
         "mode": "markers",
         "name": "2011-10-09",
         "showlegend": true,
         "type": "scattergl",
         "x": {
          "bdata": "XrMIAGCzCABhswgAYrMIAGOzCABkswgAZbMIAGazCABnswgAaLMIAGmzCABqswgAa7MIAGyzCABuswgAb7MIAHCzCABxswgAcrMIAHOzCAB0swgAdbMIAHazCAB3swgAeLMIAHmzCAB6swgAe7MIAH2zCAB+swgAf7MIAICzCACBswgAgrMIAIOzCACEswgAhbMIAIazCAA=",
          "dtype": "i4"
         },
         "xaxis": "x",
         "y": {
          "bdata": "AAAAAAAAHkCamZmZmZk+QLgehetRuBJAZmZmZmZm+j+amZmZmZknQAAAAAAAAFJA9ihcj8L1OEDNzMzMzMwkQM3MzMzMzCNAZmZmZmZmMUBmZmZmZmYkQJqZmZmZmTdApHA9CtejIEBmZmZmZmZBQNejcD0KV1RAmpmZmZmZF0CamZmZmdkxQMzMzMzMzBZAZmZmZmZmEUBmZmZmZsZaQOxRuB6F6yNApHA9CtejAEBmZmZmZmYkQJqZmZmZmRdAzczMzMzMI0AAAAAAAMA4QNajcD0K1/s/MzMzMzPzMEDNzMzMzMwAQAAAAAAAwDhAAAAAAAAAIUBmZmZmZuYzQGZmZmZmZhlAmpmZmZmZF0A0MzMzM7M9QBSuR+F6FDNAzczMzMzMNEBmZmZmZmYKQA==",
          "dtype": "f8"
         },
         "yaxis": "y"
        },
        {
         "hovertemplate": "Invoice Date=2011-10-10<br>Invoice Number=%{x}<br>Total Sales=%{y}<extra></extra>",
         "legendgroup": "2011-10-10",
         "marker": {
          "color": "#19d3f3",
          "symbol": "circle"
         },
         "mode": "markers",
         "name": "2011-10-10",
         "showlegend": true,
         "type": "scattergl",
         "x": {
          "bdata": "h7MIAIizCACJswgAirMIAIuzCACMswgAjrMIAI+zCACQswgAkbMIAJmzCACaswgAnLMIAJ2zCACeswgAn7MIAKCzCAChswgAo7MIAKizCACpswgAqrMIAKyzCACtswgAr7MIALCzCACxswgAtLMIALWzCADcswgA3bMIAOGzCADiswgA5rMIAOyzCADxswgA9LMIAAa0CAAMtAgAJLQIACW0CAAntAgAKLQIACq0CAArtAgALLQIAC20CAAutAgAL7QIADC0CAAytAgAM7QIADS0CAA1tAgANrQIADe0CAA4tAgAObQIADq0CAA7tAgAPLQIAD20CAA+tAgASbQIAEq0CABLtAgATLQIAE20CABQtAgAUbQIAFe0CABZtAgAWrQIAFu0CABdtAgAYrQIAG+0CABxtAgAcrQIAHi0CAB5tAgAe7QIAA==",
          "dtype": "i4"
         },
         "xaxis": "x",
         "y": {
          "bdata": "mpmZmZnZMUAzMzMzM7NxQAAAAAAAgDBAZmZmZmZmMUAAAAAAAIBWQAAAAAAAAC5AzczMzMzMNECamZmZmZk+QM3MzMzMzDRAAAAAAAAgQ0A0MzMzM7NUQGZmZmZm5lhAAAAAAACAaUBmZmZmZmZBQAAAAAAAIFNAAAAAAACANkAAAAAAAAAuQDQzMzMzs0FAAAAAAACAQEAAAAAAAIBpQOxRuB6FK3BAzczMzMzML0CamZmZmZkwQAAAAAAAADFAzczMzMzMM0BmZmZmZmbuPwAAAAAAADFAZmZmZmZmJEAAAAAAAAApQGZmZmZm5jhAZmZmZmZm7j8AAAAAAIAwQAAAAAAAYHZAzczMzMzMM0DNzMzMzMwzQPYoXI/C9ThASOF6FK5HQUAAAAAAAAAEQM3MzMzMzPQ/ZmZmZmZm+j8AAAAAAIApQAAAAAAAAFJAzczMzMyMYUCamZmZmZkQQDQzMzMzszFAAAAAAAAAOUAAAAAAAAAuQJqZmZmZmS9AAAAAAAAALkApXI/C9SgkQAAAAAAAAClA7FG4HoXrI0AK16NwPQonQNajcD0K1xtA16NwPQpXMUCamZmZmZkPQGZmZmZmZu4/AAAAAAAAIUCamZmZmZkuQM3MzMzMzDNAZmZmZmZmJED2KFyPwvVoQAAAAAAAAE1AAAAAAACAWUDNzMzMzMwGQPYoXI/C9RhAZmZmZmZmCkApXI/C9SjkPzMzMzMzMylAAAAAAAAAMUAzMzMzMzP/PzMzMzMzM/8/AAAAAAAAHkBxPQrXo3AsQDMzMzMzs2FAAAAAAAAAKUBmZmZmZmYOQAAAAAAAgDBAZmZmZmbmM0CF61G4HoUdQGZmZmZmZjdAMzMzMzMzD0A=",
          "dtype": "f8"
         },
         "yaxis": "y"
        },
        {
         "hovertemplate": "Invoice Date=2011-10-11<br>Invoice Number=%{x}<br>Total Sales=%{y}<extra></extra>",
         "legendgroup": "2011-10-11",
         "marker": {
          "color": "#FF6692",
          "symbol": "circle"
         },
         "mode": "markers",
         "name": "2011-10-11",
         "showlegend": true,
         "type": "scattergl",
         "x": {
          "bdata": "fLQIAH20CAB+tAgAf7QIAIC0CACCtAgAhLQIAIW0CACGtAgAh7QIAIi0CACJtAgAirQIAIu0CACNtAgAjrQIAI+0CACQtAgAkbQIAJK0CACUtAgAlbQIAJq0CAC6tAgAu7QIAL20CADetAgA37QIAOG0CADitAgA5bQIAOa0CADotAgA6bQIAOq0CAAItQgACrUIAA61CAAStQgAFrUIABi1CAAZtQgAGrUIABy1CAAdtQgAILUIACO1CAAktQgAJbUIACa1CAAntQgAKLUIACm1CAAstQgALbUIAC61CAAvtQgAMbUIADO1CAA0tQgANbUIADa1CAA3tQgAOLUIADq1CAA9tQgARbUIAA==",
          "dtype": "i4"
         },
         "xaxis": "x",
         "y": {
          "bdata": "zczMzMzMM0AzMzMzM7NRQJqZmZmZWVZAAAAAAAAANUBmZmZmZmZXQM3MzMzMzERAuB6F61G4EkAAAAAAAIAwQM3MzMzMzDNApHA9CtejAECamZmZmdkxQM3MzMzMzDNAzczMzMzMNEAAAAAAAIA2QAAAAAAAAC5AAAAAAACAQEDNzMzMzMwmQDMzMzMzs1FAuB6F61G4IkBmZmZmZmYkQClcj8L1KCRAZmZmZmZmMUAAAAAAAABuQFK4HoXrUdg/AAAAAAAALkAAAAAAALCcQJqZmZmZ2TFAAAAAAAAAIUBmZmZmZmYxQClcj8L1KBRAAAAAAAAAJUBmZmZmZmYkQPYoXI/C9ThAj8L1KFyPGkBI4XoUrkc0QAAAAAAAgDBAmpmZmZnZMUAAAAAAAIAmQArXo3A9CjtA7FG4HoXrI0AAAAAAAIBAQGZmZmZmZjdAZmZmZmZm7j/Wo3A9CtcrQNajcD0K1wtAzczMzMzMQ0DNzMzMzMxDQAAAAAAAgGlAPQrXo3A9HkBnZmZmZuZSQHE9CtejcGlAzczMzMzMF0AAAAAAAAAZQM3MzMzMzC9AZmZmZmZmMUAAAAAAAAAlQGZmZmZm5jhAmpmZmZmZMEBmZmZmZuY9QAAAAAAAAC5AZmZmZmbmM0AAAAAAAIBNQMzMzMzMbEBAAAAAAABgZkApXI/C9SgUQAAAAAAAgEZAzczMzMzMNEA=",
          "dtype": "f8"
         },
         "yaxis": "y"
        },
        {
         "hovertemplate": "Invoice Date=2011-10-12<br>Invoice Number=%{x}<br>Total Sales=%{y}<extra></extra>",
         "legendgroup": "2011-10-12",
         "marker": {
          "color": "#B6E880",
          "symbol": "circle"
         },
         "mode": "markers",
         "name": "2011-10-12",
         "showlegend": true,
         "type": "scattergl",
         "x": {
          "bdata": "R7UIAEi1CABJtQgASrUIAEu1CABNtQgATrUIAFG1CABTtQgAWbUIAFu1CABctQgAXbUIAF+1CABgtQgAYbUIAGK1CABjtQgAZrUIAGu1CABttQgAmLUIAKa1CACntQgAqrUIAKu1CACstQgArbUIAK+1CAC2tQgAt7UIAMK1CADFtQgAyLUIAMm1CADKtQgAy7UIAM21CADOtQgA0LUIANG1CADStQgA1LUIANi1CADatQgA27UIANy1CADetQgA37UIAOC1CADhtQgA5LUIAOe1CADotQgA6bUIAOu1CADttQgA7rUIAO+1CADwtQgA8bUIAPK1CAD8tQgA",
          "dtype": "i4"
         },
         "xaxis": "x",
         "y": {
          "bdata": "ZmZmZmZmJEDWo3A9CtcbQJqZmZmZmTBAzczMzMzMNkDNzMzMzMwkQGZmZmZm5khANDMzMzMzVkDsUbgehesZQAAAAAAAAC1AAAAAAAAALkA0MzMzMzM5QGZmZmZm5jhAAAAAAACARkCamZmZmZlAQNejcD0KV1RA7FG4HoXrI0AVrkfhehRTQAAAAAAAAF5AMzMzMzMzKUAAAAAAAAAuQGZmZmZmBkxAZmZmZmZmN0AzMzMzM7MtQPYoXI/C9RhANDMzMzMzOUBmZmZmZuZIQM3MzMzMzABAzczMzMzMJ0BmZmZmZmY3QJqZmZmZ+UNANDMzMzOzQUAAAAAAAAAlQNejcD0KV0RAAAAAAADAQkA0MzMzM7M9QDMzMzMzMylAAAAAAAAASUDNzMzMzMwzQDQzMzMzszFAAAAAAADAOEAAAAAAAAAuQGdmZmZmZhpAzczMzMzMM0DNzMzMzMwIQDQzMzMzMzlAcT0K16PwN0AAAAAAAIBZQGZmZmZmZgRAMzMzMzOzLUAAAAAAAIBZQAAAAAAAgFlAZmZmZmbmM0DNzMzMzMwzQOxRuB6F6yNAAAAAAAAgQ0CamZmZmZkqQOF6FK5H4T1AZmZmZmbmM0DNzMzMzMxDQAAAAAAAgDBAAAAAAAAALkBmZmZmZmYkQAAAAAAAAC5A",
          "dtype": "f8"
         },
         "yaxis": "y"
        },
        {
         "hovertemplate": "Invoice Date=2011-10-13<br>Invoice Number=%{x}<br>Total Sales=%{y}<extra></extra>",
         "legendgroup": "2011-10-13",
         "marker": {
          "color": "#FF97FF",
          "symbol": "circle"
         },
         "mode": "markers",
         "name": "2011-10-13",
         "showlegend": true,
         "type": "scattergl",
         "x": {
          "bdata": "/bUIAP61CAAAtggAArYIAAO2CAAEtggABbYIAAa2CAAHtggACLYIABC2CAAatggAHrYIAFG2CABdtggAZ7YIAGi2CAB+tggAf7YIAIC2CACJtggAlLYIAJe2CACYtggAmbYIAJy2CACetggAn7YIAKC2CAChtggAo7YIAKS2CACmtggAp7YIAKi2CACptggAqrYIAK62CACvtggAsLYIALG2CACytggAtLYIALa2CAC3tggAuLYIALu2CAC9tggAyLYIAMm2CADStggA2rYIANu2CADctggA3bYIAN62CADftggA4LYIAOG2CADitggA47YIAOS2CADltggA57YIAO22CAA=",
          "dtype": "i4"
         },
         "xaxis": "x",
         "y": {
          "bdata": "zczMzMzMREAAAAAAAMBIQJqZmZmZmT5AZmZmZmZmMUDNzMzMzMwzQJqZmZmZmS9ANDMzMzMzOUAAAAAAAIBpQClcj8L1KBRAAAAAAACANkA0MzMzM7M9QNejcD0KV0RAAAAAAAAALkAAAAAAAABOQAAAAAAAgDlAAAAAAAAAUkAzMzMzM/M4QGZmZmZmZiRAAAAAAACAMEA0MzMzM7NBQGZmZmZmZipAAAAAAAAA9D9mZmZmZmYaQGZmZmZmZvo/mpmZmZnZUUDNzMzMzMwnQM3MzMzMzBNAZmZmZmZmIUAfhetRuB4nQGZmZmZmZhpAZmZmZmZmJEA0MzMzM7MxQGZmZmZmZv4/mpmZmZmZMEDNzMzMzMwgQAAAAAAAAC5AMzMzMzMzL0AAAAAAAAAQQAAAAAAAAPQ/zczMzMzMNEAAAAAAAAA7QGZmZmZm5mVA7FG4HoXrA0AAAAAAAAAOQDMzMzMzM1lAzczMzMzMAEAAAAAAAIA5QDQzMzMzMxlAmpmZmZmZMkDNzMzMzMwfQAAAAAAAAC5AAAAAAAAAG0AAAAAAAAA1QDMzMzMzs01AAAAAAACAQEDNzMzMzMw/QJqZmZmZmTBAAAAAAACAMEAAAAAAAAAUQDMzMzMzMxdAmpmZmZmZPkCamZmZmTlAQAAAAAAAABpAAAAAAAAALkCamZmZmZkwQA==",
          "dtype": "f8"
         },
         "yaxis": "y"
        },
        {
         "hovertemplate": "Invoice Date=2011-10-14<br>Invoice Number=%{x}<br>Total Sales=%{y}<extra></extra>",
         "legendgroup": "2011-10-14",
         "marker": {
          "color": "#FECB52",
          "symbol": "circle"
         },
         "mode": "markers",
         "name": "2011-10-14",
         "showlegend": true,
         "type": "scattergl",
         "x": {
          "bdata": "7rYIAPC2CADxtggA8rYIAPO2CAD1tggABrcIABa3CAAhtwgAKrcIACu3CAAstwgALbcIAC63CAAvtwgAMLcIADG3CAA1twgANrcIADi3CAA5twgAPbcIAD+3CABAtwgAQ7cIAES3CABFtwgATLcIAE23CABOtwgAULcIAFG3CABStwgAU7cIAFW3CABYtwgAWbcIAFq3CABctwgAXbcIAF63CABftwgAYLcIAGK3CABjtwgAZLcIAGW3CABmtwgAabcIAGq3CABrtwgAbLcIAG23CAButwgAb7cIAHC3CABytwgAercIAA==",
          "dtype": "i4"
         },
         "xaxis": "x",
         "y": {
          "bdata": "AAAAAAAALkC4HoXrUbgiQJqZmZmZ2VRAAAAAAAAALkDNzMzMzMwgQLgehetRuBJAAAAAAACARkDhehSuR+HqP83MzMzMzCdAAAAAAACAPUAAAAAAAABEQM3MzMzMzCdAMzMzMzOzUUAzMzMzMzMvQM3MzMzMzCtANDMzMzOzMUAAAAAAAAAuQAAAAAAAAC5AAAAAAAAAJUAAAAAAAAAuQGZmZmZm5khAAAAAAACALUAAAAAAAABbQDQzMzMzszFAAAAAAABgZkCamZmZmdlNQGZmZmZmZiRAAAAAAACAPUCamZmZmZkwQGZmZmZmZjRApHA9CtejAEAAAAAAAAAhQLgehetRuCJANDMzMzMzOUAfhetRuB4XQJqZmZmZmTBAzczMzMzMJkDWo3A9CtcbQDQzMzMzs0FAZmZmZmZmCkAAAAAAAAAuQAAAAAAAADFAzczMzMzMNECF61G4HoU3QM3MzMzMzERAmpmZmZmZPkA0MzMzMzM5QJqZmZmZ2TFAAAAAAACAIEAAAAAAAIBvQDQzMzMzszFAMzMzMzMz+z8VrkfhehRTQAAAAAAAAPQ/ZmZmZmZmKkDNzMzMzMw7QDMzMzMz81ZAAAAAAAAAHkA=",
          "dtype": "f8"
         },
         "yaxis": "y"
        },
        {
         "hovertemplate": "Invoice Date=2011-10-16<br>Invoice Number=%{x}<br>Total Sales=%{y}<extra></extra>",
         "legendgroup": "2011-10-16",
         "marker": {
          "color": "#636efa",
          "symbol": "circle"
         },
         "mode": "markers",
         "name": "2011-10-16",
         "showlegend": true,
         "type": "scattergl",
         "x": {
          "bdata": "e7cIAHy3CAB9twgAf7cIAIG3CACCtwgAg7cIAIS3CACFtwgAhrcIAIe3CACItwgAibcIAIq3CACLtwgAjLcIAI23CACOtwgAj7cIAJC3CACRtwgAkrcIAJO3CACUtwgAlrcIAJi3CACZtwgAmrcIAJu3CACctwgAnbcIAJ63CACftwgAoLcIAKG3CAA=",
          "dtype": "i4"
         },
         "xaxis": "x",
         "y": {
          "bdata": "AAAAAAAgc0CZmZmZmZkwQAAAAAAAIHNAAAAAAACAMEBmZmZmZmYKQAAAAAAAACFAAAAAAAAAJUAAAAAAAKBEQGZmZmZm5iNAZmZmZmbmPUBmZmZmZmb6P83MzMzMzDNANDMzMzMzOUAfhetRuB43QDMzMzMz8zBAmpmZmZmZF0CamZmZmdk0QAAAAAAAgDZAZmZmZmbmMkAAAAAAAEA1QAAAAAAAgElAZmZmZmZm/j8K16NwPQo7QAAAAAAAAA5AZmZmZmbmLUBmZmZmZmb6PwAAAAAAgElAAAAAAAAALkAAAAAAAIAgQJqZmZmZmRdAzczMzMzMEEAAAAAAAAAbQGZmZmZm5jNAmpmZmZmZF0AAAAAAAIApQA==",
          "dtype": "f8"
         },
         "yaxis": "y"
        },
        {
         "hovertemplate": "Invoice Date=2011-10-17<br>Invoice Number=%{x}<br>Total Sales=%{y}<extra></extra>",
         "legendgroup": "2011-10-17",
         "marker": {
          "color": "#EF553B",
          "symbol": "circle"
         },
         "mode": "markers",
         "name": "2011-10-17",
         "showlegend": true,
         "type": "scattergl",
         "x": {
          "bdata": "orcIAKO3CACktwgApbcIAKa3CACntwgAqrcIAKu3CACttwgArrcIAK+3CACztwgAtbcIALq3CAC7twgA2LcIAOC3CADstwgADLgIAA24CAAOuAgAD7gIABC4CAASuAgAE7gIABS4CAAVuAgAGrgIACK4CAAjuAgAJLgIACW4CAAmuAgAJ7gIACi4CAApuAgAKrgIACu4CAAsuAgALbgIAC64CAAvuAgAMbgIADK4CAAzuAgANLgIAEC4CABBuAgARbgIAEa4CABHuAgASLgIAEm4CABSuAgAU7gIAFS4CABeuAgAaLgIAGm4CABquAgAbrgIAHC4CABxuAgAcrgIAHW4CAB2uAgAd7gIAJi4CACauAgA",
          "dtype": "i4"
         },
         "xaxis": "x",
         "y": {
          "bdata": "AAAAAABgZkAAAAAAAGBmQAAAAAAAAC5AAAAAAAAAbUDNzMzMzIxqQAAAAAAAAD5AAAAAAAAALkA0MzMzM7MxQPYoXI/C9dg/mpmZmZmZLkAAAAAAAOBgQJqZmZmZmS5AzczMzMzME0AAAAAAAIAwQDMzMzMzMy9AAAAAAAAAHkAAAAAAAAAuQAAAAAAAAA5AAAAAAACAMEAAAAAAAIA2QAAAAAAAAC5AmpmZmZnZQUBmZmZmZmYEQGZmZmZmZiRAmpmZmZmZPkDXo3A9ClcxQDQzMzMzMzlAzMzMzMzME0DNzMzMzMw0QDQzMzMzMz9AAAAAAACAM0BmZmZmZmbuPwAAAAAAgFlAAAAAAABgZkCamZmZmRl6QGZmZmZmZjdA9ihcj8L1GEAAAAAAAIA2QAAAAAAAgDBApHA9CtejAED2KFyPwvU4QAAAAAAAAC5AKVyPwvU8h0DNzMzMzMwjQAAAAAAAgClAAAAAAAAAMUAAAAAAAIBAQLgehetRuCJAAAAAAACAIEAAAAAAAABBQAAAAAAAADRAAAAAAACAIEAAAAAAAAAlQOxRuB6F6yNAAAAAAAAADkAAAAAAACBDQM3MzMzMzDNAXI/C9ShcO0BmZmZmZmZBQDQzMzMzMxlAAAAAAAAAKUAUrkfhehRjQGZmZmZmZjBAzczMzMzME0AAAAAAAIAgQGZmZmZm5kNAzczMzMzMNEDNzMzMzMwXQAAAAAAAAC5A",
          "dtype": "f8"
         },
         "yaxis": "y"
        },
        {
         "hovertemplate": "Invoice Date=2011-10-18<br>Invoice Number=%{x}<br>Total Sales=%{y}<extra></extra>",
         "legendgroup": "2011-10-18",
         "marker": {
          "color": "#00cc96",
          "symbol": "circle"
         },
         "mode": "markers",
         "name": "2011-10-18",
         "showlegend": true,
         "type": "scattergl",
         "x": {
          "bdata": "m7gIAJy4CACduAgAnrgIAJ+4CACguAgAobgIAKO4CACluAgAprgIAKi4CACpuAgAq7gIAKy4CACuuAgAyrgIAMu4CADRuAgA2rgIAOa4CADsuAgA7bgIAPS4CAD2uAgA+LgIAPm4CAD6uAgABbkIAAa5CAAHuQgACLkIAAm5CAAMuQgADrkIAA+5CAAQuQgAErkIABO5CAAUuQgAFbkIABe5CAAYuQgAGbkIABu5CAAcuQgAHbkIAB+5CAAhuQgAIrkIACO5CAAkuQgAJbkIACq5CAAruQgALLkIAC25CAAuuQgAMLkIADK5CAA1uQgANrkIADq5CAA8uQgAPbkIAD65CABAuQgAQ7kIAEW5CAA=",
          "dtype": "i4"
         },
         "xaxis": "x",
         "y": {
          "bdata": "zczMzMxMZkA0MzMzMzM5QDMzMzMzsy1A9ihcj8K1XECamZmZmZkwQGZmZmZmZkdAUrgeheuxgEDNzMzMzMw0QM3MzMzMzERANDMzMzOzMUCamZmZmdk0QJqZmZmZ2VFANDMzMzOzMUAAAAAAAAAuQAAAAAAAAC5AAAAAAAAghkDNzMzMzMxUQEjhehSuRzRAAAAAAABAf0AAAAAAAAA5QM3MzMzMzCNAAAAAAAAAPkAAAAAAAAA0QGZmZmZmZjFAZmZmZmZmDkAAAAAAAAAeQJqZmZmZmRBASOF6FK5HIUDNzMzMzMwXQPYoXI/C9ShAAAAAAAAABEBmZmZmZmYkQAAAAAAAAC5APQrXo3A9IkAAAAAAAKBiQGdmZmZm5mJAzczMzMzMM0AAAAAAAAAeQGZmZmZmZv4/AAAAAAAAMUDMzMzMzMwWQNajcD0K1xtAuB6F61G4MkBmZmZmZmYkQDQzMzMzsyFAAAAAAAAAK0BmZmZmZmYEQAAAAAAAADlAAAAAAACAOUAAAAAAAAA+QGZmZmZmZu4/AAAAAAAAUkDNzMzMzMw0QDQzMzMzszFAZmZmZmbmI0BmZmZmZmYqQAAAAAAAAC5A4noUrkfhPUBmZmZmZmZhQGZmZmZmZjFAmpmZmZmZLkAAAAAAAAAuQM3MzMzMzDNAAAAAAAAALkAAAAAAAIAwQDMzMzMzsydAzczMzMzMF0DsUbgehesDQA==",
          "dtype": "f8"
         },
         "yaxis": "y"
        },
        {
         "hovertemplate": "Invoice Date=2011-10-19<br>Invoice Number=%{x}<br>Total Sales=%{y}<extra></extra>",
         "legendgroup": "2011-10-19",
         "marker": {
          "color": "#ab63fa",
          "symbol": "circle"
         },
         "mode": "markers",
         "name": "2011-10-19",
         "showlegend": true,
         "type": "scattergl",
         "x": {
          "bdata": "TbkIAE65CABQuQgAUrkIAFS5CABVuQgAVrkIAFe5CABYuQgAWbkIAFq5CABcuQgAXbkIAF65CABfuQgAYLkIAGK5CABjuQgAZLkIAGW5CACDuQgAkbkIAKG5CAC0uQgAtbkIALa5CAC3uQgAvLkIAL25CAC/uQgAwLkIAMG5CADCuQgAw7kIAMS5CADFuQgAxrkIAMe5CADIuQgAybkIAMq5CADMuQgAzbkIANG5CADXuQgA67kIAPK5CAD0uQgA97kIAPq5CAD7uQgA/LkIAP+5CAACuggABLoIAAW6CAAHuggACLoIAAm6CAAKuggADLoIAA26CAAOuggAELoIABa6CAA=",
          "dtype": "i4"
         },
         "xaxis": "x",
         "y": {
          "bdata": "zczMzMzMM0CamZmZmZkuQDMzMzMzsy1AAAAAAAAALkAAAAAAAAAuQDQzMzMzMzlAAAAAAACAMEAAAAAAAKBEQPYoXI/C9SJAAAAAAACAMECamZmZmRlaQOxRuB6F6yNAzczMzMzMNEC4HoXrUbgyQAAAAAAAACVAZmZmZmbmWEAzMzMzM7MtQM3MzMzMzD9AmpmZmZmZPkAAAAAAAIBGQD0K16NwPR5AFa5H4XoUU0AAAAAAAAARQDMzMzMzMxtAAAAAAACASUA0MzMzMzNJQLgehetRuDJAZmZmZmbmI0AAAAAAAAAEQAAAAAAAAD5AAAAAAAAALkAAAAAAAIAgQMzMzMzMbGBAuB6F61G4YkDNzMzMzMxEQM3MzMzMzB9AmpmZmZmZJ0CamZmZmZkuQAAAAAAAAC5AZmZmZmZmKkDMzMzMzMwWQHE9CtejcCxANDMzMzOzPUDXo3A9ClcxQGZmZmZm5jNAAAAAAAAAE0DNzMzMzMwzQDQzMzMzM0lAKVyPwvUoJEBmZmZmZmYqQM3MzMzMzBNAAAAAAAAALkCamZmZmdkxQDMzMzMzsy1AAAAAAACAVkAAAAAAAAARQM3MzMzMzDRAAAAAAADAQkDNzMzMzMwzQDMzMzMzMy9AMzMzMzMzL0BmZmZmZuZLQM3MzMzMzABAPQrXo3A9LkAAAAAAAAArQA==",
          "dtype": "f8"
         },
         "yaxis": "y"
        },
        {
         "hovertemplate": "Invoice Date=2011-10-20<br>Invoice Number=%{x}<br>Total Sales=%{y}<extra></extra>",
         "legendgroup": "2011-10-20",
         "marker": {
          "color": "#FFA15A",
          "symbol": "circle"
         },
         "mode": "markers",
         "name": "2011-10-20",
         "showlegend": true,
         "type": "scattergl",
         "x": {
          "bdata": "HboIAB66CAAfuggAILoIACK6CAAjuggAJLoIACW6CAAmuggAJ7oIACi6CAApuggAPboIAFO6CAB1uggAd7oIAHi6CAB5uggAeroIAHy6CAB+uggAf7oIAIC6CACBuggAgroIAIS6CACFuggAjboIAI+6CACQuggAkboIAJK6CACVuggAl7oIAJi6CACZuggAmroIAJ66CACfuggAoLoIAKK6CACjuggApLoIAKa6CACnuggAqboIAKq6CACruggArLoIAK26CACuuggAr7oIALC6CACxuggAsroIALW6CAC2uggAuLoIALm6CAC6uggAu7oIALy6CAC9uggAvroIAL+6CADAuggAwroIAMS6CADFuggAx7oIAMi6CADJuggAyroIAMu6CADMuggA2boIAA==",
          "dtype": "i4"
         },
         "xaxis": "x",
         "y": {
          "bdata": "Fa5H4XoUU0BmZmZmZmYkQM3MzMzMzDNAZmZmZmZmKkBmZmZmZmZEQAAAAAAAgGlAZmZmZmZmJEAAAAAAAMBCQGZmZmZmZilACtejcD0KO0DXo3A9CldBQAAAAAAAACVApHA9CtejIEDNzMzMzMwmQGZmZmZmZjFApHA9CtejEEAAAAAAAAAuQJqZmZmZmS5AAAAAAAAgQ0DNzMzMzMw0QNajcD0K1xtAZmZmZmZmYUDNzMzMzMw0QDQzMzMzszFAAAAAAAAAIUA0MzMzMzM/QAAAAAAAACVAzczMzMzME0AAAAAAAAAZQAAAAAAAYGZAZmZmZmZmGkAAAAAAAAApQM3MzMzMzDRAzczMzMzMEEAAAAAAAIBBQLgehetRuBJAAAAAAACAIEDNzMzMzMwzQAAAAAAAAPQ/MzMzMzPzQ0AAAAAAAAAuQM3MzMzMzDRA4XoUrkfhLUCamZmZmZk+QBSuR+F6FExAZmZmZmZm7j+kcD0K16MQQAAAAAAAAD5AAAAAAAAAKUA0MzMzM7M9QAAAAAAAgDBAZmZmZmbmOEA0MzMzMzM5QAAAAAAAgDBAZmZmZmZmR0DNzMzMzMxEQGZmZmZmZjdAuB6F61G4EkA0MzMzMzM5QGZmZmZmZv4/16NwPQpXMUAAAAAAAMAyQJqZmZmZmS5AzczMzMzMNECamZmZmZkHQAAAAAAAgCNANDMzMzOzMUDNzMzMzGxZQAAAAAAAAD5AAAAAAAAAIUDNzMzMzMxUQAAAAAAAIHNAZmZmZmbmQkBmZmZmZuYjQM3MzMzMzDZAAAAAAAAAJUA=",
          "dtype": "f8"
         },
         "yaxis": "y"
        },
        {
         "hovertemplate": "Invoice Date=2011-10-21<br>Invoice Number=%{x}<br>Total Sales=%{y}<extra></extra>",
         "legendgroup": "2011-10-21",
         "marker": {
          "color": "#19d3f3",
          "symbol": "circle"
         },
         "mode": "markers",
         "name": "2011-10-21",
         "showlegend": true,
         "type": "scattergl",
         "x": {
          "bdata": "2roIAN26CADeuggA4LoIAOG6CADiuggA47oIAOS6CADruggAFrsIABe7CAAauwgAHLsIAB27CAAfuwgAILsIACG7CAAiuwgAI7sIACS7CAAluwgAK7sIADG7CAAyuwgAM7sIADS7CAA1uwgANrsIADi7CAA5uwgAOrsIADu7CAA8uwgAPbsIAD67CABAuwgAQbsIAEO7CABFuwgARrsIAEe7CABIuwgASrsIAEu7CABNuwgATrsIAFC7CABSuwgAU7sIAFS7CABwuwgAcrsIAA==",
          "dtype": "i4"
         },
         "xaxis": "x",
         "y": {
          "bdata": "AAAAAACAMEAAAAAAAJBSQGZmZmZmZjFAAAAAAACANkDNzMzMzMwnQAAAAAAAACVAZmZmZmZmNEA+CtejcD0SQM3MzMzMzENAKVyPwvUoFEAVrkfhehRTQAAAAAAAADFAAAAAAACAaUAAAAAAALBcQJqZmZmZ2TFANDMzMzMzGUAAAAAAABiFQGZmZmZmZv4/mpmZmZmZTkAzMzMzM1NxQI/C9Shcj1BAAAAAAAAAIUAAAAAAAKqpQM3MzMzMzC9AAAAAAACASUA0MzMzM7NEQAAAAAAAACVAMzMzMzMzKUCamZmZmZkgQFyPwvUoXCtAAAAAAAAALkCkcD0K16MQQAAAAAAAAARAAAAAAAAALkAAAAAAAABoQGZmZmZmZiRAAAAAAACAMEAAAAAAAIAmQM3MzMzMzCNA16NwPQpXMUD2KFyPwvU4QNejcD0KV0FAmpmZmZnZMUAAAAAAAIBAQDMzMzMzMylAZmZmZmZmKkCamZmZmZkvQJqZmZmZmT5AAAAAAACAKUAAAAAAAAAuQAAAAAAAADFAmpmZmZnZUUA=",
          "dtype": "f8"
         },
         "yaxis": "y"
        },
        {
         "hovertemplate": "Invoice Date=2011-10-23<br>Invoice Number=%{x}<br>Total Sales=%{y}<extra></extra>",
         "legendgroup": "2011-10-23",
         "marker": {
          "color": "#FF6692",
          "symbol": "circle"
         },
         "mode": "markers",
         "name": "2011-10-23",
         "showlegend": true,
         "type": "scattergl",
         "x": {
          "bdata": "dbsIAHa7CAB3uwgAeLsIAHm7CAB6uwgAe7sIAHy7CAB9uwgAfrsIAH+7CACAuwgAgbsIAIK7CACDuwgAhLsIAIW7CACGuwgAh7sIAIi7CACJuwgAirsIAIy7CACNuwgAjrsIAI+7CACQuwgAkbsIAJK7CACTuwgAlLsIAJW7CACWuwgAl7sIAJi7CACZuwgAmrsIAJu7CACcuwgAnbsIAJ67CACfuwgA",
          "dtype": "i4"
         },
         "xaxis": "x",
         "y": {
          "bdata": "zczMzMzMJ0CamZmZmZknQJqZmZmZmQdAZmZmZmZmFEAAAAAAAIAwQGZmZmZm5i1AzczMzMzMBkAzMzMzMzMfQDMzMzMzMx9AAAAAAAAALkAAAAAAAIApQClcj8L1KBRAmpmZmZmZIEAAAAAAAAAlQPYoXI/C9RhAzMzMzMzME0AAAAAAAABJQGZmZmZmZhpAAAAAAAAABECkcD0K16MAQAAAAAAAAB5AzczMzMzMF0BmZmZmZmbuP5qZmZmZmQdAmpmZmZmZB0AAAAAAAIBZQGZmZmZm5jhAAAAAAACAJkBmZmZmZuYsQJqZmZmZ2TFAzMzMzMzME0A0MzMzM7MxQPYoXI/C9eg/CtejcD0KS0DNzMzMzMwTQDQzMzMzMx9ApHA9CtejEEAAAAAAAAA7QAAAAAAAAB5AAAAAAAAAIUAAAAAAAAAEQDQzMzMzsyFA",
          "dtype": "f8"
         },
         "yaxis": "y"
        },
        {
         "hovertemplate": "Invoice Date=2011-10-24<br>Invoice Number=%{x}<br>Total Sales=%{y}<extra></extra>",
         "legendgroup": "2011-10-24",
         "marker": {
          "color": "#B6E880",
          "symbol": "circle"
         },
         "mode": "markers",
         "name": "2011-10-24",
         "showlegend": true,
         "type": "scattergl",
         "x": {
          "bdata": "oLsIAKG7CACiuwgAo7sIAKS7CACluwgAprsIAKe7CACouwgAqbsIAKq7CACruwgArLsIAK27CACvuwgAsLsIALG7CACyuwgAs7sIALS7CAC2uwgAuLsIALy7CAC+uwgAv7sIAMC7CADBuwgAwrsIANy7CADouwgA77sIAAe8CAAbvAgAH7wIACO8CAAkvAgAJbwIACa8CAAqvAgALLwIAC28CAAuvAgAMLwIADG8CAAyvAgAOLwIADq8CAA7vAgAQ7wIAES8CABHvAgASrwIAFO8CABYvAgAXbwIAF+8CABgvAgAYbwIAGW8CABmvAgAZ7wIAGi8CABpvAgAcLwIAH28CAB+vAgAgLwIAIG8CACIvAgAi7wIAA==",
          "dtype": "i4"
         },
         "xaxis": "x",
         "y": {
          "bdata": "CtejcD0KK0AAAAAAAAAuQM3MzMzMzDNAzczMzMzML0AAAAAAAIBsQAAAAAAAUJBAAAAAAABgZkAAAAAAAIBGQDMzMzMzM1lAZmZmZmZmJEA0MzMzMzMZQAAAAAAAACVAAAAAAAAAUkAzMzMzMzMpQAAAAAAAgEBAmpmZmZmZPkAAAAAAAABSQGZmZmZm5jNAMzMzMzOzUUDXo3A9CpdfQAAAAAAAAGJAAAAAAAAAUkAAAAAAAABCQEjhehSuRxRAcT0K16NwGUAAAAAAAAAuQM3MzMzMzDNAAAAAAAAAKkC4HoXrUbgiQM3MzMzMzDNAAAAAAAAALkBmZmZmZg59QAAAAAAAkHJAZmZmZmZmLUA0MzMzMzNPQM3MzMzMzDNAmpmZmZnZNEAAAAAAAAAuQDMzMzMzMylANDMzMzOzPUA0MzMzMzMfQDMzMzMzMy9AAAAAAAAAGUA0MzMzM7MxQAAAAAAAAD5AmpmZmZmZTkCamZmZmZkuQGZmZmZmZvo/AAAAAAAADkAAAAAAAAAOQAAAAAAAACFANDMzMzMzGUDNzMzMzMwgQDQzMzMzMzlAAAAAAAAAHkAzMzMzMzMbQClcj8L1KCRAAAAAAAAAKUBmZmZmZmYEQDMzMzMzs21AzczMzMzMQ0AAAAAAAABNQGZmZmZmZiRAKVyPwvUoNEBmZmZmZmbuP2ZmZmZmZjRAAAAAAAAADkBxPQrXo7B1QGZmZmZm8oNAFK5H4XoUQ0A=",
          "dtype": "f8"
         },
         "yaxis": "y"
        },
        {
         "hovertemplate": "Invoice Date=2011-10-25<br>Invoice Number=%{x}<br>Total Sales=%{y}<extra></extra>",
         "legendgroup": "2011-10-25",
         "marker": {
          "color": "#FF97FF",
          "symbol": "circle"
         },
         "mode": "markers",
         "name": "2011-10-25",
         "showlegend": true,
         "type": "scattergl",
         "x": {
          "bdata": "jrwIAJG8CACSvAgAk7wIAJW8CACWvAgAmLwIAJm8CADEvAgAxbwIAMi8CADJvAgA6rwIAOu8CADsvAgA7bwIAO68CADvvAgA8LwIAPG8CADyvAgA9LwIAPW8CAD2vAgA97wIAPi8CAD6vAgA+7wIAPy8CAD9vAgA/rwIAP+8CAAAvQgAAb0IAAK9CAADvQgABL0IAAW9CAAGvQgAB70IAAm9CAAKvQgAC70IABC9CAAYvQgAH70IAC69CAAvvQgAML0IADG9CAA2vQgAPL0IAD29CAA+vQgAP70IAEG9CABCvQgARb0IAEa9CABHvQgASL0IAEm9CABKvQgAT70IAFC9CABRvQgAU70IAFS9CAA=",
          "dtype": "i4"
         },
         "xaxis": "x",
         "y": {
          "bdata": "MzMzMzOzPUAAAAAAAAAuQClcj8L1KBRAzczMzMzMJEA0MzMzM7NBQAAAAAAAAC5A9ihcj8L1OECamZmZmZkwQGZmZmZmZjdAzczMzMzMM0C4HoXrUbgiQAAAAAAAgDBAAAAAAAAATkApXI/C9SgkQDQzMzMzszFAZmZmZmZmDkA0MzMzMzM5QAAAAAAAgDBAAAAAAAAAe0AAAAAAAABaQGZmZmZmZidAzczMzMzMF0AAAAAAAAAuQM3MzMzMzCNAAAAAAAAAEUAAAAAAAIBAQAAAAAAAAD5AZmZmZmbmM0D2KFyPwvXYPwAAAAAAACFA16NwPQqXX0DNzMzMzMxEQLgehetRuFJAAAAAAAAAOUAAAAAAAAApQGZmZmZmZhpANDMzMzPTVUDhehSuR+EqQAAAAAAAAC5AzczMzMzMQ0AAAAAAAAA5QAAAAAAAAC5AmpmZmZmZOEAAAAAAAAAhQAAAAAAAMIVA16NwPQpXIUAAAAAAAAAuQAAAAAAAADFAZmZmZmZm7j/NzMzMzMwnQAAAAAAAgClAZmZmZmZmKkBmZmZmZmZRQM3MzMzMnF5AzczMzMzMNEDNzMzMzMw3QLgehetRuDJAAAAAAAAAMUApXI/C9SgUQAAAAAAAYGZAZmZmZmZm/j8AAAAAAMA9QM3MzMzMzABAAAAAAAAALkDNzMzMzMwzQAAAAAAAgDZANDMzMzOzPUAAAAAAAABIQA==",
          "dtype": "f8"
         },
         "yaxis": "y"
        },
        {
         "hovertemplate": "Invoice Date=2011-10-26<br>Invoice Number=%{x}<br>Total Sales=%{y}<extra></extra>",
         "legendgroup": "2011-10-26",
         "marker": {
          "color": "#FECB52",
          "symbol": "circle"
         },
         "mode": "markers",
         "name": "2011-10-26",
         "showlegend": true,
         "type": "scattergl",
         "x": {
          "bdata": "WL0IAFq9CABcvQgAXb0IAF69CABfvQgAYL0IAGG9CABjvQgAZL0IAGW9CABmvQgAZ70IAHi9CACKvQgAi70IAIy9CACevQgAoL0IAKG9CACivQgAo70IAKS9CAClvQgApr0IAKu9CACtvQgArr0IAK+9CACwvQgAs70IALS9CAC1vQgAtr0IALi9CAC5vQgAur0IALu9CAC8vQgAvb0IAL69CAC/vQgAwb0IAMK9CADDvQgAxL0IAMa9CADHvQgAyL0IAMm9CADKvQgAy70IAMy9CADNvQgAzr0IAM+9CADQvQgA0b0IANK9CADUvQgA1b0IANi9CADZvQgA3L0IAN29CADjvQgA5L0IAOW9CADmvQgA570IAOi9CADpvQgA6r0IAOu9CADsvQgA7b0IAO69CADvvQgA8L0IAPG9CADyvQgA9r0IAPm9CAD6vQgA",
          "dtype": "i4"
         },
         "xaxis": "x",
         "y": {
          "bdata": "9ihcj8L1KECamZmZmZkuQDQzMzMzs0FAMzMzMzOzjUBnZmZmZkZ2QM3MzMzMzDNAAAAAAAAAOUCamZmZmdlhQGZmZmZmZjFAmpmZmZmZLkA0MzMzM7MxQAAAAAAAAApAMzMzMzOzLUDXo3A9ClchQNejcD0KVzFAzczMzMzMNEBmZmZmZuYzQM3MzMzMzCNAAAAAAAAA8D+amZmZmZkPQAAAAAAAAA5AZmZmZmbmM0AAAAAAAAARQArXo3A9CitAAAAAAACALUAzMzMzM7NRQAAAAAAAAItAw/UoXI8CSkAAAAAAAAD0PwAAAAAAAC5AzczMzMy0cED2KFyPwvUyQDQzMzMzMx9AXI/C9SjcNkAAAAAAAEA6QFyPwvUoHGBAzczMzMzMEEAzMzMzM/M9QAAAAAAAgDBAZmZmZmZm7j8AAAAAAAAZQAAAAAAAgDBAMzMzMzMzB0DNzMzMzMwXQAAAAAAAACVAzczMzMzMIEBmZmZmZmZHQClcj8L1KCRAmpmZmZmZIEAAAAAAAAAuQOxRuB6F6zNACtejcD0KNEA0MzMzMzM5QJqZmZmZ2U1AzczMzMysYkBcj8L1KJxdQJqZmZmZmQdAAAAAAACgZ0CamZmZmZkfQAAAAAAAgDNAAAAAAABgZkD2KFyPwvVoQKRwPQrXoxBAMzMzMzOzTUAAAAAAAAAxQDMzMzMzs11AmpmZmZnZWkDXo3A9ClcxQLgehetRuEJAZmZmZmZm7j8pXI/C9Sg0QM3MzMzMzBBANDMzMzOzTUAAAAAAAAAuQAAAAAAAgDNAAAAAAABANUAAAAAAAAA1QAAAAAAAgDZAZmZmZmZm7j8zMzMzMzMbQDQzMzMzMzlAmpmZmZmZD0C4HoXrUbgCQAAAAAAAgCBA",
          "dtype": "f8"
         },
         "yaxis": "y"
        },
        {
         "hovertemplate": "Invoice Date=2011-10-27<br>Invoice Number=%{x}<br>Total Sales=%{y}<extra></extra>",
         "legendgroup": "2011-10-27",
         "marker": {
          "color": "#636efa",
          "symbol": "circle"
         },
         "mode": "markers",
         "name": "2011-10-27",
         "showlegend": true,
         "type": "scattergl",
         "x": {
          "bdata": "+70IAPy9CAD+vQgAAL4IAAG+CAACvggAA74IAAS+CAAFvggAB74IABK+CAAgvggAKb4IAD6+CABCvggARb4IAEa+CABHvggASL4IAEm+CABNvggATr4IAE++CABQvggAW74IAFy+CABevggAX74IAGK+CABjvggAZL4IAGW+CABovggAab4IAG6+CACKvggAjL4IAI2+CACOvggAkr4IAJO+CACUvggAlr4IAJq+CACbvggAnb4IAKW+CACmvggAp74IAKi+CACsvggArr4IAK++CACwvggAtb4IALa+CAC3vggAuL4IALm+CAC8vggAvb4IAL++CADBvggAwr4IAMO+CADEvggAxb4IAMa+CADIvggAyb4IAMq+CADLvggAzL4IAM2+CADOvggAz74IANK+CADTvggA1L4IANW+CADWvggA174IANi+CADZvggA2r4IAN2+CADevggA374IAOC+CAA=",
          "dtype": "i4"
         },
         "xaxis": "x",
         "y": {
          "bdata": "zczMzMzMM0A0MzMzM7M9QJqZmZmZ2TFANDMzMzOzPUBmZmZmZmb6P2ZmZmZm5iNAzczMzMzMM0DNzMzMzMw0QGZmZmZmZjdANDMzMzOzMUAAAAAAAAAuQM3MzMzMzDNAAAAAAAAASUA0MzMzM7MxQGZmZmZmZjFAPQrXo3A9PkBSuB6F69FKQAAAAAAA4EhAAAAAAAAAPkAAAAAAAAACQAAAAAAAgGZACtejcD0KO0AAAAAAAAAuQEjhehSuRxFAAAAAAAAALkDNzMzMzMwzQDQzMzMzsz1AAAAAAACAQEAAAAAAAAAuQM3MzMzMzERAmpmZmZmZMECamZmZmZkHQDMzMzMzsy1ANDMzMzOzIUDNzMzMzMwjQAAAAAAAABFApHA9CtejAEAAAAAAAAAOQJqZmZmZmRdAAAAAAAAALkAAAAAAAIBZQClcj8L1KCRAzczMzMzMI0BmZmZmZmZEQJiZmZmZmR5A16NwPQpXQUAAAAAAAAAEQJqZmZmZmQ9ANDMzMzOzPUAAAAAAAAAuQJqZmZmZmTJAAAAAAAAAMUBmZmZmZoZIQJqZmZmZ2TFA9ihcj8L1OEA+CtejcL1jQFyPwvUoHGBAAAAAAAAALkAAAAAAAAAuQGZmZmZmZlRAZmZmZmZmJEAAAAAAAAAxQM3MzMzMzDRAAAAAAACAPUA0MzMzM7MxQJqZmZmZmTBANDMzMzOzMUAAAAAAAIBPQAAAAAAAwEhAMzMzMzOzXUAUrkfhehQsQAAAAAAAgEZAuB6F61G4MkAAAAAAACBTQAAAAAAAgDBACtejcD0KK0AAAAAAAMA4QKRwPQrXowBAzczMzMzMREAAAAAAAAAxQAAAAAAAgFNAAAAAAACAQEAAAAAAAAD0PwAAAAAAAElAAAAAAACAWUAzMzMzMzP7Px+F61G4HidAAAAAAAAALkAAAAAAAIAgQA==",
          "dtype": "f8"
         },
         "yaxis": "y"
        },
        {
         "hovertemplate": "Invoice Date=2011-10-28<br>Invoice Number=%{x}<br>Total Sales=%{y}<extra></extra>",
         "legendgroup": "2011-10-28",
         "marker": {
          "color": "#EF553B",
          "symbol": "circle"
         },
         "mode": "markers",
         "name": "2011-10-28",
         "showlegend": true,
         "type": "scattergl",
         "x": {
          "bdata": "474IAOS+CADlvggA5r4IAOe+CADovggA6b4IAOq+CADrvggA7L4IAO2+CADuvggA774IAPC+CADzvggA974IAPq+CAD7vggA/r4IAP++CAAAvwgAAb8IAAy/CAAuvwgAL78IAD2/CABAvwgATb8IAE6/CABPvwgAUL8IAFG/CABSvwgAVb8IAFa/CABYvwgAW78IAFy/CABdvwgAXr8IAF+/CABgvwgAYb8IAGK/CABlvwgAZ78IAGi/CABrvwgAbL8IAG6/CABvvwgAdL8IAHm/CAB9vwgAf78IAIK/CACDvwgA",
          "dtype": "i4"
         },
         "xaxis": "x",
         "y": {
          "bdata": "ZmZmZmZmMUDsUbgehetJQAAAAAAAgEBAAAAAAAAAMUAAAAAAAAAuQDQzMzMzszFAmpmZmZn5Q0A0MzMzM7M9QGZmZmZmZlRAAAAAAACAQEAAAAAAAAAuQAAAAAAAgFlA1qNwPQrXG0AzMzMzM7NRQM3MzMzMzDRAzczMzMzMM0BmZmZmZmYkQJqZmZmZmU5ANDMzMzMzH0AAAAAAAIAgQAAAAAAAgElAAAAAAAAALkAAAAAAAMAyQHsUrkfhelVAAAAAAAAATkAAAAAAAIApQB+F61G4HhdAKVyPwvVolkAAAAAAAMA4QAAAAAAAYGZAZmZmZmZmCkBmZmZmZmY3QAAAAAAAAC5AmpmZmZmZEEAAAAAAAAAlQGZmZmZmZkRAAAAAAABgZkAAAAAAAIBGQAAAAAAAgClAAAAAAAAAQUAzMzMzM7NdQClcj8L1KBRAzczMzMzMMEBmZmZmZuYzQAAAAAAAgDBAzczMzMzMM0DNzMzMzMwzQGZmZmZmZiRAmpmZmZmZLkDNzMzMzIxRQAAAAAAAADlAKVyPwvUoJEAAAAAAAAApQGZmZmZmZkRA4XoUrkfh6j8AAAAAAKBEQOJ6FK5H4R1A",
          "dtype": "f8"
         },
         "yaxis": "y"
        },
        {
         "hovertemplate": "Invoice Date=2011-10-30<br>Invoice Number=%{x}<br>Total Sales=%{y}<extra></extra>",
         "legendgroup": "2011-10-30",
         "marker": {
          "color": "#00cc96",
          "symbol": "circle"
         },
         "mode": "markers",
         "name": "2011-10-30",
         "showlegend": true,
         "type": "scattergl",
         "x": {
          "bdata": "h78IAIi/CACKvwgAi78IAIy/CACNvwgAjr8IAI+/CACQvwgAkb8IAJK/CACTvwgAlL8IAJa/CACXvwgAmL8IAJm/CACavwgAm78IAJy/CACdvwgAnr8IAJ+/CACgvwgAob8IAKK/CACjvwgApL8IAKW/CACmvwgAp78IAKi/CACpvwgAqr8IAKu/CACsvwgArb8IAK6/CACvvwgAsL8IALG/CACzvwgAtL8IALa/CAC3vwgAuL8IALm/CAC6vwgAu78IALy/CAC9vwgAvr8IAL+/CADAvwgAwb8IAMK/CADDvwgAxL8IAMW/CADGvwgAx78IAMi/CADJvwgAyr8IAMu/CADMvwgAzb8IAM6/CADQvwgA0b8IANK/CADTvwgA1L8IANW/CADWvwgA178IANi/CADbvwgA3L8IAN2/CADevwgA378IAOC/CADhvwgA4r8IAOO/CADkvwgA5b8IAOa/CADnvwgA",
          "dtype": "i4"
         },
         "xaxis": "x",
         "y": {
          "bdata": "AAAAAACAMEAAAAAAADBlQAAAAAAAYGZAzczMzMzMM0AzMzMzM/NDQMzMzMzMbHBA9ihcj8L1OED2KFyPwvUoQGZmZmZmZhRANDMzMzOzMUAAAAAAAAArQGZmZmZmZv4/9ihcj8L12D9mZmZmZmY0QKRwPQrXoxBAAAAAAAAAHkAzMzMzM7NRQAAAAAAAAD5AAAAAAACAMECkcD0K16MQQDMzMzMzsy1AAAAAAADAPUCkcD0K16MQQGZmZmZmZu4/ZmZmZmZm+j8AAAAAAAAhQGZmZmZm5jJAZmZmZmZm/j+kcD0K16MQQM3MzMzMzCNAAAAAAAAALkB7FK5H4XpVQM3MzMzMzBNAAAAAAABANUAAAAAAAIAwQDMzMzMz81ZAAAAAAAAATkDiehSuR+E9QGZmZmZmZv4/ZmZmZmbmI0D2KFyPwvXoPwAAAAAAACVANDMzMzMzH0AAAAAAAIAgQDQzMzMzMzlAAAAAAAAA9D8AAAAAAAAOQDMzMzMzM1lAZmZmZmZmJEA0MzMzM7MxQDQzMzMzMxlAzczMzMzMI0BmZmZmZmYqQAAAAAAAAD5AAAAAAAAAOUA0MzMzM7MxQDMzMzMzsy1AAAAAAAAADkAfhetRuB4tQM3MzMzMzDNA9ihcj8L1KECamZmZmdk9QAAAAAAAAD5A16NwPQpXMUAAAAAAAAD0PwAAAAAAADlANDMzMzOzR0DiehSuR+E9QNejcD0KVzFAAAAAAAAAJUAAAAAAAIBGQDQzMzMzs0FA9ihcj8L1+D9mZmZmZmYaQDQzMzMzsz1AXI/C9ShcK0AAAAAAAAAuQM3MzMzMzDNANDMzMzMzOUDNzMzMzMwGQJqZmZmZmS5AmpmZmZmZJ0A9CtejcD0+QAAAAAAAgEBACtejcD0KB0DsUbgeheszQM3MzMzMzDNAAAAAAAAADkDNzMzMzMwjQM3MzMzMzCNA",
          "dtype": "f8"
         },
         "yaxis": "y"
        },
        {
         "hovertemplate": "Invoice Date=2011-10-31<br>Invoice Number=%{x}<br>Total Sales=%{y}<extra></extra>",
         "legendgroup": "2011-10-31",
         "marker": {
          "color": "#ab63fa",
          "symbol": "circle"
         },
         "mode": "markers",
         "name": "2011-10-31",
         "showlegend": true,
         "type": "scattergl",
         "x": {
          "bdata": "6L8IAOq/CADrvwgA7L8IAO2/CADuvwgA778IAPG/CAAMwAgAGMAIACnACAArwAgALMAIAC3ACAAuwAgANMAIADjACAA8wAgAPcAIAEDACABDwAgARcAIAEbACABIwAgAW8AIAFzACABmwAgAZ8AIAGjACABpwAgAasAIAGzACABvwAgAcMAIAHTACAB8wAgAhMAIAIjACACJwAgAisAIAIvACACOwAgAj8AIAJDACACSwAgAk8AIAJ/ACACgwAgAwMAIAOHACADiwAgA/8AIAA==",
          "dtype": "i4"
         },
         "xaxis": "x",
         "y": {
          "bdata": "AAAAAAAARUA0MzMzMzNJQArXo3A9CjtAAAAAAAAgQ0DXo3A9ClcxQGZmZmZmZjFAAAAAAAAAXkDNzMzMzMwzQFyPwvUoXBtASOF6FK5HREDNzMzMzMwzQHsUrkfhekVAPQrXo3A9LkAzMzMzM/MzQJqZmZmZ2TFAAAAAAACAIEDXo3A9ClcxQPYoXI/C9RhAAAAAAACAPUAAAAAAAAAlQM3MzMzMzC9AAAAAAAAALkAAAAAAAAAOQClcj8L1KCRANDMzMzMzVkAzMzMzM7NdQGZmZmZmZjRAZmZmZmbmI0DiehSuR+EdQAAAAAAAAC5AzczMzMzMN0AAAAAAAAAeQAAAAAAAADtAmpmZmZmZLkA0MzMzMzM5QAAAAAAAAC5AZmZmZmbmI0AUrkfhepQgQAAAAAAAIGdAAAAAAAAA9D9mZmZmZmbuPwAAAAAAAD5AAAAAAAAAMUAzMzMzM7NRQAAAAAAAAC5A7FG4HoXrM0AzMzMzM/NWQHsUrkfhelVAAAAAAAAALkCamZmZmZknQAAAAAAAgEZAZmZmZmbmQ0A=",
          "dtype": "f8"
         },
         "yaxis": "y"
        },
        {
         "hovertemplate": "Invoice Date=2011-11-01<br>Invoice Number=%{x}<br>Total Sales=%{y}<extra></extra>",
         "legendgroup": "2011-11-01",
         "marker": {
          "color": "#FFA15A",
          "symbol": "circle"
         },
         "mode": "markers",
         "name": "2011-11-01",
         "showlegend": true,
         "type": "scattergl",
         "x": {
          "bdata": "MMEIADHBCAAywQgAM8EIADXBCAA9wQgAPsEIAELBCABDwQgAScEIAErBCABMwQgATcEIAE7BCABPwQgAUMEIAFHBCABSwQgAVMEIAHDBCAB2wQgAfsEIAIXBCACGwQgAkMEIAJHBCACWwQgAp8EIAKnBCACqwQgArsEIAK/BCACwwQgAscEIALLBCACzwQgAtMEIALXBCAC2wQgAt8EIAL7BCAC/wQgAwMEIAMHBCADCwQgAxcEIAMbBCADHwQgAyMEIAMnBCADKwQgAy8EIAMzBCADNwQgAzsEIAM/BCADQwQgA0cEIANLBCADTwQgA1MEIANXBCADWwQgA18EIANjBCADZwQgA2sEIANvBCADdwQgA3sEIAA==",
          "dtype": "i4"
         },
         "xaxis": "x",
         "y": {
          "bdata": "FK5H4XoUQ0AAAAAAAAAuQM3MzMzMzDRAAAAAAAAALkBI4XoUrkchQAAAAAAAIExAuB6F61G4EkDNzMzMzMxEQDQzMzMzs0FAAAAAAAAALkBmZmZmZmY3QAAAAAAAAARAmpmZmZmZPkAAAAAAAMBlQAAAAAAAgGlAmpmZmZnZNEC4HoXrUbgiQAAAAAAAgFZANDMzMzOzMUBmZmZmZmb+P5qZmZmZ+UNAmpmZmZnZR0AAAAAAAAAlQGZmZmZmZv4/mpmZmZkZakAAAAAAAAAeQAAAAAAAgGlAAAAAAAAALkAVrkfhehRTQM3MzMzMzDBAH4XrUbgeF0DNzMzMzMwvQEjhehSuRzRAZmZmZmZm+j9mZmZmZmYqQPYoXI/C9ShAAAAAAAAAHkDNzMzMzMwzQFyPwvUoXCtAmpmZmZmZF0C4HoXrUbgiQDMzMzMzsy1ANDMzMzOzMUAzMzMzMzMPQAAAAAAAAPQ/AAAAAAAALkD2KFyPwvUYQAAAAAAAAB5ANDMzMzOzTUAzMzMzMzMvQDQzMzMzMxlAAAAAAAAALkAAAAAAAAAxQGZmZmZmZiFAMzMzMzNzWEDNzMzMzMwzQKRwPQrXoyBAZmZmZmZm+j8AAAAAAIAwQDMzMzMzsy1AzczMzMzMNEDNzMzMzMwjQAAAAAAAAFJAzczMzMzMQ0AAAAAAAMBCQGZmZmZmZidAmpmZmZnZPUCamZmZmZkHQAAAAAAAIF9A9ihcj8L1KEA=",
          "dtype": "f8"
         },
         "yaxis": "y"
        },
        {
         "hovertemplate": "Invoice Date=2011-11-02<br>Invoice Number=%{x}<br>Total Sales=%{y}<extra></extra>",
         "legendgroup": "2011-11-02",
         "marker": {
          "color": "#19d3f3",
          "symbol": "circle"
         },
         "mode": "markers",
         "name": "2011-11-02",
         "showlegend": true,
         "type": "scattergl",
         "x": {
          "bdata": "4cEIAOLBCADjwQgA5MEIAOfBCADowQgA6sEIAOvBCADswQgA7cEIAO7BCADxwQgA+cEIAAPCCAAewggAKMIIACnCCAAqwggAK8IIACzCCAA5wggAO8IIADzCCAA9wggAP8IIAEDCCABBwggAQsIIAETCCABFwggAR8IIAEjCCABJwggATcIIAFDCCABRwggAUsIIAFPCCABUwggAVcIIAFbCCABXwggAWMIIAFnCCABawggAW8IIAFzCCABdwggAXsIIAF/CCABgwggAYcIIAGLCCABjwggAZMIIAGXCCABmwggAZ8IIAGzCCABuwggAb8IIAHDCCABywggAc8IIAHXCCAB2wggAeMIIAHvCCAB9wggAf8IIAIDCCACBwggAgsIIAITCCACFwggA",
          "dtype": "i4"
         },
         "xaxis": "x",
         "y": {
          "bdata": "NDMzMzOzMUDNzMzMzMwwQM3MzMzMzDNAZmZmZmZmN0AAAAAAAIA2QOxRuB6F6zNANDMzMzMzGUAAAAAAAAAeQAAAAAAAAFJAAAAAAABAVUDNzMzMzMwjQAAAAAAAgDNAAAAAAAAAPkDhehSuR+EtQAAAAAAAIHNAmpmZmZmZH0DNzMzMzMw0QAAAAAAAAB5AAAAAAAAAjkBmZmZmZuYjQLgehetRuAJAAAAAAAAAJUDhehSuR+FkQAAAAAAAgFlAAAAAAADAMkA0MzMzM7NBQAAAAAAAAC5AMzMzMzMzL0AAAAAAAAAuQDMzMzMzs2FA16NwPQpXQUCamZmZmZk+QOF6FK5H4URAAAAAAAAAPkAAAAAAAIBWQAAAAAAAADlAMzMzMzMz+z9mZmZmZmYKQDQzMzMzs0FAAAAAAAAAJUAAAAAAAIAwQM3MzMzMzDNAAAAAAAAABEDsUbgeheszQJmZmZmZmTBA9ihcj8L1+D8AAAAAAAA+QHsUrkfhekVAzczMzMzME0AAAAAAAAA+QAAAAAAAAC5AAAAAAACAWUD2KFyPwvUoQM3MzMzMzBtA4XoUrkfh6j/2KFyPwvVIQAAAAAAAgEBAzczMzMzMU0A0MzMzM7MxQGZmZmZmZipAj8L1KFyP0j9mZmZmZmYkQDQzMzMzM1ZAAAAAAACATUA0MzMzMzM5QAAAAAAAgDBAAAAAAAAALkAAAAAAAOBQQGZmZmZmZgpAZmZmZmbmI0BmZmZmZuYjQDMzMzMzMy9AZmZmZmZm7j8AAAAAAAAxQGZmZmZmZjRA",
          "dtype": "f8"
         },
         "yaxis": "y"
        },
        {
         "hovertemplate": "Invoice Date=2011-11-03<br>Invoice Number=%{x}<br>Total Sales=%{y}<extra></extra>",
         "legendgroup": "2011-11-03",
         "marker": {
          "color": "#FF6692",
          "symbol": "circle"
         },
         "mode": "markers",
         "name": "2011-11-03",
         "showlegend": true,
         "type": "scattergl",
         "x": {
          "bdata": "hsIIAIfCCACIwggAicIIAIrCCACLwggAjMIIAJDCCACSwggAlMIIAJbCCACXwggAm8IIAL/CCADFwggAxsIIAMrCCADRwggA1cIIANnCCADawggA38IIAObCCADywggA9MIIABLDCAATwwgAFMMIABnDCAAawwgAHcMIAB/DCAAgwwgAIcMIACLDCAAlwwgAJsMIACfDCAApwwgAKsMIACvDCAAtwwgAMsMIADTDCAA2wwgAOcMIAD3DCAA/wwgAQMMIAEHDCABCwwgARMMIAEXDCABGwwgAR8MIAEjDCABJwwgASsMIAEvDCABMwwgATcMIAE7DCABPwwgAUcMIAFLDCABUwwgAVcMIAFbDCABXwwgAWcMIAFvDCABcwwgAXsMIAF/DCABgwwgAYcMIAGLDCABjwwgAZMMIAGbDCABnwwgAaMMIAGnDCABqwwgAa8MIAGzDCABtwwgAb8MIAHDDCABxwwgAc8MIAA==",
          "dtype": "i4"
         },
         "xaxis": "x",
         "y": {
          "bdata": "exSuR+F6VUAAAAAAAAAuQAAAAAAAADFAAAAAAAAALkApXI/C9SgkQAAAAAAAACVAAAAAAADIgEAUrkfhehQsQGZmZmZmZiRAuB6F61G4IkD2KFyPwvUoQDQzMzMzszFAZmZmZmZmJECkcD0K16MAQM3MzMzMzCdAKVyPwvUoJEAAAAAAAAApQKRwPQrXowBANDMzMzOzMUDNzMzMzMw0QAAAAAAAAC5AzczMzMzMNEDNzMzMzMxDQDMzMzMz80BAAAAAAAAALkA+CtejcL1jQDQzMzMzMzlAZmZmZmZmMUAzMzMzMzMvQGZmZmZmZipAZmZmZmbmOEAK16NwPQpLQDMzMzMz8zBAKVyPwvUoJEBmZmZmZmZqQM3MzMzMzDNAAAAAAACARkBmZmZmZuY4QGZmZmZmZi9AZmZmZmZmCkCamZmZmZkvQAAAAAAAACVAAAAAAACAIEDNzMzMzMw1QAAAAAAAAD5AAAAAAACAMEDWo3A9CtcrQAAAAAAAQI9ANDMzMzOzQUAzMzMzMzMfQAAAAAAAAD5APQrXo3C9bkAAAAAAAABqQAAAAAAAAClAAAAAAACAK0Bcj8L1KBxgQHsUrkfhelVAAAAAAABANUBmZmZmZmYkQAAAAAAAAC5A7FG4HoXrbEAAAAAAAIAwQAAAAAAAAARAKVyPwvUoNECamZmZmZkvQAAAAAAAgEBAmpmZmZn/kkAAAAAAAGShQJqZmZmZ2V1AzczMzMzMM0A0MzMzM7MxQDMzMzMzMylAAAAAAAAAMUAzMzMzMzNJQAAAAAAAADlAAAAAAAAAOUDNzMzMzMwzQNejcD0KVzFANDMzMzOzQUD2KFyPwvUoQGZmZmZmZlRAmpmZmZmZB0CamZmZmZkuQAAAAAAAgDBA16NwPQpXMUBmZmZmZmb6PzMzMzMzM/s/MzMzMzNzaEA0MzMzMzMfQJqZmZmZmQ9AmpmZmZmZF0A=",
          "dtype": "f8"
         },
         "yaxis": "y"
        },
        {
         "hovertemplate": "Invoice Date=2011-11-04<br>Invoice Number=%{x}<br>Total Sales=%{y}<extra></extra>",
         "legendgroup": "2011-11-04",
         "marker": {
          "color": "#B6E880",
          "symbol": "circle"
         },
         "mode": "markers",
         "name": "2011-11-04",
         "showlegend": true,
         "type": "scattergl",
         "x": {
          "bdata": "dMMIAHXDCAB2wwgAd8MIAHjDCAB6wwgAe8MIAH3DCAB+wwgAf8MIAILDCACEwwgAhcMIAIbDCACJwwgAisMIAIzDCACNwwgAj8MIAJDDCACRwwgAksMIAJPDCACbwwgAoMMIAK/DCACzwwgAucMIAOzDCADtwwgA7sMIAALECAADxAgABMQIAAbECAAHxAgACsQIAAvECAAMxAgADcQIAA7ECAAPxAgAEMQIABHECAASxAgAFMQIABXECAAaxAgAG8QIACbECAAtxAgAL8QIADHECAAyxAgAOcQIADvECABAxAgAQcQIAELECABDxAgARMQIAEXECABGxAgAR8QIAEjECABJxAgAUMQIAFHECABSxAgAU8QIAFXECABbxAgAXcQIAF/ECABgxAgAbcQIAG/ECABwxAgA",
          "dtype": "i4"
         },
         "xaxis": "x",
         "y": {
          "bdata": "AQAAAABYl0BmZmZmZuZTQDQzMzMzszFAAAAAAAAASUDXo3A9CldBQGZmZmZmZiRAAAAAAAAAJUAAAAAAAMBSQAAAAAAAgFlAAAAAAAAALkD2KFyPwvUyQAAAAAAAABFAPQrXo3A9fkA0MzMzM7MxQClcj8L1KCRAKVyPwvUoJEB7FK5H4XpFQAAAAAAAAC5AAAAAAAAADkCPwvUoXC9/QM3MzMzMzCNA9ihcj8L1GEB7FK5H4XoiQGdmZmZmpmBAAAAAAAAALkB7FK5H4XoSQNejcD0KVzFAAAAAAAAALkAAAAAAAAAOQGZmZmZmZg5AAAAAAAAAVUBI4XoUrkdEQM3MzMzMzERAzczMzMzMN0AAAAAAAAAiQAAAAAAAAD5AAAAAAAAALkDNzMzMzMwzQKRwPQrXowBAAAAAAACAOUAAAAAAAAA+QDMzMzMz8zBAAAAAAACAKUBcj8L1KFwbQM3MzMzMzCNAFK5H4XoULEAzMzMzMzNZQAAAAAAAAPQ/AAAAAACANkDNzMzMzMwjQAAAAAAAAA5AZmZmZmZmJEBmZmZmZoZYQGZmZmZmZvo/zczMzMzMM0AAAAAAAIBGQAAAAAAAAD5AAAAAAAAAOUAAAAAAAIAwQAAAAAAAAARAAAAAAAAALkAAAAAAAAA+QAAAAAAAADJAKVyPwvUoJEAzMzMzMzPrPwAAAAAAACFAZmZmZmZmKkAAAAAAAAAtQAAAAAAAAC5AAAAAAACAIEAzMzMzMzP3PwAAAAAAgCBANDMzMzOzMUAAAAAAAIBAQM3MzMzMzDNAzczMzMzMI0CamZmZmZkHQGZmZmZmZiFA",
          "dtype": "f8"
         },
         "yaxis": "y"
        },
        {
         "hovertemplate": "Invoice Date=2011-11-06<br>Invoice Number=%{x}<br>Total Sales=%{y}<extra></extra>",
         "legendgroup": "2011-11-06",
         "marker": {
          "color": "#FF97FF",
          "symbol": "circle"
         },
         "mode": "markers",
         "name": "2011-11-06",
         "showlegend": true,
         "type": "scattergl",
         "x": {
          "bdata": "ecQIAHrECAB9xAgAfsQIAH/ECACAxAgAm8QIAKDECAClxAgAp8QIALPECAC+xAgAv8QIAMDECADBxAgAw8QIAMTECADFxAgAxsQIAMfECADIxAgAycQIAMrECADLxAgAzMQIAM3ECADOxAgAz8QIANDECADRxAgA0sQIANPECADUxAgA1cQIANbECADYxAgA2cQIANrECADbxAgA3MQIAN3ECADexAgA38QIAODECADhxAgA48QIAOTECADlxAgA58QIAOjECADpxAgA6sQIAOvECADsxAgA7cQIAO7ECADvxAgA8MQIAPHECADyxAgA88QIAPTECAD1xAgA9sQIAPfECAD6xAgA+8QIAPzECAD9xAgA/sQIAP/ECAAAxQgAAcUIAALFCAADxQgABMUIAAXFCAAGxQgAB8UIAAjFCAAJxQgACsUIAAvFCAAMxQgADcUIAA7FCAAPxQgAEMUIABHFCAASxQgAE8UIABXFCAAXxQgA",
          "dtype": "i4"
         },
         "xaxis": "x",
         "y": {
          "bdata": "mpmZmZn5eEAAAAAAAOBTQGZmZmZmZv4/exSuR+F6VUDNzMzMzMw0QJqZmZmZmS5AAAAAAAAAKUB7FK5H4XpFQGZmZmZmZvo/MzMzMzMzTEDNzMzMzMw0QGZmZmZmZv4/AAAAAAAAIUDNzMzMzMxDQAAAAAAAABlApHA9CtejEECamZmZmZkHQGZmZmZmpjBAZmZmZmbmOEA0MzMzMzMZQGZmZmZmZiFAZmZmZmZmUUBcj8L1KBxwQAAAAAAAABNANDMzMzOzPUCamZmZmZkuQAAAAAAAABNAZmZmZmZm7j8zMzMzMzP3P8zMzMzMzBNAAAAAAAAAIUCPwvUoXI/6PwAAAAAAACFAzMzMzMzMFkBmZmZmZuZDQM3MzMzMzERANDMzMzOzMUAAAAAAAIAwQDMzMzMzM+s/AQAAAAAgT0D2KFyPwvU4QJqZmZmZmSdAAAAAAAAALUAzMzMzMzMXQGZmZmZm5jNAH4XrUbgeF0DNzMzMzMwzQGZmZmZm5kNAAAAAAAAAKUCkcD0K16MQQDQzMzMzs0FAmpmZmZmZMEDXo3A9ClcxQAAAAAAAgDBAzczMzMzMJUDhehSuR+EaQAAAAAAAAClAZmZmZmZmN0AAAAAAAKBkQM3MzMzMzDNAAAAAAACAIEAzMzMzM7NRQAAAAAAAgDBApHA9CtejIEDNzMzMzMwvQM3MzMzMzBBANDMzMzMzOUAzMzMzM/MwQGZmZmZm5jFAAAAAAAAAOkBmZmZmZmYkQPYoXI/C9ShAzczMzMzMBkDNzMzMzMwXQNejcD0KVzFAAAAAAADAWEBmZmZmZmbuP7gehetRuBJAAAAAAAAABEDNzMzMzMw3QGZmZmZm5jNANDMzMzOzMUA0MzMzM7MxQOxRuB6F6yNANDMzMzOzMUAAAAAAAAAhQAAAAAAAAC5AZmZmZmZmVEAAAAAAAAAuQDMzMzMzsy1A16NwPQpXMUD2KFyPwvXYP2ZmZmZmZi1A",
          "dtype": "f8"
         },
         "yaxis": "y"
        },
        {
         "hovertemplate": "Invoice Date=2011-11-07<br>Invoice Number=%{x}<br>Total Sales=%{y}<extra></extra>",
         "legendgroup": "2011-11-07",
         "marker": {
          "color": "#FECB52",
          "symbol": "circle"
         },
         "mode": "markers",
         "name": "2011-11-07",
         "showlegend": true,
         "type": "scattergl",
         "x": {
          "bdata": "GMUIABrFCAAbxQgAHcUIAB7FCAAfxQgAIMUIACLFCAAjxQgAJMUIADnFCABoxQgAasUIAGvFCABtxQgAbsUIAG/FCABwxQgAccUIAHLFCABzxQgAdMUIAHXFCAB3xQgAeMUIAHrFCAB+xQgAhMUIAIzFCACNxQgAj8UIAJDFCACSxQgAk8UIAJTFCACWxQgAl8UIAJnFCACdxQgAnsUIAJ/FCACgxQgAocUIAKLFCACjxQgApMUIAKfFCACoxQgAqcUIAKrFCACrxQgArMUIAK3FCACvxQgAsMUIALLFCACzxQgAtcUIALfFCAC7xQgAvMUIAL3FCAC+xQgAv8UIAMHFCADCxQgAw8UIAMTFCADFxQgAx8UIAMjFCADJxQgAy8UIANXFCADWxQgA18UIANjFCADZxQgA28UIANzFCADexQgA",
          "dtype": "i4"
         },
         "xaxis": "x",
         "y": {
          "bdata": "zczMzMzMNECamZmZmdlkQGZmZmZmZipAAAAAAAAALkAAAAAAAAAuQDMzMzMzsy1A9ihcj8L1OEA+CtejcD0SQNejcD0KV1RAzczMzMzMNEBmZmZmZuZlQM3MzMzMzDNAAAAAAAAAJUAAAAAAAAAuQDUzMzMzM3lAAAAAAAAALkAAAAAAAAAlQAAAAAAAAD5AAAAAAAAALkDNzMzMzMwzQAAAAAAAgFBAAAAAAAAALkAAAAAAAAAuQAAAAAAAAB5AZmZmZmZm+j80MzMzMzM5QAAAAAAAAB5AzczMzMzMI0AAAAAAAIBmQAAAAAAAoERAAAAAAACAMEDNzMzMzMxUQKRwPQrXowBAZmZmZmZmMUAAAAAAAAAuQJqZmZmZmSdAmpmZmZmZIEAAAAAAAAAeQNajcD0K1xtAAAAAAAAAKUAAAAAAAIBJQAAAAAAAwEJAmpmZmZnZMUCamZmZmZkQQClcj8L1KBRAAAAAAACAaUAAAAAAAAAxQJqZmZmZWUZAMzMzMzOzXUAzMzMzMzNZQM3MzMzMzCNA7FG4HoXrOUD2KFyPwvUYQGdmZmZmRlZAZmZmZmZm/j8AAAAAAMA4QGZmZmZmZiRAAAAAAACAMEDNzMzMzMw2QAAAAAAAAEFAexSuR+F6RUAzMzMzMzMPQOxRuB6Faz5A9ihcj8L1KEAAAAAAAAAxQAAAAAAAAAJASOF6FK5HNEDNzMzMzMwzQAAAAAAAwFtAMzMzMzMzKUCamZmZmZkwQAAAAAAAgFlAAAAAAAAAIUBmZmZmZmYkQPYoXI/C9ThAzczMzMzMREAzMzMzMzP/PwAAAAAAwDJAZmZmZmZmCkBmZmZmZmYxQM3MzMzMzDBA",
          "dtype": "f8"
         },
         "yaxis": "y"
        },
        {
         "hovertemplate": "Invoice Date=2011-11-08<br>Invoice Number=%{x}<br>Total Sales=%{y}<extra></extra>",
         "legendgroup": "2011-11-08",
         "marker": {
          "color": "#636efa",
          "symbol": "circle"
         },
         "mode": "markers",
         "name": "2011-11-08",
         "showlegend": true,
         "type": "scattergl",
         "x": {
          "bdata": "38UIAODFCADhxQgA48UIAOTFCADlxQgA58UIAOjFCADpxQgA7MUIAO7FCADvxQgA8MUIAPHFCADyxQgA88UIAPTFCAD1xQgA9sUIABLGCAAbxggAH8YIACnGCAAzxggAOsYIADzGCAA9xggAPsYIAD/GCABAxggAQcYIAEPGCABFxggARsYIAErGCABLxggATcYIAE7GCABTxggAVMYIAFXGCABWxggAV8YIAFrGCABcxggAXcYIAF7GCABfxggAYMYIAGHGCABixggAY8YIAGTGCABlxggAZsYIAGjGCABrxggAbcYIAG7GCABvxggAcMYIAHHGCAByxggAc8YIAI3GCACVxggAl8YIAJjGCACZxggAm8YIAJzGCACdxggAnsYIAJ/GCACgxggAocYIAKPGCACkxggApcYIAKfGCACpxggAqsYIAKvGCACsxggArcYIALDGCAC7xggAvMYIAL3GCAC+xggAv8YIAMDGCADBxggAwsYIAA==",
          "dtype": "i4"
         },
         "xaxis": "x",
         "y": {
          "bdata": "PQrXo3A9IkDNzMzMzMwzQDMzMzMzsy1AZmZmZmZmN0DNzMzMzMwvQM3MzMzMzDRA9ihcj8L1KEA0MzMzM7M9QAAAAAAAAD5AzczMzMzMN0AAAAAAAAAqQM3MzMzMDEZAAAAAAACAMEDWo3A9CtcbQAAAAAAAAC5AAAAAAAAALkBmZmZmZmYqQKRwPQrXowBA9ihcj8L1OEDNzMzMzMwzQEjhehSuRzRAzczMzMzMM0CkcD0K16MAQAAAAAAAAERAZmZmZmZmF0AzMzMzM7MtQGZmZmZmZlFAexSuR+F6ZUDNzMzMzMwjQAAAAAAAADlAAAAAAACAIEDNzMzMzMwTQPYoXI/C9ShAzczMzMzMNEC4HoXrUbhiQAAAAAAAAPQ/AAAAAAAALkDNzMzMzMw0QAAAAAAAgCZAmpmZmZmZQEAAAAAAAIBZQGZmZmZmZipANDMzMzOzIUDNzMzMzMwgQAAAAAAAACFA9ihcj8L1OEDNzMzMzMwTQM3MzMzMzDRAZmZmZmZmQUAAAAAAAAATQGZmZmZmZhpAAAAAAACAP0AAAAAAAAA+QJqZmZmZmTdAZmZmZmZmJEAAAAAAAMBSQGZmZmZmZjFAAAAAAAAAWUAAAAAAAIA2QM3MzMzMzAZAAAAAAACAOUAAAAAAAIAwQFK4HoXrUSpAZmZmZmZmKkCamZmZmZkHQAAAAAAAYGZAMzMzMzMzKUBmZmZmZmYkQLgehetRuBJANDMzMzOzMUAAAAAAAAAhQB+F61G4HjdAAAAAAABARUBmZmZmZuYzQAAAAAAAAC5AmpmZmZnZfUApXI/C9SgkQOF6FK5H4T1AzczMzMzMM0DNzMzMzMw0QGZmZmZmZidAAAAAAACAP0AAAAAAAIBZQM3MzMzMzD9AAAAAAAAALkCkcD0K16MQQM3MzMzMzBNAAAAAAAAAPkAAAAAAAAAxQGZmZmZmZiRAAAAAAAAALkAAAAAAAIBWQNejcD0KVzFAzczMzMzMF0A=",
          "dtype": "f8"
         },
         "yaxis": "y"
        },
        {
         "hovertemplate": "Invoice Date=2011-11-09<br>Invoice Number=%{x}<br>Total Sales=%{y}<extra></extra>",
         "legendgroup": "2011-11-09",
         "marker": {
          "color": "#EF553B",
          "symbol": "circle"
         },
         "mode": "markers",
         "name": "2011-11-09",
         "showlegend": true,
         "type": "scattergl",
         "x": {
          "bdata": "ysYIAMvGCADMxggAzcYIAM7GCADPxggA0MYIANHGCADSxggA08YIANTGCADVxggA1sYIANfGCADYxggA2sYIANvGCADcxggA3cYIAN7GCADfxggA4MYIAOHGCADixggA48YIAOTGCADlxggA5sYIAOfGCADoxggA6cYIAOrGCADrxggA7MYIAO3GCADuxggA78YIAPDGCADxxggA8sYIAPPGCAD0xggA9cYIAPbGCAAXxwgAGMcIABrHCAAlxwgAO8cIAEDHCABBxwgAQscIAEPHCABExwgARccIAEbHCABHxwgASMcIAEnHCABQxwgAVccIAFbHCABXxwgAWMcIAFnHCABaxwgAW8cIAFzHCABdxwgAYMcIAGHHCABixwgAY8cIAGTHCABlxwgAZscIAGfHCABoxwgAaccIAGrHCABrxwgAbMcIAG7HCAB8xwgAgMcIAIbHCACHxwgAiMcIAInHCACKxwgAi8cIAJfHCACYxwgAm8cIAJzHCACdxwgAnscIAJ/HCACgxwgAsscIALfHCAC6xwgAyccIAPPHCAD0xwgA+McIAPnHCAD6xwgA+8cIAPzHCAD9xwgA/8cIAALICAADyAgA",
          "dtype": "i4"
         },
         "xaxis": "x",
         "y": {
          "bdata": "MzMzMzOzUUBmZmZmZuYrQAAAAAAAIHNAzczMzMzMNEAAAAAAAIAwQGZmZmZmZi9A7FG4HoXrWUAAAAAAAIBWQNajcD0K1xtAAAAAAAAAPkBmZmZmZmYgQAAAAAAAAC5AMzMzMzNzWEAAAAAAACBjQGZmZmZmZkFAZmZmZmZmR0ApXI/C9SgkQM3MzMzMzFRAKVyPwvUoJEA0MzMzM7NBQGZmZmZmZjdA9ihcj8L1KEAAAAAAAEBaQPYoXI/C9ShAexSuR+F6RUApXI/C9SgkQDMzMzMzs21AZmZmZmZmNEAAAAAAAAAuQDMzMzMzMy9A1qNwPQrXG0DNzMzMzMw0QAAAAAAAgDNAcT0K16NwLEBmZmZmZmZUQJqZmZmZmTBAZmZmZmbmI0A0MzMzMzM5QJqZmZmZ2TRAAAAAAAAALkAAAAAAACBiQAAAAAAAYGZAAAAAAAAALkAfhetRuB4nQAAAAAAAYGZAzMzMzMxsYEAAAAAAAAAOQPYoXI/C9SJA7FG4HoXrSUCamZmZmal6QNejcD0KVzFAZmZmZmbmM0DXo3A9CldRQGZmZmZm5jNAMzMzMzOzLUD2KFyPwvU4QLgehetRuEJAzczMzMzMGEA0MzMzM7NHQGZmZmZmZiRAMzMzMzPzcEAAAAAAAAAuQJqZmZmZ2TFAZmZmZmZmMUAAAAAAAGBmQMzMzMzMbFBAKVyPwvUoJEBmZmZmZmYkQKRwPQrXoxBAAAAAAADAckAAAAAAAAAZQM3MzMzMzDNAKVyPwvUoJEB7FK5H4XpVQJqZmZmZmS5AAAAAAAAAPkAAAAAAAGB2QGZmZmZmZv4/mpmZmZmZF0BmZmZmZuYtQGZmZmZmZu4/AAAAAACAWUDNzMzMzMw0QAAAAAAAwDhAAAAAAACAMEA0MzMzMzM5QAAAAAAAAC5AzczMzMzMCkAAAAAAAAA+QAAAAAAAAEFAKVyPwvUoJEBmZmZmZmYkQM3MzMzMzDRAAAAAAAAAIUA0MzMzM7NBQGZmZmZmZjRA7FG4HoXrI0DXo3A9ClcxQJqZmZmZmT5AzczMzMzMNEABAAAAAPBpQDQzMzMzM09AzczMzMzMNEDNzMzMzMw0QGZmZmZmZu4/AAAAAAAAPkAAAAAAAIBAQAAAAAAAgClANDMzMzOzMUD2KFyPwvUoQAAAAAAAgClAAAAAAAAAJEAAAAAAAAAuQAAAAAAAACVA",
          "dtype": "f8"
         },
         "yaxis": "y"
        },
        {
         "hovertemplate": "Invoice Date=2011-11-10<br>Invoice Number=%{x}<br>Total Sales=%{y}<extra></extra>",
         "legendgroup": "2011-11-10",
         "marker": {
          "color": "#00cc96",
          "symbol": "circle"
         },
         "mode": "markers",
         "name": "2011-11-10",
         "showlegend": true,
         "type": "scattergl",
         "x": {
          "bdata": "BMgIAAXICAAGyAgAB8gIAAjICAAJyAgAC8gIAAzICAANyAgADsgIABDICAATyAgAFcgIABjICAAbyAgAHMgIAB3ICAAgyAgAJcgIAEvICABWyAgAWMgIAFvICABeyAgAX8gIAGLICABjyAgAZcgIAGfICABpyAgAa8gIAHLICABzyAgAdMgIAHXICAB3yAgAecgIAHrICAB7yAgAfMgIAILICACDyAgAhMgIAIXICACGyAgAh8gIAIjICACLyAgAjMgIAI/ICACRyAgAksgIAJXICACXyAgAmMgIAJrICACbyAgAn8gIAKTICACmyAgAp8gIAKjICACpyAgAqsgIAKvICACsyAgAtMgIALnICAC6yAgAu8gIALzICAC+yAgAwMgIAMHICADCyAgAw8gIAMTICADFyAgAxsgIAMfICADIyAgAycgIAMrICADLyAgAzcgIAM7ICADPyAgA0cgIANLICADUyAgA1cgIANbICADXyAgA2cgIANrICADcyAgA3sgIAN/ICADgyAgA5sgIAOvICADsyAgA7cgIAO7ICADvyAgA8cgIAPLICADzyAgA",
          "dtype": "i4"
         },
         "xaxis": "x",
         "y": {
          "bdata": "MzMzMzMzKUAUrkfhehQsQAAAAAAAgDBAAAAAAAAANEDNzMzMzMxDQNejcD0KV0FAmpmZmZmZH0AAAAAAAAAuQAAAAAAAgEBAMzMzMzOzLUAAAAAAAAAuQAAAAAAAAC5AZmZmZmZmREBcj8L1KFwbQJqZmZmZGTdAZ2ZmZmbmUkBmZmZmZuYxQPYoXI/C9ShAXI/C9SgcYEDNzMzMzMwjQDMzMzMzM+s/zczMzMzMM0AAAAAAAABSQAAAAAAA+JtAzczMzMzME0CPwvUoXI8qQOxRuB6F6yNAZmZmZmZmN0DNzMzMzMwzQGZmZmZmZipAzczMzMzMM0AAAAAAAAA+QAAAAAAAAC5AmpmZmZmZPkAAAAAAAAAuQK5H4XoUrgNAzczMzMzMI0AzMzMzM7MtQAAAAAAAACFAFK5H4XoULEAAAAAAAAA+QAAAAAAAgFZAZmZmZmZmJ0AzMzMzMzP/PwAAAAAAAC5ApHA9CtejAEBxPQrXo3AsQNajcD0K1xtAAAAAAAAAG0CamZmZmZknQM3MzMzMzD9AuB6F61G4MkAAAAAAAOBDQPYoXI/C9SJAmpmZmZmZL0CamZmZmZk3QNejcD0KVzFAzczMzMzMI0DNzMzMzMw3QGZmZmZmZjFApHA9CtejEEAAAAAAAIAwQLgehetRuEJA9ihcj8L1OEBmZmZmZmYnQOxRuB6F6yNAuB6F61G48j8AAAAAAAAuQAAAAAAAgDBAMzMzMzMz/z80MzMzM7M9QJqZmZmZ2T1AzczMzMzMP0CkcD0K16MgQAAAAAAAAB5AmpmZmZmZfkAAAAAAAAAuQNejcD0KV2RA16NwPQpXQUAAAAAAAAA+QGZmZmZmZiRA9ihcj8L1OEBmZmZmZmYkQDMzMzMz8zBAzczMzMzMQ0BmZmZmZmb+PwAAAAAAADtAZmZmZmZmKkBmZmZmZmYqQM3MzMzMzENAMzMzMzOzXUAAAAAAAAA+QDQzMzMzM3ZAAAAAAACAQEAAAAAAAAAlQAAAAAAAACVAAAAAAAAAKUBmZmZmZmYxQGZmZmZmZiRAPgrXo3C9U0CPwvUoXI8qQDMzMzMzsy1AAAAAAACAQEDNzMzMzMwbQAAAAAAAgEZAZmZmZmZmJEAAAAAAAAD0P2ZmZmZmZhRA",
          "dtype": "f8"
         },
         "yaxis": "y"
        },
        {
         "hovertemplate": "Invoice Date=2011-11-11<br>Invoice Number=%{x}<br>Total Sales=%{y}<extra></extra>",
         "legendgroup": "2011-11-11",
         "marker": {
          "color": "#ab63fa",
          "symbol": "circle"
         },
         "mode": "markers",
         "name": "2011-11-11",
         "showlegend": true,
         "type": "scattergl",
         "x": {
          "bdata": "+cgIAPrICAD8yAgA/cgIAP7ICAAAyQgAAckIAAnJCAAKyQgAC8kIAAzJCAANyQgAEMkIABTJCAAVyQgAFskIABfJCABUyQgAVskIAF3JCABeyQgAYMkIAGLJCABjyQgAZskIAGfJCABoyQgAackIAGrJCABryQgAbMkIAG3JCABuyQgAb8kIAHDJCAB6yQgAe8kIAHzJCAB9yQgAfskIAIHJCACCyQgAhMkIAIXJCACGyQgAiskIAI3JCACPyQgAkckIAJLJCACTyQgAlMkIAJXJCACWyQgAl8kIAJnJCACayQgAm8kIAJ7JCACfyQgAoMkIAKHJCACkyQgApskIAKfJCACqyQgAq8kIAK3JCACuyQgAr8kIALDJCACyyQgAs8kIALTJCAC5yQgA",
          "dtype": "i4"
         },
         "xaxis": "x",
         "y": {
          "bdata": "NDMzMzOzTUDsUbgehesjQJqZmZmZmTBAMzMzMzMzKUB7FK5H4XpFQDQzMzMzs0FAAAAAAACAMEDMzMzMzMwTQOJ6FK5H4R1A16NwPQpXMUAAAAAAAAAEQGZmZmZmZgpA9ihcj8L1GEAAAAAAAAAuQJqZmZmZ2UdAj8L1KFyP+j8zMzMzMzMfQDMzMzMzMy9AMzMzMzPzMEA0MzMzMzMfQDMzMzMzsy1ApHA9CtejIEAAAAAAAIAgQAAAAAAAACVAZmZmZmbmI0AAAAAAAAAuQAAAAAAAACRAzczMzMzMM0BmZmZmZmZUQGZmZmZmZu4/AAAAAADAPUDXo3A9ClcxQAAAAAAAAC5ACtejcD0KK0DNzMzMzMzkPzMzMzMzs21AZmZmZmZmGkAAAAAAAAAuQJqZmZmZmS9AAAAAAAAALkAAAAAAAGBmQGZmZmZm5iNAPQrXo3A9LkA0MzMzMzM5QClcj8L1KBRAFK5H4XoUY0BmZmZmZmYxQGZmZmZmZkRAzczMzMzMT0DNzMzMzMwvQGZmZmZmZiRAzczMzMzMI0BmZmZmZmYkQM3MzMzMzFxAMzMzMzMzD0BmZmZmZmY3QM3MzMzMzB9AZmZmZmbmOEBmZmZmZmYqQDMzMzMzMy9ApHA9CtejAEDNzMzMzMwwQHE9CtejcCxAAAAAAAAACEBmZmZmZuYzQDQzMzMzMzlAAAAAAACAZkBmZmZmZmYqQDMzMzMzMw9AmpmZmZkZakAAAAAAACBzQDQzMzMzs0FAAAAAAACAMEApXI/C9SgkQDQzMzMzszFA",
          "dtype": "f8"
         },
         "yaxis": "y"
        },
        {
         "hovertemplate": "Invoice Date=2011-11-13<br>Invoice Number=%{x}<br>Total Sales=%{y}<extra></extra>",
         "legendgroup": "2011-11-13",
         "marker": {
          "color": "#FFA15A",
          "symbol": "circle"
         },
         "mode": "markers",
         "name": "2011-11-13",
         "showlegend": true,
         "type": "scattergl",
         "x": {
          "bdata": "u8kIALzJCAC/yQgAwMkIAMHJCADCyQgAw8kIAMXJCADGyQgAx8kIAMjJCADJyQgAyskIAMzJCADNyQgAzskIAM/JCADQyQgA0skIANPJCADUyQgA1ckIANbJCADXyQgA2MkIANnJCADcyQgA3ckIAN7JCADfyQgA4MkIAOHJCADiyQgA48kIAOTJCADnyQgA6MkIAOnJCADqyQgA68kIAO3JCADuyQgA78kIAPDJCADxyQgA8skIAPPJCAD0yQgA9ckIAA7KCAAZyggALcoIADLKCAA0yggANcoIADbKCAA3yggAOMoIADnKCAA6yggAO8oIADzKCAA9yggAPsoIAD/KCABByggAQsoIAEPKCABEyggARcoIAEbKCABHyggAScoIAErKCABLyggATMoIAE3KCABOyggAT8oIAA==",
          "dtype": "i4"
         },
         "xaxis": "x",
         "y": {
          "bdata": "AAAAAAAAOUAAAAAAAIAgQAAAAAAAAD5AAAAAAACAMEDNzMzMzMw0QAAAAAAAACFAZmZmZmZmKkCamZmZmRkqQM3MzMzMzDNAZmZmZmZm/j9mZmZmZuY4QBSuR+F6FGNAmpmZmZmZTkAAAAAAAAA+QM3MzMzMDF9AmpmZmZnZOkBI4XoUrkdBQGZmZmZmZu4/zczMzMzMEEBmZmZmZmYKQKRwPQrXowBAmpmZmZmZB0BmZmZmZuYjQM3MzMzMzDRAzczMzMzML0DNzMzMzMwzQJqZmZmZmRdAKVyPwvUoFEAAAAAAAIA9QJqZmZmZmQdAAAAAAACAVkD2KFyPwvUoQAAAAAAAgDZAZmZmZmZmJEAzMzMzMzP/P83MzMzMzDNAmpmZmZmZJ0AzMzMzMzP3PwAAAAAAAD5AAAAAAAAALkA9CtejcD0uQHE9CtejcBlAAAAAAAAA9D/NzMzMzMw0QAAAAAAAAB5AZmZmZmbmI0D2KFyPwvUoQGZmZmZmpkBAzczMzMzMBkAAAAAAAAAhQJqZmZmZmRdAzczMzMzML0CamZmZmflDQAAAAAAAgCBAzczMzMzMEEC4HoXrUbjyPzQzMzMzMzlA7FG4HoXrI0BmZmZmZmYEQBWuR+F6FFNAAAAAAACAIEAAAAAAAIAtQAAAAAAAgDZACtejcD0KO0DNzMzMzMwzQPYoXI/C9fg/AAAAAACAKUAAAAAAAIA5QAAAAAAAwEhAKVyPwvUoBEDNzMzMzMwgQJqZmZmZmQdAAAAAAAAAFEA0MzMzMzM5QAAAAAAAAB5AAAAAAAAAIEAAAAAAAIAgQGZmZmZmZhpAzczMzMzMF0A=",
          "dtype": "f8"
         },
         "yaxis": "y"
        },
        {
         "hovertemplate": "Invoice Date=2011-11-14<br>Invoice Number=%{x}<br>Total Sales=%{y}<extra></extra>",
         "legendgroup": "2011-11-14",
         "marker": {
          "color": "#19d3f3",
          "symbol": "circle"
         },
         "mode": "markers",
         "name": "2011-11-14",
         "showlegend": true,
         "type": "scattergl",
         "x": {
          "bdata": "UMoIAFHKCABUyggAVcoIAFbKCABYyggAWcoIAFrKCABbyggAXMoIAF3KCABeyggAX8oIAGDKCABhyggAYsoIAGPKCABvyggAcMoIAHnKCACJyggAk8oIAJTKCACsyggAr8oIALDKCACzyggAtMoIALXKCAC2yggAuMoIALrKCAC7yggAvMoIAL3KCAC+yggAv8oIAMTKCADGyggAyMoIAMnKCADKyggA1MoIANXKCADWyggA18oIANnKCADbyggA3MoIAN3KCADgyggA4coIAOTKCADsyggA7coIAO7KCADvyggA9soIAPnKCAD7yggA/MoIAP3KCAD+yggA/8oIAADLCAADywgAEssIABPLCAAsywgALcsIAC/LCAA9ywgAPssIAEHLCABDywgARssIAEjLCABTywgAWssIAFvLCABdywgAX8sIAGDLCABhywgAYssIAGPLCABkywgAZcsIAGbLCABnywgAacsIAGrLCABsywgA",
          "dtype": "i4"
         },
         "xaxis": "x",
         "y": {
          "bdata": "NDMzMzOzMUC4HoXrUbgyQAAAAAAAAC5AMzMzMzMzKUA0MzMzM7M9QAAAAAAAKHBANDMzMzOzQUAAAAAAAACQQGZmZmZm5jNAzczMzMzMQ0C4HoXrUbgSQI/C9ShcjxpAXI/C9ShcG0DNzMzMzMwzQAAAAAAAAD5ANDMzMzOzMUDWo3A9CtcbQAAAAAAAgFNAAAAAAACAM0BmZmZmZuYhQHsUrkfhekVAzczMzMzMM0AAAAAAAAAuQAAAAAAAAFJAZmZmZmbmWEDNzMzMzMw0QAAAAAAAIGJA7FG4HoXrWUBmZmZmZmb+PwrXo3A9CitAAAAAAAAALkAAAAAAAAAxQM3MzMzMzC9AZmZmZmZmMUCamZmZmZlOQAAAAAAAAC5AAAAAAADAOEDhehSuR+E9QGZmZmZmZiRAZmZmZmZm7j8AAAAAAAD0PzQzMzMzs0FAAAAAAACAMEBmZmZmZmb+P5qZmZmZmQdAAAAAAAAALkDNzMzMzMwbQAAAAAAAYIZA7FG4HoXrOUAAAAAAAGBmQAAAAAAAAC5AAAAAAADASEBmZmZmZmbuP1yPwvUoXBtANDMzMzOzMUD2KFyPwvUYQAAAAAAAgGlAzczMzMzMBkAAAAAAAABSQGZmZmZmZv4/NDMzMzMzOUAAAAAAAGBmQAAAAAAA4FBAH4XrUbgeB0A0MzMzM7MhQDQzMzMzMzlAAAAAAACAIEAVrkfhehRTQKRwPQrXoxBAzczMzMzMI0BmZmZmZmbuP83MzMzMzDRAMzMzMzOzLUAzMzMzM7MoQPYoXI/C9RJAMzMzMzMzH0DNzMzMzMw0QD0K16NwcZdAzczMzMzML0AAAAAAAAAKQJqZmZmZGTpAzczMzMzMH0AAAAAAAAA+QGZmZmZmZiRASOF6FK5HUUAAAAAAAAAuQPYoXI/C9ThAZmZmZmZmMUDXo3A9ClcxQAAAAAAAAC5AAAAAAAAAHkAAAAAAAABBQM3MzMzMzCNA",
          "dtype": "f8"
         },
         "yaxis": "y"
        },
        {
         "hovertemplate": "Invoice Date=2011-11-15<br>Invoice Number=%{x}<br>Total Sales=%{y}<extra></extra>",
         "legendgroup": "2011-11-15",
         "marker": {
          "color": "#FF6692",
          "symbol": "circle"
         },
         "mode": "markers",
         "name": "2011-11-15",
         "showlegend": true,
         "type": "scattergl",
         "x": {
          "bdata": "cssIAHTLCAB2ywgAeMsIAHnLCAB6ywgAe8sIAHzLCAB9ywgAfssIAH/LCACAywgAgcsIAILLCACDywgAhMsIAIXLCACIywgAi8sIAIzLCACOywgAkMsIAJPLCACVywgAlssIAJzLCAC/ywgAz8sIAPfLCAD8ywgA/ssIAP/LCAAAzAgAAcwIAALMCAAEzAgABswIAAjMCAAJzAgAGswIABvMCAAczAgAH8wIACnMCAAqzAgAK8wIACzMCAAtzAgALswIAC/MCAAwzAgAMswIADPMCAA0zAgAN8wIADjMCAA6zAgAO8wIADzMCAA9zAgAPswIAD/MCABBzAgARcwIAEvMCABNzAgATswIAE/MCABQzAgAUcwIAFXMCABWzAgAV8wIAFjMCABZzAgAXMwIAF3MCABezAgAYMwIAGHMCABizAgAY8wIAGTMCABlzAgAZswIAGfMCABozAgAbswIAG/MCABwzAgAccwIAHLMCAA=",
          "dtype": "i4"
         },
         "xaxis": "x",
         "y": {
          "bdata": "ZmZmZmZmKkDNzMzMzMwzQAAAAAAAIGNAKVyPwvUoFEAAAAAAAIAwQM3MzMzMzDNAzczMzMzMNECamZmZmZkuQAAAAAAAAC5AMzMzMzOzLUAAAAAAAAAxQAAAAAAAADlAMzMzMzNTQUCF61G4HiVhQM3MzMzMzDRAAAAAAAAAKkAAAAAAAJSKQAAAAAAAIFxAAAAAAACAOUDNzMzMzIxKQAAAAAAAADFANDMzMzOzMUAUrkfhehQ8QB+F61G4HjdAAAAAAACAWUBmZmZmZmY0QM3MzMzMzDNAAAAAAAAAHkAAAAAAAABBQKRwPQrXoxBANDMzMzOzQUD2KFyPwvUoQAAAAAAAgHtAAAAAAACANkDNzMzMzMwzQBSuR+F6FDxAmpmZmZmZF0BmZmZmZmb+PwAAAAAAgFlAAAAAAACAOUBmZmZmZuYjQAAAAAAAAB5AuB6F61G4MkAAAAAAAIA2QAAAAAAAACVAAAAAAAAALkBmZmZmZmYkQGZmZmZm5jNA9ihcj8L1OEAAAAAAAAAOQOF6FK5H4eo/4XoUrkfhYUAAAAAAAAAuQAAAAAAAgCBApHA9CtejMEAAAAAAAAApQAAAAAAAgCZANDMzMzMzT0B7FK5H4Xp1QOxRuB6F6yNAAAAAAAAAUkCamZmZmdkxQM3MzMzMzCtA4XoUrkfhLUBmZmZmZmY3QNajcD0K1xtAzczMzMzMM0AAAAAAAABOQM3MzMzMzDNAAAAAAAAABECamZmZmdkxQDMzMzMz80BA9ihcj8L1GEDNzMzMzMwnQNejcD0KVzFAAAAAAACYYkCamZmZmdkxQJqZmZmZmU5ASOF6FK5HcUAAAAAAAAAUQLgehetRuBJAzczMzMzMBkCamZmZmZkXQGZmZmZm5lNAMzMzMzMzF0CamZmZmZkHQAAAAAAAgDBAmpmZmZmZMkAAAAAAAIBeQDQzMzMzszFAMzMzMzPTVEBmZmZmZmYKQA==",
          "dtype": "f8"
         },
         "yaxis": "y"
        },
        {
         "hovertemplate": "Invoice Date=2011-11-16<br>Invoice Number=%{x}<br>Total Sales=%{y}<extra></extra>",
         "legendgroup": "2011-11-16",
         "marker": {
          "color": "#B6E880",
          "symbol": "circle"
         },
         "mode": "markers",
         "name": "2011-11-16",
         "showlegend": true,
         "type": "scattergl",
         "x": {
          "bdata": "c8wIAHTMCAB3zAgAecwIAHrMCAB7zAgAfMwIAH3MCAB+zAgAf8wIAIDMCACBzAgAgswIAIXMCACIzAgAicwIAIrMCACLzAgAjMwIAI7MCACPzAgAkMwIAJLMCACTzAgAlMwIAJXMCACXzAgAmcwIAJrMCACbzAgAnMwIAJ/MCACkzAgApcwIAKzMCACuzAgAr8wIALDMCACxzAgAsswIALPMCAC0zAgAtcwIALbMCAC3zAgAuMwIAMDMCADezAgA4MwIAPbMCAAAzQgAAc0IAALNCAADzQgABM0IAAbNCAAHzQgACs0IAAvNCAAMzQgADc0IAA7NCAAPzQgAEM0IABLNCAAXzQgAGM0IACnNCAA4zQgAOs0IADvNCAA+zQgAQM0IAEHNCABCzQgARM0IAEbNCABJzQgASs0IAEzNCABNzQgATs0IAE/NCABQzQgAUc0IAFPNCABUzQgAVc0IAFbNCABXzQgAWc0IAFvNCABczQgAXc0IAF7NCABgzQgAYc0IAGPNCABozQgAac0IAGrNCABrzQgAbM0IAG3NCABuzQgAb80IAHHNCAB4zQgAec0IAA==",
          "dtype": "i4"
         },
         "xaxis": "x",
         "y": {
          "bdata": "PQrXo3A9LkCamZmZmdk0QAAAAAAAAE5AZmZmZmZGRkDNzMzMzMxDQAAAAAAAIHJAexSuR+F6VUAAAAAAAAA7QNajcD0K1xtAmpmZmZnZMUAVrkfhehRTQJqZmZmZ2UdAAAAAAACAKUA0MzMzM7MxQLgehetRuDJAAAAAAAAALkBmZmZmZmYxQAAAAAAAwDhAzczMzMzMREDNzMzMzMwTQAAAAAAAgElAAAAAAAAALkDNzMzMzMw0QAAAAAAAADVAzczMzMzMM0AfhetRuB4tQM3MzMzMzDNAMzMzMzOzLUDNzMzMzMwQQDQzMzMzs0FAZmZmZmbmY0C4HoXrUbgiQAAAAAAAAClAZmZmZmZm/j/2KFyPwvU4QAAAAAAAgCBAZmZmZmZm7j8AAAAAAAAqQKRwPQrXowBAAAAAAAAA9D8zMzMzM7NtQLgehetRuCJAPgrXo3C9Y0BI4XoUrkc0QJqZmZmZmQdAAAAAAAAAIUDNzMzMzMwTQAAAAAAAACFAmpmZmZkZakBmZmZmZoZYQHsUrkfhelVAAAAAAACAMECamZmZmflDQOxRuB6F6yNAzMzMzMzMY0AAAAAAACBTQAAAAAAAYHZA1qNwPQrXK0AAAAAAAAA+QGZmZmZmRkZACtejcD0KK0AAAAAAAEB1QDQzMzMzs0FANDMzMzOzMUAAAAAAAAAuQBSuR+F6FGNAFK5H4XoUPEA0MzMzM7MxQNejcD0KV1RAAAAAAAAALkAAAAAAACCDQAAAAAAAADFAAAAAAAAAOUC4HoXrUbgyQJqZmZmZmT5AAAAAAADAUkBmZmZmZmYqQGZmZmZmZvo/exSuR+F6RUDsUbgehetZQAAAAAAAAC5AAAAAAACAKUDXo3A9ClcxQJqZmZmZmRBAzczMzMzMI0BmZmZmZmb+PwAAAAAAAA5A7FG4HoXrQ0DWo3A9CtcbQM3MzMzMzBBAKVyPwvUo9D/Xo3A9CldEQM3MzMzMzARASOF6FK5HUUAAAAAAAIA2QKRwPQrXoxBAZmZmZmZm/j8AAAAAAAAuQPYoXI/C9ShAuB6F61G4EkBI4XoUrkckQAAAAAAAgFlAZmZmZmZm/j/Wo3A9CtcbQAAAAAAAAC5AmpmZmZmZJ0DNzMzMzMwzQJqZmZmZWTBAAAAAAADAREA=",
          "dtype": "f8"
         },
         "yaxis": "y"
        },
        {
         "hovertemplate": "Invoice Date=2011-11-17<br>Invoice Number=%{x}<br>Total Sales=%{y}<extra></extra>",
         "legendgroup": "2011-11-17",
         "marker": {
          "color": "#FF97FF",
          "symbol": "circle"
         },
         "mode": "markers",
         "name": "2011-11-17",
         "showlegend": true,
         "type": "scattergl",
         "x": {
          "bdata": "fM0IAIDNCACEzQgAhc0IAIbNCACJzQgAis0IAI/NCACQzQgAkc0IAJLNCACTzQgAlM0IAJXNCACYzQgAms0IAJzNCACezQgAoM0IAKHNCACizQgAo80IAKTNCAClzQgAtM0IAL7NCADLzQgA2M0IAOPNCADozQgA8M0IAPHNCADyzQgA880IAPjNCAD6zQgA+80IAPzNCAD9zQgA/s0IAP/NCAAAzggAAc4IAALOCAAEzggABc4IAAbOCAAHzggACM4IAAnOCAAKzggAC84IAAzOCAAOzggAEc4IABPOCAAUzggAFc4IABfOCAAYzggAGc4IABrOCAAbzggAHM4IAB3OCAAfzggAIM4IACHOCAAizggAI84IACTOCAAmzggAJ84IACjOCAApzggALM4IAC/OCAAwzggAMs4IADTOCAA1zggAN84IADjOCAA6zggAO84IADzOCAA9zggAPs4IAEDOCABBzggAQs4IAEPOCABEzggARc4IAEbOCABHzggASc4IAErOCABLzggATM4IAE3OCABPzggAUM4IAFHOCABSzggAU84IAFTOCABVzggAVs4IAGfOCABozggAac4IAGrOCAA=",
          "dtype": "i4"
         },
         "xaxis": "x",
         "y": {
          "bdata": "uB6F61G4IkDNzMzMzIxKQAAAAAAAgEZAAAAAAAAALkAAAAAAAMBYQAAAAAAAAC5AZmZmZmZmJEAAAAAAAAAuQDQzMzMzM1ZAAAAAAAAALkBmZmZmZmYxQM3MzMzMzCNAAAAAAAAALkDNzMzMzMwkQGZmZmZmZjdANDMzMzMzH0AAAAAAAIAzQDQzMzMzszFAmpmZmZmZB0AAAAAAAIAwQHsUrkfhekVAuB6F61G4IkBmZmZmZmYUQJqZmZmZmR9AzczMzMzMRECamZmZmRkqQAAAAAAAAC5AZmZmZmZm7j/NzMzMzMwzQAAAAAAAgFlAAAAAAAAAFEAAAAAAAABJQM3MzMzMzCNAAAAAAAAAPkDNzMzMzMw0QBSuR+F6FCxAAAAAAACAWUCamZmZmVkwQFK4HoXrgYlAmpmZmZmZJ0AAAAAAAAAuQI/C9Shcj9I/7FG4HoXrM0DNzMzMzMw0QM3MzMzMzENAKVyPwvUoFEAAAAAAAAA+QClcj8L1KBRAzczMzMzML0A0MzMzMzMZQAAAAAAAADlAZmZmZmZmJEAzMzMzMzP3PzMzMzMzMx9AFK5H4XoUY0AAAAAAAAAhQGdmZmZm5nJAAAAAAAAgYkA0MzMzM7NBQDMzMzMzMy9AAAAAAADASEBmZmZmZmZEQAAAAAAAACFAzczMzMzMI0BmZmZmZmYxQDMzMzMzs11AzczMzMyMOkDNzMzMzMwTQGZmZmZmZvo/ZmZmZmZmKkAAAAAAAAAuQGZmZmZmZjFANDMzMzMzSUDsUbgehetJQM3MzMzMzDNAAAAAAAAAIkAAAAAAAIBZQDQzMzMzszFAzczMzMzMMEAAAAAAAAArQJqZmZmZmUBAzczMzMzMNEBmZmZmZmY3QM3MzMzMzDdAKVyPwvUoJEAzMzMzM7MtQDQzMzMzszFAAAAAAAAALkBmZmZmZmZRQAAAAAAAgClAXI/C9ShcK0BI4XoUrkc0QM3MzMzMzDNAmpmZmZmZL0AAAAAAAAApQJqZmZmZmQdAAAAAAACAeUAAAAAAAIBZQAAAAAAAAC5AAAAAAACATUBmZmZmZmYkQGZmZmZm5jFAzczMzMzMNEA0MzMzMzM5QM3MzMzMzABA16NwPQpXMUAAAAAAAAAuQClcj8L1KCRAAAAAAAAAPkA0MzMzM7NRQAAAAAAAABFAZmZmZmZmR0AAAAAAAKBkQA==",
          "dtype": "f8"
         },
         "yaxis": "y"
        },
        {
         "hovertemplate": "Invoice Date=2011-11-18<br>Invoice Number=%{x}<br>Total Sales=%{y}<extra></extra>",
         "legendgroup": "2011-11-18",
         "marker": {
          "color": "#FECB52",
          "symbol": "circle"
         },
         "mode": "markers",
         "name": "2011-11-18",
         "showlegend": true,
         "type": "scattergl",
         "x": {
          "bdata": "bM4IAG3OCABuzggAcM4IAHHOCAByzggAc84IAHTOCAB1zggAds4IAHfOCAB6zggAfM4IAIPOCACEzggAhs4IAIjOCACJzggAis4IAI3OCACOzggAj84IAJHOCACSzggAk84IAJTOCACVzggAls4IAJfOCACYzggAmc4IAJvOCACezggAss4IALnOCADBzggAws4IAM7OCADTzggA5M4IAOjOCADqzggABs8IAAnPCAAQzwgAEc8IABLPCAAUzwgAFs8IABfPCAAczwgAHc8IAB7PCAAfzwgAIM8IACHPCAAjzwgAJc8IACbPCAAnzwgAKM8IACnPCAAqzwgALM8IAC3PCAAwzwgAMc8IADPPCAA0zwgANc8IADbPCAA3zwgAOM8IADnPCAA6zwgAPc8IAEPPCABIzwgATM8IAE3PCABPzwgAUc8IAFXPCABmzwgAa88IAHHPCAB0zwgAeM8IAA==",
          "dtype": "i4"
         },
         "xaxis": "x",
         "y": {
          "bdata": "16NwPQpXVEAK16NwPQorQDMzMzMzs2FAAAAAAAAAUUDXo3A9Cld0QDQzMzMzszFANDMzMzOzMUAAAAAAAAAuQM3MzMzMzDdAzczMzMzMNEAAAAAAAAAuQJqZmZmZmTBASOF6FK5HUUA0MzMzMzM5QAAAAAAAACRAAAAAAAAALkA0MzMzM7MxQDMzMzMzsy1ANDMzMzOzPUBmZmZmZmYhQAAAAAAAgFlAzczMzMzMEEA0MzMzM7MxQDQzMzMzszFA7FG4HoXrI0AAAAAAAMA4QAAAAAAAAD5AzczMzMzMAEDNzMzMzIxKQLgehetRuCJApHA9CtejEEAAAAAAAIBAQClcj8L1KBRAmpmZmZmZTkBcj8L1KJxtQDMzMzMzMwtANDMzMzOzMUAzMzMzMzMHQAAAAAAAwEJApHA9CtejAEBmZmZmZmYxQJqZmZmZmQdAAAAAAAAA9D8AAAAAAABrQAAAAAAAADFAMzMzMzMzB0AAAAAAAAAuQAAAAAAAAB5AzczMzMzMF0DNzMzMzMw0QJqZmZmZ2T1ANDMzMzOzMUAAAAAAAAAuQKRwPQrXoxBAAAAAAACAMEBmZmZmZmYnQGZmZmZm5iFApHA9CtejEEBmZmZmZmZUQGZmZmZmZgpAzczMzMzML0CamZmZmZlHQAAAAAAAAFJAzczMzMzMIEAVrkfhehRTQDMzMzMz82BAAAAAAAAAGUAAAAAAAIA5QJqZmZmZmS5AAAAAAAAALkBnZmZmZuZSQAAAAAAA4GBAAAAAAAAALkAAAAAAAIAgQGZmZmZmZipAmpmZmZmZL0AAAAAAAAAuQAAAAAAAAC5AzczMzMzMM0BmZmZmZuZlQDQzMzMzszFAAAAAAAAALkDNzMzMzMw0QDMzMzMzM/s/AAAAAAAAEUA0MzMzMzM/QAAAAAAAAC5AAAAAAACAMEA=",
          "dtype": "f8"
         },
         "yaxis": "y"
        },
        {
         "hovertemplate": "Invoice Date=2011-11-20<br>Invoice Number=%{x}<br>Total Sales=%{y}<extra></extra>",
         "legendgroup": "2011-11-20",
         "marker": {
          "color": "#636efa",
          "symbol": "circle"
         },
         "mode": "markers",
         "name": "2011-11-20",
         "showlegend": true,
         "type": "scattergl",
         "x": {
          "bdata": "es8IAHvPCAB8zwgAfc8IAH/PCACAzwgAgc8IAILPCACDzwgAlc8IAJ7PCACgzwgAo88IAL3PCADAzwgAwc8IAMPPCADFzwgAxs8IAMjPCADKzwgAy88IAMzPCADNzwgAz88IANDPCADSzwgA088IANTPCADVzwgA1s8IANfPCADYzwgA2c8IANrPCADbzwgA3M8IAN3PCADfzwgA4M8IAOHPCADizwgA488IAOTPCADmzwgA588IAOrPCADrzwgA7M8IAO3PCADuzwgA788IAPDPCADxzwgA8s8IAPTPCAD1zwgA9s8IAPfPCAD4zwgA+c8IAPrPCAD8zwgA/c8IAP7PCAD/zwgAANAIAAHQCAAC0AgAA9AIAATQCAAF0AgABtAIAAfQCAAI0AgACdAIAArQCAAM0AgADdAIAA7QCAAQ0AgAEdAIABLQCAAT0AgAFNAIABXQCAAk0AgAK9AIADrQCAA70AgA",
          "dtype": "i4"
         },
         "xaxis": "x",
         "y": {
          "bdata": "16NwPQpXVEDNzMzMzMwzQAAAAAAAAE5AZmZmZmbmM0BmZmZmZmYkQAAAAAAAoERAmpmZmZmZLkCkcD0K16MAQJqZmZmZGSpA1qNwPQrXG0BmZmZmZuYjQM3MzMzMzFRAZmZmZmZmYUD2KFyPwvUYQDQzMzMzs01AzczMzMzMJ0BmZmZmZmYxQM3MzMzMzDNAMzMzMzOzLUBmZmZmZmZkQAAAAAAAACFAzczMzMzMEEBmZmZmZmZRQDMzMzMzM+s/NDMzMzOzUUCamZmZmZkuQM3MzMzMzB9AMzMzMzMz/z9mZmZmZmY3QKRwPQrXoxBAzczMzMyMQUBxPQrXo3ApQM3MzMzMzEdAZmZmZmZmGkAAAAAAAAAeQM3MzMzMzCNAmJmZmZmZHkAAAAAAAAAuQGZmZmZm5iFAAAAAAAAAHkAAAAAAAAA5QGZmZmZmZg5ANDMzMzOzIUCkcD0K16MQQM3MzMzMzDNAZmZmZmZmF0CamZmZmZkuQGZmZmZm5jNA7FG4HoXrA0AAAAAAAAAUQM3MzMzMzDNA16NwPQpXIUCkcD0K16MAQAAAAAAAAARAAAAAAAAAEEAzMzMzM7MtQAAAAAAAQEVAMzMzMzOzLUA0MzMzM7MhQDQzMzMzsz1APQrXo3A9TkBmZmZmZuYzQAAAAAAAACVAAAAAAADAOEBcj8L1KFwbQGZmZmZm5iNAZmZmZmZm7j8AAAAAAAAuQAAAAAAAADFANDMzMzOzMUAAAAAAAIAgQAAAAAAAAC5AzczMzMzMJ0AAAAAAAMAyQAAAAAAAAClAuB6F61G4AkAAAAAAAAAlQClcj8L1KBRAMzMzMzOzLUAzMzMzM/MwQM3MzMzMzDRAzczMzMyMUUDNzMzMzMwQQAAAAAAAgEBAAAAAAAAALkAAAAAAAAAeQM3MzMzMzBhA9ihcj8L1KEDNzMzMzMwnQGZmZmZm5iNA",
          "dtype": "f8"
         },
         "yaxis": "y"
        },
        {
         "hovertemplate": "Invoice Date=2011-11-21<br>Invoice Number=%{x}<br>Total Sales=%{y}<extra></extra>",
         "legendgroup": "2011-11-21",
         "marker": {
          "color": "#EF553B",
          "symbol": "circle"
         },
         "mode": "markers",
         "name": "2011-11-21",
         "showlegend": true,
         "type": "scattergl",
         "x": {
          "bdata": "PNAIAD3QCAA+0AgAP9AIAEDQCABB0AgAQtAIAEPQCABE0AgARdAIAErQCABQ0AgAUdAIAGHQCABu0AgAhdAIAJDQCACZ0AgAmtAIAJvQCACe0AgAn9AIAKDQCACh0AgAotAIAKPQCACk0AgApdAIAK/QCAC00AgAttAIALfQCAC40AgAudAIALvQCAC80AgAvdAIAL7QCAC/0AgAwNAIAMHQCADC0AgAxNAIAMXQCADG0AgAx9AIAMjQCADK0AgAy9AIAMzQCADN0AgAztAIAM/QCADQ0AgA0dAIANLQCADT0AgA1NAIANXQCADX0AgA2tAIANvQCADc0AgA3dAIAOnQCADq0AgA69AIAOzQCADt0AgA7tAIAPLQCAD20AgA99AIAPjQCAD50AgA/tAIAP/QCAAA0QgAAdEIAALRCAAD0QgABNEIAAXRCAAG0QgACNEIAAnRCAAK0QgADNEIAA==",
          "dtype": "i4"
         },
         "xaxis": "x",
         "y": {
          "bdata": "AAAAAABgeECamZmZmZkwQM3MzMzMzCRANDMzMzOzMUD2KFyPwvU4QAAAAAAAAC5AmpmZmZmZPkBmZmZmZmYkQGZmZmZmZiRASOF6FK5HYUAAAAAAAAAuQAAAAAAAACVAAAAAAAAAIUAAAAAAAAAuQLgehetRuCJA9ihcj8L1OEAAAAAAAAD0P2ZmZmZmZiRAAAAAAACAOUAAAAAAAIAwQGZmZmZmZjFAzczMzMzMM0CkcD0K16MQQGZmZmZmZiRAPQrXo3A9LkAAAAAAAAA+QJqZmZmZmQdAAAAAAADASEAAAAAAAAAOQGZmZmZmZlRAmpmZmZmZZUAzMzMzM7NtQDUzMzMzs31AzczMzMzMIEDNzMzMzMw7QM3MzMzMzDNANDMzMzOzMUBmZmZmZmYkQAAAAAAAAC5AAAAAAACAIUAAAAAAAAA+QGZmZmZm5iNASOF6FK5HZECkcD0K16MAQGZmZmZmZjdAzczMzMzMM0DNzMzMzMwAQDMzMzMz81ZAmpmZmZmZL0AAAAAAAMA4QDQzMzMzM0lAZmZmZmZmDkBmZmZmZuYjQDMzMzMz81ZAAAAAAACARkA0MzMzM7MxQAAAAAAAAHhANDMzMzMzSUAAAAAAAMA4QGZmZmZmZvo/NDMzMzOzQUBmZmZmZmYnQAAAAAAAAClAZmZmZmbmM0DNzMzMzMw0QGZmZmZm5k1AzczMzMzMNEAAAAAAAIBGQM3MzMzMzDNAZmZmZmZm/j+amZmZmZkHQM3MzMzMzAZANDMzMzOzQUApXI/C9SgkQGZmZmZm5jhAAAAAAACAKUAAAAAAAAAuQAAAAAAAADFAZmZmZmZmJEAfhetRuB4XQM3MzMzMzCNAmpmZmZmZLkAAAAAAAAAuQDMzMzMzMwdAAAAAAACAWUDNzMzMzMwgQAAAAAAAgD1ApHA9CtejAEA=",
          "dtype": "f8"
         },
         "yaxis": "y"
        },
        {
         "hovertemplate": "Invoice Date=2011-11-22<br>Invoice Number=%{x}<br>Total Sales=%{y}<extra></extra>",
         "legendgroup": "2011-11-22",
         "marker": {
          "color": "#00cc96",
          "symbol": "circle"
         },
         "mode": "markers",
         "name": "2011-11-22",
         "showlegend": true,
         "type": "scattergl",
         "x": {
          "bdata": "DdEIAA7RCAAP0QgAENEIABLRCAAT0QgAFNEIABXRCAAW0QgAGNEIABrRCAAc0QgAHtEIAB/RCAAg0QgAIdEIACLRCAAj0QgAJtEIACfRCAAp0QgAKtEIACvRCAAt0QgALtEIADDRCAAx0QgAMtEIADPRCAA10QgAONEIADvRCAA80QgAPdEIAD7RCAA/0QgAQdEIAELRCABD0QgARNEIAEXRCABN0QgAWNEIAGXRCABp0QgAcdEIAHLRCAB/0QgAktEIAJ7RCACf0QgAtdEIALzRCADB0QgA1NEIANXRCADW0QgA2NEIANnRCADa0QgA29EIANzRCADd0QgA3tEIAN/RCADg0QgA4dEIAOLRCADj0QgA5NEIAOXRCADm0QgA59EIAOnRCADq0QgA69EIAOzRCADt0QgA7tEIAO/RCADw0QgA89EIAPTRCAD20QgA+NEIAPnRCAD60QgA/NEIAP3RCAAF0ggAB9IIAAjSCAAJ0ggACtIIAAvSCAAM0ggAD9IIABDSCAAU0ggAFdIIABbSCAAX0ggAGNIIABrSCAAb0ggAH9IIACDSCAAh0ggAJdIIACbSCAAn0ggAKNIIACvSCAAs0ggALtIIADDSCAAy0ggA",
          "dtype": "i4"
         },
         "xaxis": "x",
         "y": {
          "bdata": "MzMzMzOzUUAzMzMzM7MtQDQzMzMzszFAAAAAAACARkAAAAAAAICGQPYoXI/C9ShAzczMzMzMM0AAAAAAAAAxQM3MzMzMzC9AzMzMzMzMU0AzMzMzMzMvQAAAAAAAYGZAAAAAAACAWUA0MzMzMzNmQArXo3A9CjtAzczMzMzMM0AAAAAAAAAEQAAAAAAAgDNAZmZmZmZmN0AAAAAAAAAhQJqZmZmZmT5A4XoUrkfhLUApXI/C9SgUQNejcD0KVzFANDMzMzOzMUAK16NwPQo7QAAAAAAAAC5AAAAAAACQUkAzMzMzM7NtQAAAAAAAgEZAZmZmZmZGRkB7FK5H4XpFQAAAAAAAcKFA9ihcj8L1KECamZmZmZk+QOxRuB6F6yNAAAAAAAAATUAzMzMzM5t4QM3MzMzMzDRAZmZmZmZmJED2KFyPwvUyQFyPwvUoXBtAuB6F61G4IkAzMzMzMzMPQOF6FK5HIXRAMzMzMzNzWEAK16NwPQo2QDMzMzMzMylAAAAAAAAAHkBmZmZmZmY3QAAAAAAAAClAZmZmZmZmVEAAAAAAACBcQAAAAAAAACVAKVyPwvUo9D+amZmZmdkxQAAAAAAAAElAAAAAAAAAPkBmZmZmZmbuPwAAAAAAgGlAZ2ZmZmZmGkA0MzMzM7NNQAAAAAAAAA5AzczMzMysYkBmZmZmZmZEQM3MzMzMzCNAAAAAAAAA+D9nZmZmZuZSQM3MzMzMzABAj8L1KFyP+j9mZmZmZmb6P2ZmZmZm5jNAAAAAAAAAPkAAAAAAAAA+QM3MzMzMzDRAAAAAAAAAS0AzMzMzM7MtQAAAAAAAACVAAAAAAAAAQUAAAAAAAIA2QAAAAAAAAC5ANDMzMzOzQUAAAAAAAAAeQM3MzMzMjEpAZmZmZmZmGkCamZmZmZknQAAAAAAA4H9AmpmZmZmZMEBmZmZmZmb6P83MzMzMzC9AH4XrUbgeJ0AAAAAAAAA1QAAAAAAAACVAAAAAAAAALkA0MzMzM7NBQAAAAAAAAHJAMzMzMzMzL0AAAAAAAABaQGZmZmZmZhRAmpmZmZnZMUAAAAAAAIAwQHsUrkfhekVAAAAAAAAAHkAAAAAAAIAwQClcj8L1KBRAzczMzMzMNEAAAAAAAAApQAAAAAAAgFlAZmZmZmZmN0BnZmZmZkZWQKRwPQrXoxBA9ihcj8L1EkAAAAAAAAAuQOxRuB6F6yNACtejcD0KK0AAAAAAAIBNQDQzMzMzsyFA",
          "dtype": "f8"
         },
         "yaxis": "y"
        },
        {
         "hovertemplate": "Invoice Date=2011-11-23<br>Invoice Number=%{x}<br>Total Sales=%{y}<extra></extra>",
         "legendgroup": "2011-11-23",
         "marker": {
          "color": "#ab63fa",
          "symbol": "circle"
         },
         "mode": "markers",
         "name": "2011-11-23",
         "showlegend": true,
         "type": "scattergl",
         "x": {
          "bdata": "NNIIADXSCAA20ggAN9IIADjSCAA60ggAO9IIAD3SCAA/0ggAQNIIAEHSCABC0ggAQ9IIAETSCABF0ggARtIIAEfSCABI0ggASdIIAE3SCABO0ggAT9IIAFDSCABR0ggAUtIIAFXSCABi0ggAY9IIAGbSCABn0ggAaNIIAGnSCABq0ggAa9IIAHvSCAB+0ggAi9IIAJDSCACU0ggAo9IIAKzSCACx0ggAtdIIALbSCAC30ggAuNIIALnSCAC60ggAw9IIAMTSCADG0ggAx9IIAMjSCADJ0ggAytIIAMvSCADM0ggAzdIIAM7SCADP0ggA0NIIANLSCADU0ggA1dIIANbSCADX0ggA2NIIANnSCADa0ggA29IIANzSCADe0ggA39IIAODSCADj0ggA5tIIAOfSCADp0ggA69IIAOzSCADt0ggA7tIIAPDSCADx0ggA8tIIAPPSCAD00ggA9dIIAPbSCAD40ggA+dIIAPvSCAD90ggA/tIIAP/SCAAA0wgAAdMIAALTCAAD0wgABNMIAAXTCAAG0wgAB9MIAAjTCAAJ0wgACtMIAAvTCAAM0wgADdMIAA7TCAAP0wgAEtMIABPTCAAU0wgAFdMIABbTCAA=",
          "dtype": "i4"
         },
         "xaxis": "x",
         "y": {
          "bdata": "ZmZmZmZmKkA0MzMzM7NBQJqZmZmZ2TFAAAAAAAAAPkAAAAAAAAAxQAAAAAAAAF5AZmZmZmZmNEBmZmZmZmYkQGZmZmZmZipAAAAAAAAAPkBmZmZmZmYqQHE9CtejcClANDMzMzOzMUApXI/C9SgUQAAAAAAAACtAMzMzMzOzTUDNzMzMzMwjQDQzMzMzszFAzczMzMzMM0AAAAAAAAA+QAAAAAAAABBAAAAAAABgZkDNzMzMzMwkQM3MzMzMzCZAAAAAAAAAMUAAAAAAAAAxQAAAAAAAgCBAZmZmZmZm/j8AAAAAAIAwQM3MzMzMzDNAzMzMzMxsYEAAAAAAAAAlQGZmZmZmZvo/ZmZmZmZm/j8+CtejcD0SQAAAAAAAgDBA1qNwPQrXG0AAAAAAAIBZQJqZmZmZ2VRAAAAAAAAAHkAAAAAAAAAuQPYoXI/C9ShAH4XrUbgeB0AAAAAAAIBZQAAAAAAAgCVAAAAAAABAVUCamZmZmZkgQGZmZmZmZipANDMzMzOzTUA0MzMzM7MhQHE9CtejcCxAXI/C9ShcG0CamZmZmZkvQDMzMzMzk3xAmpmZmZmZ4T9mZmZmZmYKQM3MzMzMzC9AAAAAAAAAPkAAAAAAAMBIQKRwPQrXoxBAZmZmZmZmUUCamZmZmZkXQM3MzMzMzDRAzczMzMzMZ0AfhetRuB4nQAAAAAAAAC5A9ihcj8L12D8pXI/C9SgUQGZmZmZm5iNAAAAAAACAKUDNzMzMzMwVQBSuR+F6lC9ACtejcD0KK0DNzMzMzMw0QM3MzMzMzBdAZmZmZmZmNEAzMzMzM7NNQAAAAAAAADFANDMzMzMzT0DNzMzMzMwkQGZmZmZmZgRAH4XrUbieVkBmZmZmZuYjQM3MzMzMzC9A1qNwPQrXG0AAAAAAAIAzQB+F61G4HkdAzczMzMzMNEA0MzMzM7MxQDQzMzMzs0FAzczMzMzMQ0DXo3A9CldhQAAAAAAAAC5AAAAAAADAMkAzMzMzM7NRQDQzMzMzs0FAZmZmZmZ2YUAAAAAAAABSQAAAAAAAgDBAMzMzMzMz9z9mZmZmZmY3QDQzMzMzszFAzczMzMzMNEDNzMzMzEwwQM3MzMzMzBNAAAAAAAAASUBmZmZmZmYkQGZmZmZmZiRACtejcD0KO0AAAAAAAAAeQM3MzMzMzDBAAAAAAACAM0CamZmZmdk0QGZmZmZmZu4/pHA9CtejEECamZmZmZkuQA==",
          "dtype": "f8"
         },
         "yaxis": "y"
        },
        {
         "hovertemplate": "Invoice Date=2011-11-24<br>Invoice Number=%{x}<br>Total Sales=%{y}<extra></extra>",
         "legendgroup": "2011-11-24",
         "marker": {
          "color": "#FFA15A",
          "symbol": "circle"
         },
         "mode": "markers",
         "name": "2011-11-24",
         "showlegend": true,
         "type": "scattergl",
         "x": {
          "bdata": "GtMIAB7TCAAf0wgAJdMIACfTCAAp0wgAKtMIAC3TCAAu0wgAL9MIADDTCAAx0wgAMtMIADTTCAA10wgANtMIADfTCAA50wgAOtMIADzTCAA90wgAPtMIAEHTCABC0wgARNMIAEXTCABH0wgAUNMIAGDTCAB00wgAe9MIAH3TCACB0wgAidMIAI3TCACT0wgAndMIAKTTCACm0wgAr9MIALDTCAC10wgAytMIAMzTCADO0wgAz9MIANDTCADR0wgA0tMIANPTCADU0wgA1dMIANbTCADX0wgA2NMIANnTCADa0wgA29MIAN7TCADi0wgA49MIAOTTCADl0wgA5tMIAOfTCADw0wgA9NMIAPfTCAA81AgAPdQIAD7UCAA/1AgAQ9QIAEbUCABH1AgASdQIAErUCABd1AgAZdQIAGbUCABn1AgAaNQIAGnUCABq1AgAa9QIAGzUCABu1AgAb9QIAHDUCABy1AgAc9QIAHTUCAB11AgAdtQIAA==",
          "dtype": "i4"
         },
         "xaxis": "x",
         "y": {
          "bdata": "AAAAAAAwa0BmZmZmZmYxQClcj8L1KCRAPQrXo3A9XkAAAAAAAIBAQDQzMzMzs1FANDMzMzOzUUDXo3A9ClcxQAAAAAAAADFAZmZmZmZmVEAAAAAAAIAwQDMzMzMzMylAzczMzMzMM0C4HoXrUbhCQBSuR+F6FCxAAAAAAAAAQkAAAAAAAGBmQDMzMzMzMylAAAAAAAAALkBmZmZmZmZBQM3MzMzMzFxAAAAAAACAMECamZmZmdk9QGZmZmZmZu4/ZmZmZmbmM0A0MzMzM7MxQDMzMzMzMy9AZmZmZmbmLUBmZmZmZmbuPwAAAAAAgDBAmpmZmZmZLkAzMzMzMzMXQDQzMzMzs0FAAAAAAACAIEAzMzMzMzMXQGZmZmZmZlFAAAAAAACARkDhehSuR+EaQAAAAAAAAC5AzczMzMzMI0AAAAAAAABSQM3MzMzMzERAZmZmZmZmCkAAAAAAAAAEQNejcD0KVyFAAAAAAAAAOUAzMzMzMzNQQAAAAAAAgDZA9ihcj8L1IkDNzMzMzMwAQAAAAAAAgDBAmpmZmZnZZEAAAAAAAAD0P6RwPQrXowBAzczMzMzMNEAzMzMzMzP3P2ZmZmZmZgRAzczMzMzMEEAAAAAAAAAxQDQzMzMzMzlAzczMzMzMAEDNzMzMzMwzQM3MzMzMzDdAZmZmZmZmJEDsUbgeheszQGZmZmZm5i1ApHA9CtejAECamZmZmZkvQB+F61G4HgdAZmZmZmbmOEBmZmZmZuZIQArXo3A9CitAzczMzMzMNEAAAAAAAIBGQJqZmZmZ2TFAMzMzMzOzLUA0MzMzM7MxQAAAAAAAgDBAAAAAAAAgY0DNzMzMzMwgQGZmZmZmZiRAAAAAAAAAFECamZmZmVlGQGZmZmZm5jdAAAAAAAAAHkAUrkfhehQ8QMzMzMzMzBNAAAAAAACAUEDsUbgeheszQD0K16NwvUNAzczMzMzMNECkcD0K16MQQJqZmZmZmRdAUrgehetR2D8=",
          "dtype": "f8"
         },
         "yaxis": "y"
        },
        {
         "hovertemplate": "Invoice Date=2011-11-25<br>Invoice Number=%{x}<br>Total Sales=%{y}<extra></extra>",
         "legendgroup": "2011-11-25",
         "marker": {
          "color": "#19d3f3",
          "symbol": "circle"
         },
         "mode": "markers",
         "name": "2011-11-25",
         "showlegend": true,
         "type": "scattergl",
         "x": {
          "bdata": "d9QIAHjUCAB51AgAetQIAHvUCAB81AgAfdQIAH7UCAB/1AgAgNQIAIHUCACC1AgAhtQIAIfUCACI1AgAidQIAIvUCACN1AgAjtQIAI/UCACQ1AgAk9QIAJTUCACf1AgAudQIAMXUCADd1AgA3tQIAN/UCADh1AgA4tQIAOPUCADl1AgA5tQIAOfUCADp1AgA6tQIAOvUCADy1AgA9NQIAPXUCAD21AgA99QIAPjUCAD51AgA+tQIAPzUCAD91AgA/tQIAP/UCAAA1QgAAdUIAALVCAAD1QgABNUIAAXVCAAG1QgACNUIAAnVCAAK1QgADdUIAA7VCAAP1QgAEtUIABTVCAAb1QgAHtUIAA==",
          "dtype": "i4"
         },
         "xaxis": "x",
         "y": {
          "bdata": "AAAAAAAAMUDNzMzMzMw0QM3MzMzMzDNAAAAAAACARkBI4XoUrkc0QDQzMzMzszFAmpmZmZmZPkDNzMzMzMwzQOxRuB6F6yNAzczMzMzMF0BmZmZmZqYwQAAAAAAAgDlAexSuR+F6ZUAAAAAAAAAxQAAAAAAAAC5AzczMzMzMM0CamZmZmdlaQGZmZmZm5jFAzczMzMzMNEDXo3A9ClcxQGZmZmZmZnRA9ihcj8L1FUAAAAAAAAAuQAAAAAAAAA5AZmZmZmbmQkAfhetRuB4XQGZmZmZm5jNAzczMzMzMAEAAAAAAAAA5QAAAAAAAgEZAmpmZmZnZMUAzMzMzM7MtQAAAAAAAAC5AMzMzMzMz/z8AAAAAAAAlQM3MzMzMbJlApHA9CtejAEAK16NwPQpLQAAAAAAAAD5AuB6F61G4IkAAAAAAAIAzQJqZmZmZmTBAzczMzMzMREDNzMzMzMwgQPYoXI/C9ShAMzMzMzMzKUApXI/C9SgkQAAAAAAAQEFAKVyPwvUoFEA0MzMzM7M9QAAAAAAAAC5AzczMzMzMF0BmZmZmZuYjQAAAAAAAYGZAPgrXo3C9Y0AAAAAAAIA9QDQzMzMzsz1AAAAAAAAABEA0MzMzMzM5QAAAAAAAACFAZmZmZmZmIUAzMzMzM7MtQAAAAAAAgGlAZmZmZmamOECamZmZmVlQQM3MzMzMzCNAzczMzMzMJ0A=",
          "dtype": "f8"
         },
         "yaxis": "y"
        },
        {
         "hovertemplate": "Invoice Date=2011-11-27<br>Invoice Number=%{x}<br>Total Sales=%{y}<extra></extra>",
         "legendgroup": "2011-11-27",
         "marker": {
          "color": "#FF6692",
          "symbol": "circle"
         },
         "mode": "markers",
         "name": "2011-11-27",
         "showlegend": true,
         "type": "scattergl",
         "x": {
          "bdata": "INUIACHVCAAi1QgAI9UIACTVCAAl1QgAJtUIACfVCAAo1QgAKdUIACrVCABV1QgAYtUIAGnVCABq1QgAa9UIAGzVCABt1QgAbtUIAG/VCABw1QgAcdUIAHPVCAB11QgAdtUIAHfVCAB41QgAedUIAHrVCAB71QgAfdUIAH7VCAB/1QgAgNUIAIHVCACC1QgAg9UIAITVCACF1QgAhtUIAIfVCACI1QgAidUIAIrVCACh1QgAsNUIALHVCACz1QgAtNUIALXVCAC21QgAt9UIALjVCAC51QgAutUIAA==",
          "dtype": "i4"
         },
         "xaxis": "x",
         "y": {
          "bdata": "pHA9CtejEEAAAAAAAAAZQM3MzMzMzDRAAAAAAADAUkAAAAAAAAAhQPYoXI/C9ShA7FG4HoXrI0AAAAAAAIAxQGZmZmZmpkBAZmZmZmZmMUAzMzMzM/M9QAAAAAAAgCBAzczMzMzMM0DNzMzMzMwAQDMzMzMz8zBApHA9CtejEECamZmZmdlKQAAAAAAAgCZAmZmZmZkZIUAAAAAAAAAxQM3MzMzMzDNAZmZmZmZm/j8zMzMzMzPrPwAAAAAAgCBAAAAAAACANkAAAAAAAAD0P83MzMzMzCdAzczMzMzMM0A0MzMzMzM5QAAAAAAAgDBAMzMzMzOzJEBmZmZmZmb6P2ZmZmZmZhFAZmZmZmZm7j8AAAAAAMA4QGZmZmZmZhRAZmZmZmZm/j/NzMzMzMwzQJqZmZmZmRBA9ihcj8L16D97FK5H4Xp1QAAAAAAAgDlAZmZmZmZmEUAzMzMzMzPrP5qZmZmZGSpAmpmZmZmZEECamZmZmZknQGZmZmZmZv4/AAAAAACAMEAzMzMzM/MwQJqZmZmZmR9AAAAAAACAMEAzMzMzM7MnQM3MzMzMzCtAZmZmZmZm/j8=",
          "dtype": "f8"
         },
         "yaxis": "y"
        },
        {
         "hovertemplate": "Invoice Date=2011-11-28<br>Invoice Number=%{x}<br>Total Sales=%{y}<extra></extra>",
         "legendgroup": "2011-11-28",
         "marker": {
          "color": "#B6E880",
          "symbol": "circle"
         },
         "mode": "markers",
         "name": "2011-11-28",
         "showlegend": true,
         "type": "scattergl",
         "x": {
          "bdata": "u9UIAL3VCAC+1QgAv9UIAMDVCADB1QgAwtUIAMPVCADE1QgAxdUIAMbVCADH1QgAyNUIAMnVCADT1QgA3dUIAN/VCAD21QgA+9UIAA/WCAAR1ggAE9YIABXWCAAX1ggAGNYIABnWCAAa1ggAG9YIABzWCAAd1ggAH9YIACLWCAAj1ggAJNYIACXWCAAs1ggAMdYIADLWCAAz1ggANNYIADXWCAA21ggAONYIADnWCAA61ggAO9YIADzWCAA91ggAPtYIAD/WCABA1ggAQdYIAELWCABD1ggARdYIAEbWCABH1ggASNYIAEnWCABK1ggAS9YIAEzWCABN1ggATtYIAE/WCABS1ggAU9YIAFTWCABV1ggAVtYIAFfWCABY1ggAWdYIAFrWCABb1ggAXNYIAF3WCABe1ggAX9YIAGDWCABi1ggAY9YIAGXWCABm1ggAZ9YIAGjWCABp1ggAa9YIAGzWCABt1ggAbtYIAG/WCABw1ggAcdYIAHTWCAB11ggAd9YIAHrWCAB81ggArdYIALHWCACy1ggAs9YIALTWCAC11ggAttYIALfWCAA=",
          "dtype": "i4"
         },
         "xaxis": "x",
         "y": {
          "bdata": "AAAAAAAAN0A+CtejcL1jQFyPwvUoHGBAZmZmZmZmQUAAAAAAAIBZQAAAAAAAgENAAAAAAAAATUDNzMzMzMxEQJqZmZmZmQdAmpmZmZnZVEDMzMzMzMxTQHsUrkfhekVAmpmZmZnZQUAAAAAAAFBWQGZmZmZm5ihAmpmZmZnZUUAAAAAAAIAwQAAAAAAAgDBA9ihcj8L1KEAAAAAAAAAuQKRwPQrXowBAAAAAAAAALkAAAAAAAIBZQM3MzMzMzBtAZmZmZmbmTEAAAAAAAIA2QM3MzMzMzDRAZmZmZmbmM0DNzMzMzMw0QGZmZmZm5kNAAAAAAAAADkCamZmZmdlEQAAAAAAAgDBA16NwPQpXUUBmZmZmZmYxQOF6FK5H4eo/AAAAAAAAOUBmZmZmZmZEQGZmZmZm5jNApHA9CtejEEBmZmZmZmYxQAAAAAAAoFRAAAAAAAAALkAzMzMzMzP/P83MzMzMzDNAZmZmZmZmREBmZmZmZmb+P2ZmZmZmZhFAAAAAAAAAJUBmZmZmZmb+P2ZmZmZm5kNAAAAAAAAALkAAAAAAAAA+QOF6FK5H4XFAmpmZmZmZB0BmZmZmZmbuPwAAAAAAAC5AAAAAAAAALkCamZmZmRlHQAAAAAAAACFAAAAAAAAAHkAzMzMzM/MwQGZmZmZmZiRANDMzMzOzMUAAAAAAAIBWQM3MzMzMzBBAzczMzMzMEEDNzMzMzMwvQBSuR+F6FDxA7FG4HoXrI0ApXI/C9SgUQAAAAAAAADRAZmZmZmZmGkAAAAAAAAAlQJqZmZmZGWpAXI/C9SgcUEAAAAAAAAAuQAAAAAAAAC5ANDMzMzOzIUBmZmZmZqY4QM3MzMzMzCNAMzMzMzPzQ0CkcD0K16MQQOxRuB6F6yNAAAAAAACAOUAAAAAAAAAuQAAAAAAAgFZA9ihcj8L1OEBmZmZmZmZkQJqZmZmZGWpACtejcD0KK0A+CtejcL1TQM3MzMzMzDRAAAAAAAAALkAAAAAAAAAkQGdmZmZmpoBAAAAAAAAAa0CamZmZmdkxQKRwPQrXIzZAAAAAAAAAYUCuR+F6FK58QAAAAAAAAD5AAAAAAAAYkkDNzMzMzOyBQM3MzMzMzGxAAAAAAAAAOUAzMzMzMzMbQA==",
          "dtype": "f8"
         },
         "yaxis": "y"
        },
        {
         "hovertemplate": "Invoice Date=2011-11-29<br>Invoice Number=%{x}<br>Total Sales=%{y}<extra></extra>",
         "legendgroup": "2011-11-29",
         "marker": {
          "color": "#FF97FF",
          "symbol": "circle"
         },
         "mode": "markers",
         "name": "2011-11-29",
         "showlegend": true,
         "type": "scattergl",
         "x": {
          "bdata": "uNYIALnWCAC61ggAvNYIAL3WCAC+1ggAv9YIAMDWCADB1ggAw9YIAMTWCADF1ggAxtYIAMfWCADJ1ggAytYIAM7WCADP1ggA0NYIANLWCADT1ggA1NYIANXWCADW1ggA19YIANjWCADd1ggA5NYIAOXWCADr1ggAANcIAATXCAAL1wgAFtcIAB7XCAAk1wgAJdcIADvXCAA/1wgAR9cIAEjXCABJ1wgAStcIAEvXCABM1wgATdcIAE7XCABP1wgAUNcIAFHXCABS1wgAU9cIAFTXCABV1wgAVtcIAGPXCABm1wgAaNcIAGnXCABq1wgAa9cIAGzXCABt1wgAb9cIAHDXCABy1wgAc9cIAHTXCAB11wgAdtcIAHfXCAB41wgAedcIAHrXCAB71wgAfNcIAH3XCAB+1wgAf9cIAIDXCACB1wgAgtcIAIPXCACF1wgAhtcIAIjXCACJ1wgAitcIAIvXCACM1wgAjdcIAI7XCACQ1wgAkdcIAKHXCACj1wgApdcIAKbXCACn1wgAqdcIAKvXCACt1wgAsdcIALLXCACz1wgAtdcIALbXCAC31wgAudcIALrXCAC71wgAvNcIAL3XCAC+1wgAwNcIAA==",
          "dtype": "i4"
         },
         "xaxis": "x",
         "y": {
          "bdata": "AAAAAAAASUBmZmZmZuZYQM3MzMzMzDNAzczMzMzMM0DNzMzMzMw0QClcj8L1KBRAZmZmZmZmMUDNzMzMzMw0QHsUrkfhekVAAAAAAAAALkCamZmZmZkwQDQzMzMzMzlAzczMzMzMM0B7FK5H4XpuQAAAAAAAAC5AAAAAAACAKUAAAAAAAIA5QAAAAAAAADFAzczMzMzMM0BmZmZmZmYxQAAAAAAAAD5AAAAAAACAP0AAAAAAAIBJQGZmZmZmZv4/AAAAAAAALkAAAAAAAAApQGZmZmZm5ihA9ihcj8L1SEA0MzMzMzMZQJqZmZmZmS5AmpmZmZmZL0AAAAAAAAA+QJqZmZmZmU9AZmZmZmZmZEAzMzMzM7MtQAAAAAAAADVA9ihcj8L1KEAAAAAAAIAgQGZmZmZmZjRAAAAAAAAAEUBI4XoUrkdhQGZmZmZm5jNAZ2ZmZmbmUkDNzMzMzMxEQAAAAAAAAC5AFa5H4XoUc0A0MzMzM7NBQAAAAAAAAC5AAAAAAAAAEUDNzMzMzMwbQM3MzMzMzDNAMzMzMzOzJ0AAAAAAAAAuQM3MzMzMzBdAzczMzMzMEEAfhetRuB4XQM3MzMzMzBdAAAAAAABgZkBmZmZmZmYvQGZmZmZmZiRAAAAAAACAMED2KFyPwvVCQDMzMzMzsy1AZmZmZmZmVED2KFyPwvU4QAAAAAAAACFAAAAAAAAAIUBmZmZmZmY3QJqZmZmZmU5AAAAAAAAALkCamZmZmZknQLgehetRuBJAAAAAAAAAUkAAAAAAADyOQDMzMzMzs21AAAAAAAAgbEAAAAAAAAAZQGZmZmZm5kJAAAAAAAAANEDNzMzMzMwXQDQzMzMzM09AAAAAAAAA9D+amZmZmZlOQDMzMzMzMylAAAAAAAAAKkA0MzMzM7M9QGZmZmZmZgpAAAAAAACAWUAAAAAAAAAxQLgehetRuAJAAAAAAABgZkBmZmZmZmYKQAAAAAAAAA5ASOF6FK5HNEAzMzMzM/MwQAAAAAAAAA5ANDMzMzMzOUAAAAAAAAA+QEjhehSuRzRAAAAAAAAAIUDhehSuR+EaQNejcD0KVzRAexSuR+F6VUAzMzMzM7MtQGZmZmZmZiRAzczMzMzML0DNzMzMzMw0QGZmZmZmZjdAmpmZmZlZMEAAAAAAAIAzQHE9CtejcCxAAAAAAAAAIUA0MzMzM7MxQAAAAAAAAARApHA9CtejAEA=",
          "dtype": "f8"
         },
         "yaxis": "y"
        },
        {
         "hovertemplate": "Invoice Date=2011-11-30<br>Invoice Number=%{x}<br>Total Sales=%{y}<extra></extra>",
         "legendgroup": "2011-11-30",
         "marker": {
          "color": "#FECB52",
          "symbol": "circle"
         },
         "mode": "markers",
         "name": "2011-11-30",
         "showlegend": true,
         "type": "scattergl",
         "x": {
          "bdata": "wtcIAMPXCADE1wgAxdcIAMbXCADH1wgAytcIAMvXCADN1wgAztcIAM/XCADQ1wgA0tcIANTXCADV1wgA1tcIANfXCADY1wgA2dcIANzXCADd1wgA39cIAODXCADj1wgA5NcIAObXCADn1wgA6NcIAOnXCADz1wgA9NcIABDYCAAV2AgAHNgIACPYCAAn2AgALdgIAFLYCABT2AgAVNgIAFXYCABW2AgAV9gIAFjYCABZ2AgAWtgIAFvYCABc2AgAXdgIAF7YCABf2AgAZNgIAGXYCABm2AgAZ9gIAGnYCABq2AgAbdgIAH/YCACA2AgAjdgIAJ3YCACl2AgAptgIAKrYCACv2AgAw9gIAMjYCADM2AgAzdgIAN/YCAD42AgA+tgIAP3YCAAA2QgAA9kIAAbZCAAI2QgADtkIABnZCAAb2QgAHNkIACDZCAAt2QgA",
          "dtype": "i4"
         },
         "xaxis": "x",
         "y": {
          "bdata": "AAAAAAAAK0AAAAAAAIBmQGZmZmZm5kNAmpmZmZmZOEDWo3A9CtcbQM3MzMzMzDNAKVyPwvUoFEAzMzMzM7NdQAAAAAAAgDBAFK5H4XoUQ0AAAAAAAAAuQM3MzMzMzDdAuB6F61G4QkDNzMzMzMw3QM3MzMzMzCBAAAAAAADASEAAAAAAAAApQJqZmZmZmS5AAAAAAACAQECamZmZmdkxQDMzMzMzMylAAAAAAACARkA0MzMzMzNJQGZmZmZmZv4/NDMzMzMzH0AAAAAAAAAxQGZmZmZmZgpAzczMzMzMI0BmZmZmZuYzQKRwPQrXowBAzczMzMzMRECamZmZmZk+QAAAAAAAgCtAAAAAAAAAIUD2KFyPwvU4QAAAAAAAAC5AAAAAAAAAUkDNzMzMzMw0QAAAAAAAABlA9ihcj8L1KEBI4XoUrkc0QOxRuB6F6yNANDMzMzOzMUApXI/C9SgkQM3MzMzMzDRAAAAAAAAAPkAAAAAAAAAuQM3MzMzMzDNAAAAAAACAMEBnZmZmZmYaQAAAAAAAABFAAAAAAAAALkDNzMzMzMwzQDMzMzMzM29AMzMzMzOzbUAAAAAAAAD0P2ZmZmZmZv4/ZmZmZmbmOEDNzMzMzMwTQGZmZmZmZgRACtejcD0KB0AzMzMzMzP/P5qZmZmZmUBAMzMzMzOzUUAzMzMzMzMpQFyPwvUoHGBANDMzMzOzMUAAAAAAAGBmQAAAAAAAAD5AMzMzMzMzL0BmZmZmZuYtQDMzMzMzsy1APQrXo3A9PkAzMzMzM7NhQAAAAAAAACFAAAAAAACAUEAAAAAAAAAxQGZmZmZmZjFAAAAAAACAWUBmZmZmZmYXQM3MzMzMzERANDMzMzOzMUAAAAAAAMBCQM3MzMzMzBdA",
          "dtype": "f8"
         },
         "yaxis": "y"
        },
        {
         "hovertemplate": "Invoice Date=2011-12-01<br>Invoice Number=%{x}<br>Total Sales=%{y}<extra></extra>",
         "legendgroup": "2011-12-01",
         "marker": {
          "color": "#636efa",
          "symbol": "circle"
         },
         "mode": "markers",
         "name": "2011-12-01",
         "showlegend": true,
         "type": "scattergl",
         "x": {
          "bdata": "O9kIADzZCABM2QgATdkIAFDZCABR2QgAUtkIAGDZCABh2QgAYtkIAGPZCABk2QgAZdkIAGbZCABn2QgAatkIAGvZCABt2QgActkIAHrZCACM2QgAktkIAJbZCACX2QgApdkIALXZCAC22QgAt9kIALjZCAC52QgAutkIALvZCAC82QgAvdkIAL7ZCAC/2QgAwNkIAMHZCADL2QgAzNkIAM3ZCADO2QgAz9kIANDZCADR2QgA0tkIANPZCADU2QgA1dkIANbZCADX2QgA2dkIANrZCADb2QgA3NkIAN3ZCADe2QgA39kIAODZCADh2QgA4tkIAOPZCADk2QgA5dkIAObZCADn2QgA6dkIAOrZCADr2QgA7NkIAO3ZCAD42QgA+dkIAPrZCAD72QgA/NkIAP3ZCAD+2QgA/9kIAADaCAAB2ggAAtoIAATaCAAF2ggABtoIAAfaCAAI2ggACdoIAAraCAAL2ggADNoIAA3aCAAO2ggAD9oIABDaCAAR2ggAEtoIABTaCAAV2ggAFtoIABfaCAAd2ggAINoIACHaCAAi2ggAJNoIACXaCAAm2ggAJ9oIACjaCAAp2ggA",
          "dtype": "i4"
         },
         "xaxis": "x",
         "y": {
          "bdata": "ZmZmZmZmNEA0MzMzM7MxQHsUrkfhekVAZmZmZmbmWEAVrkfhehRTQJqZmZmZmU5APQrXo3A9IkAAAAAAAGCIQDQzMzMzs0FAAAAAAAAALkA0MzMzMzNPQPYoXI/C9ShASOF6FK5HNEAAAAAAAAAlQGZmZmZmZiRAZmZmZmZmGkAAAAAAAIAwQGZmZmZmZjFAMzMzMzOzUUCamZmZmZkuQAAAAAAAACFASOF6FK5HVECamZmZmdlHQArXo3A9CitANDMzMzMzGUCamZmZmZk+QAAAAAAAgDBAmpmZmZnZTUAAAAAAAAAuQAAAAAAAABFAcD0K16NwY0AzMzMzMzMpQAAAAAAAAC5AMzMzMzPzVkA0MzMzM7MxQBWuR+F6FFNAZmZmZmZmBEDNzMzMzMw0QAAAAAAAgClAzczMzMzMK0BI4XoUrkc0QPYoXI/C9ThAZmZmZmZm+j+kcD0K16MAQJqZmZmZmT5AZmZmZmZmBEAAAAAAAIA2QAAAAAAAgFZA16NwPQpXVECamZmZmZknQAAAAAAAAD1AMzMzMzOzTUDNzMzMzMwzQAAAAAAAgDZAMzMzMzOzLUAAAAAAAIBZQGZmZmZmZu4/wvUoXI/CUUB7FK5H4XpFQDMzMzMzsy1AzczMzMzMM0AzMzMzM5NjQAAAAAAAoERAAAAAAAAABEAAAAAAAIBDQDMzMzMz8zBAAAAAAAAADkBmZmZmZmYxQAAAAAAAAD5AcT0K16NwPEDNzMzMzMwzQAAAAAAAAD5AmpmZmZmZL0AzMzMzM7MtQM3MzMzMzERAAAAAAACAIECamZmZmdlBQDMzMzMz8zNAAAAAAACAWUC4HoXrUbgiQAAAAAAAAC5AAAAAAAAALkAAAAAAAIAwQM3MzMzMzDNAmpmZmZmZL0BmZmZmZmYaQAAAAAAAAE5AAAAAAAAAPkDXo3A9ClcxQAAAAAAAAClAAAAAAAAgTECamZmZmdlBQPYoXI/C9ThAAAAAAAAAMUAfhetRuB5LQM3MzMzMzDRAZmZmZmZmKkBmZmZmZuZYQM3MzMzMzERAAAAAAAAALkBmZmZmZmbuPwAAAAAAAFFAAAAAAACASUDNzMzMzMw0QGZmZmZmZjFAAAAAAACARkA+CtejcD0SQGZmZmZmZjdAZmZmZmZmKkAK16NwPQoLQM3MzMzMzAZA",
          "dtype": "f8"
         },
         "yaxis": "y"
        },
        {
         "hovertemplate": "Invoice Date=2011-12-02<br>Invoice Number=%{x}<br>Total Sales=%{y}<extra></extra>",
         "legendgroup": "2011-12-02",
         "marker": {
          "color": "#EF553B",
          "symbol": "circle"
         },
         "mode": "markers",
         "name": "2011-12-02",
         "showlegend": true,
         "type": "scattergl",
         "x": {
          "bdata": "KtoIACvaCAAs2ggALdoIAC7aCAAv2ggAM9oIADXaCAA32ggAO9oIADzaCAA92ggAP9oIAELaCABD2ggARNoIAEbaCABH2ggASdoIAEraCABM2ggATdoIAE/aCABQ2ggAUdoIAFLaCABc2ggAXdoIAGHaCABw2ggAddoIAHbaCAB92ggAi9oIAJPaCACg2ggAodoIAKLaCACj2ggApNoIAKXaCACm2ggAqNoIALDaCAC02ggAtdoIALbaCAC32ggAuNoIALraCAC72ggAvNoIAL7aCAC/2ggAwNoIAMHaCADC2ggAw9oIAMTaCADF2ggAxtoIAMfaCADI2ggAydoIAMraCADL2ggAzNoIAM3aCADO2ggAz9oIANDaCADR2ggA0toIANPaCADU2ggA1doIANbaCADX2ggA2toIANvaCADc2ggA3doIAN7aCADf2ggA4NoIAOHaCADi2ggA69oIAP/aCAAD2wgABNsIAAXbCAAG2wgACNsIAAnbCAAK2wgAC9sIAAzbCAAQ2wgAEtsIABPbCAAU2wgAFdsIABbbCAAX2wgA",
          "dtype": "i4"
         },
         "xaxis": "x",
         "y": {
          "bdata": "AAAAAADAWEBmZmZmZuY4QGZmZmZmZjFANDMzMzMzOUDXo3A9ClcxQOtRuB6FK1BANDMzMzMzOUDNzMzMzMwVQM3MzMzMzD9ASOF6FK5HREAAAAAAAAA+QJqZmZmZmRdAZ2ZmZmbmUkBmZmZmZmb6P+F6FK5H4TFAH4XrUbgeW0DNzMzMzMw3QBWuR+F6FFNA16NwPQpXVEAAAAAAAICGQOxRuB6FK2BAAAAAAAAAKkAAAAAAAEBPQAAAAAAAQFVA9ihcj8L1OEA1MzMzMzN8QGZmZmZmZgpAMzMzMzOzbUAAAAAAAIAtQAAAAAAAADFAAAAAAADAOED2KFyPwvU4QAAAAAAAwDJAAAAAAACAdkDNzMzMzIySQAAAAAAAgE9AAAAAAAAgV0A0MzMzMzNWQPYoXI/C9ThAMzMzMzOzLUAzMzMzM7MtQPYoXI/C9ThAAAAAAAAAbUC4HoXrUbgCQAAAAAAAgCBANDMzMzOzMUD2KFyPwvUYQM3MzMzMzDNAAAAAAACAVkBmZmZmZuY9QJqZmZmZmR9AZmZmZmbmVUAAAAAAAAAxQFK4HoXrURpAAAAAAAAALkAAAAAAAAAOQKRwPQrXoxBAAAAAAAAALkBmZmZmZmZkQEjhehSuR/k/7FG4HoXrI0AAAAAAAAAwQKRwPQrXowBAAAAAAADgcEBI4XoUrkcpQM3MzMzMzDtAZmZmZmbmK0DXo3A9ClcxQAAAAAAAgDBAzczMzMzMM0BmZmZmZmYXQKRwPQrXowBA9ihcj8L1OECkcD0K16MAQNejcD0KVzFAAAAAAACASUA0MzMzM7MxQAAAAAAAAClAuB6F61G4EkBmZmZmZmZEQM3MzMzMHG5A16NwPQpXQUAAAAAAAIAwQAAAAAAAgDBAzczMzMzMREA0MzMzMzM5QNajcD0K1xtAAAAAAACAaUBmZmZmZmYkQDQzMzMzMzlAAAAAAAAALkBmZmZmZmZUQKRwPQrXoxBAAAAAAAAALkAAAAAAAAAuQDQzMzMzMzlAAAAAAAD6pEAAAAAAAAAlQM3MzMzMzENAAAAAAAAAPkAAAAAAAABaQDMzMzMz80BA7FG4HoXrM0BmZmZmZuYzQPYoXI/C9ThA",
          "dtype": "f8"
         },
         "yaxis": "y"
        },
        {
         "hovertemplate": "Invoice Date=2011-12-04<br>Invoice Number=%{x}<br>Total Sales=%{y}<extra></extra>",
         "legendgroup": "2011-12-04",
         "marker": {
          "color": "#00cc96",
          "symbol": "circle"
         },
         "mode": "markers",
         "name": "2011-12-04",
         "showlegend": true,
         "type": "scattergl",
         "x": {
          "bdata": "INsIACHbCAAi2wgAI9sIACTbCAAl2wgAKdsIACrbCAAr2wgALNsIAC3bCAAu2wgAL9sIADDbCAAx2wgAMtsIADPbCAA02wgANdsIAEPbCABP2wgAUNsIAFLbCABU2wgAVtsIAFnbCABs2wgAdNsIAHXbCACC2wgAitsIAJTbCACV2wgAltsIAJfbCACY2wgAmdsIAJrbCACh2wgAotsIAKPbCACk2wgApdsIAKbbCACo2wgAq9sIAKzbCACt2wgArtsIAK/bCACx2wgAstsIALTbCAC12wgAt9sIAA==",
          "dtype": "i4"
         },
         "xaxis": "x",
         "y": {
          "bdata": "zczMzMzMQ0DNzMzMzMwQQArXo3A9CjtAZmZmZmbmI0DNzMzMzMwzQAAAAAAAAClAzczMzMzMM0AAAAAAAAAuQAAAAAAAAC5AMzMzMzMz/z/NzMzMzMwQQAAAAAAAAC5AMzMzMzPzMEAAAAAAAMA4QDQzMzMzMzlAZmZmZmZmUUAAAAAAAAAUQAAAAAAAAC5AMzMzMzPzMEAAAAAAAIAzQJqZmZmZ+V5AAAAAAACAXUDNzMzMzMwQQOxRuB6F6yNAAAAAAAAAKUAAAAAAAAAuQAAAAAAAACVAAAAAAAAA9D8AAAAAAAAOQM3MzMzMzBBAAAAAAAAAJUAAAAAAAAAlQDMzMzMzsy1ApHA9CtejEEBmZmZmZuYjQDMzMzMzMxdAAAAAAACASUB7FK5H4XpVQAAAAAAAAA5AZmZmZmZm7j8pXI/C9SgkQPYoXI/C9dg/AAAAAACARkDNzMzMzMxTQDMzMzMzMw9AAAAAAAAABEA0MzMzM7MxQMzMzMzMzGNA1qNwPQrXG0AAAAAAAIApQM3MzMzMzDtAmpmZmZkZOkAAAAAAAIBvQDMzMzMzE1hAAAAAAACAKUA=",
          "dtype": "f8"
         },
         "yaxis": "y"
        },
        {
         "hovertemplate": "Invoice Date=2011-12-05<br>Invoice Number=%{x}<br>Total Sales=%{y}<extra></extra>",
         "legendgroup": "2011-12-05",
         "marker": {
          "color": "#ab63fa",
          "symbol": "circle"
         },
         "mode": "markers",
         "name": "2011-12-05",
         "showlegend": true,
         "type": "scattergl",
         "x": {
          "bdata": "utsIALvbCAC82wgAvdsIAL7bCAC/2wgAwNsIAMbbCADI2wgAytsIAMzbCADP2wgA89sIAPTbCAD22wgA99sIAPjbCAD52wgA+tsIAPvbCAD+2wgA/9sIAADcCAAD3AgABdwIAAbcCAAH3AgAC9wIAA7cCAAW3AgAF9wIABjcCAAZ3AgAGtwIABvcCAAc3AgAHdwIAB/cCAAg3AgAItwIACPcCAAk3AgAJdwIACbcCAAn3AgAKtwIACvcCAAs3AgALdwIAC7cCAAv3AgAMNwIADHcCAAy3AgAM9wIADTcCAA13AgANtwIADfcCAA43AgAOdwIADrcCAA73AgAPNwIAD3cCAA+3AgAP9wIAEDcCABB3AgAQ9wIAETcCABF3AgARtwIAEfcCABI3AgASdwIAErcCABM3AgATdwIAE/cCABQ3AgAUdwIAFLcCABT3AgAVNwIAFXcCABW3AgAV9wIAFjcCABZ3AgAXNwIAGjcCABp3AgAbdwIAG7cCABv3AgAcNwIAHHcCABy3AgAc9wIAHXcCAB33AgAeNwIAHvcCAA=",
          "dtype": "i4"
         },
         "xaxis": "x",
         "y": {
          "bdata": "SOF6FK5HREBmZmZmZuY4QDQzMzMzszFAZmZmZmZmJEDXo3A9ClcxQGZmZmZmZjFANDMzMzMzH0A+CtejcD0SQFyPwvUoXAtAMzMzMzMzL0AAAAAAAMBSQAAAAAAAACFAMzMzMzOzLUApXI/C9SgUQGZmZmZmZidAAAAAAAAALkD2KFyPwvX4PwAAAAAAABRAAAAAAAAALkAAAAAAAAAuQAAAAAAAADlAKlyPwvVoRkAAAAAAAAA5QGZmZmZmZidAAAAAAACAMEA0MzMzM7NBQDQzMzMzszFAZmZmZmZmNEAAAAAAAAAuQAAAAAAAAC5AKVyPwvUoJEAAAAAAAAArQGZmZmZmZu4/NDMzMzMzOUBI4XoUrkfpP2ZmZmZmZlFAZmZmZmZm7j/2KFyPwvUSQAAAAAAAACFAPgrXo3C9U0BmZmZmZuYlQAAAAAAAACFAzczMzMykh0AAAAAAAICKQGZmZmZmZgpA7FG4HoXrM0DNzMzMzMwjQHE9CtejcFxA7FG4HoVrPkAzMzMzMzP/PwAAAAAAAARA4XoUrkdBX0AzMzMzMzMpQAAAAAAAgFlAZmZmZmamUEDNzMzMzMwzQM3MzMzMzCBAj8L1KFyPIkAAAAAAAAApQM3MzMzMzBdAmZmZmZmZVUBmZmZmZmZUQAAAAAAAACtAMzMzMzMz/z80MzMzMzNJQDQzMzMzMzlASOF6FK5HREAAAAAAAAAUQAAAAAAAAC5A16NwPQpXQUCkcD0K16MAQAAAAAAAgCBAZmZmZmZm/j8zMzMzM7MtQJqZmZmZmTBAuB6F61G4IkAAAAAAAAAuQGZmZmZmZkRAAAAAAACAMEDNzMzMzMwzQGZmZmZmZu4/mpmZmZmZL0C4HoXrUbgSQAAAAAAAAC5AAAAAAACAKUAAAAAAAAAuQAAAAAAAAC5AmpmZmZmZB0AAAAAAAABBQGZmZmZmZv4/NDMzMzMzOUBmZmZmZmY3QGZmZmZmtlJAAAAAAACAVkAAAAAAAAA+QMP1KFyPgl5AzczMzMzMJ0A0MzMzM7MxQM3MzMzMzDRAZmZmZmZmF0C4HoXrUbgiQOxRuB6F6yhAAAAAAAAAMUBmZmZmZmbuPw==",
          "dtype": "f8"
         },
         "yaxis": "y"
        },
        {
         "hovertemplate": "Invoice Date=2011-12-06<br>Invoice Number=%{x}<br>Total Sales=%{y}<extra></extra>",
         "legendgroup": "2011-12-06",
         "marker": {
          "color": "#FFA15A",
          "symbol": "circle"
         },
         "mode": "markers",
         "name": "2011-12-06",
         "showlegend": true,
         "type": "scattergl",
         "x": {
          "bdata": "fdwIAH/cCACB3AgAgtwIAIbcCACI3AgAidwIAI7cCACT3AgAldwIAJbcCACX3AgAmNwIAJvcCACd3AgAo9wIAKTcCACm3AgAp9wIAKjcCACp3AgAqtwIAMjcCADQ3AgA09wIANTcCADW3AgA3twIAN/cCADh3AgA8NwIAPTcCAAB3QgACN0IAAndCAAK3QgAC90IAAzdCAAN3QgADt0IAA/dCAAQ3QgAEd0IABLdCAAT3QgAFN0IABXdCAAX3QgAGN0IABndCAAa3QgAG90IABzdCAAd3QgAHt0IACXdCAAm3QgAJ90IACjdCAAp3QgAKt0IACvdCAAs3QgALd0IAC7dCAAv3QgAMt0IADPdCAA03QgASd0IAEvdCABc3QgAXt0IAF/dCABg3QgAYd0IAGLdCABj3QgAZN0IAGfdCABp3QgAbN0IAG3dCABu3QgAb90IAHHdCABy3QgAdN0IAHXdCAB23QgAeN0IAHndCAB73QgAfN0IAIDdCACB3QgAhN0IAIXdCACG3QgAh90IAA==",
          "dtype": "i4"
         },
         "xaxis": "x",
         "y": {
          "bdata": "SOF6FK5HKUDNzMzMzMw0QJqZmZmZmS5A9ihcj8L1QkAAAAAAAOBlQOxRuB6F61lAAAAAAAAgYkAAAAAAAAAuQM3MzMzMzDNANDMzMzOzMUAzMzMzMzMvQM3MzMzMzDNAAAAAAAAAQUA1MzMzM7N9QJqZmZmZmU5AZmZmZmZm/j8K16NwPQorQDQzMzMzszFAAAAAAACAQECamZmZmZlOQAAAAAAAwDhACtejcD0KB0DsUbgehetZQDQzMzMzszFAuB6F61G4IkAzMzMzMzP/P5qZmZmZmRdAAAAAAAAALkBcj8L1KFwbQMzMzMzMzBNAzczMzMzME0DNzMzMzMwvQAAAAAAAADlAzczMzMzMNEDNzMzMzMwsQGZmZmZmZjdA9ihcj8L1MkCamZmZmZkXQM3MzMzMzOQ/AAAAAAAgc0AzMzMzMzP/P2ZmZmZmZjFAzczMzMzMNEAAAAAAAAAxQDQzMzMzsz1AmpmZmZmZPkBnZmZmZkZ2QGZmZmZmZv4/16NwPQpXdEAzMzMzMzMPQEjhehSuR1RAKVyPwvUoFEAVrkfhehRTQAAAAAAAgCBAAAAAAACAWUAAAAAAAAAuQEjhehSuR1FAAAAAAACAMEBmZmZmZuZVQJqZmZmZ2TFAMzMzMzOzXUAzMzMzMzMvQM3MzMzMzD9A16NwPQpXMUAAAAAAAABOQDQzMzMzs0FAzczMzMzMK0AAAAAAAIAwQPYoXI/C9dg/NDMzMzOzMUAAAAAAAIAwQDMzMzMzM+s/AAAAAAAADkCamZmZmZlOQKRwPQrXoxBAAAAAAACAWUDsUbgehesjQAAAAAAAgEZAzczMzMzMREAAAAAAAAA5QEjhehSuRzRAPQrXo3A9PkAAAAAAAAAuQClcj8L1KCRAmpmZmZmZTkCamZmZmdlHQHsUrkfhemVAZmZmZmZmJEAAAAAAAAAhQAAAAAAAACVAAAAAAAAAPkAAAAAAALBjQAAAAAAAgIZAZmZmZmZmJEAAAAAAAIAwQM3MzMzMzDNAAAAAAAAAEEBmZmZmZmYXQAAAAAAAgCBAUrgehetRDEA=",
          "dtype": "f8"
         },
         "yaxis": "y"
        },
        {
         "hovertemplate": "Invoice Date=2011-12-07<br>Invoice Number=%{x}<br>Total Sales=%{y}<extra></extra>",
         "legendgroup": "2011-12-07",
         "marker": {
          "color": "#19d3f3",
          "symbol": "circle"
         },
         "mode": "markers",
         "name": "2011-12-07",
         "showlegend": true,
         "type": "scattergl",
         "x": {
          "bdata": "it0IAIzdCACN3QgAj90IAJDdCACS3QgAk90IAJXdCACW3QgAl90IAJjdCACZ3QgAmt0IAJvdCACc3QgAnd0IAJ7dCACj3QgAqt0IAMHdCADC3QgAw90IAMjdCADM3QgA0t0IAOfdCADo3QgA6d0IAOvdCADt3QgA8N0IAPHdCADz3QgA9N0IAPbdCAD43QgA+d0IAPrdCAD73QgA/N0IAP7dCAD/3QgAAN4IAALeCAAD3ggABd4IAAbeCAAH3ggACd4IAAreCAAL3ggADN4IAA3eCAAO3ggAD94IABDeCAAR3ggAEt4IABPeCAAU3ggAFd4IABbeCAAX3ggAGN4IABreCAAb3ggAHd4IAB7eCAAr3ggALN4IAC3eCAAu3ggAL94IADDeCAAx3ggAMt4IADTeCAA13ggANt4IADneCAA93ggAQd4IAELeCABD3ggARN4IAEfeCABI3ggASt4IAEveCABM3ggA",
          "dtype": "i4"
         },
         "xaxis": "x",
         "y": {
          "bdata": "AAAAAAAALkCamZmZmZkwQHE9CtejcCxAAAAAAACAWUCamZmZmRlqQM3MzMzMTCRAZmZmZmZmJEAAAAAAAABOQDQzMzMzszFAuB6F61G4EkDNzMzMzMwzQGZmZmZm5jNA4XoUrkfhREAAAAAAAAAuQAAAAAAAYGZAMzMzMzOzLUAAAAAAAAAeQAAAAAAAADFAAAAAAAAALkBmZmZmZmY3QGZmZmZmZiRAAAAAAAAALkDWo3A9CtcLQAAAAAAAAFlAZmZmZmZmCkCkcD0K16MQQDQzMzMzMzlAAAAAAABIkkAK16NwPQorQDMzMzMzMx9AAAAAAAAAOUDNzMzMzASSQAAAAAAA+J9A9ihcj8L1SEAAAAAAAEqfQEjhehSuRzRAAAAAAAAALkAzMzMzM7MtQAAAAAAAKq5ApHA9CtejAEDNzMzMzMwzQDQzMzMzszdAZmZmZmZmJEAAAAAAAAAuQM3MzMzMzDRAZmZmZmZm7j9mZmZmZmYxQAAAAAAAAC5AAAAAAAAAOUAAAAAAAAA0QM3MzMzMrElAAAAAAAAALkD2KFyPwvUoQOF6FK5H4eo/AAAAAACAVkAAAAAAAIBJQDQzMzMzMx9AAAAAAAAAUkC4HoXrUbhCQAAAAAAAgFlAZmZmZmZmJEBmZmZmZmYZQAAAAAAAYENAAAAAAAAAJUD2KFyPwvUCQAAAAAAAgDBAAAAAAACAIEAzMzMzMzP/PzQzMzMzs0FAzczMzMzMI0AAAAAAAAAuQKRwPQrXowBAAAAAAACAMEDNzMzMzMw0QM3MzMzMzDNANDMzMzOzMUDNzMzMzMxDQJqZmZmZmQdANDMzMzOzMUAfhetRuB5LQClcj8L1KBRAAAAAAACANkCamZmZmZknQAAAAAAAgD1APgrXo3A9EkAAAAAAAIApQAAAAAAAgCZAAAAAAACASUD2KFyPwvUoQGZmZmZmZipA",
          "dtype": "f8"
         },
         "yaxis": "y"
        },
        {
         "hovertemplate": "Invoice Date=2011-12-08<br>Invoice Number=%{x}<br>Total Sales=%{y}<extra></extra>",
         "legendgroup": "2011-12-08",
         "marker": {
          "color": "#FF6692",
          "symbol": "circle"
         },
         "mode": "markers",
         "name": "2011-12-08",
         "showlegend": true,
         "type": "scattergl",
         "x": {
          "bdata": "Xt4IAF/eCABg3ggAYt4IAGTeCABl3ggAZt4IAGfeCABo3ggAad4IAGveCABu3ggAb94IAHHeCAB03ggAdd4IAHneCAB+3ggAg94IAITeCACF3ggAod4IAKXeCACr3ggAvt4IAMzeCADN3ggAz94IANXeCADW3ggA194IANjeCADh3ggA6N4IAOzeCADt3ggA7t4IAPHeCAD/3ggAAN8IAAHfCAAC3wgAA98IAATfCAAF3wgABt8IAAffCAAJ3wgAEt8IABPfCAAU3wgAFd8IABbfCAAX3wgAGN8IABnfCAAa3wgAG98IABzfCAAd3wgAH98IACLfCAAj3wgAJN8IACXfCAAm3wgAJ98IACjfCAAp3wgAKt8IACvfCAAs3wgALd8IAC/fCAAw3wgAMd8IADLfCAAz3wgANN8IADXfCAA23wgAON8IADrfCAA83wgAPd8IAD7fCABC3wgAQ98IAEXfCABI3wgASd8IAErfCABL3wgATN8IAE3fCABO3wgAT98IAFDfCABR3wgAUt8IAFPfCABV3wgAW98IAF3fCABf3wgAYN8IAGHfCABi3wgA",
          "dtype": "i4"
         },
         "xaxis": "x",
         "y": {
          "bdata": "ZmZmZmZmJEAAAAAAAABEQJqZmZmZmTdAcT0K16NwLEBmZmZmZmYxQAAAAAAAgEZANDMzMzMzT0DNzMzMzMwjQDMzMzMzMylAzczMzMzMQ0A0MzMzM7M9QAAAAAAAgDBAzczMzMzMM0DXo3A9ClcxQDQzMzMzszFAmpmZmZmZH0AAAAAAAAAuQM3MzMzMzCNAAAAAAACAMEBmZmZmZmY3QM3MzMzMzCBAKVyPwvUoREDNzMzMzMwjQAAAAAAAAEFAMzMzMzMz9z8AAAAAAIAwQAAAAAAAABRAmpmZmZmZMEDNzMzMzMw3QAAAAAAAACRAKVyPwvUoFEAAAAAAAAAuQAAAAAAAgD1AZmZmZmZm7j80MzMzM7MxQDQzMzMzMzlAmpmZmZmZLkAAAAAAAAAuQAAAAAAAwEJAZmZmZmZm+j80MzMzMzM5QClcj8L1KBRAMzMzMzPzMEBmZmZmZmY3QM3MzMzMzAZA1qNwPQrXG0AAAAAAAIAwQAAAAAAA4HBAmpmZmZmZJ0BmZmZmZmYXQAAAAAAAgFlAAAAAAAAAPkAAAAAAAIBAQJqZmZmZmS9AAAAAAACAMEDWo3A9CtcLQM3MzMzMzDBAAAAAAAAAOUAAAAAAAAAOQJqZmZmZmQdAZmZmZmamMEAzMzMzM7NRQM3MzMzMzDNAzczMzMzMF0AAAAAAAIBJQKRwPQrXoxBAAAAAAAAALkBmZmZmZuYjQAAAAAAAgFlAZmZmZmbmOEAAAAAAAAAuQDQzMzMzszFAAAAAAACIZUAAAAAAAAAuQDQzMzMzMzlANDMzMzMzH0AAAAAAAAAxQAAAAAAAAC5A16NwPQpXMUAAAAAAAMAyQJqZmZmZmTdAZmZmZmZmVEAAAAAAAAA+QDQzMzMzs1FAZmZmZmZmMUDNzMzMzMwzQDMzMzMzs1FAPQrXo3A9IkDNzMzMzMwkQDMzMzMzsy1AAAAAAAAADkAzMzMzM7MtQAAAAAAAADFAZmZmZmZmVEAAAAAAAIAwQGZmZmZmZjFA4XoUrkfhTUBmZmZmZmbuPzQzMzMzV4BAAAAAAADgkEAAAAAAAACLQAAAAAAAgEZAAAAAAAAADkDNzMzMzMwXQM3MzMzMzBBANDMzMzOzMUAzMzMzMzPrPwAAAAAAAPQ/",
          "dtype": "f8"
         },
         "yaxis": "y"
        },
        {
         "hovertemplate": "Invoice Date=2011-12-09<br>Invoice Number=%{x}<br>Total Sales=%{y}<extra></extra>",
         "legendgroup": "2011-12-09",
         "marker": {
          "color": "#B6E880",
          "symbol": "circle"
         },
         "mode": "markers",
         "name": "2011-12-09",
         "showlegend": true,
         "type": "scattergl",
         "x": {
          "bdata": "Y98IAGXfCABm3wgAZ98IAGjfCABp3wgAat8IAGvfCABt3wgAbt8IAG/fCABw3wgAcd8IAHffCAB43wgAfN8IAH3fCAB+3wgAit8IAIzfCACi3wgAvt8IAL/fCADD3wgAxN8IAMvfCADM3wgAzd8IAM7fCADP3wgA0N8IANHfCADS3wgA",
          "dtype": "i4"
         },
         "xaxis": "x",
         "y": {
          "bdata": "1qNwPQrXK0BmZmZmZmYkQGZmZmZmZjRAAAAAAACAPUAzMzMzM/NGQEjhehSuRylAAAAAAACAWUDNzMzMrJAEQTMzMzMzq4BANDMzMzOzPUDNzMzMzGx5QJqZmZmZ2WFAAAAAAAAAPkAAAAAAAOBfQD0K16NwPSJAAAAAAACAMEA9CtejcD0yQDQzMzMzMxlA4XoUrkdhQEDNzMzMzMxDQAAAAAAAAPQ/16NwPQpXfUDXo3A9CldUQJqZmZmZmU5AzczMzMzMM0BmZmZmZuZRQM3MzMzMzBNAAAAAAACAMEBmZmZmZmYxQGdmZmZmplBANDMzMzMzVkBmZmZmZmY3QDMzMzMzs1FA",
          "dtype": "f8"
         },
         "yaxis": "y"
        }
       ],
       "layout": {
        "legend": {
         "title": {
          "text": "Invoice Date"
         },
         "tracegroupgap": 0
        },
        "template": {
         "data": {
          "bar": [
           {
            "error_x": {
             "color": "#2a3f5f"
            },
            "error_y": {
             "color": "#2a3f5f"
            },
            "marker": {
             "line": {
              "color": "#E5ECF6",
              "width": 0.5
             },
             "pattern": {
              "fillmode": "overlay",
              "size": 10,
              "solidity": 0.2
             }
            },
            "type": "bar"
           }
          ],
          "barpolar": [
           {
            "marker": {
             "line": {
              "color": "#E5ECF6",
              "width": 0.5
             },
             "pattern": {
              "fillmode": "overlay",
              "size": 10,
              "solidity": 0.2
             }
            },
            "type": "barpolar"
           }
          ],
          "carpet": [
           {
            "aaxis": {
             "endlinecolor": "#2a3f5f",
             "gridcolor": "white",
             "linecolor": "white",
             "minorgridcolor": "white",
             "startlinecolor": "#2a3f5f"
            },
            "baxis": {
             "endlinecolor": "#2a3f5f",
             "gridcolor": "white",
             "linecolor": "white",
             "minorgridcolor": "white",
             "startlinecolor": "#2a3f5f"
            },
            "type": "carpet"
           }
          ],
          "choropleth": [
           {
            "colorbar": {
             "outlinewidth": 0,
             "ticks": ""
            },
            "type": "choropleth"
           }
          ],
          "contour": [
           {
            "colorbar": {
             "outlinewidth": 0,
             "ticks": ""
            },
            "colorscale": [
             [
              0,
              "#0d0887"
             ],
             [
              0.1111111111111111,
              "#46039f"
             ],
             [
              0.2222222222222222,
              "#7201a8"
             ],
             [
              0.3333333333333333,
              "#9c179e"
             ],
             [
              0.4444444444444444,
              "#bd3786"
             ],
             [
              0.5555555555555556,
              "#d8576b"
             ],
             [
              0.6666666666666666,
              "#ed7953"
             ],
             [
              0.7777777777777778,
              "#fb9f3a"
             ],
             [
              0.8888888888888888,
              "#fdca26"
             ],
             [
              1,
              "#f0f921"
             ]
            ],
            "type": "contour"
           }
          ],
          "contourcarpet": [
           {
            "colorbar": {
             "outlinewidth": 0,
             "ticks": ""
            },
            "type": "contourcarpet"
           }
          ],
          "heatmap": [
           {
            "colorbar": {
             "outlinewidth": 0,
             "ticks": ""
            },
            "colorscale": [
             [
              0,
              "#0d0887"
             ],
             [
              0.1111111111111111,
              "#46039f"
             ],
             [
              0.2222222222222222,
              "#7201a8"
             ],
             [
              0.3333333333333333,
              "#9c179e"
             ],
             [
              0.4444444444444444,
              "#bd3786"
             ],
             [
              0.5555555555555556,
              "#d8576b"
             ],
             [
              0.6666666666666666,
              "#ed7953"
             ],
             [
              0.7777777777777778,
              "#fb9f3a"
             ],
             [
              0.8888888888888888,
              "#fdca26"
             ],
             [
              1,
              "#f0f921"
             ]
            ],
            "type": "heatmap"
           }
          ],
          "histogram": [
           {
            "marker": {
             "pattern": {
              "fillmode": "overlay",
              "size": 10,
              "solidity": 0.2
             }
            },
            "type": "histogram"
           }
          ],
          "histogram2d": [
           {
            "colorbar": {
             "outlinewidth": 0,
             "ticks": ""
            },
            "colorscale": [
             [
              0,
              "#0d0887"
             ],
             [
              0.1111111111111111,
              "#46039f"
             ],
             [
              0.2222222222222222,
              "#7201a8"
             ],
             [
              0.3333333333333333,
              "#9c179e"
             ],
             [
              0.4444444444444444,
              "#bd3786"
             ],
             [
              0.5555555555555556,
              "#d8576b"
             ],
             [
              0.6666666666666666,
              "#ed7953"
             ],
             [
              0.7777777777777778,
              "#fb9f3a"
             ],
             [
              0.8888888888888888,
              "#fdca26"
             ],
             [
              1,
              "#f0f921"
             ]
            ],
            "type": "histogram2d"
           }
          ],
          "histogram2dcontour": [
           {
            "colorbar": {
             "outlinewidth": 0,
             "ticks": ""
            },
            "colorscale": [
             [
              0,
              "#0d0887"
             ],
             [
              0.1111111111111111,
              "#46039f"
             ],
             [
              0.2222222222222222,
              "#7201a8"
             ],
             [
              0.3333333333333333,
              "#9c179e"
             ],
             [
              0.4444444444444444,
              "#bd3786"
             ],
             [
              0.5555555555555556,
              "#d8576b"
             ],
             [
              0.6666666666666666,
              "#ed7953"
             ],
             [
              0.7777777777777778,
              "#fb9f3a"
             ],
             [
              0.8888888888888888,
              "#fdca26"
             ],
             [
              1,
              "#f0f921"
             ]
            ],
            "type": "histogram2dcontour"
           }
          ],
          "mesh3d": [
           {
            "colorbar": {
             "outlinewidth": 0,
             "ticks": ""
            },
            "type": "mesh3d"
           }
          ],
          "parcoords": [
           {
            "line": {
             "colorbar": {
              "outlinewidth": 0,
              "ticks": ""
             }
            },
            "type": "parcoords"
           }
          ],
          "pie": [
           {
            "automargin": true,
            "type": "pie"
           }
          ],
          "scatter": [
           {
            "fillpattern": {
             "fillmode": "overlay",
             "size": 10,
             "solidity": 0.2
            },
            "type": "scatter"
           }
          ],
          "scatter3d": [
           {
            "line": {
             "colorbar": {
              "outlinewidth": 0,
              "ticks": ""
             }
            },
            "marker": {
             "colorbar": {
              "outlinewidth": 0,
              "ticks": ""
             }
            },
            "type": "scatter3d"
           }
          ],
          "scattercarpet": [
           {
            "marker": {
             "colorbar": {
              "outlinewidth": 0,
              "ticks": ""
             }
            },
            "type": "scattercarpet"
           }
          ],
          "scattergeo": [
           {
            "marker": {
             "colorbar": {
              "outlinewidth": 0,
              "ticks": ""
             }
            },
            "type": "scattergeo"
           }
          ],
          "scattergl": [
           {
            "marker": {
             "colorbar": {
              "outlinewidth": 0,
              "ticks": ""
             }
            },
            "type": "scattergl"
           }
          ],
          "scattermap": [
           {
            "marker": {
             "colorbar": {
              "outlinewidth": 0,
              "ticks": ""
             }
            },
            "type": "scattermap"
           }
          ],
          "scattermapbox": [
           {
            "marker": {
             "colorbar": {
              "outlinewidth": 0,
              "ticks": ""
             }
            },
            "type": "scattermapbox"
           }
          ],
          "scatterpolar": [
           {
            "marker": {
             "colorbar": {
              "outlinewidth": 0,
              "ticks": ""
             }
            },
            "type": "scatterpolar"
           }
          ],
          "scatterpolargl": [
           {
            "marker": {
             "colorbar": {
              "outlinewidth": 0,
              "ticks": ""
             }
            },
            "type": "scatterpolargl"
           }
          ],
          "scatterternary": [
           {
            "marker": {
             "colorbar": {
              "outlinewidth": 0,
              "ticks": ""
             }
            },
            "type": "scatterternary"
           }
          ],
          "surface": [
           {
            "colorbar": {
             "outlinewidth": 0,
             "ticks": ""
            },
            "colorscale": [
             [
              0,
              "#0d0887"
             ],
             [
              0.1111111111111111,
              "#46039f"
             ],
             [
              0.2222222222222222,
              "#7201a8"
             ],
             [
              0.3333333333333333,
              "#9c179e"
             ],
             [
              0.4444444444444444,
              "#bd3786"
             ],
             [
              0.5555555555555556,
              "#d8576b"
             ],
             [
              0.6666666666666666,
              "#ed7953"
             ],
             [
              0.7777777777777778,
              "#fb9f3a"
             ],
             [
              0.8888888888888888,
              "#fdca26"
             ],
             [
              1,
              "#f0f921"
             ]
            ],
            "type": "surface"
           }
          ],
          "table": [
           {
            "cells": {
             "fill": {
              "color": "#EBF0F8"
             },
             "line": {
              "color": "white"
             }
            },
            "header": {
             "fill": {
              "color": "#C8D4E3"
             },
             "line": {
              "color": "white"
             }
            },
            "type": "table"
           }
          ]
         },
         "layout": {
          "annotationdefaults": {
           "arrowcolor": "#2a3f5f",
           "arrowhead": 0,
           "arrowwidth": 1
          },
          "autotypenumbers": "strict",
          "coloraxis": {
           "colorbar": {
            "outlinewidth": 0,
            "ticks": ""
           }
          },
          "colorscale": {
           "diverging": [
            [
             0,
             "#8e0152"
            ],
            [
             0.1,
             "#c51b7d"
            ],
            [
             0.2,
             "#de77ae"
            ],
            [
             0.3,
             "#f1b6da"
            ],
            [
             0.4,
             "#fde0ef"
            ],
            [
             0.5,
             "#f7f7f7"
            ],
            [
             0.6,
             "#e6f5d0"
            ],
            [
             0.7,
             "#b8e186"
            ],
            [
             0.8,
             "#7fbc41"
            ],
            [
             0.9,
             "#4d9221"
            ],
            [
             1,
             "#276419"
            ]
           ],
           "sequential": [
            [
             0,
             "#0d0887"
            ],
            [
             0.1111111111111111,
             "#46039f"
            ],
            [
             0.2222222222222222,
             "#7201a8"
            ],
            [
             0.3333333333333333,
             "#9c179e"
            ],
            [
             0.4444444444444444,
             "#bd3786"
            ],
            [
             0.5555555555555556,
             "#d8576b"
            ],
            [
             0.6666666666666666,
             "#ed7953"
            ],
            [
             0.7777777777777778,
             "#fb9f3a"
            ],
            [
             0.8888888888888888,
             "#fdca26"
            ],
            [
             1,
             "#f0f921"
            ]
           ],
           "sequentialminus": [
            [
             0,
             "#0d0887"
            ],
            [
             0.1111111111111111,
             "#46039f"
            ],
            [
             0.2222222222222222,
             "#7201a8"
            ],
            [
             0.3333333333333333,
             "#9c179e"
            ],
            [
             0.4444444444444444,
             "#bd3786"
            ],
            [
             0.5555555555555556,
             "#d8576b"
            ],
            [
             0.6666666666666666,
             "#ed7953"
            ],
            [
             0.7777777777777778,
             "#fb9f3a"
            ],
            [
             0.8888888888888888,
             "#fdca26"
            ],
            [
             1,
             "#f0f921"
            ]
           ]
          },
          "colorway": [
           "#636efa",
           "#EF553B",
           "#00cc96",
           "#ab63fa",
           "#FFA15A",
           "#19d3f3",
           "#FF6692",
           "#B6E880",
           "#FF97FF",
           "#FECB52"
          ],
          "font": {
           "color": "#2a3f5f"
          },
          "geo": {
           "bgcolor": "white",
           "lakecolor": "white",
           "landcolor": "#E5ECF6",
           "showlakes": true,
           "showland": true,
           "subunitcolor": "white"
          },
          "hoverlabel": {
           "align": "left"
          },
          "hovermode": "closest",
          "mapbox": {
           "style": "light"
          },
          "paper_bgcolor": "white",
          "plot_bgcolor": "#E5ECF6",
          "polar": {
           "angularaxis": {
            "gridcolor": "white",
            "linecolor": "white",
            "ticks": ""
           },
           "bgcolor": "#E5ECF6",
           "radialaxis": {
            "gridcolor": "white",
            "linecolor": "white",
            "ticks": ""
           }
          },
          "scene": {
           "xaxis": {
            "backgroundcolor": "#E5ECF6",
            "gridcolor": "white",
            "gridwidth": 2,
            "linecolor": "white",
            "showbackground": true,
            "ticks": "",
            "zerolinecolor": "white"
           },
           "yaxis": {
            "backgroundcolor": "#E5ECF6",
            "gridcolor": "white",
            "gridwidth": 2,
            "linecolor": "white",
            "showbackground": true,
            "ticks": "",
            "zerolinecolor": "white"
           },
           "zaxis": {
            "backgroundcolor": "#E5ECF6",
            "gridcolor": "white",
            "gridwidth": 2,
            "linecolor": "white",
            "showbackground": true,
            "ticks": "",
            "zerolinecolor": "white"
           }
          },
          "shapedefaults": {
           "line": {
            "color": "#2a3f5f"
           }
          },
          "ternary": {
           "aaxis": {
            "gridcolor": "white",
            "linecolor": "white",
            "ticks": ""
           },
           "baxis": {
            "gridcolor": "white",
            "linecolor": "white",
            "ticks": ""
           },
           "bgcolor": "#E5ECF6",
           "caxis": {
            "gridcolor": "white",
            "linecolor": "white",
            "ticks": ""
           }
          },
          "title": {
           "x": 0.05
          },
          "xaxis": {
           "automargin": true,
           "gridcolor": "white",
           "linecolor": "white",
           "ticks": "",
           "title": {
            "standoff": 15
           },
           "zerolinecolor": "white",
           "zerolinewidth": 2
          },
          "yaxis": {
           "automargin": true,
           "gridcolor": "white",
           "linecolor": "white",
           "ticks": "",
           "title": {
            "standoff": 15
           },
           "zerolinecolor": "white",
           "zerolinewidth": 2
          }
         }
        },
        "title": {
         "text": "Sales Details by Invoice"
        },
        "xaxis": {
         "anchor": "y",
         "domain": [
          0,
          1
         ],
         "title": {
          "text": "Invoice Number"
         }
        },
        "yaxis": {
         "anchor": "x",
         "domain": [
          0,
          1
         ],
         "title": {
          "text": "Total Sales"
         }
        }
       }
      }
     },
     "metadata": {},
     "output_type": "display_data"
    }
   ],
   "source": [
    "visualize_drilldown_sales_for_country('drill_down_on_particular_country.csv')"
   ]
  },
  {
   "cell_type": "markdown",
   "id": "5589b1ac-c68f-4aac-8c28-82c7a31955bc",
   "metadata": {},
   "source": [
    "## Slice on a Particular Product"
   ]
  },
  {
   "cell_type": "code",
   "execution_count": 6,
   "id": "eb295c1c-bcc2-4ef5-9d94-fd121b84d151",
   "metadata": {},
   "outputs": [],
   "source": [
    "def visualize_slice_sales_by_product_category(slice_file):\n",
    "    # Load the data from CSV file\n",
    "    slice_data = pd.read_csv(slice_file)\n",
    "\n",
    "    # Create a bar plot for total sales by product category\n",
    "    fig = px.bar(slice_data, x='Description', y='TotalSales', \n",
    "                 title='Total Sales by Product Category',\n",
    "                 labels={'TotalSales': 'Total Sales', 'Description': 'Product Category'},\n",
    "                 color='Description')\n",
    "\n",
    "    # Save the figure as a PNG file with the same name as the CSV file\n",
    "    fig.write_image(f\"{slice_file.split('.')[0]}.png\")\n",
    "    fig.show()"
   ]
  },
  {
   "cell_type": "code",
   "execution_count": 7,
   "id": "06079ae0-a8d3-474d-bf6e-d71bf825a9d4",
   "metadata": {},
   "outputs": [
    {
     "data": {
      "application/vnd.plotly.v1+json": {
       "config": {
        "plotlyServerURL": "https://plot.ly"
       },
       "data": [
        {
         "hovertemplate": "Product Category=%{x}<br>Total Sales=%{y}<extra></extra>",
         "legendgroup": "ALARM CLOCK BAKELIKE RED ",
         "marker": {
          "color": "#636efa",
          "pattern": {
           "shape": ""
          }
         },
         "name": "ALARM CLOCK BAKELIKE RED ",
         "orientation": "v",
         "showlegend": true,
         "textposition": "auto",
         "type": "bar",
         "x": [
          "ALARM CLOCK BAKELIKE RED "
         ],
         "xaxis": "x",
         "y": {
          "bdata": "AAAAAAC+ikA=",
          "dtype": "f8"
         },
         "yaxis": "y"
        }
       ],
       "layout": {
        "barmode": "relative",
        "legend": {
         "title": {
          "text": "Product Category"
         },
         "tracegroupgap": 0
        },
        "template": {
         "data": {
          "bar": [
           {
            "error_x": {
             "color": "#2a3f5f"
            },
            "error_y": {
             "color": "#2a3f5f"
            },
            "marker": {
             "line": {
              "color": "#E5ECF6",
              "width": 0.5
             },
             "pattern": {
              "fillmode": "overlay",
              "size": 10,
              "solidity": 0.2
             }
            },
            "type": "bar"
           }
          ],
          "barpolar": [
           {
            "marker": {
             "line": {
              "color": "#E5ECF6",
              "width": 0.5
             },
             "pattern": {
              "fillmode": "overlay",
              "size": 10,
              "solidity": 0.2
             }
            },
            "type": "barpolar"
           }
          ],
          "carpet": [
           {
            "aaxis": {
             "endlinecolor": "#2a3f5f",
             "gridcolor": "white",
             "linecolor": "white",
             "minorgridcolor": "white",
             "startlinecolor": "#2a3f5f"
            },
            "baxis": {
             "endlinecolor": "#2a3f5f",
             "gridcolor": "white",
             "linecolor": "white",
             "minorgridcolor": "white",
             "startlinecolor": "#2a3f5f"
            },
            "type": "carpet"
           }
          ],
          "choropleth": [
           {
            "colorbar": {
             "outlinewidth": 0,
             "ticks": ""
            },
            "type": "choropleth"
           }
          ],
          "contour": [
           {
            "colorbar": {
             "outlinewidth": 0,
             "ticks": ""
            },
            "colorscale": [
             [
              0,
              "#0d0887"
             ],
             [
              0.1111111111111111,
              "#46039f"
             ],
             [
              0.2222222222222222,
              "#7201a8"
             ],
             [
              0.3333333333333333,
              "#9c179e"
             ],
             [
              0.4444444444444444,
              "#bd3786"
             ],
             [
              0.5555555555555556,
              "#d8576b"
             ],
             [
              0.6666666666666666,
              "#ed7953"
             ],
             [
              0.7777777777777778,
              "#fb9f3a"
             ],
             [
              0.8888888888888888,
              "#fdca26"
             ],
             [
              1,
              "#f0f921"
             ]
            ],
            "type": "contour"
           }
          ],
          "contourcarpet": [
           {
            "colorbar": {
             "outlinewidth": 0,
             "ticks": ""
            },
            "type": "contourcarpet"
           }
          ],
          "heatmap": [
           {
            "colorbar": {
             "outlinewidth": 0,
             "ticks": ""
            },
            "colorscale": [
             [
              0,
              "#0d0887"
             ],
             [
              0.1111111111111111,
              "#46039f"
             ],
             [
              0.2222222222222222,
              "#7201a8"
             ],
             [
              0.3333333333333333,
              "#9c179e"
             ],
             [
              0.4444444444444444,
              "#bd3786"
             ],
             [
              0.5555555555555556,
              "#d8576b"
             ],
             [
              0.6666666666666666,
              "#ed7953"
             ],
             [
              0.7777777777777778,
              "#fb9f3a"
             ],
             [
              0.8888888888888888,
              "#fdca26"
             ],
             [
              1,
              "#f0f921"
             ]
            ],
            "type": "heatmap"
           }
          ],
          "histogram": [
           {
            "marker": {
             "pattern": {
              "fillmode": "overlay",
              "size": 10,
              "solidity": 0.2
             }
            },
            "type": "histogram"
           }
          ],
          "histogram2d": [
           {
            "colorbar": {
             "outlinewidth": 0,
             "ticks": ""
            },
            "colorscale": [
             [
              0,
              "#0d0887"
             ],
             [
              0.1111111111111111,
              "#46039f"
             ],
             [
              0.2222222222222222,
              "#7201a8"
             ],
             [
              0.3333333333333333,
              "#9c179e"
             ],
             [
              0.4444444444444444,
              "#bd3786"
             ],
             [
              0.5555555555555556,
              "#d8576b"
             ],
             [
              0.6666666666666666,
              "#ed7953"
             ],
             [
              0.7777777777777778,
              "#fb9f3a"
             ],
             [
              0.8888888888888888,
              "#fdca26"
             ],
             [
              1,
              "#f0f921"
             ]
            ],
            "type": "histogram2d"
           }
          ],
          "histogram2dcontour": [
           {
            "colorbar": {
             "outlinewidth": 0,
             "ticks": ""
            },
            "colorscale": [
             [
              0,
              "#0d0887"
             ],
             [
              0.1111111111111111,
              "#46039f"
             ],
             [
              0.2222222222222222,
              "#7201a8"
             ],
             [
              0.3333333333333333,
              "#9c179e"
             ],
             [
              0.4444444444444444,
              "#bd3786"
             ],
             [
              0.5555555555555556,
              "#d8576b"
             ],
             [
              0.6666666666666666,
              "#ed7953"
             ],
             [
              0.7777777777777778,
              "#fb9f3a"
             ],
             [
              0.8888888888888888,
              "#fdca26"
             ],
             [
              1,
              "#f0f921"
             ]
            ],
            "type": "histogram2dcontour"
           }
          ],
          "mesh3d": [
           {
            "colorbar": {
             "outlinewidth": 0,
             "ticks": ""
            },
            "type": "mesh3d"
           }
          ],
          "parcoords": [
           {
            "line": {
             "colorbar": {
              "outlinewidth": 0,
              "ticks": ""
             }
            },
            "type": "parcoords"
           }
          ],
          "pie": [
           {
            "automargin": true,
            "type": "pie"
           }
          ],
          "scatter": [
           {
            "fillpattern": {
             "fillmode": "overlay",
             "size": 10,
             "solidity": 0.2
            },
            "type": "scatter"
           }
          ],
          "scatter3d": [
           {
            "line": {
             "colorbar": {
              "outlinewidth": 0,
              "ticks": ""
             }
            },
            "marker": {
             "colorbar": {
              "outlinewidth": 0,
              "ticks": ""
             }
            },
            "type": "scatter3d"
           }
          ],
          "scattercarpet": [
           {
            "marker": {
             "colorbar": {
              "outlinewidth": 0,
              "ticks": ""
             }
            },
            "type": "scattercarpet"
           }
          ],
          "scattergeo": [
           {
            "marker": {
             "colorbar": {
              "outlinewidth": 0,
              "ticks": ""
             }
            },
            "type": "scattergeo"
           }
          ],
          "scattergl": [
           {
            "marker": {
             "colorbar": {
              "outlinewidth": 0,
              "ticks": ""
             }
            },
            "type": "scattergl"
           }
          ],
          "scattermap": [
           {
            "marker": {
             "colorbar": {
              "outlinewidth": 0,
              "ticks": ""
             }
            },
            "type": "scattermap"
           }
          ],
          "scattermapbox": [
           {
            "marker": {
             "colorbar": {
              "outlinewidth": 0,
              "ticks": ""
             }
            },
            "type": "scattermapbox"
           }
          ],
          "scatterpolar": [
           {
            "marker": {
             "colorbar": {
              "outlinewidth": 0,
              "ticks": ""
             }
            },
            "type": "scatterpolar"
           }
          ],
          "scatterpolargl": [
           {
            "marker": {
             "colorbar": {
              "outlinewidth": 0,
              "ticks": ""
             }
            },
            "type": "scatterpolargl"
           }
          ],
          "scatterternary": [
           {
            "marker": {
             "colorbar": {
              "outlinewidth": 0,
              "ticks": ""
             }
            },
            "type": "scatterternary"
           }
          ],
          "surface": [
           {
            "colorbar": {
             "outlinewidth": 0,
             "ticks": ""
            },
            "colorscale": [
             [
              0,
              "#0d0887"
             ],
             [
              0.1111111111111111,
              "#46039f"
             ],
             [
              0.2222222222222222,
              "#7201a8"
             ],
             [
              0.3333333333333333,
              "#9c179e"
             ],
             [
              0.4444444444444444,
              "#bd3786"
             ],
             [
              0.5555555555555556,
              "#d8576b"
             ],
             [
              0.6666666666666666,
              "#ed7953"
             ],
             [
              0.7777777777777778,
              "#fb9f3a"
             ],
             [
              0.8888888888888888,
              "#fdca26"
             ],
             [
              1,
              "#f0f921"
             ]
            ],
            "type": "surface"
           }
          ],
          "table": [
           {
            "cells": {
             "fill": {
              "color": "#EBF0F8"
             },
             "line": {
              "color": "white"
             }
            },
            "header": {
             "fill": {
              "color": "#C8D4E3"
             },
             "line": {
              "color": "white"
             }
            },
            "type": "table"
           }
          ]
         },
         "layout": {
          "annotationdefaults": {
           "arrowcolor": "#2a3f5f",
           "arrowhead": 0,
           "arrowwidth": 1
          },
          "autotypenumbers": "strict",
          "coloraxis": {
           "colorbar": {
            "outlinewidth": 0,
            "ticks": ""
           }
          },
          "colorscale": {
           "diverging": [
            [
             0,
             "#8e0152"
            ],
            [
             0.1,
             "#c51b7d"
            ],
            [
             0.2,
             "#de77ae"
            ],
            [
             0.3,
             "#f1b6da"
            ],
            [
             0.4,
             "#fde0ef"
            ],
            [
             0.5,
             "#f7f7f7"
            ],
            [
             0.6,
             "#e6f5d0"
            ],
            [
             0.7,
             "#b8e186"
            ],
            [
             0.8,
             "#7fbc41"
            ],
            [
             0.9,
             "#4d9221"
            ],
            [
             1,
             "#276419"
            ]
           ],
           "sequential": [
            [
             0,
             "#0d0887"
            ],
            [
             0.1111111111111111,
             "#46039f"
            ],
            [
             0.2222222222222222,
             "#7201a8"
            ],
            [
             0.3333333333333333,
             "#9c179e"
            ],
            [
             0.4444444444444444,
             "#bd3786"
            ],
            [
             0.5555555555555556,
             "#d8576b"
            ],
            [
             0.6666666666666666,
             "#ed7953"
            ],
            [
             0.7777777777777778,
             "#fb9f3a"
            ],
            [
             0.8888888888888888,
             "#fdca26"
            ],
            [
             1,
             "#f0f921"
            ]
           ],
           "sequentialminus": [
            [
             0,
             "#0d0887"
            ],
            [
             0.1111111111111111,
             "#46039f"
            ],
            [
             0.2222222222222222,
             "#7201a8"
            ],
            [
             0.3333333333333333,
             "#9c179e"
            ],
            [
             0.4444444444444444,
             "#bd3786"
            ],
            [
             0.5555555555555556,
             "#d8576b"
            ],
            [
             0.6666666666666666,
             "#ed7953"
            ],
            [
             0.7777777777777778,
             "#fb9f3a"
            ],
            [
             0.8888888888888888,
             "#fdca26"
            ],
            [
             1,
             "#f0f921"
            ]
           ]
          },
          "colorway": [
           "#636efa",
           "#EF553B",
           "#00cc96",
           "#ab63fa",
           "#FFA15A",
           "#19d3f3",
           "#FF6692",
           "#B6E880",
           "#FF97FF",
           "#FECB52"
          ],
          "font": {
           "color": "#2a3f5f"
          },
          "geo": {
           "bgcolor": "white",
           "lakecolor": "white",
           "landcolor": "#E5ECF6",
           "showlakes": true,
           "showland": true,
           "subunitcolor": "white"
          },
          "hoverlabel": {
           "align": "left"
          },
          "hovermode": "closest",
          "mapbox": {
           "style": "light"
          },
          "paper_bgcolor": "white",
          "plot_bgcolor": "#E5ECF6",
          "polar": {
           "angularaxis": {
            "gridcolor": "white",
            "linecolor": "white",
            "ticks": ""
           },
           "bgcolor": "#E5ECF6",
           "radialaxis": {
            "gridcolor": "white",
            "linecolor": "white",
            "ticks": ""
           }
          },
          "scene": {
           "xaxis": {
            "backgroundcolor": "#E5ECF6",
            "gridcolor": "white",
            "gridwidth": 2,
            "linecolor": "white",
            "showbackground": true,
            "ticks": "",
            "zerolinecolor": "white"
           },
           "yaxis": {
            "backgroundcolor": "#E5ECF6",
            "gridcolor": "white",
            "gridwidth": 2,
            "linecolor": "white",
            "showbackground": true,
            "ticks": "",
            "zerolinecolor": "white"
           },
           "zaxis": {
            "backgroundcolor": "#E5ECF6",
            "gridcolor": "white",
            "gridwidth": 2,
            "linecolor": "white",
            "showbackground": true,
            "ticks": "",
            "zerolinecolor": "white"
           }
          },
          "shapedefaults": {
           "line": {
            "color": "#2a3f5f"
           }
          },
          "ternary": {
           "aaxis": {
            "gridcolor": "white",
            "linecolor": "white",
            "ticks": ""
           },
           "baxis": {
            "gridcolor": "white",
            "linecolor": "white",
            "ticks": ""
           },
           "bgcolor": "#E5ECF6",
           "caxis": {
            "gridcolor": "white",
            "linecolor": "white",
            "ticks": ""
           }
          },
          "title": {
           "x": 0.05
          },
          "xaxis": {
           "automargin": true,
           "gridcolor": "white",
           "linecolor": "white",
           "ticks": "",
           "title": {
            "standoff": 15
           },
           "zerolinecolor": "white",
           "zerolinewidth": 2
          },
          "yaxis": {
           "automargin": true,
           "gridcolor": "white",
           "linecolor": "white",
           "ticks": "",
           "title": {
            "standoff": 15
           },
           "zerolinecolor": "white",
           "zerolinewidth": 2
          }
         }
        },
        "title": {
         "text": "Total Sales by Product Category"
        },
        "xaxis": {
         "anchor": "y",
         "categoryarray": [
          "ALARM CLOCK BAKELIKE RED "
         ],
         "categoryorder": "array",
         "domain": [
          0,
          1
         ],
         "title": {
          "text": "Product Category"
         }
        },
        "yaxis": {
         "anchor": "x",
         "domain": [
          0,
          1
         ],
         "title": {
          "text": "Total Sales"
         }
        }
       }
      }
     },
     "metadata": {},
     "output_type": "display_data"
    }
   ],
   "source": [
    "visualize_slice_sales_by_product_category('slice_on_a_particular_product.csv')"
   ]
  }
 ],
 "metadata": {
  "kernelspec": {
   "display_name": "Python 3 (ipykernel)",
   "language": "python",
   "name": "python3"
  },
  "language_info": {
   "codemirror_mode": {
    "name": "ipython",
    "version": 3
   },
   "file_extension": ".py",
   "mimetype": "text/x-python",
   "name": "python",
   "nbconvert_exporter": "python",
   "pygments_lexer": "ipython3",
   "version": "3.13.5"
  }
 },
 "nbformat": 4,
 "nbformat_minor": 5
}
