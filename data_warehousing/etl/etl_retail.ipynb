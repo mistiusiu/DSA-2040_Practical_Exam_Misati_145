{
 "cells": [
  {
   "cell_type": "markdown",
   "id": "ac42d6fe",
   "metadata": {},
   "source": [
    "# ETL"
   ]
  },
  {
   "cell_type": "markdown",
   "id": "59c35263",
   "metadata": {},
   "source": [
    "## Modules"
   ]
  },
  {
   "cell_type": "code",
   "execution_count": 17,
   "id": "35484934",
   "metadata": {
    "vscode": {
     "languageId": "plaintext"
    }
   },
   "outputs": [],
   "source": [
    "import pandas as pd\n",
    "from datetime import datetime, timedelta"
   ]
  },
  {
   "cell_type": "markdown",
   "id": "c21fa299",
   "metadata": {},
   "source": [
    "## Data Extraction"
   ]
  },
  {
   "cell_type": "markdown",
   "id": "36e4fb72-01a8-4b01-8f3e-1ff069e532db",
   "metadata": {},
   "source": [
    "### Data Loading"
   ]
  },
  {
   "cell_type": "code",
   "execution_count": 14,
   "id": "c2b298be",
   "metadata": {
    "vscode": {
     "languageId": "plaintext"
    }
   },
   "outputs": [],
   "source": [
    "def load_xlsx_data(file):\n",
    "    df = pd.read_excel(file)\n",
    "\n",
    "    return df"
   ]
  },
  {
   "cell_type": "markdown",
   "id": "386ea4fd-ec3a-48ee-8058-2e3195a0c7e8",
   "metadata": {},
   "source": [
    "### Data Cleaning"
   ]
  },
  {
   "cell_type": "code",
   "execution_count": 4,
   "id": "336df6a9-db2a-465d-a5ba-3899db822ed6",
   "metadata": {},
   "outputs": [],
   "source": [
    "def check_null_values(df):\n",
    "    df.is_null().sum()\n",
    "    null_counts = null_counts[null_counts > 0]\n",
    "    \n",
    "    if null_counts.empty:\n",
    "        print(\"✅ No null values found in the dataframe.\")\n",
    "    else:\n",
    "        print(\"⚠️ Columns with null values:\")\n",
    "        for col, count in null_counts.items():\n",
    "            print(f\"{col}: {count}\")"
   ]
  },
  {
   "cell_type": "code",
   "execution_count": null,
   "id": "523dcdc1-628b-477f-91b1-4bac435d7fc6",
   "metadata": {},
   "outputs": [],
   "source": [
    "def check_duplicates(df):\n",
    "    "
   ]
  },
  {
   "cell_type": "code",
   "execution_count": 5,
   "id": "6a1596f9-a3ab-49c4-bca8-012b566939d1",
   "metadata": {},
   "outputs": [],
   "source": [
    "def remove_outliers(df):\n",
    "    df = df.copy()\n",
    "    \n",
    "    df = df[(df[\"Quantity\"] >= 0) & (df[\"UnitPrice\"] > 0)]\n",
    "\n",
    "    return df"
   ]
  },
  {
   "cell_type": "code",
   "execution_count": 6,
   "id": "e2230ba0-1bf0-4aba-acb1-c29df8a4b0d4",
   "metadata": {},
   "outputs": [],
   "source": [
    "def filter_last_year(df):\n",
    "    df = df.copy()\n",
    "\n",
    "    current_date = datetime(2025, 8, 12)\n",
    "    one_year_ago = current_date - timedelta(365)\n",
    "\n",
    "    df = df[df[\"InvoiceDate\"] >= one_year_ago]"
   ]
  },
  {
   "cell_type": "code",
   "execution_count": null,
   "id": "e318da2f-bd5f-437d-8d4f-dc427a667e9d",
   "metadata": {},
   "outputs": [],
   "source": [
    "# In the main function for the full ETL have a manual conversion of\n",
    "# columns and their respective data types"
   ]
  },
  {
   "cell_type": "markdown",
   "id": "1c5fa09e-a9de-4f2e-a695-53f391327036",
   "metadata": {},
   "source": [
    "### Data Enrichment"
   ]
  },
  {
   "cell_type": "code",
   "execution_count": 7,
   "id": "0bafbffb-a52a-4efb-8b3c-02b810c00481",
   "metadata": {},
   "outputs": [],
   "source": [
    "def create_total_sales(df):\n",
    "    df = df.copy()\n",
    "    df['TotalSales'] = df['Quantity'] * df['UnitPrice']\n",
    "\n",
    "    return df"
   ]
  },
  {
   "cell_type": "code",
   "execution_count": 8,
   "id": "cfea058b-3f8f-4398-a3dd-bf7108b5b3bd",
   "metadata": {},
   "outputs": [],
   "source": [
    "def group_by_customer(df):\n",
    "    df = df.copy()\n",
    "\n",
    "    df = df.groupby(\"CustomerID\").reset_index()"
   ]
  },
  {
   "cell_type": "markdown",
   "id": "a8e50a93-52f3-4df8-b06a-9cf284899a14",
   "metadata": {},
   "source": [
    "## ETL Pipeline"
   ]
  },
  {
   "cell_type": "code",
   "execution_count": 24,
   "id": "f1725aa2-0663-4dd2-9a41-ce0639818f81",
   "metadata": {},
   "outputs": [],
   "source": [
    "def etl_pipeline():\n",
    "    raw_df = load_xlsx_data(\"../../data/raw/Online Retail.xlsx\")\n",
    "\n",
    "    return raw_df"
   ]
  },
  {
   "cell_type": "code",
   "execution_count": 25,
   "id": "b31b6bb3-a19b-4f3b-9e47-8270b305848a",
   "metadata": {},
   "outputs": [],
   "source": [
    "etl_df = etl_pipeline()"
   ]
  },
  {
   "cell_type": "code",
   "execution_count": 27,
   "id": "dd3f1dd5-eb5d-491a-8e25-4dcb5e82d35d",
   "metadata": {},
   "outputs": [],
   "source": [
    "etl_df[\"InvoiceNo\"] = etl_df[\"InvoiceNo\"].astype(str)\n",
    "etl_df[\"StockCode\"] = etl_df[\"StockCode\"].astype(str)\n",
    "etl_df[\"Description\"] = etl_df[\"Description\"].astype(str)\n",
    "etl_df[\"Quantity\"] = pd.to_numeric(etl_df[\"Quantity\"], errors=\"coerce\").astype(\"Int64\")  # allows NaN\n",
    "etl_df[\"InvoiceDate\"] = pd.to_datetime(etl_df[\"InvoiceDate\"], errors=\"coerce\")\n",
    "etl_df[\"UnitPrice\"] = pd.to_numeric(etl_df[\"UnitPrice\"], errors=\"coerce\").astype(float)\n",
    "etl_df[\"CustomerID\"] = etl_df[\"CustomerID\"].astype(str)\n",
    "etl_df[\"Country\"] = etl_df[\"Country\"].astype(str)"
   ]
  },
  {
   "cell_type": "code",
   "execution_count": 29,
   "id": "5dc85cf6-2880-4436-aad2-db1c9841676c",
   "metadata": {},
   "outputs": [],
   "source": [
    "sales_df = create_total_sales(etl_df)"
   ]
  },
  {
   "cell_type": "code",
   "execution_count": 30,
   "id": "3fe43a44-86e0-4b32-a71f-8a0aaccce096",
   "metadata": {},
   "outputs": [
    {
     "data": {
      "text/plain": [
       "InvoiceNo              object\n",
       "StockCode              object\n",
       "Description            object\n",
       "Quantity                Int64\n",
       "InvoiceDate    datetime64[ns]\n",
       "UnitPrice             float64\n",
       "CustomerID             object\n",
       "Country                object\n",
       "TotalSales            Float64\n",
       "dtype: object"
      ]
     },
     "execution_count": 30,
     "metadata": {},
     "output_type": "execute_result"
    }
   ],
   "source": [
    "sales_df.dtypes"
   ]
  },
  {
   "cell_type": "code",
   "execution_count": 26,
   "id": "99996bf6-4115-4732-ba4a-3cdf0a0c3030",
   "metadata": {},
   "outputs": [
    {
     "data": {
      "text/html": [
       "<div>\n",
       "<style scoped>\n",
       "    .dataframe tbody tr th:only-of-type {\n",
       "        vertical-align: middle;\n",
       "    }\n",
       "\n",
       "    .dataframe tbody tr th {\n",
       "        vertical-align: top;\n",
       "    }\n",
       "\n",
       "    .dataframe thead th {\n",
       "        text-align: right;\n",
       "    }\n",
       "</style>\n",
       "<table border=\"1\" class=\"dataframe\">\n",
       "  <thead>\n",
       "    <tr style=\"text-align: right;\">\n",
       "      <th></th>\n",
       "      <th>InvoiceNo</th>\n",
       "      <th>StockCode</th>\n",
       "      <th>Description</th>\n",
       "      <th>Quantity</th>\n",
       "      <th>InvoiceDate</th>\n",
       "      <th>UnitPrice</th>\n",
       "      <th>CustomerID</th>\n",
       "      <th>Country</th>\n",
       "    </tr>\n",
       "  </thead>\n",
       "  <tbody>\n",
       "    <tr>\n",
       "      <th>0</th>\n",
       "      <td>536365</td>\n",
       "      <td>85123A</td>\n",
       "      <td>WHITE HANGING HEART T-LIGHT HOLDER</td>\n",
       "      <td>6</td>\n",
       "      <td>2010-12-01 08:26:00</td>\n",
       "      <td>2.55</td>\n",
       "      <td>17850.0</td>\n",
       "      <td>United Kingdom</td>\n",
       "    </tr>\n",
       "    <tr>\n",
       "      <th>1</th>\n",
       "      <td>536365</td>\n",
       "      <td>71053</td>\n",
       "      <td>WHITE METAL LANTERN</td>\n",
       "      <td>6</td>\n",
       "      <td>2010-12-01 08:26:00</td>\n",
       "      <td>3.39</td>\n",
       "      <td>17850.0</td>\n",
       "      <td>United Kingdom</td>\n",
       "    </tr>\n",
       "    <tr>\n",
       "      <th>2</th>\n",
       "      <td>536365</td>\n",
       "      <td>84406B</td>\n",
       "      <td>CREAM CUPID HEARTS COAT HANGER</td>\n",
       "      <td>8</td>\n",
       "      <td>2010-12-01 08:26:00</td>\n",
       "      <td>2.75</td>\n",
       "      <td>17850.0</td>\n",
       "      <td>United Kingdom</td>\n",
       "    </tr>\n",
       "    <tr>\n",
       "      <th>3</th>\n",
       "      <td>536365</td>\n",
       "      <td>84029G</td>\n",
       "      <td>KNITTED UNION FLAG HOT WATER BOTTLE</td>\n",
       "      <td>6</td>\n",
       "      <td>2010-12-01 08:26:00</td>\n",
       "      <td>3.39</td>\n",
       "      <td>17850.0</td>\n",
       "      <td>United Kingdom</td>\n",
       "    </tr>\n",
       "    <tr>\n",
       "      <th>4</th>\n",
       "      <td>536365</td>\n",
       "      <td>84029E</td>\n",
       "      <td>RED WOOLLY HOTTIE WHITE HEART.</td>\n",
       "      <td>6</td>\n",
       "      <td>2010-12-01 08:26:00</td>\n",
       "      <td>3.39</td>\n",
       "      <td>17850.0</td>\n",
       "      <td>United Kingdom</td>\n",
       "    </tr>\n",
       "  </tbody>\n",
       "</table>\n",
       "</div>"
      ],
      "text/plain": [
       "  InvoiceNo StockCode                          Description  Quantity  \\\n",
       "0    536365    85123A   WHITE HANGING HEART T-LIGHT HOLDER         6   \n",
       "1    536365     71053                  WHITE METAL LANTERN         6   \n",
       "2    536365    84406B       CREAM CUPID HEARTS COAT HANGER         8   \n",
       "3    536365    84029G  KNITTED UNION FLAG HOT WATER BOTTLE         6   \n",
       "4    536365    84029E       RED WOOLLY HOTTIE WHITE HEART.         6   \n",
       "\n",
       "          InvoiceDate  UnitPrice  CustomerID         Country  \n",
       "0 2010-12-01 08:26:00       2.55     17850.0  United Kingdom  \n",
       "1 2010-12-01 08:26:00       3.39     17850.0  United Kingdom  \n",
       "2 2010-12-01 08:26:00       2.75     17850.0  United Kingdom  \n",
       "3 2010-12-01 08:26:00       3.39     17850.0  United Kingdom  \n",
       "4 2010-12-01 08:26:00       3.39     17850.0  United Kingdom  "
      ]
     },
     "execution_count": 26,
     "metadata": {},
     "output_type": "execute_result"
    }
   ],
   "source": [
    "etl_df.head(5)"
   ]
  }
 ],
 "metadata": {
  "kernelspec": {
   "display_name": "Python 3 (ipykernel)",
   "language": "python",
   "name": "python3"
  },
  "language_info": {
   "codemirror_mode": {
    "name": "ipython",
    "version": 3
   },
   "file_extension": ".py",
   "mimetype": "text/x-python",
   "name": "python",
   "nbconvert_exporter": "python",
   "pygments_lexer": "ipython3",
   "version": "3.12.3"
  }
 },
 "nbformat": 4,
 "nbformat_minor": 5
}
