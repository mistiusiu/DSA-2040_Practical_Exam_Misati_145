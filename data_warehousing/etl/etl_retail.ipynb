{
 "cells": [
  {
   "cell_type": "markdown",
   "id": "ac42d6fe",
   "metadata": {},
   "source": [
    "# ETL"
   ]
  }
 ],
 "metadata": {
  "language_info": {
   "name": "python"
  }
 },
 "nbformat": 4,
 "nbformat_minor": 5
}
