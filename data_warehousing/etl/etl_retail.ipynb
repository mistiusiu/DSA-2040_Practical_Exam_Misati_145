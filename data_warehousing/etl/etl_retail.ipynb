{
 "cells": [
  {
   "cell_type": "markdown",
   "id": "ac42d6fe",
   "metadata": {},
   "source": [
    "# ETL"
   ]
  },
  {
   "cell_type": "markdown",
   "id": "59c35263",
   "metadata": {},
   "source": [
    "## Modules"
   ]
  },
  {
   "cell_type": "code",
   "execution_count": 1,
   "id": "35484934",
   "metadata": {
    "vscode": {
     "languageId": "plaintext"
    }
   },
   "outputs": [],
   "source": [
    "import pandas as pd\n",
    "from datetime import datetime, timedelta"
   ]
  },
  {
   "cell_type": "markdown",
   "id": "c21fa299",
   "metadata": {},
   "source": [
    "## Data Extraction"
   ]
  },
  {
   "cell_type": "markdown",
   "id": "b33d8d96-3cd9-4e7f-9567-37f95b6d9e5f",
   "metadata": {},
   "source": [
    "### DataFrame Logging"
   ]
  },
  {
   "cell_type": "code",
   "execution_count": 2,
   "id": "e2e3777b-a3ac-4615-8cb1-d6029e583695",
   "metadata": {},
   "outputs": [],
   "source": [
    "def row_logger(df, stage_name):\n",
    "    print(f\"Stage: {stage_name} | Rows: {len(df)}\")"
   ]
  },
  {
   "cell_type": "markdown",
   "id": "36e4fb72-01a8-4b01-8f3e-1ff069e532db",
   "metadata": {},
   "source": [
    "### Data Loading"
   ]
  },
  {
   "cell_type": "code",
   "execution_count": 3,
   "id": "c2b298be",
   "metadata": {
    "vscode": {
     "languageId": "plaintext"
    }
   },
   "outputs": [],
   "source": [
    "def load_xlsx_data(file):\n",
    "    df = pd.read_excel(file)\n",
    "\n",
    "    return df"
   ]
  },
  {
   "cell_type": "markdown",
   "id": "386ea4fd-ec3a-48ee-8058-2e3195a0c7e8",
   "metadata": {},
   "source": [
    "### Data Cleaning"
   ]
  },
  {
   "cell_type": "code",
   "execution_count": 14,
   "id": "336df6a9-db2a-465d-a5ba-3899db822ed6",
   "metadata": {},
   "outputs": [],
   "source": [
    "def check_null_values(df):\n",
    "    null_counts = df.isnull().sum()\n",
    "    null_counts = null_counts[null_counts > 0]\n",
    "    \n",
    "    if null_counts.empty:\n",
    "        print(\"No null values found in the dataframe.\")\n",
    "        return False\n",
    "    else:\n",
    "        print(\"Columns with null values:\")\n",
    "        for col, count in null_counts.items():\n",
    "            print(f\"{col}: {count}\")\n",
    "        return True"
   ]
  },
  {
   "cell_type": "code",
   "execution_count": 5,
   "id": "523dcdc1-628b-477f-91b1-4bac435d7fc6",
   "metadata": {},
   "outputs": [],
   "source": [
    "def check_duplicates(df):\n",
    "    duplicates = df.duplicated()\n",
    "    \n",
    "    if duplicates.any():\n",
    "        print(\"Duplicates found!\")\n",
    "        return True\n",
    "    else:\n",
    "        print(\"No duplicates found.\")\n",
    "        return False"
   ]
  },
  {
   "cell_type": "code",
   "execution_count": 6,
   "id": "562518ed-4ce5-4e7f-9ac3-bdce89387d13",
   "metadata": {},
   "outputs": [],
   "source": [
    "def drop_duplicates(df):\n",
    "    row_logger(df, \"Before dropping duplicates\")\n",
    "    \n",
    "    df_cleaned = df.drop_duplicates()\n",
    "    \n",
    "    row_logger(df_cleaned, \"After dropping duplicates\")\n",
    "    \n",
    "    return df_cleaned"
   ]
  },
  {
   "cell_type": "code",
   "execution_count": 7,
   "id": "6a1596f9-a3ab-49c4-bca8-012b566939d1",
   "metadata": {},
   "outputs": [],
   "source": [
    "def remove_outliers(df):\n",
    "    row_logger(df, \"Before removing outliers\")\n",
    "    \n",
    "    outliers = df.copy()\n",
    "    \n",
    "    outliers = outliers[(outliers[\"Quantity\"] >= 0) & (outliers[\"UnitPrice\"] > 0)]\n",
    "\n",
    "    row_logger(outliers, \"After removing outliers\")\n",
    "\n",
    "    return outliers"
   ]
  },
  {
   "cell_type": "code",
   "execution_count": 20,
   "id": "212720c4-6fbd-4c84-98bb-39844ba22324",
   "metadata": {},
   "outputs": [],
   "source": [
    "def datatype_conversion(df):\n",
    "    row_logger(df, \"Before datatype conversion\")\n",
    "    \n",
    "    converted = df.copy()\n",
    "\n",
    "    print(f\"These are the columns to convert:\\n\")\n",
    "    print(converted.columns.to_list())\n",
    "\n",
    "    converted[\"InvoiceNo\"] = converted[\"InvoiceNo\"].astype(str)\n",
    "    converted[\"StockCode\"] = converted[\"StockCode\"].astype(str)\n",
    "    converted[\"Description\"] = converted[\"Description\"].astype(str)\n",
    "    converted[\"Quantity\"] = pd.to_numeric(converted[\"Quantity\"], errors=\"coerce\").astype(\"Int64\")  # allows NaN\n",
    "    converted[\"InvoiceDate\"] = pd.to_datetime(converted[\"InvoiceDate\"], errors=\"coerce\")\n",
    "    converted[\"UnitPrice\"] = pd.to_numeric(converted[\"UnitPrice\"], errors=\"coerce\").astype(float)\n",
    "    converted[\"CustomerID\"] = converted[\"CustomerID\"].astype(str)\n",
    "    converted[\"Country\"] = converted[\"Country\"].astype(str)\n",
    "\n",
    "    print(converted.dtypes)\n",
    "\n",
    "    row_logger(converted, \"After datatype conversion\")\n",
    "\n",
    "    return converted"
   ]
  },
  {
   "cell_type": "markdown",
   "id": "1c5fa09e-a9de-4f2e-a695-53f391327036",
   "metadata": {},
   "source": [
    "### Data Enrichment"
   ]
  },
  {
   "cell_type": "code",
   "execution_count": 9,
   "id": "0bafbffb-a52a-4efb-8b3c-02b810c00481",
   "metadata": {},
   "outputs": [],
   "source": [
    "def create_total_sales(df):\n",
    "    row_logger(df, \"Before creating TotalSales column\")\n",
    "    \n",
    "    total_sales = df.copy()\n",
    "    total_sales['TotalSales'] = total_sales['Quantity'] * total_sales['UnitPrice']\n",
    "\n",
    "    row_logger(total_sales, \"After creating TotalSales column\")\n",
    "\n",
    "    return total_sales"
   ]
  },
  {
   "cell_type": "code",
   "execution_count": 17,
   "id": "e2230ba0-1bf0-4aba-acb1-c29df8a4b0d4",
   "metadata": {},
   "outputs": [],
   "source": [
    "def filter_last_year(df):\n",
    "    row_logger(df, \"Before filtering to the last year sales\")\n",
    "    \n",
    "    latest_date = df['InvoiceDate'].max()\n",
    "    one_year_ago = latest_date - timedelta(days=365)\n",
    "    \n",
    "    filtered = df[df[\"InvoiceDate\"] >= one_year_ago]\n",
    "\n",
    "    row_logger(filtered, \"After filtering to the last year sales\")\n",
    "    \n",
    "    return filtered"
   ]
  },
  {
   "cell_type": "code",
   "execution_count": 22,
   "id": "cfea058b-3f8f-4398-a3dd-bf7108b5b3bd",
   "metadata": {},
   "outputs": [],
   "source": [
    "def aggregate_customer_summary(df):\n",
    "    if 'CustomerID' not in df or 'TotalSales' not in df or 'Quantity' not in df or 'InvoiceDate' not in df:\n",
    "        raise ValueError(\"The DataFrame must contain 'CustomerID', 'TotalSales', 'Quantity', and 'InvoiceDate' columns.\")\n",
    "\n",
    "    customer_summary = df.groupby('CustomerID').agg(\n",
    "        total_sales=('TotalSales', 'sum'),\n",
    "        total_quantity=('Quantity', 'sum'),\n",
    "        avg_sales_per_transaction=('TotalSales', 'mean'),\n",
    "        num_transactions=('InvoiceNo', 'nunique'),  # Count distinct transactions\n",
    "        first_purchase_date=('InvoiceDate', 'min'),\n",
    "        last_purchase_date=('InvoiceDate', 'max')\n",
    "    ).reset_index()\n",
    "    \n",
    "    return customer_summary"
   ]
  },
  {
   "cell_type": "markdown",
   "id": "5c641112-5057-47e3-8bda-d57a7f52c800",
   "metadata": {},
   "source": [
    "### Data Warehousing"
   ]
  },
  {
   "cell_type": "code",
   "execution_count": null,
   "id": "ceaf4e47-b7cb-4432-9c2a-f36b8263b185",
   "metadata": {},
   "outputs": [],
   "source": [
    "def create_customer_dimension(df):\n",
    "    \"\"\"\n",
    "    Creates a customer dimension table.\n",
    "    This includes CustomerID and other customer-related fields.\n",
    "    \"\"\"\n",
    "    # Grouping by CustomerID to get unique customer data\n",
    "    customer_dim = df[['CustomerID', 'Country']].drop_duplicates()\n",
    "\n",
    "    # Optionally, you can add more fields like customer name, address if available\n",
    "    # For now, we're keeping it simple with just CustomerID and Country\n",
    "    \n",
    "    return customer_dim"
   ]
  },
  {
   "cell_type": "code",
   "execution_count": null,
   "id": "0c7e98f2-9af3-4ea1-a4ff-f1d45592bbba",
   "metadata": {},
   "outputs": [],
   "source": [
    "def create_date_dimension(df):\n",
    "    \"\"\"\n",
    "    Creates a date dimension table.\n",
    "    This table includes detailed date information such as day, month, quarter, and year.\n",
    "    \"\"\"\n",
    "    # Create a Date Dimension table from the InvoiceDate column\n",
    "    date_dim = pd.DataFrame()\n",
    "\n",
    "    # Extract date parts\n",
    "    date_dim['Date'] = df['InvoiceDate'].dt.date\n",
    "    date_dim['Year'] = df['InvoiceDate'].dt.year\n",
    "    date_dim['Month'] = df['InvoiceDate'].dt.month\n",
    "    date_dim['Day'] = df['InvoiceDate'].dt.day\n",
    "    date_dim['Weekday'] = df['InvoiceDate'].dt.weekday\n",
    "    date_dim['Quarter'] = df['InvoiceDate'].dt.quarter\n",
    "\n",
    "    # Drop duplicates to make sure each date is unique\n",
    "    date_dim = date_dim.drop_duplicates()\n",
    "\n",
    "    return date_dim"
   ]
  },
  {
   "cell_type": "code",
   "execution_count": null,
   "id": "acab3339-cf87-479c-8f1b-e77add8760fa",
   "metadata": {},
   "outputs": [],
   "source": [
    "def create_product_dimension(df):\n",
    "    \"\"\"\n",
    "    Creates a product dimension table.\n",
    "    This table includes StockCode, Description, and possibly other product-related details.\n",
    "    \"\"\"\n",
    "    product_dim = df[['StockCode', 'Description']].drop_duplicates()\n",
    "    \n",
    "    return product_dim"
   ]
  },
  {
   "cell_type": "code",
   "execution_count": null,
   "id": "98f10141-7f99-4991-8d29-c6eb57629434",
   "metadata": {},
   "outputs": [],
   "source": [
    "def create_sales_fact(df):\n",
    "    \"\"\"\n",
    "    Creates a sales fact table.\n",
    "    This table includes the InvoiceNo, CustomerID, Quantity, UnitPrice, and InvoiceDate.\n",
    "    \"\"\"\n",
    "    # Calculate the Total Sales per transaction\n",
    "    df['TotalSales'] = df['Quantity'] * df['UnitPrice']\n",
    "    \n",
    "    # Create the Sales Fact table with relevant columns\n",
    "    sales_fact = df[['InvoiceNo', 'CustomerID', 'Quantity', 'UnitPrice', 'TotalSales', 'InvoiceDate']]\n",
    "    \n",
    "    return sales_fact"
   ]
  },
  {
   "cell_type": "markdown",
   "id": "a8e50a93-52f3-4df8-b06a-9cf284899a14",
   "metadata": {},
   "source": [
    "## ETL Pipeline"
   ]
  },
  {
   "cell_type": "code",
   "execution_count": 26,
   "id": "f1725aa2-0663-4dd2-9a41-ce0639818f81",
   "metadata": {},
   "outputs": [],
   "source": [
    "def etl_pipeline():\n",
    "    # Load the Excel file into the raw dataframe\n",
    "    raw_df = load_xlsx_data(\"../../data/raw/Online Retail.xlsx\")\n",
    "\n",
    "    # Perform datatype conversion for all the columns in the dataframe\n",
    "    df_converted = datatype_conversion(raw_df)\n",
    "\n",
    "    # Original Intent: Filter sales data to the last year assuming that the day is August 12 2025\n",
    "    # This is done immediately after datatype conversion since\n",
    "    # 1. Only this data will be saved to the database\n",
    "    # 2. It will minimise computational complexity\n",
    "    # 3. The last year is the time range of interest\n",
    "    # The functionality of the filter_last_year() function has been modified\n",
    "    # It filters for the last year starting at the last InvoiceDate\n",
    "    # This is done because there is no data from August 12 2024 to August 12 2025\n",
    "    # Actual Intent: Filter sales data for the last year starting at the last InvoiceDate\n",
    "    df_filtered = filter_last_year(df_converted)\n",
    "\n",
    "    # Check for missing values to cross validate the UCI ML statistics\n",
    "    # There should be no missing values\n",
    "    check_null_values(df_filtered)\n",
    "    \n",
    "    # Handle duplicates by dropping them if they exist\n",
    "    if check_duplicates(df_filtered):\n",
    "        df_no_duplicates = drop_duplicates(df_filtered)\n",
    "    else:\n",
    "        df_no_duplicates = df_filtered\n",
    "\n",
    "    # Handle outliers in the Quantity and UnitPrice columns\n",
    "    df_no_outliers = remove_outliers(df_no_duplicates)\n",
    "\n",
    "    # Compute the TotalSales Column\n",
    "    df_revenue = create_total_sales(df_no_outliers)\n",
    "\n",
    "    # Group data by the CustomerID\n",
    "    df_customer = aggregate_customer_summary(df_revenue)\n",
    "\n",
    "    return raw_df, df_customer"
   ]
  },
  {
   "cell_type": "code",
   "execution_count": 27,
   "id": "b31b6bb3-a19b-4f3b-9e47-8270b305848a",
   "metadata": {},
   "outputs": [
    {
     "name": "stdout",
     "output_type": "stream",
     "text": [
      "Stage: Before datatype conversion | Rows: 541909\n",
      "These are the columns to convert:\n",
      "\n",
      "['InvoiceNo', 'StockCode', 'Description', 'Quantity', 'InvoiceDate', 'UnitPrice', 'CustomerID', 'Country']\n",
      "InvoiceNo              object\n",
      "StockCode              object\n",
      "Description            object\n",
      "Quantity                Int64\n",
      "InvoiceDate    datetime64[ns]\n",
      "UnitPrice             float64\n",
      "CustomerID             object\n",
      "Country                object\n",
      "dtype: object\n",
      "Stage: After datatype conversion | Rows: 541909\n",
      "Stage: Before filtering to the last year sales | Rows: 541909\n",
      "Stage: After filtering to the last year sales | Rows: 521669\n",
      "No null values found in the dataframe.\n",
      "Duplicates found!\n",
      "Stage: Before dropping duplicates | Rows: 521669\n",
      "Stage: After dropping duplicates | Rows: 516717\n",
      "Stage: Before removing outliers | Rows: 516717\n",
      "Stage: After removing outliers | Rows: 505352\n",
      "Stage: Before creating TotalSales column | Rows: 505352\n",
      "Stage: After creating TotalSales column | Rows: 505352\n"
     ]
    }
   ],
   "source": [
    "original_df, customer_df = etl_pipeline()"
   ]
  },
  {
   "cell_type": "code",
   "execution_count": 28,
   "id": "28b4804d-b68c-476d-9f1f-dbeff40dbd08",
   "metadata": {},
   "outputs": [
    {
     "data": {
      "text/html": [
       "<div>\n",
       "<style scoped>\n",
       "    .dataframe tbody tr th:only-of-type {\n",
       "        vertical-align: middle;\n",
       "    }\n",
       "\n",
       "    .dataframe tbody tr th {\n",
       "        vertical-align: top;\n",
       "    }\n",
       "\n",
       "    .dataframe thead th {\n",
       "        text-align: right;\n",
       "    }\n",
       "</style>\n",
       "<table border=\"1\" class=\"dataframe\">\n",
       "  <thead>\n",
       "    <tr style=\"text-align: right;\">\n",
       "      <th></th>\n",
       "      <th>InvoiceNo</th>\n",
       "      <th>StockCode</th>\n",
       "      <th>Description</th>\n",
       "      <th>Quantity</th>\n",
       "      <th>InvoiceDate</th>\n",
       "      <th>UnitPrice</th>\n",
       "      <th>CustomerID</th>\n",
       "      <th>Country</th>\n",
       "    </tr>\n",
       "  </thead>\n",
       "  <tbody>\n",
       "    <tr>\n",
       "      <th>0</th>\n",
       "      <td>536365</td>\n",
       "      <td>85123A</td>\n",
       "      <td>WHITE HANGING HEART T-LIGHT HOLDER</td>\n",
       "      <td>6</td>\n",
       "      <td>2010-12-01 08:26:00</td>\n",
       "      <td>2.55</td>\n",
       "      <td>17850.0</td>\n",
       "      <td>United Kingdom</td>\n",
       "    </tr>\n",
       "    <tr>\n",
       "      <th>1</th>\n",
       "      <td>536365</td>\n",
       "      <td>71053</td>\n",
       "      <td>WHITE METAL LANTERN</td>\n",
       "      <td>6</td>\n",
       "      <td>2010-12-01 08:26:00</td>\n",
       "      <td>3.39</td>\n",
       "      <td>17850.0</td>\n",
       "      <td>United Kingdom</td>\n",
       "    </tr>\n",
       "    <tr>\n",
       "      <th>2</th>\n",
       "      <td>536365</td>\n",
       "      <td>84406B</td>\n",
       "      <td>CREAM CUPID HEARTS COAT HANGER</td>\n",
       "      <td>8</td>\n",
       "      <td>2010-12-01 08:26:00</td>\n",
       "      <td>2.75</td>\n",
       "      <td>17850.0</td>\n",
       "      <td>United Kingdom</td>\n",
       "    </tr>\n",
       "    <tr>\n",
       "      <th>3</th>\n",
       "      <td>536365</td>\n",
       "      <td>84029G</td>\n",
       "      <td>KNITTED UNION FLAG HOT WATER BOTTLE</td>\n",
       "      <td>6</td>\n",
       "      <td>2010-12-01 08:26:00</td>\n",
       "      <td>3.39</td>\n",
       "      <td>17850.0</td>\n",
       "      <td>United Kingdom</td>\n",
       "    </tr>\n",
       "    <tr>\n",
       "      <th>4</th>\n",
       "      <td>536365</td>\n",
       "      <td>84029E</td>\n",
       "      <td>RED WOOLLY HOTTIE WHITE HEART.</td>\n",
       "      <td>6</td>\n",
       "      <td>2010-12-01 08:26:00</td>\n",
       "      <td>3.39</td>\n",
       "      <td>17850.0</td>\n",
       "      <td>United Kingdom</td>\n",
       "    </tr>\n",
       "  </tbody>\n",
       "</table>\n",
       "</div>"
      ],
      "text/plain": [
       "  InvoiceNo StockCode                          Description  Quantity  \\\n",
       "0    536365    85123A   WHITE HANGING HEART T-LIGHT HOLDER         6   \n",
       "1    536365     71053                  WHITE METAL LANTERN         6   \n",
       "2    536365    84406B       CREAM CUPID HEARTS COAT HANGER         8   \n",
       "3    536365    84029G  KNITTED UNION FLAG HOT WATER BOTTLE         6   \n",
       "4    536365    84029E       RED WOOLLY HOTTIE WHITE HEART.         6   \n",
       "\n",
       "          InvoiceDate  UnitPrice  CustomerID         Country  \n",
       "0 2010-12-01 08:26:00       2.55     17850.0  United Kingdom  \n",
       "1 2010-12-01 08:26:00       3.39     17850.0  United Kingdom  \n",
       "2 2010-12-01 08:26:00       2.75     17850.0  United Kingdom  \n",
       "3 2010-12-01 08:26:00       3.39     17850.0  United Kingdom  \n",
       "4 2010-12-01 08:26:00       3.39     17850.0  United Kingdom  "
      ]
     },
     "execution_count": 28,
     "metadata": {},
     "output_type": "execute_result"
    }
   ],
   "source": [
    "original_df.head(5)"
   ]
  },
  {
   "cell_type": "code",
   "execution_count": 29,
   "id": "a8a369d1-e882-4608-92a0-da680c127407",
   "metadata": {},
   "outputs": [
    {
     "data": {
      "text/html": [
       "<div>\n",
       "<style scoped>\n",
       "    .dataframe tbody tr th:only-of-type {\n",
       "        vertical-align: middle;\n",
       "    }\n",
       "\n",
       "    .dataframe tbody tr th {\n",
       "        vertical-align: top;\n",
       "    }\n",
       "\n",
       "    .dataframe thead th {\n",
       "        text-align: right;\n",
       "    }\n",
       "</style>\n",
       "<table border=\"1\" class=\"dataframe\">\n",
       "  <thead>\n",
       "    <tr style=\"text-align: right;\">\n",
       "      <th></th>\n",
       "      <th>CustomerID</th>\n",
       "      <th>total_sales</th>\n",
       "      <th>total_quantity</th>\n",
       "      <th>avg_sales_per_transaction</th>\n",
       "      <th>num_transactions</th>\n",
       "      <th>first_purchase_date</th>\n",
       "      <th>last_purchase_date</th>\n",
       "    </tr>\n",
       "  </thead>\n",
       "  <tbody>\n",
       "    <tr>\n",
       "      <th>0</th>\n",
       "      <td>12346.0</td>\n",
       "      <td>77183.6</td>\n",
       "      <td>74215</td>\n",
       "      <td>77183.6</td>\n",
       "      <td>1</td>\n",
       "      <td>2011-01-18 10:01:00</td>\n",
       "      <td>2011-01-18 10:01:00</td>\n",
       "    </tr>\n",
       "    <tr>\n",
       "      <th>1</th>\n",
       "      <td>12347.0</td>\n",
       "      <td>3598.21</td>\n",
       "      <td>2139</td>\n",
       "      <td>23.829205</td>\n",
       "      <td>6</td>\n",
       "      <td>2011-01-26 14:30:00</td>\n",
       "      <td>2011-12-07 15:52:00</td>\n",
       "    </tr>\n",
       "    <tr>\n",
       "      <th>2</th>\n",
       "      <td>12348.0</td>\n",
       "      <td>1797.24</td>\n",
       "      <td>2341</td>\n",
       "      <td>57.975484</td>\n",
       "      <td>4</td>\n",
       "      <td>2010-12-16 19:09:00</td>\n",
       "      <td>2011-09-25 13:13:00</td>\n",
       "    </tr>\n",
       "    <tr>\n",
       "      <th>3</th>\n",
       "      <td>12349.0</td>\n",
       "      <td>1757.55</td>\n",
       "      <td>631</td>\n",
       "      <td>24.076027</td>\n",
       "      <td>1</td>\n",
       "      <td>2011-11-21 09:51:00</td>\n",
       "      <td>2011-11-21 09:51:00</td>\n",
       "    </tr>\n",
       "    <tr>\n",
       "      <th>4</th>\n",
       "      <td>12350.0</td>\n",
       "      <td>334.4</td>\n",
       "      <td>197</td>\n",
       "      <td>19.670588</td>\n",
       "      <td>1</td>\n",
       "      <td>2011-02-02 16:01:00</td>\n",
       "      <td>2011-02-02 16:01:00</td>\n",
       "    </tr>\n",
       "  </tbody>\n",
       "</table>\n",
       "</div>"
      ],
      "text/plain": [
       "  CustomerID  total_sales  total_quantity  avg_sales_per_transaction  \\\n",
       "0    12346.0      77183.6           74215                    77183.6   \n",
       "1    12347.0      3598.21            2139                  23.829205   \n",
       "2    12348.0      1797.24            2341                  57.975484   \n",
       "3    12349.0      1757.55             631                  24.076027   \n",
       "4    12350.0        334.4             197                  19.670588   \n",
       "\n",
       "   num_transactions first_purchase_date  last_purchase_date  \n",
       "0                 1 2011-01-18 10:01:00 2011-01-18 10:01:00  \n",
       "1                 6 2011-01-26 14:30:00 2011-12-07 15:52:00  \n",
       "2                 4 2010-12-16 19:09:00 2011-09-25 13:13:00  \n",
       "3                 1 2011-11-21 09:51:00 2011-11-21 09:51:00  \n",
       "4                 1 2011-02-02 16:01:00 2011-02-02 16:01:00  "
      ]
     },
     "execution_count": 29,
     "metadata": {},
     "output_type": "execute_result"
    }
   ],
   "source": [
    "customer_df.head(5)"
   ]
  }
 ],
 "metadata": {
  "kernelspec": {
   "display_name": "Python 3 (ipykernel)",
   "language": "python",
   "name": "python3"
  },
  "language_info": {
   "codemirror_mode": {
    "name": "ipython",
    "version": 3
   },
   "file_extension": ".py",
   "mimetype": "text/x-python",
   "name": "python",
   "nbconvert_exporter": "python",
   "pygments_lexer": "ipython3",
   "version": "3.13.5"
  }
 },
 "nbformat": 4,
 "nbformat_minor": 5
}
